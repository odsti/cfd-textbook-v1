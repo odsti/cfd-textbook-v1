{
 "cells": [
  {
   "cell_type": "markdown",
   "id": "494e795c",
   "metadata": {},
   "source": [
    "# The magic of 2 by 2 tables"
   ]
  },
  {
   "cell_type": "code",
   "execution_count": null,
   "id": "f4542abd",
   "metadata": {},
   "outputs": [],
   "source": [
    "# Our usual imports\n",
    "import numpy as np\n",
    "# Make random number generator.\n",
    "rng = np.random.default_rng()\n",
    "import pandas as pd\n",
    "# Safe setting for Pandas.  Needs Pandas version >= 1.5.\n",
    "pd.set_option('mode.copy_on_write', True)"
   ]
  },
  {
   "cell_type": "code",
   "execution_count": null,
   "id": "0cc59393",
   "metadata": {
    "tags": [
     "hide-cell"
    ]
   },
   "outputs": [],
   "source": [
    "# HIDDEN\n",
    "# An extra tweak to make sure we always get the same random numbers.\n",
    "# We need the same set of random numbers to match the illustrations below.\n",
    "# Do not use this in your own code; you nearly always want an unpredictable\n",
    "# stream of random numbers.  Making them predictable in this way only makes\n",
    "# sense for a very limited range of things, like tutorials and tests.\n",
    "# As you can see, we replace the usual random number generator we\n",
    "# made above, with another one with predictable random numbers.\n",
    "rng = np.random.default_rng(seed=1966)"
   ]
  },
  {
   "cell_type": "markdown",
   "id": "452dde99",
   "metadata": {},
   "source": [
    "At the end of the [noble politics](noble_politics) page, you came across an\n",
    "enigma, from analyzing two by two tables of counts.\n",
    "\n",
    "This page shows you another version of that enigma, and gives a few\n",
    "explanations for these strange effects.\n",
    "\n",
    "To start with, we make a simple data frame, where each row corresponds\n",
    "to a person.  Each person, and therefore, each row, has two labels.  If you\n",
    "have read the Noble Politics page, you will see what inspired this example.\n",
    "\n",
    "The first label for each person, called \"Party\" can be either \"Yes\", or \"No\".\n",
    "\n",
    "The second label for each person, called \"Respondent\", can be either \"R\" or\n",
    "\"B\".\n",
    "\n",
    "Here is our data frame from scratch:"
   ]
  },
  {
   "cell_type": "code",
   "execution_count": null,
   "id": "d13c4a48",
   "metadata": {
    "tags": [
     "hide-input"
    ]
   },
   "outputs": [],
   "source": [
    "# Create a data frame from scratch with some data.\n",
    "people = pd.DataFrame([[\"Yes\", \"R\"],\n",
    "                       [\"Yes\", \"R\"],\n",
    "                       [\"Yes\",\"R\"],\n",
    "                       [\"No\", \"R\"],\n",
    "                       [\"No\", \"R\"],\n",
    "                       [\"Yes\",\"B\"],\n",
    "                       [\"Yes\",\"B\"],\n",
    "                       [\"No\",\"B\"]],\n",
    "                       columns = ['Respondent', 'Party'])\n",
    "# Show the result\n",
    "people"
   ]
  },
  {
   "cell_type": "markdown",
   "id": "2fd4b016",
   "metadata": {},
   "source": [
    "We can ask Pandas to make a 2 by 2 table of counts, for these labels.  Each\n",
    "entry in the table gives the number of times the combination of labels occurs.\n",
    "For example, the cell in the \"Yes\" row, \"R\" column gives the number of rows in\n",
    "the original table that have a \"Yes\" label for \"Party\" *and* a \"R\" label for\n",
    "\"Respondent\".  Call this the *Yes-with-R* cell."
   ]
  },
  {
   "cell_type": "code",
   "execution_count": null,
   "id": "ac0f6c3e",
   "metadata": {},
   "outputs": [],
   "source": [
    "two_by_two = pd.crosstab(people['Party'], people['Respondent'])\n",
    "two_by_two"
   ]
  },
  {
   "cell_type": "markdown",
   "id": "f0b4546d",
   "metadata": {},
   "source": [
    "You might want to confirm these counts.  You should see that there are in fact\n",
    "3 rows which have both the \"Yes\" label and the \"R\" label, and this matches the\n",
    "bottom right entry in the `pd.crosstab` table.\n",
    "\n",
    "We can add the row and column totals to this table, with some fancy Pandas\n",
    "code (unhide the code in this page, or see the notebook version for details):"
   ]
  },
  {
   "cell_type": "code",
   "execution_count": null,
   "id": "092635fc",
   "metadata": {
    "tags": [
     "hide-cell"
    ]
   },
   "outputs": [],
   "source": [
    "# Fancy code for adding row / column totals, giving them colors.\n",
    "from matplotlib.colors import ListedColormap\n",
    "\n",
    "PALE_GREY = ListedColormap([0.8, 0.8, 0.8])\n",
    "MID_GREY = ListedColormap([0.6, 0.6, 0.6])\n",
    "\n",
    "def with_margins(df):\n",
    "    \"\"\" Data frame displayed with row, column totals added, colored.\n",
    "    \"\"\"\n",
    "    # Add row totals to copy of data frame.\n",
    "    row_totals = pd.DataFrame([df.sum()], index=['Row totals'])\n",
    "    df_margins = pd.concat([df, row_totals])\n",
    "    # Add column totals.\n",
    "    df_o = df_margins.assign(**{'Col totals': df_margins.sum(axis='columns')})\n",
    "    # Set colors for row, column totals.\n",
    "    styler = df_o.style.background_gradient(subset='Col totals', cmap=PALE_GREY)\n",
    "    styler = styler.background_gradient(subset=('Row totals',), cmap=PALE_GREY)\n",
    "    styler = styler.background_gradient(subset=('Row totals', 'Col totals'),\n",
    "                                                cmap=MID_GREY)\n",
    "    return styler"
   ]
  },
  {
   "cell_type": "code",
   "execution_count": null,
   "id": "ee276681",
   "metadata": {},
   "outputs": [],
   "source": [
    "# Display the table with colors, using fancy plotting function.\n",
    "with_margins(two_by_two)"
   ]
  },
  {
   "cell_type": "markdown",
   "id": "08562381",
   "metadata": {},
   "source": [
    "Now let's say we want to create a random association between the \"Party\"\n",
    "(Yes/No) column and the \"Respondent\" (R/B) column.   We can do that by\n",
    "shuffling (permuting) the Yes/No values, and recreating the table, like this:"
   ]
  },
  {
   "cell_type": "code",
   "execution_count": null,
   "id": "b063ff4c",
   "metadata": {},
   "outputs": [],
   "source": [
    "parties = people['Party']\n",
    "respondents = people['Respondent']\n",
    "permuted_tab_1 = pd.crosstab(rng.permutation(parties), respondents)\n",
    "with_margins(permuted_tab_1)"
   ]
  },
  {
   "cell_type": "markdown",
   "id": "90154e9e",
   "metadata": {},
   "source": [
    "Note that I could have shuffled the \"Respondent\" labels instead, or both sets\n",
    "of labels - any of these operations creates what we want - which is a random\n",
    "association between the \"Party\" and \"Respondent\" labels.\n",
    "\n",
    "Let's make another few of those random tables:"
   ]
  },
  {
   "cell_type": "code",
   "execution_count": null,
   "id": "0f62ceff",
   "metadata": {},
   "outputs": [],
   "source": [
    "permuted_tab_2 = pd.crosstab(rng.permutation(parties), respondents)\n",
    "with_margins(permuted_tab_2)"
   ]
  },
  {
   "cell_type": "code",
   "execution_count": null,
   "id": "80fffdcf",
   "metadata": {},
   "outputs": [],
   "source": [
    "permuted_tab_3 = pd.crosstab(rng.permutation(parties), respondents)\n",
    "with_margins(permuted_tab_3)"
   ]
  },
  {
   "cell_type": "markdown",
   "id": "0f2546dc",
   "metadata": {},
   "source": [
    "You will see that, if the top left value goes up, or down, compared to the\n",
    "original table, then the bottom right value goes up, or down, by the same\n",
    "amount.  Use `c` to mean the change in the top-left value from the original.\n",
    "The original value for that element was 1, so if the new value is 0, $c = -1$.\n",
    "If the new value was 2, then $c = 1$.\n",
    "\n",
    "You will also see that the bottom left value goes *down* by the same amount as\n",
    "the top left value goes up.  If the top left value goes *up* by $c$, then the\n",
    "bottom left value does *down* by $c$.\n",
    "\n",
    "All the values in the table appear to be linked, and move in lock-step.\n",
    "\n",
    "Notice too that the column and row totals do not — and in fact cannot —\n",
    "change, whatever the association of the R/B and Yes/No labels, for reasons we go into below.\n",
    "\n",
    "This is another version of the enigma you saw at the end of the [Noble\n",
    "Politics](noble_politics) page."
   ]
  },
  {
   "cell_type": "markdown",
   "id": "c2371272",
   "metadata": {},
   "source": [
    "## Why are the table values linked?"
   ]
  },
  {
   "cell_type": "markdown",
   "id": "057edfb4",
   "metadata": {},
   "source": [
    "### Explanation 1: the row and column totals cannot change\n",
    "\n",
    "The first explanation for the relationship between the values is — the total\n",
    "counts over the rows and columns are fixed.\n",
    "\n",
    "They are fixed because they depend only on the labels, not on the relationship of the labels.   So, we cannot change the counts over rows or columns by shuffling the order of either or both set of labels.\n",
    "\n",
    "For example, consider the sum of counts over columns.  In our example, the\n",
    "columns are for \"B\" and \"R\", and the column sums of the counts are the total\n",
    "number of \"B\" and \"R\" labels.\n",
    "\n",
    "By shuffling the order of the labels, we can change the number in the\n",
    "B-with-Yes cell, but we can't change the total number of \"B\" labels, so, if\n",
    "the B-with-Yes number increases, the B-with-No number has to decrease by the\n",
    "same amount.\n",
    "\n",
    "The same argument applies for the row totals.\n",
    "\n",
    "You may now see that, if you give me the value for any one of the four\n",
    "elements in the table, I can fill in the rest, because they follow from the\n",
    "fact that I know what the rows and columns have to add up to."
   ]
  },
  {
   "cell_type": "markdown",
   "id": "981545d6",
   "metadata": {},
   "source": [
    "### Explanation 2: what goes up, must come down\n",
    "\n",
    "Here we think about what happens as we permute the Yes/No labels.  The same\n",
    "argument applies to permuting the R/B labels, and in fact, to permuting both\n",
    "the labels.\n",
    "\n",
    "Consider the original table."
   ]
  },
  {
   "cell_type": "code",
   "execution_count": null,
   "id": "8b0e396c",
   "metadata": {},
   "outputs": [],
   "source": [
    "with_margins(two_by_two)"
   ]
  },
  {
   "cell_type": "markdown",
   "id": "30bec132",
   "metadata": {},
   "source": [
    "Now consider permutations in the order of the Yes/No column of the original\n",
    "table.  We will just permute the first \"Yes\", for now.\n",
    "\n",
    "Imagine the first \"Yes\" gets swapped with the \"Yes\" in one of the other \"R\",\n",
    "\"Yes\" rows.  We still end up with the same two by two counts table.\n",
    "\n",
    "Next swap the first \"Yes\" with the \"No\" in one of the \"R\", \"No\" rows.  The\n",
    "first row is \"R\", \"No\" but the other row has now become \"R\", \"Yes\", we still\n",
    "have the same number of \"R\", \"Yes\" and \"R\", \"No\", and the counts table doesn't\n",
    "change.\n",
    "\n",
    "Now swap the first \"Yes\" with the \"Yes\" in one of the \"B\", \"Yes\" rows.  We\n",
    "still have the same number of \"R\", \"Yes\" and \"B\", \"Yes\" rows, just in a\n",
    "different row order, and the counts table doesn't change.\n",
    "\n",
    "Last, we swap the first \"Yes\" with the \"No\" in one of the \"B\", \"No\" rows. Now,\n",
    "for the first time, the counts table does change, like this:"
   ]
  },
  {
   "cell_type": "code",
   "execution_count": null,
   "id": "d6277c32",
   "metadata": {
    "tags": [
     "hide-input"
    ]
   },
   "outputs": [],
   "source": [
    "# The data frame with first \"Yes\" permuted to last row.\n",
    "perm_people = pd.DataFrame([[\"No\", \"R\"],\n",
    "                            [\"Yes\", \"R\"],\n",
    "                            [\"Yes\",\"R\"],\n",
    "                            [\"No\", \"R\"],\n",
    "                            [\"No\", \"R\"],\n",
    "                            [\"Yes\",\"B\"],\n",
    "                            [\"Yes\",\"B\"],\n",
    "                            [\"Yes\",\"B\"]],\n",
    "                            columns = ['Respondent', 'Party'])\n",
    "perm_people"
   ]
  },
  {
   "cell_type": "markdown",
   "id": "0f413278",
   "metadata": {},
   "source": [
    "Here is the cross-tabulation for that case:"
   ]
  },
  {
   "cell_type": "code",
   "execution_count": null,
   "id": "d220f496",
   "metadata": {
    "tags": [
     "hide-input"
    ]
   },
   "outputs": [],
   "source": [
    "perm_crosstab = pd.crosstab(perm_people['Party'], perm_people['Respondent'])\n",
    "with_margins(perm_crosstab)"
   ]
  },
  {
   "cell_type": "markdown",
   "id": "aaeba900",
   "metadata": {},
   "source": [
    "When we do this single change, we have:\n",
    "\n",
    "* One less \"R\", \"Yes\" row (bottom-right count goes down by 1)\n",
    "* One less \"B\", \"No\" row (top-left count down by 1)\n",
    "* One more \"R\", \"No\" row (bottom-left count up by 1)\n",
    "* One more \"B\", \"Yes\" row (top-right count up by 1)\n",
    "\n",
    "As we permute the \"Yes\", \"No\" labels, we either leave the total number of\n",
    "unique \"R/B\", \"Yes/No\" pairings unchanged, or we change the number of all the\n",
    "pairings at once."
   ]
  }
 ],
 "metadata": {
  "jupytext": {
   "notebook_metadata_filter": "all,-language_info",
   "split_at_heading": true
  },
  "kernelspec": {
   "display_name": "Python (Pyodide)",
   "name": "python"
  },
  "orphan": true
 },
 "nbformat": 4,
 "nbformat_minor": 5
}
