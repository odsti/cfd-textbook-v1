{
 "cells": [
  {
   "cell_type": "markdown",
   "id": "78e87845",
   "metadata": {},
   "source": [
    "# The law of large numbers"
   ]
  },
  {
   "cell_type": "code",
   "execution_count": null,
   "id": "121063b1",
   "metadata": {
    "tags": [
     "hide-cell"
    ]
   },
   "outputs": [],
   "source": [
    "# Don't change this cell; just run it.\n",
    "import numpy as np\n",
    "# Make random number generator.\n",
    "rng = np.random.default_rng()\n",
    "import matplotlib.pyplot as plt\n",
    "# Make the plots look more fancy.\n",
    "plt.style.use('fivethirtyeight')"
   ]
  },
  {
   "cell_type": "markdown",
   "id": "791b15fc",
   "metadata": {},
   "source": [
    "You have already seen the [law of large\n",
    "numbers](https://en.wikipedia.org/wiki/Law_of_large_numbers) in action, in the\n",
    "[central limit theorem page](Central_Limit_Theorem).\n",
    "\n",
    "The law of large numbers says that, as you take larger and larger samples from\n",
    "a population, the value of some statistic (such as the mean) from the sample\n",
    "will get closer and closer to the same statistic calculated from the\n",
    "population.\n",
    "\n",
    "In this page, we look at probabilities and proportions.\n",
    "\n",
    "Consider the set up in the [Laws of Probability](laws_of_probability) page.  In that set up, we had a car park with 100 cars, of which 30 were red."
   ]
  },
  {
   "cell_type": "code",
   "execution_count": null,
   "id": "b152e5e3",
   "metadata": {},
   "outputs": [],
   "source": [
    "p_red = 30 / 100"
   ]
  },
  {
   "cell_type": "markdown",
   "id": "664d62ad",
   "metadata": {},
   "source": [
    "Now let's consider another variant.  Now we have a huge car park.  Let's say we\n",
    "consider the [largest car park in the\n",
    "world](https://www.guinnessworldrecords.com/world-records/largest-car-park),\n",
    "with 20,000 spaces, in West Edmonton Mall, Edmonton, Alberta.\n",
    "\n",
    "Again, we assume that there is an equal likelihood of any one car in the car\n",
    "park leaving next.\n",
    "\n",
    "This time though, pretend we don't know the proportion of red cars.   We want\n",
    "to estimate that proportion by looking at a sample of cars leaving the car\n",
    "park.\n",
    "\n",
    "In fact — although we don't know this (wink) — the actual proportion in the full 20,000 car park is 30%"
   ]
  },
  {
   "cell_type": "code",
   "execution_count": null,
   "id": "765a0e0b",
   "metadata": {},
   "outputs": [],
   "source": [
    "p_red = 0.3\n",
    "p_not_red = 0.7"
   ]
  },
  {
   "cell_type": "markdown",
   "id": "f9e27b92",
   "metadata": {},
   "source": [
    "The car park is huge.  We are going to take samples of around 100 or 1000 cars.\n",
    "Let's assume that the car park is so big, that even after taking a sample of\n",
    "999 cars, the probability for the next car being red or not red is the same (it\n",
    "won't be, exactly, but near enough).  So, we'll draw our samples of cars *with\n",
    "replacement*, just to make things easier to think about, as if the car had gone\n",
    "out, entered our sample, and gone back in again, to become one of the 20,000\n",
    "cars that can be next in our sample.\n",
    "\n",
    "Here we think about what happens as we take samples with larger and larger\n",
    "number of cars, and take the proportion (this is also an average) of reds in\n",
    "the sample.\n",
    "\n",
    "The law of large numbers says that, as we take more samples of the cars, the\n",
    "proportion of reds in the sample will get closer and closer to the probability\n",
    "of getting red on any one trial.\n",
    "\n",
    "Let's start by taking samples of 100 cars.  One sample will be one *trial*.\n",
    "\n",
    "Here's one trial, taking 100 cars:"
   ]
  },
  {
   "cell_type": "code",
   "execution_count": null,
   "id": "b38c5db3",
   "metadata": {},
   "outputs": [],
   "source": [
    "cars = rng.choice(['red', 'not_red'],\n",
    "                   p=[p_red, p_not_red],\n",
    "                   size=100)\n",
    "prop = np.count_nonzero(cars == 'red') / 100\n",
    "print('Proportion of red', prop)"
   ]
  },
  {
   "cell_type": "markdown",
   "id": "8b7cce57",
   "metadata": {},
   "source": [
    "Now we run 1000 trials.  On each trial we get 100 cars, and record the\n",
    "proportion of red.  Finally we show the spread of proportions that we get."
   ]
  },
  {
   "cell_type": "code",
   "execution_count": null,
   "id": "e01e5b8b",
   "metadata": {},
   "outputs": [],
   "source": [
    "n_iters = 10000\n",
    "n_cars = 100\n",
    "props = np.zeros(n_iters)\n",
    "for i in np.arange(n_iters):\n",
    "    samples = rng.choice(['red', 'not_red'],\n",
    "                         p=[p_red, p_not_red],\n",
    "                         size=n_cars)\n",
    "    props[i] = np.count_nonzero(samples == 'red') / n_cars\n",
    "# Define the bins for the histogram to make them comparable across n_cars\n",
    "plt.hist(props, bins=np.arange(0.15, 0.45, 0.01))\n",
    "plt.xlabel('Proportions')\n",
    "plt.title('Proportions for p=0.3, ' +  str(n_cars) + ' samples');"
   ]
  },
  {
   "cell_type": "markdown",
   "id": "f05f30e5",
   "metadata": {},
   "source": [
    "Because we want to repeat this several times with different numbers of cars, we make the code above into a function:"
   ]
  },
  {
   "cell_type": "code",
   "execution_count": null,
   "id": "82479972",
   "metadata": {},
   "outputs": [],
   "source": [
    "def show_proportions(n_cars, n_iters=10000):\n",
    "    props = np.zeros(n_iters)\n",
    "    for i in np.arange(n_iters):\n",
    "        samples = rng.choice(['red', 'not_red'],\n",
    "                              p=[p_red, p_not_red],\n",
    "                              size=n_cars)\n",
    "        props[i] = np.count_nonzero(samples == 'red') / n_cars\n",
    "    # Define the bins for the histogram to make them comparable across n_cars\n",
    "    plt.hist(props, bins=np.arange(0.15, 0.45, 0.01))\n",
    "    plt.xlabel('Proportions')\n",
    "    plt.title('Proportions for p=0.3, ' +  str(n_cars) + ' samples');"
   ]
  },
  {
   "cell_type": "markdown",
   "id": "fa727ade",
   "metadata": {},
   "source": [
    "Here is the spread (distribution) we saw above, for 100 car samples, but using\n",
    "the function."
   ]
  },
  {
   "cell_type": "code",
   "execution_count": null,
   "id": "f2f35e74",
   "metadata": {},
   "outputs": [],
   "source": [
    "show_proportions(100)"
   ]
  },
  {
   "cell_type": "markdown",
   "id": "5ab77975",
   "metadata": {},
   "source": [
    "The law of large numbers says that, the larger the number of cars in our\n",
    "sample, the closer the proportions become, to the expected proportion — which\n",
    "is the probability, 0.3.\n",
    "\n",
    "Here we increase the number of cars in the sample to 1000."
   ]
  },
  {
   "cell_type": "code",
   "execution_count": null,
   "id": "4930ead3",
   "metadata": {},
   "outputs": [],
   "source": [
    "show_proportions(1000)"
   ]
  },
  {
   "cell_type": "markdown",
   "id": "ef7137af",
   "metadata": {},
   "source": [
    "Notice that the distribution has got considerably tighter; the proportions do still vary from trial to trial, but they vary less than for the case with 100 cars, and they are, on average, a lot close to the expected value of 0.3.\n",
    "\n",
    "Here is the result of trials taking proportions of 10000 cars:"
   ]
  },
  {
   "cell_type": "code",
   "execution_count": null,
   "id": "c75e3fbc",
   "metadata": {},
   "outputs": [],
   "source": [
    "show_proportions(10000)"
   ]
  },
  {
   "cell_type": "markdown",
   "id": "cea24a69",
   "metadata": {},
   "source": [
    "Now the distribution is getting very tight around the expected value.\n",
    "\n",
    "In fact, the law of large numbers tells us that, as the number of cars in our\n",
    "sample gets very high, the proportion of red in the sample gets very close\n",
    "to 0.3.\n",
    "\n",
    "Another way of saying this, is that *in the long run*, if we take huge numbers\n",
    "of cars in our sample, our proportions will get closer and closer to the\n",
    "probability on the single trial — of 0.3.\n",
    "\n",
    "One useful way to think of this, is of each individual car in the sample\n",
    "*flowing* along one of two paths.  There is a probability of 0.3 that the car\n",
    "will flow along the red path, and a probability of 0.7 that it will flow\n",
    "along the not_red path. *In the long* run, 30% of the cars end up at the end of\n",
    "the red path, and 70% of trials end up at the end of the not_red path.\n",
    "\n",
    "![](images/red_first_sankey.png)\n",
    "\n",
    "These diagrams of *flow* can be called [Sankey\n",
    "diagrams](https://en.wikipedia.org/wiki/Sankey_diagram).  They are useful for\n",
    "thinking about probability."
   ]
  }
 ],
 "metadata": {
  "jupytext": {
   "notebook_metadata_filter": "all,-language_info",
   "split_at_heading": true
  },
  "kernelspec": {
   "display_name": "Python (Pyodide)",
   "name": "python"
  }
 },
 "nbformat": 4,
 "nbformat_minor": 5
}
