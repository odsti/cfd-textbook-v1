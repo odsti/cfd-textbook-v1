{
 "cells": [
  {
   "cell_type": "markdown",
   "id": "724dd3e4",
   "metadata": {},
   "source": [
    "# The mean and slopes\n",
    "\n",
    "In [The Mean as Predictor](mean_meaning), we found that the mean had some good\n",
    "properties as a single best predictor for a whole distribution.\n",
    "\n",
    "* The mean gives a total prediction error of zero.  Put otherwise, on average,\n",
    "  your prediction error is zero.\n",
    "* The mean gives the lowest squared error.  Put otherwise, the mean gives the\n",
    "  lowest average squared difference from the observed value.\n",
    "\n",
    "Now we can consider what predictor we should use when predicting one set of values, from a different set of values.\n",
    "\n",
    "We load our usual libraries."
   ]
  },
  {
   "cell_type": "code",
   "execution_count": null,
   "id": "2ab69387",
   "metadata": {},
   "outputs": [],
   "source": [
    "import numpy as np\n",
    "import matplotlib.pyplot as plt\n",
    "# Make plots look a little bit more fancy\n",
    "plt.style.use('fivethirtyeight')\n",
    "# Print to 4 decimal places, show tiny values as 0\n",
    "np.set_printoptions(precision=4, suppress=True)\n",
    "import pandas as pd\n",
    "pd.set_option('mode.copy_on_write', True)"
   ]
  },
  {
   "cell_type": "markdown",
   "id": "c2147430",
   "metadata": {},
   "source": [
    "We start with some [data on chronic kidney\n",
    "disease](data/chronic_kidney_disease).\n",
    "\n",
    "Download the data to your computer via this link:\n",
    "{download}`ckd_clean.csv <data/ckd_clean.csv>`.\n",
    "\n",
    "This is a data table with one row per patient and one column per test on that\n",
    "patient.  Many of columns are values from blood tests.  Most of the patients\n",
    "have chronic kidney disease.\n",
    "\n",
    "To make things a bit easier this dataset is a version from which we have already dropped all missing values.  See the dataset page linked above for more detail."
   ]
  },
  {
   "cell_type": "code",
   "execution_count": null,
   "id": "1e300b43",
   "metadata": {},
   "outputs": [],
   "source": [
    "# Run this cell\n",
    "ckd = pd.read_csv('data/ckd_clean.csv')\n",
    "ckd.head()"
   ]
  },
  {
   "cell_type": "markdown",
   "id": "a298121f",
   "metadata": {},
   "source": [
    "We are interested in two columns from this data frame, \"Packed Cell Volume\" and \"Hemoglobin\".\n",
    "\n",
    "[Packed Cell Volume](https://en.wikipedia.org/wiki/Hematocrit) (PCV) is a\n",
    "measurement of the percentage of blood volume taken up by red blood cells.  It\n",
    "is a measurement of anemia, and anemia is a common consequence of chronic\n",
    "kidney disease."
   ]
  },
  {
   "cell_type": "code",
   "execution_count": null,
   "id": "3e31bf5c",
   "metadata": {},
   "outputs": [],
   "source": [
    "# Get the packed cell volume values as an array, for simplicity.\n",
    "pcv = np.array(ckd['Packed Cell Volume'])\n",
    "# Show the distribution.\n",
    "plt.hist(pcv)\n",
    "plt.title('Packed Cell Volume');"
   ]
  },
  {
   "cell_type": "markdown",
   "id": "a4cc9276",
   "metadata": {},
   "source": [
    "\"Hemoglobin\" (HGB) is the concentration of the\n",
    "[hemoglobin](https://en.wikipedia.org/wiki/Hemoglobin) molecule in blood, in\n",
    "grams per deciliter.  Hemoglobin is the iron-containing protein in red blood\n",
    "cells that carries oxygen to the tissues."
   ]
  },
  {
   "cell_type": "code",
   "execution_count": null,
   "id": "59cc5eed",
   "metadata": {},
   "outputs": [],
   "source": [
    "# Get the hemoglobin concentration values as an array.\n",
    "hgb = np.array(ckd['Hemoglobin'])\n",
    "# Show the distribution.\n",
    "plt.hist(hgb)\n",
    "plt.title('Hemoglobin');"
   ]
  },
  {
   "cell_type": "markdown",
   "id": "c50c69a8",
   "metadata": {},
   "source": [
    "## Looking for straight lines\n",
    "\n",
    "The [Wikipedia page for PCV](https://en.wikipedia.org/wiki/Hematocrit) says (at\n",
    "the time of writing):\n",
    "\n",
    "> An estimated hematocrit as a percentage may be derived by tripling the\n",
    "> hemoglobin concentration in g/dL and dropping the units.\n",
    "> [source](https://www.doctorslounge.com/hematology/labs/hematocrit.htm).\n",
    "\n",
    "This rule-of-thumb suggests that the values for PCV will be roughly three times\n",
    "the values for HGB.\n",
    "\n",
    "Therefore, if we plot the HGB values on the x-axis of a plot, and the PCV\n",
    "values on the y-axis, we should see something that is roughly compatible with a\n",
    "straight line going through 0, 0, and with a slope of about 3.\n",
    "\n",
    "Here is the plot.  This time, for fun, we add a label to the X and Y axes with\n",
    "`xlabel` and `ylabel`."
   ]
  },
  {
   "cell_type": "code",
   "execution_count": null,
   "id": "a3662e01",
   "metadata": {},
   "outputs": [],
   "source": [
    "# Plot HGB on the x axis, PCV on the y axis\n",
    "plt.plot(hgb, pcv, 'o')\n",
    "plt.xlabel('Hemoglobin concentration')\n",
    "plt.ylabel('Packed cell volume');"
   ]
  },
  {
   "cell_type": "markdown",
   "id": "fe83a8ef",
   "metadata": {},
   "source": [
    "The `'o'` argument to the plot function above is a \"plot marker\".  It tells\n",
    "Matplotlib to plot the points as points, rather than joining them with lines.\n",
    "The markers for the points will be filled circles, with `'o'`, but we can also\n",
    "ask for other symbols such as plus marks (with `'+'`) and crosses (with `'x'`).\n",
    "\n",
    "The line does look a bit like it has a slope of about 3.  But - is that true?\n",
    "Is the *best* slope 3?  What slope would we find, if we looked for the *best*\n",
    "slope?  What could *best* mean, for *best slope*?"
   ]
  },
  {
   "cell_type": "markdown",
   "id": "7e405793",
   "metadata": {},
   "source": [
    "## Adjusting axes\n",
    "\n",
    "We would like to see what this graph looks like in relation to the origin -\n",
    "x=0, y=0.  In order to this, we can add a `plt.axis` function call, like this:"
   ]
  },
  {
   "cell_type": "code",
   "execution_count": null,
   "id": "4763f5f2",
   "metadata": {},
   "outputs": [],
   "source": [
    "# Plot HGB on the x axis, PCV on the y axis\n",
    "plt.plot(hgb, pcv, 'o')\n",
    "plt.xlabel('Hemoglobin concentration')\n",
    "plt.ylabel('Packed cell volume')\n",
    "# Set the x axis to go from 0 to 18, y axis from 0 to 55.\n",
    "plt.axis([0, 18, 0, 55]);"
   ]
  },
  {
   "cell_type": "markdown",
   "id": "d708c2ff",
   "metadata": {},
   "source": [
    "It does look plausible that this line goes through the origin, and that makes\n",
    "sense.  All hemoglobin is in red blood cells; we might expect the volume of red\n",
    "blood cells to be zero when the hemoglobin concentration is zero."
   ]
  },
  {
   "cell_type": "markdown",
   "id": "75595039",
   "metadata": {},
   "source": [
    "## Putting points on plots\n",
    "\n",
    "Before we go on, we will need some machinery to plot arbitrary points on plots.\n",
    "\n",
    "In fact this works in exactly the same way as the points you have already seen\n",
    "on plots.  We use the `plot` function, with a suitable plot marker.  The x\n",
    "coordinates of the points go in the first argument, and the y coordinates go in\n",
    "the second.\n",
    "\n",
    "To plot a single point, pass a single x and y coordinate value:"
   ]
  },
  {
   "cell_type": "code",
   "execution_count": null,
   "id": "7e2a2355",
   "metadata": {},
   "outputs": [],
   "source": [
    "plt.plot(hgb, pcv, 'o')\n",
    "# A red point at x=5, y=40\n",
    "plt.plot(5, 40, 'o', color='red')"
   ]
  },
  {
   "cell_type": "markdown",
   "id": "11b8899e",
   "metadata": {},
   "source": [
    "To plot more than one point, pass multiple x and y coordinate values:"
   ]
  },
  {
   "cell_type": "code",
   "execution_count": null,
   "id": "9f11552a",
   "metadata": {},
   "outputs": [],
   "source": [
    "plt.plot(hgb, pcv, 'o')\n",
    "# Two red points, one at [5, 40], the other at [10, 50]\n",
    "plt.plot([5, 10], [40, 50], 'o', color='red')"
   ]
  },
  {
   "cell_type": "markdown",
   "id": "dbf8e89a",
   "metadata": {},
   "source": [
    "## The mean as applied to plots\n",
    "\n",
    "We want a straight line that fits these points.\n",
    "\n",
    "The straight line should do the best job it can in *predicting* the PCV values from the HGB values.\n",
    "\n",
    "We found that the mean was a good predictor for a distribution of values.  We\n",
    "could try and find a line or something similar that went through the mean of\n",
    "the PCV values, at any given HGB value.\n",
    "\n",
    "Let's split the HGB values up into bins centered on 7.5, 8.5, and so on.  Then\n",
    "we take the mean of all the PCV values corresponding to HGB values between 7\n",
    "and 8, 8 and 9, and so on."
   ]
  },
  {
   "cell_type": "code",
   "execution_count": null,
   "id": "678e67a4",
   "metadata": {},
   "outputs": [],
   "source": [
    "# The centers for our HGB bins\n",
    "hgb_bin_centers = np.arange(7.5, 17.5)\n",
    "hgb_bin_centers"
   ]
  },
  {
   "cell_type": "code",
   "execution_count": null,
   "id": "d13778a4",
   "metadata": {},
   "outputs": [],
   "source": [
    "# The number of bins\n",
    "n_bins = len(hgb_bin_centers)\n",
    "n_bins"
   ]
  },
  {
   "cell_type": "markdown",
   "id": "66ec1fd5",
   "metadata": {},
   "source": [
    "Show the center of the bins on the x axis of the plot."
   ]
  },
  {
   "cell_type": "code",
   "execution_count": null,
   "id": "246c06b9",
   "metadata": {},
   "outputs": [],
   "source": [
    "plt.plot(hgb, pcv, 'o')\n",
    "plt.plot(hgb_bin_centers, np.zeros(n_bins), 'o', color='red')"
   ]
  },
  {
   "cell_type": "markdown",
   "id": "8d2e2820",
   "metadata": {},
   "source": [
    "Take the mean of the PCV values for each bin."
   ]
  },
  {
   "cell_type": "code",
   "execution_count": null,
   "id": "6af9df9f",
   "metadata": {},
   "outputs": [],
   "source": [
    "pcv_means = np.zeros(n_bins)\n",
    "for i in np.arange(n_bins):\n",
    "    mid = hgb_bin_centers[i]\n",
    "    # Boolean identifying indices within the HGB bin\n",
    "    fr_within_bin = (hgb >= mid - 0.5) & (hgb < mid + 0.5)\n",
    "    # Take the mean of the corresponding PCV values\n",
    "    pcv_means[i] = np.mean(pcv[fr_within_bin])\n",
    "pcv_means"
   ]
  },
  {
   "cell_type": "markdown",
   "id": "f71e3425",
   "metadata": {},
   "source": [
    "These means should be good predictors for PCV values, given an HGB value.  We\n",
    "check the bin of the HGB value and take the corresponding PCV mean as the\n",
    "prediction.\n",
    "\n",
    "Here is a plot of the means of PCV for every bin:"
   ]
  },
  {
   "cell_type": "code",
   "execution_count": null,
   "id": "a85e4c54",
   "metadata": {},
   "outputs": [],
   "source": [
    "plt.plot(hgb, pcv, 'o')\n",
    "plt.plot(hgb_bin_centers, pcv_means, 'o', color='red')"
   ]
  },
  {
   "cell_type": "markdown",
   "id": "74144ba4",
   "metadata": {},
   "source": [
    "## Finding a predicting line\n",
    "\n",
    "The means per bin give some prediction of the PCV values from the HGB.  Can we\n",
    "do better?  Can we find a line that predicts the PCV data from the HGB data?\n",
    "\n",
    "Remember, any line can be fully described by an *intercept* $c$ and a *slope*\n",
    "$s$.  A line predicts the $y$ values from the $x$ values, using the slope $s$\n",
    "and the intercept $c$:\n",
    "\n",
    "$$\n",
    "y = c + x * s\n",
    "$$\n",
    "\n",
    "The *intercept* is the value of the line when x is equal to 0.  It is therefore\n",
    "where the line crosses the y axis.\n",
    "\n",
    "In our case, let us assume the intercept is 0.  We will assume PCV of 0 if\n",
    "there is no hemoglobin.\n",
    "\n",
    "Now we want to find a good *slope*.  The *slope* is the amount that the y\n",
    "values increase for a one unit increase in the x values.  In our case, it is\n",
    "the increase in the PCV for a 1 gram / deciliter increase in the HGB.\n",
    "\n",
    "Let's guess the slope is 3, as Wikipedia told us it should be:"
   ]
  },
  {
   "cell_type": "code",
   "execution_count": null,
   "id": "58960c70",
   "metadata": {},
   "outputs": [],
   "source": [
    "slope = 3"
   ]
  },
  {
   "cell_type": "markdown",
   "id": "7e3fe05b",
   "metadata": {},
   "source": [
    "Remember our line prediction for y (PCV) is:\n",
    "\n",
    "$$\n",
    "y = c + x * s\n",
    "$$\n",
    "\n",
    "where x is the HGB.  In our case we assume the intercept is 0, so:"
   ]
  },
  {
   "cell_type": "code",
   "execution_count": null,
   "id": "68d68119",
   "metadata": {},
   "outputs": [],
   "source": [
    "pcv_predicted = hgb * slope\n",
    "pcv_predicted[:10]"
   ]
  },
  {
   "cell_type": "markdown",
   "id": "ce74ac5d",
   "metadata": {},
   "source": [
    "Plot the predictions in red on the original data in blue."
   ]
  },
  {
   "cell_type": "code",
   "execution_count": null,
   "id": "5cb025e6",
   "metadata": {},
   "outputs": [],
   "source": [
    "plt.plot(hgb, pcv, 'o')\n",
    "plt.plot(hgb, pcv_predicted, 'o', color='red')"
   ]
  },
  {
   "cell_type": "markdown",
   "id": "ab84f09b",
   "metadata": {},
   "source": [
    "The red are the predictions, the blue are the original data.  At each PCV value\n",
    "we have a prediction, and therefore, an error in our prediction; the difference\n",
    "between the predicted value and the actual values."
   ]
  },
  {
   "cell_type": "code",
   "execution_count": null,
   "id": "a9f8c3f7",
   "metadata": {},
   "outputs": [],
   "source": [
    "errors = pcv - pcv_predicted\n",
    "errors[:10]"
   ]
  },
  {
   "cell_type": "markdown",
   "id": "551b54fe",
   "metadata": {},
   "source": [
    "In this plot, for each point, we draw a thin dotted line between the prediction\n",
    "of PCV for each point, and its actual value."
   ]
  },
  {
   "cell_type": "code",
   "execution_count": null,
   "id": "e2a2406b",
   "metadata": {},
   "outputs": [],
   "source": [
    "plt.plot(hgb, pcv, 'o')\n",
    "plt.plot(hgb, pcv_predicted, 'o', color='red')\n",
    "# Draw a line between predicted and actual\n",
    "for i in np.arange(len(hgb)):\n",
    "    x = hgb[i]\n",
    "    y_0 = pcv_predicted[i]\n",
    "    y_1 = pcv[i]\n",
    "    plt.plot([x, x], [y_0, y_1], ':', color='black', linewidth=1)"
   ]
  },
  {
   "cell_type": "markdown",
   "id": "a1b8e918",
   "metadata": {},
   "source": [
    "## What is a good line?\n",
    "\n",
    "We have guessed a slope, and so defined a line. We calculated the errors from\n",
    "our guessed line.\n",
    "\n",
    "How would we decide whether our slope was a good one?  Put otherwise, how would\n",
    "we decide when we have a good line?\n",
    "\n",
    "A good line should have small prediction errors. That is, the line should give\n",
    "a good prediction of the points.  That is, the line should result in small\n",
    "*errors*.\n",
    "\n",
    "We would like a slope that gives us the smallest error.\n",
    "\n",
    "We would like a *metric* or *score* for the line — a single number that tells\n",
    "us how good the line is, in terms of fitting the data.\n",
    "\n",
    "We will try and find a score (metric) that is *low* when the line is good, and\n",
    "*high* when the line is bad.   A low  means that the errors are low, in some\n",
    "sense, and a high score means the errors are high, in the same sense."
   ]
  },
  {
   "cell_type": "markdown",
   "id": "b7ac6c48",
   "metadata": {},
   "source": [
    "## A dangerous, but attractive metric for the line\n",
    "\n",
    "One obvious idea for a metric is to add up all the errors, like this:"
   ]
  },
  {
   "cell_type": "code",
   "execution_count": null,
   "id": "3e732bbf",
   "metadata": {},
   "outputs": [],
   "source": [
    "np.sum(errors)"
   ]
  },
  {
   "cell_type": "markdown",
   "id": "e836bfec",
   "metadata": {},
   "source": [
    "We will want to knock of the sign of the sum of the errors, because we want to\n",
    "penalize negative and positive sums of the errors."
   ]
  },
  {
   "cell_type": "code",
   "execution_count": null,
   "id": "03bf4a32",
   "metadata": {},
   "outputs": [],
   "source": [
    "bad_metric = np.abs(np.sum(errors))\n",
    "bad_metric"
   ]
  },
  {
   "cell_type": "markdown",
   "id": "71940bba",
   "metadata": {},
   "source": [
    "This number will be small or even zero when the line fits well, because the sum\n",
    "of the errors above the line (positive errors) will be roughly equal to the sum of the\n",
    "errors below the line.\n",
    "\n",
    "And, in fact, for our case, where we know the intercept is zero, this is a\n",
    "perfectly reasonable metric.  If the slope is big, then there are more, larger\n",
    "negative errors and fewer, smaller positive errors.  The sum of error will\n",
    "be negative, and the error will be large."
   ]
  },
  {
   "cell_type": "code",
   "execution_count": null,
   "id": "fe60e743",
   "metadata": {},
   "outputs": [],
   "source": [
    "# Slope too large - sum of errors is negative.\n",
    "predicted_pcv = hgb * 3.5\n",
    "errors = pcv - predicted_pcv\n",
    "print('Sum of errors for slope of 3.5')\n",
    "np.sum(errors)"
   ]
  },
  {
   "cell_type": "markdown",
   "id": "3cd83eb0",
   "metadata": {},
   "source": [
    "Conversely for a slope that is too small:"
   ]
  },
  {
   "cell_type": "code",
   "execution_count": null,
   "id": "b3a358a0",
   "metadata": {},
   "outputs": [],
   "source": [
    "# Slope too small - sum of errors is positive.\n",
    "predicted_pcv = hgb * 2.5\n",
    "errors = pcv - predicted_pcv\n",
    "print('Sum of errors for slope of 2.5')\n",
    "np.sum(errors)"
   ]
  },
  {
   "cell_type": "markdown",
   "id": "bc263f02",
   "metadata": {},
   "source": [
    "But we will see later, that this metric is very bad when we are trying to find\n",
    "a line where we allow the intercept to be something other than zero, because we\n",
    "can fit all sorts of obviously bad lines by changing the intercept and the\n",
    "slope.  So, for now, let us choose another metric."
   ]
  },
  {
   "cell_type": "markdown",
   "id": "2c3f4f31",
   "metadata": {},
   "source": [
    "## A better metric for the line\n",
    "\n",
    "[The Mean as Predictor](mean_meaning) section showed that the mean is the value\n",
    "with the smallest squared distance from the other values in the distribution.\n",
    "The mean is the predictor value that minimizes the sum of squared distances\n",
    "from the other values.\n",
    "\n",
    "We can use the same metric for our line.  Instead of using a single vector as a\n",
    "predictor, now we are using the values on the line as predictors.  We want the\n",
    "HGB slope, in our case, that gives the best predictors of the PCV values.\n",
    "Specifically, we want the slope that gives the smallest sum of squares\n",
    "difference between the line prediction and the actual values.\n",
    "\n",
    "We have already calculated the prediction and error for our slope of 3, but\n",
    "let's do it again, and then calculate the *Sum of Squared Error* (SSE):"
   ]
  },
  {
   "cell_type": "code",
   "execution_count": null,
   "id": "29df8712",
   "metadata": {},
   "outputs": [],
   "source": [
    "slope = 3\n",
    "predicted_pcv = hgb * slope\n",
    "errors = pcv - predicted_pcv\n",
    "# The sum of squared errors.\n",
    "sse = np.sum(errors ** 2)\n",
    "sse"
   ]
  },
  {
   "cell_type": "markdown",
   "id": "810579fd",
   "metadata": {},
   "source": [
    "We are about to do this calculation many times, for many different slopes.  We\n",
    "need a *function*.\n",
    "\n",
    "In the function below, we are using [function\n",
    "world](functions) to get the values of `hgb` and\n",
    "`pcv` defined here at the top level, outside *function world*. The function can\n",
    "see these values, from function world."
   ]
  },
  {
   "cell_type": "code",
   "execution_count": null,
   "id": "c0363edd",
   "metadata": {},
   "outputs": [],
   "source": [
    "def calc_sse(slope):\n",
    "    predicted_pcv = hgb * slope  # 'hgb' comes from the top level\n",
    "    errors = pcv - predicted_pcv # 'pcv' comes from the top level\n",
    "    return np.sum(errors ** 2)"
   ]
  },
  {
   "cell_type": "markdown",
   "id": "2069c3e2",
   "metadata": {},
   "source": [
    "First check we get the same answer as the calculation above:"
   ]
  },
  {
   "cell_type": "code",
   "execution_count": null,
   "id": "315a1b90",
   "metadata": {},
   "outputs": [],
   "source": [
    "calc_sse(3)"
   ]
  },
  {
   "cell_type": "markdown",
   "id": "6a7b42d3",
   "metadata": {},
   "source": [
    "Does 3.5 give a higher or lower sum of squared error?"
   ]
  },
  {
   "cell_type": "code",
   "execution_count": null,
   "id": "a379abca",
   "metadata": {},
   "outputs": [],
   "source": [
    "calc_sse(3.5)"
   ]
  },
  {
   "cell_type": "markdown",
   "id": "ec7b1582",
   "metadata": {},
   "source": [
    "Now we can use the same strategy as we used in the [mean meaning](mean_meaning)\n",
    "page, to try lots of slopes, and find the one that gives the smallest sum of\n",
    "squared error."
   ]
  },
  {
   "cell_type": "markdown",
   "id": "e11abdd7",
   "metadata": {},
   "source": [
    "Let us first assemble slopes to try:"
   ]
  },
  {
   "cell_type": "code",
   "execution_count": null,
   "id": "a649ad07",
   "metadata": {},
   "outputs": [],
   "source": [
    "some_slopes = np.arange(2, 4, 0.01)\n",
    "slope_df = pd.DataFrame()\n",
    "slope_df['slope_to_try'] = some_slopes\n",
    "slope_df"
   ]
  },
  {
   "cell_type": "markdown",
   "id": "125a2cc0",
   "metadata": {},
   "source": [
    "We're going to go through each slope in the `slopes_to_try` column.  For each slope, we are going to calculate the sum of squared error (SSE) for that slope."
   ]
  },
  {
   "cell_type": "markdown",
   "id": "f54e0fa5",
   "metadata": {},
   "source": [
    "We first make an array to hold the SSE results for each slope.  In dur course, this will become a column in our DataFrame."
   ]
  },
  {
   "cell_type": "code",
   "execution_count": null,
   "id": "ff859f2b",
   "metadata": {},
   "outputs": [],
   "source": [
    "n_slopes = len(some_slopes)\n",
    "n_slopes"
   ]
  },
  {
   "cell_type": "code",
   "execution_count": null,
   "id": "69d89a2d",
   "metadata": {},
   "outputs": [],
   "source": [
    "# Array to store the SSE for each slope.\n",
    "sses = np.zeros(n_slopes)"
   ]
  },
  {
   "cell_type": "markdown",
   "id": "e59ae7d2",
   "metadata": {},
   "source": [
    "We first work out the SSE for the first candidate slope."
   ]
  },
  {
   "cell_type": "code",
   "execution_count": null,
   "id": "d38b60ca",
   "metadata": {},
   "outputs": [],
   "source": [
    "# The first slope value:\n",
    "slope_to_try = some_slopes[0]\n",
    "sse = calc_sse(slope_to_try)\n",
    "print(f'SSE for', slope_to_try, 'is', sse)"
   ]
  },
  {
   "cell_type": "markdown",
   "id": "d401eb02",
   "metadata": {},
   "source": [
    "We could then put it into our DataFrame:"
   ]
  },
  {
   "cell_type": "code",
   "execution_count": null,
   "id": "aad5c04a",
   "metadata": {},
   "outputs": [],
   "source": [
    "sses[0] = sse\n",
    "# Put the SSE values into the DataFrame\n",
    "slope_df['SSE'] = sses\n",
    "slope_df"
   ]
  },
  {
   "cell_type": "markdown",
   "id": "2d479ebc",
   "metadata": {},
   "source": [
    "Now do the same for all the slopes:"
   ]
  },
  {
   "cell_type": "code",
   "execution_count": null,
   "id": "73f979da",
   "metadata": {},
   "outputs": [],
   "source": [
    "for i in np.arange(n_slopes):  # For each candidate slope.\n",
    "    # Get the corresponding slope.\n",
    "    this_slope = some_slopes[i]\n",
    "    # Calculate the error measure.\n",
    "    this_error = calc_sse(this_slope)\n",
    "    # Put the error into the results array at the corresponding position.\n",
    "    sses[i] = this_error\n",
    "\n",
    "# Put all the SSE scores into the DataFrame as a column for display.\n",
    "slope_df['SSE'] = sses\n",
    "slope_df"
   ]
  },
  {
   "cell_type": "markdown",
   "id": "87530000",
   "metadata": {},
   "source": [
    "We plot the slopes we have tried, on the x axis, against the sum of squared\n",
    "error, on the y-axis."
   ]
  },
  {
   "cell_type": "code",
   "execution_count": null,
   "id": "297ceae2",
   "metadata": {},
   "outputs": [],
   "source": [
    "plt.plot(slope_df['slope_to_try'], slope_df['SSE'])\n",
    "plt.xlabel('Candidate slopes')\n",
    "plt.ylabel('Sum of squared error')"
   ]
  },
  {
   "cell_type": "markdown",
   "id": "16b9012a",
   "metadata": {},
   "source": [
    "The minimum of the sum of squared error is the value we found:"
   ]
  },
  {
   "cell_type": "code",
   "execution_count": null,
   "id": "cd24a747",
   "metadata": {},
   "outputs": [],
   "source": [
    "print('Smallest error', slope_df['SSE'].min())"
   ]
  },
  {
   "cell_type": "markdown",
   "id": "c4dd733a",
   "metadata": {},
   "source": [
    "We have the smallest error, but we'd really like to know which *row* corresponds to the smallest error, so we can work out which *slope* gives the smallest error."
   ]
  },
  {
   "cell_type": "markdown",
   "id": "267f7247",
   "metadata": {},
   "source": [
    "Fortunately, Pandas has a method for that, called `idxmin`.  This tells us the *row label* corresponding to the minimum value, like this:"
   ]
  },
  {
   "cell_type": "code",
   "execution_count": null,
   "id": "a24fd0a6",
   "metadata": {},
   "outputs": [],
   "source": [
    "# Row label corresponding to minimum value.\n",
    "row_with_min = slope_df['SSE'].idxmin()\n",
    "row_with_min"
   ]
  },
  {
   "cell_type": "markdown",
   "id": "75c5019d",
   "metadata": {},
   "source": [
    "This label does give us the row with the minimum value:"
   ]
  },
  {
   "cell_type": "code",
   "execution_count": null,
   "id": "ac1d76c7",
   "metadata": {},
   "outputs": [],
   "source": [
    "# Row corresponding to minimum value.\n",
    "slope_df.loc[row_with_min]"
   ]
  },
  {
   "cell_type": "markdown",
   "id": "321358d4",
   "metadata": {},
   "source": [
    "Notice `SSE` contains the same minimum value as you saw above from `.min()`.   But we also see the corresponding `slopes_to_try` slope value."
   ]
  },
  {
   "cell_type": "code",
   "execution_count": null,
   "id": "43626fcc",
   "metadata": {},
   "outputs": [],
   "source": [
    "best_slope = slope_df.loc[row_with_min, 'slope_to_try']\n",
    "best_slope"
   ]
  },
  {
   "cell_type": "code",
   "execution_count": null,
   "id": "e2e0e5a9",
   "metadata": {},
   "outputs": [],
   "source": [
    "# Confirm that this slope gives the minimum value.\n",
    "calc_sse(best_slope)"
   ]
  },
  {
   "cell_type": "markdown",
   "id": "8e8df1b1",
   "metadata": {},
   "source": [
    "Plot the data, predictions and errors for the line that minimizes the sum of\n",
    "squared error:"
   ]
  },
  {
   "cell_type": "code",
   "execution_count": null,
   "id": "4e8622f4",
   "metadata": {},
   "outputs": [],
   "source": [
    "best_predicted = hgb * best_slope\n",
    "plt.plot(hgb, pcv, 'o')\n",
    "plt.plot(hgb, best_predicted, 'o', color='red')\n",
    "for i in np.arange(len(hgb)):\n",
    "    x = hgb[i]\n",
    "    y_0 = best_predicted[i]\n",
    "    y_1 = pcv[i]\n",
    "    plt.plot([x, x], [y_0, y_1], ':', color='black', linewidth=1)\n",
    "plt.title('The best-fit line using least-squared error')"
   ]
  },
  {
   "cell_type": "markdown",
   "id": "2128d0bd",
   "metadata": {},
   "source": [
    "The algorithm we have used so far, is rather slow and clunky, because we had to\n",
    "make an array with lots of slopes to try, and then go through each one to find\n",
    "the slope that minimizes the squared error.\n",
    "\n",
    "In fact, we will soon see, we can use some tricks to get Python to do all this\n",
    "work for us, much more quickly.\n",
    "\n",
    "Finding techniques for doing this automatically is a whole mathematical field,\n",
    "called [optimization](https://en.wikipedia.org/wiki/Mathematical_optimization).\n",
    "\n",
    "For now, let's leap to using these techniques on our problem, of finding the\n",
    "best slope:"
   ]
  },
  {
   "cell_type": "code",
   "execution_count": null,
   "id": "cfc99884",
   "metadata": {},
   "outputs": [],
   "source": [
    "from scipy.optimize import minimize\n",
    "# 3 below is the slope value to start the search.\n",
    "# method='powell' tells the function the search algorithm to use.\n",
    "# 'powell' is a good choice for our simple types of problems.\n",
    "res = minimize(calc_sse, 3, method='powell')\n",
    "res"
   ]
  },
  {
   "cell_type": "markdown",
   "id": "890c3270",
   "metadata": {},
   "source": [
    "The slope is in the `x` attribute of the return value:"
   ]
  },
  {
   "cell_type": "code",
   "execution_count": null,
   "id": "fcf2df03",
   "metadata": {},
   "outputs": [],
   "source": [
    "res.x"
   ]
  },
  {
   "cell_type": "markdown",
   "id": "bb3560a1",
   "metadata": {},
   "source": [
    "## The magic of maths\n",
    "\n",
    "We found the best (sum of squares) slope by trying lots of slopes, above, and then, rather more efficiently, by using `minimize` to do that job for us.\n",
    "\n",
    "You don't need to understand the argument below, to follow this class, but in\n",
    "this case we can work out the best slope with some [fairly simple calculus and\n",
    "algebra](slope_deviations).  It turns out like this:"
   ]
  },
  {
   "cell_type": "code",
   "execution_count": null,
   "id": "83b48401",
   "metadata": {},
   "outputs": [],
   "source": [
    "maths_slope = np.sum(hgb * pcv) / np.sum(hgb ** 2)\n",
    "maths_slope"
   ]
  },
  {
   "cell_type": "markdown",
   "id": "6eb20f6c",
   "metadata": {},
   "source": [
    "See the page linked above for why this formula works for any set of x and y\n",
    "values, where the intercept is zero.\n",
    "\n",
    "But - we won't be using these mathematical short cuts in this course, we will\n",
    "be using `minimize` and friends to find the best slope by trial and error."
   ]
  }
 ],
 "metadata": {
  "jupytext": {
   "notebook_metadata_filter": "all,-language_info",
   "split_at_heading": true
  },
  "kernelspec": {
   "display_name": "Python (Pyodide)",
   "name": "python"
  }
 },
 "nbformat": 4,
 "nbformat_minor": 5
}
