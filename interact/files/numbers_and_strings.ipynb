{
 "cells": [
  {
   "cell_type": "markdown",
   "id": "6a36fb1e",
   "metadata": {},
   "source": [
    "# Numbers and strings\n",
    "\n",
    "This page covers a common problem when loading data into Pandas --- when Pandas gets confused about whether values in a column are text or numbers."
   ]
  },
  {
   "cell_type": "markdown",
   "id": "b33277f8",
   "metadata": {},
   "source": [
    "## An example"
   ]
  },
  {
   "cell_type": "code",
   "execution_count": null,
   "id": "19bd3981",
   "metadata": {},
   "outputs": [],
   "source": [
    "import numpy as np\n",
    "import pandas as pd\n",
    "pd.set_option('mode.copy_on_write', True)"
   ]
  },
  {
   "cell_type": "markdown",
   "id": "9de2f6c5",
   "metadata": {},
   "source": [
    "We return to the example data file that you may have seen in the [text encoding](text_encoding) page.\n",
    "\n",
    "You can download the data file from {download}`imdblet_latin.csv\n",
    "<data/imdblet_latin.csv>`."
   ]
  },
  {
   "cell_type": "code",
   "execution_count": null,
   "id": "c4df8e9f",
   "metadata": {},
   "outputs": [],
   "source": [
    "films = pd.read_csv('data/imdblet_latin.csv', encoding='latin1')\n",
    "films.head()"
   ]
  },
  {
   "cell_type": "markdown",
   "id": "74710e4d",
   "metadata": {},
   "source": [
    "Now imagine we are interested in the average rating across these films:"
   ]
  },
  {
   "cell_type": "code",
   "execution_count": null,
   "id": "b4f47903",
   "metadata": {
    "tags": [
     "raises-exception"
    ]
   },
   "outputs": [],
   "source": [
    "ratings = films['Rating']\n",
    "ratings.mean()"
   ]
  },
  {
   "cell_type": "markdown",
   "id": "dd4f5013",
   "metadata": {},
   "source": [
    "## The problem\n",
    "\n",
    "The problem is that we were expecting our ratings to be numbers, but in fact, they are strings.\n",
    "\n",
    "We can see what type of thing Pandas has stored by looking at the `dtype`\n",
    "attribute of a Series, or the `dtypes` attribute of a data frame."
   ]
  },
  {
   "cell_type": "code",
   "execution_count": null,
   "id": "9cbcf90f",
   "metadata": {},
   "outputs": [],
   "source": [
    "films.dtypes"
   ]
  },
  {
   "cell_type": "code",
   "execution_count": null,
   "id": "040c21a7",
   "metadata": {},
   "outputs": [],
   "source": [
    "ratings.dtype"
   ]
  },
  {
   "cell_type": "markdown",
   "id": "29e6a75f",
   "metadata": {},
   "source": [
    "In fact both these bits of information say the same thing -- that the 'Rating'\n",
    "column stores things in the \"object\" or \"O\" type.  This is a general type that\n",
    "can store any Python value.   It is the standard type that Pandas uses when\n",
    "storing text.\n",
    "\n",
    "Why does Pandas use text for the 'Rating' column?\n",
    "\n",
    "A quick look at the first rows gives the answer:"
   ]
  },
  {
   "cell_type": "code",
   "execution_count": null,
   "id": "72d04836",
   "metadata": {},
   "outputs": [],
   "source": [
    "ratings.head()"
   ]
  },
  {
   "cell_type": "markdown",
   "id": "8dc9e241",
   "metadata": {},
   "source": [
    "The film \"Paris, Texas (1984)\" has a value \"N/K\" for the rating. This can't be a number, so Pandas stored this column in a format that allows it to store \"N/K\" as text.\n",
    "\n",
    "If that wasn't obvious, another way of checking where the problem value is, to `apply` the function `float` to the column values.\n",
    "\n",
    "When we `apply` a function to a Series, it does this:\n",
    "\n",
    "* For each value in the Series it:\n",
    "  * Calls the function, with the value as the single argument.\n",
    "  * Collects the new value returned from the function, and appends it to a new\n",
    "    Series.\n",
    "* Returns the new Series.\n",
    "\n",
    "The result is a Series that is the same length as the original series, but\n",
    "where each value in the new series is the result of calling the function on the\n",
    "original value.\n",
    "\n",
    "Recall that the `float` function converts the thing you pass into a floating\n",
    "point value:"
   ]
  },
  {
   "cell_type": "code",
   "execution_count": null,
   "id": "7f558a0d",
   "metadata": {},
   "outputs": [],
   "source": [
    "v = float('3.14')\n",
    "v"
   ]
  },
  {
   "cell_type": "code",
   "execution_count": null,
   "id": "cc39978a",
   "metadata": {},
   "outputs": [],
   "source": [
    "type(v)"
   ]
  },
  {
   "cell_type": "markdown",
   "id": "990dea8d",
   "metadata": {},
   "source": [
    "Now we try applying `float` to the problematic column:"
   ]
  },
  {
   "cell_type": "code",
   "execution_count": null,
   "id": "1caa06bf",
   "metadata": {
    "tags": [
     "raises-exception"
    ]
   },
   "outputs": [],
   "source": [
    "ratings.apply(float)"
   ]
  },
  {
   "cell_type": "markdown",
   "id": "622139f8",
   "metadata": {},
   "source": [
    "One way of dealing with this problem is to make a *recoding* function.\n",
    "\n",
    "A recoding function is a function that we will apply to a Series.  That means that we call the function for every value in the Series.  The function argument is the value from the series.  The function returns the new value, for a new Series."
   ]
  },
  {
   "cell_type": "code",
   "execution_count": null,
   "id": "52f687d7",
   "metadata": {},
   "outputs": [],
   "source": [
    "def recode_ratings(v):\n",
    "    if v == 'N/K':  # Return missing value for 'N/K'\n",
    "        return np.nan\n",
    "    # Otherwise make text value into a float\n",
    "    return float(v)"
   ]
  },
  {
   "cell_type": "markdown",
   "id": "f0c3216e",
   "metadata": {},
   "source": [
    "We test our function:"
   ]
  },
  {
   "cell_type": "code",
   "execution_count": null,
   "id": "bfc351e9",
   "metadata": {},
   "outputs": [],
   "source": [
    "recode_ratings('8.3')"
   ]
  },
  {
   "cell_type": "code",
   "execution_count": null,
   "id": "e6be9fa0",
   "metadata": {},
   "outputs": [],
   "source": [
    "recode_ratings('N/K')"
   ]
  },
  {
   "cell_type": "markdown",
   "id": "8dfe9556",
   "metadata": {},
   "source": [
    "We make a new Series by calling the recode function:"
   ]
  },
  {
   "cell_type": "code",
   "execution_count": null,
   "id": "256adca9",
   "metadata": {},
   "outputs": [],
   "source": [
    "new_ratings = ratings.apply(recode_ratings)\n",
    "new_ratings.head()"
   ]
  },
  {
   "cell_type": "markdown",
   "id": "08f7c855",
   "metadata": {},
   "source": [
    "We can insert this back into a copy of the original data frame:"
   ]
  },
  {
   "cell_type": "code",
   "execution_count": null,
   "id": "4552e8ba",
   "metadata": {},
   "outputs": [],
   "source": [
    "films_fixed = films\n",
    "films_fixed.loc[:, 'Rating'] = new_ratings\n",
    "films_fixed.head()"
   ]
  }
 ],
 "metadata": {
  "jupytext": {
   "split_at_heading": true
  },
  "kernelspec": {
   "display_name": "Python (Pyodide)",
   "name": "python"
  }
 },
 "nbformat": 4,
 "nbformat_minor": 5
}
