{
 "cells": [
  {
   "cell_type": "markdown",
   "id": "8b3e4bf4",
   "metadata": {},
   "source": [
    "# Permutation and the t-test\n",
    "\n",
    "In [the idea of permutation](permutation_idea),\n",
    "we use permutation to compare a difference between two groups of numbers.\n",
    "\n",
    "In our case, each number corresponded to one person in the study.  The number\n",
    "for each subject was the number of mosquitoes flying towards them. The subjects\n",
    "were from two groups: people who had just drunk beer, and people who had just\n",
    "drunk water.   There were 25 subjects who had drunk beer, and therefore, 25\n",
    "numbers of mosquitoes corresponding to the \"beer\" group.  There were 18\n",
    "subjects who had drunk water, and 18 numbers corresponding to the \"water\" group.\n",
    "\n",
    "Here we repeat the permutation test, as a reminder.\n",
    "\n",
    "As before, you can download the data from\n",
    "{download}`mosquito_beer.csv <data/mosquito_beer.csv>`.\n",
    "\n",
    "See [this\n",
    "page](https://github.com/matthew-brett/datasets/tree/master/mosquito_beer)\n",
    "for more details on the dataset, and [the data license\n",
    "page](data/LICENSE).\n"
   ]
  },
  {
   "cell_type": "code",
   "execution_count": null,
   "id": "b4d17802",
   "metadata": {},
   "outputs": [],
   "source": [
    "# Import Numpy library, rename as \"np\"\n",
    "import numpy as np\n",
    "# Make random number generator.\n",
    "rng = np.random.default_rng()\n",
    "# Import Pandas library, rename as \"pd\"\n",
    "import pandas as pd\n",
    "# Safe setting for Pandas.\n",
    "pd.set_option('mode.copy_on_write', True)\n",
    "\n",
    "# Set up plotting\n",
    "import matplotlib.pyplot as plt\n",
    "plt.style.use('fivethirtyeight')"
   ]
  },
  {
   "cell_type": "markdown",
   "id": "b44f7f91",
   "metadata": {},
   "source": [
    "Read in the data, get the numbers of mosquitoes flying towards the beer\n",
    "drinkers, and towards the water drinkers, after they had drunk their beer or\n",
    "water.  See the [the idea of permutation](permutation_idea) page."
   ]
  },
  {
   "cell_type": "code",
   "execution_count": null,
   "id": "e535da86",
   "metadata": {},
   "outputs": [],
   "source": [
    "# Read in the data, select beer and water values.\n",
    "mosquitoes = pd.read_csv('data/mosquito_beer.csv')\n",
    "after_rows = mosquitoes[mosquitoes['test'] == 'after']\n",
    "beer_rows = after_rows[after_rows['group'] == 'beer']\n",
    "beer_activated = np.array(beer_rows['activated'])\n",
    "water_rows = after_rows[after_rows['group'] == 'water']\n",
    "water_activated = np.array(water_rows['activated'])"
   ]
  },
  {
   "cell_type": "markdown",
   "id": "48f9ddf2",
   "metadata": {},
   "source": [
    "There are 25 values in the beer group, and 18 in the water group:"
   ]
  },
  {
   "cell_type": "code",
   "execution_count": null,
   "id": "981e5435",
   "metadata": {},
   "outputs": [],
   "source": [
    "print('Number in beer group:', len(beer_activated))\n",
    "print('Number in water group:', len(water_activated))"
   ]
  },
  {
   "cell_type": "markdown",
   "id": "6b1cb08d",
   "metadata": {},
   "source": [
    "We are interested in the difference between the means of these numbers:"
   ]
  },
  {
   "cell_type": "code",
   "execution_count": null,
   "id": "d676365d",
   "metadata": {},
   "outputs": [],
   "source": [
    "observed_difference = np.mean(beer_activated) - np.mean(water_activated)\n",
    "observed_difference"
   ]
  },
  {
   "cell_type": "markdown",
   "id": "b19657b8",
   "metadata": {},
   "source": [
    "In the permutation test we simulate a ideal (null) world in which there is no\n",
    "average difference between the numbers in the two groups.  We do this by\n",
    "pooling the beer and water numbers, shuffling them, and then making fake beer\n",
    "and water groups when we know, from the shuffling, that the average difference\n",
    "will, in the long run, be zero.  By doing this shuffle, sample step many times\n",
    "we build up the distribution of the average difference.  This is the *sampling\n",
    "distribution* of the mean difference:"
   ]
  },
  {
   "cell_type": "code",
   "execution_count": null,
   "id": "8bb1c4bc",
   "metadata": {},
   "outputs": [],
   "source": [
    "pooled = np.concatenate([beer_activated, water_activated])\n",
    "n_iters = 10000\n",
    "fake_differences = np.zeros(n_iters)\n",
    "for i in np.arange(n_iters):\n",
    "    shuffled = rng.permutation(pooled)\n",
    "    fake_differences[i] = np.mean(shuffled[:25]) - np.mean(shuffled[25:])"
   ]
  },
  {
   "cell_type": "markdown",
   "id": "b34d7b84",
   "metadata": {},
   "source": [
    "Here's the histogram.   This time we have given the plot a title, using the\n",
    "`plt.title` function."
   ]
  },
  {
   "cell_type": "code",
   "execution_count": null,
   "id": "70282752",
   "metadata": {},
   "outputs": [],
   "source": [
    "plt.hist(fake_differences)\n",
    "plt.title('Sampling distribution of difference of means');"
   ]
  },
  {
   "cell_type": "markdown",
   "id": "d6472507",
   "metadata": {},
   "source": [
    "We can work out the proportion of the sampling distribution that is greater\n",
    "than or equal to the observed value, to get an estimate of the probability of\n",
    "the observed value, if we are in fact in the null (ideal) world:"
   ]
  },
  {
   "cell_type": "code",
   "execution_count": null,
   "id": "bfb576b4",
   "metadata": {},
   "outputs": [],
   "source": [
    "permutation_p = np.count_nonzero(\n",
    "    fake_differences >= observed_difference)/ n_iters\n",
    "permutation_p"
   ]
  },
  {
   "cell_type": "markdown",
   "id": "d7a3d664",
   "metadata": {},
   "source": [
    "Remember that the *standard deviation* is a measure of the spread of a\n",
    "distribution.  We go into the standard deviation in more detail [later in the\n",
    "course](standard_scores), but for now, we just use Numpy to\n",
    "calculate the standard deviation."
   ]
  },
  {
   "cell_type": "code",
   "execution_count": null,
   "id": "05558fa3",
   "metadata": {},
   "outputs": [],
   "source": [
    "sampling_sd = np.std(fake_differences)\n",
    "sampling_sd"
   ]
  },
  {
   "cell_type": "markdown",
   "id": "d93b9561",
   "metadata": {},
   "source": [
    "Here is the distribution of the `fake_differences` again, showing the mean plus\n",
    "and minus one standard deviation.  The standard deviation is a measure of how\n",
    "spread out the distribution is, around its mean."
   ]
  },
  {
   "cell_type": "code",
   "execution_count": null,
   "id": "7cdc5bf1",
   "metadata": {},
   "outputs": [],
   "source": [
    "plt.hist(fake_differences)\n",
    "fake_mean = np.mean(fake_differences)\n",
    "# Red dot just above x-axis at +/- one standard deviation.\n",
    "plt.plot([fake_mean - sampling_sd, fake_mean + sampling_sd], [50, 50], 'or')\n",
    "plt.title('Sampling distribution +/- one standard deviation');"
   ]
  },
  {
   "cell_type": "markdown",
   "id": "c42f58d0",
   "metadata": {},
   "source": [
    "We can use the standard deviation as a unit of distance in the distribution.\n",
    "\n",
    "A way of getting an idea of how extreme the observed value is, is to ask how\n",
    "many standard deviations the observed value is from the center of the\n",
    "distribution, which is zero."
   ]
  },
  {
   "cell_type": "code",
   "execution_count": null,
   "id": "337bc744",
   "metadata": {},
   "outputs": [],
   "source": [
    "like_t = observed_difference / sampling_sd\n",
    "like_t"
   ]
  },
  {
   "cell_type": "markdown",
   "id": "0bd7806f",
   "metadata": {},
   "source": [
    "Notice the variable name `like_t`.  This number is rather like the famous [t\n",
    "statistic](https://en.wikipedia.org/wiki/T-statistic).\n",
    "\n",
    "The difference between this `like_t` value and the *t statistic* is that the t\n",
    "statistic is the observed difference divided by another *estimate* of the\n",
    "standard deviation of the sampling distribution.  Specifically it is an\n",
    "estimate that relies on the assumption that the `beer_activated` and\n",
    "`water_activated` numbers come from a simple bell-shaped [normal\n",
    "distribution](https://en.wikipedia.org/wiki/Normal_distribution).\n",
    "\n",
    "The specific calculation relies on calculating the *prediction errors* when we\n",
    "use the mean from each group as the prediction for the values in the group."
   ]
  },
  {
   "cell_type": "code",
   "execution_count": null,
   "id": "63a391dc",
   "metadata": {},
   "outputs": [],
   "source": [
    "beer_errors = beer_activated - np.mean(beer_activated)\n",
    "water_errors = water_activated - np.mean(water_activated)\n",
    "all_errors = np.concatenate([beer_errors, water_errors])"
   ]
  },
  {
   "cell_type": "markdown",
   "id": "173576af",
   "metadata": {},
   "source": [
    "The estimate for the standard deviation of the sampling distribution follows\n",
    "this formula.  The derivation of the formula is well outside the scope of the\n",
    "class."
   ]
  },
  {
   "cell_type": "code",
   "execution_count": null,
   "id": "82ea8bcb",
   "metadata": {},
   "outputs": [],
   "source": [
    "# The t-statistic estimate.\n",
    "n1 = len(beer_activated)\n",
    "n2 = len(water_activated)\n",
    "est_error_sd = np.sqrt(np.sum(all_errors ** 2) / (n1 + n2 - 2))\n",
    "sampling_sd_estimate = est_error_sd * np.sqrt(1 / n1 + 1 / n2)\n",
    "sampling_sd_estimate"
   ]
  },
  {
   "cell_type": "markdown",
   "id": "bdbe577d",
   "metadata": {},
   "source": [
    "Notice that this is rather similar to the estimate we got directly from the\n",
    "permutation distribution:"
   ]
  },
  {
   "cell_type": "code",
   "execution_count": null,
   "id": "750f92a7",
   "metadata": {},
   "outputs": [],
   "source": [
    "sampling_sd"
   ]
  },
  {
   "cell_type": "markdown",
   "id": "f19dfde3",
   "metadata": {},
   "source": [
    "The t statistic is the observed mean difference divided by the estimate of the\n",
    "standard deviation of the sampling distribution."
   ]
  },
  {
   "cell_type": "code",
   "execution_count": null,
   "id": "45059f7b",
   "metadata": {},
   "outputs": [],
   "source": [
    "t_statistic = observed_difference / sampling_sd_estimate\n",
    "t_statistic"
   ]
  },
  {
   "cell_type": "markdown",
   "id": "dad5155e",
   "metadata": {},
   "source": [
    "This is the same t statistic value calculated by the *independent sample t\n",
    "test* routine from Scipy:"
   ]
  },
  {
   "cell_type": "code",
   "execution_count": null,
   "id": "e8dd41f3",
   "metadata": {},
   "outputs": [],
   "source": [
    "from scipy.stats import ttest_ind\n",
    "t_result = ttest_ind(beer_activated, water_activated)\n",
    "t_result.statistic"
   ]
  },
  {
   "cell_type": "markdown",
   "id": "10057187",
   "metadata": {},
   "source": [
    "The equivalent probability from a t test is also outside the scope of the\n",
    "course, but, if the data we put into the t test is more or less compatible with\n",
    "a normal distribution, then the matching p value is similar to that of the\n",
    "permutation test."
   ]
  },
  {
   "cell_type": "code",
   "execution_count": null,
   "id": "1194a59c",
   "metadata": {},
   "outputs": [],
   "source": [
    "# The \"one-tailed\" probability from the t-test.\n",
    "t_result.pvalue / 2"
   ]
  },
  {
   "cell_type": "code",
   "execution_count": null,
   "id": "9df160d6",
   "metadata": {},
   "outputs": [],
   "source": [
    "# The permutation p value is very similar.\n",
    "permutation_p"
   ]
  },
  {
   "cell_type": "markdown",
   "id": "63d2c1c1",
   "metadata": {},
   "source": [
    "The permutation test is more general than the t test, because the t test relies\n",
    "on the assumption that the numbers come from a normal distribution, but the\n",
    "permutation test does not.\n",
    "\n",
    "Of course, you should should not believe these assertions without evidence, so\n",
    "your next step is to use the *simulation* tools you have learned, to [test the\n",
    "t-test](testing_t)."
   ]
  }
 ],
 "metadata": {
  "jupytext": {
   "notebook_metadata_filter": "all,-language_info",
   "split_at_heading": true
  },
  "kernelspec": {
   "display_name": "Python (Pyodide)",
   "name": "python"
  }
 },
 "nbformat": 4,
 "nbformat_minor": 5
}
