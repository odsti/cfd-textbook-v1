{
 "cells": [
  {
   "cell_type": "markdown",
   "id": "3afd3672",
   "metadata": {},
   "source": [
    "# Booleans and labels\n",
    "\n",
    "We have already used Boolean series to index data frames and other series.\n",
    "\n",
    "This page gives a little more details about how that works, in order to explain\n",
    "some subtleties in results."
   ]
  },
  {
   "cell_type": "markdown",
   "id": "a4027fb5",
   "metadata": {},
   "source": [
    "We return to the World Bank statistics on development and gender in\n",
    "{download}`gender_stats.csv <data/gender_stats.csv>`.\n",
    "\n",
    "Download that file to the same directory as this notebook, if you are running\n",
    "on your own computer.\n",
    "\n",
    "Here we pull out the rows for the countries with the highest Gross Domestic\n",
    "Product. This may be familiar from the [data frame\n",
    "intro](data_frame_intro) and the [Pandas indexing\n",
    "page](pandas_indexing).\n"
   ]
  },
  {
   "cell_type": "code",
   "execution_count": null,
   "id": "c1d40d69",
   "metadata": {},
   "outputs": [],
   "source": [
    "import numpy as np\n",
    "import pandas as pd\n",
    "# Safe setting for Pandas.  Needs Pandas version >= 1.5.\n",
    "pd.set_option('mode.copy_on_write', True)"
   ]
  },
  {
   "cell_type": "code",
   "execution_count": null,
   "id": "a92fa7cd",
   "metadata": {},
   "outputs": [],
   "source": [
    "# Load the data file as a data frame.\n",
    "gender_data = pd.read_csv('data/gender_stats.csv')\n",
    "\n",
    "# Sort by GDP.\n",
    "df_by_gdp = gender_data.sort_values('gdp_us_billion', ascending=False)\n",
    "# Take the top 5 rows.\n",
    "richest_5 = df_by_gdp.head(5)\n",
    "richest_5"
   ]
  },
  {
   "cell_type": "markdown",
   "id": "b488028e",
   "metadata": {},
   "source": [
    "Consider the index (row labels) of this 5-row data frame:"
   ]
  },
  {
   "cell_type": "code",
   "execution_count": null,
   "id": "36270255",
   "metadata": {},
   "outputs": [],
   "source": [
    "richest_5.index"
   ]
  },
  {
   "cell_type": "markdown",
   "id": "8fce059b",
   "metadata": {},
   "source": [
    "Now let us say we want to select some of these rows with Boolean indexing. Here\n",
    "is a Boolean series with True for rows where `health_exp_per_cap` is greater\n",
    "than 3500 dollars, False otherwise."
   ]
  },
  {
   "cell_type": "code",
   "execution_count": null,
   "id": "23885eac",
   "metadata": {},
   "outputs": [],
   "source": [
    "# Create a Boolean series with True for big spender rows, False otherwise.\n",
    "is_big_spender = richest_5['health_exp_per_cap'] > 3500\n",
    "is_big_spender"
   ]
  },
  {
   "cell_type": "markdown",
   "id": "620c2734",
   "metadata": {},
   "source": [
    "Notice that this Series, like all Series, has an index, which is the same as\n",
    "the index from the Series we used to make it\n",
    "(`richest_5['health_exp_per_cap']`), and therefore, the same as the index for\n",
    "the data frame (`richest_5`)."
   ]
  },
  {
   "cell_type": "code",
   "execution_count": null,
   "id": "54cd57de",
   "metadata": {},
   "outputs": [],
   "source": [
    "is_big_spender.index"
   ]
  },
  {
   "cell_type": "markdown",
   "id": "25869a4f",
   "metadata": {},
   "source": [
    "Let's say we are interested in the `country_name` for countries spending more\n",
    "than 3500 dollars per capita on health care.  We can do this with, for example,\n",
    "`loc`:"
   ]
  },
  {
   "cell_type": "code",
   "execution_count": null,
   "id": "8dbd4bc1",
   "metadata": {},
   "outputs": [],
   "source": [
    "richest_5.loc[is_big_spender, 'country_name']"
   ]
  },
  {
   "cell_type": "markdown",
   "id": "6d5d32c9",
   "metadata": {},
   "source": [
    "`loc` gives us the rows for which *corresponding* elements in  `is_big_spender`\n",
    "are True.\n",
    "\n",
    "But what does *corresponding* mean?   Does it mean corresponding in terms of\n",
    "position?   Or in terms of index (row / element labels)?\n",
    "\n",
    "Here's the Boolean series again:"
   ]
  },
  {
   "cell_type": "code",
   "execution_count": null,
   "id": "0951fd63",
   "metadata": {},
   "outputs": [],
   "source": [
    "is_big_spender"
   ]
  },
  {
   "cell_type": "markdown",
   "id": "b530ea05",
   "metadata": {},
   "source": [
    "If *corresponding* means corresponding in terms of *position* then we would\n",
    "take the first row of `richest_5` (because the first element in\n",
    "`is_big_spender` is True) but not the second row (because the second element in\n",
    "`is_big_spender` is False) and so on.\n",
    "\n",
    "If *corresponding* means corresponding in terms of *labels* then we would take\n",
    "the row from `richest_5` with label 202 (because the element labeled 202 in\n",
    "`is_big_spender` is True), but we do not take the row labeled 35 (because the\n",
    "element labeled 35 in `is_big_spender` is False), and so on."
   ]
  },
  {
   "cell_type": "markdown",
   "id": "ec08685e",
   "metadata": {},
   "source": [
    "We cannot distinguish between these alternatives at the moment, because the\n",
    "order of the labels is the same in the data frame `richest_5` and the series\n",
    "`is_big_spender`, so *positions* and *labels* will give the same answer."
   ]
  },
  {
   "cell_type": "markdown",
   "id": "c57f94d8",
   "metadata": {},
   "source": [
    "We can distinguish when the order of the labels is not the same in the Boolean\n",
    "series and the data frame.  For example, we can sort the series, like this:"
   ]
  },
  {
   "cell_type": "code",
   "execution_count": null,
   "id": "4b69c438",
   "metadata": {},
   "outputs": [],
   "source": [
    "sorted_is_big_spender = is_big_spender.sort_values()\n",
    "sorted_is_big_spender"
   ]
  },
  {
   "cell_type": "markdown",
   "id": "08c65f8d",
   "metadata": {},
   "source": [
    "Now the order of the row labels is different in the series (above) and the data\n",
    "frame (below):"
   ]
  },
  {
   "cell_type": "code",
   "execution_count": null,
   "id": "d62f2b9d",
   "metadata": {},
   "outputs": [],
   "source": [
    "richest_5.index"
   ]
  },
  {
   "cell_type": "markdown",
   "id": "84896d77",
   "metadata": {},
   "source": [
    "If we index with this sorted series, and indexing uses the *position* of the\n",
    "True and False values, we would expect to see the last three rows, because the\n",
    "values in the last three positions are True (and the others are False).\n",
    "\n",
    "If indexing uses *labels*, then we expect to get the same answer we got before,\n",
    "because the relationship between the True / False values and labels hasn't\n",
    "changed - the elements labeled 202, 97 and 49 have True values, so we expect to\n",
    "see those rows in the result.  So (drum roll):"
   ]
  },
  {
   "cell_type": "code",
   "execution_count": null,
   "id": "34f7a624",
   "metadata": {},
   "outputs": [],
   "source": [
    "richest_5.loc[sorted_is_big_spender, 'country_name']"
   ]
  },
  {
   "cell_type": "markdown",
   "id": "3dcf2038",
   "metadata": {},
   "source": [
    "The result is the same as for the not-sorted series - and we have found that\n",
    "`loc` indexing uses the *labels* rather than the *positions* when indexing with\n",
    "a Boolean series.\n",
    "\n",
    "On reflection, maybe that is not surprising - after all, [we already\n",
    "know](pandas_indexing) that `loc` indexing does indexing by *label*."
   ]
  },
  {
   "cell_type": "markdown",
   "id": "4dc258db",
   "metadata": {},
   "source": [
    "We usually will not have to worry about the difference between labels and\n",
    "positions in Boolean Series, because, usually, the row labels and positions are\n",
    "the same in the thing we index (data frame, or Series) and the Boolean series\n",
    "we use for indexing.  This was the case at the top of this page, and in all\n",
    "previous times you have seen Boolean indexing on data frames or series.\n"
   ]
  },
  {
   "cell_type": "markdown",
   "id": "ded239ab",
   "metadata": {},
   "source": [
    "## What about iloc?"
   ]
  },
  {
   "cell_type": "markdown",
   "id": "e56ec527",
   "metadata": {},
   "source": [
    "`iloc` does indexing by *position* - so what approach does `iloc` take to the\n",
    "labels on a Boolean series?\n",
    "\n",
    "We guess that `iloc` does not use the labels on a Boolean series, but what does\n",
    "it do?  Does it throw away the labels and just look at the positions of the\n",
    "True and False values?  Or something else?"
   ]
  },
  {
   "cell_type": "code",
   "execution_count": null,
   "id": "181a696c",
   "metadata": {
    "tags": [
     "raises-exception"
    ]
   },
   "outputs": [],
   "source": [
    "# iloc indexing with a Boolean series.\n",
    "# The 'country_name' column is the first column,\n",
    "# so it is at offset 0 in the columns.\n",
    "richest_5.iloc[sorted_is_big_spender, 0]"
   ]
  },
  {
   "cell_type": "markdown",
   "id": "3bf8e1c9",
   "metadata": {},
   "source": [
    "It does something else - it gives an error, telling us that it will not use the\n",
    "index.   This is so whatever the index order - even if the index and the\n",
    "positions give the same answer:"
   ]
  },
  {
   "cell_type": "code",
   "execution_count": null,
   "id": "0ad59481",
   "metadata": {
    "tags": [
     "raises-exception"
    ]
   },
   "outputs": [],
   "source": [
    "# iloc with the original Boolean series, where positions\n",
    "# and labels match.\n",
    "richest_5.iloc[is_big_spender, 0]"
   ]
  },
  {
   "cell_type": "markdown",
   "id": "1bec0c1f",
   "metadata": {},
   "source": [
    "If you want to use Boolean indexing with `iloc`, you can use a Boolean sequence\n",
    "without row / element labels, such as a Numpy array.  We can achieve that by\n",
    "converting the Boolean Series to a Numpy array, and therefore, throwing away\n",
    "the index (element labels):"
   ]
  },
  {
   "cell_type": "code",
   "execution_count": null,
   "id": "99538855",
   "metadata": {},
   "outputs": [],
   "source": [
    "sorted_is_big_spender_arr = np.array(sorted_is_big_spender)\n",
    "sorted_is_big_spender_arr"
   ]
  },
  {
   "cell_type": "markdown",
   "id": "76f4ec39",
   "metadata": {},
   "source": [
    "This Boolean sequence will work with `iloc`, because it has no index (element\n",
    "labels) to trip it up:"
   ]
  },
  {
   "cell_type": "code",
   "execution_count": null,
   "id": "37e06ba0",
   "metadata": {},
   "outputs": [],
   "source": [
    "# You can use a Boolean array to index rows, with \"iloc\".\n",
    "richest_5.iloc[sorted_is_big_spender_arr, 0]"
   ]
  },
  {
   "cell_type": "markdown",
   "id": "cd41b54b",
   "metadata": {},
   "source": [
    "Notice this does gives us the rows where the matching *position* has True."
   ]
  }
 ],
 "metadata": {
  "jupytext": {
   "notebook_metadata_filter": "all,-language_info",
   "split_at_heading": true
  },
  "kernelspec": {
   "display_name": "Python (Pyodide)",
   "name": "python"
  },
  "orphan": true
 },
 "nbformat": 4,
 "nbformat_minor": 5
}
