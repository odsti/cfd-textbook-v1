{
 "cells": [
  {
   "cell_type": "markdown",
   "id": "a5d38958",
   "metadata": {},
   "source": [
    "# Plotting the classics"
   ]
  },
  {
   "cell_type": "code",
   "execution_count": null,
   "id": "fab4ce16",
   "metadata": {
    "tags": [
     "hide-cell"
    ]
   },
   "outputs": [],
   "source": [
    "# The standard set of libraries we need\n",
    "import numpy as np\n",
    "import matplotlib.pyplot as plt\n",
    "\n",
    "# Make plots look a little bit more fancy\n",
    "plt.style.use('fivethirtyeight')\n",
    "\n",
    "# The standard library for data in tables\n",
    "import pandas as pd\n",
    "pd.set_option('mode.copy_on_write', True)\n",
    "\n",
    "# Get the Path object for reading text from files.\n",
    "from pathlib import Path"
   ]
  },
  {
   "cell_type": "markdown",
   "id": "fcc2284f",
   "metadata": {},
   "source": [
    "{ucb-page}`Plotting_the_Classics`\n",
    "\n",
    "In this example, we will explore statistics for: *Pride and Prejudice*\n",
    "by Jane Austen.  The text of any book can be read by a computer at great\n",
    "speed.  Books published before 1923 are currently in the *public domain*,\n",
    "meaning that everyone has the right to copy or use the text in any way.\n",
    "[Project Gutenberg](http://www.gutenberg.org/) is a website that publishes\n",
    "public domain books online. Using Python, we can load the text of these books\n",
    "directly from the web.\n",
    "\n",
    "This example is meant to illustrate some of the broad themes of this text.\n",
    "Don't worry if the details of the program don't yet make sense. Instead, focus\n",
    "on interpreting the images generated below. Later sections of the text will\n",
    "describe most of the features of the Python programming language used below.\n",
    "\n",
    "First, we read the text of of the book into the memory of the computer.\n",
    "\n",
    "We have taken the liberty of downloading a copy of the text from\n",
    "<http://www.gutenberg.org/ebooks/42671.txt.utf-8> to the `data` directory of\n",
    "the textbook — but you can check that the file `data/pride_and_prejudice.txt`\n",
    "is the same the copy you see on the web."
   ]
  },
  {
   "cell_type": "code",
   "execution_count": null,
   "id": "8e08b133",
   "metadata": {},
   "outputs": [],
   "source": [
    "# Get the text for Pride and Prejudice.\n",
    "# Don't worry about this code for the moment.\n",
    "book_text = Path('data/pride_and_prejudice.txt').read_text()"
   ]
  },
  {
   "cell_type": "markdown",
   "id": "aa5753f6",
   "metadata": {},
   "source": [
    "On the last line, Python gets the text of the book from our copy at\n",
    "`data/pride_and_prejudice.txt`, and gives the read copy of text a name\n",
    "(`book_text`). In Python, a name cannot contain any spaces, and so we will\n",
    "often use an underscore `_` to stand in for a space. The `=` in gives a name\n",
    "(on the left) to the result of some computation described on the right.\n",
    "\n",
    "The `#` symbol starts a comment, which is ignored by the computer but helpful\n",
    "for people reading the code.\n",
    "\n",
    "Now we have the text attached to the name `book_text`, we can ask Python to\n",
    "show us how the text starts:"
   ]
  },
  {
   "cell_type": "code",
   "execution_count": null,
   "id": "ef4ec273",
   "metadata": {},
   "outputs": [],
   "source": [
    "# Show the first 500 characters of the text\n",
    "print(book_text[:500])"
   ]
  },
  {
   "cell_type": "markdown",
   "id": "0cfc9f46",
   "metadata": {},
   "source": [
    "You might want to check this is the same as the text you see by opening the\n",
    "URL in your browser: <http://www.gutenberg.org/ebooks/42671.txt.utf-8>\n",
    "\n",
    "Now we have the text in memory, we can start to analyze it.  First we break\n",
    "the text into chapters.  Don't worry about the details of the code, we will\n",
    "cover these in the rest of the course."
   ]
  },
  {
   "cell_type": "code",
   "execution_count": null,
   "id": "a947bd65",
   "metadata": {},
   "outputs": [],
   "source": [
    "# Break the text into Chapters\n",
    "book_chapters = book_text.split('CHAPTER ')\n",
    "# Drop the first \"Chapter\" - it's the Project Gutenberg header\n",
    "book_chapters = book_chapters[1:]"
   ]
  },
  {
   "cell_type": "markdown",
   "id": "9103a5b3",
   "metadata": {},
   "source": [
    "We can show the first half-line or so for each chapter, by putting the\n",
    "chapters into a *table*.  You will see these tables or *data frames* many\n",
    "times during this course."
   ]
  },
  {
   "cell_type": "code",
   "execution_count": null,
   "id": "63968cd6",
   "metadata": {},
   "outputs": [],
   "source": [
    "# Show the first few words of each chapter in a table.\n",
    "pd.DataFrame(book_chapters, columns=['Chapters'])"
   ]
  },
  {
   "cell_type": "markdown",
   "id": "ef309d7f",
   "metadata": {},
   "source": [
    "This is your first view of a data frame.  Ignore the first column for now - it\n",
    "is just a row number.  The second column shows the first few characters of the\n",
    "text in the chapter.   The text starts with the chapter number in Roman\n",
    "numerals.  You might want to check the text from the link above to reassure\n",
    "yourself that this comes from the text we downloaded.  Next you see some odd\n",
    "characters with backslashes, such as `\\r` and `\\n`.  These are representations\n",
    "of new lines, or paragraph marks.  Last you will see the beginning of the\n",
    "first sentence of the chapter.\n",
    "\n",
    "{ucb-page}`Plotting_the_Classics`"
   ]
  }
 ],
 "metadata": {
  "jupytext": {
   "formats": "Rmd,ipynb",
   "notebook_metadata_filter": "language_info"
  },
  "kernelspec": {
   "display_name": "Python (Pyodide)",
   "name": "python"
  },
  "language_info": {
   "codemirror_mode": {
    "name": "ipython",
    "version": 3
   },
   "file_extension": ".py",
   "mimetype": "text/x-python",
   "name": "python",
   "nbconvert_exporter": "python",
   "pygments_lexer": "ipython3",
   "version": "3.6.5"
  }
 },
 "nbformat": 4,
 "nbformat_minor": 5
}
