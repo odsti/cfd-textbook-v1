{
 "cells": [
  {
   "cell_type": "markdown",
   "id": "b557767d",
   "metadata": {},
   "source": [
    "# Finding lines\n",
    "\n",
    "In [The Mean and Slopes](mean_and_slopes), we were looking for the best slope\n",
    "to predict one vector of values from another vector of values.\n",
    "\n",
    "Specifically, we wanted our slope to predict the Packed Cell Volume (PCV)\n",
    "values from the Hemoglobin (HGB) values.\n",
    "\n",
    "By analogy with [The Mean as Predictor](mean_meaning), we decided to choose our\n",
    "line to minimize the average prediction errors, and the sum of squared\n",
    "prediction errors.\n",
    "\n",
    "We found a solution, by trying many slopes, and choosing the slope giving use\n",
    "the smallest error.\n",
    "\n",
    "For our question, we were happy to assume that the line passed through 0,\n",
    "0 — meaning, that when the Hemoglobin is 0, the Packed Cell Volume value is 0.\n",
    "Put another way, we assumed that our line had an *intercept* value of 0.  The\n",
    "intercept is the y value at which the line crosses the y axis, or, put another\n",
    "way, the y value when the x value is 0.\n",
    "\n",
    "What if we are in a situation where we want to find a line that had a (not\n",
    "zero) intercept, as well as a slope?"
   ]
  },
  {
   "cell_type": "code",
   "execution_count": null,
   "id": "bb07760b",
   "metadata": {},
   "outputs": [],
   "source": [
    "import numpy as np\n",
    "import pandas as pd\n",
    "pd.set_option('mode.copy_on_write', True)\n",
    "import matplotlib.pyplot as plt\n",
    "# Make plots look a little bit more fancy\n",
    "plt.style.use('fivethirtyeight')\n",
    "# Print to 4 decimal places, show tiny values as 0\n",
    "np.set_printoptions(precision=4, suppress=True)"
   ]
  },
  {
   "cell_type": "markdown",
   "id": "24e2846d",
   "metadata": {},
   "source": [
    "We return to the [students ratings dataset](data/rate_my_professors) dataset.\n",
    "\n",
    "This is a dataset, in Excel form, where each row is the average of students'\n",
    "ratings from <RateMyProfessors.com> across a single subject.  Thus, the first\n",
    "row refers to the average of all professors teaching English, the second row\n",
    "refers to all professors teaching Mathematics, and so on.\n",
    "\n",
    "Download the data file via this link {download}`rate_my_course.csv <data/rate_my_course.csv>`.\n",
    "\n",
    "Next we load the data."
   ]
  },
  {
   "cell_type": "code",
   "execution_count": null,
   "id": "a91b102c",
   "metadata": {},
   "outputs": [],
   "source": [
    "# Read the data file\n",
    "ratings = pd.read_csv('data/rate_my_course.csv')\n",
    "ratings.head()"
   ]
  },
  {
   "cell_type": "markdown",
   "id": "189d3d9d",
   "metadata": {},
   "source": [
    "We are interested in the relationship of the \"Overall Quality\" measure to the\n",
    "\"Easiness\" measure."
   ]
  },
  {
   "cell_type": "code",
   "execution_count": null,
   "id": "fac53c16",
   "metadata": {},
   "outputs": [],
   "source": [
    "# Get the columns as arrays for simplicity and speed.\n",
    "easiness = np.array(ratings['Easiness'])\n",
    "quality = np.array(ratings['Overall Quality'])"
   ]
  },
  {
   "cell_type": "markdown",
   "id": "f91bc3da",
   "metadata": {},
   "source": [
    "Do students rate easier courses as being of better quality?"
   ]
  },
  {
   "cell_type": "code",
   "execution_count": null,
   "id": "06e3e4ae",
   "metadata": {},
   "outputs": [],
   "source": [
    "plt.plot(easiness, quality, 'o')\n",
    "plt.xlabel('Easiness')\n",
    "plt.ylabel('Overall Quality')"
   ]
  },
  {
   "cell_type": "markdown",
   "id": "23fc1da3",
   "metadata": {},
   "source": [
    "There might be a straight-line relationship here, but it doesn't look as if it\n",
    "would go through 0, 0:"
   ]
  },
  {
   "cell_type": "code",
   "execution_count": null,
   "id": "8d6be281",
   "metadata": {},
   "outputs": [],
   "source": [
    "# The same plot as above, but showing the x, y origin at 0, 0\n",
    "plt.plot(easiness, quality, 'o')\n",
    "plt.xlabel('Easiness')\n",
    "plt.ylabel('Overall Quality')\n",
    "# Make sure 0, 0 is on the plot.\n",
    "plt.axis([0, 3.9, 0, 4.2])"
   ]
  },
  {
   "cell_type": "markdown",
   "id": "f71ae8fb",
   "metadata": {},
   "source": [
    "In [The Mean and Slopes](mean_and_slopes), we assumed that the intercept was zero, so we only had to try different slopes to get our best line."
   ]
  },
  {
   "cell_type": "markdown",
   "id": "ada4089b",
   "metadata": {},
   "source": [
    "Here we have a different problem, because we want to find a line that has an\n",
    "intercept that is not zero, so we need to find the *best slope* and the *best\n",
    "intercept* at the same time.  How do we search for a slope as well as an\n",
    "intercept?"
   ]
  },
  {
   "cell_type": "markdown",
   "id": "66f03744",
   "metadata": {},
   "source": [
    "But wait - why do we have to search for the slope and the intercept *at the same time*?  Can't we just find the best slope, and then the best intercept?\n",
    "\n",
    "In fact we can't do that, because the best slope will change for every intercept.\n",
    "\n",
    "To see why that is, we need to try a few different lines.   To do that, we need to remind ourselves about defining lines, and then testing them."
   ]
  },
  {
   "cell_type": "markdown",
   "id": "71945624",
   "metadata": {},
   "source": [
    "Remember, we can describe a line with an *intercept* and a *slope*.  Call the\n",
    "*intercept* $c$ and a *slope* $s$.  A line predicts the $y$ values from the\n",
    "$x$ values, using the slope $s$ and the intercept $c$:\n",
    "\n",
    "$$\n",
    "y = c + x * s\n",
    "$$"
   ]
  },
  {
   "cell_type": "markdown",
   "id": "84c586ae",
   "metadata": {},
   "source": [
    "Let's start with a guess for the line, just from eyeballing the plot. We guess\n",
    "that:\n",
    "\n",
    "* The intercept is around 2.25\n",
    "* The slope is around 0.47\n",
    "\n",
    "The *predicted* $y$ values from this line are (from the formula above):"
   ]
  },
  {
   "cell_type": "code",
   "execution_count": null,
   "id": "2a1b5f4e",
   "metadata": {},
   "outputs": [],
   "source": [
    "predicted = 2.25 + easiness * 0.47"
   ]
  },
  {
   "cell_type": "markdown",
   "id": "ac53dbd1",
   "metadata": {},
   "source": [
    "where `easiness` contains our actual $x$ values.\n",
    "\n",
    "The prediction error at each point come from the actual $y$ values minus the\n",
    "predicted $y$ values."
   ]
  },
  {
   "cell_type": "code",
   "execution_count": null,
   "id": "3be4466a",
   "metadata": {},
   "outputs": [],
   "source": [
    "errors = quality - predicted"
   ]
  },
  {
   "cell_type": "markdown",
   "id": "5fd5e625",
   "metadata": {},
   "source": [
    "where `quality` contains our actual $y$ values.\n",
    "\n",
    "We can look at the *predictions* for this line (in red), and the actual values (in blue) and then the errors (the lengths of the dotted lines joining the red predictions and the corresponding blue actual values)."
   ]
  },
  {
   "cell_type": "code",
   "execution_count": null,
   "id": "e365ba5d",
   "metadata": {},
   "outputs": [],
   "source": [
    "# Don't worry about this code.\n",
    "# It plots the line, and the errors.\n",
    "x_values = easiness  # The thing we're predicting from, on the x axis\n",
    "y_values = quality  # The thing we're predicting, on the y axis.\n",
    "plt.plot(x_values, y_values, 'o')\n",
    "plt.plot(x_values, predicted, 'o', color='red')\n",
    "# Draw a line between predicted and actual\n",
    "for i in np.arange(len(x_values)):\n",
    "    x = x_values[i]\n",
    "    y_0 = predicted[i]\n",
    "    y_1 = y_values[i]\n",
    "    plt.plot([x, x], [y_0, y_1], ':', color='black', linewidth=1)"
   ]
  },
  {
   "cell_type": "markdown",
   "id": "41e4f6ee",
   "metadata": {},
   "source": [
    "The Root Mean Squared Error (RMSE) is:"
   ]
  },
  {
   "cell_type": "code",
   "execution_count": null,
   "id": "143ed1c7",
   "metadata": {
    "lines_to_next_cell": 0
   },
   "outputs": [],
   "source": [
    "# Root mean squared error given c and s\n",
    "rmse_c_s = np.sqrt(np.mean(errors ** 2))\n",
    "rmse_c_s"
   ]
  },
  {
   "cell_type": "markdown",
   "id": "535b1885",
   "metadata": {},
   "source": [
    "Actually, those bits of code are so useful, let's make them into a function:"
   ]
  },
  {
   "cell_type": "code",
   "execution_count": null,
   "id": "491e112c",
   "metadata": {},
   "outputs": [],
   "source": [
    "def plot_with_errors(x_values, y_values, c, s):\n",
    "    \"\"\" Plot a line through data with errors\n",
    "\n",
    "    Parameters\n",
    "    ----------\n",
    "    x_values : array\n",
    "        Values we are predicting from, for the x-axis of the plot.\n",
    "    y_values : array\n",
    "        Values we are predicting, for the y-axis of the plot.\n",
    "    c : number\n",
    "        Intercept for predicting line.\n",
    "    s : number\n",
    "        Slope for predicting line.\n",
    "\n",
    "    Returns\n",
    "    -------\n",
    "    rmse : number\n",
    "        The square root of the mean squared error, for the given `x_values`,\n",
    "        `y_values` and line.\n",
    "    \"\"\"\n",
    "    # Predict the y values from the line.\n",
    "    predicted = c + s * x_values\n",
    "    # Errors are the real values minus the predicted values.\n",
    "    errors = y_values - predicted\n",
    "    # Plot real values in blue, predicted values in red.\n",
    "    plt.plot(x_values, y_values, 'o', color='blue')\n",
    "    plt.plot(x_values, predicted, 'o', color='red')\n",
    "    # Draw a line between predicted and actual\n",
    "    for i in np.arange(len(x_values)):\n",
    "        x = x_values[i]\n",
    "        y_0 = predicted[i]\n",
    "        y_1 = y_values[i]\n",
    "        plt.plot([x, x], [y_0, y_1], ':', color='black', linewidth=1)\n",
    "    return np.sqrt(np.mean(errors ** 2))"
   ]
  },
  {
   "cell_type": "markdown",
   "id": "c092096e",
   "metadata": {},
   "source": [
    "Notice the string at the top of the function, giving details about what the function does, its arguments, and the values it returns.  This is called the *docstring*.  It can remind you and other people what the function does, and how to use it.  Try making a new cell and type `plot_with_errors?`.  You'll see this string is the help that Python will fetch for this function.\n",
    "\n",
    "Now the same thing with the function:"
   ]
  },
  {
   "cell_type": "code",
   "execution_count": null,
   "id": "69373fc4",
   "metadata": {},
   "outputs": [],
   "source": [
    "plot_with_errors(easiness, quality, 2.25, 0.47)"
   ]
  },
  {
   "cell_type": "markdown",
   "id": "bfe47c01",
   "metadata": {},
   "source": [
    "If we try a different intercept, we'll get a different line, and a different\n",
    "error.  Let's try an intercept of 2.1:"
   ]
  },
  {
   "cell_type": "code",
   "execution_count": null,
   "id": "4d32f39d",
   "metadata": {},
   "outputs": [],
   "source": [
    "plot_with_errors(easiness, quality, 2.1, 0.47)"
   ]
  },
  {
   "cell_type": "markdown",
   "id": "6ac57f94",
   "metadata": {},
   "source": [
    "Or, we could go back to the same intercept, but try a different slope, and we'd get a different error.  Let's try a slope of 0.5:"
   ]
  },
  {
   "cell_type": "code",
   "execution_count": null,
   "id": "a6f4a634",
   "metadata": {},
   "outputs": [],
   "source": [
    "plot_with_errors(easiness, quality, 2.25, 0.5)"
   ]
  },
  {
   "cell_type": "markdown",
   "id": "e4568991",
   "metadata": {},
   "source": [
    "Now we use the long slow method to find the best slope for our initial\n",
    "intercept of 2.25.  You may recognize the following from the [mean and\n",
    "slopes](mean_and_slopes) notebook.\n",
    "\n",
    "First we make a function, a bit like the function above, that gives us the\n",
    "error for any given intercept (`c`) and slope (`s`) like this:"
   ]
  },
  {
   "cell_type": "code",
   "execution_count": null,
   "id": "72e4c77f",
   "metadata": {},
   "outputs": [],
   "source": [
    "def calc_rmse_for_c_s(c, s):\n",
    "    predicted_quality = c + easiness * s\n",
    "    errors = quality - predicted_quality\n",
    "    return np.sqrt(np.mean(errors ** 2))"
   ]
  },
  {
   "cell_type": "markdown",
   "id": "aafb49d1",
   "metadata": {},
   "source": [
    "We have already calculated the error for the original guess at slope and\n",
    "intercept, but let's do it again for practice:"
   ]
  },
  {
   "cell_type": "code",
   "execution_count": null,
   "id": "5290461e",
   "metadata": {},
   "outputs": [],
   "source": [
    "# RMSE for our initial guessed line.\n",
    "predicted = 2.25 + easiness * 0.47\n",
    "error = quality - predicted\n",
    "np.sqrt(np.mean(error ** 2))"
   ]
  },
  {
   "cell_type": "markdown",
   "id": "58232a88",
   "metadata": {},
   "source": [
    "Check that our function gives the same value for the same intercept and slope:"
   ]
  },
  {
   "cell_type": "code",
   "execution_count": null,
   "id": "8576fe67",
   "metadata": {},
   "outputs": [],
   "source": [
    "calc_rmse_for_c_s(2.25, 0.47)"
   ]
  },
  {
   "cell_type": "markdown",
   "id": "7f06caaf",
   "metadata": {},
   "source": [
    "OK, now we use this function to try lots of different slopes, for this\n",
    "intercept, and see which slope gives us the lowest error.  See the means,\n",
    "slopes notebook for the first time we did this."
   ]
  },
  {
   "cell_type": "code",
   "execution_count": null,
   "id": "8b940b39",
   "metadata": {},
   "outputs": [],
   "source": [
    "some_slopes = np.arange(-2, 2, 0.001)\n",
    "slope_df = pd.DataFrame()\n",
    "slope_df['slope_to_try'] = some_slopes\n",
    "slope_df"
   ]
  },
  {
   "cell_type": "markdown",
   "id": "560b4b1f",
   "metadata": {},
   "source": [
    "As for the [mean and slopes](mean_and_slopes) notebook, we make an array to\n",
    "hold the RMSE results for each slope."
   ]
  },
  {
   "cell_type": "code",
   "execution_count": null,
   "id": "f4cb5056",
   "metadata": {},
   "outputs": [],
   "source": [
    "# Number of slopes.\n",
    "n_slopes = len(some_slopes)\n",
    "# Array to store the RMSE for each slope.\n",
    "rmses = np.zeros(n_slopes)"
   ]
  },
  {
   "cell_type": "markdown",
   "id": "457fb347",
   "metadata": {},
   "source": [
    "Then (as before) we calculate and store the RMSE value for each slope, with this given intercept."
   ]
  },
  {
   "cell_type": "code",
   "execution_count": null,
   "id": "75008bdc",
   "metadata": {},
   "outputs": [],
   "source": [
    "# Try all these slopes for an intercept of 2.25\n",
    "for i in np.arange(n_slopes):  # For each candidate slope.\n",
    "    # Get the corresponding slope.\n",
    "    this_slope = some_slopes[i]\n",
    "    # Calculate the error measure for this slope and intercept 2.25.\n",
    "    this_error = calc_rmse_for_c_s(2.25, this_slope)\n",
    "    # Put the error into the results array at the corresponding position.\n",
    "    rmses[i] = this_error\n",
    "\n",
    "# Put all the RMSE scores into the DataFrame as a column for display.\n",
    "slope_df['RMSE'] = rmses\n",
    "slope_df"
   ]
  },
  {
   "cell_type": "markdown",
   "id": "180d2466",
   "metadata": {},
   "source": [
    "We plot the errors we got for each slope, and find the slope giving the\n",
    "smallest error:"
   ]
  },
  {
   "cell_type": "code",
   "execution_count": null,
   "id": "36a871ba",
   "metadata": {},
   "outputs": [],
   "source": [
    "plt.plot(slope_df['slope_to_try'], slope_df['RMSE'])\n",
    "plt.xlabel('Candidate slopes')\n",
    "plt.ylabel('Root mean squared error')"
   ]
  },
  {
   "cell_type": "markdown",
   "id": "b1621104",
   "metadata": {},
   "source": [
    "Find the row corresponding to the smallest RMSE:"
   ]
  },
  {
   "cell_type": "code",
   "execution_count": null,
   "id": "0ef255fb",
   "metadata": {},
   "outputs": [],
   "source": [
    "# Row label corresponding to minimum value.\n",
    "row_with_min = slope_df['RMSE'].idxmin()\n",
    "slope_df.loc[row_with_min]"
   ]
  },
  {
   "cell_type": "code",
   "execution_count": null,
   "id": "e81e19d0",
   "metadata": {},
   "outputs": [],
   "source": [
    "# Slope giving smallest RMSE for intercept 2.25\n",
    "slope_df.loc[row_with_min, 'RMSE']"
   ]
  },
  {
   "cell_type": "markdown",
   "id": "ca9e5500",
   "metadata": {},
   "source": [
    "OK — that's the best slope for an intercept of 2.25.  How about our other\n",
    "suggestion, of an intercept of 2.1?  Let's try that:"
   ]
  },
  {
   "cell_type": "code",
   "execution_count": null,
   "id": "9695636e",
   "metadata": {},
   "outputs": [],
   "source": [
    "# Try all candidate slopes for an intercept of 2.1.\n",
    "# We will reuse \"rmses\" and \"slope_df\" for simplicity.\n",
    "for i in np.arange(n_slopes):  # For each candidate slope.\n",
    "    # Get the corresponding slope.\n",
    "    this_slope = some_slopes[i]\n",
    "    # Calculate the error measure for this slope and intercept 2.21.\n",
    "    this_error = calc_rmse_for_c_s(2.1, this_slope)\n",
    "    # Put the error into the results array at the corresponding position.\n",
    "    rmses[i] = this_error\n",
    "\n",
    "# Put all the RMSE scores into the DataFrame as a column for display.\n",
    "slope_df['RMSE'] = rmses\n",
    "slope_df"
   ]
  },
  {
   "cell_type": "code",
   "execution_count": null,
   "id": "81185b6a",
   "metadata": {},
   "outputs": [],
   "source": [
    "# Recalculate row holding minimum RMSE\n",
    "row_with_min_for_2p1 = slope_df['RMSE'].idxmin()\n",
    "slope_df.loc[row_with_min_for_2p1]"
   ]
  },
  {
   "cell_type": "markdown",
   "id": "7bc0383e",
   "metadata": {},
   "source": [
    "Oh dear - the best slope has changed.  And, in general, for any intercept, you\n",
    "may able to see that the best slope will be different, as the slope tries to\n",
    "adjust for the stuff that the intercept does not explain.\n",
    "\n",
    "This means we can't just find the intercept, and find the best slope for that\n",
    "intercept, at least not in our case - we have to find the best *pair* of\n",
    "intercept and slope.  This is the pair, of all possible pairs, that gives the\n",
    "lowest error."
   ]
  },
  {
   "cell_type": "markdown",
   "id": "351e3896",
   "metadata": {},
   "source": [
    "Our task then, is to find the *pair of values* — `c` and `s` — such that we get\n",
    "the smallest possible value for the root mean squared errors above."
   ]
  },
  {
   "cell_type": "markdown",
   "id": "9330d08e",
   "metadata": {},
   "source": [
    "One way of doing this, is to try *every possible* plausible pair of intercept\n",
    "and slope, calculate the error for this pair, and then find the *pair* that\n",
    "gave the lowest error.\n",
    "\n",
    "We are now searching over many *pairs* of slopes and intercepts."
   ]
  },
  {
   "cell_type": "markdown",
   "id": "92cbd698",
   "metadata": {},
   "source": [
    "Here are some candidate intercepts to try:"
   ]
  },
  {
   "cell_type": "code",
   "execution_count": null,
   "id": "e3be86c6",
   "metadata": {},
   "outputs": [],
   "source": [
    "# Some intercepts to try\n",
    "some_inters = np.arange(1, 3.2, 0.01)\n",
    "inter_df = pd.DataFrame()\n",
    "inter_df['intercept_to_try'] = some_inters\n",
    "inter_df"
   ]
  },
  {
   "cell_type": "markdown",
   "id": "e2c841ba",
   "metadata": {},
   "source": [
    "We would like to calculate RMSE values for all *combinations* of slopes and intercepts.   That is, we want to get RMSE values for all slopes, for the first intercept value (1), *and* RMSE values for all slopes, and the second intercept value (1.01), and so on.\n",
    "\n",
    "We have:"
   ]
  },
  {
   "cell_type": "code",
   "execution_count": null,
   "id": "b0497946",
   "metadata": {},
   "outputs": [],
   "source": [
    "print('Number of slopes to try:', n_slopes)\n",
    "n_inters = len(some_inters)\n",
    "print('Number of intercepts to try:', n_inters)\n",
    "n_pairs = n_slopes * n_inters\n",
    "print('Number of pairs to try:', n_pairs)"
   ]
  },
  {
   "cell_type": "markdown",
   "id": "13b79391",
   "metadata": {},
   "source": [
    "To do this, we could make a new DataFrame with one row per intercept, slope pair.  The intercept column `inter_to_try` will have the intercept values, and the second `slope_to_try` will have the slope values.\n",
    "\n",
    "Let's repeat each intercept value `n_slopes` times, using [np.repeat](np_repeat).   As you remember, `np.repeat` repeats each element in the array by a given number of times:"
   ]
  },
  {
   "cell_type": "code",
   "execution_count": null,
   "id": "2a763754",
   "metadata": {},
   "outputs": [],
   "source": [
    "# Repeat each element in the array 3 times.\n",
    "np.repeat([1, 2, 3], 3)"
   ]
  },
  {
   "cell_type": "markdown",
   "id": "babec4aa",
   "metadata": {},
   "source": [
    "To make the column of intercepts we repeat each element of the intercepts array `n_slopes` times:"
   ]
  },
  {
   "cell_type": "code",
   "execution_count": null,
   "id": "598794a4",
   "metadata": {},
   "outputs": [],
   "source": [
    "pair_df = pd.DataFrame()\n",
    "repeated_inters = np.repeat(some_inters, n_slopes)\n",
    "# Show in DataFrame\n",
    "pair_df['inter_to_try'] = repeated_inters\n",
    "pair_df"
   ]
  },
  {
   "cell_type": "markdown",
   "id": "1184e3f7",
   "metadata": {},
   "source": [
    "To make the `slope_to_try` column, we need to repeat *the whole `some_slopes` array* `n_inters` times.   Notice that `np.repeat` repeats each *element* a given number of times.  To repeat the whole array, we can use `np.tile`, like this:"
   ]
  },
  {
   "cell_type": "code",
   "execution_count": null,
   "id": "2e99be98",
   "metadata": {},
   "outputs": [],
   "source": [
    "# Repeat the whole array 3 times.\n",
    "np.tile([1, 2, 3], 3)"
   ]
  },
  {
   "cell_type": "markdown",
   "id": "30c8e30a",
   "metadata": {},
   "source": [
    "To repeat the whole `some_slopes` array `n_inters` times:"
   ]
  },
  {
   "cell_type": "code",
   "execution_count": null,
   "id": "e9cc6d52",
   "metadata": {},
   "outputs": [],
   "source": [
    "tiled_slopes = np.tile(some_slopes, n_inters)\n",
    "# Show in DataFrame\n",
    "pair_df['slope_to_try'] = tiled_slopes\n",
    "pair_df"
   ]
  },
  {
   "cell_type": "markdown",
   "id": "78240825",
   "metadata": {},
   "source": [
    "The rows of this DataFrame (and the arrays that went into them) define all the\n",
    "possible intercept, slope pairs.\n",
    "\n",
    "We next make another array to contains the RMSE values for each pair."
   ]
  },
  {
   "cell_type": "code",
   "execution_count": null,
   "id": "c3f718af",
   "metadata": {},
   "outputs": [],
   "source": [
    "# An array to store the RMSE values for each intercept, slope pair.\n",
    "pair_rmses = np.zeros(n_pairs)"
   ]
  },
  {
   "cell_type": "markdown",
   "id": "6c49f818",
   "metadata": {},
   "source": [
    "We can use these arrays to go through each slope, intercept pair in turn,\n",
    "calculate the RMSE, and store it for later use."
   ]
  },
  {
   "cell_type": "code",
   "execution_count": null,
   "id": "003c3064",
   "metadata": {},
   "outputs": [],
   "source": [
    "# Go through each pair to calculate the corresponding RMSE.\n",
    "# (Or, equivalently, go through the values for each row in the `pair_df`\n",
    "# DataFrame).\n",
    "for i in np.arange(n_pairs):\n",
    "    # Get the intercept for this pair (intercept at this position).\n",
    "    this_intercept = repeated_inters[i]\n",
    "    # Get the slope for this pair (slope at this position).\n",
    "    this_slope = tiled_slopes[i]\n",
    "    # Calculate the error measure.\n",
    "    this_error = calc_rmse_for_c_s(this_intercept, this_slope)\n",
    "    # Put the error into the RMSE results array at this position.\n",
    "    pair_rmses[i] = this_error\n",
    "\n",
    "# Add the RMSE column to the original DataFrame for display.\n",
    "pair_df['RMSE'] = pair_rmses\n",
    "pair_df"
   ]
  },
  {
   "cell_type": "markdown",
   "id": "3504659b",
   "metadata": {},
   "source": [
    "For each of the `n_inters` possible intercepts, we have tried all `n_slopes`\n",
    "possible slopes, and we have found the RMSE for each intercept, slope pair.  We can now find the *pair* that gives the lowest RMSE."
   ]
  },
  {
   "cell_type": "code",
   "execution_count": null,
   "id": "c04992ac",
   "metadata": {},
   "outputs": [],
   "source": [
    "# The lowest error that we found for any slope, intercept pair\n",
    "min_row_label = pair_df['RMSE'].idxmin()\n",
    "best_row = pair_df.loc[min_row_label]\n",
    "best_row"
   ]
  },
  {
   "cell_type": "markdown",
   "id": "79a4037b",
   "metadata": {},
   "source": [
    "Notice that the error (RMSE) for this pair is lower than the error we found for\n",
    "our guessed `c` and `s`:"
   ]
  },
  {
   "cell_type": "code",
   "execution_count": null,
   "id": "0ae82805",
   "metadata": {},
   "outputs": [],
   "source": [
    "calc_rmse_for_c_s(2.25, 0.47)"
   ]
  },
  {
   "cell_type": "code",
   "execution_count": null,
   "id": "4081a0fa",
   "metadata": {},
   "outputs": [],
   "source": [
    "# The intercept corresponding to the lowest error\n",
    "best_intercept = best_row['inter_to_try']\n",
    "best_slope = best_row['slope_to_try']\n",
    "print('Best intercept, slope pair:', best_intercept, best_slope)"
   ]
  },
  {
   "cell_type": "markdown",
   "id": "6812696b",
   "metadata": {},
   "source": [
    "Plot the data, predictions and errors for the line that minimizes the sum of\n",
    "squared error:"
   ]
  },
  {
   "cell_type": "code",
   "execution_count": null,
   "id": "f0953ec0",
   "metadata": {},
   "outputs": [],
   "source": [
    "plot_with_errors(easiness, quality, best_intercept, best_slope)"
   ]
  },
  {
   "cell_type": "markdown",
   "id": "9f60165f",
   "metadata": {},
   "source": [
    "Now you know about [optimization](optimization), you will not be surprised to\n",
    "discover that Scipy `minimize` can also do the search for the intercept and\n",
    "slope pair for us.  We send `minimize` the function we are trying to minimize,\n",
    "and a starting guess for the intercept and slope."
   ]
  },
  {
   "cell_type": "markdown",
   "id": "68f444b5",
   "metadata": {},
   "source": [
    "`minimize` is a little fussy about the functions it will use.  It insists that all the parameters need to be passed in as a single argument.   In our case, we need to pass both parameters (the intercept and slope) as one value, containing two elements, like this:"
   ]
  },
  {
   "cell_type": "code",
   "execution_count": null,
   "id": "60dc7fef",
   "metadata": {},
   "outputs": [],
   "source": [
    "def calc_rmse_for_minimize(c_s):\n",
    "    # c_s has two elements, the intercept c and the slope s.\n",
    "    c = c_s[0]\n",
    "    s = c_s[1]\n",
    "    predicted_quality = c + easiness * s\n",
    "    errors = quality - predicted_quality\n",
    "    return np.sqrt(np.mean(errors ** 2))"
   ]
  },
  {
   "cell_type": "markdown",
   "id": "9b48dbb2",
   "metadata": {},
   "source": [
    "This is the form of the function that minimize can use.  See [using\n",
    "minimize](using_minimize) for more detail.\n",
    "\n",
    "We first confirm this gives us the same answer we got before from our function with two arguments:"
   ]
  },
  {
   "cell_type": "code",
   "execution_count": null,
   "id": "e213c0a8",
   "metadata": {},
   "outputs": [],
   "source": [
    "# The original function\n",
    "calc_rmse_for_c_s(2.25, 0.47)"
   ]
  },
  {
   "cell_type": "code",
   "execution_count": null,
   "id": "b0beef01",
   "metadata": {},
   "outputs": [],
   "source": [
    "# The function in the form that minimize wants\n",
    "# The two parameters go into a list, that we can pass as a single argument.\n",
    "calc_rmse_for_minimize([2.25, 0.47])"
   ]
  },
  {
   "cell_type": "markdown",
   "id": "8a574464",
   "metadata": {},
   "source": [
    "As usual with `minimize` we need to give a starting guess for the intercept and\n",
    "slope.  We will start with our initial guess of `[2.25, 0.47]`, but any\n",
    "reasonable guess will do."
   ]
  },
  {
   "cell_type": "code",
   "execution_count": null,
   "id": "2f1fdb4a",
   "metadata": {},
   "outputs": [],
   "source": [
    "from scipy.optimize import minimize\n",
    "minimize(calc_rmse_for_minimize, [2.25, 0.47])"
   ]
  },
  {
   "cell_type": "markdown",
   "id": "25e8e203",
   "metadata": {},
   "source": [
    "Notice that `minimize` doesn't get exactly the same result as we found with the\n",
    "long slow way above.  This is because the long slow way only tested intercepts\n",
    "that were step-sizes of 0.01 apart (and slopes that were 0.001 apart).\n",
    "`minimize` can use much smaller step-sizes, and so finds a more accurate\n",
    "answer.\n",
    "\n",
    "We won't spend any time justifying this, but this is also the answer we get\n",
    "from traditional fitting of the least-squares line, as implemented, for\n",
    "example, in the Scipy `linregress` function:"
   ]
  },
  {
   "cell_type": "code",
   "execution_count": null,
   "id": "9b8cb1a3",
   "metadata": {},
   "outputs": [],
   "source": [
    "from scipy.stats import linregress\n",
    "linregress(easiness, quality)"
   ]
  },
  {
   "cell_type": "markdown",
   "id": "5fbdd71f",
   "metadata": {},
   "source": [
    "Notice the values for `slope` and `intercept` in the output above."
   ]
  }
 ],
 "metadata": {
  "jupytext": {
   "notebook_metadata_filter": "all,-language_info",
   "split_at_heading": true
  },
  "kernelspec": {
   "display_name": "Python (Pyodide)",
   "name": "python"
  }
 },
 "nbformat": 4,
 "nbformat_minor": 5
}
