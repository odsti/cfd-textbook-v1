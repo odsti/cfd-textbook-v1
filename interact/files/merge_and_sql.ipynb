{
 "cells": [
  {
   "cell_type": "markdown",
   "id": "7e7d3baf",
   "metadata": {},
   "source": [
    "# Pandas merging and SQL"
   ]
  },
  {
   "cell_type": "code",
   "execution_count": null,
   "id": "2f115713",
   "metadata": {
    "tags": [
     "hide-cell"
    ]
   },
   "outputs": [],
   "source": [
    "# Don't change this cell; just run it.\n",
    "import numpy as np\n",
    "import pandas as pd\n",
    "# Safe setting for Pandas.  Needs Pandas version >= 1.5.\n",
    "pd.set_option('mode.copy_on_write', True)\n",
    "import matplotlib.pyplot as plt\n",
    "# Make the plots look more fancy.\n",
    "plt.style.use('fivethirtyeight')"
   ]
  },
  {
   "cell_type": "markdown",
   "id": "f3b92ddc",
   "metadata": {},
   "source": [
    "[SQL](https://en.wikipedia.org/wiki/SQL) (pronounced \"sequel\") is a standard language for working with data in tables.  Among its many features, SQL can merge tables using *queries*.  SQL calls these merges - *JOINS*.\n",
    "\n",
    "Pandas `merge` has the same behavior as SQL's `INNER JOIN`."
   ]
  },
  {
   "cell_type": "code",
   "execution_count": null,
   "id": "d192ce6c",
   "metadata": {},
   "outputs": [],
   "source": [
    "cones = pd.DataFrame()\n",
    "cones['Flavor'] = ['strawberry', 'vanilla', 'chocolate', 'strawberry',\n",
    "                   'chocolate']\n",
    "cones['Price'] = [3.55, 4.75, 6.55, 5.25, 5.75]\n",
    "cones"
   ]
  },
  {
   "cell_type": "code",
   "execution_count": null,
   "id": "a182a564",
   "metadata": {},
   "outputs": [],
   "source": [
    "ratings = pd.DataFrame()\n",
    "ratings['Flavor'] = ['strawberry', 'chocolate', 'vanilla']\n",
    "ratings['Stars'] = [2.5, 3.5, 4]\n",
    "ratings"
   ]
  },
  {
   "cell_type": "markdown",
   "id": "8bf92298",
   "metadata": {},
   "source": [
    "Pandas `merge` is symmetrical - you get the same result from `cones.merge(ratings ...)` and `ratings.merge(cones ...`."
   ]
  },
  {
   "cell_type": "code",
   "execution_count": null,
   "id": "c4b6f3f6",
   "metadata": {},
   "outputs": [],
   "source": [
    "# Do an Pandas merge into \"cones\" from \"ratings\"\n",
    "cones.merge(ratings, on='Flavor')"
   ]
  },
  {
   "cell_type": "code",
   "execution_count": null,
   "id": "f40fc267",
   "metadata": {},
   "outputs": [],
   "source": [
    "# Do an Pandas merge into \"ratings\" from \"cones\"\n",
    "ratings.merge(cones, on='Flavor')"
   ]
  },
  {
   "cell_type": "markdown",
   "id": "cc3452b9",
   "metadata": {},
   "source": [
    "SQL `INNER JOIN` has the same behavior.\n",
    "\n",
    "See:\n",
    "\n",
    "* [Pandas to_sql documentation](https://pandas.pydata.org/pandas-docs/stable/reference/api/pandas.DataFrame.to_sql.html)\n",
    "* [SQL INNER JOIN tutorial](https://www.sqlitetutorial.net/sqlite-inner-join)"
   ]
  },
  {
   "cell_type": "code",
   "execution_count": null,
   "id": "15e9dd9e",
   "metadata": {},
   "outputs": [],
   "source": [
    "# Use a standard SQL library for Python\n",
    "import sqlalchemy as sql\n",
    "# Make a database using the basic SQLite database software\n",
    "engine = sql.create_engine('sqlite://', echo=False)"
   ]
  },
  {
   "cell_type": "code",
   "execution_count": null,
   "id": "f317f1dc",
   "metadata": {},
   "outputs": [],
   "source": [
    "# Make a \"connection\" to the database\n",
    "connection = engine.connect()"
   ]
  },
  {
   "cell_type": "code",
   "execution_count": null,
   "id": "a3de8f7e",
   "metadata": {},
   "outputs": [],
   "source": [
    "# Write the data frames as tables in the SQL database.\n",
    "cones.to_sql('cones', con=connection)\n",
    "ratings.to_sql('ratings', con=connection)"
   ]
  },
  {
   "cell_type": "code",
   "execution_count": null,
   "id": "f47d2f74",
   "metadata": {},
   "outputs": [],
   "source": [
    "# Show that we can recover the cones data from the database.\n",
    "connection.execute(sql.text(\"SELECT * FROM cones\")).fetchall()"
   ]
  },
  {
   "cell_type": "code",
   "execution_count": null,
   "id": "637af941",
   "metadata": {},
   "outputs": [],
   "source": [
    "# Show that we can recover the ratings data from the database.\n",
    "connection.execute(sql.text(\"SELECT * FROM ratings\")).fetchall()"
   ]
  },
  {
   "cell_type": "code",
   "execution_count": null,
   "id": "628acfb2",
   "metadata": {},
   "outputs": [],
   "source": [
    "# Do an inner join into \"cones\" from \"ratings\"\n",
    "cones_ratings_query = sql.text(\"\"\"\n",
    "SELECT *\n",
    "FROM cones\n",
    "INNER JOIN ratings ON ratings.Flavor = cones.Flavor\n",
    "\"\"\")\n",
    "connection.execute(cones_ratings_query).fetchall()"
   ]
  },
  {
   "cell_type": "code",
   "execution_count": null,
   "id": "0d1edeaa",
   "metadata": {},
   "outputs": [],
   "source": [
    "# Do an inner join into \"ratings\" from \"cones\"\n",
    "ratings_cones_query = sql.text(\"\"\"\n",
    "SELECT *\n",
    "FROM ratings\n",
    "INNER JOIN cones ON cones.Flavor = ratings.Flavor\n",
    "\"\"\")\n",
    "connection.execute(ratings_cones_query).fetchall()"
   ]
  },
  {
   "cell_type": "markdown",
   "id": "4b2c5942",
   "metadata": {},
   "source": [
    "Finally, we close the connection."
   ]
  },
  {
   "cell_type": "code",
   "execution_count": null,
   "id": "4c71e2f9",
   "metadata": {},
   "outputs": [],
   "source": [
    "connection.close()"
   ]
  }
 ],
 "metadata": {
  "anaconda-cloud": {},
  "jupytext": {
   "notebook_metadata_filter": "all,-language_info",
   "split_at_heading": true
  },
  "kernelspec": {
   "display_name": "Python (Pyodide)",
   "name": "python"
  },
  "orphan": true
 },
 "nbformat": 4,
 "nbformat_minor": 5
}
