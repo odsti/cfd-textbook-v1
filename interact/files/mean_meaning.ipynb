{
 "cells": [
  {
   "cell_type": "markdown",
   "id": "b171702a",
   "metadata": {},
   "source": [
    "# The meaning of the mean\n",
    "\n",
    "The mean is an interesting value.\n",
    "\n",
    "In this notebook, we fetch an example sequence of numbers, with a distribution\n",
    "that is far from the standard bell-curve distribution.  We look at the\n",
    "properties of the mean as a predictor of the whole distribution.\n",
    "\n",
    "First we load our usual libraries."
   ]
  },
  {
   "cell_type": "code",
   "execution_count": null,
   "id": "8bbfa5a5",
   "metadata": {},
   "outputs": [],
   "source": [
    "import numpy as np\n",
    "# Make random number generator.\n",
    "rng = np.random.default_rng()\n",
    "import matplotlib.pyplot as plt\n",
    "# Make plots look a little bit more fancy\n",
    "plt.style.use('fivethirtyeight')\n",
    "# Print to 2 decimal places, show tiny values as 0\n",
    "np.set_printoptions(precision=2, suppress=True)"
   ]
  },
  {
   "cell_type": "markdown",
   "id": "89ca3f32",
   "metadata": {},
   "source": [
    "We need Pandas to load the gender data that we first saw in the [data frame\n",
    "introduction](data_frame_intro)."
   ]
  },
  {
   "cell_type": "code",
   "execution_count": null,
   "id": "06ba6446",
   "metadata": {},
   "outputs": [],
   "source": [
    "import pandas as pd\n",
    "pd.set_option('mode.copy_on_write', True)"
   ]
  },
  {
   "cell_type": "markdown",
   "id": "54a7c6a6",
   "metadata": {},
   "source": [
    "The dataset is {download}`gender_stats.csv <data/gender_stats.csv>`. This\n",
    "contains some World Bank statistics for each country on health and economic\n",
    "factors related to gender equality. See [the data file\n",
    "page](data/gender_stats) for more detail."
   ]
  },
  {
   "cell_type": "code",
   "execution_count": null,
   "id": "ee4f0d59",
   "metadata": {},
   "outputs": [],
   "source": [
    "# Load the data file\n",
    "gender_data = pd.read_csv('data/gender_stats.csv')"
   ]
  },
  {
   "cell_type": "markdown",
   "id": "e30a484f",
   "metadata": {},
   "source": [
    "In this case, we are only interested in the data for the Maternal Mortality\n",
    "Ratio `mat_mort_ratio`."
   ]
  },
  {
   "cell_type": "code",
   "execution_count": null,
   "id": "d4ece4cb",
   "metadata": {},
   "outputs": [],
   "source": [
    "mat_mort_ratio = gender_data['mat_mort_ratio']"
   ]
  },
  {
   "cell_type": "markdown",
   "id": "9d384ab9",
   "metadata": {},
   "source": [
    "There are many `NaN` values in `mat_mort_ratio`.  For simplicity, we drop\n",
    "these."
   ]
  },
  {
   "cell_type": "code",
   "execution_count": null,
   "id": "f5277d9f",
   "metadata": {},
   "outputs": [],
   "source": [
    "mat_mort_valid = mat_mort_ratio.dropna()"
   ]
  },
  {
   "cell_type": "markdown",
   "id": "5160df7e",
   "metadata": {},
   "source": [
    "`mat_mort_valid` is a still a Pandas Series:"
   ]
  },
  {
   "cell_type": "code",
   "execution_count": null,
   "id": "702b0167",
   "metadata": {},
   "outputs": [],
   "source": [
    "type(mat_mort_valid)"
   ]
  },
  {
   "cell_type": "markdown",
   "id": "132c3f1c",
   "metadata": {},
   "source": [
    "Again, to make things a bit simpler, we convert this Series to an ordinary\n",
    "Numpy array:"
   ]
  },
  {
   "cell_type": "code",
   "execution_count": null,
   "id": "85082c99",
   "metadata": {},
   "outputs": [],
   "source": [
    "mm_arr = np.array(mat_mort_valid)"
   ]
  },
  {
   "cell_type": "markdown",
   "id": "59b3fd3c",
   "metadata": {},
   "source": [
    "The values for `mm_arr` are very far from a standard bell-curve or [normal\n",
    "distribution](https://en.wikipedia.org/wiki/Normal_distribution)."
   ]
  },
  {
   "cell_type": "code",
   "execution_count": null,
   "id": "b33d9d7c",
   "metadata": {},
   "outputs": [],
   "source": [
    "plt.hist(mm_arr);"
   ]
  },
  {
   "cell_type": "markdown",
   "id": "5d5e5c4a",
   "metadata": {},
   "source": [
    "We are interested in the *mean*."
   ]
  },
  {
   "cell_type": "code",
   "execution_count": null,
   "id": "9babecd1",
   "metadata": {},
   "outputs": [],
   "source": [
    "mm_mean = np.mean(mm_arr)\n",
    "mm_mean"
   ]
  },
  {
   "cell_type": "markdown",
   "id": "09c0a3a4",
   "metadata": {},
   "source": [
    "Plot the mean position on the histogram:\n"
   ]
  },
  {
   "cell_type": "code",
   "execution_count": null,
   "id": "5c2d45fa",
   "metadata": {},
   "outputs": [],
   "source": [
    "plt.hist(mm_arr);\n",
    "plt.axhline(mm_mean, color='red')"
   ]
  },
  {
   "cell_type": "markdown",
   "id": "6d0615c6",
   "metadata": {},
   "source": [
    "As you remember, we get the mean by adding up all the values, and then dividing\n",
    "by the number of values, often written as $n$."
   ]
  },
  {
   "cell_type": "code",
   "execution_count": null,
   "id": "7a08cb3c",
   "metadata": {},
   "outputs": [],
   "source": [
    "np.sum(mm_arr) / len(mm_arr)"
   ]
  },
  {
   "cell_type": "markdown",
   "id": "93484924",
   "metadata": {},
   "source": [
    "## Guess the center game\n",
    "\n",
    "Now let's consider the following game.\n",
    "\n",
    "Your job is to guess the *center value* of an array of values.  Here we've been\n",
    "working on `mm_arr`, but it could be any array.\n",
    "\n",
    "You don't know anything at all about these values, but I have all the values in front of me.\n",
    "\n",
    "For example, let's say the values are:"
   ]
  },
  {
   "cell_type": "code",
   "execution_count": null,
   "id": "c9c80529",
   "metadata": {},
   "outputs": [],
   "source": [
    "secret_values = np.array([10, 3, -7, -12, 99, 23])"
   ]
  },
  {
   "cell_type": "markdown",
   "id": "3f8e306d",
   "metadata": {},
   "source": [
    "I will give you £10, then ask you to make your guess.\n",
    "\n",
    "I will take away some money if your guess for the *center value* is not good.\n",
    "\n",
    "What is a good *center value*?  We will define a good center value as being a\n",
    "value where I get a small *sum of deviations*.\n",
    "\n",
    "The deviations are the values I get when I subtract your guess from the array\n",
    "of values.\n",
    "\n",
    "Let's say your guess was 10:"
   ]
  },
  {
   "cell_type": "code",
   "execution_count": null,
   "id": "ba89f032",
   "metadata": {},
   "outputs": [],
   "source": [
    "your_guess = 10"
   ]
  },
  {
   "cell_type": "markdown",
   "id": "04ce75a4",
   "metadata": {},
   "source": [
    "The deviations are:"
   ]
  },
  {
   "cell_type": "code",
   "execution_count": null,
   "id": "368be9f3",
   "metadata": {},
   "outputs": [],
   "source": [
    "# Subtract your guess from all the values in secret_values\n",
    "secret_deviations = secret_values - your_guess\n",
    "secret_deviations"
   ]
  },
  {
   "cell_type": "markdown",
   "id": "1e7f030e",
   "metadata": {},
   "source": [
    "The sum of the deviations is the result of adding up all the deviations."
   ]
  },
  {
   "cell_type": "code",
   "execution_count": null,
   "id": "af69aee6",
   "metadata": {},
   "outputs": [],
   "source": [
    "sum_deviations = np.sum(secret_deviations)"
   ]
  },
  {
   "cell_type": "markdown",
   "id": "2609c1ef",
   "metadata": {},
   "source": [
    "The sum of deviations is *small* when the absolute value of sum of of\n",
    "deviations is close to 0."
   ]
  },
  {
   "cell_type": "code",
   "execution_count": null,
   "id": "df99193f",
   "metadata": {},
   "outputs": [],
   "source": [
    "abs_sum_dev = np.abs(sum_deviations)\n",
    "abs_sum_dev"
   ]
  },
  {
   "cell_type": "markdown",
   "id": "e323a097",
   "metadata": {},
   "source": [
    "When you give my your guess `your_guess`, I will calculate `abs_sum_dev`, and\n",
    "ask you for that much money back.\n",
    "\n",
    "Let's put the calculation together into a function I will run, to tell you the\n",
    "money you need to pay:"
   ]
  },
  {
   "cell_type": "code",
   "execution_count": null,
   "id": "68517494",
   "metadata": {},
   "outputs": [],
   "source": [
    "def money_you_pay(values_array, guess):\n",
    "    \"\"\" Give the absolute of the sum of devations\n",
    "\n",
    "    Parameters\n",
    "    ----------\n",
    "    values_array : array\n",
    "        An array of values that I know and you do not.\n",
    "    guess : float\n",
    "        A single number that is your guess for the center\n",
    "        of the spread of `values_array`\n",
    "\n",
    "    Returns\n",
    "    -------\n",
    "    you_pay : float\n",
    "        The absolute value of the sum of deviations.\n",
    "    \"\"\"\n",
    "    deviations = values_array - guess\n",
    "    return np.abs(np.sum(deviations))"
   ]
  },
  {
   "cell_type": "markdown",
   "id": "0d79e6ac",
   "metadata": {},
   "source": [
    "The function just repeats the calculation we did above:"
   ]
  },
  {
   "cell_type": "code",
   "execution_count": null,
   "id": "ee39b0fc",
   "metadata": {},
   "outputs": [],
   "source": [
    "money_you_pay(secret_values, your_guess)"
   ]
  },
  {
   "cell_type": "markdown",
   "id": "315a1731",
   "metadata": {},
   "source": [
    "So far you are at a disadvantage, because you don't know anything about the\n",
    "numbers in `secret_array`.  They could all be more than a million, so if\n",
    "`your_guess` is 10, you will lose a lot of money.\n",
    "\n",
    "To make it fair, I will allow you to ask me for the result of one calculation\n",
    "on `secret_numbers`.  It can be anything — you could ask for the median, the\n",
    "mode, the mean, a random element from the array, or anything else.\n",
    "\n",
    "What number would you ask for, to help you give a good guess?\n"
   ]
  },
  {
   "cell_type": "markdown",
   "id": "d506924d",
   "metadata": {},
   "source": [
    "## The mean as a predictor\n",
    "\n",
    "Now let's say that you asked me to calculate the mean, and you used that as\n",
    "your guess.\n",
    "\n",
    "Let's try that on `secret_values`:"
   ]
  },
  {
   "cell_type": "code",
   "execution_count": null,
   "id": "da972e75",
   "metadata": {},
   "outputs": [],
   "source": [
    "money_you_pay(secret_values, np.mean(secret_values))"
   ]
  },
  {
   "cell_type": "markdown",
   "id": "f91d0c37",
   "metadata": {},
   "source": [
    "Nice!  The money you pay is very close to 0 - and you win (near as dammit) £10!\n",
    "\n",
    "Now let's imagine the secret values are in fact the MMR values — `mm_arr`."
   ]
  },
  {
   "cell_type": "code",
   "execution_count": null,
   "id": "752cc80f",
   "metadata": {},
   "outputs": [],
   "source": [
    "money_you_pay(mm_arr, np.mean(mm_arr))"
   ]
  },
  {
   "cell_type": "markdown",
   "id": "3832aa9b",
   "metadata": {},
   "source": [
    "Nice again!\n",
    "\n",
    "You win, because the sum of deviations adds up to (very_nearly) 0."
   ]
  },
  {
   "cell_type": "code",
   "execution_count": null,
   "id": "e2e1ee6b",
   "metadata": {},
   "outputs": [],
   "source": [
    "mm_mean = np.mean(mm_arr)\n",
    "# Sum of deviations from the mean.\n",
    "np.sum(mm_arr - mm_mean)"
   ]
  },
  {
   "cell_type": "markdown",
   "id": "e03ba584",
   "metadata": {},
   "source": [
    "In fact, this is a property of the mean.  The deviations from the mean sum to\n",
    "zero.\n",
    "\n",
    "In fact, it is not very hard to show that the deviations [must sum to\n",
    "zero](mean_deviations).\n"
   ]
  },
  {
   "cell_type": "markdown",
   "id": "31a6527b",
   "metadata": {},
   "source": [
    "## Sum of squared deviations\n",
    "\n",
    "Another prediction we might be interested in, is one that gives us the smallest\n",
    "squared difference from the actual values.\n",
    "\n",
    "Here are the squared differences from the mean."
   ]
  },
  {
   "cell_type": "code",
   "execution_count": null,
   "id": "e819a08d",
   "metadata": {},
   "outputs": [],
   "source": [
    "# Squared prediction errors, for the mean\n",
    "deviations = mm_arr - mm_mean\n",
    "sq_deviations = deviations ** 2\n",
    "# Show the first ten\n",
    "sq_deviations[:10]"
   ]
  },
  {
   "cell_type": "markdown",
   "id": "3158382f",
   "metadata": {},
   "source": [
    "Call the deviations — the *prediction errors*.  They are errors because the\n",
    "deviation is the distance of the prediction (here, `mm_mean`) from the actual\n",
    "value.\n",
    "\n",
    "With a good prediction (guess), we might want these squared prediction errors\n",
    "(squared deviations) to be small.  We can see how small these are by adding\n",
    "them all up.  This gives us the *sum of squares* or *sum of squared error*."
   ]
  },
  {
   "cell_type": "code",
   "execution_count": null,
   "id": "b19e5d33",
   "metadata": {},
   "outputs": [],
   "source": [
    "sos = np.sum(sq_deviations)\n",
    "sos"
   ]
  },
  {
   "cell_type": "markdown",
   "id": "5fccd9d0",
   "metadata": {},
   "source": [
    "The value above is the sum of squared prediction errors when we use the mean as\n",
    "the predictor.  Could some other value give us a better (lower) sum of squared\n",
    "prediction error?\n",
    "\n",
    "Let's try lots of predictors, to see which gives us the smallest squared\n",
    "prediction error."
   ]
  },
  {
   "cell_type": "code",
   "execution_count": null,
   "id": "b89365e4",
   "metadata": {},
   "outputs": [],
   "source": [
    "# Try lots of values between 150 and 210\n",
    "predictors = np.arange(150, 210, 0.1)\n",
    "# First 10\n",
    "predictors[:10]"
   ]
  },
  {
   "cell_type": "markdown",
   "id": "bd59d2dd",
   "metadata": {},
   "source": [
    "We make a function that accepts the values, and the predictor as arguments, and\n",
    "returns the sum of squares of the prediction errors:"
   ]
  },
  {
   "cell_type": "code",
   "execution_count": null,
   "id": "8abdc509",
   "metadata": {},
   "outputs": [],
   "source": [
    "def sum_of_squares(vals, predictor):\n",
    "    deviations = vals - predictor\n",
    "    sq_deviations = deviations ** 2\n",
    "    return np.sum(sq_deviations)"
   ]
  },
  {
   "cell_type": "markdown",
   "id": "40472c5a",
   "metadata": {},
   "source": [
    "We confirm that this gives us the value we saw before, when we use the mean as\n",
    "a predictor:"
   ]
  },
  {
   "cell_type": "code",
   "execution_count": null,
   "id": "1e0a0313",
   "metadata": {},
   "outputs": [],
   "source": [
    "sum_of_squares(mm_arr, mm_mean)"
   ]
  },
  {
   "cell_type": "markdown",
   "id": "9618a26d",
   "metadata": {},
   "source": [
    "Here's what we get if we use the first predictor value:"
   ]
  },
  {
   "cell_type": "code",
   "execution_count": null,
   "id": "32f740cf",
   "metadata": {},
   "outputs": [],
   "source": [
    "sum_of_squares(mm_arr, predictors[0])"
   ]
  },
  {
   "cell_type": "markdown",
   "id": "3dfad0a9",
   "metadata": {},
   "source": [
    "Now we try all the predictor values, to see which value gives us the lowest sum\n",
    "of squared errors."
   ]
  },
  {
   "cell_type": "code",
   "execution_count": null,
   "id": "2eb51795",
   "metadata": {},
   "outputs": [],
   "source": [
    "# How many predictors do we have to try?\n",
    "n_predictors = len(predictors)\n",
    "n_predictors"
   ]
  },
  {
   "cell_type": "code",
   "execution_count": null,
   "id": "fa1a59ac",
   "metadata": {},
   "outputs": [],
   "source": [
    "# An array to store the sum of squares values for each predictor\n",
    "sos_for_predictors = np.zeros(n_predictors)"
   ]
  },
  {
   "cell_type": "markdown",
   "id": "ad5d0796",
   "metadata": {},
   "source": [
    "We calculate all the sums of squares:"
   ]
  },
  {
   "cell_type": "code",
   "execution_count": null,
   "id": "8f91a494",
   "metadata": {},
   "outputs": [],
   "source": [
    "for i in np.arange(n_predictors):\n",
    "    predictor = predictors[i]\n",
    "    sos = sum_of_squares(mm_arr, predictor)\n",
    "    sos_for_predictors[i] = sos"
   ]
  },
  {
   "cell_type": "markdown",
   "id": "1fcee4e3",
   "metadata": {},
   "source": [
    "Which predictor is giving us the lowest value for the sum of squares?"
   ]
  },
  {
   "cell_type": "code",
   "execution_count": null,
   "id": "084e9fcb",
   "metadata": {},
   "outputs": [],
   "source": [
    "plt.plot(predictors, sos_for_predictors)\n",
    "plt.xlabel('Predictor')\n",
    "plt.ylabel('Sum of squares');"
   ]
  },
  {
   "cell_type": "markdown",
   "id": "31d443c4",
   "metadata": {},
   "source": [
    "The smallest value we found for the sum of squares was:"
   ]
  },
  {
   "cell_type": "code",
   "execution_count": null,
   "id": "5fbbcd6a",
   "metadata": {},
   "outputs": [],
   "source": [
    "np.min(sos_for_predictors)"
   ]
  },
  {
   "cell_type": "markdown",
   "id": "5bb73492",
   "metadata": {},
   "source": [
    "In fact, the value for the mean is even lower:"
   ]
  },
  {
   "cell_type": "code",
   "execution_count": null,
   "id": "156a4d5b",
   "metadata": {},
   "outputs": [],
   "source": [
    "sum_of_squares(mm_arr, mm_mean)"
   ]
  },
  {
   "cell_type": "markdown",
   "id": "ea818890",
   "metadata": {},
   "source": [
    "Plot the position of the mean on the plot of sum of squares:"
   ]
  },
  {
   "cell_type": "code",
   "execution_count": null,
   "id": "313e7a15",
   "metadata": {},
   "outputs": [],
   "source": [
    "plt.plot(predictors, sos_for_predictors)\n",
    "plt.axhline(mm_mean, color='red')\n",
    "plt.xlabel('Predictor')\n",
    "plt.ylabel('Sum of squares');"
   ]
  },
  {
   "cell_type": "markdown",
   "id": "b59cd8f0",
   "metadata": {},
   "source": [
    "We would have to use some [fairly simple calculus and\n",
    "algebra](mean_sq_deviations) to show this, but the *mean* has to give\n",
    "the lowest sum of squares error.\n",
    "\n",
    "Put another way, the mean minimizes:\n",
    "\n",
    "* the sum of the deviations (errors);\n",
    "* the sum of squared deviations (errors)."
   ]
  }
 ],
 "metadata": {
  "jupytext": {
   "notebook_metadata_filter": "all,-language_info",
   "split_at_heading": true
  },
  "kernelspec": {
   "display_name": "Python (Pyodide)",
   "name": "python"
  }
 },
 "nbformat": 4,
 "nbformat_minor": 5
}
