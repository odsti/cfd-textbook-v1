{
 "cells": [
  {
   "cell_type": "markdown",
   "id": "fc7443a6",
   "metadata": {},
   "source": [
    "# Iteration\n",
    "\n",
    "{ucb-page}`Iteration`"
   ]
  },
  {
   "cell_type": "code",
   "execution_count": null,
   "id": "d5f708ff",
   "metadata": {},
   "outputs": [],
   "source": [
    "# Load the Numpy package, and rename to \"np\"\n",
    "import numpy as np\n",
    "# Make random number generator.\n",
    "rng = np.random.default_rng()"
   ]
  },
  {
   "cell_type": "markdown",
   "id": "9fef48b6",
   "metadata": {},
   "source": [
    "It is often the case in programming – especially when dealing with randomness\n",
    "— that we want to repeat a process multiple times.\n",
    "\n",
    "We know the [`choice` method of the `rng` object](rng_choice)\n",
    "claims to choose randomly between options we specify:"
   ]
  },
  {
   "cell_type": "code",
   "execution_count": null,
   "id": "549f6e5a",
   "metadata": {},
   "outputs": [],
   "source": [
    "coin = rng.choice([0, 1])\n",
    "coin"
   ]
  },
  {
   "cell_type": "markdown",
   "id": "5194e759",
   "metadata": {},
   "source": [
    "We might want to check this really does in fact pick 0 or 1 with about the same\n",
    "probability.  To do that, we could start by running the following cell many\n",
    "times to see if we get roughly equal numbers of 0s and 1s."
   ]
  },
  {
   "cell_type": "code",
   "execution_count": null,
   "id": "f80b3310",
   "metadata": {},
   "outputs": [],
   "source": [
    "rng.choice([0, 1])"
   ]
  },
  {
   "cell_type": "markdown",
   "id": "95549709",
   "metadata": {},
   "source": [
    "We might want to re-run code with slightly different input or other slightly\n",
    "different behavior. We could copy-paste the code multiple times, but that's\n",
    "tedious and prone to typos, and if we wanted to do it a thousand times or\n",
    "a million times, forget it.\n",
    "\n",
    "A more automated solution is to use a `for` statement to loop over the\n",
    "contents of a sequence. This is called *iteration*. A `for` statement begins\n",
    "with the word `for`, followed by a name we want to give each item in the\n",
    "sequence, followed by the word `in`, and ending with an expression that\n",
    "evaluates to a sequence. The indented body of the `for` statement is executed\n",
    "once *for each item in that sequence*."
   ]
  },
  {
   "cell_type": "code",
   "execution_count": null,
   "id": "409d13e8",
   "metadata": {},
   "outputs": [],
   "source": [
    "for v in np.arange(3):\n",
    "    print(v)"
   ]
  },
  {
   "cell_type": "markdown",
   "id": "586828fa",
   "metadata": {},
   "source": [
    "## The idea behind a for loop\n",
    "\n",
    "The for loop takes a sequence of things (in our case, the sequence 0, 1, 2), and, for each element in the sequence, it does some task.   The task is the indented part of the for loop, also called the *body* of the for loop.\n",
    "\n",
    "This is a common pattern where we take a series of things, and perform the\n",
    "same steps on each.  For example, imagine a librarian describing the sequence\n",
    "of steps that he goes through, in issuing a stack of books.  He might say\n",
    "something like:\n",
    "\n",
    "     Get the stack of books to issue from the reader\n",
    "     Put stack of books to issue on my left\n",
    "     For each *book* in [the stack of books on my left]:\n",
    "         Open *book* to first page\n",
    "         Stamp first page of *book*\n",
    "         Close *book*\n",
    "         Put *book* onto stack on my right\n",
    "     (Now I have finished processing all the books)\n",
    "     Hand stack of books on my right to reader\n",
    "\n",
    "Imagine a passport control officer describing their procedure at work:\n",
    "\n",
    "    Sign into computer at immigration station\n",
    "    Open immigration station\n",
    "    For each *person* of [the people in the immigration line]:\n",
    "        Ask *person* for their passport.\n",
    "        Check passport photo against face of *person*.\n",
    "        Scan passport to check against database.\n",
    "        Return passport to *person*.\n",
    "        Allow *person* through to customs.\n",
    "    (Now I have finished processing all the people in the line)\n",
    "    Close immigration station\n",
    "    Sign out of computer at immigration station\n",
    "\n",
    "In either case, we take a sequence of things (books, people), and for each\n",
    "element in that sequence (each book, each person) we perform a task (issuing\n",
    "the book, checking the person's passport).  We have indented the steps of\n",
    "the task that we perform for each (book, person); this is the *task\n",
    "definition*.  In the for loop, the task definition is also called the *body*\n",
    "of the for loop.\n",
    "\n",
    "In the loops above, we did something with each element in the sequence.  For\n",
    "the first loop, the element is one book. The librarian opened, stamped, moved\n",
    "the book.  In the second loop, the element is a person in the immigration\n",
    "line; the officer takes their passport and checks it, and then allows them\n",
    "through.\n",
    "\n",
    "This is not always the case - sometimes we just want to repeat some action a\n",
    "set amount of times.  For example, when you go on a flight, you may see a\n",
    "member of the cabin crew going through the cabin, clicking a clicker once for\n",
    "each passenger.  This is to count the number of passengers.  That loop might\n",
    "be:\n",
    "\n",
    "    Get clicker from equipment cupboard\n",
    "    For each *passenger* of the [passengers in the aircraft]:\n",
    "        Press the clicker\n",
    "    (Now I have finished counting the passengers)\n",
    "    Report number on clicker to ground staff\n",
    "    Put clicker back in cuboard\n",
    "\n",
    "Notice that the body of the loop is \"Press the clicker\", but that doesn't involve the particular **passenger**.  The loop, here, is just a way of repeating the same action multiple times."
   ]
  },
  {
   "cell_type": "markdown",
   "id": "40918eba",
   "metadata": {},
   "source": [
    "## Unrolling the loop\n",
    "\n",
    "Here is the actual Python for loop."
   ]
  },
  {
   "cell_type": "code",
   "execution_count": null,
   "id": "3f01e1a7",
   "metadata": {},
   "outputs": [],
   "source": [
    "for v in np.arange(3):\n",
    "    print(v)"
   ]
  },
  {
   "cell_type": "markdown",
   "id": "d6ac6627",
   "metadata": {},
   "source": [
    "We can read that as:\n",
    "\n",
    "    For each value in the sequence \"np.arange(3)\":\n",
    "        Put the value into the variable \"v\"\n",
    "        Execute the statement \"print(v)\"\n",
    "\n",
    "* `v` is the *loop variable*;\n",
    "* `np.arange(3)` is the *sequence*;\n",
    "* `print(v)` is the *body* of the loop.\n",
    "\n",
    "It is instructive to imagine code that exactly replicates the `for` statement\n",
    "without the `for` statement.  (This is called *unrolling* the loop.)  A `for`\n",
    "statement simply replicates the code inside it, but before each iteration, it\n",
    "assigns a new value from the given sequence to the name we chose.  For\n",
    "example, here is an unrolled version of the loop above:"
   ]
  },
  {
   "cell_type": "code",
   "execution_count": null,
   "id": "b338922a",
   "metadata": {},
   "outputs": [],
   "source": [
    "v = 0\n",
    "print(v)\n",
    "v = 1\n",
    "print(v)\n",
    "v = 2\n",
    "print(v)"
   ]
  },
  {
   "cell_type": "markdown",
   "id": "bbceb78b",
   "metadata": {},
   "source": [
    "Notice that the name `v` is arbitrary, just like any name we assign with `=`.\n",
    "For example, the following `for` loop works in just the same way as the `for`\n",
    "loop above:"
   ]
  },
  {
   "cell_type": "code",
   "execution_count": null,
   "id": "dd9ba75a",
   "metadata": {},
   "outputs": [],
   "source": [
    "for my_variable in np.arange(3):\n",
    "    print(my_variable)"
   ]
  },
  {
   "cell_type": "markdown",
   "id": "abb1d55b",
   "metadata": {},
   "source": [
    "* `my_variable` is the *loop variable*;\n",
    "* `np.arange(3)` is the *sequence*;\n",
    "* `print(my_variable)` is the *body* of the loop.\n",
    "\n",
    "As in the examples above, the body of the loop need not use the loop variable.  We might just use the loop to repeat something several times.  Here is an old-school comedy policeman:"
   ]
  },
  {
   "cell_type": "code",
   "execution_count": null,
   "id": "9dcd55cd",
   "metadata": {},
   "outputs": [],
   "source": [
    "for i in np.arange(3):\n",
    "    print(\"Hello\")"
   ]
  },
  {
   "cell_type": "markdown",
   "id": "e535c254",
   "metadata": {},
   "source": [
    "* `i` is the *loop variable*;\n",
    "* `np.arange(3)` is the *sequence*;\n",
    "* `print(\"Hello\")` is the *body* of the loop.  It does not use the loop\n",
    "  variable.\n",
    "\n",
    "In the next example, we use a `for` statement in a more realistic way: we\n",
    "print the results of five random choices:"
   ]
  },
  {
   "cell_type": "code",
   "execution_count": null,
   "id": "f78a234b",
   "metadata": {},
   "outputs": [],
   "source": [
    "for v in np.arange(5):\n",
    "    print(rng.choice([0, 1]))"
   ]
  },
  {
   "cell_type": "markdown",
   "id": "60a01bfa",
   "metadata": {},
   "source": [
    "In this case, we simply perform exactly the same (random) action several\n",
    "times, so the code inside our `for` statement does not actually refer to the\n",
    "variable `v`."
   ]
  },
  {
   "cell_type": "markdown",
   "id": "362d3268",
   "metadata": {},
   "source": [
    "### Example: Counting the Number of Heads ###\n",
    "\n",
    "We can now simulate five tosses of a coin and place the results into an array.\n",
    "We will start by creating an array of zeros then filling up the array with the\n",
    "result of each toss."
   ]
  },
  {
   "cell_type": "code",
   "execution_count": null,
   "id": "18191786",
   "metadata": {},
   "outputs": [],
   "source": [
    "# An array of zeros\n",
    "tosses = np.zeros(5)\n",
    "\n",
    "for v in np.arange(5):\n",
    "    tosses[v] = rng.choice([0, 1])\n",
    "\n",
    "tosses"
   ]
  },
  {
   "cell_type": "markdown",
   "id": "0f43296a",
   "metadata": {},
   "source": [
    "Let us rewrite the cell with the `for` statement unrolled:"
   ]
  },
  {
   "cell_type": "code",
   "execution_count": null,
   "id": "f758e6ed",
   "metadata": {},
   "outputs": [],
   "source": [
    "# An empty array.\n",
    "tosses = np.zeros(5)\n",
    "\n",
    "v = 0\n",
    "tosses[v] = rng.choice([0, 1])\n",
    "v = 1\n",
    "tosses[v] = rng.choice([0, 1])\n",
    "v = 2\n",
    "tosses[v] = rng.choice([0, 1])\n",
    "v = 3\n",
    "tosses[v] = rng.choice([0, 1])\n",
    "v = 4\n",
    "tosses[v] = rng.choice([0, 1])\n",
    "\n",
    "tosses"
   ]
  },
  {
   "cell_type": "markdown",
   "id": "722e1c66",
   "metadata": {},
   "source": [
    "Now we have an array, we can use `np.sum` to count the\n",
    "number of heads in the five tosses."
   ]
  },
  {
   "cell_type": "code",
   "execution_count": null,
   "id": "812ba9f8",
   "metadata": {},
   "outputs": [],
   "source": [
    "np.sum(tosses)"
   ]
  },
  {
   "cell_type": "markdown",
   "id": "d606afd4",
   "metadata": {},
   "source": [
    "Iteration is a powerful technique. For example, by running exactly the\n",
    "same code for 1000 tosses instead of 5, we can count the number of\n",
    "heads in 1000 tosses."
   ]
  },
  {
   "cell_type": "code",
   "execution_count": null,
   "id": "2aca8f37",
   "metadata": {},
   "outputs": [],
   "source": [
    "# An empty array.\n",
    "tosses = np.zeros(1000)\n",
    "\n",
    "for i in np.arange(1000):\n",
    "    tosses[i] = rng.choice([0, 1])\n",
    "\n",
    "tosses"
   ]
  },
  {
   "cell_type": "markdown",
   "id": "03476e30",
   "metadata": {},
   "source": [
    "### Example: Number of Heads in 100 Tosses ###\n",
    "\n",
    "It is natural to expect that in 100 tosses of a coin, there will be 50\n",
    "heads, give or take a few.\n",
    "\n",
    "But how many is \"a few\"? What's the chance of getting exactly 50\n",
    "heads? Questions like these matter in data science not only because\n",
    "they are about interesting aspects of randomness, but also because\n",
    "they can be used in analyzing experiments where assignments to\n",
    "treatment and control groups are decided by the toss of a coin.\n",
    "\n",
    "In this example we will simulate 10,000 repetitions of the following\n",
    "experiment:\n",
    "\n",
    "- Toss a coin 100 times and record the number of heads.\n",
    "\n",
    "The histogram of our results will give us some insight into how many\n",
    "heads are likely."
   ]
  },
  {
   "cell_type": "markdown",
   "id": "38bf49a5",
   "metadata": {},
   "source": [
    "We have already seen that `choice` can take another `size` argument.  The\n",
    "following call returns an array length 10 of random choices from 0 and 1:"
   ]
  },
  {
   "cell_type": "code",
   "execution_count": null,
   "id": "1d497da6",
   "metadata": {},
   "outputs": [],
   "source": [
    "rng.choice([0, 1], size=10)"
   ]
  },
  {
   "cell_type": "markdown",
   "id": "16ca8692",
   "metadata": {},
   "source": [
    "Now let's study 100 tosses. We will start by creating an empty array\n",
    "called `heads`. Then, in each of the 10,000 repetitions, we will toss\n",
    "a coin 100 times, count the number of heads, and append it to `heads`."
   ]
  },
  {
   "cell_type": "code",
   "execution_count": null,
   "id": "0f22cc22",
   "metadata": {},
   "outputs": [],
   "source": [
    "N = 10000\n",
    "\n",
    "head_counts = np.zeros(N)\n",
    "\n",
    "for i in np.arange(N):\n",
    "    tosses = rng.choice([0, 1], size=100)\n",
    "    n_heads = np.sum(tosses)\n",
    "    head_counts[i] = n_heads\n",
    "\n",
    "head_counts"
   ]
  },
  {
   "cell_type": "markdown",
   "id": "71c96ab8",
   "metadata": {},
   "source": [
    "Here is a histogram of the data, with bins of width 1 centered at each value of\n",
    "the number of heads.\n",
    "\n",
    "This is the first time we have used plotting, so please accept this piece of\n",
    "code to initialize the plotting, to begin with:"
   ]
  },
  {
   "cell_type": "code",
   "execution_count": null,
   "id": "2c04d67c",
   "metadata": {},
   "outputs": [],
   "source": [
    "# Please don't worry about this bit of code for now.\n",
    "# It sets up plotting in the notebook.\n",
    "import matplotlib.pyplot as plt\n",
    "# Fancy plots\n",
    "plt.style.use('fivethirtyeight')"
   ]
  },
  {
   "cell_type": "markdown",
   "id": "bf0676de",
   "metadata": {},
   "source": [
    "Now we do the histogram:"
   ]
  },
  {
   "cell_type": "code",
   "execution_count": null,
   "id": "444e00b1",
   "metadata": {},
   "outputs": [],
   "source": [
    "# Again, don't worry about the details here.\n",
    "plt.hist(head_counts, bins=np.arange(30.5, 69.6, 1));"
   ]
  },
  {
   "cell_type": "markdown",
   "id": "7e399f69",
   "metadata": {},
   "source": [
    "Not surprisingly, the histogram looks roughly symmetric around 50 heads. The\n",
    "height of the bar at 50 is about 8% per unit. Since each bin is 1 unit wide,\n",
    "this is the same as saying that about 8% of the repetitions produced exactly 50\n",
    "heads. That's not a huge percent, but it's the largest compared to the percent\n",
    "at every other number of heads.\n",
    "\n",
    "The histogram also shows that in almost all of the repetitions, the number of\n",
    "heads in 100 tosses was somewhere between 35 and 65. Indeed, the bulk of the\n",
    "repetitions produced numbers of heads in the range 45 to 55.\n",
    "\n",
    "While in theory it is *possible* that the number of heads can be\n",
    "anywhere between 0 and 100, the simulation shows that the range of\n",
    "*probable* values is much smaller.\n",
    "\n",
    "This is an instance of a more general phenomenon about the variability\n",
    "in coin tossing, as we will see later in the course.\n",
    "\n",
    "{ucb-page}`Iteration`"
   ]
  }
 ],
 "metadata": {
  "jupytext": {
   "notebook_metadata_filter": "all,-language_info",
   "split_at_heading": true
  },
  "kernelspec": {
   "display_name": "Python (Pyodide)",
   "name": "python"
  }
 },
 "nbformat": 4,
 "nbformat_minor": 5
}
