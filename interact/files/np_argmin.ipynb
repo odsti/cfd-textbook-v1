{
 "cells": [
  {
   "cell_type": "markdown",
   "id": "3e81162e",
   "metadata": {},
   "source": [
    "# Argmin (and argmax)\n",
    "\n",
    "We sometimes want to know where a value is in an array."
   ]
  },
  {
   "cell_type": "code",
   "execution_count": null,
   "id": "e427297c",
   "metadata": {},
   "outputs": [],
   "source": [
    "import numpy as np"
   ]
  },
  {
   "cell_type": "markdown",
   "id": "33278816",
   "metadata": {},
   "source": [
    "By \"where\" we mean, the position (*index*) of an element that contains a\n",
    "particular value.\n",
    "\n",
    "In particular, we often find we want to know the position (index) of the\n",
    "minimum or maximum values in an array.  Enter ... `argmin` and `argmax`.\n",
    "\n",
    "## Argmin, argmax\n",
    "\n",
    "Here is an array:"
   ]
  },
  {
   "cell_type": "code",
   "execution_count": null,
   "id": "feef8370",
   "metadata": {},
   "outputs": [],
   "source": [
    "arr = np.array([2, 99, -1, 4, 99])\n",
    "arr"
   ]
  },
  {
   "cell_type": "markdown",
   "id": "33a11765",
   "metadata": {},
   "source": [
    "We can get the minimum value with Numpy `min`:"
   ]
  },
  {
   "cell_type": "code",
   "execution_count": null,
   "id": "e803e259",
   "metadata": {},
   "outputs": [],
   "source": [
    "np.min(arr)"
   ]
  },
  {
   "cell_type": "markdown",
   "id": "1f26e558",
   "metadata": {},
   "source": [
    "Sometimes we want to know the *position* (*index*) of the minimum value.  Numpy\n",
    "`argmin` returns the position of the minimum value:"
   ]
  },
  {
   "cell_type": "code",
   "execution_count": null,
   "id": "35499b9c",
   "metadata": {},
   "outputs": [],
   "source": [
    "min_pos = np.argmin(arr)\n",
    "min_pos"
   ]
  },
  {
   "cell_type": "markdown",
   "id": "35e2679b",
   "metadata": {},
   "source": [
    "Therefore, we can get the minimum value again with:"
   ]
  },
  {
   "cell_type": "code",
   "execution_count": null,
   "id": "7499f3ec",
   "metadata": {},
   "outputs": [],
   "source": [
    "arr[min_pos]"
   ]
  },
  {
   "cell_type": "markdown",
   "id": "3c7e99ca",
   "metadata": {},
   "source": [
    "There is a matching `argmax` function that returns the position of the maximum\n",
    "value:"
   ]
  },
  {
   "cell_type": "code",
   "execution_count": null,
   "id": "f7b2133b",
   "metadata": {},
   "outputs": [],
   "source": [
    "np.max(arr)"
   ]
  },
  {
   "cell_type": "code",
   "execution_count": null,
   "id": "a33b2f13",
   "metadata": {},
   "outputs": [],
   "source": [
    "max_pos = np.argmax(arr)\n",
    "max_pos"
   ]
  },
  {
   "cell_type": "code",
   "execution_count": null,
   "id": "caffd212",
   "metadata": {},
   "outputs": [],
   "source": [
    "arr[max_pos]"
   ]
  },
  {
   "cell_type": "markdown",
   "id": "3b17582a",
   "metadata": {},
   "source": [
    "Notice that there are *two* values of 99 in this array, and therefore, two\n",
    "maximum values.  `np.argmax` returns the index of the *first* maximum values.\n",
    "`np.argmin` does the same, if there is more than one minimum value."
   ]
  }
 ],
 "metadata": {
  "jupytext": {
   "notebook_metadata_filter": "all,-language_info"
  },
  "kernelspec": {
   "display_name": "Python (Pyodide)",
   "name": "python"
  }
 },
 "nbformat": 4,
 "nbformat_minor": 5
}
