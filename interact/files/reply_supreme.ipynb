{
 "cells": [
  {
   "cell_type": "markdown",
   "id": "d9566eed",
   "metadata": {},
   "source": [
    "# Reply to the Supreme Court\n",
    "\n",
    "[Our task](sampling_problem) has been to reply to the Supreme\n",
    "Court on their judgment in the appeal of Robert Swain."
   ]
  },
  {
   "cell_type": "markdown",
   "id": "e7af70c0",
   "metadata": {},
   "source": [
    "Remember, Robert Swain appealed his death sentence, on the basis that the jury\n",
    "selection was biased against Black people."
   ]
  },
  {
   "cell_type": "markdown",
   "id": "c57ccea4",
   "metadata": {},
   "source": [
    "His trial jury of 12 people had no Black members.\n",
    "\n",
    "The local population of eligible jurors was 26% Black.\n",
    "\n",
    "If the jury had been representative, we would expect about 26 of 100 people to\n",
    "be Black.  That's around 1 in 4 (25%), so we would expect about one in four\n",
    "jurors to be Black - so around 3 of 12.\n",
    "\n",
    "The Supreme Court was not convinced that there was evidence of systematic bias.  But, to start with the jurors - is it surprising that we expected around 3 Black jurors, but we got 0.  Is the value 0 surprising, if each juror has 26% chance of being Black?"
   ]
  },
  {
   "cell_type": "markdown",
   "id": "3881f511",
   "metadata": {},
   "source": [
    "To answer this, we are going to go through a couple of steps.\n",
    "\n",
    "The first is to build an *ideal model* of the world, where it *is true* that\n",
    "each juror has a 26% of being Black.  We sometimes call this our *ideal world*.\n",
    "If you are used to statistical terms, this ideal model is our *null\n",
    "hypothesis*.\n",
    "\n",
    "Then we can *simulate* making many juries in this ideal world.\n",
    "\n",
    "Finally we ask whether our simulated juries, from the ideal world, often give\n",
    "us a count of zero Black jurors.  If they don't, then we can say that we are\n",
    "*surprised* by the value of 0, if the jury did arise from that real world.  If\n",
    "the value 0 is sufficiently unusual, we become suspicious that the real world\n",
    "is rather different from our ideal world.  We consider *rejecting* the ideal\n",
    "world as a good model of the real world.\n",
    "\n",
    "## The ideal world\n",
    "\n",
    "Our *ideal model* (or null hypothesis) is a world where each juror has been\n",
    "truly randomly selected from the eligible population. That is, for any one\n",
    "juror, there is a 0.26 probability that they are Black.\n",
    "\n",
    "## Simulations with the ideal model\n",
    "\n",
    "To do a *simulation* with this ideal model, we will start by making one jury,\n",
    "of 12 people, where it is really true that each juror has a 26% of being Black.\n",
    "Not to pun, but we will call one simulation of a jury of 12 - *one trial*.\n",
    "\n",
    "Then we simulate 10 juries of 12 people (do 10 trials), to get warmed up.\n",
    "\n",
    "Finally we make 10000 juries, each of 12 people, and see what we get."
   ]
  },
  {
   "cell_type": "code",
   "execution_count": null,
   "id": "5eaa56ef",
   "metadata": {},
   "outputs": [],
   "source": [
    "# Import the array library\n",
    "import numpy as np\n",
    "# Make random number generator.\n",
    "rng = np.random.default_rng()"
   ]
  },
  {
   "cell_type": "markdown",
   "id": "48a2c708",
   "metadata": {},
   "source": [
    "Here we use the [random choice method](rng_choice) to simulate one\n",
    "jury, and count the number of Black people in the simulated jury."
   ]
  },
  {
   "cell_type": "code",
   "execution_count": null,
   "id": "0e29978d",
   "metadata": {},
   "outputs": [],
   "source": [
    "# Choose 12 jurors, where \"Black\" has probability 0.26\n",
    "jurors = rng.choice([1, 0], p=[0.26, 0.74], size=12)\n",
    "# np.count_nonzero counts the number of 1 values:\n",
    "np.count_nonzero(jurors)"
   ]
  },
  {
   "cell_type": "markdown",
   "id": "cec09768",
   "metadata": {},
   "source": [
    "That is one estimate, for the number of Black people we can expect, if our\n",
    "model is correct.  Call this one *trial*. We can run that a few times to get a\n",
    "range of values.   If we run it only a few times, we might be unlucky, and get\n",
    "some results that are not representative.  It is safer to run it a huge number\n",
    "of times, to make sure we've got an idea of the variation."
   ]
  },
  {
   "cell_type": "markdown",
   "id": "eb5181a2",
   "metadata": {},
   "source": [
    "To start with, we will run 10 trials.\n",
    "\n",
    "We get ready to store the results of each estimate."
   ]
  },
  {
   "cell_type": "code",
   "execution_count": null,
   "id": "53cd3413",
   "metadata": {},
   "outputs": [],
   "source": [
    "# Make an array of 10 zeros, to store the results.\n",
    "counts = np.zeros(10)"
   ]
  },
  {
   "cell_type": "markdown",
   "id": "83e92943",
   "metadata": {},
   "source": [
    "We repeat the code from the cell above, but now, we store each trial result\n",
    "(count) in the `counts` array:"
   ]
  },
  {
   "cell_type": "code",
   "execution_count": null,
   "id": "e03b711a",
   "metadata": {},
   "outputs": [],
   "source": [
    "jurors = rng.choice([1, 0], p=[0.26, 0.74], size=12)\n",
    "count = np.count_nonzero(jurors)\n",
    "counts[0] = count\n",
    "counts"
   ]
  },
  {
   "cell_type": "markdown",
   "id": "0e55f09e",
   "metadata": {},
   "source": [
    "Run the cell above a few times, perhaps with Control-Enter, to see the first value in the `counts` array changing."
   ]
  },
  {
   "cell_type": "markdown",
   "id": "65e875cd",
   "metadata": {},
   "source": [
    "Now we collect the result of 10 trials, by using a for loop.\n"
   ]
  },
  {
   "cell_type": "code",
   "execution_count": null,
   "id": "6d9f7dcd",
   "metadata": {},
   "outputs": [],
   "source": [
    "# Make a new counts array of zeros to store the results.\n",
    "counts = np.zeros(10)\n",
    "for i in np.arange(10):\n",
    "    # This code is the same as the cell above, but indented,\n",
    "    # so we run it all, for each time through the for loop.\n",
    "    jurors = rng.choice([1, 0], p=[0.26, 0.74], size=12)\n",
    "    count = np.count_nonzero(jurors)\n",
    "    # Store the result at position i\n",
    "    counts[i] = count\n",
    "counts"
   ]
  },
  {
   "cell_type": "markdown",
   "id": "83a8ff53",
   "metadata": {},
   "source": [
    "Each of these values is one estimate for how many Black jurors we should\n",
    "expect, if our model is right.  Already we get the feeling that 0 is rather\n",
    "unlikely, if our model is correct.  But - how unlikely?"
   ]
  },
  {
   "cell_type": "markdown",
   "id": "c063c305",
   "metadata": {},
   "source": [
    "To get a better estimate, let us do the same thing, but with 10000 juries, and\n",
    "therefore, 10000 estimates."
   ]
  },
  {
   "cell_type": "code",
   "execution_count": null,
   "id": "75d14e8a",
   "metadata": {},
   "outputs": [],
   "source": [
    "# Make a new counts array of zeros to store the results.\n",
    "counts = np.zeros(10000)\n",
    "for i in np.arange(10000):\n",
    "    # This code is the same as the cell above, but indented,\n",
    "    # so we run it all, for each time through the for loop.\n",
    "    jurors = rng.choice([1, 0], p=[0.26, 0.74], size=12)\n",
    "    count = np.count_nonzero(jurors)\n",
    "    # Store the result at position i\n",
    "    counts[i] = count\n",
    "counts"
   ]
  },
  {
   "cell_type": "markdown",
   "id": "25cc7d87",
   "metadata": {},
   "source": [
    "If you ran this cell yourself, you will notice that it runs very fast, in much\n",
    "less than a second, on any reasonable computer."
   ]
  },
  {
   "cell_type": "markdown",
   "id": "120e3f13",
   "metadata": {},
   "source": [
    "We now have 10000 estimates, one for each row in the original array, and\n",
    "therefore, one for each simulated jury.\n",
    "\n",
    "Remember, the function `len` shows us the length of the array, and therefore,\n",
    "the number of values in this one-dimensional array."
   ]
  },
  {
   "cell_type": "code",
   "execution_count": null,
   "id": "f0a3c90f",
   "metadata": {},
   "outputs": [],
   "source": [
    "len(counts)"
   ]
  },
  {
   "cell_type": "markdown",
   "id": "ce049a17",
   "metadata": {},
   "source": [
    "Next we want to have a look at the spread of these values.  To do this, we plot\n",
    "a histogram.  Here is how to do that, in Python.  Don't worry about the details, we will go into this more soon."
   ]
  },
  {
   "cell_type": "code",
   "execution_count": null,
   "id": "dc369718",
   "metadata": {},
   "outputs": [],
   "source": [
    "# Please don't worry about this bit of code for now.\n",
    "# It sets up plotting in the notebook.\n",
    "import matplotlib.pyplot as plt\n",
    "# Fancy plots\n",
    "plt.style.use('fivethirtyeight')"
   ]
  },
  {
   "cell_type": "markdown",
   "id": "bd264ad0",
   "metadata": {},
   "source": [
    "Now show the histogram.  Don't worry about the details of this command."
   ]
  },
  {
   "cell_type": "code",
   "execution_count": null,
   "id": "eefc8aef",
   "metadata": {},
   "outputs": [],
   "source": [
    "# Do the histogram of our 10000 estimates.\n",
    "plt.hist(counts, bins=np.arange(13))"
   ]
  },
  {
   "cell_type": "markdown",
   "id": "b90f8917",
   "metadata": {},
   "source": [
    "The histogram above is called the *sampling distribution*.  The sampling distribution is the distribution of thing we are interested in (the number of Black jurors) given the ideal model, of completely random selection of jurors from a 26% Black population.\n",
    "\n",
    "It looks as if 0 is a relatively uncommon value among our simulations. How many\n",
    "times did we get a value of 0, in all our 10000 estimates?"
   ]
  },
  {
   "cell_type": "code",
   "execution_count": null,
   "id": "7d2b2a99",
   "metadata": {},
   "outputs": [],
   "source": [
    "counts_of_0 = counts == 0\n",
    "n_zeros = np.count_nonzero(counts_of_0)\n",
    "n_zeros"
   ]
  },
  {
   "cell_type": "markdown",
   "id": "838383e9",
   "metadata": {},
   "source": [
    "What *proportion* of jury simulations give a value of 0?  We just divide the\n",
    "number of times we see 0 by the number trials we made:"
   ]
  },
  {
   "cell_type": "code",
   "execution_count": null,
   "id": "76ba16f0",
   "metadata": {},
   "outputs": [],
   "source": [
    "p = n_zeros / 10000\n",
    "p"
   ]
  },
  {
   "cell_type": "markdown",
   "id": "e63a412f",
   "metadata": {},
   "source": [
    "We have run an analysis assuming that the jurors were selected at random.  On\n",
    "that assumption, a count of 0 jurors in 12 is fairly uncommon, in the sense\n",
    "that the proportion of times we see that result is:"
   ]
  },
  {
   "cell_type": "code",
   "execution_count": null,
   "id": "8e0c1a22",
   "metadata": {},
   "outputs": [],
   "source": [
    "p"
   ]
  },
  {
   "cell_type": "markdown",
   "id": "8c8b50ee",
   "metadata": {},
   "source": [
    "In other words, our *estimate* of the *probability* of getting 0 Black people\n",
    "in a jury of 12, is"
   ]
  },
  {
   "cell_type": "code",
   "execution_count": null,
   "id": "a1b70047",
   "metadata": {},
   "outputs": [],
   "source": [
    "p"
   ]
  },
  {
   "cell_type": "markdown",
   "id": "f5a28de6",
   "metadata": {},
   "source": [
    "What can we conclude?  Only this: that in our ideal model world, where each\n",
    "juror has a 26% chance of being Black, 0 is uncommon.  This surprising result,\n",
    "of 0, gives us some cause to wonder if our ideal model of the world is wrong.\n",
    "One way it could be wrong, is if there was bias in jury selection, so it was\n",
    "not true that each juror had a 26% of being Black."
   ]
  }
 ],
 "metadata": {
  "jupytext": {
   "notebook_metadata_filter": "language_info"
  },
  "kernelspec": {
   "display_name": "Python (Pyodide)",
   "name": "python"
  },
  "language_info": {
   "codemirror_mode": {
    "name": "ipython",
    "version": 3
   },
   "file_extension": ".py",
   "mimetype": "text/x-python",
   "name": "python",
   "nbconvert_exporter": "python",
   "pygments_lexer": "ipython3",
   "version": "3.6.5"
  }
 },
 "nbformat": 4,
 "nbformat_minor": 5
}
