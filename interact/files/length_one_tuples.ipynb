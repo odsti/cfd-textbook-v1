{
 "cells": [
  {
   "cell_type": "markdown",
   "id": "fc6f4c5a",
   "metadata": {},
   "source": [
    "# Length 1 tuples\n",
    "\n",
    "Remember {ref}`tuples`.  For example, here are a couple of length two tuples:"
   ]
  },
  {
   "cell_type": "code",
   "execution_count": null,
   "id": "c6fee577",
   "metadata": {},
   "outputs": [],
   "source": [
    "first_tuple = (1, 2)\n",
    "first_tuple"
   ]
  },
  {
   "cell_type": "code",
   "execution_count": null,
   "id": "acf7ee53",
   "metadata": {},
   "outputs": [],
   "source": [
    "second_tuple = (3, 4)"
   ]
  },
  {
   "cell_type": "markdown",
   "id": "9695e54f",
   "metadata": {},
   "source": [
    "As for lists, you can add tuples, to concatenate the contents:"
   ]
  },
  {
   "cell_type": "code",
   "execution_count": null,
   "id": "3d504dd8",
   "metadata": {},
   "outputs": [],
   "source": [
    "tuples_together = first_tuple + second_tuple\n",
    "tuples_together"
   ]
  },
  {
   "cell_type": "markdown",
   "id": "9144d7e0",
   "metadata": {},
   "source": [
    "## Length 1 tuples\n",
    "\n",
    "Let us say you want to write code for a tuple with only one element.\n",
    "\n",
    "You might think this would work:"
   ]
  },
  {
   "cell_type": "code",
   "execution_count": null,
   "id": "bd909a4f",
   "metadata": {},
   "outputs": [],
   "source": [
    "# Python interprets this parentheses in arithmetic.\n",
    "just_a_number = (1)\n",
    "just_a_number"
   ]
  },
  {
   "cell_type": "markdown",
   "id": "1ec1b924",
   "metadata": {},
   "source": [
    "Just a single number or string, with parentheses around it, does not make a\n",
    "tuple, because Python interprets this as your usual brackets for arithmetic.\n",
    "That means that:"
   ]
  },
  {
   "cell_type": "code",
   "execution_count": null,
   "id": "aae50c07",
   "metadata": {},
   "outputs": [],
   "source": [
    "(1)"
   ]
  },
  {
   "cell_type": "markdown",
   "id": "677594e2",
   "metadata": {},
   "source": [
    "is exactly the same as:"
   ]
  },
  {
   "cell_type": "code",
   "execution_count": null,
   "id": "5cfad8f5",
   "metadata": {},
   "outputs": [],
   "source": [
    "1"
   ]
  },
  {
   "cell_type": "markdown",
   "id": "f03e3932",
   "metadata": {},
   "source": [
    "Why?  Because, Python has to decide what expressions like this mean:\n",
    "\n",
    "```python\n",
    "# Wait - what do the parentheses mean?\n",
    "(1 + 2) + (3 + 4)\n",
    "```\n",
    "\n",
    "Is this adding two one-element tuples, to give a two-element tuple `(3, 7)`? Or\n",
    "is it our usual mathematical expression giving 3 + 7 = 10.  The designer of the Python language decided it should be an arithmetical expression."
   ]
  },
  {
   "cell_type": "code",
   "execution_count": null,
   "id": "75cb7a0a",
   "metadata": {},
   "outputs": [],
   "source": [
    "# They mean parentheses as in arithmetic.\n",
    "(1 + 2) + (3 + 4)"
   ]
  },
  {
   "cell_type": "markdown",
   "id": "7e7c1218",
   "metadata": {},
   "source": [
    "To form a length-1 tuple, you need to disambiguate what you mean by the parentheses, with a trailing comma:"
   ]
  },
  {
   "cell_type": "code",
   "execution_count": null,
   "id": "ac33182a",
   "metadata": {},
   "outputs": [],
   "source": [
    "short_tuple = (1,)  # Notice the trailing comma\n",
    "short_tuple"
   ]
  },
  {
   "cell_type": "markdown",
   "id": "bf1c876f",
   "metadata": {},
   "source": [
    "So, for example, to add two length one tuples together, as above:"
   ]
  },
  {
   "cell_type": "code",
   "execution_count": null,
   "id": "089eaf49",
   "metadata": {},
   "outputs": [],
   "source": [
    "# Notice the extra comma to say - we mean these to be length-1 tuples.\n",
    "(1 + 2,) + (3 + 4,)"
   ]
  }
 ],
 "metadata": {
  "jupytext": {
   "notebook_metadata_filter": "all,-language_info",
   "split_at_heading": true
  },
  "kernelspec": {
   "display_name": "Python (Pyodide)",
   "name": "python"
  },
  "orphan": true
 },
 "nbformat": 4,
 "nbformat_minor": 5
}
