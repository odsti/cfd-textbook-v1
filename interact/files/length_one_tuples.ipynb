{
 "cells": [
  {
   "cell_type": "markdown",
   "id": "5271f3f7",
   "metadata": {},
   "source": [
    "# Length 1 tuples\n",
    "\n",
    "Remember {ref}`tuples`.  For example, here are a couple of length two tuples:"
   ]
  },
  {
   "cell_type": "code",
   "execution_count": null,
   "id": "2772fe1a",
   "metadata": {},
   "outputs": [],
   "source": [
    "first_tuple = (1, 2)\n",
    "first_tuple"
   ]
  },
  {
   "cell_type": "code",
   "execution_count": null,
   "id": "02e844da",
   "metadata": {},
   "outputs": [],
   "source": [
    "second_tuple = (3, 4)"
   ]
  },
  {
   "cell_type": "markdown",
   "id": "d52e73e1",
   "metadata": {},
   "source": [
    "As for lists, you can add tuples, to concatenate the contents:"
   ]
  },
  {
   "cell_type": "code",
   "execution_count": null,
   "id": "f4621079",
   "metadata": {},
   "outputs": [],
   "source": [
    "tuples_together = first_tuple + second_tuple\n",
    "tuples_together"
   ]
  },
  {
   "cell_type": "markdown",
   "id": "3a2b7e00",
   "metadata": {},
   "source": [
    "## Length 1 tuples\n",
    "\n",
    "Let us say you want to write code for a tuple with only one element.\n",
    "\n",
    "You might think this would work:"
   ]
  },
  {
   "cell_type": "code",
   "execution_count": null,
   "id": "fb3fa45d",
   "metadata": {},
   "outputs": [],
   "source": [
    "# Python interprets this parentheses in arithmetic.\n",
    "just_a_number = (1)\n",
    "just_a_number"
   ]
  },
  {
   "cell_type": "markdown",
   "id": "d46c9846",
   "metadata": {},
   "source": [
    "Just a single number or string, with parentheses around it, does not make a\n",
    "tuple, because Python interprets this as your usual brackets for arithmetic.\n",
    "That means that:"
   ]
  },
  {
   "cell_type": "code",
   "execution_count": null,
   "id": "c3d2f2f8",
   "metadata": {},
   "outputs": [],
   "source": [
    "(1)"
   ]
  },
  {
   "cell_type": "markdown",
   "id": "e9c6485e",
   "metadata": {},
   "source": [
    "is exactly the same as:"
   ]
  },
  {
   "cell_type": "code",
   "execution_count": null,
   "id": "ae79648f",
   "metadata": {},
   "outputs": [],
   "source": [
    "1"
   ]
  },
  {
   "cell_type": "markdown",
   "id": "aa8b48f7",
   "metadata": {},
   "source": [
    "Why?  Because, Python has to decide what expressions like this mean:\n",
    "\n",
    "```python\n",
    "# Wait - what do the parentheses mean?\n",
    "(1 + 2) + (3 + 4)\n",
    "```\n",
    "\n",
    "Is this adding two one-element tuples, to give a two-element tuple `(3, 7)`? Or\n",
    "is it our usual mathematical expression giving 3 + 7 = 10.  The designer of the Python language decided it should be an arithmetical expression."
   ]
  },
  {
   "cell_type": "code",
   "execution_count": null,
   "id": "a750cd04",
   "metadata": {},
   "outputs": [],
   "source": [
    "# They mean parentheses as in arithmetic.\n",
    "(1 + 2) + (3 + 4)"
   ]
  },
  {
   "cell_type": "markdown",
   "id": "4c30b63c",
   "metadata": {},
   "source": [
    "To form a length-1 tuple, you need to disambiguate what you mean by the parentheses, with a trailing comma:"
   ]
  },
  {
   "cell_type": "code",
   "execution_count": null,
   "id": "8f32ab8c",
   "metadata": {},
   "outputs": [],
   "source": [
    "short_tuple = (1,)  # Notice the trailing comma\n",
    "short_tuple"
   ]
  },
  {
   "cell_type": "markdown",
   "id": "ef9b7ee6",
   "metadata": {},
   "source": [
    "So, for example, to add two length one tuples together, as above:"
   ]
  },
  {
   "cell_type": "code",
   "execution_count": null,
   "id": "2ad77167",
   "metadata": {},
   "outputs": [],
   "source": [
    "# Notice the extra comma to say - we mean these to be length-1 tuples.\n",
    "(1 + 2,) + (3 + 4,)"
   ]
  }
 ],
 "metadata": {
  "jupytext": {
   "notebook_metadata_filter": "all,-language_info",
   "split_at_heading": true
  },
  "kernelspec": {
   "display_name": "Python (Pyodide)",
   "name": "python"
  },
  "orphan": true
 },
 "nbformat": 4,
 "nbformat_minor": 5
}
