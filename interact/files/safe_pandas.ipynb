{
 "cells": [
  {
   "cell_type": "markdown",
   "id": "32f80f7d",
   "metadata": {},
   "source": [
    "# Handling Pandas safely\n",
    "\n",
    "A lot of Pandas' design is for speed and efficiency.\n",
    "\n",
    "Unfortunately, this sometimes means that is it easy to use Pandas incorrectly,\n",
    "and so get results that you do not expect."
   ]
  },
  {
   "cell_type": "markdown",
   "id": "a59cdebf",
   "metadata": {},
   "source": [
    "## If you have Pandas version 1.5 or later, you can skip this page\n",
    "\n",
    "This page discusses the problems that can come up when Pandas keeps links\n",
    "between different DataFrames and Series.  As you will see below, this is the\n",
    "issue of Pandas *copies* and *views*.\n",
    "\n",
    "Luckily, as of Pandas version 1.5, there is an option you can enable that will\n",
    "allow you to avoid this rather complicated distinction, and, if you have a Pandas\n",
    "version of 1.5 or greater, we strongly suggest you enable that option, like\n",
    "this:\n",
    "\n",
    "```python\n",
    "import pandas as pd\n",
    "pd.set_option('mode.copy_on_write', True)\n",
    "```\n",
    "\n",
    "You will see that option in all the notebooks from this course, and, if you\n",
    "can, we suggest you set that option whenever you import and use Pandas.\n",
    "\n",
    "You will see more details about what the option means further down this page,\n",
    "so read on if you are interested.\n"
   ]
  },
  {
   "cell_type": "markdown",
   "id": "9f5cc9d1",
   "metadata": {},
   "source": [
    "## Avoiding trouble\n",
    "\n",
    "The rest of this page has some background on the issue of Pandas copies and\n",
    "views, and an explanation of the problems that can come up for older Pandas, or\n",
    "when you do not enable the `mode.copy_on_write` option.  We explain the\n",
    "`mode.copy_on_write` option, and give some rules to help you stay out of\n",
    "trouble, if you cannot use `mode.copy_on_write`.\n"
   ]
  },
  {
   "cell_type": "markdown",
   "id": "672ea81d",
   "metadata": {},
   "source": [
    "## Background: copies and views\n",
    "\n",
    "Consider this DataFrame, which should be familiar. It is a table where the\n",
    "rows are course subjects and the columns include average ratings for all\n",
    "University professors / lecturers teaching that subject. See [the dataset\n",
    "page](data/rate_my_professors) for more detail."
   ]
  },
  {
   "cell_type": "code",
   "execution_count": null,
   "id": "2ff160df",
   "metadata": {},
   "outputs": [],
   "source": [
    "import pandas as pd"
   ]
  },
  {
   "cell_type": "markdown",
   "id": "e8bc7c58",
   "metadata": {},
   "source": [
    "Notice that we have not yet enabled the `mode.copy_on_write` option.\n",
    "\n",
    "We get the ratings:"
   ]
  },
  {
   "cell_type": "code",
   "execution_count": null,
   "id": "78eb0b9f",
   "metadata": {},
   "outputs": [],
   "source": [
    "all_ratings = pd.read_csv('data/rate_my_course.csv')"
   ]
  },
  {
   "cell_type": "markdown",
   "id": "a3840062",
   "metadata": {},
   "source": [
    "To ease some later exposition, we select the first 10 rows, and set the row\n",
    "labels (index) to be letters rather than numbers:"
   ]
  },
  {
   "cell_type": "code",
   "execution_count": null,
   "id": "d353961b",
   "metadata": {},
   "outputs": [],
   "source": [
    "ratings = all_ratings.iloc[:10]\n",
    "ratings.index = list('ABCDEFGHIJ')\n",
    "ratings"
   ]
  },
  {
   "cell_type": "markdown",
   "id": "1edc5218",
   "metadata": {},
   "source": [
    "Now imagine that we have discovered that the rating for 'Clarity' in the first\n",
    "row is incorrect; it should be 4.0.\n",
    "\n",
    "We get ready to make a new, fixed copy of the DataFrame, to store the modified\n",
    "values.  We put the 'Disciplines' column into the DataFrame to start with."
   ]
  },
  {
   "cell_type": "code",
   "execution_count": null,
   "id": "da27dd40",
   "metadata": {},
   "outputs": [],
   "source": [
    "fixed_ratings = pd.DataFrame()\n",
    "fixed_ratings['Discipline'] = ratings['Discipline']"
   ]
  },
  {
   "cell_type": "markdown",
   "id": "369bf53d",
   "metadata": {},
   "source": [
    "Our next obvious step is to get the 'Clarity' column as a Pandas Series, for us\n",
    "to work on."
   ]
  },
  {
   "cell_type": "code",
   "execution_count": null,
   "id": "21d4c382",
   "metadata": {},
   "outputs": [],
   "source": [
    "clarity = ratings['Clarity']\n",
    "clarity.head()"
   ]
  },
  {
   "cell_type": "markdown",
   "id": "e931d2ec",
   "metadata": {},
   "source": [
    "We set the corrected first value:"
   ]
  },
  {
   "cell_type": "code",
   "execution_count": null,
   "id": "f1fd306e",
   "metadata": {},
   "outputs": [],
   "source": [
    "clarity.loc['A'] = 4\n",
    "clarity.head()"
   ]
  },
  {
   "cell_type": "markdown",
   "id": "3c3a24c5",
   "metadata": {},
   "source": [
    "Notice the warning.  We will come back to that soon.\n",
    "\n",
    "Notice too that we have changed the value in the `clarity` Series.\n",
    "\n",
    "Consider — **what happens to the matching value in the original DataFrame**?\n",
    "\n",
    "To answer that question, we need to know what kind of thing our `clarity`\n",
    "Series was.  *If you have not enabled `mode.copy_on_write`*, the `clarity`\n",
    "could be a *copy* or a *view*.\n",
    "\n",
    "If the `clarity` Series is a *view*, then it still refers directly to the\n",
    "'Clarity' column in the original data frame `ratings`.  A view is something\n",
    "that points to the *same memory*.  When we have a view, the view is another way\n",
    "of looking at the *same data*.  If we modify the data in the *view*, that means\n",
    "we also modify the *original* DataFrame, because the *data is the same*.\n",
    "\n",
    "`clarity` could also be *copy* of the 'Clarity' column. A copy duplicates the\n",
    "values from the original data.  Therefore a copy has its own values, and its\n",
    "own memory.  Changing the data in the copy will have no effect on the original\n",
    "DataFrame, because the *data is different*.\n",
    "\n",
    "**Note**: if you have enabled `mode.copy_on_view`, `clarity` will always\n",
    "(effectively) be a copy, and you will not see the behavior below."
   ]
  },
  {
   "cell_type": "code",
   "execution_count": null,
   "id": "d27c8111",
   "metadata": {},
   "outputs": [],
   "source": [
    "ratings.head()"
   ]
  },
  {
   "cell_type": "markdown",
   "id": "71b16dbd",
   "metadata": {},
   "source": [
    "We have found that the `clarity` Series was a *view*, because the change we\n",
    "made to `clarity` also changed the value in the original DataFrame.\n",
    "\n",
    "This may not be what you expected, so you probably did not mean to change the\n",
    "original data.\n",
    "\n",
    "There are two basic strategies for dealing with this problem.\n"
   ]
  },
  {
   "cell_type": "markdown",
   "id": "dbef30a6",
   "metadata": {},
   "source": [
    "## New Strategy (Pandas >= 1.5): automatic copies when needed\n",
    "\n",
    "This strategy uses a feature that is new in Pandas version 1.5.\n",
    "\n",
    "The summary is — always put the following line after you import Pandas, and\n",
    "before you execute any code using Pandas:"
   ]
  },
  {
   "cell_type": "code",
   "execution_count": null,
   "id": "43cc9580",
   "metadata": {},
   "outputs": [],
   "source": [
    "# Ask Pandas to make a copy under the hood, when needed.\n",
    "pd.set_option('mode.copy_on_write', True)"
   ]
  },
  {
   "cell_type": "markdown",
   "id": "1743ed02",
   "metadata": {},
   "source": [
    "After you apply this option, Pandas uses an algorithm to work out when to make\n",
    "a copy.  You can think if the option as being equivalent to making everything a\n",
    "copy.   For example, consider the problem we had above."
   ]
  },
  {
   "cell_type": "code",
   "execution_count": null,
   "id": "451512da",
   "metadata": {
    "tags": [
     "raises-exception"
    ]
   },
   "outputs": [],
   "source": [
    "# The current values of the `ratings` DataFrame.\n",
    "ratings.head()"
   ]
  },
  {
   "cell_type": "code",
   "execution_count": null,
   "id": "0844d87f",
   "metadata": {},
   "outputs": [],
   "source": [
    "# A column from the DataFrame.\n",
    "clarity = ratings['Clarity']\n",
    "clarity.head()"
   ]
  },
  {
   "cell_type": "markdown",
   "id": "46d29240",
   "metadata": {},
   "source": [
    "As before, we set another corrected first value:"
   ]
  },
  {
   "cell_type": "code",
   "execution_count": null,
   "id": "36b10e6e",
   "metadata": {},
   "outputs": [],
   "source": [
    "clarity.loc['A'] = 99\n",
    "clarity.head()"
   ]
  },
  {
   "cell_type": "markdown",
   "id": "cf236797",
   "metadata": {},
   "source": [
    "We set `clarity` as we expected.  But this time, with the `mode.copy_on_write`\n",
    "option, we did not change the `ratings` DataFrame from which we selected the\n",
    "`clarity` values."
   ]
  },
  {
   "cell_type": "code",
   "execution_count": null,
   "id": "f44f24f5",
   "metadata": {},
   "outputs": [],
   "source": [
    "ratings.head()"
   ]
  },
  {
   "cell_type": "markdown",
   "id": "84cad8aa",
   "metadata": {},
   "source": [
    "Notice that the first `Clarity` value in `ratings` did not change — it is still\n",
    "4 and not 99.\n",
    "\n",
    "The value in `ratings` did not change because you can think of the\n",
    "`ratings['Clarity']` expression as *always taking a copy not a view*\n",
    "[^copy-write].\n",
    "\n",
    "[^copy-write]: In fact Pandas is even cleverer than that.\n",
    "  `ratings['Clarity']` _is_ a view, to save unnecessary duplication of memory,\n",
    "  but when you do `clarity.loc['A'] = 99`, Pandas detects the *write* operation\n",
    "  on the view, and then, under the hood, does a copy, so the write operation\n",
    "  works on the copy, and not on the original.  Hence *copy on write*.\n",
    "\n",
    "If you have Pandas >= 1.5, we strongly suggest you apply this strategy.  And in\n",
    "fact, you will see that all the notebooks in this course that `import pandas`\n",
    "also have the magic line:"
   ]
  },
  {
   "cell_type": "code",
   "execution_count": null,
   "id": "2d75fc8b",
   "metadata": {},
   "outputs": [],
   "source": [
    "pd.set_option('mode.copy_on_write', True)"
   ]
  },
  {
   "cell_type": "markdown",
   "id": "1b246662",
   "metadata": {},
   "source": [
    "### \"Chained assignment\" and copy-on-write\n",
    "\n",
    "Remember, we have `mode.copy_on_write` enabled here.\n",
    "\n",
    "Consider the following code."
   ]
  },
  {
   "cell_type": "code",
   "execution_count": null,
   "id": "8c709009",
   "metadata": {},
   "outputs": [],
   "source": [
    "row_A = ratings.loc['A']  # Effectively, a *copy* of row labeled A.\n",
    "row_A.loc['Clarity'] = 199"
   ]
  },
  {
   "cell_type": "markdown",
   "id": "3cb6ee05",
   "metadata": {},
   "source": [
    "Sure enough, you have set the `row_A` `Clarity` value:"
   ]
  },
  {
   "cell_type": "code",
   "execution_count": null,
   "id": "ec8980a9",
   "metadata": {},
   "outputs": [],
   "source": [
    "row_A"
   ]
  },
  {
   "cell_type": "markdown",
   "id": "6bf1ad15",
   "metadata": {},
   "source": [
    "At this stage, with `mode.copy_on_write` enabled, you would expect the first\n",
    "row of `ratings` to stay the same, because Pandas effectively copies the first\n",
    "row, before doing the assignment into the copy.  And you'd be right to expect\n",
    "that."
   ]
  },
  {
   "cell_type": "code",
   "execution_count": null,
   "id": "6be42df8",
   "metadata": {},
   "outputs": [],
   "source": [
    "ratings.loc['A']"
   ]
  },
  {
   "cell_type": "markdown",
   "id": "ff1d64ee",
   "metadata": {},
   "source": [
    "But — you may sometimes fail to think of this copy, and be surprised at the\n",
    "result.  For example, consider the following code:"
   ]
  },
  {
   "cell_type": "code",
   "execution_count": null,
   "id": "0d3fa90a",
   "metadata": {},
   "outputs": [],
   "source": [
    "# \"Chained assignment\".\n",
    "# Assigning a value to a chain of fetched values.\n",
    "ratings.loc['A'].loc['Clarity'] = 199\n",
    "ratings.loc['A']"
   ]
  },
  {
   "cell_type": "markdown",
   "id": "ebb885c0",
   "metadata": {},
   "source": [
    "Notice that here, `ratings.loc['A']` does not change.\n",
    "\n",
    "This kind of code is sometimes called *chained assignment* because you are\n",
    "*chaining* the fetch of the values on the left hand side.  First you are\n",
    "fetching `ratings.loc['A']` and then, from the result, you fetching the `Clarity`\n",
    "value.  Then you are *assigning* to this *chain* of fetched values.\n",
    "\n",
    "Chained assignment can be confusing, because the first line in the cell above\n",
    "*looks as if* it is setting the `Clarity` value for the row labeled 'A'.  But\n",
    "in fact, the code is exactly equivalent to the code cells just above that, and\n",
    "has the same effect. That is `ratings.loc['A']` effectively results in a copy,\n",
    "so `ratings.loc['A'].loc['Clarity'] = 99` is setting the `Clarity` value to 99\n",
    "*in the copy*, which Python will then immediately discard, because you are not\n",
    "storing the copy anywhere.  So, if you are not careful, you may *think* you are\n",
    "modifying the underlying `ratings` DataFrame, but you are not, because of the\n",
    "internal copying implied by `mode.copy_on_write`."
   ]
  },
  {
   "cell_type": "markdown",
   "id": "0b69a5fe",
   "metadata": {},
   "source": [
    "If you do want to set the `Clarity` value of the row labeled 'A', you need to\n",
    "have a left hand side that does not use the chaining that you see above.  To do\n",
    "this, specify the row and column in a single left-hand-side expression, like\n",
    "this:"
   ]
  },
  {
   "cell_type": "code",
   "execution_count": null,
   "id": "0cd8a5b8",
   "metadata": {},
   "outputs": [],
   "source": [
    "# \"Unchained assignment\".\n",
    "# Assigning a value directly to a fetched value, no chain.\n",
    "ratings.loc['A', 'Clarity'] = 199  # No chain on the left-hand side.\n",
    "ratings.loc['A']"
   ]
  },
  {
   "cell_type": "markdown",
   "id": "42110c75",
   "metadata": {},
   "source": [
    "## Old Strategy (for Pandas < 1.5): three simple rules\n",
    "\n",
    "But now we return to the older, darker world of Pandas < 1.5, where you cannot\n",
    "enable `mode.copy_on_write`.   What should you do then?   In the rest of the\n",
    "page, we suggest and explain three simple rules to stay out of trouble.\n",
    "\n",
    "As your understanding increases, you may find that you can relax some of these\n",
    "rules, but the problems in this page can trip up experts, so please, be very\n",
    "careful, and only relax these rules when you are very confident you understand\n",
    "the underlying problems.  See [Gory Pandas](gory_pandas) for a short walk\n",
    "through some of the complexities.\n",
    "\n",
    "To make the rest of the notebook be more like older Pandas, we turn off the\n",
    "`mode.copy_on_write` feature:"
   ]
  },
  {
   "cell_type": "code",
   "execution_count": null,
   "id": "bf6208aa",
   "metadata": {},
   "outputs": [],
   "source": [
    "# To make Pandas in the rest of this notebook look more like Pandas < 1.5.\n",
    "pd.set_option('mode.copy_on_write', False)"
   ]
  },
  {
   "cell_type": "markdown",
   "id": "03f14b9a",
   "metadata": {},
   "source": [
    "### Old strategy rule 1: copy right.\n",
    "\n",
    "We strongly suggest that when you get stuff out of a Pandas DataFrame or Series\n",
    "by indexing, to use as a right-hand-side value, you always force Pandas to take\n",
    "a copy.\n",
    "\n",
    "We call this rule *copy right*.\n",
    "\n",
    "As a reminder *indexing* is where we fetch data from something using square\n",
    "brackets.  Indexing can be: *direct*, with the square brackets directly\n",
    "following the DataFrame or Series; or *indirect*, where the square brackets\n",
    "follow the `.loc` or `.iloc` attributes of the DataFrame or Series.\n",
    "\n",
    "For example, we have just used direct indexing (square brackets) to fetch the\n",
    "'Clarity' data out of the `ratings` DataFrame."
   ]
  },
  {
   "cell_type": "code",
   "execution_count": null,
   "id": "58a02f30",
   "metadata": {},
   "outputs": [],
   "source": [
    "# Indexing to fetch a Series from a DataFrame.\n",
    "clarity = ratings['Clarity']"
   ]
  },
  {
   "cell_type": "markdown",
   "id": "8502fcd1",
   "metadata": {},
   "source": [
    "We earlier found that, without `mode.copy_on_write`,  `clarity` is a *view*\n",
    "onto the 'Clarity' data in `ratings`. This is rarely what we want.\n",
    "\n",
    "Here we apply the *copy right* rule:"
   ]
  },
  {
   "cell_type": "code",
   "execution_count": null,
   "id": "9aeb1167",
   "metadata": {},
   "outputs": [],
   "source": [
    "# Applying the \"copy right\" rule.\n",
    "clearer_clarity = ratings['Clarity'].copy()"
   ]
  },
  {
   "cell_type": "markdown",
   "id": "93bdb250",
   "metadata": {},
   "source": [
    "Notice we apply the `.copy()` method to the 'Clarity' Series, so forcing Pandas\n",
    "to make and return a copy of the data.\n",
    "\n",
    "Now we have done that, we can modify the result without affecting the original\n",
    "DataFrame, because we are changing the copy, not the original."
   ]
  },
  {
   "cell_type": "code",
   "execution_count": null,
   "id": "e0572e67",
   "metadata": {},
   "outputs": [],
   "source": [
    "# Modify the copy with some crazy value.\n",
    "clearer_clarity.loc['A'] = 99\n",
    "clearer_clarity.head()"
   ]
  },
  {
   "cell_type": "markdown",
   "id": "7ec73726",
   "metadata": {},
   "source": [
    "This does not affect the original DataFrame:"
   ]
  },
  {
   "cell_type": "code",
   "execution_count": null,
   "id": "69026c97",
   "metadata": {},
   "outputs": [],
   "source": [
    "ratings.head()"
   ]
  },
  {
   "cell_type": "markdown",
   "id": "bbe3918f",
   "metadata": {},
   "source": [
    "### A digression: copies, views, confusing, warnings\n",
    "\n",
    "It can be very difficult to predict when Pandas indexing will give a copy or a\n",
    "view.\n",
    "\n",
    "For example, here we use indirect indexing (square brackets following `.loc`)\n",
    "to select the row of `ratings` with index label 'A'.  Remember `.loc` indexing\n",
    "uses the *index labels*."
   ]
  },
  {
   "cell_type": "code",
   "execution_count": null,
   "id": "3ce04ec3",
   "metadata": {},
   "outputs": [],
   "source": [
    "row_A = ratings.loc['A']\n",
    "row_A"
   ]
  },
  {
   "cell_type": "markdown",
   "id": "e7d23bb9",
   "metadata": {},
   "source": [
    "We saw earlier that direct indexing to select a column 'Clarity' gave us a\n",
    "view, meaning that we could change the values in the DataFrame by changing the\n",
    "Series `clarity` we got from indexing.  In fact this is also true if we use\n",
    "indirect indexing with `.loc` or `.iloc`.  Check this by trying `clarity =\n",
    "ratings.loc[:, 'Clarity']` in the code above.\n",
    "\n",
    "We have just fetched the row labeled 'A' using `.loc`.  Given what we know\n",
    "about fetching a column, it would be reasonable to predict this would give us a\n",
    "view.\n",
    "\n",
    "Does it give a view?  Or a copy?"
   ]
  },
  {
   "cell_type": "code",
   "execution_count": null,
   "id": "58307fff",
   "metadata": {},
   "outputs": [],
   "source": [
    "# Changing the 'Clarity' value of the first row.\n",
    "row_A.loc['Clarity'] = 5\n",
    "row_A"
   ]
  },
  {
   "cell_type": "markdown",
   "id": "504cf0d0",
   "metadata": {},
   "source": [
    "Notice the warning, again.\n",
    "\n",
    "But - this time - did we change the original DataFrame?"
   ]
  },
  {
   "cell_type": "code",
   "execution_count": null,
   "id": "5b26c7d6",
   "metadata": {},
   "outputs": [],
   "source": [
    "ratings.head()"
   ]
  },
  {
   "cell_type": "markdown",
   "id": "bb928430",
   "metadata": {},
   "source": [
    "No, we didn't change the original DataFrame — and we conclude that `row_A` is a\n",
    "*copy*.\n",
    "\n",
    "Our first, correct, response is to follow the *copy right* rule, and make this\n",
    "copy explicit, so we know exactly what we have:"
   ]
  },
  {
   "cell_type": "code",
   "execution_count": null,
   "id": "3ef23ffd",
   "metadata": {},
   "outputs": [],
   "source": [
    "# The \"copy right\" rule again.\n",
    "copied_row_A = ratings.loc['A'].copy()"
   ]
  },
  {
   "cell_type": "markdown",
   "id": "01137728",
   "metadata": {},
   "source": [
    "We no longer have a nasty warning when we modify `copied_row_A`, because Pandas\n",
    "knows we made a copy, so it does not need to warn us that we may be making a\n",
    "mistake:"
   ]
  },
  {
   "cell_type": "code",
   "execution_count": null,
   "id": "979303e9",
   "metadata": {},
   "outputs": [],
   "source": [
    "# We don't get a warning when we change the copied result.\n",
    "copied_row_A.loc['Clarity'] = 5\n",
    "copied_row_A"
   ]
  },
  {
   "cell_type": "markdown",
   "id": "2da3848f",
   "metadata": {},
   "source": [
    "**Please *do* worry about these warnings**.  In fact, in the interests of\n",
    "safety, we come to old strategy rule 2."
   ]
  },
  {
   "cell_type": "markdown",
   "id": "2f9e4669",
   "metadata": {},
   "source": [
    "### Old strategy rule 2: make errors for copy/view warnings\n",
    "\n",
    "Pandas has a setting that allows you to change the nasty warning about setting\n",
    "with copies into an error.\n",
    "\n",
    "If you can't enable `mode.copy_on_write` as above, we strongly suggest that you\n",
    "do enable these errors, for all your notebooks, like this:"
   ]
  },
  {
   "cell_type": "code",
   "execution_count": null,
   "id": "3c0f5f12",
   "metadata": {},
   "outputs": [],
   "source": [
    "pd.set_option('mode.chained_assignment', 'raise')"
   ]
  },
  {
   "cell_type": "markdown",
   "id": "39b4fce9",
   "metadata": {},
   "source": [
    "After you have set this option, Pandas will stop if you try to do something like the following:"
   ]
  },
  {
   "cell_type": "code",
   "execution_count": null,
   "id": "6e9bdeea",
   "metadata": {
    "tags": [
     "raises-exception"
    ]
   },
   "outputs": [],
   "source": [
    "row_A = ratings.loc['A']   # Copy?  Or view?  Difficult to guess.\n",
    "# Now this generates an error.\n",
    "row_A.loc['Clarity'] = 299"
   ]
  },
  {
   "cell_type": "markdown",
   "id": "19497742",
   "metadata": {},
   "source": [
    "At first you will find this advice annoying.  Your code will generate confusing\n",
    "errors, and you will be tempted to remove this error option to make the errors\n",
    "go away.  Please be patient.  You will find that, if you follow the *copy\n",
    "right* rule carefully, most of these errors go away.\n"
   ]
  },
  {
   "cell_type": "markdown",
   "id": "eaffd76e",
   "metadata": {},
   "source": [
    "### Another digression: copy, views, on the left\n",
    "\n",
    "There is more discussion of this subject in the [Gory Pandas\n",
    "page](gory_pandas.Rmd).\n",
    "\n",
    "If you are reading this page from start to finish, you will have already seen\n",
    "our discussion of chained assignment above.  Here we repeat ourselves a little\n",
    "for the sake our our less linear readers. Consider this code:"
   ]
  },
  {
   "cell_type": "code",
   "execution_count": null,
   "id": "aec0a995",
   "metadata": {
    "tags": [
     "raises-exception"
    ]
   },
   "outputs": [],
   "source": [
    "ratings.loc['A'].loc['Clarity'] = 299"
   ]
  },
  {
   "cell_type": "markdown",
   "id": "5eb9fd7f",
   "metadata": {},
   "source": [
    "Because we have set the `mode.chained_assignment` option to `error` above, this\n",
    "generates an error — but why?\n",
    "\n",
    "The reason is the same as the reason for the previous error.  The code in the\n",
    "cell directly above is just a short-cut for this exact equivalent."
   ]
  },
  {
   "cell_type": "code",
   "execution_count": null,
   "id": "343f7b37",
   "metadata": {
    "tags": [
     "raises-exception"
    ]
   },
   "outputs": [],
   "source": [
    "tmp = ratings.loc['A']\n",
    "tmp.loc['Clarity'] = 299"
   ]
  },
  {
   "cell_type": "markdown",
   "id": "b5ab87dd",
   "metadata": {},
   "source": [
    "Specifically, when Python sees `ratings.loc['A'].loc['Clarity'] = 299`, it first\n",
    "evaluates `ratings.loc['A']` to generate a temporary copy.  In the code above, we\n",
    "called this temporary copy `tmp`. It then tries to set the value into the copy\n",
    "with `tmp.loc['Clarity'] = 299`.  This generates the same error as you saw\n",
    "before.\n",
    "\n",
    "As you have probably guessed from the option name above, Pandas calls this\n",
    "*chained assignment*, because you are: first, fetching the stuff you want do\n",
    "the assignment on (`ratings.loc['A']`) and then doing the assignment\n",
    "`.loc['Clarity'] = 299`. There are two steps on the left hand side, in a chain,\n",
    "first fetching the data, then assigning.\n",
    "\n",
    "The problem that Pandas has is that it cannot tell that this chained assignment\n",
    "has happened, so it can't tell what you mean.  Python will ask Pandas to\n",
    "generate `ratings.loc['A']` first, which it does, to generate the temporary copy\n",
    "that we can call `tmp`. Python then asks Pandas to set the value with\n",
    "`tmp.loc['Clarity'] = 299`.  When Pandas gets this second instruction, it has no\n",
    "way of knowing that `tmp` came from the combined instruction\n",
    "`ratings.loc['A'].loc['Clarity'] = 299`, and so all it can do is set the value\n",
    "into the copy, as instructed.\n",
    "\n",
    "This leads us to the last rule.\n"
   ]
  },
  {
   "cell_type": "markdown",
   "id": "d81c91fa",
   "metadata": {},
   "source": [
    "### Old strategy rule 3: loc left\n",
    "\n",
    "When you do want to use indexing on the left hand side, to set some values into\n",
    "a DataFrame or Series, try do to this all in one shot, using indirect indexing\n",
    "with `.loc` or `iloc`.\n",
    "\n",
    "For example, you have just seen that this generates an error, and why:"
   ]
  },
  {
   "cell_type": "code",
   "execution_count": null,
   "id": "ba26a928",
   "metadata": {
    "tags": [
     "raises-exception"
    ]
   },
   "outputs": [],
   "source": [
    "ratings.loc['A'].loc['Clarity'] = 299"
   ]
  },
  {
   "cell_type": "markdown",
   "id": "4f7cb6b2",
   "metadata": {},
   "source": [
    "You can avoid that error by doing all your left-hand-side indexing in one shot,\n",
    "like this:"
   ]
  },
  {
   "cell_type": "code",
   "execution_count": null,
   "id": "1d0d0b2c",
   "metadata": {},
   "outputs": [],
   "source": [
    "ratings.loc['A', 'Clarity'] = 299\n",
    "ratings.loc['A']"
   ]
  },
  {
   "cell_type": "markdown",
   "id": "92f1f103",
   "metadata": {},
   "source": [
    "Notice there is no error.  This is because, in this second case, Pandas gets\n",
    "all the instructions in one go.  It can see from this combined instruction that\n",
    "we *meant* to set the 'Clarity' value for the row labeled 'A' in the `ratings`\n",
    "DataFrame, and does just this.\n"
   ]
  },
  {
   "cell_type": "markdown",
   "id": "19f1814a",
   "metadata": {},
   "source": [
    "### Old strategy summary: keep calm, follow the three rules\n",
    "\n",
    "Do not worry if some of this is not immediately clear; it is not easy.\n",
    "\n",
    "The trick is to remember the three rules:\n",
    "\n",
    "* Copy right.\n",
    "* Make copy warnings into errors.\n",
    "* Use `.loc` and `.iloc` for your left-hand-side indexing."
   ]
  }
 ],
 "metadata": {
  "jupyterbook": {
   "show_stderr": true
  },
  "jupytext": {
   "notebook_metadata_filter": "all,-language_info",
   "split_at_heading": true
  },
  "kernelspec": {
   "display_name": "Python (Pyodide)",
   "name": "python"
  }
 },
 "nbformat": 4,
 "nbformat_minor": 5
}
