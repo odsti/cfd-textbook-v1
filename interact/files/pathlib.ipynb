{
 "cells": [
  {
   "cell_type": "markdown",
   "id": "fbe0fb26",
   "metadata": {},
   "source": [
    "# Using the `pathlib` module\n",
    "\n",
    "The `pathlib` module is one several ways of manipulating and using file paths in\n",
    "Python — and the one we recommend to a beginner.\n",
    "\n",
    "The primary documentation for `pathlib` is\n",
    "<https://docs.python.org/3/library/pathlib.html>.\n",
    "\n",
    "The standard way to use the Pathlib module is to import the `Path` class from the module:"
   ]
  },
  {
   "cell_type": "code",
   "execution_count": null,
   "id": "d38d2814",
   "metadata": {},
   "outputs": [],
   "source": [
    "from pathlib import Path"
   ]
  },
  {
   "cell_type": "markdown",
   "id": "fa1779e4",
   "metadata": {},
   "source": [
    "In Jupyter or IPython, you can tab complete on `Path` to list the methods\n",
    "(functions) and attributes attached to it.\n",
    "\n",
    "An object (value) of type `Path` represents a pathname.  A pathname is a string\n",
    "that identifies a particular file or directory on a computer filesystem.\n",
    "\n",
    "Let us start by making a default object from the `Path` class, like this:"
   ]
  },
  {
   "cell_type": "code",
   "execution_count": null,
   "id": "fed4879f",
   "metadata": {},
   "outputs": [],
   "source": [
    "p = Path()\n",
    "p"
   ]
  },
  {
   "cell_type": "markdown",
   "id": "00a044de",
   "metadata": {},
   "source": [
    "By default, the path object, here `p`, refers to our current working directory,\n",
    "or `.` for short.   `.` is a *relative path*, meaning that we specify where we\n",
    "are relative to our current directory.  `.` means we are exactly in our current\n",
    "directory.\n",
    "\n",
    "Because the `.` is a *relative path*, it does not tell us where we are in\n",
    "the filesystem, only where we are relative to the current directory.\n",
    "\n",
    "Path objects have an `absolute` function attached to them.  Another way of\n",
    "saying this is that Path objects have an `absolute` *method*.  Calling\n",
    "this method gives us the *absolute* location of the path, meaning, the\n",
    "filesystem position relative to the base location of the disk the file is\n",
    "on."
   ]
  },
  {
   "cell_type": "code",
   "execution_count": null,
   "id": "6af0ef87",
   "metadata": {},
   "outputs": [],
   "source": [
    "abs_p = p.absolute()\n",
    "abs_p"
   ]
  },
  {
   "cell_type": "markdown",
   "id": "3a093022",
   "metadata": {},
   "source": [
    "Notice the `/` in front of the absolute filename (on Unix), meaning the\n",
    "base location for all files.  You will see a drive location like `C:` or\n",
    "similar, at the front of the absolute path, if you are on Windows."
   ]
  },
  {
   "cell_type": "markdown",
   "id": "93eea119",
   "metadata": {},
   "source": [
    "We can always convert the `Path` object to a simple string, using the\n",
    "`str` function. `str()` converts anything to a string, if it can:"
   ]
  },
  {
   "cell_type": "code",
   "execution_count": null,
   "id": "619e4f38",
   "metadata": {},
   "outputs": [],
   "source": [
    "# The path, as a string\n",
    "str(abs_p)"
   ]
  },
  {
   "cell_type": "markdown",
   "id": "b39d7edf",
   "metadata": {},
   "source": [
    "Sometimes we want to get a path referring the directory *containing* a path.\n",
    "The Path object has a `parent` attribute attached to it (an attribute is data\n",
    "attached to an object).  The `parent` attribute is a Path object for the\n",
    "containing directory:"
   ]
  },
  {
   "cell_type": "code",
   "execution_count": null,
   "id": "f14db8de",
   "metadata": {},
   "outputs": [],
   "source": [
    "abs_p.parent"
   ]
  },
  {
   "cell_type": "markdown",
   "id": "8824acde",
   "metadata": {},
   "source": [
    "The `parent` attribute of the Path object gives the directory name from a\n",
    "full file path. It works correctly for Unix paths on Unix machines, and\n",
    "Windows paths on Windows machines."
   ]
  },
  {
   "cell_type": "code",
   "execution_count": null,
   "id": "02fbe31b",
   "metadata": {},
   "outputs": [],
   "source": [
    "# On Unix\n",
    "a_path = Path('/a/full/path/then_filename.txt')\n",
    "# Show the directory containing the file.\n",
    "a_path.parent"
   ]
  },
  {
   "cell_type": "markdown",
   "id": "bb22b0a3",
   "metadata": {},
   "source": [
    "`parent` also works for relative paths."
   ]
  },
  {
   "cell_type": "code",
   "execution_count": null,
   "id": "c471ca39",
   "metadata": {},
   "outputs": [],
   "source": [
    "# On Unix\n",
    "rel_path = Path('relative/path/then_filename.txt')\n",
    "rel_path.parent"
   ]
  },
  {
   "cell_type": "markdown",
   "id": "2ac221eb",
   "metadata": {},
   "source": [
    "Use the `name` attribute of the Path object to get the filename rather\n",
    "than the directory name:"
   ]
  },
  {
   "cell_type": "code",
   "execution_count": null,
   "id": "50515108",
   "metadata": {},
   "outputs": [],
   "source": [
    "# On Unix\n",
    "rel_path.name"
   ]
  },
  {
   "cell_type": "markdown",
   "id": "9c664563",
   "metadata": {},
   "source": [
    "Sometimes you want to join one or more directory names with a filename to get a\n",
    "path.  Path objects have a clever way of doing this, by *overriding* the `/`\n",
    "(division) operator.\n",
    "\n",
    "To remind you about operator overloading, remember that addition means\n",
    "different things for numbers and strings.  For numbers, addition means\n",
    "arithmetic addition:"
   ]
  },
  {
   "cell_type": "code",
   "execution_count": null,
   "id": "990f8565",
   "metadata": {},
   "outputs": [],
   "source": [
    "# Addition for numbers\n",
    "2 + 2"
   ]
  },
  {
   "cell_type": "markdown",
   "id": "9a1f5c56",
   "metadata": {},
   "source": [
    "For strings, addition means concatenation — sticking the strings together:"
   ]
  },
  {
   "cell_type": "code",
   "execution_count": null,
   "id": "db507a49",
   "metadata": {},
   "outputs": [],
   "source": [
    "# Addition for strings.\n",
    "\"first\" + \"second\""
   ]
  },
  {
   "cell_type": "markdown",
   "id": "fe02bf18",
   "metadata": {},
   "source": [
    "Path objects use the division operator `/` to mean \"stick the path fragments\n",
    "together to make a new path, where the `/` separates directories\".\n"
   ]
  },
  {
   "cell_type": "code",
   "execution_count": null,
   "id": "5dfa745e",
   "metadata": {},
   "outputs": [],
   "source": [
    "# On Unix\n",
    "Path('relative') / 'path' / 'then_filename.txt'"
   ]
  },
  {
   "cell_type": "markdown",
   "id": "d8e6da0d",
   "metadata": {},
   "source": [
    "This also works on Windows and Unix in the same way.\n",
    "\n",
    "Sometimes you want to get the filename extension.  Use the `suffix` attribute for this:"
   ]
  },
  {
   "cell_type": "code",
   "execution_count": null,
   "id": "5cb7b2e0",
   "metadata": {},
   "outputs": [],
   "source": [
    "rel_path"
   ]
  },
  {
   "cell_type": "code",
   "execution_count": null,
   "id": "b9623774",
   "metadata": {},
   "outputs": [],
   "source": [
    "rel_path.suffix"
   ]
  },
  {
   "cell_type": "markdown",
   "id": "2c9657f7",
   "metadata": {},
   "source": [
    "You will often find yourself wanting to replace the file extension.  You can do\n",
    "this with the `with_suffix` method:"
   ]
  },
  {
   "cell_type": "code",
   "execution_count": null,
   "id": "d5d7e18c",
   "metadata": {},
   "outputs": [],
   "source": [
    "rel_path.with_suffix('.md')"
   ]
  },
  {
   "cell_type": "markdown",
   "id": "0ee54f63",
   "metadata": {},
   "source": [
    "Path objects also have methods that allow you to read and write text characters and raw bytes.\n",
    "\n",
    "Let us make a new path to point to a file we will write in the current directory."
   ]
  },
  {
   "cell_type": "code",
   "execution_count": null,
   "id": "e8cb8194",
   "metadata": {},
   "outputs": [],
   "source": [
    "new_path = Path() / 'a_test_file.txt'\n",
    "new_path"
   ]
  },
  {
   "cell_type": "markdown",
   "id": "e39ba476",
   "metadata": {},
   "source": [
    "We can write text characters (strings) to this file, with the `write_text` method:"
   ]
  },
  {
   "cell_type": "code",
   "execution_count": null,
   "id": "c6099132",
   "metadata": {},
   "outputs": [],
   "source": [
    "a_multiline_string = \"\"\"Some text.\n",
    "More text.\n",
    "Last text.\"\"\"\n",
    "new_path.write_text(a_multiline_string)"
   ]
  },
  {
   "cell_type": "markdown",
   "id": "96a2d51d",
   "metadata": {},
   "source": [
    "We can read the text out of a file using `read_text`:"
   ]
  },
  {
   "cell_type": "code",
   "execution_count": null,
   "id": "e2d8e0b9",
   "metadata": {},
   "outputs": [],
   "source": [
    "new_path.read_text()"
   ]
  },
  {
   "cell_type": "markdown",
   "id": "95b76614",
   "metadata": {},
   "source": [
    "Similarly, we can write and read raw byte data, using `write_bytes` and `read_bytes`.\n",
    "\n",
    "It is often useful to read in a text file, and split the result into lines.  We\n",
    "do this with `read_text`, and then we use the `splitlines` method of string\n",
    "object to split the read text into lines."
   ]
  },
  {
   "cell_type": "code",
   "execution_count": null,
   "id": "87213e14",
   "metadata": {},
   "outputs": [],
   "source": [
    "text = new_path.read_text()\n",
    "text.splitlines()"
   ]
  },
  {
   "cell_type": "markdown",
   "id": "f3ec1d07",
   "metadata": {},
   "source": [
    "## Listing files in a directory\n",
    "\n",
    "We can use the `glob` method of the `Path` object to give a list of all, or\n",
    "some files in a directory.\n",
    "\n",
    "For example, to see all files in the current directory, we could do this:"
   ]
  },
  {
   "cell_type": "code",
   "execution_count": null,
   "id": "1fa30d61",
   "metadata": {},
   "outputs": [],
   "source": [
    "cwd = Path()\n",
    "list(cwd.glob('*'))"
   ]
  },
  {
   "cell_type": "markdown",
   "id": "0beb72fb",
   "metadata": {},
   "source": [
    "Notice two things here."
   ]
  },
  {
   "cell_type": "markdown",
   "id": "a5f36599",
   "metadata": {},
   "source": [
    "### Selecting files with `glob`\n",
    "\n",
    "The argument to the `glob` method above is `'*'`.  The `'*'` tells `glob` to\n",
    "get *all* files and directories, using what is called a [Glob\n",
    "match](https://docs.python.org/3/library/glob.html).  This is a powerful\n",
    "feature that allows you to be selective in asking for the files that `glob`\n",
    "returns.  For example, if you wanted to see only the files ending with `.txt`\n",
    "you could do:"
   ]
  },
  {
   "cell_type": "code",
   "execution_count": null,
   "id": "b92347e9",
   "metadata": {},
   "outputs": [],
   "source": [
    "list(cwd.glob('*.txt'))"
   ]
  },
  {
   "cell_type": "markdown",
   "id": "3019ae76",
   "metadata": {},
   "source": [
    "There are more detail in the page linked above."
   ]
  },
  {
   "cell_type": "markdown",
   "id": "8f8e1b90",
   "metadata": {},
   "source": [
    "### `list` around the output of `glob`\n",
    "\n",
    "Notice that we used `list` around the output of `glob`, as in, for example:"
   ]
  },
  {
   "cell_type": "code",
   "execution_count": null,
   "id": "5cd6c282",
   "metadata": {},
   "outputs": [],
   "source": [
    "list(cwd.glob('*.txt'))"
   ]
  },
  {
   "cell_type": "markdown",
   "id": "2de5066c",
   "metadata": {},
   "source": [
    "This is because `glob` returns something called a *generator* which *can*\n",
    "return all the Path objects, but will not do that until we ask it to."
   ]
  },
  {
   "cell_type": "code",
   "execution_count": null,
   "id": "14346fdd",
   "metadata": {},
   "outputs": [],
   "source": [
    "cwd.glob('*.txt')"
   ]
  },
  {
   "cell_type": "markdown",
   "id": "1f35e620",
   "metadata": {},
   "source": [
    "The `list` call converts the result into a list, and in doing so, asks the\n",
    "generator to return all the Path objects:"
   ]
  },
  {
   "cell_type": "code",
   "execution_count": null,
   "id": "b5d52faa",
   "metadata": {},
   "outputs": [],
   "source": [
    "list(cwd.glob('*.txt'))"
   ]
  },
  {
   "cell_type": "markdown",
   "id": "3d676fc2",
   "metadata": {},
   "source": [
    "## Deleting files\n",
    "\n",
    "And finally, to be tidy, we use the `unlink` method to delete the temporary\n",
    "file we were using. `unlink` is [strangely\n",
    "named](https://linux.die.net/man/2/unlink), where the name refers to the way\n",
    "the computer disk system stores files, but does always have the effect of\n",
    "deleting the file."
   ]
  },
  {
   "cell_type": "code",
   "execution_count": null,
   "id": "0d5f0518",
   "metadata": {},
   "outputs": [],
   "source": [
    "new_path.unlink()"
   ]
  }
 ],
 "metadata": {
  "jupytext": {
   "notebook_metadata_filter": "all,-language_info",
   "split_at_heading": true
  },
  "kernelspec": {
   "display_name": "Python (Pyodide)",
   "name": "python"
  },
  "orphan": true
 },
 "nbformat": 4,
 "nbformat_minor": 5
}
