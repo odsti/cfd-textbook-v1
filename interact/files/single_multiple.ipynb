{
 "cells": [
  {
   "cell_type": "markdown",
   "id": "afbef885",
   "metadata": {},
   "source": [
    "# Simple and multiple regression"
   ]
  },
  {
   "cell_type": "code",
   "execution_count": null,
   "id": "ca9da2af",
   "metadata": {
    "tags": [
     "hide-cell"
    ]
   },
   "outputs": [],
   "source": [
    "import numpy as np\n",
    "import pandas as pd\n",
    "# Safe setting for Pandas.  Needs Pandas version >= 1.5.\n",
    "pd.set_option('mode.copy_on_write', True)\n",
    "\n",
    "import matplotlib.pyplot as plt\n",
    "plt.style.use('fivethirtyeight')\n",
    "\n",
    "np.set_printoptions(suppress=True)"
   ]
  },
  {
   "cell_type": "code",
   "execution_count": null,
   "id": "10ec09c8",
   "metadata": {
    "tags": [
     "hide-cell"
    ]
   },
   "outputs": [],
   "source": [
    "def standard_units(any_numbers):\n",
    "    \"\"\" Convert any array of numbers to standard units.\n",
    "    \"\"\"\n",
    "    return (any_numbers - np.mean(any_numbers))/np.std(any_numbers)\n",
    "\n",
    "def correlation(t, x, y):\n",
    "    \"\"\" Correlation of columns `x` and `y` from data frame `t`\n",
    "    \"\"\"\n",
    "    return np.mean(standard_units(t[x]) * standard_units(t[y]))"
   ]
  },
  {
   "cell_type": "markdown",
   "id": "3382e047",
   "metadata": {},
   "source": [
    "## Back to simple regression\n",
    "\n",
    "The [multiple regression](Multiple_Regression) page introduced an extension the\n",
    "simple regression methods we saw in the [finding\n",
    "lines](finding_lines) page, and those following.\n",
    "\n",
    "Simple regression uses a single set of predictor values, and a straight line,\n",
    "to predict another set of values.\n",
    "\n",
    "For example, in the finding lines page above, we predicted the \"quality\" scores\n",
    "(on the y-axis) from the \"easiness\" scores (on the x-axis).\n",
    "\n",
    "Multiple regression takes this a step further.  Now we use more than on sets of\n",
    "values to predict another set of values.  For example, in the multiple\n",
    "regression page, we used many sets of values, such as first and second floor\n",
    "area, lot area, and others, in order to predict the house sale price.\n",
    "\n",
    "The multiple regression page followed on directly from the classification\n",
    "pages; we used multiple regression to build a model of house prices, from the\n",
    "training set, and then predicted house prices in the testing set.\n",
    "\n",
    "In this page we go back a little, to simple regression, and show how it relates\n",
    "to the multiple regression we have just done.\n",
    "\n",
    "On the way, we will start using a standard statistics library in Python, called\n",
    "StatsModels."
   ]
  },
  {
   "cell_type": "markdown",
   "id": "16e4c6c9",
   "metadata": {},
   "source": [
    "## Simple regression\n",
    "\n",
    "Let us return to simple regression - using one set of values (on the x axis) to\n",
    "predict another set of values (on the y axis).\n",
    "\n",
    "Here is our familiar [chronic kidney disease\n",
    "dataset](data/chronic_kidney_disease)."
   ]
  },
  {
   "cell_type": "code",
   "execution_count": null,
   "id": "fc501990",
   "metadata": {},
   "outputs": [],
   "source": [
    "ckd = pd.read_csv('data/ckd.csv')\n",
    "ckd.head()"
   ]
  },
  {
   "cell_type": "markdown",
   "id": "8c868e60",
   "metadata": {},
   "source": [
    "In our case, we restrict ourselves to the chronic kidney disease patients.\n",
    "These patients have a `1` in the `Class` column.\n",
    "\n",
    "We're also going to restrict ourselves to looking at the following measures:\n",
    "\n",
    "* `Serum Creatinine`: a measure of how well the kidney is clearing substances\n",
    "  from the blood.  When creatinine is high, it means the kidney is not clearing\n",
    "  well.  This is the general measure of kidney disease that we are interested\n",
    "  to predict.\n",
    "* `Blood Urea`: another measure of the ability of the kidney to clear\n",
    "  substances from the blood.  Urea is high in the blood when the kidneys are\n",
    "  not clearing efficiently.\n",
    "* `Hemoglobin`: healthy kidneys release a hormone *erythropoietin* that\n",
    "  stimulates production of red blood cells, and red blood cells contain the\n",
    "  *hemoglobin* molecule.  When the kidneys are damaged, they produce less\n",
    "  erythropoietin, so the body produces fewer red blood cells, and there is a\n",
    "  lower concentration of hemoglobin in the blood."
   ]
  },
  {
   "cell_type": "code",
   "execution_count": null,
   "id": "675ab26e",
   "metadata": {},
   "outputs": [],
   "source": [
    "# Data frame restricted to kidney patients and columns of interest.\n",
    "ckdp = ckd.loc[\n",
    "    ckd['Class'] == 1,\n",
    "    ['Serum Creatinine', 'Blood Urea', 'Hemoglobin']]\n",
    "# Rename the columns with shorted names.\n",
    "ckdp.columns = ['Creatinine', 'Urea', 'Hemoglobin']\n",
    "ckdp.head()"
   ]
  },
  {
   "cell_type": "markdown",
   "id": "3f735be1",
   "metadata": {},
   "source": [
    "Why did we rename the columns?   Because Statsmodels, by default, has [problems\n",
    "with columns with spaces](statsmodels_spaces).  See that page for why, and ways\n",
    "you can fix the problems.\n",
    "\n",
    "First let us look at the relationship of the urea levels and the creatinine:"
   ]
  },
  {
   "cell_type": "code",
   "execution_count": null,
   "id": "2e4b1e64",
   "metadata": {},
   "outputs": [],
   "source": [
    "ckdp.plot.scatter('Urea', 'Creatinine')"
   ]
  },
  {
   "cell_type": "markdown",
   "id": "45b6745f",
   "metadata": {},
   "source": [
    "There is a positive correlation between these sets of values; high urea and\n",
    "high creatinine go together; both reflect the failure of the kidneys to clear\n",
    "substances from the blood."
   ]
  },
  {
   "cell_type": "code",
   "execution_count": null,
   "id": "d433ffcd",
   "metadata": {},
   "outputs": [],
   "source": [
    "correlation(ckdp, 'Urea', 'Creatinine')"
   ]
  },
  {
   "cell_type": "markdown",
   "id": "4683c35c",
   "metadata": {},
   "source": [
    "Now recall our standard method of finding a straight line to match these two\n",
    "attributes, where we choose our straight line to minimize the root mean squared\n",
    "error between the straight line prediction of the `Creatinine` values from the\n",
    "`Urea` values, and the actual values of `Creatinine`."
   ]
  },
  {
   "cell_type": "code",
   "execution_count": null,
   "id": "f06b30e0",
   "metadata": {},
   "outputs": [],
   "source": [
    "def rmse_any_line(c_s, x_values, y_values):\n",
    "    \"\"\" Sum of squares error for intercept, slope\n",
    "    \"\"\"\n",
    "    c, s = c_s\n",
    "    predicted = c + x_values * s\n",
    "    error = y_values - predicted\n",
    "    return np.sqrt(np.mean(error ** 2))"
   ]
  },
  {
   "cell_type": "markdown",
   "id": "aff4a9e9",
   "metadata": {},
   "source": [
    "We find the least-(root mean) squares straight line, using an initial guess for\n",
    "the slope and intercept of `[0, 0]`.\n",
    "\n",
    "Again we use the [Powell](https://en.wikipedia.org/wiki/Powell%27s_method)\n",
    "method to search for the minimum."
   ]
  },
  {
   "cell_type": "code",
   "execution_count": null,
   "id": "cf82cc4c",
   "metadata": {},
   "outputs": [],
   "source": [
    "from scipy.optimize import minimize\n",
    "\n",
    "initial_guess = [0, 0]\n",
    "\n",
    "min_res = minimize(rmse_any_line,\n",
    "                   initial_guess,\n",
    "                   args=(ckdp['Urea'], ckdp['Creatinine']),\n",
    "                   method='powell')\n",
    "min_res"
   ]
  },
  {
   "cell_type": "markdown",
   "id": "ad0700fd",
   "metadata": {},
   "source": [
    "In particular, our intercept and slope are:"
   ]
  },
  {
   "cell_type": "code",
   "execution_count": null,
   "id": "bcb539ba",
   "metadata": {},
   "outputs": [],
   "source": [
    "min_res.x"
   ]
  },
  {
   "cell_type": "markdown",
   "id": "719ccb2f",
   "metadata": {},
   "source": [
    "You have already seen for this special case, of the root mean square (or the\n",
    "sum of squares) error, we can get the same answer directly with calculation.\n",
    "We used `linregress` from `scipy.stats` to do this calculation in earlier\n",
    "pages."
   ]
  },
  {
   "cell_type": "code",
   "execution_count": null,
   "id": "f4955e2a",
   "metadata": {},
   "outputs": [],
   "source": [
    "from scipy.stats import linregress\n",
    "\n",
    "linregress(ckdp['Urea'], ckdp['Creatinine'])"
   ]
  },
  {
   "cell_type": "markdown",
   "id": "5c741446",
   "metadata": {},
   "source": [
    "Notice that the slope and the intercept are the same as those from `minimize`\n",
    "above, within the precision of the calculation, and that the `rvalue` above is\n",
    "the same as the correlation:"
   ]
  },
  {
   "cell_type": "code",
   "execution_count": null,
   "id": "cf3751aa",
   "metadata": {},
   "outputs": [],
   "source": [
    "correlation(ckdp, 'Urea', 'Creatinine')"
   ]
  },
  {
   "cell_type": "markdown",
   "id": "77c940b8",
   "metadata": {},
   "source": [
    "## StatsModels\n",
    "\n",
    "Now it is time to introduce a major statistics package in Python,\n",
    "[StatsModels](https://www.statsmodels.org).\n",
    "\n",
    "StatsModels does many statistical calculations; among them are simple and\n",
    "multiple regression.  Statsmodels categorizes these types of simple linear\n",
    "models as \"ordinary least squares\" (OLS).\n",
    "\n",
    "Here we load the StatModels interface that uses Pandas data frames:"
   ]
  },
  {
   "cell_type": "code",
   "execution_count": null,
   "id": "92951025",
   "metadata": {},
   "outputs": [],
   "source": [
    "# Get the Pandas interface to the StatsModels routines.\n",
    "import statsmodels.formula.api as smf"
   ]
  },
  {
   "cell_type": "markdown",
   "id": "15e9f268",
   "metadata": {},
   "source": [
    "Next we specify our model using a *formula*.  Read the `~` in the formula below\n",
    "as \"as a function of\".  So the formula specifies a linear (straight-line) model\n",
    "predicting `Creatinine` *as a function of* `Urea`."
   ]
  },
  {
   "cell_type": "code",
   "execution_count": null,
   "id": "99f548ea",
   "metadata": {},
   "outputs": [],
   "source": [
    "simple_model = smf.ols(formula=\"Creatinine ~ Urea\", data=ckdp)"
   ]
  },
  {
   "cell_type": "markdown",
   "id": "398061c0",
   "metadata": {},
   "source": [
    "Finally we *fit* the model, and show the summary of the model fit:"
   ]
  },
  {
   "cell_type": "code",
   "execution_count": null,
   "id": "028f89fc",
   "metadata": {},
   "outputs": [],
   "source": [
    "simple_fit = simple_model.fit()\n",
    "simple_fit.summary()"
   ]
  },
  {
   "cell_type": "markdown",
   "id": "38013ff9",
   "metadata": {},
   "source": [
    "Notice that the `coeff` column towards the bottom of this output.  Sure enough,\n",
    "StatsModels is doing the same calculation as `linregress`, and getting the same\n",
    "answer as `minimize` with our least-squares criterion.  The 'Intercept' and\n",
    "slope for 'Urea' are the same as those we have already seen with the other\n",
    "methods."
   ]
  },
  {
   "cell_type": "markdown",
   "id": "76921cc7",
   "metadata": {},
   "source": [
    "## Multiple regression, in steps\n",
    "\n",
    "Now we move on to trying to predict the `Creatinine` using the `Urea` *and* the\n",
    "`Hemoglobin`.  The `Urea` values and `Hemoglobin` values contain different\n",
    "information, so both values may be useful in predicting the `Creatinine`.\n",
    "\n",
    "One way to use both values is to use them step by step - first use `Urea`, and\n",
    "then use `Hemoglobin`.\n",
    "\n",
    "First we predict the `Creatinine` using just the straight-line relationship we\n",
    "have found for `Urea`."
   ]
  },
  {
   "cell_type": "code",
   "execution_count": null,
   "id": "f341af41",
   "metadata": {},
   "outputs": [],
   "source": [
    "# Use the RMSE line; but all our methods gave the same line.\n",
    "intercept, slope = min_res.x\n",
    "creat_predicted = intercept + slope * ckdp['Urea']\n",
    "errors = ckdp['Creatinine'] - creat_predicted\n",
    "# Show the first five errors\n",
    "errors.head()"
   ]
  },
  {
   "cell_type": "markdown",
   "id": "4a53e9ed",
   "metadata": {},
   "source": [
    "We can also call these errors *residuals* in the sense they are the error\n",
    "*remaining* after removing the (straight-line) effect of `Urea`."
   ]
  },
  {
   "cell_type": "code",
   "execution_count": null,
   "id": "00df3956",
   "metadata": {},
   "outputs": [],
   "source": [
    "# We can also call the errors - residuals.\n",
    "residuals = errors"
   ]
  },
  {
   "cell_type": "markdown",
   "id": "ff4b92ff",
   "metadata": {},
   "source": [
    "The remaining root mean square error is:"
   ]
  },
  {
   "cell_type": "code",
   "execution_count": null,
   "id": "436b150e",
   "metadata": {},
   "outputs": [],
   "source": [
    "# Root mean square error\n",
    "np.sqrt(np.mean(residuals ** 2))"
   ]
  },
  {
   "cell_type": "markdown",
   "id": "bea1b2d8",
   "metadata": {},
   "source": [
    "Now we want to see if we can predict these residuals with the `Hemoglobin`\n",
    "values.  Let's use these residuals as our new y values, and fit a predicting\n",
    "line using `Hemoglobin`.\n",
    "\n",
    "First plot the residuals (y) against the `Hemoglobin` (x):"
   ]
  },
  {
   "cell_type": "code",
   "execution_count": null,
   "id": "84fca0bc",
   "metadata": {},
   "outputs": [],
   "source": [
    "plt.scatter(ckdp['Hemoglobin'], residuals)"
   ]
  },
  {
   "cell_type": "markdown",
   "id": "b25adcbd",
   "metadata": {},
   "source": [
    "Then fit a line:"
   ]
  },
  {
   "cell_type": "code",
   "execution_count": null,
   "id": "2a4a8aca",
   "metadata": {},
   "outputs": [],
   "source": [
    "min_rmse_hgb = minimize(rmse_any_line,\n",
    "                        initial_guess,\n",
    "                        args=(ckdp['Hemoglobin'], residuals),\n",
    "                        method='powell')\n",
    "min_rmse_hgb"
   ]
  },
  {
   "cell_type": "markdown",
   "id": "f006a2a4",
   "metadata": {},
   "source": [
    "The results from minimize show that the line relating `Hemoglobin` and the\n",
    "residuals has a negative slope, as we would expect; more severe kidney disease\n",
    "leads to lower hemoglobin and higher creatinine.  The root mean square error\n",
    "has hardly changed, suggesting that `Hemoglobin` does not predict much, once we\n",
    "have allowed for the predictions using `Urea`.\n"
   ]
  },
  {
   "cell_type": "markdown",
   "id": "8717d77d",
   "metadata": {},
   "source": [
    "## Multiple regression in one go\n",
    "\n",
    "Here we build the machinery as we did in the [multiple\n",
    "regression](Multiple_Regression) page.\n",
    "\n",
    "In particular, we are going to find three parameters:\n",
    "\n",
    "* An intercept;\n",
    "* A slope for the line relating `Urea` to `Creatinine`;\n",
    "* A slope for the line relating `Hemoglobin` to `Creatinine`.\n",
    "\n",
    "In the multiple regression page, we found our best-fit slopes using the\n",
    "training set, but here we will use the whole dataset.\n",
    "\n",
    "The multiple regression page did not allow for an intercept.  Here we do allow\n",
    "for an intercept.\n",
    "\n",
    "Otherwise, you will recognize much of this machinery from the multiple\n",
    "regression page."
   ]
  },
  {
   "cell_type": "code",
   "execution_count": null,
   "id": "03e0300d",
   "metadata": {},
   "outputs": [],
   "source": [
    "def predict(intercept, slopes, row):\n",
    "    \"\"\" Predict a value given an intercept, slopes and corresponding row values\n",
    "    \"\"\"\n",
    "    return intercept + np.sum(slopes * np.array(row))"
   ]
  },
  {
   "cell_type": "code",
   "execution_count": null,
   "id": "e78a9d11",
   "metadata": {},
   "outputs": [],
   "source": [
    "def rmse(intercept, slopes, attributes, y_values):\n",
    "    \"\"\" Root mean square error for prediction of `y_values` from `attributes`\n",
    "\n",
    "    Use `intercept` and `slopes` multiplied by `attributes` to give prediction.\n",
    "\n",
    "    `attributes` is a data frame with numerical attributes to predict from.\n",
    "    \"\"\"\n",
    "    errors = []\n",
    "    for i in np.arange(len(y_values)):\n",
    "        predicted = predict(intercept, slopes, attributes.iloc[i])\n",
    "        actual = y_values.iloc[i]\n",
    "        errors.append((actual - predicted) ** 2)\n",
    "    return np.sqrt(np.mean(errors))"
   ]
  },
  {
   "cell_type": "markdown",
   "id": "3ae0c869",
   "metadata": {},
   "source": [
    "Here we calculate the root mean square error for an intercept of 1, and slopes\n",
    "for `Urea` and `Hemoglobin` of 0 and 0."
   ]
  },
  {
   "cell_type": "code",
   "execution_count": null,
   "id": "e35fedb3",
   "metadata": {},
   "outputs": [],
   "source": [
    "rmse(1, [0, 0], ckdp.loc[:, 'Urea':], ckdp['Creatinine'])"
   ]
  },
  {
   "cell_type": "code",
   "execution_count": null,
   "id": "b353a1f3",
   "metadata": {},
   "outputs": [],
   "source": [
    "def rmse_for_params(params, attributes, y_values):\n",
    "    \"\"\" RMSE for intercept, slopes contained in `params`\n",
    "\n",
    "    `params[0]` is the intercept.  `params[1:]` are the slopes.\n",
    "    \"\"\"\n",
    "    intercept = params[0]\n",
    "    slopes = params[1:]\n",
    "    return rmse(intercept,\n",
    "                slopes,\n",
    "                attributes,\n",
    "                y_values,\n",
    "               )"
   ]
  },
  {
   "cell_type": "markdown",
   "id": "d7c32582",
   "metadata": {},
   "source": [
    "Now we can get minimize to find the intercept and two slopes that minimize the\n",
    "root mean square error (and the sum of squared error):"
   ]
  },
  {
   "cell_type": "code",
   "execution_count": null,
   "id": "62689c72",
   "metadata": {},
   "outputs": [],
   "source": [
    "attributes =  ckdp.loc[:, 'Urea':]\n",
    "y_values = ckdp['Creatinine']\n",
    "min_css = minimize(rmse_for_params, [0, 0, 0], method='powell',\n",
    "                   args=(attributes, y_values))\n",
    "min_css"
   ]
  },
  {
   "cell_type": "markdown",
   "id": "0fb6f10d",
   "metadata": {},
   "source": [
    "Just as for the simple regression case, and `linregress`, we can get our\n",
    "parameters by calculation directly, in this case we were are using\n",
    "least-squares as our criterion.\n",
    "\n",
    "Don't worry about the details of the function below.  It contains the matrix\n",
    "calculation to give us the same answer as `minimize` above, as long as we are\n",
    "minimizing the root mean square error (or sum of squared error) for one or more\n",
    "slopes and an intercept."
   ]
  },
  {
   "cell_type": "code",
   "execution_count": null,
   "id": "7870b333",
   "metadata": {},
   "outputs": [],
   "source": [
    "def multiple_regression_matrix(y_values, x_attributes):\n",
    "    \"\"\" linregress equivalent for multiple slopes\n",
    "\n",
    "    Parameters\n",
    "    ----------\n",
    "    y_values : array-like, shape (n,)\n",
    "        Values to be predicted.\n",
    "    x_attributes: array-like, shape (n, p)\n",
    "        Something that can be made into a two-dimensional array (for example, an array or a data frame), that has ``n`` rows and `p` columns.\n",
    "\n",
    "    Returns\n",
    "    -------\n",
    "    params : array, shape (p + 1,)\n",
    "        Least-squares fit parameters, where first parameter is intercept value,\n",
    "        and subsequent ``p`` parameters are slopes corresponding to ``p``\n",
    "        columns in `x_attributes`.\n",
    "    \"\"\"\n",
    "    intercept_col = np.ones(len(y_values))\n",
    "    X = np.column_stack([intercept_col, x_attributes])\n",
    "    return np.linalg.pinv(X) @ y_values"
   ]
  },
  {
   "cell_type": "markdown",
   "id": "1bef5218",
   "metadata": {},
   "source": [
    "This function gives the same result as we got from `minimize`."
   ]
  },
  {
   "cell_type": "code",
   "execution_count": null,
   "id": "8694ab17",
   "metadata": {},
   "outputs": [],
   "source": [
    "params = multiple_regression_matrix(y_values, attributes)\n",
    "params"
   ]
  },
  {
   "cell_type": "markdown",
   "id": "b4b1afff",
   "metadata": {},
   "source": [
    "Finally, let's see StatsModels in action, to do the same calculation.\n",
    "\n",
    "Here we specify that we want to fit a linear model to `Creatinine` *as a\n",
    "function of* `Urea` *and* as a function of `Hemoglobin`.  This has the same\n",
    "meaning as above; that we will simultaneously fit the intercept, `Urea` slope\n",
    "and the `Hemoglobin` slope."
   ]
  },
  {
   "cell_type": "code",
   "execution_count": null,
   "id": "f8779535",
   "metadata": {},
   "outputs": [],
   "source": [
    "multi_model = smf.ols(formula=\"Creatinine ~ Urea + Hemoglobin\", data=ckdp)\n",
    "multi_fit = multi_model.fit()\n",
    "multi_fit.summary()"
   ]
  },
  {
   "cell_type": "markdown",
   "id": "655e0c59",
   "metadata": {},
   "source": [
    "Notice again that StatsModels is doing the same calculation as above, and\n",
    "finding the same result as `minimize`.\n"
   ]
  },
  {
   "cell_type": "markdown",
   "id": "1c4a0d91",
   "metadata": {},
   "source": [
    "## Multiple regression in 3D\n",
    "\n",
    "It can be useful to use a 3D plot to show what is going on here.  `minimize`\n",
    "and the other methods are finding these three parameters *simultaneously*:\n",
    "\n",
    "* An intercept;\n",
    "* A slope for `Urea`\n",
    "* A slope for `Hemoglobin`.\n",
    "\n",
    "The plot below shows what this looks like, in 3D.  Instead of the 2D case,\n",
    "where we are fitting the y data values (`Creatinine`) with a single straight\n",
    "line, here we are fitting the y data values with *two* straight lines.  In 3D\n",
    "these two straight lines form a plane, and we want the plane such that the sum\n",
    "of squares of the distance of the y values from the plane (plotted) is as small\n",
    "as possible.  `minimize` will change the intercept and the two slopes to move\n",
    "this plane around until it has minimized the error."
   ]
  },
  {
   "cell_type": "code",
   "execution_count": null,
   "id": "216e4746",
   "metadata": {},
   "outputs": [],
   "source": [
    "# Run this cell.\n",
    "import mpl_toolkits.mplot3d  # (for Matplotlib < 3.2)\n",
    "ax = plt.figure(figsize=(8,8)).add_subplot(111, projection='3d')\n",
    "ax.scatter(ckdp['Urea'],\n",
    "           ckdp['Hemoglobin'],\n",
    "           ckdp['Creatinine']\n",
    "          )\n",
    "ax.set_xlabel('Urea')\n",
    "ax.set_ylabel('Hemoglobin')\n",
    "ax.set_zlabel('Creatinine')\n",
    "intercept, urea_slope, hgb_slope = min_css.x\n",
    "mx_urea, mx_hgb, mx_creat = 300, 16, 18\n",
    "ax.plot([0, mx_urea],\n",
    "        [intercept, intercept + urea_slope * mx_urea],\n",
    "        0,\n",
    "        zdir='y', color='blue', linestyle=':')\n",
    "mx_hgb = ckdp['Hemoglobin'].max()\n",
    "ax.plot([0, mx_hgb],\n",
    "        [intercept, intercept + hgb_slope * mx_hgb],\n",
    "        0,\n",
    "        zdir='x', color='black', linestyle=':')\n",
    "# Plot the fitting plane.\n",
    "plane_x = np.linspace(0, mx_urea, 50)\n",
    "plane_y = np.linspace(0, mx_hgb, 50)\n",
    "X, Y = np.meshgrid(plane_x, plane_y)\n",
    "Z = intercept + urea_slope * X + hgb_slope * Y\n",
    "ax.plot_surface(X, Y, Z, alpha=0.5)\n",
    "# Plot lines between each point and fitting plane\n",
    "for i, row in ckdp.iterrows():\n",
    "    x, y, actual = row['Urea'], row['Hemoglobin'], row['Creatinine']\n",
    "    fitted = intercept + x * urea_slope + y * hgb_slope\n",
    "    ax.plot([x, x], [y, y], [fitted, actual],\n",
    "            linestyle=':',\n",
    "            linewidth=0.5,\n",
    "            color='black')\n",
    "# Set the axis limits (and reverse y axis)\n",
    "ax.set_xlim(0, mx_urea)\n",
    "ax.set_ylim(mx_hgb, 0)\n",
    "ax.set_zlim(0, mx_creat);"
   ]
  }
 ],
 "metadata": {
  "jupytext": {
   "notebook_metadata_filter": "all,-language_info",
   "split_at_heading": true
  },
  "kernelspec": {
   "display_name": "Python (Pyodide)",
   "name": "python"
  }
 },
 "nbformat": 4,
 "nbformat_minor": 5
}
