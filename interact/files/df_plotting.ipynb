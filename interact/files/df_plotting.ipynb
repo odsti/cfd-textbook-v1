{
 "cells": [
  {
   "cell_type": "markdown",
   "id": "373797ea",
   "metadata": {},
   "source": [
    "# Pandas plotting methods\n",
    "\n",
    "We start by loading our [familiar gender_data dataset](data/gender_stats)."
   ]
  },
  {
   "cell_type": "code",
   "execution_count": null,
   "id": "68f70372",
   "metadata": {},
   "outputs": [],
   "source": [
    "# Load the Numpy array library, call it 'np'\n",
    "import numpy as np\n",
    "# Load the Pandas data science library, call it 'pd'\n",
    "import pandas as pd\n",
    "# Turn on a setting to use Pandas more safely.\n",
    "pd.set_option('mode.copy_on_write', True)"
   ]
  },
  {
   "cell_type": "markdown",
   "id": "bf8dfb67",
   "metadata": {},
   "source": [
    "If you are running on your laptop, you should download the\n",
    "{download}`gender_stats_min.csv <data/gender_stats_min.csv>` file to the same\n",
    "directory as this notebook."
   ]
  },
  {
   "cell_type": "code",
   "execution_count": null,
   "id": "02f03056",
   "metadata": {},
   "outputs": [],
   "source": [
    "# Load the data file\n",
    "gender_data = pd.read_csv('data/gender_stats_min.csv')\n",
    "gender_data.head()"
   ]
  },
  {
   "cell_type": "code",
   "execution_count": null,
   "id": "7b81b0d6",
   "metadata": {},
   "outputs": [],
   "source": [
    "# Get the GDP values as a Pandas Series\n",
    "gdp = gender_data['gdp_us_billion']\n",
    "gdp.head()"
   ]
  },
  {
   "cell_type": "markdown",
   "id": "ceea643b",
   "metadata": {},
   "source": [
    "## Plotting with methods\n",
    "\n",
    "You have [already seen](data_frame_intro) basic plotting with the Matplotlib\n",
    "library.\n",
    "\n",
    "Here is the magic incantation to load the Matplotlib plotting library."
   ]
  },
  {
   "cell_type": "code",
   "execution_count": null,
   "id": "dcfe368b",
   "metadata": {},
   "outputs": [],
   "source": [
    "# Load the library for plotting, name it 'plt'\n",
    "import matplotlib.pyplot as plt\n",
    "# Make plots look a little more fancy\n",
    "plt.style.use('fivethirtyeight')"
   ]
  },
  {
   "cell_type": "markdown",
   "id": "4baef343",
   "metadata": {},
   "source": [
    "Here is basic plotting of a Pandas series, using Matplotlib.  This is what you have already seen."
   ]
  },
  {
   "cell_type": "code",
   "execution_count": null,
   "id": "fb391863",
   "metadata": {},
   "outputs": [],
   "source": [
    "plt.hist(gdp);"
   ]
  },
  {
   "cell_type": "markdown",
   "id": "a6816a9f",
   "metadata": {},
   "source": [
    "It is possible you will see warnings as Matplotlib tried to calculate the bin\n",
    "widths for the histogram.  If you do see them, these warnings result from\n",
    "Matplotlib struggling with `NaN` ([missing](missing_values) values."
   ]
  },
  {
   "cell_type": "markdown",
   "id": "d91c1633",
   "metadata": {},
   "source": [
    "Another way to do the histogram, is to use the `hist` *method* of the series.\n",
    "\n",
    "A method is a function attached to a value.  In this case `hist` is a function attached to a value of type `Series`.\n",
    "\n",
    "Using the `hist` method instead of the `plt.hist` function can make the code a bit easier to read.  The method also has the advantage that it discards the `NaN` values, by default, so it does not generate the same warnings."
   ]
  },
  {
   "cell_type": "code",
   "execution_count": null,
   "id": "c882ca42",
   "metadata": {},
   "outputs": [],
   "source": [
    "gdp.hist();"
   ]
  },
  {
   "cell_type": "markdown",
   "id": "1da850f2",
   "metadata": {},
   "source": [
    "Now we have had a look at the GDP values, we will look at the\n",
    "values for the `mat_mort_ratio` column.  These are the numbers\n",
    "of women who die in childbirth for every 100,000 births."
   ]
  },
  {
   "cell_type": "code",
   "execution_count": null,
   "id": "ac336345",
   "metadata": {},
   "outputs": [],
   "source": [
    "mmr = gender_data['mat_mort_ratio']\n",
    "mmr"
   ]
  },
  {
   "cell_type": "code",
   "execution_count": null,
   "id": "a3940961",
   "metadata": {},
   "outputs": [],
   "source": [
    "mmr.hist();"
   ]
  },
  {
   "cell_type": "markdown",
   "id": "7d1727de",
   "metadata": {},
   "source": [
    "We are interested in the relationship of `gpp` and `mmr`.  Maybe richer countries have better health care, and fewer maternal deaths.\n",
    "\n",
    "Here is a plot, using the standard Matplotlib `scatter`\n",
    "function."
   ]
  },
  {
   "cell_type": "code",
   "execution_count": null,
   "id": "3f2907d1",
   "metadata": {},
   "outputs": [],
   "source": [
    "plt.scatter(gdp, mmr);"
   ]
  },
  {
   "cell_type": "markdown",
   "id": "56d8b80c",
   "metadata": {},
   "source": [
    "We can do the same plot using the `plot.scatter` method on the data frame.  In that case, we specify the column names that should go on the x and the y axes."
   ]
  },
  {
   "cell_type": "code",
   "execution_count": null,
   "id": "d1b10da2",
   "metadata": {},
   "outputs": [],
   "source": [
    "gender_data.plot.scatter('gdp_us_billion', 'mat_mort_ratio');"
   ]
  },
  {
   "cell_type": "markdown",
   "id": "c3e0fda6",
   "metadata": {},
   "source": [
    "An advantage of doing it this way is that we get the column names on the x and y axes by default."
   ]
  }
 ],
 "metadata": {
  "jupyterbook": {
   "show_stderr": true
  },
  "jupytext": {
   "formats": "",
   "notebook_metadata_filter": "jupyterbook",
   "split_at_heading": true
  },
  "kernelspec": {
   "display_name": "Python (Pyodide)",
   "name": "python"
  }
 },
 "nbformat": 4,
 "nbformat_minor": 5
}
