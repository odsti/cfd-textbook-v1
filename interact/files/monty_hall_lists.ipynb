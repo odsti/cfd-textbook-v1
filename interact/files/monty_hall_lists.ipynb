{
 "cells": [
  {
   "cell_type": "markdown",
   "id": "3f8e3246",
   "metadata": {},
   "source": [
    "# The Monty Hall problem, with lists\n",
    "\n",
    "For inspiration, see this simulation of [the Monty Hall\n",
    "Problem](monty_hall) using arrays.\n",
    "\n",
    "We use arrays often in data science, but sometimes, it is more efficient to use\n",
    "Python [lists](lists).\n",
    "\n",
    "To follow along in this section, you will also need [more on\n",
    "lists](more_on_lists)."
   ]
  },
  {
   "cell_type": "markdown",
   "id": "cf040d0a",
   "metadata": {},
   "source": [
    "## Simulating one trial\n",
    "\n",
    "To operate on lists we use the Python standard `random` module, instead of the Numpy `random` module.  The Numpy module always returns arrays, but in our case, we want to return lists."
   ]
  },
  {
   "cell_type": "code",
   "execution_count": null,
   "id": "31038ea3",
   "metadata": {},
   "outputs": [],
   "source": [
    "import random"
   ]
  },
  {
   "cell_type": "markdown",
   "id": "ff13e967",
   "metadata": {},
   "source": [
    "In particular, we are going to use the `shuffle` function in the Python\n",
    "standard `random` module."
   ]
  },
  {
   "cell_type": "code",
   "execution_count": null,
   "id": "29294f6f",
   "metadata": {},
   "outputs": [],
   "source": [
    "doors = ['car', 'goat', 'goat']\n",
    "random.shuffle(doors)\n",
    "doors"
   ]
  },
  {
   "cell_type": "markdown",
   "id": "94bdfe63",
   "metadata": {},
   "source": [
    "Here we chose a door at random.  We use the standard `random.choice` instead of\n",
    "`rng.choice`."
   ]
  },
  {
   "cell_type": "code",
   "execution_count": null,
   "id": "58037245",
   "metadata": {},
   "outputs": [],
   "source": [
    "my_door_index = random.choice([0, 1, 2])\n",
    "my_door_index"
   ]
  },
  {
   "cell_type": "markdown",
   "id": "0581d44c",
   "metadata": {},
   "source": [
    "We get the result of staying with our original choice, and remove that option from the list of available doors."
   ]
  },
  {
   "cell_type": "code",
   "execution_count": null,
   "id": "937310eb",
   "metadata": {},
   "outputs": [],
   "source": [
    "stay_result = doors.pop(my_door_index)\n",
    "stay_result"
   ]
  },
  {
   "cell_type": "markdown",
   "id": "a5dc918a",
   "metadata": {},
   "source": [
    "We are left with the two doors that Monty has to choose from."
   ]
  },
  {
   "cell_type": "code",
   "execution_count": null,
   "id": "bd1a891d",
   "metadata": {},
   "outputs": [],
   "source": [
    "doors"
   ]
  },
  {
   "cell_type": "markdown",
   "id": "20de9fbd",
   "metadata": {},
   "source": [
    "Behind one of these doors, Monty knows there is a goat.  He opens the door.  We simulate that by removing the first door with a goat behind it.\n",
    "\n",
    "[Remember](more_on_lists), `remove` removes only the first instance of \"goat\", leaving the second, if there is one."
   ]
  },
  {
   "cell_type": "code",
   "execution_count": null,
   "id": "69708168",
   "metadata": {},
   "outputs": [],
   "source": [
    "doors.remove('goat')\n",
    "doors"
   ]
  },
  {
   "cell_type": "markdown",
   "id": "8772d473",
   "metadata": {},
   "source": [
    "Now we have only one remaining door.  The item behind that door is the result from switching from our original door."
   ]
  },
  {
   "cell_type": "code",
   "execution_count": null,
   "id": "c4131be3",
   "metadata": {},
   "outputs": [],
   "source": [
    "switch_result = doors[0]\n",
    "switch_result"
   ]
  },
  {
   "cell_type": "markdown",
   "id": "5c7308dc",
   "metadata": {},
   "source": [
    "## Many trials.\n",
    "\n",
    "That's one trial.   Now let's do that 100000 times.\n",
    "\n",
    "Here we are using `range` instead of `np.arange`.  `range` is the standard\n",
    "Python equivalent of `np.arange`; it has the same effect, in this case, when we\n",
    "use it in a loop."
   ]
  },
  {
   "cell_type": "code",
   "execution_count": null,
   "id": "2430cfe6",
   "metadata": {},
   "outputs": [],
   "source": [
    "# Make 10000 trials.\n",
    "n_tries = 100000\n",
    "# Lists to store results from stay and switch strategy\n",
    "stay_results = []\n",
    "switch_results = []\n",
    "for i in range(n_tries):\n",
    "    # Same code as above, for one trial\n",
    "    doors = ['car', 'goat', 'goat']\n",
    "    random.shuffle(doors)\n",
    "    my_door_index = random.choice([0, 1, 2])\n",
    "    stay_result = doors.pop(my_door_index)\n",
    "    doors.remove('goat')\n",
    "    switch_result = doors[0]\n",
    "    # Put results into result lists\n",
    "    stay_results.append(stay_result)\n",
    "    switch_results.append(switch_result)"
   ]
  },
  {
   "cell_type": "markdown",
   "id": "52d306db",
   "metadata": {},
   "source": [
    "We use the `count` method of the list to count the number of \"car\" element in\n",
    "each list, and divide by the length of the list, to get the proportion of\n",
    "successes."
   ]
  },
  {
   "cell_type": "code",
   "execution_count": null,
   "id": "3d434294",
   "metadata": {},
   "outputs": [],
   "source": [
    "stay_results.count('car') / n_tries"
   ]
  },
  {
   "cell_type": "code",
   "execution_count": null,
   "id": "187b94ef",
   "metadata": {},
   "outputs": [],
   "source": [
    "switch_results.count('car') / n_tries"
   ]
  },
  {
   "cell_type": "markdown",
   "id": "444fccac",
   "metadata": {},
   "source": [
    "Compare this solution to the [solution using arrays](monty_hall).  Which solution is easier to read and understand?"
   ]
  }
 ],
 "metadata": {
  "jupytext": {
   "split_at_heading": true
  },
  "kernelspec": {
   "display_name": "Python (Pyodide)",
   "name": "python"
  }
 },
 "nbformat": 4,
 "nbformat_minor": 5
}
