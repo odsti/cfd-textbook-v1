{
 "cells": [
  {
   "cell_type": "markdown",
   "id": "ff9f1d96",
   "metadata": {},
   "source": [
    "# Names and variables\n",
    "\n",
    "{ucb-page}`Names`\n",
    "\n",
    "As you've already seen in the [introduction to variables](variables_intro),\n",
    "Python gives names to values using an *assignment* statement. In an\n",
    "assignment, a *name* is followed by `=`, which is followed by any\n",
    "[expression](Expressions). The value of the expression to the right of `=` is\n",
    "*assigned* to the name. Once a name has a value assigned to it, the value will\n",
    "be substituted for that name in future expressions.\n",
    "\n",
    "To repeat, when Python gives a name to a value, that is an *assignment\n",
    "statement*.\n",
    "\n",
    "A *statement* is a piece of code that performs an action."
   ]
  },
  {
   "cell_type": "markdown",
   "id": "9e980db4",
   "metadata": {},
   "source": [
    "Here are two assignment statements, giving values to the names `a` and `b`.\n",
    "Then we use these variables in an expression.  The Notebook shows the human-readable display of the expression return value."
   ]
  },
  {
   "cell_type": "code",
   "execution_count": null,
   "id": "371fa97d",
   "metadata": {},
   "outputs": [],
   "source": [
    "a = 10\n",
    "b = 20\n",
    "a + b"
   ]
  },
  {
   "cell_type": "markdown",
   "id": "3cd6c1de",
   "metadata": {},
   "source": [
    "In the expression `a + b` above, Python evaluates the variable `a` to get\n",
    "a computer representation (CR) of the number 10, it evaluates the variable `b`\n",
    "to get the CR of 20, and then adds them, to give the final result of the\n",
    "expression; a CR of 30.\n",
    "\n",
    "Finally, the notebook creates a human-readable (HR) version of the result, and\n",
    "shows that to us.\n",
    "\n",
    "A variable can be used in the expression to the right of `=`."
   ]
  },
  {
   "cell_type": "code",
   "execution_count": null,
   "id": "48c29c6f",
   "metadata": {},
   "outputs": [],
   "source": [
    "quarter = 1/4\n",
    "half = 2 * quarter\n",
    "half"
   ]
  },
  {
   "cell_type": "markdown",
   "id": "facc4c2e",
   "metadata": {},
   "source": [
    "We can change the value for variables.  Here we change the value of variable\n",
    "`quarter` from 0.25 to 4."
   ]
  },
  {
   "cell_type": "code",
   "execution_count": null,
   "id": "8b5e88bb",
   "metadata": {},
   "outputs": [],
   "source": [
    "quarter = 4"
   ]
  },
  {
   "cell_type": "markdown",
   "id": "0e497a06",
   "metadata": {},
   "source": [
    "Now we have changed the value of `quarter` What do you think will happen to\n",
    "the value of `half` above?  Will it change, or will it stay the same?\n",
    "\n",
    "Try working out the answer before reading further.\n",
    "\n",
    "Remember that an expression *evaluates* its variables before returning the\n",
    "result.  In the cell above, the expression `half = 2 * quarter` evaluated\n",
    "`quarter`, to get the CR of 0.25, and then evaluated 2 * 0.25, to give the CR\n",
    "of 0.5.  `half` has this value - the CR of 0.5.  When we changed `quarter` in\n",
    "the next cell, it did not affect the value that we have already given to\n",
    "`half`:"
   ]
  },
  {
   "cell_type": "code",
   "execution_count": null,
   "id": "9cbf9d20",
   "metadata": {},
   "outputs": [],
   "source": [
    "half"
   ]
  },
  {
   "cell_type": "markdown",
   "id": "5165c97d",
   "metadata": {},
   "source": [
    "## Reassigning variables\n",
    "\n",
    "You can change (reassign) the value of a variable.  Let's say we start with:"
   ]
  },
  {
   "cell_type": "code",
   "execution_count": null,
   "id": "76def7c8",
   "metadata": {},
   "outputs": [],
   "source": [
    "a = 5\n",
    "a"
   ]
  },
  {
   "cell_type": "markdown",
   "id": "d146147a",
   "metadata": {},
   "source": [
    "At this stage the variable `a` has the value 5.\n",
    "\n",
    "If you want, you can then *change* the value of `a`, like this:"
   ]
  },
  {
   "cell_type": "code",
   "execution_count": null,
   "id": "c3ff2282",
   "metadata": {},
   "outputs": [],
   "source": [
    "a = 7\n",
    "a"
   ]
  },
  {
   "cell_type": "markdown",
   "id": "1516ed5e",
   "metadata": {},
   "source": [
    "Now the variable `a` has the value 7.  You can call this *reassigning* a variable.\n",
    "\n",
    "Now consider this piece of code:"
   ]
  },
  {
   "cell_type": "code",
   "execution_count": null,
   "id": "dca76838",
   "metadata": {},
   "outputs": [],
   "source": [
    "a = 10\n",
    "a = a + 1"
   ]
  },
  {
   "cell_type": "markdown",
   "id": "47713796",
   "metadata": {},
   "source": [
    "What value will `a` have?\n",
    "\n",
    "Remember that Python will evaluate the right hand side (RHS) of `a = a + 1`.\n",
    "The RHS is `a + 1`. This has two [sub-expressions](sub_expressions), `a` (which\n",
    "evaluates to the CR of 10) and `1` (which evaluates to a CR of 1), so the value\n",
    "returned from `a \\+ 1` is the CR of 11.  After this Python sets the\n",
    "left-hand-side name `a` to have this value.   So:"
   ]
  },
  {
   "cell_type": "code",
   "execution_count": null,
   "id": "de45d6fa",
   "metadata": {},
   "outputs": [],
   "source": [
    "a"
   ]
  },
  {
   "cell_type": "markdown",
   "id": "adb5b66a",
   "metadata": {},
   "source": [
    "See [this chapter in Think Like a Computer\n",
    "Scientist](https://runestone.academy/runestone/books/published/thinkcspy/SimplePythonData/Reassignment.html)\n",
    "for more explanation of variables and reassignment.\n",
    "\n",
    "## Rules for variable names\n",
    "\n",
    "Variable names must start with a letter, but can contain both letters and\n",
    "numbers. A name cannot contain a space; instead, it is common to use an\n",
    "underscore character `_` to replace each space. Names are only as useful as\n",
    "you make them; it's up to the programmer to choose names that are easy to\n",
    "interpret.  Typically, more meaningful names can be invented than `a` and `b`.\n",
    "For example, let's say you were calculating the 20% Value Added Tax for a\n",
    "restaurant bill, as well as 15% tip, on top of that.  The following names\n",
    "clarify the meaning of the various quantities involved."
   ]
  },
  {
   "cell_type": "code",
   "execution_count": null,
   "id": "719b240a",
   "metadata": {},
   "outputs": [],
   "source": [
    "meal_price = 25\n",
    "vat_rate = 0.2\n",
    "vat = meal_price * vat_rate\n",
    "meal_price_with_vat = meal_price + vat\n",
    "meal_price_with_vat"
   ]
  },
  {
   "cell_type": "code",
   "execution_count": null,
   "id": "ca64e85c",
   "metadata": {},
   "outputs": [],
   "source": [
    "tip_rate = 0.15\n",
    "tip = meal_price_with_vat * tip_rate\n",
    "meal_price_total = meal_price_with_vat + tip\n",
    "meal_price_total"
   ]
  },
  {
   "cell_type": "markdown",
   "id": "1239b347",
   "metadata": {},
   "source": [
    "{ucb-page}`Names`"
   ]
  }
 ],
 "metadata": {
  "anaconda-cloud": {},
  "jupytext": {
   "notebook_metadata_filter": "anaconda-cloud,language_info"
  },
  "kernelspec": {
   "display_name": "Python (Pyodide)",
   "name": "python"
  },
  "language_info": {
   "codemirror_mode": {
    "name": "ipython",
    "version": 3
   },
   "file_extension": ".py",
   "mimetype": "text/x-python",
   "name": "python",
   "nbconvert_exporter": "python",
   "pygments_lexer": "ipython3",
   "version": "3.6.5"
  }
 },
 "nbformat": 4,
 "nbformat_minor": 5
}
