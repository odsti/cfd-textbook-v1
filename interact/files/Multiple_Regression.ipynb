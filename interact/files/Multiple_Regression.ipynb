{
 "cells": [
  {
   "cell_type": "markdown",
   "id": "7f41c014",
   "metadata": {},
   "source": [
    "# Multiple regression\n",
    "\n",
    "{ucb-page}`Multiple_Regression`"
   ]
  },
  {
   "cell_type": "code",
   "execution_count": null,
   "id": "23ee6fa0",
   "metadata": {
    "tags": [
     "hide-cell"
    ]
   },
   "outputs": [],
   "source": [
    "import numpy as np\n",
    "# Make random number generator.\n",
    "rng = np.random.default_rng()\n",
    "import pandas as pd\n",
    "# Safe setting for Pandas.  Needs Pandas version >= 1.5.\n",
    "pd.set_option('mode.copy_on_write', True)\n",
    "\n",
    "import matplotlib.pyplot as plt\n",
    "plt.style.use('fivethirtyeight')\n",
    "\n",
    "np.set_printoptions(suppress=True)"
   ]
  },
  {
   "cell_type": "code",
   "execution_count": null,
   "id": "c00eaa6d",
   "metadata": {
    "tags": [
     "hide-cell"
    ]
   },
   "outputs": [],
   "source": [
    "\n",
    "def standard_units(any_numbers):\n",
    "    \"Convert any array of numbers to standard units.\"\n",
    "    return (any_numbers - np.mean(any_numbers))/np.std(any_numbers)\n",
    "\n",
    "def correlation(t, x, y):\n",
    "    return np.mean(standard_units(t[x]) * standard_units(t[y]))"
   ]
  },
  {
   "cell_type": "markdown",
   "id": "fccd2ebb",
   "metadata": {},
   "source": [
    "Now that we have explored ways to use multiple attributes to predict a\n",
    "categorical variable, let us return to predicting a quantitative variable.\n",
    "Predicting a numerical quantity is called regression, and a commonly used\n",
    "method to use multiple attributes for regression is called *multiple linear\n",
    "regression*.\n",
    "\n",
    "\n",
    "## Home Prices\n",
    "\n",
    "\n",
    "The following dataset of house prices and attributes was collected over several\n",
    "years for the city of Ames, Iowa. A [description of the dataset appears\n",
    "online](http://ww2.amstat.org/publications/jse/v19n3/decock.pdf). We will focus\n",
    "only a subset of the columns. We will try to predict the sale price column from\n",
    "the other columns."
   ]
  },
  {
   "cell_type": "code",
   "execution_count": null,
   "id": "e4137267",
   "metadata": {},
   "outputs": [],
   "source": [
    "all_sales = pd.read_csv('data/house.csv')\n",
    "sales = all_sales.loc[np.logical_and(all_sales['Bldg Type'] == '1Fam',\n",
    "                      all_sales['Sale Condition'] == 'Normal'),\n",
    "    ['SalePrice', '1st Flr SF', '2nd Flr SF',\n",
    "     'Total Bsmt SF', 'Garage Area',\n",
    "     'Wood Deck SF', 'Open Porch SF', 'Lot Area',\n",
    "     'Year Built', 'Yr Sold']]\n",
    "sales.sort_values('SalePrice')"
   ]
  },
  {
   "cell_type": "markdown",
   "id": "43beec58",
   "metadata": {},
   "source": [
    "A histogram of sale prices shows a large amount of variability and a\n",
    "distribution that is clearly not normal. A long tail to the right contains a\n",
    "few houses that had very high prices. The short left tail does not contain any\n",
    "houses that sold for less than \\$35,000."
   ]
  },
  {
   "cell_type": "code",
   "execution_count": null,
   "id": "267f782c",
   "metadata": {},
   "outputs": [],
   "source": [
    "sales['SalePrice'].plot.hist(bins=32)\n",
    "plt.xticks(rotation=45);"
   ]
  },
  {
   "cell_type": "markdown",
   "id": "af4cf489",
   "metadata": {},
   "source": [
    "## Correlation"
   ]
  },
  {
   "cell_type": "markdown",
   "id": "27841bb7",
   "metadata": {},
   "source": [
    "No single attribute is sufficient to predict the sale price. For example, the area of first floor, measured in square feet, correlates with sale price but only explains some of its variability."
   ]
  },
  {
   "cell_type": "code",
   "execution_count": null,
   "id": "01c1d100",
   "metadata": {},
   "outputs": [],
   "source": [
    "sales.plot.scatter('1st Flr SF', 'SalePrice')"
   ]
  },
  {
   "cell_type": "code",
   "execution_count": null,
   "id": "f56d3416",
   "metadata": {},
   "outputs": [],
   "source": [
    "correlation(sales, 'SalePrice', '1st Flr SF')"
   ]
  },
  {
   "cell_type": "markdown",
   "id": "1921a8e9",
   "metadata": {},
   "source": [
    "In fact, none of the individual attributes have a correlation with sale price that is above 0.7 (except for the sale price itself)."
   ]
  },
  {
   "cell_type": "code",
   "execution_count": null,
   "id": "7844d65a",
   "metadata": {},
   "outputs": [],
   "source": [
    "for col_name in sales.columns:\n",
    "    r = correlation(sales, col_name, 'SalePrice')\n",
    "    print(f'Correlation of {col_name} and SalePrice:\\t{r:0.3f}', )"
   ]
  },
  {
   "cell_type": "markdown",
   "id": "d66cc823",
   "metadata": {},
   "source": [
    "However, combining attributes can provide higher correlation. In particular, if we sum the first floor and second floor areas, the result has a higher correlation than any single attribute alone."
   ]
  },
  {
   "cell_type": "code",
   "execution_count": null,
   "id": "6604ffc0",
   "metadata": {},
   "outputs": [],
   "source": [
    "with_both = sales.copy()\n",
    "with_both['Both Floors'] = sales['1st Flr SF'] + sales['2nd Flr SF']\n",
    "correlation(with_both, 'SalePrice', 'Both Floors')"
   ]
  },
  {
   "cell_type": "markdown",
   "id": "0616f4d3",
   "metadata": {},
   "source": [
    "This high correlation indicates that we should try to use more than one attribute to predict the sale price. In a dataset with multiple observed attributes and a single numerical value to be predicted (the sale price in this case), multiple linear regression can be an effective technique.\n"
   ]
  },
  {
   "cell_type": "markdown",
   "id": "3fdcdb6b",
   "metadata": {},
   "source": [
    "## Multiple Linear Regression"
   ]
  },
  {
   "cell_type": "markdown",
   "id": "645b908b",
   "metadata": {},
   "source": [
    "In multiple linear regression, a numerical output is predicted from numerical input attributes by multiplying each attribute value by a different slope, then summing the results. In this example, the slope for the `1st Flr SF` would represent the dollars per square foot of area on the first floor of the house that should be used in our prediction.\n",
    "\n",
    "Before we begin prediction, we split our data randomly into a training and test set of equal size."
   ]
  },
  {
   "cell_type": "code",
   "execution_count": null,
   "id": "0ad1ae54",
   "metadata": {},
   "outputs": [],
   "source": [
    "N = len(sales)\n",
    "half_N = int(N / 2)\n",
    "# Shuffle data frame by taking random sample with same number of rows.\n",
    "shuffled_sales = sales.sample(n=N, replace=False)\n",
    "train = shuffled_sales.iloc[:half_N]\n",
    "test = shuffled_sales.iloc[half_N:]\n",
    "print(len(train), 'training and', len(test), 'test instances.')"
   ]
  },
  {
   "cell_type": "markdown",
   "id": "a7750939",
   "metadata": {},
   "source": [
    "The slopes in multiple regression is an array that has one slope value for each attribute in an example. Predicting the sale price involves multiplying each attribute by the slope and summing the result."
   ]
  },
  {
   "cell_type": "code",
   "execution_count": null,
   "id": "2a9c4b06",
   "metadata": {},
   "outputs": [],
   "source": [
    "def predict(slopes, row):\n",
    "    return np.sum(slopes * np.array(row))\n",
    "\n",
    "example_row = test.drop(columns='SalePrice').iloc[0]\n",
    "print('Predicting sale price for:', example_row)\n",
    "example_slopes = rng.normal(10, 1, len(example_row))\n",
    "print('Using slopes:', example_slopes)\n",
    "print('Result:', predict(example_slopes, example_row))"
   ]
  },
  {
   "cell_type": "markdown",
   "id": "8c07d755",
   "metadata": {},
   "source": [
    "The result is an estimated sale price, which can be compared to the actual sale price to assess whether the slopes provide accurate predictions. Since the `example_slopes` above were chosen at random, we should not expect them to provide accurate predictions at all."
   ]
  },
  {
   "cell_type": "code",
   "execution_count": null,
   "id": "ba7e7565",
   "metadata": {},
   "outputs": [],
   "source": [
    "print('Actual sale price:', test['SalePrice'].iloc[0])\n",
    "print('Predicted sale price using random slopes:', predict(example_slopes, example_row))"
   ]
  },
  {
   "cell_type": "markdown",
   "id": "2e42e24d",
   "metadata": {},
   "source": [
    "## Least Squares Regression"
   ]
  },
  {
   "cell_type": "markdown",
   "id": "3d2fad6a",
   "metadata": {},
   "source": [
    "The next step in performing multiple regression is to define the least squares objective. We perform the prediction for each row in the training set, and then compute the root mean squared error (RMSE) of the predictions from the actual prices."
   ]
  },
  {
   "cell_type": "code",
   "execution_count": null,
   "id": "1b815569",
   "metadata": {},
   "outputs": [],
   "source": [
    "train_prices = train['SalePrice']\n",
    "train_attributes = train.drop(columns='SalePrice')\n",
    "\n",
    "def rmse(slopes, attributes, y_values):\n",
    "    errors = []\n",
    "    for i in np.arange(len(y_values)):\n",
    "        predicted = predict(slopes, attributes.iloc[i])\n",
    "        actual = y_values.iloc[i]\n",
    "        errors.append((actual - predicted) ** 2)\n",
    "    return np.sqrt(np.mean(errors))\n",
    "\n",
    "def rmse_train(slopes):\n",
    "    return rmse(slopes, train_attributes, train_prices)\n",
    "\n",
    "print('RMSE of all training examples using random slopes:', rmse_train(example_slopes))"
   ]
  },
  {
   "cell_type": "markdown",
   "id": "cfbd64f3",
   "metadata": {},
   "source": [
    "Actually, the `rmse` routine above is correct, but it is slow, because we are\n",
    "looping through each rows in the data frame.  Here's a version that does the\n",
    "same calculation, but more efficiently, without a loop, using Numpy arrays.\n",
    "Don't worry about the details, unless you are interested."
   ]
  },
  {
   "cell_type": "code",
   "execution_count": null,
   "id": "f67ac699",
   "metadata": {},
   "outputs": [],
   "source": [
    "def rmse_fast(slopes, attributes, y_values):\n",
    "    # Make an n by s array of slopes by copying the s slopes array n times.\n",
    "    slopes_array = np.tile(slopes, [len(y_values), 1])\n",
    "    # Multiply the n by s array by the corresponding attributes.\n",
    "    predicted = np.sum(slopes_array * attributes, axis=1)\n",
    "    errors = y_values - predicted\n",
    "    return np.sqrt(np.mean(errors ** 2))\n",
    "\n",
    "def rmse_train_fast(slopes):\n",
    "    return rmse_fast(slopes, train_attributes, train_prices)\n",
    "\n",
    "print('Fast RMSE of all training examples using random slopes:',\n",
    "      rmse_train_fast(example_slopes))"
   ]
  },
  {
   "cell_type": "markdown",
   "id": "048165e8",
   "metadata": {},
   "source": [
    "Finally, we use the `minimize` function to find the slopes with the lowest\n",
    "RMSE. Computation of the best slopes may take several minutes."
   ]
  },
  {
   "cell_type": "code",
   "execution_count": null,
   "id": "44585462",
   "metadata": {},
   "outputs": [],
   "source": [
    "from scipy.optimize import minimize"
   ]
  },
  {
   "cell_type": "markdown",
   "id": "1fc4e5f6",
   "metadata": {},
   "source": [
    "We specify that we want to use the\n",
    "[Powell](https://en.wikipedia.org/wiki/Powell%27s_method) method to search for\n",
    "the minimum."
   ]
  },
  {
   "cell_type": "code",
   "execution_count": null,
   "id": "d34fd276",
   "metadata": {},
   "outputs": [],
   "source": [
    "# Use minimize to calculate smallest RMSE slopes.\n",
    "multi_res = minimize(rmse_train_fast, example_slopes, method='powell')\n",
    "multi_res"
   ]
  },
  {
   "cell_type": "code",
   "execution_count": null,
   "id": "1002a13c",
   "metadata": {},
   "outputs": [],
   "source": [
    "best_slopes = multi_res.x\n",
    "print('The best slopes for the training set:')\n",
    "print('RMSE of all training examples using the best slopes:', rmse_train(best_slopes))\n",
    "pd.DataFrame(data=[best_slopes], columns=train_attributes.columns)"
   ]
  },
  {
   "cell_type": "markdown",
   "id": "abaea466",
   "metadata": {},
   "source": [
    "## Interpreting Multiple Regression\n",
    "\n",
    "Let's interpret these results. The best slopes give us a method for estimating\n",
    "the price of a house from its attributes. A square foot of area on the first\n",
    "floor is worth about 80 USD (the first slope), while one on the second floor is\n",
    "worth about 75 USD (the second slope). The final negative value describes the\n",
    "market: prices in later years were lower on average.\n",
    "\n",
    "The RMSE of around 30,000 USD means that our best linear prediction of the sale\n",
    "price based on all of the attributes is off by around 30,000 USD on the\n",
    "training set, on average.  We find a similar error when predicting prices on\n",
    "the test set, which indicates that our prediction method will generalize to\n",
    "other samples from the same population."
   ]
  },
  {
   "cell_type": "code",
   "execution_count": null,
   "id": "803517a5",
   "metadata": {},
   "outputs": [],
   "source": [
    "test_prices = test['SalePrice']\n",
    "test_attributes = test.drop(columns='SalePrice')\n",
    "\n",
    "def rmse_test(slopes):\n",
    "    return rmse(slopes, test_attributes, test_prices)\n",
    "\n",
    "rmse_linear = rmse_test(best_slopes)\n",
    "print('Test set RMSE for multiple linear regression:', rmse_linear)"
   ]
  },
  {
   "cell_type": "markdown",
   "id": "284611e9",
   "metadata": {},
   "source": [
    "If the predictions were perfect, then a scatter plot of the predicted and\n",
    "actual values would be a straight line with slope 1. We see that most dots fall\n",
    "near that line, but there is some error in the predictions."
   ]
  },
  {
   "cell_type": "code",
   "execution_count": null,
   "id": "3845d53a",
   "metadata": {},
   "outputs": [],
   "source": [
    "def fit(row):\n",
    "    return sum(best_slopes * np.array(row))\n",
    "\n",
    "fitted = test_attributes.apply(fit, axis=1)\n",
    "plt.scatter(fitted, test_prices)\n",
    "# Plot x=y line.\n",
    "plt.plot([0, 5e5], [0, 5e5], color='red');"
   ]
  },
  {
   "cell_type": "markdown",
   "id": "e9eef155",
   "metadata": {},
   "source": [
    "A residual plot for multiple regression typically compares the errors\n",
    "(residuals) to the actual values of the predicted variable. We see in the\n",
    "residual plot below that we have systematically underestimated the value of\n",
    "expensive houses, shown by the many positive residual values on the right side\n",
    "of the graph."
   ]
  },
  {
   "cell_type": "code",
   "execution_count": null,
   "id": "bbbedf1b",
   "metadata": {},
   "outputs": [],
   "source": [
    "plt.scatter(test_prices, test_prices - fitted)\n",
    "plt.plot([0, 7e5], [0, 0], color='red')\n",
    "plt.xticks(rotation=45);"
   ]
  },
  {
   "cell_type": "markdown",
   "id": "f50724bc",
   "metadata": {},
   "source": [
    "As with simple linear regression, interpreting the result of a predictor is at least as important as making predictions. There are many lessons about interpreting multiple regression that are not included in this textbook. A natural next step after completing this text would be to study linear modeling and regression in further depth.\n"
   ]
  },
  {
   "cell_type": "markdown",
   "id": "d450b007",
   "metadata": {},
   "source": [
    "## Nearest Neighbors for Regression\n",
    "\n",
    "Another approach to predicting the sale price of a house is to use the price of similar houses. This *nearest neighbor* approach is very similar to our classifier. To speed up computation, we will only use the attributes that had the highest correlation with the sale price in our original analysis."
   ]
  },
  {
   "cell_type": "code",
   "execution_count": null,
   "id": "7ab94ddc",
   "metadata": {},
   "outputs": [],
   "source": [
    "train_nn = train.iloc[:, [0, 1, 2, 3, 4, 8]]\n",
    "test_nn = test.iloc[:, [0, 1, 2, 3, 4, 8]]\n",
    "train_nn.head(3)"
   ]
  },
  {
   "cell_type": "markdown",
   "id": "a58e31d5",
   "metadata": {},
   "source": [
    "The computation of closest neighbors is identical to a nearest-neighbor classifier. In this case, we will exclude the `'SalePrice'` rather than the `'Class'` column from the distance computation. The five nearest neighbors of the first test row are shown below."
   ]
  },
  {
   "cell_type": "code",
   "execution_count": null,
   "id": "d88aac0e",
   "metadata": {},
   "outputs": [],
   "source": [
    "def distance(pt1, pt2):\n",
    "    \"\"\"The distance between two points, represented as arrays.\"\"\"\n",
    "    return np.sqrt(sum((pt1 - pt2) ** 2))\n",
    "\n",
    "def row_distance(row1, row2):\n",
    "    \"\"\"The distance between two rows of a table.\"\"\"\n",
    "    return distance(np.array(row1), np.array(row2))\n",
    "\n",
    "def distances(training, example, output):\n",
    "    \"\"\"Compute the distance from example for each row in training.\"\"\"\n",
    "    attributes = training.drop(columns=output)\n",
    "\n",
    "    def distance_from_example(row):\n",
    "        return row_distance(row, example)\n",
    "\n",
    "    out = training.copy()\n",
    "    out['Distance'] = attributes.apply(distance_from_example, axis=1)\n",
    "    return out\n",
    "\n",
    "def closest(training, example, k, output):\n",
    "    \"\"\"Return a table of the k closest neighbors to example.\"\"\"\n",
    "    dist_df = distances(training, example, output)\n",
    "    return dist_df.sort_values('Distance').head(k)\n",
    "\n",
    "example_nn_row = test_nn.drop(columns='SalePrice').iloc[0]\n",
    "closest(train_nn, example_nn_row, 5, 'SalePrice')"
   ]
  },
  {
   "cell_type": "markdown",
   "id": "a3121cd1",
   "metadata": {},
   "source": [
    "One simple method for predicting the price is to average the prices of the nearest neighbors."
   ]
  },
  {
   "cell_type": "code",
   "execution_count": null,
   "id": "1c6c939e",
   "metadata": {},
   "outputs": [],
   "source": [
    "def predict_nn(example):\n",
    "    \"\"\"Return average of the price across the 5 nearest neighbors.\n",
    "    \"\"\"\n",
    "    five_nearest = closest(train_nn, example, 5, 'SalePrice')\n",
    "    return np.mean(five_nearest['SalePrice'])\n",
    "\n",
    "predict_nn(example_nn_row)"
   ]
  },
  {
   "cell_type": "markdown",
   "id": "f45b92b6",
   "metadata": {},
   "source": [
    "Finally, we can inspect whether our prediction is close to the true sale price\n",
    "for our one test example. Looks reasonable!"
   ]
  },
  {
   "cell_type": "code",
   "execution_count": null,
   "id": "deafdbf7",
   "metadata": {},
   "outputs": [],
   "source": [
    "print('Actual sale price:', test_nn['SalePrice'].iloc[0])\n",
    "print('Predicted sale price using nearest neighbors:', predict_nn(example_nn_row))"
   ]
  },
  {
   "cell_type": "markdown",
   "id": "3e087ebb",
   "metadata": {},
   "source": [
    "## Evaluation\n",
    "\n",
    "To evaluate the performance of this approach for the whole test set, we apply\n",
    "`predict_nn` to each test example, then compute the root mean squared error of\n",
    "the predictions. Computation of the predictions may take several minutes."
   ]
  },
  {
   "cell_type": "code",
   "execution_count": null,
   "id": "b8b640bf",
   "metadata": {},
   "outputs": [],
   "source": [
    "attributes = test_nn.drop(columns='SalePrice')\n",
    "nn_test_predictions = attributes.apply(predict_nn, axis=1)\n",
    "rmse_nn = np.sqrt(np.mean((test_prices - nn_test_predictions) ** 2))\n",
    "\n",
    "print('Test set RMSE for multiple linear regression: ', rmse_linear)\n",
    "print('Test set RMSE for nearest neighbor regression:', rmse_nn)"
   ]
  },
  {
   "cell_type": "markdown",
   "id": "66263289",
   "metadata": {},
   "source": [
    "For these data, the errors of the two techniques are quite similar! For\n",
    "different data sets, one technique might outperform another. By computing the\n",
    "RMSE of both techniques on the same data, we can compare methods fairly. One\n",
    "note of caution: the difference in performance might not be due to the\n",
    "technique at all; it might be due to the random variation due to sampling the\n",
    "training and test sets in the first place.\n",
    "\n",
    "Finally, we can draw a residual plot for these predictions. We still\n",
    "underestimate the prices of the most expensive houses, but the bias does not\n",
    "appear to be as systematic. However, fewer residuals are very close to zero,\n",
    "indicating that fewer prices were predicted with very high accuracy."
   ]
  },
  {
   "cell_type": "code",
   "execution_count": null,
   "id": "b54b68e7",
   "metadata": {},
   "outputs": [],
   "source": [
    "plt.scatter(test_prices, test_prices - nn_test_predictions)\n",
    "plt.plot([0, 7e5], [0, 0], color='red')\n",
    "plt.xticks(rotation=45);"
   ]
  },
  {
   "cell_type": "markdown",
   "id": "528bd0ac",
   "metadata": {},
   "source": [
    "{ucb-page}`Multiple_Regression`"
   ]
  }
 ],
 "metadata": {
  "jupytext": {
   "notebook_metadata_filter": "all,-language_info",
   "split_at_heading": true
  },
  "kernelspec": {
   "display_name": "Python (Pyodide)",
   "name": "python"
  }
 },
 "nbformat": 4,
 "nbformat_minor": 5
}
