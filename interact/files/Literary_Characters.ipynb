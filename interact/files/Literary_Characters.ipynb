{
 "cells": [
  {
   "cell_type": "markdown",
   "id": "e55808a9",
   "metadata": {},
   "source": [
    "# Literary characters"
   ]
  },
  {
   "cell_type": "code",
   "execution_count": null,
   "id": "92692ef9",
   "metadata": {
    "tags": [
     "hide-cell"
    ]
   },
   "outputs": [],
   "source": [
    "# HIDDEN\n",
    "# The standard set of libraries we need\n",
    "import numpy as np\n",
    "import matplotlib.pyplot as plt\n",
    "\n",
    "# Make plots look a little bit more fancy\n",
    "plt.style.use('fivethirtyeight')\n",
    "\n",
    "# The standard library for data in tables\n",
    "import pandas as pd\n",
    "pd.set_option('mode.copy_on_write', True)\n",
    "\n",
    "# Get the Path object for reading text from files.\n",
    "from pathlib import Path"
   ]
  },
  {
   "cell_type": "code",
   "execution_count": null,
   "id": "0dc7cd3f",
   "metadata": {
    "tags": [
     "hide-cell"
    ]
   },
   "outputs": [],
   "source": [
    "# HIDDEN\n",
    "# Read the text of Pride and Prejudice, split into chapters.\n",
    "book_text = Path('data/pride_and_prejudice.txt').read_text()\n",
    "# Break the text into Chapters\n",
    "book_chapters = book_text.split('CHAPTER ')\n",
    "# Drop the first \"Chapter\" - it's the Project Gutenberg header\n",
    "book_chapters = book_chapters[1:]"
   ]
  },
  {
   "cell_type": "markdown",
   "id": "79e85250",
   "metadata": {},
   "source": [
    "[Pride and Prejudice](https://en.wikipedia.org/wiki/Pride_and_Prejudice) is\n",
    "the story of five sisters: Jane, Elizabeth, Mary, Kitty and Lydia, and their\n",
    "journey through the social life of the mid-17th century.  You may remember\n",
    "that Elizabeth ends up marrying the dashing and aloof Mr Darcy, but along the\n",
    "way, the feckless Lydia runs off with the equally feckless Mr Wickham, and the\n",
    "slightly useless Mr Bingley wants to marry Jane, the most beautiful of the\n",
    "sisters.\n",
    "\n",
    "We can see when these characters appear in the book, by counting how many\n",
    "times their names are mentioned in each chapter."
   ]
  },
  {
   "cell_type": "code",
   "execution_count": null,
   "id": "61c8965e",
   "metadata": {},
   "outputs": [],
   "source": [
    "# Count how many times the characters appear in each chapter.\n",
    "counts = pd.DataFrame.from_dict({\n",
    "        'Elizabeth': np.char.count(book_chapters, 'Elizabeth'),\n",
    "        'Darcy': np.char.count(book_chapters, 'Darcy'),\n",
    "        'Lydia': np.char.count(book_chapters, 'Lydia'),\n",
    "        'Wickham': np.char.count(book_chapters, 'Wickham'),\n",
    "        'Bingley': np.char.count(book_chapters, 'Bingley'),\n",
    "        'Jane': np.char.count(book_chapters, 'Jane')},\n",
    "    )\n",
    "\n",
    "# The cumulative counts:\n",
    "# how many times in Chapter 1, how many times in Chapters 1 and 2, and so on.\n",
    "cum_counts = counts.cumsum()\n",
    "\n",
    "# Add the chapter numbers\n",
    "number_of_chapters = len(book_chapters)\n",
    "cum_counts['Chapter'] = np.arange(number_of_chapters)\n",
    "\n",
    "# Do the plot\n",
    "cum_counts.plot(x='Chapter')\n",
    "plt.title('Cumulative Number of Times Each Name Appears');"
   ]
  },
  {
   "cell_type": "markdown",
   "id": "1f652339",
   "metadata": {},
   "source": [
    "In the plot above, the horizontal axis shows chapter numbers and the vertical\n",
    "axis shows how many times each character has been mentioned up to and\n",
    "including that chapter.\n",
    "\n",
    "Notice first that Elizabeth and Darcy are the main characters.  Around chapter\n",
    "13 we see Wickham and Lydia spike up, as they run away together, and mentions\n",
    "of Darcy flatten off, when he goes to look for them.   Around chapter 50 we see\n",
    "Jane and Bingley being mentioned at a very similar rate, as Bingley proposes,\n",
    "and Jane accepts.\n",
    "\n",
    "{ucb-page}`Literary_Characters`"
   ]
  }
 ],
 "metadata": {
  "jupytext": {
   "formats": "Rmd,ipynb",
   "notebook_metadata_filter": "jupytext_format_version,jupytext_formats,language_info"
  },
  "kernelspec": {
   "display_name": "Python (Pyodide)",
   "name": "python"
  },
  "language_info": {
   "codemirror_mode": {
    "name": "ipython",
    "version": 3
   },
   "file_extension": ".py",
   "mimetype": "text/x-python",
   "name": "python",
   "nbconvert_exporter": "python",
   "pygments_lexer": "ipython3",
   "version": "3.6.5"
  }
 },
 "nbformat": 4,
 "nbformat_minor": 5
}
