{
 "cells": [
  {
   "cell_type": "markdown",
   "id": "503c5919",
   "metadata": {},
   "source": [
    "# Introduction to variables\n",
    "\n",
    "Remember the problem in [the first notebook](using_jupyter).\n",
    "\n",
    "Alex and Billie are at a restaurant, getting ready to order. They don't have much money, so they are calculating their expected bill before they order.\n",
    "\n",
    "Alex is thinking of having the fish for £10.50, and Billie is leaning towards the chicken, at £9.25.  They also want to add a tip of 15%.\n",
    "\n",
    "Here's the calculation for the tip."
   ]
  },
  {
   "cell_type": "code",
   "execution_count": null,
   "id": "b21162a2",
   "metadata": {},
   "outputs": [],
   "source": [
    "# The bill plus tip - mistake fixed.\n",
    "(10.50 + 9.25) * 0.15"
   ]
  },
  {
   "cell_type": "markdown",
   "id": "b8c0da46",
   "metadata": {},
   "source": [
    "We then had to add this to the total before tip, to get the grand total:"
   ]
  },
  {
   "cell_type": "code",
   "execution_count": null,
   "id": "1101b51a",
   "metadata": {},
   "outputs": [],
   "source": [
    "# The bill, including the tip\n",
    "10.50 + 9.25 + (10.50 + 9.25) * 0.15"
   ]
  },
  {
   "cell_type": "markdown",
   "id": "46469291",
   "metadata": {},
   "source": [
    "But - what if Alex changes her mind, and wants to have the aubergine gratin, for £8.95?  We have to type the whole calculation out again, but change the previous £10.50 (the fish) to the current £8.95 (the aubergine), like this:\n"
   ]
  },
  {
   "cell_type": "code",
   "execution_count": null,
   "id": "895168ff",
   "metadata": {},
   "outputs": [],
   "source": [
    "# The bill, including the tip, with Alex having aubergine.\n",
    "8.95 + 9.25 + (8.95 + 9.25) * 0.15"
   ]
  },
  {
   "cell_type": "markdown",
   "id": "01c84e8a",
   "metadata": {},
   "source": [
    "We would like a way to give labels to these numbers, to make our calculations easier to read, and easier to repeat.\n",
    "\n",
    "We need *variables*."
   ]
  },
  {
   "cell_type": "markdown",
   "id": "9f0ae1d8",
   "metadata": {},
   "source": [
    "## An interlude - thinking like the computer.\n",
    "\n",
    "Remember when we calculated the total bill before tip:"
   ]
  },
  {
   "cell_type": "code",
   "execution_count": null,
   "id": "19011356",
   "metadata": {},
   "outputs": [],
   "source": [
    "# Total bill, before tip.\n",
    "10.50 + 9.25"
   ]
  },
  {
   "cell_type": "markdown",
   "id": "e932d2e8",
   "metadata": {},
   "source": [
    "To recap, when you run this code (by typing Shift-Enter) Python makes its own\n",
    "representation of `10.50`:\n",
    "\n",
    "![](images/value_10_50.svg)\n",
    "\n",
    "It also makes its own representation of `9.25`:\n",
    "\n",
    "![](images/value_9_25.svg)\n",
    "\n",
    "Python then runs the *addition* operation on these two, which results in\n",
    "Python's representation of `19.75`.\n",
    "\n",
    "![](images/value_19_75.svg)\n",
    "\n",
    "Finally, Python sends back the `19.75`.  The notebook detects that Python sent\n",
    "back a value, and shows it to us."
   ]
  },
  {
   "cell_type": "markdown",
   "id": "d21842ee",
   "metadata": {},
   "source": [
    "## Enter - variables!\n",
    "\n",
    "Now consider this:"
   ]
  },
  {
   "cell_type": "code",
   "execution_count": null,
   "id": "ab16e3f1",
   "metadata": {},
   "outputs": [],
   "source": [
    "a = 10.50\n",
    "b = 9.25\n",
    "a + b"
   ]
  },
  {
   "cell_type": "markdown",
   "id": "b4c63484",
   "metadata": {},
   "source": [
    "The first two lines in the cell above are *assignment statements*.\n",
    "\n",
    "Let's consider the first line."
   ]
  },
  {
   "cell_type": "code",
   "execution_count": null,
   "id": "696cfe4c",
   "metadata": {},
   "outputs": [],
   "source": [
    "a = 10.50"
   ]
  },
  {
   "cell_type": "markdown",
   "id": "1036f33b",
   "metadata": {},
   "source": [
    "Like all assignment statements, this assignment statement has two parts, and\n",
    "these are (wait for it):\n",
    "\n",
    "* The left hand side (to the left of the equals sign `=`).\n",
    "* The right hand side (to the right of the equals sign `=`).\n",
    "\n",
    "In our case:\n",
    "\n",
    "* The Left Hand Side (LHS) is `a`.\n",
    "* The Right Hand Side (RHS) is `10.50`.\n",
    "\n",
    "What will Python do with this line?\n",
    "\n",
    "First it works on the RHS, and does what it did before; it makes its own\n",
    "representation of `10.50`.  This thing that it made is a *value*.  (We could\n",
    "also call it an *object*, but don't worry about that for now).\n",
    "\n",
    "Next it looks at the LHS, and sees `a`.  It realizes that this is a *name* that we want to give the new *value*.  Then it stores the new value 10.50 with the label `a`, in its *workspace*. Next time we use the label `a` Python will look in its workspace for the label `a`, it will find 10.50, and return it to us.\n",
    "\n",
    "![](images/a_equal_10_50.svg)\n",
    "\n",
    "You can read `a = 10.50` as:\n",
    "\n",
    "> 'a' gets the value 10.50\n",
    "\n",
    "Here we just run the same line again, but with a comment to remind us what is\n",
    "happening:"
   ]
  },
  {
   "cell_type": "code",
   "execution_count": null,
   "id": "59eb6d38",
   "metadata": {},
   "outputs": [],
   "source": [
    "# 'a' gets the value 10.50\n",
    "a = 10.50"
   ]
  },
  {
   "cell_type": "markdown",
   "id": "9f10fa7c",
   "metadata": {},
   "source": [
    "Let's use the new label `a` by putting it on a line on its own, in a code cell."
   ]
  },
  {
   "cell_type": "code",
   "execution_count": null,
   "id": "ab36465b",
   "metadata": {},
   "outputs": [],
   "source": [
    "# Show the value of \"a\"\n",
    "a"
   ]
  },
  {
   "cell_type": "markdown",
   "id": "61f8b825",
   "metadata": {},
   "source": [
    "What happened here?\n",
    "\n",
    "Remember that, when Python sees the label `a` it will look in its workspace for `a`.  If it finds `a`, it will return the value for `a`.  This is 10.50.  Finally, Jupyter makes the value 10.50 into something it can print to show us, and we see `10.50`.\n",
    "\n",
    "Now we go back to the original three lines.  Run this cell:"
   ]
  },
  {
   "cell_type": "code",
   "execution_count": null,
   "id": "f16eb19b",
   "metadata": {},
   "outputs": [],
   "source": [
    "# Set 'a' and 'b', then show the result of adding 'a' and 'b'.\n",
    "a = 10.50\n",
    "b = 9.25\n",
    "a + b"
   ]
  },
  {
   "cell_type": "markdown",
   "id": "6ad3757d",
   "metadata": {},
   "source": [
    "We read the first two lines as:\n",
    "\n",
    "* 'a' gets the value 10.50.\n",
    "* 'b' gets the value 9.25.\n",
    "* Calculate 'a + b' and show the result.\n",
    "\n",
    "The second line tells Python that is should give the label `b` to the value 9.25.\n",
    "\n",
    "![](images/b_equal_9_25.svg)\n",
    "\n",
    "What is happening in the third line `a + b`?\n",
    "\n",
    "Python sees `a`, and replaces it with the value for `a`: its own representation of the number 10.50.\n",
    "\n",
    "Then it sees `b` and replaces it with the value for `b`: its own representation of the number 9.25.\n",
    "\n",
    "Noting the `+` it then calculates the result of adding the value 10.50 to the value 9.25, and this generates a new value, 19.75.\n",
    "\n",
    "Finally, it makes something we can show on the screen for this value, 19.75, and shows it to us: `19.75`.\n",
    "\n",
    "So `a + b` ends up with exactly the same calculation, and result, as `10.50 + 9.25`."
   ]
  },
  {
   "cell_type": "markdown",
   "id": "a6add9fd",
   "metadata": {},
   "source": [
    "## Using variables\n",
    "\n",
    "`a` and `b` above are *variables*.  Variables are labels attached to values.\n",
    "\n",
    "Here we have used single-letter names for the variables, but we can use\n",
    "multiple letters in the names.  We can even use the *underscore* character `_`\n",
    "in the name. Python doesn't care whether the names are single letters, or\n",
    "multiple letters, it just uses the name as a label to refer to the value.  So\n",
    "we could write the same calculations like this:"
   ]
  },
  {
   "cell_type": "code",
   "execution_count": null,
   "id": "0faa1ea4",
   "metadata": {},
   "outputs": [],
   "source": [
    "# Different, longer names.\n",
    "alpha = 10.50\n",
    "beta = 9.25\n",
    "alpha + beta"
   ]
  },
  {
   "cell_type": "markdown",
   "id": "fbe86156",
   "metadata": {},
   "source": [
    "All this does exactly the same as the cell with the names `a` and `b`, except now the label we use for 10.50 is `alpha` and the label for 9.25 is `beta`.  For example, now the label `alpha` points to the value 10.50:\n",
    "\n",
    "![](images/alpha_equal_10_50.svg)\n",
    "\n",
    "You will find it very useful to use good variable names.  A good variable name is a name that reminds you what the value represents.  For example, we could write this:"
   ]
  },
  {
   "cell_type": "code",
   "execution_count": null,
   "id": "5373ac67",
   "metadata": {},
   "outputs": [],
   "source": [
    "# Better variable names\n",
    "alex_main = 10.50\n",
    "billie_main = 9.25\n",
    "alex_main + billie_main"
   ]
  },
  {
   "cell_type": "markdown",
   "id": "0c930041",
   "metadata": {},
   "source": [
    "Here the names remind us what the values mean.  Python doesn't care though - it just sees a label, it doesn't try and work out what the label means.  We choose good variable names for us, the people reading the program.  Python doesn't care either way.\n",
    "\n",
    "Finally, we might also put the total into its own variable, like this:"
   ]
  },
  {
   "cell_type": "code",
   "execution_count": null,
   "id": "93f05528",
   "metadata": {},
   "outputs": [],
   "source": [
    "# Total gets its own variable.\n",
    "alex_main = 10.50\n",
    "billie_main = 9.25\n",
    "total = alex_main + billie_main\n",
    "# Show the value attached to the 'total' variable.\n",
    "total"
   ]
  },
  {
   "cell_type": "markdown",
   "id": "e70b3633",
   "metadata": {},
   "source": [
    "Again, the name `total` is a good one, because it reminds us what the value means, but it is nothing special to Python - we could have called it `bandersnatch` and we would get the same result:"
   ]
  },
  {
   "cell_type": "code",
   "execution_count": null,
   "id": "10016ce6",
   "metadata": {},
   "outputs": [],
   "source": [
    "# Total variable, with funny name.\n",
    "alex_main = 10.50\n",
    "billie_main = 9.25\n",
    "bandersnatch = alex_main + billie_main\n",
    "# Show the value attached to the 'bandersnatch' variable.\n",
    "bandersnatch"
   ]
  },
  {
   "cell_type": "markdown",
   "id": "1052928b",
   "metadata": {},
   "source": [
    "Putting the total in its own variable allows us to do our original calculation\n",
    "of the bill plus tip in a rather simple and readable way:"
   ]
  },
  {
   "cell_type": "code",
   "execution_count": null,
   "id": "46f90858",
   "metadata": {},
   "outputs": [],
   "source": [
    "# The bill plus tip, again.\n",
    "total + total * 0.15"
   ]
  },
  {
   "cell_type": "markdown",
   "id": "a9270954",
   "metadata": {},
   "source": [
    "It also means that we can change our minds about the individual amounts, but still keep the same bit of code.  Here's the calculation of the total and tip, again."
   ]
  },
  {
   "cell_type": "code",
   "execution_count": null,
   "id": "abfec6a4",
   "metadata": {},
   "outputs": [],
   "source": [
    "# Calculate total and total plus tip, again.\n",
    "total = alex_main + billie_main\n",
    "# Calculate and show the result.\n",
    "total + total * 0.15"
   ]
  },
  {
   "cell_type": "markdown",
   "id": "f9ef5136",
   "metadata": {},
   "source": [
    "Now Alex has changed her mind, all we need to do is change her variable:"
   ]
  },
  {
   "cell_type": "code",
   "execution_count": null,
   "id": "1f87ee9b",
   "metadata": {},
   "outputs": [],
   "source": [
    "# Alex wants the aubergine gratin.\n",
    "alex_main = 8.95"
   ]
  },
  {
   "cell_type": "markdown",
   "id": "9601559f",
   "metadata": {},
   "source": [
    "Now re-run the cell above - what do you see?"
   ]
  },
  {
   "cell_type": "markdown",
   "id": "94621425",
   "metadata": {},
   "source": [
    "## End note\n",
    "\n",
    "Variables are the heart of coding.  By using good variable names, we can write\n",
    "down our calculations in a way that is easy to understand.  We can make\n",
    "calculations more general, and therefore more useful, but using variables\n",
    "instead of values like `10.50`, so that the calculation works for any valid\n",
    "number, that we put into the variable."
   ]
  }
 ],
 "metadata": {
  "jupytext": {
   "split_at_heading": true
  },
  "kernelspec": {
   "display_name": "Python (Pyodide)",
   "name": "python"
  }
 },
 "nbformat": 4,
 "nbformat_minor": 5
}
