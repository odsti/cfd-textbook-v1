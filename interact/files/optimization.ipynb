{
 "cells": [
  {
   "cell_type": "markdown",
   "id": "ea20b55e",
   "metadata": {},
   "source": [
    "# Optimization\n",
    "\n",
    "In [The Mean and Slopes](mean_and_slopes), we used a simple but slow way to\n",
    "find the slope that best predicted one vector of values from another vector of\n",
    "values.\n",
    "\n",
    "First we go back to find that slope."
   ]
  },
  {
   "cell_type": "code",
   "execution_count": null,
   "id": "1cf1dd1a",
   "metadata": {},
   "outputs": [],
   "source": [
    "import numpy as np\n",
    "import matplotlib.pyplot as plt\n",
    "# Make plots look a little bit more fancy\n",
    "plt.style.use('fivethirtyeight')\n",
    "# Print to 2 decimal places, show tiny values as 0\n",
    "np.set_printoptions(precision=2, suppress=True)\n",
    "import pandas as pd\n",
    "pd.set_option('mode.copy_on_write', True)"
   ]
  },
  {
   "cell_type": "markdown",
   "id": "33f0397e",
   "metadata": {},
   "source": [
    "Download the {download}`ckd_clean.csv <data/ckd_clean.csv>` file to the\n",
    "same directory as this notebook, if you are running on your own computer.\n",
    "\n",
    "We fetch and process the data. See [mean and slopes](mean_and_slopes) for a slower description of this processing."
   ]
  },
  {
   "cell_type": "code",
   "execution_count": null,
   "id": "cefd7cbd",
   "metadata": {},
   "outputs": [],
   "source": [
    "# Load the data file\n",
    "ckd = pd.read_csv('data/ckd_clean.csv')\n",
    "pcv = np.array(ckd['Packed Cell Volume'])\n",
    "hgb = np.array(ckd['Hemoglobin'])"
   ]
  },
  {
   "cell_type": "markdown",
   "id": "a6901d97",
   "metadata": {},
   "source": [
    "Our criterion is the root mean squared error (RMSE)."
   ]
  },
  {
   "cell_type": "code",
   "execution_count": null,
   "id": "9e2651c4",
   "metadata": {},
   "outputs": [],
   "source": [
    "def calc_rmse(slope):\n",
    "    predicted_pcv = hgb * slope  # 'hgb' comes from the top level\n",
    "    errors = pcv - predicted_pcv # 'pcv' comes from the top level\n",
    "    return np.sqrt(np.mean(errors ** 2))"
   ]
  },
  {
   "cell_type": "markdown",
   "id": "9f36dd47",
   "metadata": {},
   "source": [
    "We found the best slope by trying a very large number of slopes, and recording,\n",
    "for each slope, the root mean squared error.  We chose the slope from the\n",
    "slopes that we tried, that gave us the lowest root mean squared error."
   ]
  },
  {
   "cell_type": "code",
   "execution_count": null,
   "id": "7d014ee6",
   "metadata": {},
   "outputs": [],
   "source": [
    "# Slopes to try\n",
    "some_slopes = np.arange(2, 4, 0.01)\n",
    "n_slopes = len(some_slopes)\n",
    "# Try all these slopes, calculate and record RMSE.\n",
    "rmse_errors = np.zeros(n_slopes)\n",
    "best_slope = None\n",
    "least_error = np.inf\n",
    "for i in np.arange(n_slopes):\n",
    "    # Get the slope.\n",
    "    slope = some_slopes[i]\n",
    "    # Calculate the error measure.\n",
    "    this_error = calc_rmse(slope)\n",
    "    # Record this slope if this is the smallest error.\n",
    "    if this_error < least_error:\n",
    "        least_error = this_error\n",
    "        best_slope = slope\n",
    "    # Put the error into the array of errors\n",
    "    rmse_errors[i] = this_error\n",
    "\n",
    "# The slope minimizing the RMSE.\n",
    "best_slope"
   ]
  },
  {
   "cell_type": "markdown",
   "id": "89322c65",
   "metadata": {},
   "source": [
    "At the end, of [the mean and slopes](mean_and_slopes) notebook, we saw that\n",
    "a function in Scipy called `minimize` can do this work for us, relatively\n",
    "quickly."
   ]
  },
  {
   "cell_type": "code",
   "execution_count": null,
   "id": "27982742",
   "metadata": {},
   "outputs": [],
   "source": [
    "from scipy.optimize import minimize\n",
    "minimize(calc_rmse, 3)"
   ]
  },
  {
   "cell_type": "markdown",
   "id": "8c76a8a4",
   "metadata": {},
   "source": [
    "What we are doing, with our slow dumb technique, and with the `minimize`\n",
    "function, is something called [mathematical\n",
    "optimization](https://en.wikipedia.org/wiki/Mathematical_optimization).  We use\n",
    "*optimization* when we have some *function* that takes one or more\n",
    "*parameters*.  We want to chose, or *optimize* the parameters to give us some\n",
    "desired output from the function.\n",
    "\n",
    "In our case our *function* is the root mean squared error, `calc_rmse`.  The\n",
    "*parameter* is the slope.  We are trying to find the value for the parameter\n",
    "that *minimizes* the result of calling the function `calc_rmse`.\n",
    "\n",
    "One way of doing this minimization, is the slow dumb way.  We just try a huge\n",
    "number of values for the parameter (the slope), and chose the value that gives\n",
    "us the lowest output value (the root mean squared error).\n",
    "\n",
    "This is such a common problem, that there has been an enormous amount of\n",
    "theoretical and practical work on building algorithms to make process of\n",
    "searching for the minimum value more efficient.\n",
    "\n",
    "This notebook is to give you an idea of how you might do this, and therefore,\n",
    "the kind of things that `minimize` can do, to search quickly for the best\n",
    "parameter.\n",
    "\n",
    "Let's look again at the shape of the curve relating the slope to the root mean\n",
    "squared error:"
   ]
  },
  {
   "cell_type": "code",
   "execution_count": null,
   "id": "65b4bf88",
   "metadata": {},
   "outputs": [],
   "source": [
    "plt.plot(some_slopes, rmse_errors)\n",
    "plt.xlabel('Candidate slopes')\n",
    "plt.ylabel('Root mean squared error')\n",
    "plt.title('RMSE as a function of slope')"
   ]
  },
  {
   "cell_type": "markdown",
   "id": "7f34e2b5",
   "metadata": {},
   "source": [
    "This is the *function* we are trying minimize.  Specifically, we are trying to\n",
    "optimize the function that gives the *SSE* as a function of the *slope*\n",
    "parameter.\n",
    "\n",
    "We want to avoid trying every possible value for the slope.\n",
    "\n",
    "To do this, we are going to start with one value for the slope, say 100, then\n",
    "see if there is a good way to chose the next value to try.\n",
    "\n",
    "Looking at the graph, we see that, when the slope is far away from the minimum,\n",
    "the RMSE (on the y axis) changes very quickly as the slope changes.  That is,\n",
    "the function has a steep *gradient*.\n",
    "\n",
    "Maybe we could check what the gradient is, at our starting value of 100, by\n",
    "calculating the RMSE (y) value, and then calculating the RMSE (y) value when we\n",
    "increase the slope by a tiny amount.  This is the change in y for a very small\n",
    "change in x.  We divide the change in y by the change in x, to get the\n",
    "gradient:"
   ]
  },
  {
   "cell_type": "code",
   "execution_count": null,
   "id": "93c9366f",
   "metadata": {},
   "outputs": [],
   "source": [
    "def calc_rmse_gradient(x, dx=0.0001):\n",
    "    # Gradient of the RMSE at this value of x\n",
    "    # RMSE at this x value.\n",
    "    sos_0 = calc_rmse(x)\n",
    "    # RMSE a tiny bit to the right on the x axis.\n",
    "    sos_1 = calc_rmse(x + dx)\n",
    "    # gradient is y difference divided by x difference.\n",
    "    return (sos_1 - sos_0) / dx"
   ]
  },
  {
   "cell_type": "code",
   "execution_count": null,
   "id": "577d4ac0",
   "metadata": {},
   "outputs": [],
   "source": [
    "# The y value of the function.\n",
    "calc_rmse(4)"
   ]
  },
  {
   "cell_type": "code",
   "execution_count": null,
   "id": "ef5956b9",
   "metadata": {},
   "outputs": [],
   "source": [
    "# The gradient of the function at this point.\n",
    "calc_rmse_gradient(4)"
   ]
  },
  {
   "cell_type": "markdown",
   "id": "2952dfd5",
   "metadata": {},
   "source": [
    "A large positive gradient means the x value (slope) that we tried is still far\n",
    "to the *right* of the minimum. This might encourage us to try an x value that\n",
    "is well to the left.  We could call this a large step in x, and therefore\n",
    "a large *step size*.\n",
    "\n",
    "Let's try another value:"
   ]
  },
  {
   "cell_type": "code",
   "execution_count": null,
   "id": "22398613",
   "metadata": {},
   "outputs": [],
   "source": [
    "# The y value of the function.\n",
    "calc_rmse(2)"
   ]
  },
  {
   "cell_type": "code",
   "execution_count": null,
   "id": "6d33e6fa",
   "metadata": {},
   "outputs": [],
   "source": [
    "# The gradient of the function at this point.\n",
    "calc_rmse_gradient(2)"
   ]
  },
  {
   "cell_type": "markdown",
   "id": "3a851947",
   "metadata": {},
   "source": [
    "A large negative gradient means the x value (slope) that we tried is still far\n",
    "to the *left* of the minimum.   This might encourage us to try an x value that\n",
    "is well to the right.\n",
    "\n",
    "As the gradients get small, we want to take smaller steps, so we don't miss the\n",
    "minimum.\n",
    "\n",
    "The general idea then, is to chose our step sizes in proportion to the gradient\n",
    "of the function.\n",
    "\n",
    "This is the optimization technique known as [gradient\n",
    "descent](https://en.wikipedia.org/wiki/Gradient_descent).\n",
    "\n",
    "Here it is in action. We try new x-axis values by making big jumps when the\n",
    "gradient is steep, and small jumps when the gradient is shallow.  For each new\n",
    "value of x, we check the gradient, and choose our new jump size.\n",
    "\n",
    "Remember each value on the x-axis is another value we want to try, in order to\n",
    "find the best-fitting slope for our original problem."
   ]
  },
  {
   "cell_type": "code",
   "execution_count": null,
   "id": "4e204c24",
   "metadata": {},
   "outputs": [],
   "source": [
    "next_x = 4 # We start the search at x=4\n",
    "gamma = 0.00001 # Step size multiplier\n",
    "precision = 0.00001 # Desired precision of result\n",
    "max_iters = 1000 # Maximum number of iterations\n",
    "\n",
    "for i in np.arange(max_iters):\n",
    "    # Go to the next x value\n",
    "    current_x = next_x\n",
    "    # Estimate the gradient\n",
    "    gradient = calc_rmse_gradient(current_x)\n",
    "    # Use gradient to choose the next x value to try.\n",
    "    # This takes negative steps when the gradient is positive\n",
    "    # and positive steps when the gradient is negative.\n",
    "    next_x = current_x - gamma * gradient\n",
    "    step = next_x - current_x\n",
    "    print('x: {:0.5f}; step {:0.5f}; gradient {:0.2f}'.format(\n",
    "        current_x, step, gradient))\n",
    "    # When the step size is equal to or smaller than the desired\n",
    "    # precision, we are near enough.\n",
    "    if abs(step) <= precision:\n",
    "        # Break out of the loop.\n",
    "        break\n",
    "\n",
    "print(\"Minimum at\", next_x)"
   ]
  },
  {
   "cell_type": "markdown",
   "id": "c94235c1",
   "metadata": {},
   "source": [
    "As you can see, by doing this, we save ourselves from trying a very large\n",
    "number of other potential x values, and we focus in on the minimum\n",
    "very quickly.\n",
    "\n",
    "This is just one method among many for optimizing our search for the minimum of\n",
    "a function.  Now you know what kind of thing it is doing, we will just let\n",
    "`minimize` do its job for us:"
   ]
  },
  {
   "cell_type": "code",
   "execution_count": null,
   "id": "a521705b",
   "metadata": {},
   "outputs": [],
   "source": [
    "# Use float to show us the final result in higher precision\n",
    "result = minimize(calc_rmse, 100)\n",
    "float(result.x)"
   ]
  }
 ],
 "metadata": {
  "jupytext": {
   "notebook_metadata_filter": "all,-language_info",
   "split_at_heading": true
  },
  "kernelspec": {
   "display_name": "Python (Pyodide)",
   "name": "python"
  }
 },
 "nbformat": 4,
 "nbformat_minor": 5
}
