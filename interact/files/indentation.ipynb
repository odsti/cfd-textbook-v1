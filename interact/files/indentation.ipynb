{
 "cells": [
  {
   "cell_type": "markdown",
   "id": "a17bfd52",
   "metadata": {},
   "source": [
    "# Indentation, indentation, indentation"
   ]
  },
  {
   "cell_type": "code",
   "execution_count": null,
   "id": "ce9bb3b9",
   "metadata": {},
   "outputs": [],
   "source": [
    "import numpy as np"
   ]
  },
  {
   "cell_type": "markdown",
   "id": "55d95d66",
   "metadata": {},
   "source": [
    "Python cares a lot about indentation.\n",
    "\n",
    "You are going see this often in Python code."
   ]
  },
  {
   "cell_type": "markdown",
   "id": "1522c398",
   "metadata": {},
   "source": [
    "`for` loops are one of many places that Python depends on indentation.  The indentation tells Python which statements are in the loop, and which are outside the loop.\n",
    "\n",
    "Remember that the `for` statement:\n",
    "\n",
    "* starts with the word `for`, followed by\n",
    "* a variable name (the *loop variable*) followed by\n",
    "* the word `in` followed by\n",
    "* an expression that gives sequence of values followed by\n",
    "* the character `:` followed by\n",
    "* an indented block of one or more statements.  This is the *body* of\n",
    "  the `for` loop.\n",
    "\n",
    "Here was our first `for` loop:"
   ]
  },
  {
   "cell_type": "code",
   "execution_count": null,
   "id": "a862d39d",
   "metadata": {},
   "outputs": [],
   "source": [
    "for i in np.arange(3):\n",
    "    print(i)"
   ]
  },
  {
   "cell_type": "markdown",
   "id": "7478d7e2",
   "metadata": {},
   "source": [
    "Following the sequence above, we have:\n",
    "\n",
    "* `for`\n",
    "* `i` (the loop variable name)\n",
    "* `in`\n",
    "* `np.arange(3)` (a sequence with three values \\- 0, 1, 2)\n",
    "* `:`\n",
    "* `    print(i)` (the indented block, consisting of one statement."
   ]
  },
  {
   "cell_type": "markdown",
   "id": "244a2f3c",
   "metadata": {},
   "source": [
    "If we want to execute more than one statement in the loop, we need to indent each statement:"
   ]
  },
  {
   "cell_type": "code",
   "execution_count": null,
   "id": "530212ca",
   "metadata": {},
   "outputs": [],
   "source": [
    "for i in np.arange(3):\n",
    "    print(i)\n",
    "    print('Finished this iteration of the loop')"
   ]
  },
  {
   "cell_type": "markdown",
   "id": "28e13576",
   "metadata": {},
   "source": [
    "In the above, both statements are indented, so Python runs both statements for each run through the loop.\n",
    "\n",
    "The first not-indented statement signals that the `for` loop body is over:"
   ]
  },
  {
   "cell_type": "code",
   "execution_count": null,
   "id": "0949de94",
   "metadata": {},
   "outputs": [],
   "source": [
    "for i in np.arange(3):\n",
    "    print(i)\n",
    "    print('Finished this iteration of the loop')\n",
    "print('Now the loop has finished')"
   ]
  },
  {
   "cell_type": "markdown",
   "id": "007aa59a",
   "metadata": {},
   "source": [
    "The lines in the `for` block must have the same indentation.  Try\n",
    "knocking one space off the indentation in one of the lines in the loop above, and see what happens.\n",
    "\n",
    "The first line must end with a colon character.  Try knocking the\n",
    "colon off the line beginning `for` above, and see what happens.\n",
    "\n",
    "There must be a `for` block.  Try removing all the indentation from the line `print(i)` above, and see what happens."
   ]
  }
 ],
 "metadata": {
  "kernelspec": {
   "display_name": "Python (Pyodide)",
   "name": "python"
  }
 },
 "nbformat": 4,
 "nbformat_minor": 5
}
