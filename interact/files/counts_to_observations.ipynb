{
 "cells": [
  {
   "cell_type": "markdown",
   "id": "6e69dc3e",
   "metadata": {},
   "source": [
    "# Counts to observations"
   ]
  },
  {
   "cell_type": "code",
   "execution_count": null,
   "id": "dbc23de8",
   "metadata": {},
   "outputs": [],
   "source": [
    "import numpy as np\n",
    "import pandas as pd\n",
    "pd.set_option('mode.copy_on_write', True)"
   ]
  },
  {
   "cell_type": "markdown",
   "id": "5bdacaf5",
   "metadata": {},
   "source": [
    "We often find ourselves with a counts table like this:"
   ]
  },
  {
   "cell_type": "code",
   "execution_count": null,
   "id": "907ab3cd",
   "metadata": {},
   "outputs": [],
   "source": [
    "# The counts table from the Fisher's Tea page.\n",
    "fishers_counts = pd.DataFrame(\n",
    "    data=[[4, 0], [0, 4]],\n",
    "    columns=pd.Index(['no', 'yes'], name='says milk first'),\n",
    "    index=pd.Index(['no', 'yes'], name='milk_first'))\n",
    "fishers_counts"
   ]
  },
  {
   "cell_type": "markdown",
   "id": "a837b060",
   "metadata": {},
   "source": [
    "Call this a *counts table*.\n",
    "\n",
    "If we want to make inferences from this table, we may well want to reconstruct the observation to which this corresponds.\n",
    "\n",
    "Think of the counts table as the result of doing a crosstabulation on the observations table.  We have the counts table - can we reconstruct the observations table."
   ]
  },
  {
   "cell_type": "markdown",
   "id": "16d4bf91",
   "metadata": {},
   "source": [
    "The counts table says that:\n",
    "\n",
    "* There were 4 'no', 'no' observations;\n",
    "* There were 0 'no', 'yes' observations;\n",
    "* There were 0 'yes', 'no' observations;\n",
    "* There were 4 'yes', 'yes' observations;"
   ]
  },
  {
   "cell_type": "markdown",
   "id": "d8d24640",
   "metadata": {},
   "source": [
    "We can rebuild this by hand using `np.repeat`.  Let's make an observations data frame that corresponds just to the observations making up the top left count ('no', 'no')"
   ]
  },
  {
   "cell_type": "code",
   "execution_count": null,
   "id": "f1c5cb79",
   "metadata": {},
   "outputs": [],
   "source": [
    "n = fishers_counts.loc['no', 'no']\n",
    "no_no_obs = pd.DataFrame()  # An empty data frame\n",
    "no_no_obs['milk_first'] = np.repeat(['no'], n)\n",
    "no_no_obs['says_milk_first'] = np.repeat(['no'], n)\n",
    "no_no_obs"
   ]
  },
  {
   "cell_type": "markdown",
   "id": "829cc1b9",
   "metadata": {},
   "source": [
    "Then we can do the same for the top right count:"
   ]
  },
  {
   "cell_type": "code",
   "execution_count": null,
   "id": "f08b8ad4",
   "metadata": {},
   "outputs": [],
   "source": [
    "n = fishers_counts.loc['no', 'yes']\n",
    "no_yes_obs = pd.DataFrame()  # An empty data frame\n",
    "no_yes_obs['milk_first'] = np.repeat(['no'], n)\n",
    "no_yes_obs['says_milk_first'] = np.repeat(['yes'], n)\n",
    "no_yes_obs"
   ]
  },
  {
   "cell_type": "markdown",
   "id": "ec1cd635",
   "metadata": {},
   "source": [
    "Aha - in our case, there were no observations corresponding to `no`, `yes`"
   ]
  },
  {
   "cell_type": "code",
   "execution_count": null,
   "id": "0f274e56",
   "metadata": {},
   "outputs": [],
   "source": [
    "n"
   ]
  },
  {
   "cell_type": "markdown",
   "id": "44782ce5",
   "metadata": {},
   "source": [
    "Let's generalize this process by going through all the column labels and all the row labels."
   ]
  },
  {
   "cell_type": "code",
   "execution_count": null,
   "id": "5ce67b6e",
   "metadata": {},
   "outputs": [],
   "source": [
    "row_labels = list(fishers_counts.index)\n",
    "row_labels"
   ]
  },
  {
   "cell_type": "code",
   "execution_count": null,
   "id": "6e5c52e1",
   "metadata": {},
   "outputs": [],
   "source": [
    "col_labels = list(fishers_counts.columns)\n",
    "col_labels\n",
    "# We would get the same result from just list(fishers_counts)"
   ]
  },
  {
   "cell_type": "markdown",
   "id": "18eeffc4",
   "metadata": {},
   "source": [
    "We need labels for our observation columns.\n",
    "\n",
    "In our case, with our nicely labeled count table, we could get these from the index and column object names, like this:"
   ]
  },
  {
   "cell_type": "code",
   "execution_count": null,
   "id": "f30d4c1c",
   "metadata": {},
   "outputs": [],
   "source": [
    "actual_obs_col_names = [\n",
    "    fishers_counts.index.name,\n",
    "    fishers_counts.columns.name\n",
    "]\n",
    "actual_obs_col_names"
   ]
  },
  {
   "cell_type": "markdown",
   "id": "cafa2b64",
   "metadata": {},
   "source": [
    "However, soon, we will be working with counts tables that aren't so comprehensively named, and may well lack names for the row label index, and for the column label index.   Instead, let's use some default labels to indicate that the values in the first column of the observation table come from the row labels of the counts table, and the values in the second column come from the column labels:"
   ]
  },
  {
   "cell_type": "code",
   "execution_count": null,
   "id": "fc490781",
   "metadata": {},
   "outputs": [],
   "source": [
    "obs_col_names = ['label_from_row', 'label_from_col']\n",
    "r_col, c_col = obs_col_names"
   ]
  },
  {
   "cell_type": "markdown",
   "id": "7f3785ae",
   "metadata": {},
   "source": [
    "We can rewrite compiling our first set of observations like this:"
   ]
  },
  {
   "cell_type": "code",
   "execution_count": null,
   "id": "26297abb",
   "metadata": {},
   "outputs": [],
   "source": [
    "# The first set of observations (top-left):\n",
    "row_label = row_labels[0]  # Get first row label.\n",
    "col_label = col_labels[0]  # Get first column label.\n",
    "n = fishers_counts.loc[row_label, col_label]\n",
    "these_obs = pd.DataFrame()  # An empty data frame\n",
    "these_obs[r_col] = np.repeat([row_label], n)\n",
    "these_obs[c_col] = np.repeat([col_label], n)\n",
    "these_obs"
   ]
  },
  {
   "cell_type": "code",
   "execution_count": null,
   "id": "43f24340",
   "metadata": {},
   "outputs": [],
   "source": [
    "# The second set of observations (top-right):\n",
    "row_label = row_labels[0]  # Get first row label.\n",
    "col_label = col_labels[1]  # Get second column label.\n",
    "n = fishers_counts.loc[row_label, col_label]\n",
    "these_obs = pd.DataFrame()  # An empty data frame\n",
    "these_obs[r_col] = np.repeat([row_label], n)\n",
    "these_obs[c_col] = np.repeat([col_label], n)\n",
    "these_obs"
   ]
  },
  {
   "cell_type": "markdown",
   "id": "dcdb2ff8",
   "metadata": {},
   "source": [
    "And we can generalize further to make all the corresponding observation rows, using `for` loops:"
   ]
  },
  {
   "cell_type": "code",
   "execution_count": null,
   "id": "707cc842",
   "metadata": {},
   "outputs": [],
   "source": [
    "obs_rows = []  # List to collect observation rows.\n",
    "for row_label in row_labels:\n",
    "    for col_label in col_labels:\n",
    "        n = fishers_counts.loc[row_label, col_label]\n",
    "        these_obs = pd.DataFrame()  # An empty data frame\n",
    "        these_obs[r_col] = np.repeat([row_label], n)\n",
    "        these_obs[c_col] = np.repeat([col_label], n)\n",
    "        obs_rows.append(these_obs)\n",
    "len(obs_rows)"
   ]
  },
  {
   "cell_type": "markdown",
   "id": "fd94a562",
   "metadata": {},
   "source": [
    "We can use `pd.concat` to stack these rows together, compiling the observations table:"
   ]
  },
  {
   "cell_type": "code",
   "execution_count": null,
   "id": "7f48ad54",
   "metadata": {},
   "outputs": [],
   "source": [
    "obs_table = pd.concat(obs_rows, axis=0)\n",
    "obs_table"
   ]
  },
  {
   "cell_type": "markdown",
   "id": "ef10cef2",
   "metadata": {},
   "source": [
    "Notice the observation table still has the original row labels from the constituent list of observation rows - and these are rather confusing.  We reset with `reset_index`:"
   ]
  },
  {
   "cell_type": "code",
   "execution_count": null,
   "id": "e59c628f",
   "metadata": {},
   "outputs": [],
   "source": [
    "obs_table = obs_table.reset_index(drop=True)\n",
    "obs_table"
   ]
  },
  {
   "cell_type": "markdown",
   "id": "ce42c794",
   "metadata": {},
   "source": [
    "We can generalize this even further, by putting all this into a function:"
   ]
  },
  {
   "cell_type": "code",
   "execution_count": null,
   "id": "3d9f886e",
   "metadata": {},
   "outputs": [],
   "source": [
    "def counts2obs(counts_tab,\n",
    "               obs_cols=None):\n",
    "    if obs_cols is None:\n",
    "        obs_cols = ['label_from_row', 'label_from_col']\n",
    "    r_col, c_col = obs_cols\n",
    "    obs_rows = []  # List to collect observation rows.\n",
    "    for row_label in row_labels:\n",
    "        for col_label in col_labels:\n",
    "            n = counts_tab.loc[row_label, col_label]\n",
    "            these_obs = pd.DataFrame()  # An empty data frame\n",
    "            these_obs[r_col] = np.repeat([row_label], n)\n",
    "            these_obs[c_col] = np.repeat([col_label], n)\n",
    "            obs_rows.append(these_obs)\n",
    "    return pd.concat(obs_rows, axis=0).reset_index(drop=True)"
   ]
  },
  {
   "cell_type": "code",
   "execution_count": null,
   "id": "b804a8f7",
   "metadata": {},
   "outputs": [],
   "source": [
    "counts2obs(fishers_counts)"
   ]
  },
  {
   "cell_type": "code",
   "execution_count": null,
   "id": "aeb0ca5f",
   "metadata": {},
   "outputs": [],
   "source": [
    "obs = counts2obs(fishers_counts, ['milk_first', 'says_milk_first'])\n",
    "obs"
   ]
  },
  {
   "cell_type": "markdown",
   "id": "33a69df7",
   "metadata": {},
   "source": [
    "We check we get the original table back from `pd.crosstab`:"
   ]
  },
  {
   "cell_type": "code",
   "execution_count": null,
   "id": "465a33f4",
   "metadata": {},
   "outputs": [],
   "source": [
    "pd.crosstab(obs['milk_first'], obs['says_milk_first'])"
   ]
  }
 ],
 "metadata": {
  "jupytext": {
   "notebook_metadata_filter": "all,-language_info",
   "split_at_heading": true
  },
  "kernelspec": {
   "display_name": "Python (Pyodide)",
   "name": "python"
  }
 },
 "nbformat": 4,
 "nbformat_minor": 5
}
