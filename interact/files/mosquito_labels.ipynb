{
 "cells": [
  {
   "cell_type": "markdown",
   "id": "7e7b4498",
   "metadata": {},
   "source": [
    "# Back to permutation\n",
    "\n",
    "This page goes back to permutation, now you know about [permuting\n",
    "labels](fishers_tea.Rmd) and\n",
    "[GroupBy](groupby.Rmd).\n",
    "\n",
    "It gives another way of doing the permutation, that you have\n",
    "already seen, as consolidation for the ideas of:\n",
    "\n",
    "* Permutation.\n",
    "* Permuting labels.\n",
    "* GroupBy."
   ]
  },
  {
   "cell_type": "markdown",
   "id": "696ca291",
   "metadata": {},
   "source": [
    "## Do mosquitoes like beer?\n",
    "\n",
    "We have already seen this dataset in [the idea of\n",
    "permutation](permutation_idea.Rmd).\n",
    "\n",
    "If you want to run this notebook on your own computer, Download\n",
    "the data from\n",
    "{download}`mosquito_beer.csv <data/mosquito_beer.csv>`.\n",
    "\n",
    "As you remember, the data are results from an experiment to test whether\n",
    "drinking beer makes people more attractive to mosquitoes.\n",
    "\n",
    "The experimenters got 43 volunteers to sit in a plastic tent. There was a\n",
    "plastic tube connecting the tent to a closed box of 50 mosquitoes.  When the\n",
    "subject had been sitting in the tent for long enough to let the from tent flow\n",
    "down the tube, the experimenters opened the box to let the mosquitoes fly down\n",
    "the tube.  There was mesh at the tent end of the tube to stop the mosquitoes\n",
    "reaching the person.   For each trial, the experimenters measured the number of\n",
    "mosquitoes that left the box and flew into the tube, towards the person in the\n",
    "tent.  They called this count the \"activated\" number of mosquitoes, and took\n",
    "greater counts to mean the mosquitoes were more attracted to the air in the\n",
    "tent.\n",
    "\n",
    "Of the 43 subjects, 25 drank beer before they sat in the tent, and 18 drank\n",
    "water.  This page compares the \"activated\" counts for the 25 subjects who had\n",
    "drunk beer, compared to the counts for the 18 subjects who had drunk water.\n",
    "\n",
    "In fact each subject sat in the tent twice, once \"before\" they had drunk their\n",
    "allocated drink (beer or water), and once \"after\" they had drunk their\n",
    "allocated drink.\n",
    "\n",
    "Here we only look at the \"after\" counts.\n",
    "\n",
    "See [this\n",
    "page](https://github.com/matthew-brett/datasets/tree/master/mosquito_beer) for\n",
    "more details on the dataset, and [the data license page](data/LICENSE).\n",
    "\n",
    "First our usual preamble:"
   ]
  },
  {
   "cell_type": "code",
   "execution_count": null,
   "id": "d5a787f3",
   "metadata": {},
   "outputs": [],
   "source": [
    "# Import Numpy library, rename as \"np\"\n",
    "import numpy as np\n",
    "# Make random number generator.\n",
    "rng = np.random.default_rng()\n",
    "# Import Pandas library, rename as \"pd\"\n",
    "import pandas as pd\n",
    "# Safe setting for Pandas.\n",
    "pd.set_option('mode.copy_on_write', True)\n",
    "\n",
    "# Set up plotting\n",
    "import matplotlib.pyplot as plt\n",
    "plt.style.use('fivethirtyeight')"
   ]
  },
  {
   "cell_type": "markdown",
   "id": "35df5217",
   "metadata": {},
   "source": [
    "Read in the data, select the \"after\" counts, and the \"activated\" column.\n",
    "\n",
    "The \"group\" column has the allocated drink: \"beer\" or \"water\"."
   ]
  },
  {
   "cell_type": "code",
   "execution_count": null,
   "id": "3885e14c",
   "metadata": {},
   "outputs": [],
   "source": [
    "mosquitoes = pd.read_csv('data/mosquito_beer.csv')\n",
    "after_activated = mosquitoes.loc[mosquitoes['test'] == 'after',\n",
    "                                 ['group', 'activated']]\n",
    "after_activated"
   ]
  },
  {
   "cell_type": "markdown",
   "id": "abd00505",
   "metadata": {},
   "source": [
    "Get the means per group."
   ]
  },
  {
   "cell_type": "code",
   "execution_count": null,
   "id": "f8eec72b",
   "metadata": {},
   "outputs": [],
   "source": [
    "means = after_activated.groupby('group')['activated'].mean()\n",
    "means"
   ]
  },
  {
   "cell_type": "markdown",
   "id": "425ae0c2",
   "metadata": {},
   "source": [
    "Remember our procedure for *inference*:\n",
    "\n",
    "* Find the data. Call this the real-world or *observed data*.\n",
    "* Define the *measure of interest* from the data.  Call this the *statistic*.\n",
    "* Calculate the statistic for the observed data.  Call this the *observed\n",
    "  statistic*.\n",
    "* Define the null-model — a model of the world with the effect of interest set\n",
    "  to 0.\n",
    "* Simulate the data in the null-model world.\n",
    "* For each simulation, calculate the measure of interest - the *simulated\n",
    "  statistic*.\n",
    "* Use the *simulated statistics* from the simulations to build up the *sampling\n",
    "  distribution* of the statistic.\n",
    "* Compare the *observed statistic* to the *sampling distribution*.  Is the\n",
    "  observed statistic sufficiently rare in the null-model world for us to\n",
    "  question the null-model?\n",
    "\n",
    "We will say the *data* is the `after_activated` DataFrame.\n",
    "\n",
    "We choose the difference between the means as the *measure of interest* or\n",
    "*statistic*.  We get the *observed statistic* with:"
   ]
  },
  {
   "cell_type": "code",
   "execution_count": null,
   "id": "7f461837",
   "metadata": {},
   "outputs": [],
   "source": [
    "observed_stat = means.loc['beer'] - means.loc['water']\n",
    "observed_stat"
   ]
  },
  {
   "cell_type": "markdown",
   "id": "9eadc3c5",
   "metadata": {},
   "source": [
    "The null-model is a world in which the average activated values for \"beer\" and\n",
    "\"water\" are the same — the difference is 0.\n",
    "\n",
    "Now we rethink how we would simulate in the null-model world.\n",
    "\n",
    "Here is a DataFrame we can use, for which we have randomly shuffled the \"group\"\n",
    "labels."
   ]
  },
  {
   "cell_type": "code",
   "execution_count": null,
   "id": "fccd79d6",
   "metadata": {},
   "outputs": [],
   "source": [
    "observed_groups = after_activated['group']\n",
    "fake_df = after_activated.copy()\n",
    "fake_df['group'] = rng.permutation(observed_groups)\n",
    "fake_df"
   ]
  },
  {
   "cell_type": "markdown",
   "id": "9664bf8b",
   "metadata": {},
   "source": [
    "Now we can define the procedure for one trial:"
   ]
  },
  {
   "cell_type": "code",
   "execution_count": null,
   "id": "c7d979d3",
   "metadata": {},
   "outputs": [],
   "source": [
    "fake_df['group'] = rng.permutation(observed_groups)\n",
    "fake_means = fake_df.groupby('group')['activated'].mean()\n",
    "fake_stat = fake_means['beer'] - fake_means['water']\n",
    "fake_stat"
   ]
  },
  {
   "cell_type": "markdown",
   "id": "152a41e3",
   "metadata": {},
   "source": [
    "The simulation is the trial procedure inside our standard for-loop:"
   ]
  },
  {
   "cell_type": "code",
   "execution_count": null,
   "id": "a58d1c9e",
   "metadata": {},
   "outputs": [],
   "source": [
    "n_iters = 10000\n",
    "fake_stats = np.zeros(n_iters)\n",
    "for i in np.arange(n_iters):\n",
    "    fake_df['group'] = rng.permutation(observed_groups)\n",
    "    fake_means = fake_df.groupby('group')['activated'].mean()\n",
    "    fake_stats[i] = fake_means['beer'] - fake_means['water']\n",
    "fake_stats[:10]"
   ]
  },
  {
   "cell_type": "markdown",
   "id": "21ce8b79",
   "metadata": {},
   "source": [
    "Plot the sampling distribution, along with the observed value:"
   ]
  },
  {
   "cell_type": "code",
   "execution_count": null,
   "id": "2afd19a7",
   "metadata": {},
   "outputs": [],
   "source": [
    "plt.hist(fake_stats, bins=50);\n",
    "plt.plot(observed_stat, 10, 'ro')\n",
    "plt.title(\"Sampling distribution of mean difference\");"
   ]
  },
  {
   "cell_type": "markdown",
   "id": "46e9ff67",
   "metadata": {},
   "source": [
    "The chance of any one difference being greater than the one we observed:"
   ]
  },
  {
   "cell_type": "code",
   "execution_count": null,
   "id": "3de1b0fc",
   "metadata": {},
   "outputs": [],
   "source": [
    "p = np.count_nonzero(fake_stats >= observed_stat) / n_iters\n",
    "p"
   ]
  },
  {
   "cell_type": "markdown",
   "id": "8c7bf22b",
   "metadata": {},
   "source": [
    "Just for reference, a test of the same question, using the t-test:"
   ]
  },
  {
   "cell_type": "code",
   "execution_count": null,
   "id": "48631ac3",
   "metadata": {},
   "outputs": [],
   "source": [
    "import scipy.stats as sps\n",
    "\n",
    "by_group = after_activated.groupby('group')['activated']\n",
    "\n",
    "sps.ttest_ind(by_group.get_group('beer'),\n",
    "              by_group.get_group('water'),\n",
    "              alternative='greater')"
   ]
  },
  {
   "cell_type": "markdown",
   "id": "3416f932",
   "metadata": {},
   "source": [
    "Notice the `pvalue` is very close to the permutation p-value, in this case."
   ]
  },
  {
   "cell_type": "markdown",
   "id": "e008be91",
   "metadata": {},
   "source": [
    "With recent versions of Scipy, you can even ask Scipy to do the testing with permutations, as we have:"
   ]
  },
  {
   "cell_type": "code",
   "execution_count": null,
   "id": "b045f794",
   "metadata": {},
   "outputs": [],
   "source": [
    "# Do testing using permutations instead of using mathematical\n",
    "# assumptions of standard t-test:\n",
    "sps.ttest_ind(by_group.get_group('beer'),\n",
    "              by_group.get_group('water'),\n",
    "              alternative='greater',\n",
    "              permutations=10000)"
   ]
  }
 ],
 "metadata": {
  "jupytext": {
   "notebook_metadata_filter": "all,-language_info",
   "split_at_heading": true
  },
  "kernelspec": {
   "display_name": "Python (Pyodide)",
   "name": "python"
  },
  "orphan": true
 },
 "nbformat": 4,
 "nbformat_minor": 5
}
