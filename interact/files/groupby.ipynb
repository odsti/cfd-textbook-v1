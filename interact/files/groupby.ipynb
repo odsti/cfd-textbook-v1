{
 "cells": [
  {
   "cell_type": "markdown",
   "id": "b6042b6b",
   "metadata": {},
   "source": [
    "# The power of groupby"
   ]
  },
  {
   "cell_type": "code",
   "execution_count": null,
   "id": "10778aa8",
   "metadata": {
    "tags": [
     "hide-cell"
    ]
   },
   "outputs": [],
   "source": [
    "import numpy as np\n",
    "import pandas as pd\n",
    "# Safe setting for Pandas.  Needs Pandas version >= 1.5.\n",
    "pd.set_option('mode.copy_on_write', True)"
   ]
  },
  {
   "cell_type": "markdown",
   "id": "8a1c9e46",
   "metadata": {},
   "source": [
    "This page follows from the [Crosstab](crosstab) page.\n",
    "\n",
    "As for the Crosstab page, we will use a dataset with data about passengers on\n",
    "the [RMS Titanic](https://en.wikipedia.org/wiki/Titanic).\n",
    "\n",
    "See [the Titanic dataset page](data/titanic) for some more information about\n",
    "this dataset, and a link to download the data."
   ]
  },
  {
   "cell_type": "code",
   "execution_count": null,
   "id": "88f887a2",
   "metadata": {},
   "outputs": [],
   "source": [
    "# Load the dataset\n",
    "df = pd.read_csv('data/titanic_clean.csv')\n",
    "df.head()"
   ]
  },
  {
   "cell_type": "markdown",
   "id": "bce60c3e",
   "metadata": {},
   "source": [
    "In the Crosstab page, we calculated counts and proportions of rows falling\n",
    "into categories given by Pandas Series.  These Series are often columns from a\n",
    "Pandas data frame.\n",
    "\n",
    "Pandas also has a very powerful mechanism for grouping observations by\n",
    "category, available by the Pandas data frame `groupby` method.\n",
    "\n",
    "The transformations available with `groupby` are far more general than those\n",
    "in `pd.crosstab`.  Among many other things, `groupby` allows us to calculate\n",
    "many different summaries of rows in different categories.\n",
    "\n",
    "For much more detail on `groupby`, see the [Python Data Science Handbook\n",
    "chapter](https://jakevdp.github.io/PythonDataScienceHandbook/03.08-aggregation-and-grouping.html),\n",
    "by [Jake Vanderplas](http://vanderplas.com).\n",
    "\n",
    "Just for example, imagine we were interested in the average age of the\n",
    "passengers in each `class`.\n"
   ]
  },
  {
   "cell_type": "markdown",
   "id": "59571bfc",
   "metadata": {},
   "source": [
    "## Groups and GroupBy"
   ]
  },
  {
   "cell_type": "markdown",
   "id": "bb06728c",
   "metadata": {},
   "source": [
    "We could start by making a Pandas `groupby` object, like this:"
   ]
  },
  {
   "cell_type": "code",
   "execution_count": null,
   "id": "aed1360f",
   "metadata": {},
   "outputs": [],
   "source": [
    "by_class = df.groupby('class')\n",
    "by_class"
   ]
  },
  {
   "cell_type": "markdown",
   "id": "d6b296a0",
   "metadata": {},
   "source": [
    "The GroupBy object has categorized the rows according to the values in the\n",
    "`class` column.   Therefore, the GroupBy object has three groups, one for\n",
    "`1st`, one of `2nd` and one for `3rd`.\n",
    "\n",
    "We can see how many groups we have with Python's `len` function:"
   ]
  },
  {
   "cell_type": "code",
   "execution_count": null,
   "id": "fe27eb2b",
   "metadata": {},
   "outputs": [],
   "source": [
    "# The number of groups.\n",
    "len(by_class)"
   ]
  },
  {
   "cell_type": "markdown",
   "id": "fa5f1b5e",
   "metadata": {},
   "source": [
    "If the fancy takes us, we can fetch the rows corresponding to the groups with\n",
    "the `get_group` method."
   ]
  },
  {
   "cell_type": "code",
   "execution_count": null,
   "id": "c67c61bd",
   "metadata": {},
   "outputs": [],
   "source": [
    "first_class_passengers = by_class.get_group('1st')\n",
    "first_class_passengers.head()"
   ]
  },
  {
   "cell_type": "markdown",
   "id": "671b9b00",
   "metadata": {},
   "source": [
    "This is exactly the same result we would get by selecting the first class\n",
    "passenger rows directly:"
   ]
  },
  {
   "cell_type": "code",
   "execution_count": null,
   "id": "97a46e43",
   "metadata": {
    "lines_to_next_cell": 2
   },
   "outputs": [],
   "source": [
    "first_again = df[df['class'] == '1st']\n",
    "first_again.head()"
   ]
  },
  {
   "cell_type": "markdown",
   "id": "2ca88c8c",
   "metadata": {},
   "source": [
    "## Indexing with column labels"
   ]
  },
  {
   "cell_type": "markdown",
   "id": "f8137f8b",
   "metadata": {},
   "source": [
    "As for DataFrames, you can index a GroupBy with column labels, to select the\n",
    "given column(s) to work on later.  As for DataFrames, this is *direct indexing\n",
    "with column labels* (DICL).  For example, here we index the GroupBy to select\n",
    "the numerical columns `age` and `fare`:"
   ]
  },
  {
   "cell_type": "code",
   "execution_count": null,
   "id": "b8ef4556",
   "metadata": {},
   "outputs": [],
   "source": [
    "by_class_fa = by_class[['age', 'fare']]\n",
    "by_class_fa"
   ]
  },
  {
   "cell_type": "markdown",
   "id": "c31a05cd",
   "metadata": {},
   "source": [
    "Notice that the GroupBy now only contains the `age` and `fare` columns."
   ]
  },
  {
   "cell_type": "code",
   "execution_count": null,
   "id": "193b0b42",
   "metadata": {},
   "outputs": [],
   "source": [
    "by_class_fa.get_group('1st')"
   ]
  },
  {
   "cell_type": "markdown",
   "id": "4376bfc1",
   "metadata": {},
   "source": [
    "You can also use index with a single column label, so the GroupBy only has a\n",
    "single column:"
   ]
  },
  {
   "cell_type": "code",
   "execution_count": null,
   "id": "dae31be3",
   "metadata": {},
   "outputs": [],
   "source": [
    "by_class_age = by_class['age']\n",
    "by_class_age"
   ]
  },
  {
   "cell_type": "markdown",
   "id": "38eac249",
   "metadata": {},
   "source": [
    "Notice that the type of thing that came back has changed from a DataFrame\n",
    "GroupBy to a Series GroupBy, reflecting the fact we are working on a single\n",
    "column."
   ]
  },
  {
   "cell_type": "markdown",
   "id": "836ea078",
   "metadata": {},
   "source": [
    "## Aggregating"
   ]
  },
  {
   "cell_type": "markdown",
   "id": "f8bb8e1c",
   "metadata": {},
   "source": [
    "The true power of GroupBy is in doing efficient operations on the groups, and\n",
    "returning the results."
   ]
  },
  {
   "cell_type": "markdown",
   "id": "cb07f5e3",
   "metadata": {},
   "source": [
    "Just for example, imagine that we wanted to get the mean `age` and `fare` for\n",
    "each class."
   ]
  },
  {
   "cell_type": "markdown",
   "id": "9f0f13b9",
   "metadata": {},
   "source": [
    "Here is how we could do that for the whole DataFrame:"
   ]
  },
  {
   "cell_type": "code",
   "execution_count": null,
   "id": "90347573",
   "metadata": {},
   "outputs": [],
   "source": [
    "df[['age', 'fare']].mean()"
   ]
  },
  {
   "cell_type": "markdown",
   "id": "82ae3883",
   "metadata": {},
   "source": [
    "We could do this for each class by going the long way round For each class we\n",
    "identify the matching rows, and columns of interest, then take their mean."
   ]
  },
  {
   "cell_type": "code",
   "execution_count": null,
   "id": "6804fb63",
   "metadata": {},
   "outputs": [],
   "source": [
    "print('1st mean', df.loc[df['class'] == '1st', ['age', 'fare']].mean())\n",
    "print('2nd mean', df.loc[df['class'] == '2nd', ['age', 'fare']].mean())\n",
    "print('3rd mean', df.loc[df['class'] == '3rd', ['age', 'fare']].mean())"
   ]
  },
  {
   "cell_type": "markdown",
   "id": "4b040e7f",
   "metadata": {},
   "source": [
    "Notice that we have only asked the `mean` function to work on the numerical\n",
    "columns - it would not make sense to ask for a mean for `name`.\n",
    "\n",
    "The code above is a repetitive and ugly - but it could have been much worse.\n",
    "Imagine, for example, that we had been interested in the mean age for\n",
    "passengers for each country.  There are lots of countries; it would not be\n",
    "practical to type these all out by hand as we have above for the classes."
   ]
  },
  {
   "cell_type": "code",
   "execution_count": null,
   "id": "6e61ec55",
   "metadata": {},
   "outputs": [],
   "source": [
    "df['country'].value_counts()"
   ]
  },
  {
   "cell_type": "markdown",
   "id": "b0ba29e5",
   "metadata": {},
   "source": [
    "To your complete lack of surprise, enter GroupBy, to our rescue.\n",
    "\n",
    "We can ask the GroupBy object to *aggregate* over the rows in each group.  In\n",
    "this case we want to use the `mean` method to give us an aggregate value for\n",
    "the rows in each group.\n",
    "\n",
    "As before, we only want to take a mean on the numerical columns `fare` and\n",
    "`age`.\n",
    "\n",
    "Here is one way to do that:"
   ]
  },
  {
   "cell_type": "code",
   "execution_count": null,
   "id": "ee3bb137",
   "metadata": {},
   "outputs": [],
   "source": [
    "# Select fare and age columns, apply np.mean aggregate function.\n",
    "by_class_fa = by_class[['fare', 'age']]\n",
    "class_means = by_class_fa.agg(np.mean)\n",
    "class_means"
   ]
  },
  {
   "cell_type": "markdown",
   "id": "c2d8a304",
   "metadata": {},
   "source": [
    "Notice the benefits over doing this by hand, above.  We have to do less typing.\n",
    "We don't have to know the unique values of `class` beforehand.  We get a Pandas\n",
    "dataframe back, that displays nicely, and that we can index to get the values\n",
    "we want:"
   ]
  },
  {
   "cell_type": "code",
   "execution_count": null,
   "id": "01c68966",
   "metadata": {},
   "outputs": [],
   "source": [
    "# Label indexing of the groupby results table.\n",
    "class_means.loc['1st', 'age']"
   ]
  },
  {
   "cell_type": "markdown",
   "id": "68e8661f",
   "metadata": {},
   "source": [
    "In fact, through some particularly obscure and clever Python magic, we can use\n",
    "`mean` and other Pandas data frame methods as methods of the GroupBy object,\n",
    "like this:"
   ]
  },
  {
   "cell_type": "code",
   "execution_count": null,
   "id": "a7c9df73",
   "metadata": {},
   "outputs": [],
   "source": [
    "# Using mean function directly.\n",
    "by_class_fa.mean()"
   ]
  },
  {
   "cell_type": "code",
   "execution_count": null,
   "id": "00671798",
   "metadata": {},
   "outputs": [],
   "source": [
    "# Using median function directly.\n",
    "by_class_fa.median()"
   ]
  },
  {
   "cell_type": "code",
   "execution_count": null,
   "id": "eaf44e1a",
   "metadata": {},
   "outputs": [],
   "source": [
    "# Using sum function directly.\n",
    "by_class_fa.sum()"
   ]
  },
  {
   "cell_type": "markdown",
   "id": "a3c778f2",
   "metadata": {},
   "source": [
    "The function we are using can return more than one value, in which case, we get\n",
    "a new column for each value.  For example, the `describe` method returns\n",
    "various aggregate values for each column.  Here's `describe` in action on the\n",
    "main data frame:"
   ]
  },
  {
   "cell_type": "code",
   "execution_count": null,
   "id": "8d217dbd",
   "metadata": {},
   "outputs": [],
   "source": [
    "df.describe()"
   ]
  },
  {
   "cell_type": "markdown",
   "id": "b91e50ad",
   "metadata": {},
   "source": [
    "When we apply `describe` to the groups, we get a new column for each calculated\n",
    "value that `describe` returns."
   ]
  },
  {
   "cell_type": "code",
   "execution_count": null,
   "id": "8fe70803",
   "metadata": {},
   "outputs": [],
   "source": [
    "by_class.describe()"
   ]
  },
  {
   "cell_type": "markdown",
   "id": "4e1547d1",
   "metadata": {},
   "source": [
    "As you have already seen, we can use indexing on the GroupBy to select single\n",
    "or multiple columns.  Here is a new GroupBy object, that contains only the\n",
    "`age` column:"
   ]
  },
  {
   "cell_type": "code",
   "execution_count": null,
   "id": "73a1f518",
   "metadata": {},
   "outputs": [],
   "source": [
    "by_class['age']"
   ]
  },
  {
   "cell_type": "markdown",
   "id": "726cec26",
   "metadata": {},
   "source": [
    "This can be useful when we want to restrict our attention to the `age` column,\n",
    "and we are not interested in other columns, such as `fare`:"
   ]
  },
  {
   "cell_type": "code",
   "execution_count": null,
   "id": "f7d920c6",
   "metadata": {},
   "outputs": [],
   "source": [
    "by_class['age'].mean()"
   ]
  },
  {
   "cell_type": "markdown",
   "id": "cf0a1077",
   "metadata": {},
   "source": [
    "We can get even more specific by passing keyword argument to the `agg` method.\n",
    "This allows us to say what aggregate columns we want back, and how to make\n",
    "them.  Here we ask for:\n",
    "\n",
    "* An aggregate column `mean_age`, the result of applying `np.mean` to the\n",
    "  `age` column of the groups.\n",
    "* Another aggregate column `median_fare`, the result of applying `np.median` to\n",
    "  the `fare` column of the groups."
   ]
  },
  {
   "cell_type": "code",
   "execution_count": null,
   "id": "ed4fd260",
   "metadata": {},
   "outputs": [],
   "source": [
    "by_class.agg(mean_age=('age', np.mean),\n",
    "             median_fare=('fare', np.median))"
   ]
  },
  {
   "cell_type": "markdown",
   "id": "b3d671ed",
   "metadata": {},
   "source": [
    "If you prefer the Pandas versions of `mean` and `median`, you can use the names\n",
    "of the function, as a string, rather than the functions themselves:"
   ]
  },
  {
   "cell_type": "code",
   "execution_count": null,
   "id": "2ba87c84",
   "metadata": {},
   "outputs": [],
   "source": [
    "# Mean using Pandas mean instead of Numpy mean.\n",
    "# Pandas mean ignores NaN values, for example.\n",
    "by_class.agg(mean_age=('age', 'mean'),\n",
    "             median_fare=('fare', 'median'))"
   ]
  },
  {
   "cell_type": "markdown",
   "id": "2bf87e83",
   "metadata": {},
   "source": [
    "## Grouping by more than one column"
   ]
  },
  {
   "cell_type": "markdown",
   "id": "20107c12",
   "metadata": {},
   "source": [
    "GroupBy can group by more than one set of categories.\n",
    "\n",
    "For example, imagine we wanted to break down the rows of the data frame by\n",
    "*both* `gender` and `class`.  That is, we want to form groups that are all the\n",
    "unique combinations of `gender` and class.  These will be:\n",
    "\n",
    "* `female` and `1st`\n",
    "* `female` and `2nd`\n",
    "* `female` and `3rd`\n",
    "* `male` and `1st`\n",
    "* `male` and `2nd`\n",
    "* `male` and `3rd`\n",
    "\n",
    "We can do this by giving `groupby` a list of the columns we want to categorize\n",
    "by:"
   ]
  },
  {
   "cell_type": "code",
   "execution_count": null,
   "id": "620d0961",
   "metadata": {},
   "outputs": [],
   "source": [
    "by_gender_class = df.groupby(['gender', 'class'])\n",
    "by_gender_class"
   ]
  },
  {
   "cell_type": "code",
   "execution_count": null,
   "id": "c50db52e",
   "metadata": {},
   "outputs": [],
   "source": [
    "len(by_gender_class)"
   ]
  },
  {
   "cell_type": "markdown",
   "id": "73c9fded",
   "metadata": {},
   "source": [
    "As before, GroupBy knows about each individual subgroup.  For example, here we\n",
    "fetch the rows corresponding to gender `female` and class `3rd`:"
   ]
  },
  {
   "cell_type": "code",
   "execution_count": null,
   "id": "2f73044d",
   "metadata": {},
   "outputs": [],
   "source": [
    "female_third = by_gender_class.get_group(('female', '3rd'))\n",
    "female_third.head()"
   ]
  },
  {
   "cell_type": "markdown",
   "id": "f5d97315",
   "metadata": {},
   "source": [
    "*Note* that the group specification above has to be a *tuple* (surrounded by\n",
    "`()`) rather than a list (surrounded by `[]`).\n",
    "\n",
    "As before, this gives us the same result as if we had done the selection the\n",
    "long way round:"
   ]
  },
  {
   "cell_type": "code",
   "execution_count": null,
   "id": "45971624",
   "metadata": {},
   "outputs": [],
   "source": [
    "female_df = df[df['gender'] == 'female']\n",
    "female_3rd = female_df[female_df['class'] == '3rd']\n",
    "female_3rd.head()"
   ]
  },
  {
   "cell_type": "markdown",
   "id": "63c1725f",
   "metadata": {},
   "source": [
    "Our aggregation functions operate on all the subgroups:"
   ]
  },
  {
   "cell_type": "code",
   "execution_count": null,
   "id": "33219134",
   "metadata": {},
   "outputs": [],
   "source": [
    "by_gender_class[['age', 'fare']].mean()"
   ]
  },
  {
   "cell_type": "markdown",
   "id": "800b292f",
   "metadata": {},
   "source": [
    "Please see the [Python Data Science Handbook\n",
    "chapter](https://jakevdp.github.io/PythonDataScienceHandbook/03.08-aggregation-and-grouping.html)\n",
    "for much more detail."
   ]
  }
 ],
 "metadata": {
  "jupytext": {
   "notebook_metadata_filter": "all,-language_info",
   "split_at_heading": true
  },
  "kernelspec": {
   "display_name": "Python (Pyodide)",
   "name": "python"
  }
 },
 "nbformat": 4,
 "nbformat_minor": 5
}
