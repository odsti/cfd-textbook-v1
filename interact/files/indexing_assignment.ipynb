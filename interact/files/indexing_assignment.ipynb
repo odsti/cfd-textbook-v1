{
 "cells": [
  {
   "cell_type": "markdown",
   "id": "64b4f3ba",
   "metadata": {},
   "source": [
    "# Assignment with indexing\n",
    "\n",
    "The [indexing catechism](indexing_catechism.Rmd) page goes through ways of\n",
    "selecting rows and columns by Pandas indexing.\n",
    "\n",
    "In each case in that page, we are using indexing in\n",
    "[expressions](indexing_expressions.Rmd).\n",
    "\n",
    "We can use the indexing on the left hand side of an assignment statement, to\n",
    "select values we will change."
   ]
  },
  {
   "cell_type": "code",
   "execution_count": null,
   "id": "ba3929f3",
   "metadata": {},
   "outputs": [],
   "source": [
    "# Load the Numpy library, rename to \"np\"\n",
    "import numpy as np\n",
    "\n",
    "# Load the Pandas data science library, rename to \"pd\"\n",
    "import pandas as pd\n",
    "\n",
    "# Safe setting for Pandas.  Needs Pandas version >= 1.5.\n",
    "pd.set_option('mode.copy_on_write', True)"
   ]
  },
  {
   "cell_type": "code",
   "execution_count": null,
   "id": "cccc6de8",
   "metadata": {},
   "outputs": [],
   "source": [
    "# Read the CSV to a DataFrame.\n",
    "ratings = pd.read_csv('data/rate_my_course.csv')\n",
    "# Change the default numerical row labels to be the discipline name.\n",
    "named_ratings = ratings.set_index('Discipline')\n",
    "named_ratings.head()"
   ]
  },
  {
   "cell_type": "markdown",
   "id": "99069a9b",
   "metadata": {},
   "source": [
    "Remember *simple indexing* is direct indexing with:\n",
    "\n",
    "* Column labels (DICL).\n",
    "* Boolean Series (DIBS).\n"
   ]
  },
  {
   "cell_type": "markdown",
   "id": "ffa17ed0",
   "metadata": {},
   "source": [
    "## Assignment by direct indexing with Column Labels"
   ]
  },
  {
   "cell_type": "code",
   "execution_count": null,
   "id": "cc20595c",
   "metadata": {},
   "outputs": [],
   "source": [
    "# DICL - one column label between square brackets _sets_ a Series.\n",
    "clarity = named_ratings['Clarity']  # DICL on right hand side (RHS)\n",
    "helpfulness = named_ratings['Helpfulness']  # DICL on RHS\n",
    "# DICL on the left hand side (LHS).\n",
    "# _Sets_ new column in DataFrame\n",
    "named_ratings['combined'] = clarity + helpfulness\n",
    "named_ratings"
   ]
  },
  {
   "cell_type": "markdown",
   "id": "f0148c94",
   "metadata": {},
   "source": [
    "## Assignment by direct indexing with Boolean Series"
   ]
  },
  {
   "cell_type": "code",
   "execution_count": null,
   "id": "cb03d01a",
   "metadata": {},
   "outputs": [],
   "source": [
    "# Create a Boolean Series by doing a comparison on a Series.\n",
    "not_clear = clarity < 3.5\n",
    "not_clear"
   ]
  },
  {
   "cell_type": "code",
   "execution_count": null,
   "id": "8841c5b7",
   "metadata": {},
   "outputs": [],
   "source": [
    "# DIBS selects *rows*, giving a DataFrame with one row per True\n",
    "# Here we set all the values in the not-clear rows to be missing\n",
    "# values.\n",
    "unclear_ratings = named_ratings.copy()  # Make a copy before changing.\n",
    "unclear_ratings[not_clear] = np.nan\n",
    "unclear_ratings"
   ]
  },
  {
   "cell_type": "markdown",
   "id": "0da3ed7c",
   "metadata": {},
   "source": [
    "## Setting values with  `.loc`"
   ]
  },
  {
   "cell_type": "code",
   "execution_count": null,
   "id": "8966f92a",
   "metadata": {},
   "outputs": [],
   "source": [
    "# Set values a single row by label.\n",
    "unclear_plus_english = unclear_ratings.copy()\n",
    "unclear_plus_english.loc['English'] = np.nan\n",
    "unclear_plus_english"
   ]
  },
  {
   "cell_type": "code",
   "execution_count": null,
   "id": "ca13f2ea",
   "metadata": {},
   "outputs": [],
   "source": [
    "# Set a single value by specifying the row and column label.\n",
    "unclear_ratings.loc['English', 'Clarity'] = 3\n",
    "unclear_ratings"
   ]
  },
  {
   "cell_type": "markdown",
   "id": "296e9f45",
   "metadata": {},
   "source": [
    "You can set values with Boolean Series using indirect indexing:"
   ]
  },
  {
   "cell_type": "code",
   "execution_count": null,
   "id": "c4285d83",
   "metadata": {},
   "outputs": [],
   "source": [
    "# Select rows where clarity < 3 to 0 using .loc with Boolean Series.\n",
    "unclear_0 = unclear_ratings.copy()\n",
    "unclear_0.loc[not_clear] = 0\n",
    "unclear_0"
   ]
  },
  {
   "cell_type": "code",
   "execution_count": null,
   "id": "9bb339d7",
   "metadata": {},
   "outputs": [],
   "source": [
    "# Set Easiness column from rows where Clarity < 3\n",
    "unclear_ratings.loc[not_clear, 'Easiness'] = -100\n",
    "unclear_ratings"
   ]
  },
  {
   "cell_type": "markdown",
   "id": "bc6de25b",
   "metadata": {},
   "source": [
    "## Setting values using `.iloc`"
   ]
  },
  {
   "cell_type": "code",
   "execution_count": null,
   "id": "dc2ef25f",
   "metadata": {},
   "outputs": [],
   "source": [
    "# Set a single row by position\n",
    "# The first row (by position) is English.\n",
    "unclear_ratings.iloc[0] = 99\n",
    "unclear_ratings"
   ]
  },
  {
   "cell_type": "code",
   "execution_count": null,
   "id": "e7153abe",
   "metadata": {},
   "outputs": [],
   "source": [
    "# Set a single value by specifying the row and column positions.\n",
    "# Easiness is the last column (position -1).\n",
    "unclear_ratings.iloc[0, -1] = 11\n",
    "unclear_ratings"
   ]
  },
  {
   "cell_type": "markdown",
   "id": "c04edb44",
   "metadata": {},
   "source": [
    "## Use indirect indexing to set values into a Series\n",
    "\n",
    "You can do assignment by indexing into Series values.  Use indirect indexing to do this."
   ]
  },
  {
   "cell_type": "code",
   "execution_count": null,
   "id": "6d1dbb10",
   "metadata": {},
   "outputs": [],
   "source": [
    "# Remind us what clarity values are\n",
    "clarity"
   ]
  },
  {
   "cell_type": "code",
   "execution_count": null,
   "id": "af452549",
   "metadata": {},
   "outputs": [],
   "source": [
    "# Assign by label.\n",
    "clarity.loc['English'] = 3\n",
    "clarity"
   ]
  },
  {
   "cell_type": "code",
   "execution_count": null,
   "id": "fee56ca7",
   "metadata": {},
   "outputs": [],
   "source": [
    "# Set using Boolean Series.\n",
    "clarity.loc[not_clear] = 0\n",
    "clarity"
   ]
  },
  {
   "cell_type": "code",
   "execution_count": null,
   "id": "fd616409",
   "metadata": {},
   "outputs": [],
   "source": [
    "# Set by position.\n",
    "# English is the first value (at position 0).\n",
    "clarity.iloc[0] = 11\n",
    "clarity"
   ]
  }
 ],
 "metadata": {
  "jupytext": {
   "notebook_metadata_filter": "all,-language_info",
   "split_at_heading": true
  },
  "kernelspec": {
   "display_name": "Python (Pyodide)",
   "name": "python"
  }
 },
 "nbformat": 4,
 "nbformat_minor": 5
}
