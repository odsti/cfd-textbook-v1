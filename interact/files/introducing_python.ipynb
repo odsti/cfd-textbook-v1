{
 "cells": [
  {
   "cell_type": "markdown",
   "id": "962e2f3e",
   "metadata": {},
   "source": [
    "# Introduction to Python"
   ]
  },
  {
   "cell_type": "markdown",
   "id": "f74621bc",
   "metadata": {},
   "source": [
    "## Variables\n",
    "\n",
    "Variables are named values."
   ]
  },
  {
   "cell_type": "code",
   "execution_count": null,
   "id": "2ad0c9d8",
   "metadata": {},
   "outputs": [],
   "source": [
    "a = 4"
   ]
  },
  {
   "cell_type": "markdown",
   "id": "d33f7e33",
   "metadata": {},
   "source": [
    "Read this as:\n",
    "\n",
    "> \"a\" gets the value 4."
   ]
  },
  {
   "cell_type": "code",
   "execution_count": null,
   "id": "00a9e148",
   "metadata": {},
   "outputs": [],
   "source": [
    "b = 6"
   ]
  },
  {
   "cell_type": "markdown",
   "id": "b02e8a78",
   "metadata": {},
   "source": [
    "> \"b\" gets the value 6."
   ]
  },
  {
   "cell_type": "code",
   "execution_count": null,
   "id": "9a952328",
   "metadata": {},
   "outputs": [],
   "source": [
    "a + b"
   ]
  },
  {
   "cell_type": "markdown",
   "id": "599840a5",
   "metadata": {},
   "source": [
    "You can also *update* variables, as in:"
   ]
  },
  {
   "cell_type": "code",
   "execution_count": null,
   "id": "f7144fdf",
   "metadata": {},
   "outputs": [],
   "source": [
    "a = a + 2\n",
    "a"
   ]
  },
  {
   "cell_type": "markdown",
   "id": "fa2b967e",
   "metadata": {},
   "source": [
    "So far we've seen numbers as values, but we can also have bits of text called\n",
    "*strings*.  Strings are bits of text between quotes."
   ]
  },
  {
   "cell_type": "code",
   "execution_count": null,
   "id": "369a7a83",
   "metadata": {},
   "outputs": [],
   "source": [
    "a = \"Python\"\n",
    "c = \"MATLAB\"\n",
    "z = \" > \""
   ]
  },
  {
   "cell_type": "markdown",
   "id": "977af99c",
   "metadata": {},
   "source": [
    "You have seen adding numbers.  We can also add strings.  This as the effect of\n",
    "sticking them together — *concatenating* the strings:"
   ]
  },
  {
   "cell_type": "code",
   "execution_count": null,
   "id": "c5d85aa0",
   "metadata": {},
   "outputs": [],
   "source": [
    "a + z + c"
   ]
  },
  {
   "cell_type": "markdown",
   "id": "dd83f203",
   "metadata": {},
   "source": [
    "Strings can have apostrophes (`'`) or inverted commas (`\"`) at either end,\n",
    "Python accepts either."
   ]
  },
  {
   "cell_type": "code",
   "execution_count": null,
   "id": "5d37e724",
   "metadata": {},
   "outputs": [],
   "source": [
    "first = 'a string'\n",
    "second = \"b string\"\n",
    "first + second"
   ]
  },
  {
   "cell_type": "markdown",
   "id": "2e0e53f2",
   "metadata": {},
   "source": [
    "You can even use triple apostrophes or inverted commas at either end; this is\n",
    "useful for when you want to put a new line inside your string:"
   ]
  },
  {
   "cell_type": "code",
   "execution_count": null,
   "id": "0ab1270b",
   "metadata": {},
   "outputs": [],
   "source": [
    "many_line_string = \"\"\"\n",
    "This string\n",
    "has\n",
    "several\n",
    "lines\n",
    "\"\"\"\n",
    "print(many_line_string)"
   ]
  },
  {
   "cell_type": "markdown",
   "id": "aa5e8b65",
   "metadata": {},
   "source": [
    "Length of a string:"
   ]
  },
  {
   "cell_type": "code",
   "execution_count": null,
   "id": "98c9e5ce",
   "metadata": {},
   "outputs": [],
   "source": [
    "len(first)"
   ]
  },
  {
   "cell_type": "markdown",
   "id": "f4914db9",
   "metadata": {},
   "source": [
    "Strings and numbers are different:"
   ]
  },
  {
   "cell_type": "code",
   "execution_count": null,
   "id": "94405854",
   "metadata": {
    "tags": [
     "raises-exception"
    ]
   },
   "outputs": [],
   "source": [
    "number = \"9\"\n",
    "number + 6"
   ]
  },
  {
   "cell_type": "markdown",
   "id": "e6cfcdb4",
   "metadata": {},
   "source": [
    "We can convert between numbers and strings:"
   ]
  },
  {
   "cell_type": "code",
   "execution_count": null,
   "id": "705546dd",
   "metadata": {},
   "outputs": [],
   "source": [
    "int(number) + 6\n",
    "str(9)"
   ]
  },
  {
   "cell_type": "markdown",
   "id": "9582e56e",
   "metadata": {},
   "source": [
    "However ..."
   ]
  },
  {
   "cell_type": "code",
   "execution_count": null,
   "id": "ce30a2ca",
   "metadata": {
    "tags": [
     "raises-exception"
    ]
   },
   "outputs": [],
   "source": [
    "number = \"nine\"\n",
    "int(number)"
   ]
  },
  {
   "cell_type": "markdown",
   "id": "c9826389",
   "metadata": {},
   "source": [
    "## Lists"
   ]
  },
  {
   "cell_type": "code",
   "execution_count": null,
   "id": "b3ec2d10",
   "metadata": {},
   "outputs": [],
   "source": [
    "an_empty_list = []\n",
    "list_with_two_items = [1, 2]\n",
    "items_can_be_diverse = [1, \"Obama\", 4.55]"
   ]
  },
  {
   "cell_type": "code",
   "execution_count": null,
   "id": "603d2b71",
   "metadata": {},
   "outputs": [],
   "source": [
    "example_list = []\n",
    "example_list.append(\"experiment1\")\n",
    "example_list"
   ]
  },
  {
   "cell_type": "code",
   "execution_count": null,
   "id": "005ca8b3",
   "metadata": {},
   "outputs": [],
   "source": [
    "example_list[0]"
   ]
  },
  {
   "cell_type": "markdown",
   "id": "18a5f4df",
   "metadata": {},
   "source": [
    "The length of a list (or any object that can have a length):"
   ]
  },
  {
   "cell_type": "code",
   "execution_count": null,
   "id": "6aa08bef",
   "metadata": {},
   "outputs": [],
   "source": [
    "len(example_list)"
   ]
  },
  {
   "cell_type": "code",
   "execution_count": null,
   "id": "457af357",
   "metadata": {},
   "outputs": [],
   "source": [
    "example_list.append(\"failed_experiment\")\n",
    "print(example_list)\n",
    "example_list.append(\"failed_experiment\")\n",
    "print(example_list)"
   ]
  },
  {
   "cell_type": "code",
   "execution_count": null,
   "id": "ed0b9fe4",
   "metadata": {},
   "outputs": [],
   "source": [
    "example_list.pop()"
   ]
  },
  {
   "cell_type": "code",
   "execution_count": null,
   "id": "ec236d72",
   "metadata": {},
   "outputs": [],
   "source": [
    "example_list"
   ]
  },
  {
   "cell_type": "code",
   "execution_count": null,
   "id": "8622fbf2",
   "metadata": {},
   "outputs": [],
   "source": [
    "del example_list[0]\n",
    "example_list"
   ]
  },
  {
   "cell_type": "markdown",
   "id": "45cb2020",
   "metadata": {},
   "source": [
    "`range` in returns a “range object”.  It’s like a list, but isn’t quite a\n",
    "list."
   ]
  },
  {
   "cell_type": "code",
   "execution_count": null,
   "id": "8072a06d",
   "metadata": {},
   "outputs": [],
   "source": [
    "range(10)"
   ]
  },
  {
   "cell_type": "markdown",
   "id": "3ab23166",
   "metadata": {},
   "source": [
    "You can make it into a list by using the `list` constructor.  A constructor is\n",
    "like a function, but it creates a new object, in this case a new object of type\n",
    "`list`."
   ]
  },
  {
   "cell_type": "code",
   "execution_count": null,
   "id": "90cbe49a",
   "metadata": {},
   "outputs": [],
   "source": [
    "list(range(10))"
   ]
  },
  {
   "cell_type": "markdown",
   "id": "5e5c4f64",
   "metadata": {},
   "source": [
    "You can also set the start element for `range`:"
   ]
  },
  {
   "cell_type": "code",
   "execution_count": null,
   "id": "96e065fa",
   "metadata": {},
   "outputs": [],
   "source": [
    "list(range(2, 7))"
   ]
  },
  {
   "cell_type": "markdown",
   "id": "49410b10",
   "metadata": {},
   "source": [
    "Use `in` to ask if a element is a collection of things, such as a range, or\n",
    "a list:"
   ]
  },
  {
   "cell_type": "code",
   "execution_count": null,
   "id": "2fbf4c96",
   "metadata": {},
   "outputs": [],
   "source": [
    "5 in range(2, 7)\n",
    "5 in [2, 5, 7]"
   ]
  },
  {
   "cell_type": "code",
   "execution_count": null,
   "id": "46f3f645",
   "metadata": {},
   "outputs": [],
   "source": [
    "9 in range(2, 7)"
   ]
  },
  {
   "cell_type": "markdown",
   "id": "a3324306",
   "metadata": {},
   "source": [
    "## Sets\n",
    "\n",
    "Sets are unordered, and unique.\n",
    "\n",
    "“Unordered” means the order is arbitrary, and Python reserves the right to\n",
    "return the elements in any order it likes:"
   ]
  },
  {
   "cell_type": "code",
   "execution_count": null,
   "id": "d40634e2",
   "metadata": {},
   "outputs": [],
   "source": [
    "our_work = set([\"metacognition\", \"mindwandering\", \"perception\"])\n",
    "print(our_work)"
   ]
  },
  {
   "cell_type": "markdown",
   "id": "55eb2454",
   "metadata": {},
   "source": [
    "If you want to get a version of the set that is ordered, use `sorted`, which\n",
    "returns a sorted list:"
   ]
  },
  {
   "cell_type": "code",
   "execution_count": null,
   "id": "d72739ea",
   "metadata": {},
   "outputs": [],
   "source": [
    "sorted(our_work)"
   ]
  },
  {
   "cell_type": "markdown",
   "id": "f46e0089",
   "metadata": {},
   "source": [
    "You can't index a set, because the indices 0, or 1, or 2 don’t correspond to\n",
    "any particular element (because the set is unordered):"
   ]
  },
  {
   "cell_type": "code",
   "execution_count": null,
   "id": "d600db48",
   "metadata": {
    "tags": [
     "raises-exception"
    ]
   },
   "outputs": [],
   "source": [
    "our_work[0]"
   ]
  },
  {
   "cell_type": "markdown",
   "id": "106634c0",
   "metadata": {},
   "source": [
    "Add to a set with the `add` method:"
   ]
  },
  {
   "cell_type": "code",
   "execution_count": null,
   "id": "055531b3",
   "metadata": {},
   "outputs": [],
   "source": [
    "our_work.add(\"consciousness\")\n",
    "print(our_work)"
   ]
  },
  {
   "cell_type": "code",
   "execution_count": null,
   "id": "0954c668",
   "metadata": {},
   "outputs": [],
   "source": [
    "our_work.add(\"consciousness\")\n",
    "print(our_work)\n",
    "our_work.add(\"consciousness\")\n",
    "print(our_work)"
   ]
  },
  {
   "cell_type": "markdown",
   "id": "4341c19c",
   "metadata": {},
   "source": [
    "You can subtract sets:"
   ]
  },
  {
   "cell_type": "code",
   "execution_count": null,
   "id": "2d508984",
   "metadata": {},
   "outputs": [],
   "source": [
    "competing_labs_work = set([\"motor control\", \"decision making\", \"memory\", \"consciousness\"])\n",
    "what_we_should_focus_on = our_work - competing_labs_work\n",
    "print(what_we_should_focus_on)"
   ]
  },
  {
   "cell_type": "code",
   "execution_count": null,
   "id": "08da9dd9",
   "metadata": {},
   "outputs": [],
   "source": [
    "what_we_should_avoid = our_work.intersection(competing_labs_work)\n",
    "print(what_we_should_avoid)"
   ]
  },
  {
   "cell_type": "markdown",
   "id": "5a59f145",
   "metadata": {},
   "source": [
    "Sets have lengths as well:"
   ]
  },
  {
   "cell_type": "code",
   "execution_count": null,
   "id": "f8e3b692",
   "metadata": {},
   "outputs": [],
   "source": [
    "len(what_we_should_focus_on)"
   ]
  },
  {
   "cell_type": "markdown",
   "id": "af0e2978",
   "metadata": {},
   "source": [
    "## Working with strings\n",
    "\n",
    "We have already seen strings. Here is another example."
   ]
  },
  {
   "cell_type": "code",
   "execution_count": null,
   "id": "2c990696",
   "metadata": {},
   "outputs": [],
   "source": [
    "example = \"mary had a little lamb\"\n",
    "print(example)"
   ]
  },
  {
   "cell_type": "markdown",
   "id": "dee3aa74",
   "metadata": {},
   "source": [
    "String slicing:"
   ]
  },
  {
   "cell_type": "code",
   "execution_count": null,
   "id": "aad44c0e",
   "metadata": {},
   "outputs": [],
   "source": [
    "example[0]"
   ]
  },
  {
   "cell_type": "code",
   "execution_count": null,
   "id": "a605c78e",
   "metadata": {},
   "outputs": [],
   "source": [
    "example[0:4]"
   ]
  },
  {
   "cell_type": "markdown",
   "id": "ebbd9d2a",
   "metadata": {},
   "source": [
    "You can split strings with any character.  This breaks up the string,\n",
    "returning a list of strings broken at the separator character:"
   ]
  },
  {
   "cell_type": "code",
   "execution_count": null,
   "id": "2466bb28",
   "metadata": {},
   "outputs": [],
   "source": [
    "example.split(\" \")"
   ]
  },
  {
   "cell_type": "code",
   "execution_count": null,
   "id": "d125ac88",
   "metadata": {},
   "outputs": [],
   "source": [
    "example.split(\" \")[4]"
   ]
  },
  {
   "cell_type": "markdown",
   "id": "4254e036",
   "metadata": {},
   "source": [
    "You can split with any character:"
   ]
  },
  {
   "cell_type": "code",
   "execution_count": null,
   "id": "e23eb9b1",
   "metadata": {},
   "outputs": [],
   "source": [
    "another_example = 'one:two:three'\n",
    "another_example.split(\":\")"
   ]
  },
  {
   "cell_type": "markdown",
   "id": "bd752d01",
   "metadata": {},
   "source": [
    "You can also `strip` a string.  That returns a new string with spaces, tabs\n",
    "and end of line characters removed from the beginning and end:"
   ]
  },
  {
   "cell_type": "code",
   "execution_count": null,
   "id": "310441b2",
   "metadata": {},
   "outputs": [],
   "source": [
    "my_string = ' a string\\n'\n",
    "my_string\n",
    "my_string.strip()"
   ]
  },
  {
   "cell_type": "markdown",
   "id": "68fed5cd",
   "metadata": {},
   "source": [
    "Adding strings:"
   ]
  },
  {
   "cell_type": "code",
   "execution_count": null,
   "id": "39596043",
   "metadata": {},
   "outputs": [],
   "source": [
    "example + \" or two\""
   ]
  },
  {
   "cell_type": "markdown",
   "id": "18ef13f0",
   "metadata": {},
   "source": [
    "Putting strings into other strings:"
   ]
  },
  {
   "cell_type": "code",
   "execution_count": null,
   "id": "bdd30501",
   "metadata": {},
   "outputs": [],
   "source": [
    "subject_id = \"sub1\"\n",
    "print(f\"Subject {subject_id} is excellent\")"
   ]
  },
  {
   "cell_type": "code",
   "execution_count": null,
   "id": "244ca8e2",
   "metadata": {},
   "outputs": [],
   "source": [
    "age = 29\n",
    "print(f\"Subject {subject_id} is {age} years old\")"
   ]
  },
  {
   "cell_type": "markdown",
   "id": "1ddfc77f",
   "metadata": {},
   "source": [
    "You can do more complex formatting of numbers and strings using formatting\n",
    "options after a `:` in the placeholder for the string.  See:\n",
    "[https://docs.python.org/3.5/library/string.html#format-examples](https://docs.python.org/3.5/library/string.html#format-examples)."
   ]
  },
  {
   "cell_type": "code",
   "execution_count": null,
   "id": "1ca27ebd",
   "metadata": {},
   "outputs": [],
   "source": [
    "subject_no = 4\n",
    "print(f\"Subject {subject_no:02d} is here\")"
   ]
  },
  {
   "cell_type": "markdown",
   "id": "93781dc0",
   "metadata": {},
   "source": [
    "## For loop"
   ]
  },
  {
   "cell_type": "code",
   "execution_count": null,
   "id": "2d9e720a",
   "metadata": {},
   "outputs": [],
   "source": [
    "for i in range(10):\n",
    "    print(i)"
   ]
  },
  {
   "cell_type": "markdown",
   "id": "93645ebb",
   "metadata": {},
   "source": [
    "Indentation is crucial!"
   ]
  },
  {
   "cell_type": "code",
   "execution_count": null,
   "id": "781d6402",
   "metadata": {
    "tags": [
     "raises-exception"
    ]
   },
   "outputs": [],
   "source": [
    "for i in range(10):\n",
    "print(i)"
   ]
  },
  {
   "cell_type": "markdown",
   "id": "233f50f8",
   "metadata": {},
   "source": [
    "Watch out for mistakes:"
   ]
  },
  {
   "cell_type": "code",
   "execution_count": null,
   "id": "0c5c3f84",
   "metadata": {},
   "outputs": [],
   "source": [
    "for i in range(10):\n",
    "    j = i + 1\n",
    "print(j)"
   ]
  },
  {
   "cell_type": "markdown",
   "id": "c3d3840b",
   "metadata": {},
   "source": [
    "## Ifs and breaks"
   ]
  },
  {
   "cell_type": "code",
   "execution_count": null,
   "id": "aae654f7",
   "metadata": {},
   "outputs": [],
   "source": [
    "a = 2\n",
    "b = 5\n",
    "c = a + b\n",
    "if c < 6:\n",
    "    print(\"yes\")"
   ]
  },
  {
   "cell_type": "code",
   "execution_count": null,
   "id": "c3288cd5",
   "metadata": {},
   "outputs": [],
   "source": [
    "if c < 6:\n",
    "    print(\"yes\")\n",
    "else:\n",
    "    print(\"no\")"
   ]
  },
  {
   "cell_type": "code",
   "execution_count": null,
   "id": "8a7bf51f",
   "metadata": {},
   "outputs": [],
   "source": [
    "if c < 6:\n",
    "    print(\"yes\")\n",
    "elif c > 6:\n",
    "    print(\"no\")\n",
    "else:\n",
    "    print(\"kind of\")"
   ]
  },
  {
   "cell_type": "code",
   "execution_count": null,
   "id": "9c7ee592",
   "metadata": {},
   "outputs": [],
   "source": [
    "if True:\n",
    "    print(\"true, true!\")"
   ]
  },
  {
   "cell_type": "code",
   "execution_count": null,
   "id": "b9220d26",
   "metadata": {},
   "outputs": [],
   "source": [
    "if False:\n",
    "    print(\"never!\")"
   ]
  },
  {
   "cell_type": "code",
   "execution_count": null,
   "id": "0f019ed6",
   "metadata": {},
   "outputs": [],
   "source": [
    "for i in range(10):\n",
    "    if i == 6:\n",
    "        break\n",
    "    print(i)"
   ]
  },
  {
   "cell_type": "code",
   "execution_count": null,
   "id": "c30e4aaf",
   "metadata": {},
   "outputs": [],
   "source": [
    "for i in range(10):\n",
    "    if i == 6:\n",
    "        continue\n",
    "    print(i)"
   ]
  },
  {
   "cell_type": "markdown",
   "id": "e987f676",
   "metadata": {},
   "source": [
    "## Logic\n",
    "\n",
    "You can use logical operators like `and`, `or` and `not`:"
   ]
  },
  {
   "cell_type": "code",
   "execution_count": null,
   "id": "bbe89b1a",
   "metadata": {},
   "outputs": [],
   "source": [
    "strange_election = True\n",
    "uncomfortable_choices = True\n",
    "satisfying_experience = False\n",
    "strange_election and uncomfortable_choices\n",
    "strange_election and satisfying_experience\n",
    "strange_election and not satisfying_experience"
   ]
  },
  {
   "cell_type": "markdown",
   "id": "a24d2374",
   "metadata": {},
   "source": [
    "We often use these in `if` statements:"
   ]
  },
  {
   "cell_type": "code",
   "execution_count": null,
   "id": "56fbc94c",
   "metadata": {},
   "outputs": [],
   "source": [
    "if strange_election and not satisfying_experience:\n",
    "    print('Watching a lot of news')"
   ]
  },
  {
   "cell_type": "markdown",
   "id": "66f2409d",
   "metadata": {},
   "source": [
    "## Files\n",
    "\n",
    "Use [pathlib](pathlib.Rmd) to write text and read text from files.\n",
    "\n",
    "Write lines to a text file:"
   ]
  },
  {
   "cell_type": "code",
   "execution_count": null,
   "id": "2c1fe91a",
   "metadata": {},
   "outputs": [],
   "source": [
    "from pathlib import Path\n",
    "\n",
    "path = Path(\"important_notes.txt\")\n",
    "type(path)"
   ]
  },
  {
   "cell_type": "code",
   "execution_count": null,
   "id": "61cc2647",
   "metadata": {},
   "outputs": [],
   "source": [
    "my_text = \"\"\"captains log 672828: I had a banana for breakfast.\n",
    "captains log 672829: I should watch less TV.\n",
    "\"\"\"\n",
    "\n",
    "print(my_text)"
   ]
  },
  {
   "cell_type": "code",
   "execution_count": null,
   "id": "140a1964",
   "metadata": {},
   "outputs": [],
   "source": [
    "path.write_text(my_text)"
   ]
  },
  {
   "cell_type": "markdown",
   "id": "c4f8e984",
   "metadata": {},
   "source": [
    "Read lines from a text file:"
   ]
  },
  {
   "cell_type": "code",
   "execution_count": null,
   "id": "ea89f9a9",
   "metadata": {},
   "outputs": [],
   "source": [
    "text_again = path.read_text()\n",
    "print(text_again)"
   ]
  },
  {
   "cell_type": "markdown",
   "id": "8ad1c031",
   "metadata": {},
   "source": [
    "Split the lines from a text into a list, where there is one element per line,\n",
    "and each element is a string:"
   ]
  },
  {
   "cell_type": "code",
   "execution_count": null,
   "id": "0d6fbe90",
   "metadata": {},
   "outputs": [],
   "source": [
    "# The splitlines method of a string.\n",
    "lines = text_again.splitlines()\n",
    "\n",
    "len(lines)\n",
    "print(lines[0])\n",
    "print(lines[1])"
   ]
  },
  {
   "cell_type": "markdown",
   "id": "2b157ec8",
   "metadata": {},
   "source": [
    "We may want to delete the file when we've finished with it.  Again the `Path` object does the job:"
   ]
  },
  {
   "cell_type": "code",
   "execution_count": null,
   "id": "61c03aa9",
   "metadata": {},
   "outputs": [],
   "source": [
    "# Delete the file.\n",
    "path.unlink()"
   ]
  }
 ],
 "metadata": {
  "jupytext": {
   "notebook_metadata_filter": "all,-language_info",
   "split_at_heading": true
  },
  "kernelspec": {
   "display_name": "Python (Pyodide)",
   "name": "python"
  },
  "orphan": true
 },
 "nbformat": 4,
 "nbformat_minor": 5
}
