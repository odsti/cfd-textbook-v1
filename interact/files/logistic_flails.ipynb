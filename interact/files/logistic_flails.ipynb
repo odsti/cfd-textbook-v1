{
 "cells": [
  {
   "cell_type": "markdown",
   "id": "a9a839d0",
   "metadata": {},
   "source": [
    "# Logistic regression can fail with root mean squares"
   ]
  },
  {
   "cell_type": "code",
   "execution_count": null,
   "id": "7eb91825",
   "metadata": {
    "tags": [
     "hide-cell"
    ]
   },
   "outputs": [],
   "source": [
    "import numpy as np\n",
    "import pandas as pd\n",
    "pd.set_option('mode.copy_on_write', True)\n",
    "import matplotlib.pyplot as plt\n",
    "from scipy.optimize import minimize"
   ]
  },
  {
   "cell_type": "markdown",
   "id": "041706b5",
   "metadata": {},
   "source": [
    "We read in the [mtcars\n",
    "dataset](https://www.rdocumentation.org/packages/datasets/versions/3.6.2/topics/mtcars)\n",
    "that will be very familiar to users of R:"
   ]
  },
  {
   "cell_type": "code",
   "execution_count": null,
   "id": "01883e8d",
   "metadata": {},
   "outputs": [],
   "source": [
    "mtcars = pd.read_csv('data/mtcars.csv')\n",
    "mtcars.head()"
   ]
  },
  {
   "cell_type": "markdown",
   "id": "cd67fcc8",
   "metadata": {},
   "source": [
    "This dataset has one row per make and model of car.  The columns have various\n",
    "measures and other information about each make and model.\n",
    "\n",
    "The columns we are interested in here are:\n",
    "\n",
    "* `mpg`: Miles/(US) gallon\n",
    "* `am`: Transmission (0 = automatic, 1 = manual)\n",
    "\n",
    "Notice that `am` is already numeric, and so is already a dummy variable."
   ]
  },
  {
   "cell_type": "code",
   "execution_count": null,
   "id": "0d3d8d91",
   "metadata": {},
   "outputs": [],
   "source": [
    "mpg = mtcars['mpg']\n",
    "am_dummy = mtcars['am']"
   ]
  },
  {
   "cell_type": "markdown",
   "id": "052c71eb",
   "metadata": {},
   "source": [
    "We will try to predict whether the car has an automatic transmission (column\n",
    "`am`) using the miles per gallon measure (column `mpg`).\n",
    "\n",
    "Here is a plot of the `am` values against the `mpg` values:"
   ]
  },
  {
   "cell_type": "code",
   "execution_count": null,
   "id": "c85fd765",
   "metadata": {
    "tags": [
     "hide-cell"
    ]
   },
   "outputs": [],
   "source": [
    "# Code to make nice plots for binary columns.  Please ignore.\n",
    "def plot_binary(df, x_name, bin_name, bin_labels=(0, 1),\n",
    "                color_names=('red', 'blue')):\n",
    "    x_vals = df[x_name]\n",
    "    bin_vals = df[bin_name]\n",
    "    # Build plot, add custom label.\n",
    "    dummy = bin_vals.replace(bin_labels, (0, 1))\n",
    "    colors = bin_vals.replace(bin_labels, color_names)\n",
    "    plt.scatter(x_vals, dummy, c=colors)\n",
    "    plt.xlabel(x_name)\n",
    "    plt.ylabel('%s\\n0 = %s, 1 = %s' % (x_name, bin_labels[0], bin_labels[1]))\n",
    "    plt.yticks([0, 1]);  # Just label 0 and 1 on the y axis.\n",
    "    # Put a custom legend on the plot.  This code is a little obscure.\n",
    "    plt.scatter([], [], c=color_names[0], label=bin_labels[0])\n",
    "    plt.scatter([], [], c=color_names[1], label=bin_labels[1])"
   ]
  },
  {
   "cell_type": "code",
   "execution_count": null,
   "id": "b919abed",
   "metadata": {
    "tags": [
     "hide-cell"
    ]
   },
   "outputs": [],
   "source": [
    "plot_binary(mtcars, 'mpg', 'am')\n",
    "plt.legend();"
   ]
  },
  {
   "cell_type": "markdown",
   "id": "c1f98e79",
   "metadata": {},
   "source": [
    "We need our machinery for calculating the inverse logit transformation,\n",
    "converting from the log-odds-ratio straight line prediction to the sigmoid\n",
    "prediction."
   ]
  },
  {
   "cell_type": "code",
   "execution_count": null,
   "id": "17572235",
   "metadata": {},
   "outputs": [],
   "source": [
    "def inv_logit(y):\n",
    "    \"\"\" Reverse logit transformation\n",
    "    \"\"\"\n",
    "    odds_ratios = np.exp(y)  # Reverse the log operation.\n",
    "    return odds_ratios / (odds_ratios + 1)  # Reverse odds ratios operation.\n",
    "\n",
    "\n",
    "def params2pps(intercept, slope, x):\n",
    "    \"\"\" Calculate predicted probabilities of 1 for each observation.\n",
    "    \"\"\"\n",
    "    # Predicted log odds of being in class 1.\n",
    "    predicted_log_odds = intercept + slope * x\n",
    "    return inv_logit(predicted_log_odds)"
   ]
  },
  {
   "cell_type": "markdown",
   "id": "4c404625",
   "metadata": {},
   "source": [
    "This is our simple sum of square cost function comparing the sigmoid p\n",
    "predictions to the 0 / 1 labels"
   ]
  },
  {
   "cell_type": "code",
   "execution_count": null,
   "id": "6b3f51c1",
   "metadata": {},
   "outputs": [],
   "source": [
    "def rmse_logit(c_s, x_values, y_values):\n",
    "    # Unpack intercept and slope into values.\n",
    "    intercept, slope = c_s\n",
    "    # Predicted p values on sigmoid\n",
    "    pps = params2pps(intercept, slope, x_values)\n",
    "    # Prediction errors.\n",
    "    sigmoid_error = y_values - pps\n",
    "    # Root mean squared error\n",
    "    return np.sqrt(np.mean(sigmoid_error ** 2))"
   ]
  },
  {
   "cell_type": "markdown",
   "id": "ac38c4e5",
   "metadata": {},
   "source": [
    "We run minimize using some (it turns out) close-enough initial values for the\n",
    "log-odds intercept and slope:"
   ]
  },
  {
   "cell_type": "code",
   "execution_count": null,
   "id": "7e286ca7",
   "metadata": {},
   "outputs": [],
   "source": [
    "# Guessed log-odds intercept slope of -5, 0.5\n",
    "mr_rmse_ok = minimize(rmse_logit, [-5, 0.5], args=(mpg, am_dummy))\n",
    "mr_rmse_ok"
   ]
  },
  {
   "cell_type": "markdown",
   "id": "061329d1",
   "metadata": {},
   "source": [
    "The prediction sigmoid looks reasonable:"
   ]
  },
  {
   "cell_type": "code",
   "execution_count": null,
   "id": "a3469f39",
   "metadata": {},
   "outputs": [],
   "source": [
    "inter_ok, slope_ok = mr_rmse_ok.x\n",
    "predicted_ok = inv_logit(inter_ok + slope_ok * mpg)"
   ]
  },
  {
   "cell_type": "code",
   "execution_count": null,
   "id": "33235e1d",
   "metadata": {
    "tags": [
     "hide-cell"
    ]
   },
   "outputs": [],
   "source": [
    "plot_binary(mtcars, 'mpg', 'am')\n",
    "plt.scatter(mpg, predicted_ok, c='gold', label='SS fit, OK start')\n",
    "plt.legend();"
   ]
  },
  {
   "cell_type": "markdown",
   "id": "0ce2c681",
   "metadata": {},
   "source": [
    "But - if we start with a not-so-close initial guess for the intercept and\n",
    "slope, `minimize` gets terribly lost:"
   ]
  },
  {
   "cell_type": "code",
   "execution_count": null,
   "id": "6f08e0f4",
   "metadata": {},
   "outputs": [],
   "source": [
    "# Guessed log-odds intercept slope of 1, 1\n",
    "mr_rmse_not_ok = minimize(rmse_logit, [1, 1], args=(mpg, am_dummy))\n",
    "mr_rmse_not_ok"
   ]
  },
  {
   "cell_type": "markdown",
   "id": "b8e1e7e0",
   "metadata": {},
   "source": [
    "The prediction sigmoid fails completely:"
   ]
  },
  {
   "cell_type": "code",
   "execution_count": null,
   "id": "631c1529",
   "metadata": {},
   "outputs": [],
   "source": [
    "inter_not_ok, slope_not_ok = mr_rmse_not_ok.x\n",
    "predicted_not_ok = inv_logit(inter_not_ok + slope_not_ok * mpg)"
   ]
  },
  {
   "cell_type": "code",
   "execution_count": null,
   "id": "89612e2b",
   "metadata": {
    "tags": [
     "hide-cell"
    ]
   },
   "outputs": [],
   "source": [
    "plot_binary(mtcars, 'mpg', 'am')\n",
    "plt.scatter(mpg, predicted_not_ok, c='gold', label='RMSE fit, bad start')\n",
    "plt.legend();"
   ]
  },
  {
   "cell_type": "markdown",
   "id": "025b038c",
   "metadata": {},
   "source": [
    "Can we do better with the maximum likelihood estimate (MLE) cost function?"
   ]
  },
  {
   "cell_type": "code",
   "execution_count": null,
   "id": "587642b7",
   "metadata": {},
   "outputs": [],
   "source": [
    "def logit_reg_cost(intercept_and_slope, x, y):\n",
    "    \"\"\" Cost function for maximum likelihood\n",
    "    \"\"\"\n",
    "    intercept, slope = intercept_and_slope\n",
    "    pp1 = params2pps(intercept, slope, x)\n",
    "    p_of_y = y * pp1 + (1 - y) * (1 - pp1)\n",
    "    log_likelihood = np.sum(np.log(p_of_y))\n",
    "    return -log_likelihood"
   ]
  },
  {
   "cell_type": "markdown",
   "id": "b2a9245e",
   "metadata": {},
   "source": [
    "Here we pass some absolutely terrible initial guesses for the intercept and slope:"
   ]
  },
  {
   "cell_type": "code",
   "execution_count": null,
   "id": "4b0dfa58",
   "metadata": {},
   "outputs": [],
   "source": [
    "mr_LL = minimize(logit_reg_cost, [10, -5], args=(mpg, am_dummy))\n",
    "mr_LL"
   ]
  },
  {
   "cell_type": "markdown",
   "id": "e1e4133a",
   "metadata": {},
   "source": [
    "The fit is still reasonable:"
   ]
  },
  {
   "cell_type": "code",
   "execution_count": null,
   "id": "e430e6a6",
   "metadata": {},
   "outputs": [],
   "source": [
    "inter_LL, slope_LL = mr_LL.x\n",
    "predicted_LL = inv_logit(inter_LL + slope_LL * mpg)"
   ]
  },
  {
   "cell_type": "code",
   "execution_count": null,
   "id": "e7949667",
   "metadata": {},
   "outputs": [],
   "source": [
    "plot_binary(mtcars, 'mpg', 'am')\n",
    "plt.scatter(mpg, predicted_LL, c='gold', label='LL prediction')\n",
    "plt.legend();"
   ]
  },
  {
   "cell_type": "markdown",
   "id": "27dca898",
   "metadata": {},
   "source": [
    "As we have seen before, the MLE fit above is the same algorithm that\n",
    "Statmodels and other packages use."
   ]
  },
  {
   "cell_type": "code",
   "execution_count": null,
   "id": "f51480b9",
   "metadata": {},
   "outputs": [],
   "source": [
    "import statsmodels.formula.api as smf"
   ]
  },
  {
   "cell_type": "code",
   "execution_count": null,
   "id": "c58894b5",
   "metadata": {},
   "outputs": [],
   "source": [
    "model = smf.logit('am ~ mpg', data=mtcars)\n",
    "fit = model.fit()\n",
    "fit.summary()"
   ]
  },
  {
   "cell_type": "markdown",
   "id": "f5ec9628",
   "metadata": {},
   "source": [
    "Notice that the intercept and slope coefficients are the same as the ones we\n",
    "found with the MLE cost function and minimize."
   ]
  }
 ],
 "metadata": {
  "jupytext": {
   "notebook_metadata_filter": "all,-language_info",
   "split_at_heading": true
  },
  "kernelspec": {
   "display_name": "Python (Pyodide)",
   "name": "python"
  },
  "orphan": true
 },
 "nbformat": 4,
 "nbformat_minor": 5
}
