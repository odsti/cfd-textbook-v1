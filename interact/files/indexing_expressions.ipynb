{
 "cells": [
  {
   "cell_type": "markdown",
   "id": "aa75c200",
   "metadata": {},
   "source": [
    "# Pandas and indexing expressions\n",
    "\n",
    "The [subexpressions](sub_expressions) page discussed the idea of\n",
    "expressions that get evaluated in the course of evaluating a larger expression.\n",
    "\n",
    "In that page you saw examples of expressions and sub-expressions that were:\n",
    "\n",
    "* Floating point literal expressions (e.g. `10.50`).\n",
    "* Variables (e.g. `a`).\n",
    "* Call expressions (e.g. `cos(0)`).\n",
    "\n",
    "This page introduces *indexing expressions* in Numpy and Pandas, and the way\n",
    "you can build up indexing expressions and sub-expressions to select data.\n",
    "\n",
    "First we start with our usual imports."
   ]
  },
  {
   "cell_type": "code",
   "execution_count": null,
   "id": "dc145364",
   "metadata": {},
   "outputs": [],
   "source": [
    "# Load the Numpy library, rename to \"np\"\n",
    "import numpy as np\n",
    "\n",
    "# Load the Pandas data science library, rename to \"pd\"\n",
    "import pandas as pd\n",
    "\n",
    "# Safe setting for Pandas.  Needs Pandas version >= 1.5.\n",
    "pd.set_option('mode.copy_on_write', True)"
   ]
  },
  {
   "cell_type": "markdown",
   "id": "621829cb",
   "metadata": {},
   "source": [
    "## Numpy indexing expressions\n",
    "\n",
    "Let us make an array:"
   ]
  },
  {
   "cell_type": "code",
   "execution_count": null,
   "id": "48ea003a",
   "metadata": {},
   "outputs": [],
   "source": [
    "a = np.arange(10, 20, 2)"
   ]
  },
  {
   "cell_type": "markdown",
   "id": "40865f22",
   "metadata": {},
   "source": [
    "The first line is an *assignment statements*, with the *variable name* (`a`) on\n",
    "the Left Hand Side (LHS) of the `=`, and an *expression* (code that returns a\n",
    "value) on the Right Hand Side (RHS).\n",
    "\n",
    "The RHS expression is `np.arange(10, 20, 2)`.  This is a *call expression*,\n",
    "where we call the `np.arange` function with three arguments.  Evaluating the\n",
    "expression generates an array with values `[10, 12, 14, 16, 18]`:"
   ]
  },
  {
   "cell_type": "code",
   "execution_count": null,
   "id": "49314021",
   "metadata": {
    "lines_to_next_cell": 2
   },
   "outputs": [],
   "source": [
    "a"
   ]
  },
  {
   "cell_type": "markdown",
   "id": "5a6797a6",
   "metadata": {},
   "source": [
    "Now consider *indexing* into the array.  Indexing occurs where we follow a\n",
    "*value* by square brackets, with something in between.\n",
    "\n",
    "Here we follow the expression `a` (referring to our array value) by `[2]` (the expression `2` between square brackets:"
   ]
  },
  {
   "cell_type": "code",
   "execution_count": null,
   "id": "0b4a1be6",
   "metadata": {},
   "outputs": [],
   "source": [
    "# In indexing expression.\n",
    "a[2]"
   ]
  },
  {
   "cell_type": "markdown",
   "id": "3b4da42f",
   "metadata": {},
   "source": [
    "We can see this is an expression because Jupyter shows a value when we execute\n",
    "the cell, meaning, that `a[2]` is something that returns a value — an\n",
    "*expression*.\n",
    "\n",
    "`a[2]` means:\n",
    "\n",
    "> fetch the element at position 2 from the array `a`.\n",
    "\n",
    "We have found that we can index arrays by putting three types of things between\n",
    "the square brackets attached to an array:\n",
    "\n",
    "* Integers, to specify an element at a given *position* in the array.\n",
    "* Slices.  Slices are expressions containing colons of `start:stop:step`.\n",
    "* Boolean arrays.\n",
    "\n",
    "The next three code cells are examples of *indexing expressions*:"
   ]
  },
  {
   "cell_type": "code",
   "execution_count": null,
   "id": "3d71b31b",
   "metadata": {},
   "outputs": [],
   "source": [
    "a[2]  # Indexing with integers"
   ]
  },
  {
   "cell_type": "code",
   "execution_count": null,
   "id": "5081d2c3",
   "metadata": {},
   "outputs": [],
   "source": [
    "a[1:-1:2]  # Indexing with a slice"
   ]
  },
  {
   "cell_type": "code",
   "execution_count": null,
   "id": "75388e49",
   "metadata": {},
   "outputs": [],
   "source": [
    "b = np.array([True, False, True, True, False])\n",
    "a[b]  # Indexing with Boolean array"
   ]
  },
  {
   "cell_type": "markdown",
   "id": "95f9fb9f",
   "metadata": {},
   "source": [
    "## Pandas indexing expressions\n",
    "\n",
    "Here is our familiar data frame of data from the World Bank:"
   ]
  },
  {
   "cell_type": "code",
   "execution_count": null,
   "id": "99a4e5ad",
   "metadata": {},
   "outputs": [],
   "source": [
    "df = pd.read_csv('data/gender_stats.csv')\n",
    "df"
   ]
  },
  {
   "cell_type": "markdown",
   "id": "b6c36520",
   "metadata": {},
   "source": [
    "In terms of expressions, the first line is an *assignment statement*, where the\n",
    "RHS is, as ever, an *expression*.  In this case, it's a *call expression* in\n",
    "which we call the `pd.read_csv` function with the argument `gender_stats.csv`,\n",
    "returning a DataFrame *value*.\n",
    "\n",
    "The second line is an expression that evaluates to that DataFrame value, so\n",
    "Jupyter shows us the DataFrame attached to the name `df`.\n",
    "\n",
    "Now let us consider Pandas *direct indexing with column labels* (DICL)."
   ]
  },
  {
   "cell_type": "code",
   "execution_count": null,
   "id": "61cf4d44",
   "metadata": {},
   "outputs": [],
   "source": [
    "col_name = 'gdp_us_billion'\n",
    "col_name"
   ]
  },
  {
   "cell_type": "markdown",
   "id": "31fcf1a6",
   "metadata": {},
   "source": [
    "The assignment statement RHS expression is a *string literal* expression, asking Pandas to make a `str` value.\n",
    "\n",
    "Next we extract the named column with DICL into the DataFrame:"
   ]
  },
  {
   "cell_type": "code",
   "execution_count": null,
   "id": "6b055905",
   "metadata": {},
   "outputs": [],
   "source": [
    "# DICL\n",
    "gdp = df[col_name]\n",
    "gdp"
   ]
  },
  {
   "cell_type": "markdown",
   "id": "77a2d8ce",
   "metadata": {},
   "source": [
    "The assignment statement RHS above is a Pandas indexing expression, with `df`\n",
    "(resulting in the DataFrame value), followed by square brackets, with an\n",
    "expression inside.  In this case the expression gives a `str` value indicating\n",
    "the column name. When we pass an expression giving a string inside the indexing\n",
    "square brackets, this causes Pandas to select the *column* with the given\n",
    "label.\n",
    "\n",
    "The result, as usual, is Pandas `Series` — the structure that Python uses to\n",
    "store a column of data."
   ]
  },
  {
   "cell_type": "code",
   "execution_count": null,
   "id": "db2218d3",
   "metadata": {},
   "outputs": [],
   "source": [
    "type(gdp)"
   ]
  },
  {
   "cell_type": "markdown",
   "id": "d11251f5",
   "metadata": {},
   "source": [
    "DICL is the first type of Pandas *indexing expression* for DataFrames.  In\n",
    "DICL, we put a *column label* inside the square brackets.\n",
    "\n",
    "The other type of Pandas indexing expression that we have seen is *direct\n",
    "indexing with Boolean Series*.   In this form of indexing, we put a *Boolean\n",
    "Series* inside the square brackets.\n",
    "\n",
    "We can form a Boolean Series by evaluating a *comparison* expression on a\n",
    "Series."
   ]
  },
  {
   "cell_type": "code",
   "execution_count": null,
   "id": "2eed4ffc",
   "metadata": {},
   "outputs": [],
   "source": [
    "# The RHS is a comparison expression on a Series\n",
    "gdp_gt_1000 = gdp > 1000\n",
    "# Show the result.\n",
    "gdp_gt_1000"
   ]
  },
  {
   "cell_type": "markdown",
   "id": "d1d645f7",
   "metadata": {},
   "source": [
    "DIBS occurs where we put the Boolean Series inside the square brackets\n",
    "following a DataFrame value:"
   ]
  },
  {
   "cell_type": "code",
   "execution_count": null,
   "id": "211c5788",
   "metadata": {},
   "outputs": [],
   "source": [
    "# DICS indexing expression\n",
    "df[gdp_gt_1000]"
   ]
  },
  {
   "cell_type": "markdown",
   "id": "eb8165f1",
   "metadata": {},
   "source": [
    "Notice that this has the effect of selecting rows in `df` for which the GDP\n",
    "values were greater than 1000, returning a new DataFrame, containing only those\n",
    "rows that have corresponding True values in the Boolean Series.\n",
    "\n",
    "The form above is a little long-winded:\n",
    "\n",
    "* We first make a variable containing the Boolean Series\n",
    "* We then use the variable as the input to the DIBS indexing expression.\n",
    "\n",
    "To be more compact, we often find ourselves calculating the Boolean Series on\n",
    "the fly, like this."
   ]
  },
  {
   "cell_type": "code",
   "execution_count": null,
   "id": "d25005f7",
   "metadata": {},
   "outputs": [],
   "source": [
    "# DIBS indexing expression, calculating the BS inside the brackets\n",
    "df[gdp > 1000]"
   ]
  },
  {
   "cell_type": "markdown",
   "id": "c4e4072e",
   "metadata": {},
   "source": [
    "In the expression above, Python first evaluates the expression inside the\n",
    "square brackets: `gdp > 1000`.  Evaluating this expression gives a value, which\n",
    "is a Boolean Series — the same Boolean Series we made before, and attached to\n",
    "the variable `gdp_gt_1000`.  Because the value is inside square brackets, the\n",
    "DataFrame will get this to do *indexing*, and again, will select the rows with\n",
    "True for the `gdp > 1000` comparison.\n",
    "\n",
    "Notice that, in order to run the code above, we had to first make the `gdp`\n",
    "variable containing the Series.\n",
    "\n",
    "Sometimes we want to get the same result by generating the Series, and then the Boolean Series, using expressions inside the square brackets.  For example, consider the following code:"
   ]
  },
  {
   "cell_type": "code",
   "execution_count": null,
   "id": "f020e579",
   "metadata": {},
   "outputs": [],
   "source": [
    "df[df['gdp_us_billion'] > 1000]"
   ]
  },
  {
   "cell_type": "markdown",
   "id": "69bd575e",
   "metadata": {},
   "source": [
    "Notice that this has the same effect as our previous DIBS indexing expressions, because it ends up doing the same indexing.\n",
    "\n",
    "Read the expression above as a series of sub-expressions:\n",
    "\n",
    "1. `'gdp_us_billion'`, a string literal expression, giving a string\n",
    "2. `1000`, a integer literal expression, giving an integer.\n",
    "3. `df['gdp_us_billion']`, a DICL indexing expression, giving a Series,\n",
    "4. `df['gdp_us_billion'] > 1000`, a comparison expression, comparing the\n",
    "   Series from 3. above to 1000 from 2, and resulting in a Boolean Series.\n",
    "\n",
    "The whole expression is then a DIBS expression, indexing into a Pandas\n",
    "DataFrame with a Boolean Series."
   ]
  }
 ],
 "metadata": {
  "jupytext": {
   "notebook_metadata_filter": "all,-language_info",
   "split_at_heading": true
  },
  "kernelspec": {
   "display_name": "Python (Pyodide)",
   "name": "python"
  },
  "orphan": true
 },
 "nbformat": 4,
 "nbformat_minor": 5
}
