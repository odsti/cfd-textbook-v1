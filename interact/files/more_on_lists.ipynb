{
 "cells": [
  {
   "cell_type": "markdown",
   "id": "9f75a5af",
   "metadata": {},
   "source": [
    "# More on lists\n",
    "\n",
    "This section covers some more operations on lists.   See\n",
    "[lists](lists) for an introduction to lists."
   ]
  },
  {
   "cell_type": "markdown",
   "id": "1864d22f",
   "metadata": {},
   "source": [
    "## Removing values from a list\n",
    "\n",
    "Another common operation on lists, is finding and removing values."
   ]
  },
  {
   "cell_type": "markdown",
   "id": "95fac4e6",
   "metadata": {},
   "source": [
    "### Removing values by index\n",
    "\n",
    "The `pop` method of a list, removes a value at a given position in the list, and returns that value."
   ]
  },
  {
   "cell_type": "code",
   "execution_count": null,
   "id": "fc4b0572",
   "metadata": {},
   "outputs": [],
   "source": [
    "my_list = [9, 10, 3, 0]\n",
    "my_list"
   ]
  },
  {
   "cell_type": "markdown",
   "id": "41a737d5",
   "metadata": {},
   "source": [
    "By default, with no arguments, it removes and returns the last value in the\n",
    "list:"
   ]
  },
  {
   "cell_type": "code",
   "execution_count": null,
   "id": "623d8f98",
   "metadata": {},
   "outputs": [],
   "source": [
    "last_value = my_list.pop()\n",
    "last_value"
   ]
  },
  {
   "cell_type": "markdown",
   "id": "0f6a1952",
   "metadata": {},
   "source": [
    "The list has lost the last value."
   ]
  },
  {
   "cell_type": "code",
   "execution_count": null,
   "id": "1e4fc053",
   "metadata": {},
   "outputs": [],
   "source": [
    "my_list"
   ]
  },
  {
   "cell_type": "markdown",
   "id": "9fd00cf7",
   "metadata": {},
   "source": [
    "You can give `pop` an argument, which is the position from which you want to\n",
    "get the value.   `pop` removes the element at that position, shortening the\n",
    "list by one element."
   ]
  },
  {
   "cell_type": "code",
   "execution_count": null,
   "id": "b61fa8b3",
   "metadata": {},
   "outputs": [],
   "source": [
    "mid_value = my_list.pop(1)\n",
    "mid_value"
   ]
  },
  {
   "cell_type": "code",
   "execution_count": null,
   "id": "501ee4f2",
   "metadata": {},
   "outputs": [],
   "source": [
    "my_list"
   ]
  },
  {
   "cell_type": "markdown",
   "id": "818ababc",
   "metadata": {},
   "source": [
    "### Removing values by finding\n",
    "\n",
    "Sometimes we want to remove a certain specific value from the list.\n",
    "\n",
    "For example, let's say I have this list:"
   ]
  },
  {
   "cell_type": "code",
   "execution_count": null,
   "id": "8329cd06",
   "metadata": {},
   "outputs": [],
   "source": [
    "my_list = [9, 10, 999, 0]"
   ]
  },
  {
   "cell_type": "markdown",
   "id": "e9dcdd4a",
   "metadata": {},
   "source": [
    "I realize that I don't want the 999 value.  I can `remove` it, using the `remove` method of the list:"
   ]
  },
  {
   "cell_type": "code",
   "execution_count": null,
   "id": "9c7cc314",
   "metadata": {},
   "outputs": [],
   "source": [
    "my_list.remove(999)"
   ]
  },
  {
   "cell_type": "markdown",
   "id": "ba6fbfb2",
   "metadata": {},
   "source": [
    "This modifies my list:"
   ]
  },
  {
   "cell_type": "code",
   "execution_count": null,
   "id": "d563ef56",
   "metadata": {},
   "outputs": [],
   "source": [
    "my_list"
   ]
  },
  {
   "cell_type": "markdown",
   "id": "c8c0e28c",
   "metadata": {},
   "source": [
    "What happens if I have more than one value that matches my argument to `remove`?"
   ]
  },
  {
   "cell_type": "code",
   "execution_count": null,
   "id": "8f7a5502",
   "metadata": {},
   "outputs": [],
   "source": [
    "my_list = [9, 10, 999, 0, 999]\n",
    "my_list.remove(999)"
   ]
  },
  {
   "cell_type": "markdown",
   "id": "53a3a0fc",
   "metadata": {},
   "source": [
    "We lost the *first* value that matches:"
   ]
  },
  {
   "cell_type": "code",
   "execution_count": null,
   "id": "fe2d8e05",
   "metadata": {},
   "outputs": [],
   "source": [
    "my_list"
   ]
  },
  {
   "cell_type": "markdown",
   "id": "48034139",
   "metadata": {},
   "source": [
    "## Counting number of occurrences in a list\n",
    "\n",
    "The `count` method of the list *counts* the number of occurrences of\n",
    "a particular value.  The argument to the `count` method is the value you want\n",
    "to check for."
   ]
  },
  {
   "cell_type": "code",
   "execution_count": null,
   "id": "dd4b67c5",
   "metadata": {},
   "outputs": [],
   "source": [
    "my_list = [9, 10, 999, 0, 999]\n",
    "my_list.count(999)"
   ]
  },
  {
   "cell_type": "markdown",
   "id": "229f7715",
   "metadata": {},
   "source": [
    "Now we remove one of the 999 values, and count again:"
   ]
  },
  {
   "cell_type": "code",
   "execution_count": null,
   "id": "885d5586",
   "metadata": {},
   "outputs": [],
   "source": [
    "my_list.remove(999)\n",
    "my_list"
   ]
  },
  {
   "cell_type": "code",
   "execution_count": null,
   "id": "33841d02",
   "metadata": {},
   "outputs": [],
   "source": [
    "my_list.count(999)"
   ]
  }
 ],
 "metadata": {
  "jupytext": {
   "split_at_heading": true
  },
  "kernelspec": {
   "display_name": "Python (Pyodide)",
   "name": "python"
  }
 },
 "nbformat": 4,
 "nbformat_minor": 5
}
