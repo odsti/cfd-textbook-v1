{
 "cells": [
  {
   "cell_type": "markdown",
   "id": "69bef76f",
   "metadata": {},
   "source": [
    "# Strings\n",
    "\n",
    "Much of the world's data is text, and a piece of text represented in a\n",
    "computer is called a *string*. A string can represent a word, a sentence, or\n",
    "even the contents of every book in a library. Since text can include numbers\n",
    "(like this: 5) or truth values (True), a string can also describe those\n",
    "things.\n",
    "\n",
    "The meaning of an expression depends both upon its structure and the types of\n",
    "values that are being combined. So, for instance, adding two strings together\n",
    "produces another string. This expression is still an addition expression, but\n",
    "it is combining a different type of value."
   ]
  },
  {
   "cell_type": "code",
   "execution_count": null,
   "id": "91a20c50",
   "metadata": {},
   "outputs": [],
   "source": [
    "\"data\" + \"science\""
   ]
  },
  {
   "cell_type": "markdown",
   "id": "f683eee7",
   "metadata": {},
   "source": [
    "Addition is completely literal; it combines these two strings together without\n",
    "regard for their contents. It doesn't add a space because these are different\n",
    "words; that's up to the programmer (you) to specify."
   ]
  },
  {
   "cell_type": "code",
   "execution_count": null,
   "id": "7ee2b6e3",
   "metadata": {},
   "outputs": [],
   "source": [
    "\"data\" + \" \" + \"science\""
   ]
  },
  {
   "cell_type": "markdown",
   "id": "361148f6",
   "metadata": {},
   "source": [
    "Single and double quotes can both be used to create strings: `'hi'` and `\"hi\"`\n",
    "are identical expressions. Double quotes are often preferred because they\n",
    "allow you to include apostrophes inside of strings."
   ]
  },
  {
   "cell_type": "code",
   "execution_count": null,
   "id": "51bb874f",
   "metadata": {},
   "outputs": [],
   "source": [
    "\"This won't work with a single-quoted string!\""
   ]
  },
  {
   "cell_type": "markdown",
   "id": "809cee9e",
   "metadata": {},
   "source": [
    "Why not? Try it out."
   ]
  },
  {
   "cell_type": "markdown",
   "id": "57f8728d",
   "metadata": {},
   "source": [
    "The `str` function returns a string representation of any value. Using this\n",
    "function, strings can be constructed that have embedded values."
   ]
  },
  {
   "cell_type": "code",
   "execution_count": null,
   "id": "30167494",
   "metadata": {},
   "outputs": [],
   "source": [
    "\"That's \" + str(1 + 1) + ' ' + str(True)"
   ]
  },
  {
   "cell_type": "markdown",
   "id": "0fadad41",
   "metadata": {},
   "source": [
    "{ucb-page}`Strings`"
   ]
  }
 ],
 "metadata": {
  "anaconda-cloud": {},
  "jupytext": {
   "notebook_metadata_filter": "anaconda-cloud,language_info"
  },
  "kernelspec": {
   "display_name": "Python (Pyodide)",
   "name": "python"
  },
  "language_info": {
   "codemirror_mode": {
    "name": "ipython",
    "version": 3
   },
   "file_extension": ".py",
   "mimetype": "text/x-python",
   "name": "python",
   "nbconvert_exporter": "python",
   "pygments_lexer": "ipython3",
   "version": "3.5.2"
  }
 },
 "nbformat": 4,
 "nbformat_minor": 5
}
