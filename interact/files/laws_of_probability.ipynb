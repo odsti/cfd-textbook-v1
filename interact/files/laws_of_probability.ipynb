{
 "cells": [
  {
   "cell_type": "markdown",
   "id": "432832f0",
   "metadata": {},
   "source": [
    "# Laws of probability"
   ]
  },
  {
   "cell_type": "code",
   "execution_count": null,
   "id": "3b4a3a06",
   "metadata": {
    "tags": [
     "hide-cell"
    ]
   },
   "outputs": [],
   "source": [
    "# Run this cell; do not change it.\n",
    "import numpy as np\n",
    "# Make random number generator.\n",
    "rng = np.random.default_rng()\n",
    "# Make printing of numbers a bit neater.\n",
    "np.set_printoptions(precision=4, suppress=True)\n",
    "import matplotlib.pyplot as plt\n",
    "# Make the plots look more fancy.\n",
    "plt.style.use('fivethirtyeight')"
   ]
  },
  {
   "cell_type": "markdown",
   "id": "a728ee0f",
   "metadata": {},
   "source": [
    "There are two important laws of probability that we will be using.  Do not\n",
    "worry about the details of the text below for now, this page explains what\n",
    "the rules mean.\n",
    "\n",
    "* **Multiplication rule**: We get the probability of *both* of two events\n",
    "  happening by *multiplying* the probability of the first event by the\n",
    "  probability of the second event, given we know the first has occurred.\n",
    "* **Addition rule**: We get probability of *either* of two *mutually\n",
    "  exclusive* events happening by *adding* the probability of the first event\n",
    "  to the probability of the second event."
   ]
  },
  {
   "cell_type": "markdown",
   "id": "2dc2a3a6",
   "metadata": {},
   "source": [
    "## A car park\n",
    "\n",
    "Imagine there are 100 cars in a car park.\n",
    "\n",
    "30 cars are red.\n",
    "\n",
    "Imagine next that there's a equal chance for any of the cars to leave the car\n",
    "park first.\n",
    "\n",
    "What is the probability that the first car is red?\n",
    "\n",
    "By the set up, we are saying that 30% of time the first car to leave will be read, so the probability is 0.3.\n",
    "\n",
    "That is, in the long run we would expect a red car to leave first $30 / 100$ = 30% of the time."
   ]
  },
  {
   "cell_type": "code",
   "execution_count": null,
   "id": "f1537829",
   "metadata": {},
   "outputs": [],
   "source": [
    "p_red = 30 / 100\n",
    "p_not_red = 70 / 100"
   ]
  },
  {
   "cell_type": "markdown",
   "id": "1a95d4cd",
   "metadata": {},
   "source": [
    "We can also write this mathematically:\n",
    "\n",
    "$$\n",
    "P(\\text{red}) = 0.3 \\\\\n",
    "P(\\text{not red}) = 0.7\n",
    "$$\n",
    "\n",
    "In mathematics we like to keep our notation concise, so write $P(\\text{red})$ as $P(R)$ and $P(\\text{not red})$ as $P(N)$:\n",
    "\n",
    "$$\n",
    "P(R) = 0.3 \\\\\n",
    "P(N) = 0.7\n",
    "$$\n",
    "\n",
    "We can draw this in a tree diagram.\n",
    "\n",
    "![](images/red_first_sankey.png)\n",
    "\n",
    "Here's a simulation to confirm:"
   ]
  },
  {
   "cell_type": "code",
   "execution_count": null,
   "id": "26338d9e",
   "metadata": {},
   "outputs": [],
   "source": [
    "car_colors = ['red', 'not red']\n",
    "color_ps = [0.3, 0.7]\n",
    "\n",
    "n_iters = 100_000\n",
    "first_leavers = np.repeat(['not yet known'], n_iters)\n",
    "for i in range(n_iters):\n",
    "    # Select a single car at random\n",
    "    first_leavers[i] = rng.choice(car_colors, p=color_ps)\n",
    "\n",
    "p = np.count_nonzero(first_leavers == 'red') / n_iters\n",
    "p"
   ]
  },
  {
   "cell_type": "markdown",
   "id": "0dc22adf",
   "metadata": {},
   "source": [
    "As we expect from the [law of large numbers](large_numbers), the proportion\n",
    "of red is very close to the initial probability of red.\n"
   ]
  },
  {
   "cell_type": "markdown",
   "id": "cc73c24a",
   "metadata": {},
   "source": [
    "## Addition rule\n",
    "\n",
    "Imagine that, for some reason, of the not-red cars, 25 are white, 10 are blue and 35 are black.  Let's say that a car cannot be more than one color — there are no red and white cars, for example.\n",
    "\n",
    "Put another way, the colors red, white, blue and black are *mutually\n",
    "exclusive* — if a car is red it cannot also be white or blue or black."
   ]
  },
  {
   "cell_type": "code",
   "execution_count": null,
   "id": "500b81f9",
   "metadata": {},
   "outputs": [],
   "source": [
    "p_red = 0.3\n",
    "p_white = 0.25\n",
    "p_blue = 0.10\n",
    "p_black = 0.35\n",
    "# Notice that these exhaust the probabilities (sum to 1).\n",
    "p_red + p_white + p_blue + p_black"
   ]
  },
  {
   "cell_type": "markdown",
   "id": "d7db4088",
   "metadata": {},
   "source": [
    "In mathematical notation (with $B$ for blue and $K$ for black):\n",
    "\n",
    "$$\n",
    "P(R) = 0.3 \\\\\n",
    "P(W) = 0.25 \\\\\n",
    "P(B) = 0.10 \\\\\n",
    "P(K) = 0.35\n",
    "$$\n",
    "\n",
    "What is the probability of getting *either* a red *or* a white car?\n",
    "\n",
    "Let's do a simulation:"
   ]
  },
  {
   "cell_type": "code",
   "execution_count": null,
   "id": "f0f4d00d",
   "metadata": {},
   "outputs": [],
   "source": [
    "car_colors = ['red', 'white', 'blue', 'black']\n",
    "color_ps = [0.3, 0.25, 0.10, 0.35]\n",
    "\n",
    "n_iters = 100_000\n",
    "first_leavers = np.repeat(['not yet known'], n_iters)\n",
    "for i in range(n_iters):\n",
    "    # Select a single car at random\n",
    "    first_leavers[i] = rng.choice(car_colors, p=color_ps)\n",
    "\n",
    "p = (np.count_nonzero(\n",
    "    (first_leavers == 'red') | (first_leavers == 'white'))\n",
    "    / n_iters)\n",
    "p"
   ]
  },
  {
   "cell_type": "markdown",
   "id": "42946576",
   "metadata": {},
   "source": [
    "Notice that this is very close to:"
   ]
  },
  {
   "cell_type": "code",
   "execution_count": null,
   "id": "f02d1763",
   "metadata": {},
   "outputs": [],
   "source": [
    "p_red + p_white"
   ]
  },
  {
   "cell_type": "markdown",
   "id": "1eb9f808",
   "metadata": {},
   "source": [
    "Why?   Consider the separate probabilities.  There is a 30% chance of getting a red car.  There is a 25% chance of getting a white car.  In the long run therefore, we'll tend to end up with 30% red, 25% white, and therefore 55% \\[either red or white\\].\n",
    "\n",
    "We can see this with a tree diagram.\n",
    "\n",
    "![](images/red_or_white.png)\n",
    "\n",
    "This is the *addition* rule of probability.\n",
    "\n",
    "**Addition rule**: To get the probability of *either* of two things happening,\n",
    "where those two things cannot happen at the same time, we *add* the\n",
    "probability of the first thing happening (e.g getting a red car) to the\n",
    "probability of the second thing happening (e.g getting a white car).\n",
    "\n",
    "This rule only applies when the things that can happen are *mutually\n",
    "exclusive*.  In our case, if the car is red, it *cannot also be* white or blue\n",
    "or black.  The fact that this is a red car *excludes* the possibility it is\n",
    "white or blue or black — and vice versa.\n",
    "\n",
    "Call getting a red car — a red car *event* — and getting a white car a white car event.  So $P(R)$ is the probability of the red car event, $P(W)$ is the probability of the white car event, and we can write the addition rule in this case as:\n",
    "\n",
    "$$\n",
    "P(R \\text{ or } W) = P(R) + P(W)\n",
    "$$\n",
    "\n",
    "Now, even more generally, iff event type $A$ and event type $B$ are mutually exclusive, then:\n",
    "\n",
    "$$\n",
    "P(A \\text{ or } B) = P(A) + P(B)\n",
    "$$\n"
   ]
  },
  {
   "cell_type": "markdown",
   "id": "7e3cf81f",
   "metadata": {},
   "source": [
    "## Multiplication rule\n",
    "\n",
    "Now consider another aspect of the cars -- the *make*.\n",
    "\n",
    "Let's say this is a car park for taxis, so there are lots of Toyotas.  In fact, let's say, overall, that 50% of the cars in the car park are Toyotas.\n",
    "\n",
    "However, red is just not a favored color for Toyotas, at least among these owners.\n",
    "\n",
    "Of the 30 (30%) of red cars, only 20% are Toyotas.\n",
    "\n",
    "Think of this probability as the probability that a car is Toyota, given that is red:\n",
    "\n",
    "$$\n",
    "P(\\text{Toyota} \\text{ given } R) = 0.2\n",
    "$$\n",
    "\n",
    "This is a *conditional probability*, because it's a probability (of being\n",
    "a Toyota) conditional on the fact the car is red.\n",
    "\n",
    "Because this is such a common kind of statement in probability, there's a special symbol for it — `|`.  Read that symbol as \"given\".  So read:\n",
    "\n",
    "$$\n",
    "P(\\text{Toyota} | R) = 0.2\n",
    "$$\n",
    "\n",
    "as \"the probability of the car being a Toyota, given that we know the car is\n",
    "red\".\n",
    "\n",
    "In code:"
   ]
  },
  {
   "cell_type": "code",
   "execution_count": null,
   "id": "d44a4da6",
   "metadata": {},
   "outputs": [],
   "source": [
    "p_toyota_given_red = 0.2"
   ]
  },
  {
   "cell_type": "markdown",
   "id": "9e0fbe6b",
   "metadata": {},
   "source": [
    "Now — what is the probability that the first car leaving the car park will be\n",
    "a *red Toyota*?  That is, the probability that the car is *both* red *and* a Toyota.\n",
    "\n",
    "You might think this — I know that 30 / 100 cars are red, I know that 20% of these red cars are Toyotas, 30 * 0.2 = 6 — so there are 6 red Toyotas, and therefore the probability of a red Toyota is 0.06.  You'd be right, and you have just applied the multiplication rule below.  But bear with us while we go through the logic; we have deliberately chosen a simple case here, where the multiplicaiton rule is more obvious, but let's establish the general case.\n",
    "\n",
    "Write the probability of red *and* Toyota as:\n",
    "\n",
    "$$\n",
    "P(\\text{Toyota} \\text{ and } R)\n",
    "$$\n",
    "\n",
    "How do we combine the information $P(R) = 0.3$ and $P(\\text{Toyota}\n",
    "| R = 0.2$ to get $P(\\text{Toyota} \\text{ and } R)$?\n",
    "\n",
    "We can do a simulation:"
   ]
  },
  {
   "cell_type": "code",
   "execution_count": null,
   "id": "ad62ab73",
   "metadata": {},
   "outputs": [],
   "source": [
    "car_colors = ['red', 'white', 'blue', 'black']\n",
    "color_ps = [0.3, 0.25, 0.10, 0.35]\n",
    "car_makes = ['Toyota', 'not Toyota']\n",
    "ps_toyota_given_red = [0.2, 0.8]\n",
    "\n",
    "n_iters = 100_000\n",
    "first_leaver_makes = np.repeat(['not yet known'], n_iters)\n",
    "for i in range(n_iters):\n",
    "    first_leaver = rng.choice(car_colors, p=color_ps)\n",
    "    if first_leaver == 'red':\n",
    "        # Only select a make if color was red.\n",
    "        first_leaver_makes[i] = rng.choice(car_makes,\n",
    "                                           p=ps_toyota_given_red)\n",
    "\n",
    "p = (np.count_nonzero(\n",
    "    first_leaver_makes == 'Toyota')  # Only set for red cars\n",
    "    / n_iters)\n",
    "print('Proportion of cars that are red Toyotas', p)"
   ]
  },
  {
   "cell_type": "markdown",
   "id": "9be7c4c7",
   "metadata": {},
   "source": [
    "Notice that this is very close to:"
   ]
  },
  {
   "cell_type": "code",
   "execution_count": null,
   "id": "d0d2f1e2",
   "metadata": {},
   "outputs": [],
   "source": [
    "p_toyota_given_red * p_red"
   ]
  },
  {
   "cell_type": "markdown",
   "id": "8779b338",
   "metadata": {},
   "source": [
    "Again — we can show ourselves this must be true with a tree (Sankey) diagram.\n",
    "\n",
    "![](images/red_and_toyota.png)\n",
    "\n",
    "We have just discovered the:\n",
    "\n",
    "**Multiplication rule**: To get the probability of *both* of two things\n",
    "happening, we *multiply* the probability of the first thing happening (e.g\n",
    "getting a red car) by the probability of the second thing happening, once we\n",
    "know the first (here, the probability of getting a Toyota once we know we have\n",
    "a red car).\n",
    "\n",
    "In our case, in notation:\n",
    "\n",
    "$$\n",
    "P(\\text{Toyota} \\text{ and } R) = P(\\text{Toyota} | R) * P(R)\n",
    "$$\n",
    "\n",
    "In general, for two events $A$ and $B$:\n",
    "\n",
    "$$\n",
    "P(A \\text{ and } B) = P(B | A) * P(A)\n",
    "$$\n",
    "\n",
    "**Rule**: to find the probability of both of two events, we can *multiply* the\n",
    "probability of the first event, by the *conditional* probability of the second\n",
    "event, given the first.  This is the *only* situation in which we can multiply to get the probability of *and*."
   ]
  },
  {
   "cell_type": "markdown",
   "id": "f08b092f",
   "metadata": {},
   "source": [
    "## The multiplication trap\n",
    "\n",
    "One common mistake in using the multiplication rule, is to forget that the\n",
    "probability we multiply by is *conditional*.  That is to forget the $P(B | A)$\n",
    "part, and just use $P(B)$.\n",
    "\n",
    "In our example above, of all cars in the car park — 50% were Toyotas — the car\n",
    "park is popular with taxis.   But only 20% of the red cars were Toyotas.  It\n",
    "turns out that red is not a popular color with owners of Toyotas.\n",
    "\n",
    "So then, *overall*:\n",
    "\n",
    "$$\n",
    "P(\\text{Toyota}) = 0.5\n",
    "$$\n",
    "\n",
    "This is an unconditional probability — it doesn't take into account (is not\n",
    "conditional on) the color of the car.\n",
    "\n",
    "A common mistake is to think that this figure — the unconditional probability\n",
    "(here $P(\\text{Toyota}) = 0.5$) is the probability we want — when we actually\n",
    "need the *conditional* probability $P(\\text{Toyota} | R)$.\n",
    "\n",
    "We can only use an *unconditional* probability in this situation when it the\n",
    "same as the conditional probability, and this would only be true when — in our\n",
    "case — the red and the not-red cars have exactly the same chance of being\n",
    "Toyota. Put mathematically:\n",
    "\n",
    "$$\n",
    "P(\\text{Toyota}) = P(\\text{Toyota} | R) \\\\\n",
    "\\text{ only if } \\\\\n",
    "P(\\text{Toyota} | R) = P(\\text{not Toyota} | R) = P(\\text{Toyota})\n",
    "$$\n",
    "\n",
    "In that special case — where the conditional probability is the same for both\n",
    "red and not red — we say that the chance of getting a Toyota is *independent*\n",
    "of the red / not red color.  And that is not true in our case.  In our case:\n",
    "\n",
    "$$\n",
    "P(\\text{Toyota}) = 0.5 \\\\\n",
    "P(\\text{Toyota} | R) = 0.2 \\\\\n",
    "P(\\text{Toyota}) \\ne P(\\text{Toyota} | R)\n",
    "$$\n",
    "\n",
    "Put another way, in our case, the make of the car is *not* independent of the\n",
    "red / not red color.\n",
    "\n",
    "The multiplication rule then only applies when multiplying by a conditional\n",
    "probability.  Only when the conditional probability happens to be the same as\n",
    "the unconditional probability, can we multiply by the unconditional\n",
    "probability.  The conditional and unconditional probabilities are the same\n",
    "when the events of interest are *independent*.  In fact that is what\n",
    "*independent* means, in terms of probability."
   ]
  },
  {
   "cell_type": "markdown",
   "id": "13ad2b7c",
   "metadata": {},
   "source": [
    "## A last refinement of notation\n",
    "\n",
    "We can now refine our *addition* rule above, by putting our *mutually\n",
    "exclusive* rule more formally.\n",
    "\n",
    "Remember we said that:\n",
    "\n",
    "$$\n",
    "P(A \\text{ or } B) = P(A) + P(B)\n",
    "$$\n",
    "\n",
    "when $A$ and $B$ are mutually exclusive.  We can now write that mutually exclusive rule as:\n",
    "\n",
    "$$\n",
    "P(A \\text{ and } B) = 0\n",
    "$$\n",
    "\n",
    "($A$ and $B$ never occur together)."
   ]
  }
 ],
 "metadata": {
  "jupytext": {
   "notebook_metadata_filter": "all,-language_info",
   "split_at_heading": true
  },
  "kernelspec": {
   "display_name": "Python (Pyodide)",
   "name": "python"
  }
 },
 "nbformat": 4,
 "nbformat_minor": 5
}
