{
 "cells": [
  {
   "cell_type": "markdown",
   "id": "3e58ab8f",
   "metadata": {},
   "source": [
    "# Conditional Statements\n",
    "\n",
    "{ucb-page}`Conditional_Statements`\n",
    "\n",
    "In many situations, actions and results depends on a specific set of\n",
    "conditions being satisfied. For example, individuals in randomized\n",
    "controlled trials receive the treatment if they have been assigned to\n",
    "the treatment group. A gambler makes money if she wins her bet.\n",
    "\n",
    "In this section we will learn how to describe such situations using\n",
    "code. A *conditional statement* is a multi-line statement that allows\n",
    "Python to choose among different alternatives based on the truth value\n",
    "of an expression. While conditional statements can appear anywhere,\n",
    "they appear most often within the body of a function in order to\n",
    "express alternative behavior depending on argument values.\n",
    "\n",
    "A conditional statement always begins with an `if` header, which is a single\n",
    "line followed by an indented body. The body is only executed if the expression\n",
    "directly following `if` (called the *if expression*) evaluates to a true value.\n",
    "If the *if expression* evaluates to a false value, then the body of the `if` is\n",
    "skipped.\n",
    "\n",
    "Let us start by a conditional that sets the variable `result` to the string\n",
    "`'Positive'`  for a positive number:\n",
    "\n",
    "```python\n",
    "x = 3\n",
    "result = 'Not sure yet'\n",
    "if x > 0:\n",
    "    result = 'Positive'\n",
    "result\n",
    "```\n",
    "\n",
    "Let us work through what Python will do when we evaluate the code above\n",
    "(repeated in the cell below):\n",
    "\n",
    "1. `x` gets the value CR of int 3.\n",
    "2.   Python evaluates the assignment statement `result = 'Not sure yet'`. The\n",
    "     `result` variable has the value: CR of \"Not sure yet\".\n",
    "3.   Python evaluates the *if expression* `x > 0`.  The result is the\n",
    "     CR of `True`.  This is a true value, so Python will execute the body of\n",
    "     the if statement.\n",
    "4.   The body of the if statement is the single line `result = 'Positive'`.\n",
    "     Python reassigns the `result` variable to have the value: CR of\n",
    "     \"Positive\".\n",
    "1.   `result` first evaluates `result` to get the CR of \"Positive\", and, as\n",
    "     this is an *expression*, Jupyter shows us the result.\n",
    "\n",
    "Here's the code as a code cell:"
   ]
  },
  {
   "cell_type": "code",
   "execution_count": null,
   "id": "c86927bc",
   "metadata": {},
   "outputs": [],
   "source": [
    "x = 3\n",
    "result = 'Not sure yet'\n",
    "if x > 0:\n",
    "    result = 'Positive'\n",
    "result"
   ]
  },
  {
   "cell_type": "markdown",
   "id": "fd13ed7a",
   "metadata": {},
   "source": [
    "The cell shows `'Positive'` if `x` is a positive number, like `3`. But if `x`\n",
    "is not a positive number, such as `-3`, then this happens:\n",
    "\n",
    "1. `x` has the value CR of int -3.\n",
    "1. `result` gets the value: CR of \"Not sure yet\".  So far this is the same as\n",
    "   for the case of `x` equal to 3 above.\n",
    "1. `x > 0` evaluates to `False`, so Python *skips the body of the if\n",
    "   statement*.\n",
    "1. `result` evaluates `result` to get the CR of \"Not sure yet\" (because this\n",
    "   hasn't changed), and Jupyter shows us the result."
   ]
  },
  {
   "cell_type": "code",
   "execution_count": null,
   "id": "71201b3d",
   "metadata": {},
   "outputs": [],
   "source": [
    "x = -3\n",
    "result = 'Not sure yet'\n",
    "if x > 0:\n",
    "    result = 'Positive'\n",
    "result"
   ]
  },
  {
   "cell_type": "markdown",
   "id": "bbe7f564",
   "metadata": {},
   "source": [
    "Let us refine our cell to give `Not positive` if `x` is a negative number. We\n",
    "can do this by adding an `else` clause.  If the *if expression* evaluates to a\n",
    "true value, then Python executes the first clause, after the if expression, as\n",
    "before.  If it evaluates to a false value, Python executes the clause following\n",
    "the `else`, instead."
   ]
  },
  {
   "cell_type": "code",
   "execution_count": null,
   "id": "c096a01d",
   "metadata": {},
   "outputs": [],
   "source": [
    "x = -3\n",
    "result = 'Not sure yet'\n",
    "if x > 0:\n",
    "    result = 'Positive'\n",
    "else:\n",
    "    result = 'Not positive'\n",
    "result"
   ]
  },
  {
   "cell_type": "markdown",
   "id": "7c8a9a4e",
   "metadata": {},
   "source": [
    "Python sets `x` to have the value CR of int -3.  It checks `x > 0` and finds a\n",
    "false value, so it skips the first clause, and executes the clause following\n",
    "`else:`. This show `'Not positive'`.  If you set `x` above to 3, you get\n",
    "`Positive`, because Python will evaluate the `result = 'Positive'` body, and\n",
    "not the `result = 'Not positive` body.\n",
    "\n",
    "Notice that the `if` statement now deals with all possible values of `x`.\n",
    "Whatever the value of `x` we with either execute `result = 'Positive'` or we\n",
    "will execute `result = 'Not positive'`.  We can now get rid of the first line\n",
    "in the function `result = 'Not sure yet'` because we will always change\n",
    "`result` from that value, in the `if` statement:"
   ]
  },
  {
   "cell_type": "code",
   "execution_count": null,
   "id": "6f361632",
   "metadata": {},
   "outputs": [],
   "source": [
    "# Classify without the unnecessary first assignment.\n",
    "x = -3\n",
    "if x > 0:\n",
    "    result = 'Positive'\n",
    "else:\n",
    "    result = 'Not positive'\n",
    "result"
   ]
  },
  {
   "cell_type": "markdown",
   "id": "9052ba7a",
   "metadata": {},
   "source": [
    "Now imagine we prefer our cell to show `'Negative` for negative values and\n",
    "`Zero` if the input value is 0.  It seems like we need three clauses, one each\n",
    "for positive, negative and 0 values.\n",
    "\n",
    "We can do this by adding an `elif` clause, where `elif` is Python's\n",
    "shorthand for the phrase \"else if\"."
   ]
  },
  {
   "cell_type": "code",
   "execution_count": null,
   "id": "5c4313b3",
   "metadata": {},
   "outputs": [],
   "source": [
    "x = -3\n",
    "if x > 0:\n",
    "    result = 'Positive'\n",
    "elif x == 0:  # elif short for \"else if\"\n",
    "    result = 'Zero'\n",
    "else:\n",
    "    result = 'Negative'\n",
    "result"
   ]
  },
  {
   "cell_type": "markdown",
   "id": "44d5af30",
   "metadata": {},
   "source": [
    "Now the cell returns the correct answer when the input is -3, 0, or 3:"
   ]
  },
  {
   "cell_type": "code",
   "execution_count": null,
   "id": "9f860345",
   "metadata": {},
   "outputs": [],
   "source": [
    "x = 3\n",
    "if x > 0:\n",
    "    result = 'Positive'\n",
    "elif x == 0:  # elif short for \"else if\"\n",
    "    result = 'Zero'\n",
    "else:\n",
    "    result = 'Negative'\n",
    "result"
   ]
  },
  {
   "cell_type": "code",
   "execution_count": null,
   "id": "caff2962",
   "metadata": {},
   "outputs": [],
   "source": [
    "x = 0\n",
    "if x > 0:\n",
    "    result = 'Positive'\n",
    "elif x == 0:  # elif short for \"else if\"\n",
    "    result = 'Zero'\n",
    "else:\n",
    "    result = 'Negative'\n",
    "result"
   ]
  },
  {
   "cell_type": "markdown",
   "id": "2cfa9573",
   "metadata": {},
   "source": [
    "If `x` is equal to 3, Python evaluates the if expression `x < 0`.  The\n",
    "expression gives a `True` value, so Python executes the first clause, sets\n",
    "`result` to equal \"Positive\" and skips to the end of the `if` statement.\n",
    "Finally it evaluates `result` to show \"Positive\".\n",
    "\n",
    "If `x` equals 0, evaluates the if expression `x < 0`.  The expression is a\n",
    "`False` value, so Python moves on to the next clause, which is `elif x == 0:`.\n",
    "This has another *if expression* `x == 0`.  It is a `True` value, so Python\n",
    "executes this clause, and sets `result` equal to \"Zero\".  Then it skips to the\n",
    "end of the `if` statement, and shows `result`.\n",
    "\n",
    "If `x` equals -3, evaluates the if expression `x < 0`.  The expression is a\n",
    "false value, so Python moves on to the next clause, which is `elif x == 0`.\n",
    "This expression is also a `False` value so Python moves to the next clause,\n",
    "which is the `else:` clause, and executes that, setting `result` to be\n",
    "\"Negative\". Now we are at the end of the `if` statement, and we evaluate and\n",
    "show `result`.\n",
    "\n",
    "We can have as many `elif` clauses as we want.  For example, imagine we\n",
    "want to classify the number into one of the following categories:\n",
    "\n",
    "1. above 10 (`'Large positive'`)\n",
    "1. from (not including) 0 through 10 (`'Small positive'`)\n",
    "1. exactly 0 (`'Zero'`)\n",
    "1. from (not including) 0 through -10 (`'Small negative'`)\n",
    "1. below -10 (`'Large negative'`)\n"
   ]
  },
  {
   "cell_type": "code",
   "execution_count": null,
   "id": "c483a9f0",
   "metadata": {},
   "outputs": [],
   "source": [
    "x = -100\n",
    "if x > 10:\n",
    "    result = 'Large positive'\n",
    "elif x > 0:\n",
    "    result = 'Small positive'\n",
    "elif x == 0:\n",
    "    result = 'Zero'\n",
    "elif x >= -10:  # Greater than or equal to\n",
    "    result = 'Small negative'\n",
    "else:\n",
    "    result = 'Large negative'\n",
    "result"
   ]
  },
  {
   "cell_type": "code",
   "execution_count": null,
   "id": "9578a0dc",
   "metadata": {},
   "outputs": [],
   "source": [
    "x = 0\n",
    "if x > 10:\n",
    "    result = 'Large positive'\n",
    "elif x > 0:\n",
    "    result = 'Small positive'\n",
    "elif x == 0:\n",
    "    result = 'Zero'\n",
    "elif x >= -10:  # Greater than or equal to\n",
    "    result = 'Small negative'\n",
    "else:\n",
    "    result = 'Large negative'\n",
    "result"
   ]
  },
  {
   "cell_type": "markdown",
   "id": "eff46e58",
   "metadata": {},
   "source": [
    "## The General Form\n",
    "\n",
    "A conditional statement can also have multiple clauses with multiple bodies, and only one of those bodies can ever be executed. The general format of a multi-clause conditional statement appears below:\n",
    "\n",
    "```\n",
    "if <if expression>:\n",
    "    <if body>\n",
    "elif <elif expression 0>:\n",
    "    <elif body 0>\n",
    "elif <elif expression 1>:\n",
    "    <elif body 1>\n",
    "...\n",
    "else:\n",
    "    <else body>\n",
    "```\n",
    "\n",
    "There is always exactly one `if` clause, but there can be any number of `elif`\n",
    "clauses. Python will evaluate the `if` and `elif` expressions in the headers in\n",
    "order until one is found that is a true value, then execute the corresponding\n",
    "body. The `else` clause is optional. When an `else` header is provided, its\n",
    "*else body* is executed only if none of the header expressions of the previous\n",
    "clauses are true. The `else` clause must always come at the end (or not at\n",
    "all).\n",
    "\n",
    "{ucb-page}`Conditional_Statements`"
   ]
  }
 ],
 "metadata": {
  "kernelspec": {
   "display_name": "Python (Pyodide)",
   "name": "python"
  },
  "orphan": true
 },
 "nbformat": 4,
 "nbformat_minor": 5
}
