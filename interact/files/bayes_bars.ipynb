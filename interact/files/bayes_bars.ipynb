{
 "cells": [
  {
   "cell_type": "markdown",
   "id": "753ac4ab",
   "metadata": {},
   "source": [
    "# Bayes and bars"
   ]
  },
  {
   "cell_type": "code",
   "execution_count": null,
   "id": "ac549b6e",
   "metadata": {
    "tags": [
     "hide-cell"
    ]
   },
   "outputs": [],
   "source": [
    "# Run this cell; do not change it.\n",
    "import numpy as np\n",
    "import pandas as pd\n",
    "pd.set_option('mode.copy_on_write', True)\n",
    "# Make printing of numbers a bit neater.\n",
    "np.set_printoptions(precision=4, suppress=True)\n",
    "import matplotlib.pyplot as plt\n",
    "# Make the plots look more fancy.\n",
    "plt.style.use('fivethirtyeight')"
   ]
  },
  {
   "cell_type": "markdown",
   "id": "acda280b",
   "metadata": {},
   "source": [
    "The [reverse probability page](first_bayes) has a game, that we analyzed by\n",
    "simulation, and then by reflection.\n",
    "\n",
    "The game is:\n",
    "\n",
    "* I have two boxes; *BOX4* with 4 red balls and 1 green ball, and *BOX2* with\n",
    "  two red balls and three green balls.\n",
    "* I offer you one of these two boxes at random, but with a 30% chance of\n",
    "  getting BOX4 and a 70% chance of getting BOX2.\n",
    "* You draw a ball at random from the box, and you get a red ball.\n",
    "* What is the probability that I gave you BOX4?\n",
    "\n",
    "We found by simulation, and later by [reflection and\n",
    "calculation](bayes_theorem), that the probability is around 0.462.\n",
    "\n",
    "The [Bayes theorem page](bayes_theorem) described the logic we discovered, but\n",
    "we can also write this on a Sankey diagram:\n",
    "\n",
    "![](images/box4_2_sankey_labeled.jpg)\n",
    "\n",
    "Here's the calculation for the two boxes:"
   ]
  },
  {
   "cell_type": "code",
   "execution_count": null,
   "id": "1fef8e18",
   "metadata": {},
   "outputs": [],
   "source": [
    "p_box4 = 0.3  # P(B4)\n",
    "p_box2 = 0.7  # P(B2)\n",
    "p_red_given_box4 = 0.8  # 4/5; P(R | B4)\n",
    "p_red_given_box2 = 0.4  # 2/5; P(R | B2)\n",
    "p_box4_and_red = p_box4 * p_red_given_box4  # P(B4 and R)\n",
    "p_box2_and_red = p_box2 * p_red_given_box2  # P(B2 and R)\n",
    "p_red = p_box4_and_red + p_box2_and_red  # P of any way of getting red.\n",
    "p_box4_given_red = p_box4_and_red / p_red\n",
    "\n",
    "print('Probability I gave you BOX4, given you drew a red ball:')\n",
    "p_box4_given_red"
   ]
  },
  {
   "cell_type": "markdown",
   "id": "691868aa",
   "metadata": {},
   "source": [
    "## Three boxes\n",
    "\n",
    "Now make the game just slightly more complicated, by adding the option of\n",
    "another box, BOX3.  BOX3 has three red balls and two green balls, giving a 60%\n",
    "chance we will draw a red ball from BOX3."
   ]
  },
  {
   "cell_type": "code",
   "execution_count": null,
   "id": "cf44c584",
   "metadata": {},
   "outputs": [],
   "source": [
    "p_red_given_box3 = 0.6"
   ]
  },
  {
   "cell_type": "markdown",
   "id": "a5395257",
   "metadata": {},
   "source": [
    "Now let's say that there's a 20% chance of BOX2, and a 50% chance of BOX2:"
   ]
  },
  {
   "cell_type": "code",
   "execution_count": null,
   "id": "26ef4217",
   "metadata": {},
   "outputs": [],
   "source": [
    "p_box4 = 0.3  # 30% chance of BOX4\n",
    "p_box3 = 0.2  # 20% chance of BOX3\n",
    "p_box2 = 0.5  # 50% chance of BOX2"
   ]
  },
  {
   "cell_type": "markdown",
   "id": "9d023671",
   "metadata": {},
   "source": [
    "Now, what is the chance that I gave you BOX4, if you know you have drawn a\n",
    "red?\n",
    "\n",
    "We could do that by simulation, but let's leap straight to calculation, using the same logic as above.\n",
    "\n",
    "We really like our Sankey diagrams, so we start with that:\n",
    "\n",
    "![](images/box4_3_2_rg_sankey.jpg)\n",
    "\n",
    "We now have three ways of getting red — from BOX4, BOX3 or BOX2.  The chances\n",
    "of *both* red and the given boxes is now:"
   ]
  },
  {
   "cell_type": "code",
   "execution_count": null,
   "id": "f92044d7",
   "metadata": {},
   "outputs": [],
   "source": [
    "p_box4_and_red = p_box4 * p_red_given_box4  # P(B4 and R)\n",
    "p_box3_and_red = p_box3 * p_red_given_box3  # P(B3 and R)\n",
    "p_box2_and_red = p_box2 * p_red_given_box2  # P(B2 and R)"
   ]
  },
  {
   "cell_type": "markdown",
   "id": "8122ef9c",
   "metadata": {},
   "source": [
    "The overall probability of red on any one trial is the sum of the probabilities of red with each of the three boxes:"
   ]
  },
  {
   "cell_type": "code",
   "execution_count": null,
   "id": "4da76d94",
   "metadata": {},
   "outputs": [],
   "source": [
    "p_red_3_box_game = p_box4_and_red + p_box3_and_red + p_box2_and_red\n",
    "p_red_3_box_game"
   ]
  },
  {
   "cell_type": "markdown",
   "id": "452d3261",
   "metadata": {},
   "source": [
    "The probability I gave you BOX4, given you got a red ball, is the probability\n",
    "of BOX4 *and* red, divided by the probability of red from any box (above):"
   ]
  },
  {
   "cell_type": "code",
   "execution_count": null,
   "id": "995a985a",
   "metadata": {},
   "outputs": [],
   "source": [
    "p_box4_given_red_3_box = p_box4_and_red / p_red_3_box_game\n",
    "\n",
    "print('Three box version of game')\n",
    "print('Probability I gave you BOX4, given you drew a red ball:')\n",
    "p_box4_given_red_3_box"
   ]
  },
  {
   "cell_type": "markdown",
   "id": "12a495a3",
   "metadata": {},
   "source": [
    "## Three boxes, in arrays\n",
    "\n",
    "The three box version of the game might have prompted you to think that we are doing similar calculation on several values.  You might have thought of putting the various probabilities into arrays, to do the calculation.\n",
    "\n",
    "Let us do that, for the three box version of the game."
   ]
  },
  {
   "cell_type": "code",
   "execution_count": null,
   "id": "94ad4ca0",
   "metadata": {},
   "outputs": [],
   "source": [
    "# Array version of the 3 box calculation\n",
    "# Probabilities of boxes 4, 3, and 2.\n",
    "p_boxes = np.array([0.3, 0.2, 0.5])\n",
    "# Probabilities of red given boxes 4, 3, 2\n",
    "p_red_given_boxes = np.array([0.8, 0.6, 0.4])"
   ]
  },
  {
   "cell_type": "markdown",
   "id": "eda07eca",
   "metadata": {},
   "source": [
    "Now we use our arrays to calculate the probabilities of the various boxes\n",
    "*and* red:"
   ]
  },
  {
   "cell_type": "code",
   "execution_count": null,
   "id": "46553554",
   "metadata": {},
   "outputs": [],
   "source": [
    "p_boxes_and_red = p_boxes * p_red_given_boxes\n",
    "p_boxes_and_red"
   ]
  },
  {
   "cell_type": "markdown",
   "id": "6fa230a4",
   "metadata": {},
   "source": [
    "The probability of red from any box:"
   ]
  },
  {
   "cell_type": "code",
   "execution_count": null,
   "id": "3a89bf8b",
   "metadata": {},
   "outputs": [],
   "source": [
    "p_red = np.sum(p_boxes_and_red)\n",
    "p_red"
   ]
  },
  {
   "cell_type": "markdown",
   "id": "0db3348c",
   "metadata": {},
   "source": [
    "Finally:"
   ]
  },
  {
   "cell_type": "code",
   "execution_count": null,
   "id": "455a9dc0",
   "metadata": {},
   "outputs": [],
   "source": [
    "p_box4_given_red_3_box = p_boxes_and_red[0] / p_red\n",
    "\n",
    "print('Three box version of game, array calculation')\n",
    "print('Probability I gave you BOX4, given you drew a red ball:')\n",
    "p_box4_given_red_3_box"
   ]
  },
  {
   "cell_type": "markdown",
   "id": "c8efaf76",
   "metadata": {},
   "source": [
    "In fact, the array version makes it more obvious that we can quickly calculate the probability of any box, given we have drawn a red:"
   ]
  },
  {
   "cell_type": "code",
   "execution_count": null,
   "id": "4545c865",
   "metadata": {},
   "outputs": [],
   "source": [
    "print('Probabilities I gave you box4, 3, 2, given red')\n",
    "p_boxes_and_red / p_red"
   ]
  },
  {
   "cell_type": "markdown",
   "id": "6c2b7f08",
   "metadata": {},
   "source": [
    "Just for fun, let's do all that in a data frame:"
   ]
  },
  {
   "cell_type": "code",
   "execution_count": null,
   "id": "9a9adba0",
   "metadata": {},
   "outputs": [],
   "source": [
    "boxes_3 = pd.DataFrame()\n",
    "boxes_3['P(B)'] = p_boxes\n",
    "boxes_3['P(R given B)'] = p_red_given_boxes\n",
    "boxes_3['P(B and R)'] = boxes_3['P(B)'] * boxes_3['P(R given B)']\n",
    "boxes_3['P(B given R)'] = boxes_3['P(B and R)'] / boxes_3['P(B and R)'].sum()\n",
    "boxes_3.index = ['B4', 'B3', 'B2']\n",
    "boxes_3"
   ]
  },
  {
   "cell_type": "markdown",
   "id": "1beb1cb7",
   "metadata": {},
   "source": [
    "## Three boxes, in bars\n",
    "\n",
    "We can show this array version of the calculation graphically, by using the\n",
    "length of bars to express the probabilities."
   ]
  },
  {
   "cell_type": "code",
   "execution_count": null,
   "id": "36701fc1",
   "metadata": {},
   "outputs": [],
   "source": [
    "boxes_3.plot.barh(subplots=True, legend=False);\n",
    "plt.subplots_adjust(hspace=0.8)  # Space out the plots a bit."
   ]
  },
  {
   "cell_type": "markdown",
   "id": "7bf2c416",
   "metadata": {},
   "source": [
    "Our inputs are the first two arrays (plots) - $P(B)$ and $P(R | B)$.\n",
    "\n",
    "The third plot, $P(B \\cap R)$, is the first plot multiplied by the second.\n",
    "\n",
    "The last plot, $P(B | R)$ is the third plot divided by the sum of the third plot.\n",
    "This means that all the bars get scaled by the same amount; the fourth plot is\n",
    "just a rescaled version of the third.\n"
   ]
  },
  {
   "cell_type": "markdown",
   "id": "bfc9bbe5",
   "metadata": {},
   "source": [
    "## All six boxes\n",
    "\n",
    "We upgrade the game one more time.\n",
    "\n",
    "Now say I can hand you any one of *six* possible boxes.  You can guess the\n",
    "contents of the new boxes.  BOX5 has five red balls and no green balls.  BOX1\n",
    "has one red ball and four green balls.  BOX0 has five green balls.\n",
    "\n",
    "This time, there is an equal chance of P=1/6 that I will hand you each type of\n",
    "box.\n",
    "\n",
    "Again, you have drawn a red.  What are the chances that I have given you BOX4?\n",
    "Or indeed, any of the other boxes?\n",
    "\n",
    "The Sankey diagram gets a little spidery, but we can put all that into the\n",
    "data frame in the same form as for the three boxes."
   ]
  },
  {
   "cell_type": "code",
   "execution_count": null,
   "id": "393f635e",
   "metadata": {},
   "outputs": [],
   "source": [
    "boxes_6 = pd.DataFrame()\n",
    "boxes_6['P(B)'] = np.ones(6) * 1/6  # Same probability for each box.\n",
    "boxes_6['P(R given B)'] = np.array([1, 0.8, 0.6, 0.4, 0.2, 0])\n",
    "boxes_6['P(B and R)'] = boxes_6['P(B)'] * boxes_6['P(R given B)']\n",
    "boxes_6['P(B given R)'] = boxes_6['P(B and R)'] / boxes_6['P(B and R)'].sum()\n",
    "boxes_6.index = ['B5', 'B4', 'B3', 'B2', 'B1', 'B0']\n",
    "boxes_6"
   ]
  },
  {
   "cell_type": "code",
   "execution_count": null,
   "id": "2d54cc7a",
   "metadata": {},
   "outputs": [],
   "source": [
    "boxes_6.plot.barh(subplots=True, legend=False);\n",
    "plt.subplots_adjust(hspace=0.8)  # Space out the plots."
   ]
  },
  {
   "cell_type": "markdown",
   "id": "8c157248",
   "metadata": {},
   "source": [
    "Notice that, in this case, where the probability of each box is the same, we\n",
    "do not really need to calculate the third row, we can just divide the second\n",
    "row by the sum of the second row.  This is because, when the probability of\n",
    "each box is the same, scaling the probability does not change the lengths of\n",
    "the bars relative to each other, so, when we divide each bar by the sum of the\n",
    "bar lengths, the result is the same."
   ]
  },
  {
   "cell_type": "code",
   "execution_count": null,
   "id": "bec4ec20",
   "metadata": {},
   "outputs": [],
   "source": [
    "# Same result skipping the multiplication by initial box probabilities.\n",
    "boxes_6['P(R given B)'] / boxes_6['P(R given B)'].sum()"
   ]
  },
  {
   "cell_type": "markdown",
   "id": "1833b356",
   "metadata": {},
   "source": [
    "If you do not mind a little basic algebra, see why this must be true in the\n",
    "[equal initial p](equal_initial_p) page."
   ]
  },
  {
   "cell_type": "markdown",
   "id": "70f46789",
   "metadata": {},
   "source": [
    "## Confidence and boxes\n",
    "\n",
    "Consider the 6 box probabilities above.\n",
    "\n",
    "Now consider the following question: You have drawn a red.  What is the\n",
    "probability that the box contained at least 3 red balls?\n",
    "\n",
    "From the [addition rule](laws_of_probability), this is the sum of the $P(B |\n",
    "R)$ probabilities for boxes 3, 4, and 5."
   ]
  },
  {
   "cell_type": "code",
   "execution_count": null,
   "id": "45a9c7c5",
   "metadata": {},
   "outputs": [],
   "source": [
    "p_at_least_3 = (boxes_6.loc['B5', 'P(B given R)'] +\n",
    "                boxes_6.loc['B4', 'P(B given R)'] +\n",
    "                boxes_6.loc['B3', 'P(B given R)'])\n",
    "p_at_least_3"
   ]
  },
  {
   "cell_type": "markdown",
   "id": "29177349",
   "metadata": {},
   "source": [
    "You have `p_at_least_3` *confidence* that the box I gave you had at least\n",
    "three red balls.\n",
    "\n",
    "This is the logic for *Bayesian confidence intervals*.  These are sometimes\n",
    "called [credible intervals](https://en.wikipedia.org/wiki/Credible_interval).\n",
    "We can reason about plausible states of the world that led to our results.  In\n",
    "our case we can reason about which box we have drawn from (state of the\n",
    "world), given we have seen a red ball (the result).\n",
    "\n",
    "Now we are ready to seek confidence for something other than a game."
   ]
  }
 ],
 "metadata": {
  "jupytext": {
   "notebook_metadata_filter": "all,-language_info",
   "split_at_heading": true
  },
  "kernelspec": {
   "display_name": "Python (Pyodide)",
   "name": "python"
  }
 },
 "nbformat": 4,
 "nbformat_minor": 5
}
