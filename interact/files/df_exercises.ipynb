{
 "cells": [
  {
   "cell_type": "markdown",
   "id": "e39c9158",
   "metadata": {},
   "source": [
    "# Data Frames\n",
    "\n",
    "By [Alex Jermakov](https://github.com/AlexBlck).\n",
    "\n",
    "We will start, as usual, by importing all the libraries we need."
   ]
  },
  {
   "cell_type": "code",
   "execution_count": null,
   "id": "85542e80",
   "metadata": {},
   "outputs": [],
   "source": [
    "import pandas as pd\n",
    "pd.set_option('mode.copy_on_write', True)\n",
    "import numpy as np\n",
    "import matplotlib.pyplot as plt\n",
    "\n",
    "# Fancy plots\n",
    "plt.style.use('fivethirtyeight')"
   ]
  },
  {
   "cell_type": "markdown",
   "id": "33a649ca",
   "metadata": {},
   "source": [
    "Now we are going to need some data. Go ahead and download\n",
    "{download}`iris.csv <data/iris.csv>` and import it as\n",
    "a dataframe (save the file to the same directory from which you\n",
    "are running this notebook to make your life easier)."
   ]
  },
  {
   "cell_type": "code",
   "execution_count": null,
   "id": "12894b28",
   "metadata": {},
   "outputs": [],
   "source": [
    "iris = pd.read_csv('data/iris.csv')"
   ]
  },
  {
   "cell_type": "markdown",
   "id": "9311a10a",
   "metadata": {},
   "source": [
    "At this moment we have no clue about what data are contained\n",
    "inside this dataframe. First thing we can do is simply print\n",
    "out the whole dataframe."
   ]
  },
  {
   "cell_type": "code",
   "execution_count": null,
   "id": "c50c3ac2",
   "metadata": {},
   "outputs": [],
   "source": [
    "iris"
   ]
  },
  {
   "cell_type": "markdown",
   "id": "664c01be",
   "metadata": {},
   "source": [
    "But more often than not we don't need to see ~60 entries to get\n",
    "the idea of what we are looking at. All we want is the column\n",
    "names and some examples to understand the format the data are\n",
    "in. For these purposes we can use `head` method of the data\n",
    "frame."
   ]
  },
  {
   "cell_type": "code",
   "execution_count": null,
   "id": "685ad0d3",
   "metadata": {},
   "outputs": [],
   "source": [
    "iris.head()"
   ]
  },
  {
   "cell_type": "markdown",
   "id": "ec8e5438",
   "metadata": {},
   "source": [
    "By default, `head()` displays the first five rows, but we have the\n",
    "option to pass it a specific number of rows we want to see."
   ]
  },
  {
   "cell_type": "code",
   "execution_count": null,
   "id": "1cf88678",
   "metadata": {},
   "outputs": [],
   "source": [
    "iris.head(10)"
   ]
  },
  {
   "cell_type": "markdown",
   "id": "5cbdd98a",
   "metadata": {},
   "source": [
    "Okay, now we know that our dataframe has five columns, that describe\n",
    "the properties of different species of irises. _But wait!_, you may\n",
    "ask, _there are [260–300 species of iris\n",
    "genus](https://www.pacificbulbsociety.org/pbswiki/index.php/Iris) and\n",
    "there is no way they can all be represented in our 150 row dataframe!_.\n",
    "Well, my educated friend, you are absolutely right. It might be a good\n",
    "idea to take a look at all the _unique_ values we have in our `Name`\n",
    "column. To do that we extract our `Name` column as a Series."
   ]
  },
  {
   "cell_type": "code",
   "execution_count": null,
   "id": "6e28ef74",
   "metadata": {},
   "outputs": [],
   "source": [
    "iris_names = iris[\"Name\"]\n",
    "iris_names"
   ]
  },
  {
   "cell_type": "code",
   "execution_count": null,
   "id": "852e3eda",
   "metadata": {},
   "outputs": [],
   "source": [
    "type(iris_names)"
   ]
  },
  {
   "cell_type": "markdown",
   "id": "0cb7e140",
   "metadata": {},
   "source": [
    "Now we can use the `unique` method of the `Series`:"
   ]
  },
  {
   "cell_type": "code",
   "execution_count": null,
   "id": "c85505da",
   "metadata": {},
   "outputs": [],
   "source": [
    "iris_names.unique()"
   ]
  },
  {
   "cell_type": "markdown",
   "id": "6f7610aa",
   "metadata": {},
   "source": [
    "We see above that our dataset deals with only three species of iris:\n",
    "[Iris\n",
    "Setosa](https://apps.rhs.org.uk/plantselectorimages/detail/RHS_PUB0001482_1050.JPG),\n",
    "[Iris\n",
    "Versicolor](https://gardengoodsdirect.com/wp-content/uploads/2017/03/Iris_versicolor_3.jpg)\n",
    "and [Iris\n",
    "Virginica](https://plants.ces.ncsu.edu/media/images/Iris-virginica--Justin-Meissen--CC-BY-SA.jpg)\n",
    "\n",
    "We are going to look at the similarities and differences between the\n",
    "species later, but first, let's get familiar with each of them\n",
    "separately. For that, we can create a separate dataframe for each of\n",
    "the species."
   ]
  },
  {
   "cell_type": "markdown",
   "id": "376bf2c3",
   "metadata": {},
   "source": [
    "We need to select the rows that correspond to each species.  Let's start by selecting the rows that correspond to `'Iris-setosa'`.\n",
    "\n",
    "To select rows, we generally use the `loc` attribute of the data frame.\n",
    "\n",
    "Read `loc` as \"locate\".  The attribute allows us to locate rows of interest.  Here we use `loc` to select the `'Iris-setosa'` rows."
   ]
  },
  {
   "cell_type": "code",
   "execution_count": null,
   "id": "7eecaf69",
   "metadata": {},
   "outputs": [],
   "source": [
    "setosa = iris.loc[iris[\"Name\"]=='Iris-setosa']"
   ]
  },
  {
   "cell_type": "markdown",
   "id": "7ae700b4",
   "metadata": {},
   "source": [
    "Make sure you understand the line above. In order to do that, dissect\n",
    "it bit by bit.\n",
    "\n",
    "* What does `iris[\"Name\"]` return?\n",
    "* What does `iris[\"Name\"]=='Iris-setosa'` return? Why? Is this familiar\n",
    "  behaviour?\n",
    "* What is going to happen when you type `setosa`?\n",
    "\n",
    "Now you can go ahead and create dataframes for the other two species."
   ]
  },
  {
   "cell_type": "code",
   "execution_count": null,
   "id": "1472f53a",
   "metadata": {},
   "outputs": [],
   "source": [
    "# Put code here to create dataframes for other two species\n"
   ]
  },
  {
   "cell_type": "markdown",
   "id": "2ba206fd",
   "metadata": {},
   "source": [
    "If we want to take a closer look at any one of the species-specific\n",
    "dataframes that we now have, a good starting point is the `describe`\n",
    "method of Data Frames (or Series)"
   ]
  },
  {
   "cell_type": "code",
   "execution_count": null,
   "id": "45391db6",
   "metadata": {},
   "outputs": [],
   "source": [
    "setosa.describe()"
   ]
  },
  {
   "cell_type": "markdown",
   "id": "33ed7aab",
   "metadata": {},
   "source": [
    "The first thing to note is that `describe()` does not include the\n",
    "`Name` column. It shows only the _numerical_ data. From this we can see\n",
    "that Iris Setosa is not a very versatile flower: deviations from the\n",
    "mean are quite small and the vast majority of flowers are quite similar\n",
    "in every way with the exception of _Petal Width_, which has outliers\n",
    "about six times the mean width.\n",
    "\n",
    "Use `describe` on the dataframes for the other two species. Can you\n",
    "spot anything interesting?"
   ]
  },
  {
   "cell_type": "code",
   "execution_count": null,
   "id": "d3e1084b",
   "metadata": {},
   "outputs": [],
   "source": [
    "# Use describe on the other two species.\n",
    "# See if you can spot any patterns in the differences.\n"
   ]
  },
  {
   "cell_type": "markdown",
   "id": "02ca59d1",
   "metadata": {},
   "source": [
    "Okay, numbers are cool and all, but let's create some _graphs_. Since\n",
    "we mentioned that the _Petal Width_ of Iris Setosa might be interesting\n",
    "to look at, let's look at the histogram."
   ]
  },
  {
   "cell_type": "markdown",
   "id": "2e0a296e",
   "metadata": {},
   "source": [
    "**Hint**: In order to save yourself **A LOT** of time, please start\n",
    "using TAB autocompletion if you haven't already: Instead of typing\n",
    "`setosa[\"PetalWidth\"]`, then correcting typos, then realising it's\n",
    "case-sensitive and redoing everything, just do `seto<TAB>`, `[\"P<TAB>`,\n",
    "selecting the column you want, and press Enter."
   ]
  },
  {
   "cell_type": "code",
   "execution_count": null,
   "id": "3e42cced",
   "metadata": {},
   "outputs": [],
   "source": [
    "setosa[\"PetalWidth\"].hist()"
   ]
  },
  {
   "cell_type": "markdown",
   "id": "f536f09d",
   "metadata": {},
   "source": [
    "Something is clearly wrong with our histogram. It shows the\n",
    "information, sure. But what are those gaps? If you press `SHIFT+TAB`\n",
    "while being inside the parentheses of `hist()`, you can see all the\n",
    "arguments you can provide to it. Note that one of the arguments is\n",
    "called `bins`.  It has a default value of `10`, so our default\n",
    "histogram above tries to split the data into ten bins."
   ]
  },
  {
   "cell_type": "markdown",
   "id": "e846b9b4",
   "metadata": {},
   "source": [
    "Have a look at the unique values in `setosa[\"PetalWidth\"]`:"
   ]
  },
  {
   "cell_type": "code",
   "execution_count": null,
   "id": "ce9c09db",
   "metadata": {},
   "outputs": [],
   "source": [
    "setosa[\"PetalWidth\"].unique()"
   ]
  },
  {
   "cell_type": "markdown",
   "id": "8bd5249c",
   "metadata": {},
   "source": [
    "As you see, all the values are one of `0.1, 0.2, 0.3, 0.4, 0.5, 0.6`, so splitting the values into ten bins is going to leave some empty bins, which is what you see above."
   ]
  },
  {
   "cell_type": "markdown",
   "id": "08c56fcf",
   "metadata": {},
   "source": [
    "Try using the `bin` argument to `hist`, to adjust the number of bins.\n",
    "You want a number of bins that makes the histogram more readable. What\n",
    "number makes more sense than `10` in our case? Why?"
   ]
  },
  {
   "cell_type": "code",
   "execution_count": null,
   "id": "f5423376",
   "metadata": {},
   "outputs": [],
   "source": [
    "# Make a histogram of the setosa PetalWidth with a suitable number of\n",
    "# bins.\n"
   ]
  },
  {
   "cell_type": "markdown",
   "id": "7add2ee0",
   "metadata": {},
   "source": [
    "**Replace this text to say why your chosen bin number above is the\n",
    "right one in this case.**"
   ]
  },
  {
   "cell_type": "markdown",
   "id": "a627dda7",
   "metadata": {},
   "source": [
    "If there are any other histograms you think are worth looking at, feel\n",
    "free to plot them, too.\n",
    "\n",
    "But histograms describe the properties of one particular column of a\n",
    "dataframe. And the real power of data science is in seeing\n",
    "relationships between different properties.\n",
    "\n",
    "Is there a relationship between Sepal Length and Petal Length? Let's\n",
    "find out!"
   ]
  },
  {
   "cell_type": "code",
   "execution_count": null,
   "id": "2a661a03",
   "metadata": {},
   "outputs": [],
   "source": [
    "setosa.plot.scatter('SepalLength', 'PetalLength')"
   ]
  },
  {
   "cell_type": "markdown",
   "id": "ebf8bf02",
   "metadata": {},
   "source": [
    "Hmm, doesn't look that related.  Is that the case for all three\n",
    "species?)\n"
   ]
  },
  {
   "cell_type": "code",
   "execution_count": null,
   "id": "e3d1f89c",
   "metadata": {},
   "outputs": [],
   "source": [
    "# Code here to do SepalLength vs PetalLength plots for the other two\n",
    "# species.\n"
   ]
  },
  {
   "cell_type": "markdown",
   "id": "dd61e35c",
   "metadata": {},
   "source": [
    "What about Sepal Length and Sepal Width?"
   ]
  },
  {
   "cell_type": "code",
   "execution_count": null,
   "id": "ba99ded1",
   "metadata": {},
   "outputs": [],
   "source": [
    "setosa.plot.scatter('SepalLength', 'SepalWidth')"
   ]
  },
  {
   "cell_type": "markdown",
   "id": "06740bab",
   "metadata": {},
   "source": [
    "Now we are starting to see some relationship! What other variable pairs\n",
    "do you think might be related? Test out your hypotheses."
   ]
  },
  {
   "cell_type": "code",
   "execution_count": null,
   "id": "93795469",
   "metadata": {},
   "outputs": [],
   "source": [
    "# Use scatter plots to look for relationships between other columns in\n",
    "# the \"setosa\" dataframe.\n"
   ]
  },
  {
   "cell_type": "code",
   "execution_count": null,
   "id": "409bb1de",
   "metadata": {},
   "outputs": [],
   "source": [
    "# See if the same relationships hold for the other species.\n"
   ]
  },
  {
   "cell_type": "markdown",
   "id": "57eae296",
   "metadata": {},
   "source": [
    "**Replace this text to describe the relationships you see**"
   ]
  },
  {
   "cell_type": "markdown",
   "id": "c96b6d87",
   "metadata": {},
   "source": [
    "Now that we have played around with three species separately, let's\n",
    "take a look at the whole dataset again."
   ]
  },
  {
   "cell_type": "code",
   "execution_count": null,
   "id": "51d46e8d",
   "metadata": {},
   "outputs": [],
   "source": [
    "iris.plot.scatter('SepalLength', 'PetalLength')"
   ]
  },
  {
   "cell_type": "markdown",
   "id": "a008d173",
   "metadata": {},
   "source": [
    "We can see a linear relationship between Sepal Length and Petal Length\n",
    "that we couldn't see on the `setosa` graph. All of the `setosa` data\n",
    "points are in that bottom-left island of the graph.\n",
    "\n",
    "We can also squeeze more information into this graph by using colour:"
   ]
  },
  {
   "cell_type": "code",
   "execution_count": null,
   "id": "fce1b558",
   "metadata": {},
   "outputs": [],
   "source": [
    "iris.plot.scatter('SepalLength', 'PetalLength', c='PetalWidth', colormap='hsv')"
   ]
  },
  {
   "cell_type": "markdown",
   "id": "12d0ed63",
   "metadata": {},
   "source": [
    "_(super-extra-cool points if you figure out how to colorise points by\n",
    "species name)_ - if you want to try, add that cell below."
   ]
  },
  {
   "cell_type": "markdown",
   "id": "5bea0bcf",
   "metadata": {},
   "source": [
    "But wait! There's more!"
   ]
  },
  {
   "cell_type": "code",
   "execution_count": null,
   "id": "be3b40b0",
   "metadata": {},
   "outputs": [],
   "source": [
    "iris.plot.scatter('SepalLength', 'PetalLength', s=iris[\"SepalWidth\"]**4, c='PetalWidth', colormap='hsv')"
   ]
  },
  {
   "cell_type": "markdown",
   "id": "ce075ee7",
   "metadata": {},
   "source": [
    "What is happening in the above cell? Make sure to utilize `SHIFT+TAB`\n",
    "in order to examine what arguments `plot.scatter()` can take. Why is\n",
    "there `**4` all of a sudden? What is going to happen if you change that\n",
    "value?"
   ]
  },
  {
   "cell_type": "markdown",
   "id": "fe858223",
   "metadata": {},
   "source": [
    "But what if we want to take a look at _every possible variable pair_? Surely that can't be done in one line, right?"
   ]
  },
  {
   "cell_type": "code",
   "execution_count": null,
   "id": "cbafd5e6",
   "metadata": {},
   "outputs": [],
   "source": [
    "# But it can!\n",
    "pd.plotting.scatter_matrix(iris, figsize=[10,10]);"
   ]
  }
 ],
 "metadata": {
  "jupytext": {
   "notebook_metadata_filter": "language_info"
  },
  "kernelspec": {
   "display_name": "Python (Pyodide)",
   "name": "python"
  },
  "language_info": {
   "codemirror_mode": {
    "name": "ipython",
    "version": 3
   },
   "file_extension": ".py",
   "mimetype": "text/x-python",
   "name": "python",
   "nbconvert_exporter": "python",
   "pygments_lexer": "ipython3",
   "version": "3.7.1"
  },
  "orphan": true
 },
 "nbformat": 4,
 "nbformat_minor": 5
}
