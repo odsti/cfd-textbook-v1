{
 "cells": [
  {
   "cell_type": "markdown",
   "id": "f6a1554a",
   "metadata": {},
   "source": [
    "# The Monty Hall problem\n",
    "\n",
    "The [Monty Hall problem](https://en.wikipedia.org/wiki/Monty_Hall_problem) is\n",
    "a problem in probability, originally posed by [Steve\n",
    "Selvin](https://en.wikipedia.org/wiki/Steve_Selvin), a professor of\n",
    "Biostatistics at Berkeley.\n",
    "\n",
    "The setup is the following:\n",
    "\n",
    "* You are a contestant on a game show.\n",
    "* The host, [Monty Hall](https://en.wikipedia.org/wiki/Monty_Hall), shows you\n",
    "  three closed and identical doors.\n",
    "* Behind one of the doors, is a car.  Behind the other two doors, there is\n",
    "  a goat.\n",
    "\n",
    "![Monty Hall illustration](images/monty_hall_goat.png)\n",
    "\n",
    "* Assume for a moment you'd rather have a car than a goat.\n",
    "* Monty offers you the choice of any of the three doors.  You chose a door, but\n",
    "  Monty leaves the door closed for now.\n",
    "* Monty tells you he is going to open one of the other doors that has a goat\n",
    "  behind it.  He does, there is a goat behind it.  Call this \"the goat reveal\".\n",
    "* Now he asks you the following question:  Do you want to stick with your\n",
    "  original choice of door, do you want to change your choice to the remaining\n",
    "  door, or does it make no difference which you chose?\n",
    "\n",
    "It turns out this is a trickier problem than it might first appear.  Among many\n",
    "others, a very famous mathematician [Paul\n",
    "Erdős](https://en.wikipedia.org/wiki/Paul_Erd%C5%91s), got the answer wrong. He\n",
    "had to be convinced with a computer simulation.  That's what we will do now.\n",
    "\n",
    "For the simulation, we will need:\n",
    "\n",
    "* `rng.choice` \\- see [the iteration page](iteration) for an\n",
    "  introduction.\n",
    "* `np.sort` \\- see [sorting arrays](sorting_arrays)."
   ]
  },
  {
   "cell_type": "markdown",
   "id": "0b971dda",
   "metadata": {},
   "source": [
    "## The simulation\n",
    "\n",
    "As ever, we start with the simplest thing we can think of, which is to simulate\n",
    "one trial."
   ]
  },
  {
   "cell_type": "code",
   "execution_count": null,
   "id": "b1eedc7c",
   "metadata": {},
   "outputs": [],
   "source": [
    "import numpy as np\n",
    "# Make random number generator.\n",
    "rng = np.random.default_rng()"
   ]
  },
  {
   "cell_type": "markdown",
   "id": "11f40de3",
   "metadata": {},
   "source": [
    "First we make an array of the things that can be behind the doors.  There are two goats and one car."
   ]
  },
  {
   "cell_type": "code",
   "execution_count": null,
   "id": "4eeb47e5",
   "metadata": {},
   "outputs": [],
   "source": [
    "doors = np.array(['car', 'goat', 'goat'])\n",
    "doors"
   ]
  },
  {
   "cell_type": "markdown",
   "id": "ac37634c",
   "metadata": {},
   "source": [
    "Next we shuffle, to simulate the fact that the object behind each door is random, on each trial."
   ]
  },
  {
   "cell_type": "code",
   "execution_count": null,
   "id": "8ee40161",
   "metadata": {},
   "outputs": [],
   "source": [
    "rng.shuffle(doors)\n",
    "doors"
   ]
  },
  {
   "cell_type": "markdown",
   "id": "1f66cee3",
   "metadata": {},
   "source": [
    "Next we use `rng.choice` to choose randomly between the three doors.  We\n",
    "choose one of 0, 1, or 2 for the first, second and third door, respectively."
   ]
  },
  {
   "cell_type": "code",
   "execution_count": null,
   "id": "54b18f79",
   "metadata": {},
   "outputs": [],
   "source": [
    "my_door_index = rng.choice([0, 1, 2])\n",
    "my_door_index"
   ]
  },
  {
   "cell_type": "markdown",
   "id": "0139fe3c",
   "metadata": {},
   "source": [
    "We peek behind our selected door to see what we would have got, if we stayed with our selected door."
   ]
  },
  {
   "cell_type": "code",
   "execution_count": null,
   "id": "3afdd428",
   "metadata": {},
   "outputs": [],
   "source": [
    "stay_result = doors[my_door_index]\n",
    "stay_result"
   ]
  },
  {
   "cell_type": "markdown",
   "id": "9ac15af9",
   "metadata": {},
   "source": [
    "Next we replace whatever was behind our chosen door, with the string \"mine\", to indicate this was the one we chose."
   ]
  },
  {
   "cell_type": "code",
   "execution_count": null,
   "id": "ef218cf6",
   "metadata": {},
   "outputs": [],
   "source": [
    "doors[my_door_index] = 'mine'\n",
    "doors"
   ]
  },
  {
   "cell_type": "markdown",
   "id": "bdecd691",
   "metadata": {},
   "source": [
    "We now have two possibilities.  The two remaining doors could have:\n",
    "\n",
    "1. \"car\" and \"goat\" (in either order) or\n",
    "1. \"goat\" and \"goat\".\n",
    "\n",
    "We can use `np.sort` to make it more obvious which situation we are in.  It\n",
    "will put \"car\" in the first position, if it's present, then \"goat\". Last will\n",
    "be the string \"mine\" that we put in when we chose our door."
   ]
  },
  {
   "cell_type": "code",
   "execution_count": null,
   "id": "eaa3d5b4",
   "metadata": {},
   "outputs": [],
   "source": [
    "doors = np.sort(doors)\n",
    "doors"
   ]
  },
  {
   "cell_type": "markdown",
   "id": "73baef67",
   "metadata": {},
   "source": [
    "When Monty does his goat reveal, our two options above drop to one.\n",
    "\n",
    "* \"car\" and \"goat\" become \"car\"\n",
    "* \"goat\" and \"goat\" become \"goat\"\n",
    "\n",
    "All we need to do then, is to take the first element in the sorted array.  It\n",
    "will be \"car\" if the car was present, otherwise it will be \"goat\"."
   ]
  },
  {
   "cell_type": "code",
   "execution_count": null,
   "id": "0c5c07e8",
   "metadata": {},
   "outputs": [],
   "source": [
    "switch_result = doors[0]\n",
    "switch_result"
   ]
  },
  {
   "cell_type": "markdown",
   "id": "dd1e6388",
   "metadata": {},
   "source": [
    "## Your turn - try many trials\n",
    "\n",
    "That's one trial.   Now let's do that 10000 times.  Fill in the code you need from the statements above."
   ]
  },
  {
   "cell_type": "code",
   "execution_count": null,
   "id": "4d34c235",
   "metadata": {},
   "outputs": [],
   "source": [
    "# Make 10000 trials.\n",
    "n_tries = 10000\n",
    "# Array of 10000 length 4 (or less) strings, to store results of stay strategy\n",
    "stay_results = np.zeros(n_tries, dtype='U4')\n",
    "# 10000 length 4 (or less) strings, to store results of switch strategy\n",
    "switch_results = np.zeros(n_tries, dtype='U4')\n",
    "# Use a \"for\" loop to repeat the indented block 10000 times.\n",
    "for i in range(n_tries):\n",
    "    # Same code as above, for one trial\n",
    "    # Make the doors array\n",
    "    doors = np.array(['car', 'goat', 'goat'])\n",
    "    # Shuffle\n",
    "\n",
    "    # Choose your door at random\n",
    "\n",
    "    # Get the result from your chosen door\n",
    "\n",
    "    # Fill your chosen door with 'mine'\n",
    "\n",
    "    # Sort the doors.  The car will be first if present.\n",
    "\n",
    "    # Get the result for switch\n",
    "\n",
    "    # Store the results for stay and switch in their arrays"
   ]
  },
  {
   "cell_type": "markdown",
   "id": "8508f335",
   "metadata": {},
   "source": [
    "Check the proportion of the Stay choices that resulted in a \"car\"."
   ]
  },
  {
   "cell_type": "code",
   "execution_count": null,
   "id": "e0d580c9",
   "metadata": {},
   "outputs": [],
   "source": [
    "np.count_nonzero(stay_results == 'car') / n_tries"
   ]
  },
  {
   "cell_type": "markdown",
   "id": "57f12ca4",
   "metadata": {},
   "source": [
    "Check the proportion of the Switch choices that resulted in a \"car\"."
   ]
  },
  {
   "cell_type": "code",
   "execution_count": null,
   "id": "9dec8333",
   "metadata": {},
   "outputs": [],
   "source": [
    "np.count_nonzero(switch_results == 'goat') / n_tries"
   ]
  },
  {
   "cell_type": "markdown",
   "id": "9f248204",
   "metadata": {},
   "source": [
    "Would you chose Stay or Switch?\n",
    "\n",
    "Can you explain why your choice worked better, now you've done the simulation?\n",
    "\n",
    "## Another way of doing the simulation\n",
    "\n",
    "See [Monty Hall with lists](monty_hall_lists) for another way of doing\n",
    "this simulation, using [lists](lists) instead of arrays."
   ]
  }
 ],
 "metadata": {
  "kernelspec": {
   "display_name": "Python (Pyodide)",
   "name": "python"
  },
  "orphan": true
 },
 "nbformat": 4,
 "nbformat_minor": 5
}
