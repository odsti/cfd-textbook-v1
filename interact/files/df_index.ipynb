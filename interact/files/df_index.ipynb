{
 "cells": [
  {
   "cell_type": "markdown",
   "id": "5b69e690",
   "metadata": {},
   "source": [
    "# The DataFrame and the index"
   ]
  },
  {
   "cell_type": "code",
   "execution_count": null,
   "id": "448ebb30",
   "metadata": {},
   "outputs": [],
   "source": [
    "# Load the Pandas data science library, call it 'pd'\n",
    "import pandas as pd\n",
    "# Turn on a setting to use Pandas more safely.\n",
    "# We will discuss this setting later.\n",
    "pd.set_option('mode.copy_on_write', True)"
   ]
  },
  {
   "cell_type": "markdown",
   "id": "5c66cfda",
   "metadata": {},
   "source": [
    "In [introduction to data frames](data_frame_intro.Rmd), we introduced data frames, and looked at columns and column labels.\n",
    "\n",
    "Here we load the same data from a file to give a DataFrame:"
   ]
  },
  {
   "cell_type": "code",
   "execution_count": null,
   "id": "bfed4644",
   "metadata": {},
   "outputs": [],
   "source": [
    "# Original data frame before dropping missing values.\n",
    "gender_data = pd.read_csv('data/gender_stats_min.csv')\n",
    "# Show the result\n",
    "gender_data"
   ]
  },
  {
   "cell_type": "markdown",
   "id": "bd381873",
   "metadata": {},
   "source": [
    "Again we see the rows and the columns.  In the last page we concentrated on the\n",
    "DataFrame columns, the `.column` attribute, and the column labels. This time we\n",
    "are going to concentrate on the rows."
   ]
  },
  {
   "cell_type": "markdown",
   "id": "676d815f",
   "metadata": {},
   "source": [
    "## Row labels\n",
    "\n",
    "The DataFrame has *rows*, and, in fact, the rows also have labels.\n",
    "\n",
    "The row labels may not have been obvious from the display you have seen so far,\n",
    "because the row labels are *numbers*, so it would have been easy to mistake the\n",
    "row labels for row numbers.\n",
    "\n",
    "You can see the row labels on the left hand side of the rows in the default\n",
    "display, above.  For this default case, the *label* of the first row is 0, the\n",
    "label of the second row is 1, and so on.\n"
   ]
  },
  {
   "cell_type": "markdown",
   "id": "6f15fb81",
   "metadata": {},
   "source": [
    "## Row labels are not the same as row numbers\n",
    "\n",
    "By default, when you load a DataFrame, Pandas will give each row a label that\n",
    "is a number, and that number is sequential by the order of the row in the file.\n",
    "That means that, by default, the row label *will* correspond to the row\n",
    "*position*. Here's the DataFrame we got from the default `pd.read_csv` load of\n",
    "the data file:"
   ]
  },
  {
   "cell_type": "code",
   "execution_count": null,
   "id": "f94da5f2",
   "metadata": {},
   "outputs": [],
   "source": [
    "gender_data"
   ]
  },
  {
   "cell_type": "markdown",
   "id": "415d0cd8",
   "metadata": {},
   "source": [
    "Sure enough, the row at position 0 has label 0, the row at position 1 has label\n",
    "1, and so on, all the way up to label 215 for the last (216th) row.  The row\n",
    "labels happen to correspond to the row positions.\n",
    "\n",
    "But in general, the row labels have no necessary relationship to the row\n",
    "positions.  In fact, the row labels need not even be numbers.\n",
    "\n",
    "You can see that the row labels need not correspond to position, when you drop\n",
    "some rows as we did in the [data frame introduction\n",
    "page](data_frame_intro.Rmd).\n",
    "\n",
    "Let's drop the missing values again:"
   ]
  },
  {
   "cell_type": "code",
   "execution_count": null,
   "id": "a871c224",
   "metadata": {},
   "outputs": [],
   "source": [
    "gender_data_no_na = gender_data.dropna()\n",
    "gender_data_no_na"
   ]
  },
  {
   "cell_type": "markdown",
   "id": "c20c8c54",
   "metadata": {},
   "source": [
    "We have now dropped the rows with label 0, 2 and 8, among others.  The first\n",
    "row in the data frame (the row at position 0) now has label 1, the second row\n",
    "(position 1) has label 2, and the fourth (position 3) has label 5.  The row\n",
    "labels no longer correspond to the row positions.\n"
   ]
  },
  {
   "cell_type": "markdown",
   "id": "0620e824",
   "metadata": {},
   "source": [
    "## Row labels are in the `.index` attribute"
   ]
  },
  {
   "cell_type": "markdown",
   "id": "e8335540",
   "metadata": {},
   "source": [
    "In [introduction to data frames](data_frame_intro.Rmd), we found that\n",
    "the Pandas houses the column labels in the `.columns` attribute of the\n",
    "DataFrame.\n",
    "\n",
    "You can get the labels for the rows with the `.index` attribute:"
   ]
  },
  {
   "cell_type": "code",
   "execution_count": null,
   "id": "ba460489",
   "metadata": {},
   "outputs": [],
   "source": [
    "gender_data_no_na.index"
   ]
  },
  {
   "cell_type": "markdown",
   "id": "8890fc5a",
   "metadata": {},
   "source": [
    "Notice that Pandas stores the row labels in an `Index`-type object (value),\n",
    "just as it stored the column labels in an `Index` object (value)."
   ]
  },
  {
   "cell_type": "markdown",
   "id": "4502a029",
   "metadata": {},
   "source": [
    "Just as for the `.columns` object, you can get the row labels by applying\n",
    "`list` to the `.index` attribute:"
   ]
  },
  {
   "cell_type": "code",
   "execution_count": null,
   "id": "1c9bd789",
   "metadata": {},
   "outputs": [],
   "source": [
    "# Make the row labels into a list.\n",
    "row_labels = list(gender_data_no_na.index)\n",
    "# Show the first 10 labels\n",
    "row_labels[:10]"
   ]
  },
  {
   "cell_type": "markdown",
   "id": "765ea2ba",
   "metadata": {},
   "source": [
    "## Changing the row labels"
   ]
  },
  {
   "cell_type": "markdown",
   "id": "0dc9bd4b",
   "metadata": {},
   "source": [
    "As we said above, by default, the row labels are numbers, but they need not be\n",
    "numbers — they could be strings.\n",
    "\n",
    "Sometimes it is useful to change the default numeric row labels to something\n",
    "more memorable to indicate the nature of the row.\n",
    "\n",
    "For example, in our case, our rows correspond to countries.  We might want the\n",
    "row label to remind us which country the row refers to.  There is a column,\n",
    "`country_code` with a unique code for the country.   We can use those values to\n",
    "replace the default numeric labels, using the `.set_index` method.\n",
    "\n",
    "Remember, a *method* is a *function* attached to a value.  (Technically, it is\n",
    "an *attribute* where the value of the attribute is a function).  We use `.set_index` by passing the column name of the column we want to use."
   ]
  },
  {
   "cell_type": "code",
   "execution_count": null,
   "id": "9f766cce",
   "metadata": {},
   "outputs": [],
   "source": [
    "labeled_gdata = gender_data_no_na.set_index('country_code')\n",
    "labeled_gdata"
   ]
  },
  {
   "cell_type": "markdown",
   "id": "2b61f01b",
   "metadata": {},
   "source": [
    "Notice the new values to the left of the row are the corresponding country\n",
    "codes, instead of the numeric labels we had before.  Notice too that Pandas\n",
    "pulled the `country_code` column out of the DataFrame, to avoid duplication.\n",
    "You can tell Pandas not to pull the column out of the DataFrame, by adding\n",
    "`drop=False` to the argument for `set_index`."
   ]
  }
 ],
 "metadata": {
  "jupyterbook": {
   "show_stderr": true
  },
  "jupytext": {
   "formats": "",
   "notebook_metadata_filter": "all,-language_info",
   "split_at_heading": true
  },
  "kernelspec": {
   "display_name": "Python (Pyodide)",
   "name": "python"
  }
 },
 "nbformat": 4,
 "nbformat_minor": 5
}
