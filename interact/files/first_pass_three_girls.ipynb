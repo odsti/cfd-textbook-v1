{
 "cells": [
  {
   "cell_type": "markdown",
   "id": "ec081de9",
   "metadata": {},
   "source": [
    "# A first pass at the simple problem\n",
    "\n",
    "Remember the [three girls in a family problem](three_girls)?"
   ]
  },
  {
   "cell_type": "markdown",
   "id": "479dbf11",
   "metadata": {},
   "source": [
    "Now we have variables and functions, we can do a first pass at solving the\n",
    "problem."
   ]
  },
  {
   "cell_type": "markdown",
   "id": "89532912",
   "metadata": {},
   "source": [
    "First we `import` Numpy, and create a Random Number Generator (RNG):"
   ]
  },
  {
   "cell_type": "code",
   "execution_count": null,
   "id": "2e8ee88b",
   "metadata": {},
   "outputs": [],
   "source": [
    "import numpy as np\n",
    "\n",
    "# Make a random number generator\n",
    "rng = np.random.default_rng()\n",
    "# Show the result\n",
    "rng"
   ]
  },
  {
   "cell_type": "markdown",
   "id": "42ac93c9",
   "metadata": {},
   "source": [
    "This RNG can give us random numbers from 0 up to, but not including 2, like\n",
    "this:"
   ]
  },
  {
   "cell_type": "code",
   "execution_count": null,
   "id": "89dc528b",
   "metadata": {},
   "outputs": [],
   "source": [
    "# Generate a random number that is either 0 or 1\n",
    "rng.integers(0, 2)"
   ]
  },
  {
   "cell_type": "markdown",
   "id": "151c4861",
   "metadata": {},
   "source": [
    "You can run the same cell over and over by pressing Cmd (Mac) or Control\n",
    "(Windows) and Enter together (Cmd - Enter or Control - Enter).  This is like\n",
    "Shift - Enter, except Cmd/Control - Enter leaves the focus inside the cell, so you\n",
    "can run the same again immediately."
   ]
  },
  {
   "cell_type": "markdown",
   "id": "74c48069",
   "metadata": {},
   "source": [
    "We take 1 to mean a girl, and 0 to mean a boy."
   ]
  },
  {
   "cell_type": "markdown",
   "id": "97e8adb0",
   "metadata": {},
   "source": [
    "Now we have variables, we can do better than running this cell four times, and\n",
    "counting the number of times we see 1."
   ]
  },
  {
   "cell_type": "code",
   "execution_count": null,
   "id": "8a757a8a",
   "metadata": {},
   "outputs": [],
   "source": [
    "# Get four random numbers between 0 and 1.\n",
    "a = rng.integers(0, 2)\n",
    "b = rng.integers(0, 2)\n",
    "c = rng.integers(0, 2)\n",
    "d = rng.integers(0, 2)\n",
    "# Count the number of ones by adding them up.  Show the result.\n",
    "a + b + c + d"
   ]
  },
  {
   "cell_type": "markdown",
   "id": "f09f09e3",
   "metadata": {},
   "source": [
    "Using Cmd/Control - Enter, run this cell 100 times.  Count the number of times you see\n",
    "the result 3.   Divide that number by 100, and you have an estimate of the\n",
    "number of families with four children that have exactly three girls."
   ]
  },
  {
   "cell_type": "markdown",
   "id": "9e530ff3",
   "metadata": {},
   "source": [
    "Still, it's boring to have to run that cell 100 times.  We might also like the\n",
    "computer to execute these steps many more times - say - 10000 times.  We will\n",
    "need to do some more programming to tell the computer how to do this."
   ]
  }
 ],
 "metadata": {
  "jupytext": {
   "notebook_metadata_filter": "all,-language_info"
  },
  "kernelspec": {
   "display_name": "Python (Pyodide)",
   "name": "python"
  }
 },
 "nbformat": 4,
 "nbformat_minor": 5
}
