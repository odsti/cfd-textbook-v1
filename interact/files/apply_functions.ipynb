{
 "cells": [
  {
   "cell_type": "markdown",
   "id": "84afde7d",
   "metadata": {},
   "source": [
    "# Apply functions\n",
    "\n",
    "Functions are named recipes.  We often find that we want to apply\n",
    "such a recipe to each value in a Pandas Series.\n",
    "\n",
    "This is the job of the `apply` method of a Series.\n",
    "\n",
    "To start, we load the familiar [Ratings\n",
    "data](data/rate_my_professors), giving the average ratings on\n",
    "various measures for all rated professors teaching a subject,\n",
    "such as English, mathematics, and so on."
   ]
  },
  {
   "cell_type": "code",
   "execution_count": null,
   "id": "8796f0ec",
   "metadata": {},
   "outputs": [],
   "source": [
    "import numpy as np\n",
    "import pandas as pd\n",
    "\n",
    "# Safe setting for using Pandas.\n",
    "pd.set_option('mode.copy_on_write', True)"
   ]
  },
  {
   "cell_type": "code",
   "execution_count": null,
   "id": "b41a6446",
   "metadata": {},
   "outputs": [],
   "source": [
    "ratings = pd.read_csv('data/rate_my_course.csv')\n",
    "ratings.head()"
   ]
  },
  {
   "cell_type": "markdown",
   "id": "b0d0f06d",
   "metadata": {},
   "source": [
    "There are 75 rows in this dataset, one row for each of 75\n",
    "subjects:"
   ]
  },
  {
   "cell_type": "code",
   "execution_count": null,
   "id": "e604617b",
   "metadata": {},
   "outputs": [],
   "source": [
    "n = len(ratings)\n",
    "n"
   ]
  },
  {
   "cell_type": "markdown",
   "id": "e94256f5",
   "metadata": {},
   "source": [
    "Now let us say that we are interested in the `Easiness` ratings:"
   ]
  },
  {
   "cell_type": "code",
   "execution_count": null,
   "id": "00446ef6",
   "metadata": {},
   "outputs": [],
   "source": [
    "easiness = ratings['Easiness']\n",
    "easiness"
   ]
  },
  {
   "cell_type": "markdown",
   "id": "c84eb6a5",
   "metadata": {},
   "source": [
    "We decide we want to classify each subject into one of three groups:\n",
    "\n",
    "* \"Easy\" for courses that have `Easiness` scores above the 75%\n",
    "  percentile for `Easiness`.\n",
    "* \"Hard\" for courses below the 25% percentile.\n",
    "* \"Medium\" for courses between the 25% and 75% percentile.\n",
    "\n",
    "You might first wonder how to get the percentiles.   One way to\n",
    "do it, is to use the `percentile` function from Numpy.  For\n",
    "example, the median is the value at the 50% percentile, meaning\n",
    "that half the values are below the median and half are above\n",
    "(well, it's a little more complicated than that, but that's right\n",
    "to a first pass).\n",
    "\n",
    "Here's the median:"
   ]
  },
  {
   "cell_type": "code",
   "execution_count": null,
   "id": "ae7b1eb3",
   "metadata": {},
   "outputs": [],
   "source": [
    "np.median(easiness)"
   ]
  },
  {
   "cell_type": "markdown",
   "id": "e12b7aa8",
   "metadata": {},
   "source": [
    "This is, by definition, the 50% percentile:"
   ]
  },
  {
   "cell_type": "code",
   "execution_count": null,
   "id": "5219dd8f",
   "metadata": {},
   "outputs": [],
   "source": [
    "np.percentile(easiness, 50)"
   ]
  },
  {
   "cell_type": "markdown",
   "id": "ed148bfc",
   "metadata": {},
   "source": [
    "Here are the 25% and 75% percentiles:"
   ]
  },
  {
   "cell_type": "code",
   "execution_count": null,
   "id": "ad2d04d9",
   "metadata": {},
   "outputs": [],
   "source": [
    "easy_25 = np.percentile(easiness, 25)\n",
    "print('25% percentile is', easy_25)\n",
    "easy_75 = np.percentile(easiness, 75)\n",
    "print('75% percentile is', easy_75)"
   ]
  },
  {
   "cell_type": "markdown",
   "id": "3b8a5d7a",
   "metadata": {},
   "source": [
    "We can then write a function that we send a value (call the value\n",
    "`v`), and return the classification, using the `easy_25` and\n",
    "`easy_75` values.\n",
    "\n",
    "Notice that the function can see the `easy_25` and `easy_75` values in the top-level workspace:"
   ]
  },
  {
   "cell_type": "code",
   "execution_count": null,
   "id": "c82cc2fb",
   "metadata": {},
   "outputs": [],
   "source": [
    "def classify_easy(v):\n",
    "    if v < easy_25:\n",
    "        return 'Hard'\n",
    "    if v > easy_75:\n",
    "        return 'Easy'\n",
    "    return 'Medium'"
   ]
  },
  {
   "cell_type": "markdown",
   "id": "95eb8de3",
   "metadata": {},
   "source": [
    "We expect this function to return \"Hard\" for a value of 3 (it's below the 25% percentile):"
   ]
  },
  {
   "cell_type": "code",
   "execution_count": null,
   "id": "6fb33a2a",
   "metadata": {},
   "outputs": [],
   "source": [
    "classify_easy(3)"
   ]
  },
  {
   "cell_type": "markdown",
   "id": "1053a38b",
   "metadata": {},
   "source": [
    "It should return \"Easy\" for a value of 3.4 (it's above the 75% percentile):"
   ]
  },
  {
   "cell_type": "code",
   "execution_count": null,
   "id": "c2addb09",
   "metadata": {},
   "outputs": [],
   "source": [
    "classify_easy(3.4)"
   ]
  },
  {
   "cell_type": "markdown",
   "id": "a2760fef",
   "metadata": {},
   "source": [
    "An intermediate value should give \"Medium\":"
   ]
  },
  {
   "cell_type": "code",
   "execution_count": null,
   "id": "5a7f38aa",
   "metadata": {},
   "outputs": [],
   "source": [
    "classify_easy(3.2)"
   ]
  },
  {
   "cell_type": "markdown",
   "id": "1b88646f",
   "metadata": {},
   "source": [
    "Now let us imagine we want to apply this function to all the values in the `easiness` series.\n",
    "\n",
    "We could do this laboriously, by making an array to store the values, like this:"
   ]
  },
  {
   "cell_type": "code",
   "execution_count": null,
   "id": "c7ffc1db",
   "metadata": {},
   "outputs": [],
   "source": [
    "classified = np.repeat(['Unknown'], n)\n",
    "classified[:10]"
   ]
  },
  {
   "cell_type": "markdown",
   "id": "4d68f9d8",
   "metadata": {},
   "source": [
    "This is an array with 75 values of the string \"Unknown\".  We are going to replace the \"Unknown\" values with the classifications from calling `classify_easy` on each of the `easiness` scores in turn, like this:"
   ]
  },
  {
   "cell_type": "code",
   "execution_count": null,
   "id": "8e8dfbde",
   "metadata": {},
   "outputs": [],
   "source": [
    "# The long way to apply classify_easy to easiness.\n",
    "for i in np.arange(n):\n",
    "    # Get the easiness value at this position.\n",
    "    value = easiness.iloc[i]\n",
    "    # Call `classify_easy` on this value, put it into\n",
    "    # the `classified` array.\n",
    "    classified[i] = classify_easy(value)\n",
    "classified[:10]"
   ]
  },
  {
   "cell_type": "markdown",
   "id": "7b5e829c",
   "metadata": {},
   "source": [
    "That is the long way to do that task, because Pandas Series have an `apply` method to do just that.  We send the `apply` method the function we want to apply on each value in the Series, and it calls the function on each value, and returns the result, as a new Series:"
   ]
  },
  {
   "cell_type": "code",
   "execution_count": null,
   "id": "78497106",
   "metadata": {},
   "outputs": [],
   "source": [
    "classified_series = easiness.apply(classify_easy)\n",
    "classified_series"
   ]
  },
  {
   "cell_type": "markdown",
   "id": "ebc7bac9",
   "metadata": {},
   "source": [
    "To see the results, we might make a new DataFrame to show the\n",
    "original `Easiness` scores and the classification side-by-side."
   ]
  },
  {
   "cell_type": "code",
   "execution_count": null,
   "id": "9ccec660",
   "metadata": {},
   "outputs": [],
   "source": [
    "df = pd.DataFrame()\n",
    "df['Easiness'] = easiness\n",
    "df['Easiness group'] = classified_series\n",
    "df"
   ]
  },
  {
   "cell_type": "markdown",
   "id": "d55cdca4",
   "metadata": {},
   "source": [
    "## `apply` and DataFrames\n",
    "\n",
    "In fact, DataFrames also have an `apply` method, that does a\n",
    "similar thing to the `apply` method of a Series, but on a\n",
    "DataFrame.\n",
    "\n",
    "Remember, the `apply` method of the Series calls the supplied function on each\n",
    "*value* in the Series.\n",
    "\n",
    "The `apply` function of a DataFrame calls the supplied function\n",
    "on each *row* or each *column* of the DataFrame.\n",
    "\n",
    "You can specify whether you want to apply the function to each row, or to each\n",
    "column, with the `axis` keyword argument to the `apply` method.\n",
    "\n",
    "This is easier to see in practice, than to describe.  We will practice\n",
    "DataFrame `.apply` on a famous dataset collected by Sir Francis Galton."
   ]
  },
  {
   "cell_type": "markdown",
   "id": "6d3da403",
   "metadata": {},
   "source": [
    "## Galton's dataset\n",
    "\n",
    "The data we will use relates to a famous paper by [Francis\n",
    "Galton](https://en.wikipedia.org/wiki/Francis_Galton), published in 1886.\n",
    "Galton was a versatile scientist who laid the groundwork for early statistics,\n",
    "and particularly regression and correlation.  The paper we are interested in\n",
    "here is:\n",
    "\n",
    "> Galton, F. (1886). [Regression Towards Mediocrity in Hereditary Stature](\n",
    "https://galton.org/essays/1880-1889/galton-1886-jaigi-regression-stature.pdf)\n",
    "Journal of the Anthropological Institute, 15, 246-263\n",
    "\n",
    "In fact, this paper is the origin of the term *regression* for fitting\n",
    "prediction lines to data.\n",
    "\n",
    "Galton was a keen eugenicist, and was very interested in inheritance.  In this\n",
    "case he studied the relationship of children's heights to the heights of their\n",
    "parents.\n",
    "\n",
    "Galton asked families to give him data about:\n",
    "\n",
    "* The father's height\n",
    "* The mother's height\n",
    "* The height and gender of each adult child in the family.\n",
    "\n",
    "You can read more about the data files at the [Galton heights datasets\n",
    "page](https://github.com/odsti/datasets/tree/regalton/galtons_heights)."
   ]
  },
  {
   "cell_type": "markdown",
   "id": "221c287a",
   "metadata": {},
   "source": [
    "The `galton_combined.csv` file has the data Galton used in his paper:"
   ]
  },
  {
   "cell_type": "code",
   "execution_count": null,
   "id": "89ccb2b4",
   "metadata": {},
   "outputs": [],
   "source": [
    "galton = pd.read_csv('data/galton_combined.csv')\n",
    "galton.head()"
   ]
  },
  {
   "cell_type": "markdown",
   "id": "b874f33c",
   "metadata": {},
   "source": [
    "Each row is one child.  For each child we have their father's height, their\n",
    "mother's height, the child's gender, and the child's height, among other\n",
    "values.\n",
    "\n",
    "All heights are in inches.\n"
   ]
  },
  {
   "cell_type": "markdown",
   "id": "cdc628c3",
   "metadata": {},
   "source": [
    "## DataFrame `apply`"
   ]
  },
  {
   "cell_type": "markdown",
   "id": "417c5cca",
   "metadata": {},
   "source": [
    "Like Galton, we are interested in the heritability of height.    For example,\n",
    "we may be interested in the difference between the height of the parents and\n",
    "the height of the children.  To do this, we may want to subtract the parents\n",
    "height from the children's height, to get a height difference.\n",
    "\n",
    "One factor we have to take into account is that males are taller, on average,\n",
    "than females. A very crude way to adjust for this is to subtract the mother's\n",
    "height from the height of the female children, and the father's height from the\n",
    "height of the male children.\n",
    "\n",
    "For example, here is the first row:"
   ]
  },
  {
   "cell_type": "code",
   "execution_count": null,
   "id": "70fbad49",
   "metadata": {},
   "outputs": [],
   "source": [
    "first_row = galton.iloc[0]\n",
    "first_row"
   ]
  },
  {
   "cell_type": "markdown",
   "id": "6a0104d5",
   "metadata": {},
   "source": [
    "This is a male child, so the difference we want is:"
   ]
  },
  {
   "cell_type": "code",
   "execution_count": null,
   "id": "2010f5aa",
   "metadata": {},
   "outputs": [],
   "source": [
    "first_difference = first_row['childHeight'] - first_row['father']\n",
    "first_difference"
   ]
  },
  {
   "cell_type": "markdown",
   "id": "3567f2b2",
   "metadata": {},
   "source": [
    "Here is the second row:"
   ]
  },
  {
   "cell_type": "code",
   "execution_count": null,
   "id": "0d9fc763",
   "metadata": {},
   "outputs": [],
   "source": [
    "second_row = galton.iloc[1]\n",
    "second_row"
   ]
  },
  {
   "cell_type": "markdown",
   "id": "a2858e3a",
   "metadata": {},
   "source": [
    "The difference we want for this female child is:"
   ]
  },
  {
   "cell_type": "code",
   "execution_count": null,
   "id": "b3b08045",
   "metadata": {},
   "outputs": [],
   "source": [
    "second_difference = second_row['childHeight'] - second_row['mother']\n",
    "second_difference"
   ]
  },
  {
   "cell_type": "markdown",
   "id": "6f6a08f8",
   "metadata": {},
   "source": [
    "To do this calculation for any given row, we could make a function that accepts\n",
    "a row as its argument, and does the calculation.  It might look like this:"
   ]
  },
  {
   "cell_type": "code",
   "execution_count": null,
   "id": "fede005c",
   "metadata": {},
   "outputs": [],
   "source": [
    "def apply_on_row(row):\n",
    "    if row['gender'] == 'female':\n",
    "        return row['childHeight'] - row['mother']\n",
    "    elif row['gender'] == 'male':\n",
    "        return row['childHeight'] - row['father']\n",
    "    # If neither female or male, we get here.\n",
    "    return None"
   ]
  },
  {
   "cell_type": "markdown",
   "id": "1c977836",
   "metadata": {},
   "source": [
    "Here is that function applied to the first row.  As expected, it gives the same\n",
    "value we calculated above:"
   ]
  },
  {
   "cell_type": "code",
   "execution_count": null,
   "id": "2206f1af",
   "metadata": {},
   "outputs": [],
   "source": [
    "apply_on_row(galton.iloc[0])"
   ]
  },
  {
   "cell_type": "markdown",
   "id": "36ac7f9a",
   "metadata": {},
   "source": [
    "Here is the function applied to the second row:"
   ]
  },
  {
   "cell_type": "code",
   "execution_count": null,
   "id": "6d4547c3",
   "metadata": {},
   "outputs": [],
   "source": [
    "apply_on_row(galton.iloc[1])"
   ]
  },
  {
   "cell_type": "markdown",
   "id": "20c54041",
   "metadata": {},
   "source": [
    "We can *apply* this function to every row, returning a Series, by using the\n",
    "DataFrame `apply` function with `axis=1`.  `axis=1` means apply the function to\n",
    "each value selected across the second axis, that is, across the columns.  When\n",
    "we ask for a value across the columns, the function will get one row at a time\n",
    "— one row consists of all the columns values for one row.\n",
    "\n",
    "When we `.apply` the function, it returns a new Series, where each value is the\n",
    "result of applying the `apply_on_row` function to one row:"
   ]
  },
  {
   "cell_type": "code",
   "execution_count": null,
   "id": "6d8a3679",
   "metadata": {},
   "outputs": [],
   "source": [
    "subtracted_height = galton.apply(apply_on_row, axis=1)\n",
    "subtracted_height"
   ]
  },
  {
   "cell_type": "markdown",
   "id": "77d9dbe7",
   "metadata": {},
   "source": [
    "We could put this calculation back into the original DataFrame as a new column:"
   ]
  },
  {
   "cell_type": "code",
   "execution_count": null,
   "id": "4882562d",
   "metadata": {},
   "outputs": [],
   "source": [
    "galton['height_diff'] = subtracted_height\n",
    "galton.head()"
   ]
  }
 ],
 "metadata": {
  "jupytext": {
   "notebook_metadata_filter": "all,-language_info",
   "split_at_heading": true
  },
  "kernelspec": {
   "display_name": "Python (Pyodide)",
   "name": "python"
  }
 },
 "nbformat": 4,
 "nbformat_minor": 5
}
