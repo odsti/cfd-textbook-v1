{
 "cells": [
  {
   "cell_type": "markdown",
   "id": "53bd9e37",
   "metadata": {},
   "source": [
    "# Selecting rows from DataFrames"
   ]
  },
  {
   "cell_type": "code",
   "execution_count": null,
   "id": "380e7854",
   "metadata": {},
   "outputs": [],
   "source": [
    "# Load the Pandas data science library, call it 'pd'\n",
    "import pandas as pd\n",
    "# Turn on a setting to use Pandas more safely.\n",
    "# We will discuss this setting later.\n",
    "pd.set_option('mode.copy_on_write', True)\n",
    "\n",
    "# Load the library for plotting, name it 'plt'\n",
    "import matplotlib.pyplot as plt\n",
    "# Make plots look a little more fancy\n",
    "plt.style.use('fivethirtyeight')"
   ]
  },
  {
   "cell_type": "markdown",
   "id": "ae874311",
   "metadata": {},
   "source": [
    "We return again to the DataFrame we were working on in [basic column\n",
    "indexing](df_basic_col_indexing.Rmd)."
   ]
  },
  {
   "cell_type": "code",
   "execution_count": null,
   "id": "c8d56b0e",
   "metadata": {},
   "outputs": [],
   "source": [
    "# Original data frame before dropping missing values.\n",
    "gender_data = pd.read_csv('data/gender_stats_min.csv')\n",
    "labeled_gdata = gender_data.dropna().set_index('country_code')\n",
    "# Show the result\n",
    "labeled_gdata"
   ]
  },
  {
   "cell_type": "markdown",
   "id": "241fcb06",
   "metadata": {},
   "source": [
    "Thus far we have used DataFrame indexing to select columns from DataFrames.\n",
    "\n",
    "Remember, *indexing* is where we use square brackets following a value in order\n",
    "to select data from inside that value.\n",
    "\n",
    "We also often want to select rows from DataFrames.   You have already seen\n",
    "the `.head` and `.tail` methods, for selecting rows.\n",
    "\n",
    "This page covers a more general, and more useful way of selecting rows, using\n",
    "*direct indexing with a Boolean Series* (DIBS).\n"
   ]
  },
  {
   "cell_type": "markdown",
   "id": "6814ff69",
   "metadata": {},
   "source": [
    "## Direct indexing with a Boolean Series\n",
    "\n",
    "We often want to select rows from the data frame that match some criterion.\n",
    "\n",
    "For example, let us return to the problem of comparing richer and poorer\n",
    "countries.   So far we have sorted the DataFrame with `.sort_values` and then\n",
    "selected the first $n$ or last $n$ values, using `.head` and `.tail`.  But what\n",
    "if we wanted to select the rows corresponding the countries with a GDP above\n",
    "some threshold.\n",
    "\n",
    "Here's are the GDP values as a Series.  We are using *direct indexing with\n",
    "column labels* (DICL) on the DataFrame, to get the column as a Series:"
   ]
  },
  {
   "cell_type": "code",
   "execution_count": null,
   "id": "14a86de3",
   "metadata": {},
   "outputs": [],
   "source": [
    "# Direct indexing with column labels (DICL).\n",
    "gdp = labeled_gdata['gdp_us_billion']\n",
    "gdp"
   ]
  },
  {
   "cell_type": "markdown",
   "id": "0422197e",
   "metadata": {},
   "source": [
    "Here's the histogram of GDP again:"
   ]
  },
  {
   "cell_type": "code",
   "execution_count": null,
   "id": "4cb39370",
   "metadata": {},
   "outputs": [],
   "source": [
    "plt.hist(gdp)"
   ]
  },
  {
   "cell_type": "markdown",
   "id": "39965f39",
   "metadata": {},
   "source": [
    "Looking at the histogram, we could try 1000 (billion US dollars) as a threshold\n",
    "to identify high GDP countries.\n",
    "\n",
    "As you have found in the [Series are like arrays](series_like_arrays.Rmd) page,\n",
    "Series are like arrays in many ways.  As you remember, if you do a comparison\n",
    "on an array, you get a Boolean array, where each value in the Boolean array is\n",
    "the `True` or `False` answer to the comparison question for the corresponding\n",
    "element in the original array.  If you do a comparison on a Series, you get a\n",
    "Boolean Series, where each value in the Series is the `True` or `False` answer\n",
    "to the comparison question for the corresponding element in the original\n",
    "Series.\n",
    "\n",
    "For example, here we do a comparison on the `gdp` series, and we get a Boolean Series."
   ]
  },
  {
   "cell_type": "code",
   "execution_count": null,
   "id": "93e6a004",
   "metadata": {},
   "outputs": [],
   "source": [
    "gdp_gt_1000 = gdp > 1000\n",
    "gdp_gt_1000"
   ]
  },
  {
   "cell_type": "markdown",
   "id": "2e2914da",
   "metadata": {},
   "source": [
    "Notice that the Boolean Series has the same row labels (index) as the original\n",
    "Series (here, `gdp`).\n",
    "\n",
    "The Boolean Series is — a Series:"
   ]
  },
  {
   "cell_type": "code",
   "execution_count": null,
   "id": "1242f425",
   "metadata": {},
   "outputs": [],
   "source": [
    "type(gdp_gt_1000)"
   ]
  },
  {
   "cell_type": "markdown",
   "id": "4da8159a",
   "metadata": {},
   "source": [
    "We can use this Boolean series to select rows from the DataFrame, by *Boolean\n",
    "indexing* — *direct indexing with Boolean Series* (DIBS).\n",
    "\n",
    "When we index using the Boolean Series inside the square brackets, it works\n",
    "like as it does when we index an array with a Boolean array:"
   ]
  },
  {
   "cell_type": "code",
   "execution_count": null,
   "id": "eb8d8e5a",
   "metadata": {},
   "outputs": [],
   "source": [
    "rich_gender_data = labeled_gdata[gdp_gt_1000]\n",
    "rich_gender_data"
   ]
  },
  {
   "cell_type": "code",
   "execution_count": null,
   "id": "d95a18c6",
   "metadata": {},
   "outputs": [],
   "source": [
    "type(rich_gender_data)"
   ]
  },
  {
   "cell_type": "markdown",
   "id": "e54390de",
   "metadata": {},
   "source": [
    "`rich_gender_data` is a new data frame, that is a subset of the original\n",
    "`labeled_gdata` frame.  It contains only the rows where the GDP value is\n",
    "greater than `1000` billion dollars.  Check the display of `rich_gender_data`\n",
    "above to confirm that the values in the `gdp_us_billion` column are all greater\n",
    "than `1000`.\n",
    "\n",
    "We can do a scatter plot of GDP values against maternal mortality rate, and we\n",
    "find again that, for rich countries, there is little relationship between GDP\n",
    "and maternal mortality."
   ]
  },
  {
   "cell_type": "code",
   "execution_count": null,
   "id": "7752da10",
   "metadata": {},
   "outputs": [],
   "source": [
    "plt.scatter(rich_gender_data['gdp_us_billion'],\n",
    "            rich_gender_data['mat_mort_ratio'])"
   ]
  }
 ],
 "metadata": {
  "jupyterbook": {
   "show_stderr": true
  },
  "jupytext": {
   "formats": "",
   "notebook_metadata_filter": "all,-language_info",
   "split_at_heading": true
  },
  "kernelspec": {
   "display_name": "Python (Pyodide)",
   "name": "python"
  }
 },
 "nbformat": 4,
 "nbformat_minor": 5
}
