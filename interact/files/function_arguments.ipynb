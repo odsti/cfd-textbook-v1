{
 "cells": [
  {
   "cell_type": "markdown",
   "id": "f77652c7",
   "metadata": {},
   "source": [
    "# Function arguments\n",
    "\n",
    "So far we have used function arguments in a basic way; this is the way that is\n",
    "familiar from mathematics:"
   ]
  },
  {
   "cell_type": "code",
   "execution_count": null,
   "id": "d60b5bb4",
   "metadata": {},
   "outputs": [],
   "source": [
    "# Load the Numpy package, and rename to \"np\"\n",
    "import numpy as np"
   ]
  },
  {
   "cell_type": "code",
   "execution_count": null,
   "id": "e6db801f",
   "metadata": {},
   "outputs": [],
   "source": [
    "np.cos(0)"
   ]
  },
  {
   "cell_type": "markdown",
   "id": "dd532483",
   "metadata": {},
   "source": [
    "Here is another Numpy function, that you have already seen:"
   ]
  },
  {
   "cell_type": "code",
   "execution_count": null,
   "id": "ab5fa61e",
   "metadata": {},
   "outputs": [],
   "source": [
    "np.arange(0, 10)"
   ]
  },
  {
   "cell_type": "markdown",
   "id": "5b80f8ed",
   "metadata": {},
   "source": [
    "Remember, this is a sequence of integers, starting at 0 (the first argument),\n",
    "up to *but not including* 10 (the second argument).\n",
    "\n",
    "Now let us look at the help for the `np.arange` function.  As usual, we do this\n",
    "by appending `?` to the function name, and pressing Enter in the notebook."
   ]
  },
  {
   "cell_type": "code",
   "execution_count": null,
   "id": "801a226f",
   "metadata": {},
   "outputs": [],
   "source": [
    "# To see the help for np.arange, remove the # at the beginning\n",
    "# of the next line, and execute this cell.\n",
    "np.arange?"
   ]
  },
  {
   "cell_type": "markdown",
   "id": "36f2f46a",
   "metadata": {},
   "source": [
    "You should see the help, preceded by a function signature something like this:\n",
    "\n",
    "```\n",
    "arange([start,] stop[, step,], dtype=None, *, like=None)\n",
    "```\n",
    "\n",
    "(Ignore the `*` in the signature for now. Also ignore the square brackets in\n",
    "the signature, they do not change what arguments we can pass).  The signature\n",
    "tells us function can accept up to five arguments. We have passed two. The\n",
    "first sets the argument called `start` to be 0, and the second sets the\n",
    "argument called `stop` to be 2.\n",
    "\n",
    "To take another example, in this case we are asking for a sequence of numbers\n",
    "starting at 1 up to, but not including 11. `start` is 1 and `stop` is 11.\n"
   ]
  },
  {
   "cell_type": "code",
   "execution_count": null,
   "id": "2e8ef23a",
   "metadata": {},
   "outputs": [],
   "source": [
    "# All integers from 1 through 10.\n",
    "np.arange(1, 11)"
   ]
  },
  {
   "cell_type": "markdown",
   "id": "c128cb95",
   "metadata": {},
   "source": [
    "If we pass three arguments, we also set the `step` argument, to set the step\n",
    "size between integers. The following asks for all integers from -1 up to, but\n",
    "not including 20, in steps of 4."
   ]
  },
  {
   "cell_type": "code",
   "execution_count": null,
   "id": "ce8539ba",
   "metadata": {},
   "outputs": [],
   "source": [
    "# All integers from -1 up to, but not including 20, in steps of 4.\n",
    "np.arange(-1, 20, 4)"
   ]
  },
  {
   "cell_type": "markdown",
   "id": "3a2e9549",
   "metadata": {},
   "source": [
    "Notice that this is an *array*.\n",
    "\n",
    "Now look again at the help.  Notice that the help gives each argument a *name*:\n",
    "`start`, `stop`, `step`.  We can also use these names when we set these\n",
    "arguments.  For example, the cell below does exactly the same thing as the cell\n",
    "above."
   ]
  },
  {
   "cell_type": "code",
   "execution_count": null,
   "id": "1231d9f9",
   "metadata": {},
   "outputs": [],
   "source": [
    "# All integers from -1 up to, but not including 20, in steps of 4.\n",
    "np.arange(start=-1, stop=20, step=4)"
   ]
  },
  {
   "cell_type": "markdown",
   "id": "120a1b36",
   "metadata": {},
   "source": [
    "When we call the function using the arguments with their names like this, the\n",
    "named arguments are called *keyword* arguments."
   ]
  },
  {
   "cell_type": "markdown",
   "id": "50a2a0a6",
   "metadata": {},
   "source": [
    "Passing the arguments like this, using keywords, can be very useful, to make it\n",
    "clearer what each argument means.   For example, it is a common pattern to call\n",
    "a function with one or a few keyword arguments, like this:"
   ]
  },
  {
   "cell_type": "code",
   "execution_count": null,
   "id": "5fe33e62",
   "metadata": {},
   "outputs": [],
   "source": [
    "# Same as above.\n",
    "np.arange(-1, 20, step=4)"
   ]
  },
  {
   "cell_type": "markdown",
   "id": "6c1be4b3",
   "metadata": {},
   "source": [
    "Writing the call like the cell gives exactly the same result as the cell below,\n",
    "but the cell above can be easier to follow, because the person reading the code\n",
    "does not have to guess what the 4 means — they can see that it means the step\n",
    "of the output array.\n",
    "\n",
    "Another large benefit of keyword arguments is that it allows us to skip some\n",
    "arguments we are not interested in.  For example, lets say we are happy with\n",
    "the default `step` size of 1, but we do want to pass the `dtype` argument, that\n",
    "sets the data type of the output array.\n",
    "\n",
    "We could do that by passing the default step size, like this:"
   ]
  },
  {
   "cell_type": "code",
   "execution_count": null,
   "id": "7a9d552a",
   "metadata": {},
   "outputs": [],
   "source": [
    "# Float dtype, specifying step size.\n",
    "np.arange(1, 11, 1, dtype=float)"
   ]
  },
  {
   "cell_type": "markdown",
   "id": "931db0f5",
   "metadata": {},
   "source": [
    "Notice that the array values now have decimal points after them, indicating\n",
    "that they are floating point values.\n",
    "\n",
    "But we have already seen that the `step` size is a keyword argument, with a\n",
    "*default* value of 1.  That means, if we don't specify the `step`, the assumed\n",
    "value will be 1.   We can therefore specify `dtype` without having to specify\n",
    "`step`, like this:"
   ]
  },
  {
   "cell_type": "code",
   "execution_count": null,
   "id": "8afd3044",
   "metadata": {},
   "outputs": [],
   "source": [
    "# Same as above.  Notice, we didn't specify `step` this time.\n",
    "np.arange(1, 11,  dtype=float)"
   ]
  },
  {
   "cell_type": "markdown",
   "id": "0f43dfca",
   "metadata": {},
   "source": [
    "To take another example, we have already seen the function `round`.  Inspect\n",
    "the help for `round` with `round?` and Enter in a notebook cell.\n",
    "\n",
    "`round` takes up to two arguments.  If we pass one argument, it is just the\n",
    "value that `round` will round to the nearest integer:"
   ]
  },
  {
   "cell_type": "code",
   "execution_count": null,
   "id": "374e1ede",
   "metadata": {},
   "outputs": [],
   "source": [
    "round(3.1415)"
   ]
  },
  {
   "cell_type": "markdown",
   "id": "d7ceb9bb",
   "metadata": {},
   "source": [
    "If we pass two arguments, the first argument is the value we will round, and\n",
    "the second is the number of digits to round to, like this:"
   ]
  },
  {
   "cell_type": "code",
   "execution_count": null,
   "id": "fb0f0984",
   "metadata": {},
   "outputs": [],
   "source": [
    "round(3.1415, 2)"
   ]
  },
  {
   "cell_type": "markdown",
   "id": "8d4a71ad",
   "metadata": {},
   "source": [
    "As you saw in the help, the second argument has the name `ndigits`, so we can\n",
    "also write:"
   ]
  },
  {
   "cell_type": "code",
   "execution_count": null,
   "id": "8ddf76bd",
   "metadata": {},
   "outputs": [],
   "source": [
    "round(3.1415, ndigits=2)"
   ]
  },
  {
   "cell_type": "markdown",
   "id": "5bf1365d",
   "metadata": {},
   "source": [
    "As before, this makes the code a little bit easier to read and understand,\n",
    "because it is immediately clear from the name `ndigits` that the 2 means the\n",
    "number of digits to round to."
   ]
  }
 ],
 "metadata": {
  "jupytext": {
   "split_at_heading": true
  },
  "kernelspec": {
   "display_name": "Python (Pyodide)",
   "name": "python"
  }
 },
 "nbformat": 4,
 "nbformat_minor": 5
}
