{
 "cells": [
  {
   "cell_type": "markdown",
   "id": "fcd27f11",
   "metadata": {},
   "source": [
    "# Boolean arrays"
   ]
  },
  {
   "cell_type": "code",
   "execution_count": null,
   "id": "36a67e80",
   "metadata": {},
   "outputs": [],
   "source": [
    "# Import the array library\n",
    "import numpy as np\n",
    "# Make random number generator.\n",
    "rng = np.random.default_rng()"
   ]
  },
  {
   "cell_type": "markdown",
   "id": "9f727ce9",
   "metadata": {},
   "source": [
    "We continue to improve on our implementation for solving the [three girls\n",
    "problem](three_girls).\n",
    "\n",
    "The [random choice](rng_choice) page gave us a way to simulate the four children of a family in one go:"
   ]
  },
  {
   "cell_type": "code",
   "execution_count": null,
   "id": "e198510e",
   "metadata": {},
   "outputs": [],
   "source": [
    "sexes = [0, 1]\n",
    "children = rng.choice(sexes, size=4)\n",
    "children"
   ]
  },
  {
   "cell_type": "markdown",
   "id": "111b6824",
   "metadata": {},
   "source": [
    "The next step is to get the count of girls from our four simulated children.   Because girls are 1 and boys are 0, we can do that with:"
   ]
  },
  {
   "cell_type": "code",
   "execution_count": null,
   "id": "c6e361da",
   "metadata": {},
   "outputs": [],
   "source": [
    "# Add up the integers to count the number of girls.\n",
    "count = np.sum(children)\n",
    "count"
   ]
  },
  {
   "cell_type": "markdown",
   "id": "b687ba73",
   "metadata": {},
   "source": [
    "Our interest in whether the `count` value is equal to 3. We can look at that\n",
    "number and write down \"Yes\" if the number is equal to 3 and \"No\" otherwise, but\n",
    "we would like the computer to do that routine work for us.  We use\n",
    "[comparison](Comparison):"
   ]
  },
  {
   "cell_type": "code",
   "execution_count": null,
   "id": "06114f78",
   "metadata": {},
   "outputs": [],
   "source": [
    "is_three = count == 3\n",
    "is_three"
   ]
  },
  {
   "cell_type": "markdown",
   "id": "584ed909",
   "metadata": {},
   "source": [
    "True means our simulation found a family with three girls, and False means we\n",
    "found a family some other number of girls.\n",
    "\n",
    "In a while, we are going to simulate a very large number of these families, but\n",
    "for now, let us simulate 5 families, in a somewhat laborious way:"
   ]
  },
  {
   "cell_type": "code",
   "execution_count": null,
   "id": "b5f96177",
   "metadata": {},
   "outputs": [],
   "source": [
    "# Make an array to store the counts for each family.\n",
    "counts = np.zeros(5)\n",
    "# Make five families, store the counts.\n",
    "family = rng.choice(sexes, size=4)\n",
    "counts[0] = np.sum(family)\n",
    "# Second family\n",
    "family = rng.choice(sexes, size=4)\n",
    "counts[1] = np.sum(family)\n",
    "# Third\n",
    "family = rng.choice(sexes, size=4)\n",
    "counts[2] = np.sum(family)\n",
    "# Fourth\n",
    "family = rng.choice(sexes, size=4)\n",
    "counts[3] = np.sum(family)\n",
    "# Fifth.\n",
    "family = rng.choice(sexes, size=4)\n",
    "counts[4] = np.sum(family)\n",
    "# Show the counts\n",
    "counts"
   ]
  },
  {
   "cell_type": "markdown",
   "id": "48bda09b",
   "metadata": {},
   "source": [
    "Each value in `counts` is the number of girls in one simulated family.\n",
    "\n",
    "Now we have 5 numbers for which we want to ask the question - is this number\n",
    "equal to 3?  We would like five corresponding True or False values.\n",
    "\n",
    "Here is where arrays continue to work their magic - we can get this result with a single expression:"
   ]
  },
  {
   "cell_type": "code",
   "execution_count": null,
   "id": "c2c1163d",
   "metadata": {},
   "outputs": [],
   "source": [
    "are_three = counts == 3\n",
    "are_three"
   ]
  },
  {
   "cell_type": "markdown",
   "id": "3903ecb8",
   "metadata": {},
   "source": [
    "`are_three` is an array with 5 elements, one for every element in the array we\n",
    "compared, `counts`.\n",
    "\n",
    "`are_three` is a *Boolean array* because it contains only Boolean (True, False) values.\n",
    "\n",
    "We can see what kind of data the array contains by looking at the `dtype` attribute of the array.  Remember, an attribute is a value attached to another value. In this case it is a value attached to the `are_three` value."
   ]
  },
  {
   "cell_type": "code",
   "execution_count": null,
   "id": "2ae4169d",
   "metadata": {},
   "outputs": [],
   "source": [
    "are_three.dtype"
   ]
  },
  {
   "cell_type": "markdown",
   "id": "0652ff74",
   "metadata": {},
   "source": [
    "Each element in `are_three` has the result of the comparison for the\n",
    "corresponding element.  The code above is equivalent to doing:"
   ]
  },
  {
   "cell_type": "code",
   "execution_count": null,
   "id": "22ea918c",
   "metadata": {},
   "outputs": [],
   "source": [
    "# Make an array of Boolean type (the \"dtype\" argument)\n",
    "are_three_longhand = np.zeros(5, dtype=bool)\n",
    "# Do the comparisons one by one.\n",
    "are_three_longhand[0] = counts[0] == 3\n",
    "are_three_longhand[1] = counts[1] == 3\n",
    "are_three_longhand[2] = counts[2] == 3\n",
    "are_three_longhand[3] = counts[3] == 3\n",
    "are_three_longhand[4] = counts[4] == 3\n",
    "# Show the result\n",
    "are_three_longhand"
   ]
  },
  {
   "cell_type": "markdown",
   "id": "fdc3f2fc",
   "metadata": {},
   "source": [
    "Now we want to know how many of the `counts` values are equal to 3.  This is\n",
    "the same as asking how many True values there are in `are_three` (or\n",
    "`are_three_longhand`.\n",
    "\n",
    "We can do this using the `np.count_nonzero` function.  It accepts an array as its argument, and returns the number of non-zero values in the array.  It turns out that `np.count_nonzero` treats True as non-zero, and False as zero, so `np.count_nonzero` on a Boolean array counts the number of True values:"
   ]
  },
  {
   "cell_type": "code",
   "execution_count": null,
   "id": "557a9b30",
   "metadata": {},
   "outputs": [],
   "source": [
    "my_booleans = np.array([True, False, True])\n",
    "np.count_nonzero(my_booleans)"
   ]
  },
  {
   "cell_type": "markdown",
   "id": "030517d9",
   "metadata": {},
   "source": [
    "To see the number of times we found 3 in `counts`:"
   ]
  },
  {
   "cell_type": "code",
   "execution_count": null,
   "id": "87370c63",
   "metadata": {},
   "outputs": [],
   "source": [
    "np.count_nonzero(are_three)"
   ]
  }
 ],
 "metadata": {
  "jupytext": {
   "notebook_metadata_filter": "all,-language_info",
   "split_at_heading": true
  },
  "kernelspec": {
   "display_name": "Python (Pyodide)",
   "name": "python"
  }
 },
 "nbformat": 4,
 "nbformat_minor": 5
}
