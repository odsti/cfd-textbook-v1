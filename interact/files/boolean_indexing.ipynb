{
 "cells": [
  {
   "cell_type": "markdown",
   "id": "6387607d",
   "metadata": {},
   "source": [
    "# Indexing with Boolean arrays\n",
    "\n",
    "As usual with arrays, we need the Numpy library:"
   ]
  },
  {
   "cell_type": "code",
   "execution_count": null,
   "id": "3ed8695c",
   "metadata": {},
   "outputs": [],
   "source": [
    "import numpy as np"
   ]
  },
  {
   "cell_type": "markdown",
   "id": "1aac1d44",
   "metadata": {},
   "source": [
    "Just for neatness below, we will only show numbers in arrays to 2 decimal\n",
    "places.  This doesn't affect any calculations, it just changes what we see when\n",
    "we show arrays in Jupyter:"
   ]
  },
  {
   "cell_type": "code",
   "execution_count": null,
   "id": "ffff9501",
   "metadata": {},
   "outputs": [],
   "source": [
    "# Set how many decimal places to display when showing arrays.\n",
    "np.set_printoptions(precision=2)"
   ]
  },
  {
   "cell_type": "markdown",
   "id": "53a42a25",
   "metadata": {},
   "source": [
    "## Select values with Boolean arrays\n",
    "\n",
    "Here we are using Boolean arrays to *index* into other arrays.  You will see\n",
    "what we mean by that by the end of this section.\n",
    "\n",
    "We often want to select several elements from an array according to some\n",
    "criterion.\n",
    "\n",
    "The most common way to do this, is to do array slicing, using\n",
    "a Boolean array between the square brackets.\n",
    "\n",
    "It can be easier to understand this by example than by description."
   ]
  },
  {
   "cell_type": "markdown",
   "id": "9294b381",
   "metadata": {},
   "source": [
    "We start with the [RateMyProfessors dataset](data/rate_my_professors).\n",
    "\n",
    "It is a table where the rows are academic disciplines, and the columns contain\n",
    "the average student rating values for the corresponding discipline.  We are\n",
    "going to fetch the columns from this table as arrays.\n",
    "\n",
    "If you are running on your laptop, you should download the\n",
    "{download}`rate_my_course.csv <data/rate_my_course.csv>` file to the same\n",
    "directory as this notebook."
   ]
  },
  {
   "cell_type": "code",
   "execution_count": null,
   "id": "0ae76e62",
   "metadata": {},
   "outputs": [],
   "source": [
    "# We have not covered this code yet.  We will soon.\n",
    "# Load the library for reading data files.\n",
    "import pandas as pd\n",
    "pd.set_option('mode.copy_on_write', True)\n",
    "# Read the file into a table, select the first six rows.\n",
    "big_courses = pd.read_csv('data/rate_my_course.csv').head(6)\n",
    "# Put the columns into arrays, each with six elements.\n",
    "# The disciplines (names of disciplines).\n",
    "disciplines = np.array(big_courses['Discipline'])\n",
    "# The corresponding average scores for Easiness.\n",
    "easiness = np.array(big_courses['Easiness'])"
   ]
  },
  {
   "cell_type": "markdown",
   "id": "53aa6c09",
   "metadata": {},
   "source": [
    "We now have the names of the disciplines with the largest number of professors."
   ]
  },
  {
   "cell_type": "code",
   "execution_count": null,
   "id": "0b7a55b1",
   "metadata": {},
   "outputs": [],
   "source": [
    "disciplines"
   ]
  },
  {
   "cell_type": "markdown",
   "id": "9f175332",
   "metadata": {},
   "source": [
    "Here are the \"Easiness\" scores for the six largest courses:"
   ]
  },
  {
   "cell_type": "code",
   "execution_count": null,
   "id": "00f9422c",
   "metadata": {},
   "outputs": [],
   "source": [
    "easiness"
   ]
  },
  {
   "cell_type": "markdown",
   "id": "045f638f",
   "metadata": {},
   "source": [
    "These are the easiness ratings corresponding to the `disciplines` we saw\n",
    "earlier.  The top (largest) discipline is:"
   ]
  },
  {
   "cell_type": "code",
   "execution_count": null,
   "id": "3958c74a",
   "metadata": {},
   "outputs": [],
   "source": [
    "disciplines[0]"
   ]
  },
  {
   "cell_type": "markdown",
   "id": "6540ace8",
   "metadata": {},
   "source": [
    "The Easiness rating for that course is:"
   ]
  },
  {
   "cell_type": "code",
   "execution_count": null,
   "id": "9e29d7f4",
   "metadata": {},
   "outputs": [],
   "source": [
    "easiness[0]"
   ]
  },
  {
   "cell_type": "markdown",
   "id": "018922f1",
   "metadata": {},
   "source": [
    "## Boolean arrays\n",
    "\n",
    "Boolean arrays are arrays that contain values that are one of True or False.\n",
    "\n",
    "Here is a Boolean array, created from applying a comparison to an array:"
   ]
  },
  {
   "cell_type": "code",
   "execution_count": null,
   "id": "3be84963",
   "metadata": {},
   "outputs": [],
   "source": [
    "greater_than_3 = easiness > 3\n",
    "greater_than_3"
   ]
  },
  {
   "cell_type": "markdown",
   "id": "6d80651d",
   "metadata": {},
   "source": [
    "This has a `True` value at the positions of elements > 3, and `False`\n",
    "otherwise."
   ]
  },
  {
   "cell_type": "markdown",
   "id": "06aeb139",
   "metadata": {},
   "source": [
    "We can do things like count the number of `True` values in the Boolean array:"
   ]
  },
  {
   "cell_type": "code",
   "execution_count": null,
   "id": "15b3dfa1",
   "metadata": {},
   "outputs": [],
   "source": [
    "np.count_nonzero(greater_than_3)"
   ]
  },
  {
   "cell_type": "markdown",
   "id": "a98da37a",
   "metadata": {},
   "source": [
    "Now let us say that we wanted to get the elements from `easiness`\n",
    "that are greater than 3.   That is, we want to get the elements in `easiness`\n",
    "for which the corresponding element in `greater_than_3` is `True`.\n",
    "\n",
    "We can do this with *Boolean array indexing*.  The Boolean array goes between\n",
    "the square brackets, after the array name.  As a reminder:"
   ]
  },
  {
   "cell_type": "code",
   "execution_count": null,
   "id": "ad5125d5",
   "metadata": {},
   "outputs": [],
   "source": [
    "# The easiness array\n",
    "easiness"
   ]
  },
  {
   "cell_type": "code",
   "execution_count": null,
   "id": "9319d12e",
   "metadata": {},
   "outputs": [],
   "source": [
    "# The greater_than_3 Boolean array\n",
    "greater_than_3"
   ]
  },
  {
   "cell_type": "markdown",
   "id": "717d03c6",
   "metadata": {},
   "source": [
    "We put the Boolean array between square brackets, after the array we want to get values from, like this:"
   ]
  },
  {
   "cell_type": "code",
   "execution_count": null,
   "id": "3091379b",
   "metadata": {},
   "outputs": [],
   "source": [
    "# Boolean indexing into the easiness array.\n",
    "easiness[greater_than_3]"
   ]
  },
  {
   "cell_type": "markdown",
   "id": "6424114c",
   "metadata": {},
   "source": [
    "We have selected the numbers in `easiness` that are greater than 3.\n",
    "\n",
    "See the picture below for an illustration of what is happening:\n",
    "\n",
    "![](images/easiness_values.png)\n",
    "\n",
    "We can use this same Boolean array to index into another array.  For example,\n",
    "here we show the discipline *names* corresponding to the courses with Easiness\n",
    "scores greater than 3:"
   ]
  },
  {
   "cell_type": "code",
   "execution_count": null,
   "id": "a47c5eb5",
   "metadata": {},
   "outputs": [],
   "source": [
    "disciplines[greater_than_3]"
   ]
  },
  {
   "cell_type": "markdown",
   "id": "6f570319",
   "metadata": {},
   "source": [
    "See the picture below for an illustration of how this works:\n",
    "\n",
    "![](images/easiness_reused.png)"
   ]
  },
  {
   "cell_type": "markdown",
   "id": "d66dad00",
   "metadata": {},
   "source": [
    "## Setting values with Boolean arrays\n",
    "\n",
    "You have seen, above, that Boolean indexing can select values from an array:"
   ]
  },
  {
   "cell_type": "code",
   "execution_count": null,
   "id": "e01f364b",
   "metadata": {},
   "outputs": [],
   "source": [
    "# Create the Boolean array\n",
    "another_array = np.array([2, 3, 4, 2, 1, 5, 1, 0, 3])\n",
    "are_gt_2 = another_array > 2\n",
    "are_gt_2"
   ]
  },
  {
   "cell_type": "code",
   "execution_count": null,
   "id": "fcb19d33",
   "metadata": {},
   "outputs": [],
   "source": [
    "# Get the values by indexing with the Boolean array.\n",
    "# Return only the values of 'another_array' where the Boolean array has True.\n",
    "another_array[are_gt_2]"
   ]
  },
  {
   "cell_type": "markdown",
   "id": "80a1305c",
   "metadata": {},
   "source": [
    "Given what you know, what do you think would happen with:\n",
    "\n",
    "```\n",
    "another_array[are_gt_2] = 10\n",
    "another_array\n",
    "```\n",
    "\n",
    "Try it."
   ]
  }
 ],
 "metadata": {
  "jupytext": {
   "notebook_metadata_filter": "language_info"
  },
  "kernelspec": {
   "display_name": "Python (Pyodide)",
   "name": "python"
  },
  "language_info": {
   "codemirror_mode": {
    "name": "ipython",
    "version": 3
   },
   "file_extension": ".py",
   "mimetype": "text/x-python",
   "name": "python",
   "nbconvert_exporter": "python",
   "pygments_lexer": "ipython3",
   "version": "3.6.5"
  }
 },
 "nbformat": 4,
 "nbformat_minor": 5
}
