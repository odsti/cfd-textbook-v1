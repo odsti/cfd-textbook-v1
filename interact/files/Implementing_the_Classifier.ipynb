{
 "cells": [
  {
   "cell_type": "markdown",
   "id": "769ed914",
   "metadata": {},
   "source": [
    "# Implementing the classifier"
   ]
  },
  {
   "cell_type": "code",
   "execution_count": null,
   "id": "a1949067",
   "metadata": {
    "tags": [
     "hide-cell"
    ]
   },
   "outputs": [],
   "source": [
    "# HIDDEN\n",
    "import numpy as np\n",
    "import matplotlib.pyplot as plt\n",
    "plt.style.use('fivethirtyeight')\n",
    "import pandas as pd\n",
    "pd.set_option('mode.copy_on_write', True)"
   ]
  },
  {
   "cell_type": "markdown",
   "id": "81405806",
   "metadata": {},
   "source": [
    "We are now ready to implement a $k$-nearest neighbor classifier based on multiple attributes. We have used only two attributes so far, for ease of visualization. But usually predictions will be based on many attributes. Here is an example that shows how multiple attributes can be better than pairs."
   ]
  },
  {
   "cell_type": "markdown",
   "id": "b9b8b3fa",
   "metadata": {},
   "source": [
    "## Banknote authentication\n",
    "\n",
    "This time we'll look at predicting whether a banknote (e.g., a \\$20 bill) is counterfeit or legitimate.  Researchers have put together a data set for us, based on photographs of many individual banknotes: some counterfeit, some legitimate.  They computed a few numbers from each image, using techniques that we won't worry about for this course.  So, for each banknote, we know a few numbers that were computed from a photograph of it as well as its class (whether it is counterfeit or not).  Let's load it into a table and take a look.\n",
    "\n",
    "If you are running on your laptop, you should download the\n",
    "{download}`banknote <data/banknote.csv>` file to the\n",
    "same directory as this notebook."
   ]
  },
  {
   "cell_type": "code",
   "execution_count": null,
   "id": "ae3b346d",
   "metadata": {},
   "outputs": [],
   "source": [
    "banknotes = pd.read_csv('data/banknote.csv')\n",
    "banknotes.head()"
   ]
  },
  {
   "cell_type": "markdown",
   "id": "3dc1a754",
   "metadata": {},
   "source": [
    "Let's look at whether the first two numbers tell us anything about whether the banknote is counterfeit or not.  Here's a scatterplot:"
   ]
  },
  {
   "cell_type": "code",
   "execution_count": null,
   "id": "9bcbb6ba",
   "metadata": {},
   "outputs": [],
   "source": [
    "banknotes['Color'] = 'darkblue'\n",
    "banknotes.loc[banknotes['Class'] == 0, 'Color'] = 'gold'"
   ]
  },
  {
   "cell_type": "code",
   "execution_count": null,
   "id": "26fd3323",
   "metadata": {},
   "outputs": [],
   "source": [
    "banknotes.plot.scatter('WaveletVar',\n",
    "                       'WaveletCurt',\n",
    "                       c=banknotes['Color']);"
   ]
  },
  {
   "cell_type": "markdown",
   "id": "36d45f70",
   "metadata": {},
   "source": [
    "Pretty interesting!  Those two measurements do seem helpful for predicting whether the banknote is counterfeit or not.  However, in this example you can now see that there is some overlap between the blue cluster and the gold cluster.  This indicates that there will be some images where it's hard to tell whether the banknote is legitimate based on just these two numbers.  Still, you could use a $k$-nearest neighbor classifier to predict the legitimacy of a banknote.\n",
    "\n",
    "Take a minute and think it through: Suppose we used $k=11$ (say).  What parts of the plot would the classifier get right, and what parts would it make errors on?  What would the decision boundary look like?\n",
    "\n",
    "The patterns that show up in the data can get pretty wild.  For instance, here's what we'd get if used a different pair of measurements from the images:"
   ]
  },
  {
   "cell_type": "code",
   "execution_count": null,
   "id": "418b5a69",
   "metadata": {},
   "outputs": [],
   "source": [
    "banknotes.plot.scatter('WaveletSkew', 'Entropy',\n",
    "                       c=banknotes['Color']);"
   ]
  },
  {
   "cell_type": "markdown",
   "id": "0bc8218a",
   "metadata": {},
   "source": [
    "There does seem to be a pattern, but it's a pretty complex one.  Nonetheless, the $k$-nearest neighbors classifier can still be used and will effectively \"discover\" patterns out of this.  This illustrates how powerful machine learning can be: it can effectively take advantage of even patterns that we would not have anticipated, or that we would have thought to \"program into\" the computer."
   ]
  },
  {
   "cell_type": "markdown",
   "id": "b3153670",
   "metadata": {},
   "source": [
    "## Multiple attributes\n",
    "\n",
    "So far I've been assuming that we have exactly 2 attributes that we can use to help us make our prediction.  What if we have more than 2?  For instance, what if we have 3 attributes?\n",
    "\n",
    "Here's the cool part: you can use the same ideas for this case, too.  All you have to do is make a 3-dimensional scatterplot, instead of a 2-dimensional plot.  You can still use the $k$-nearest neighbors classifier, but now computing distances in 3 dimensions instead of just 2.  It just works.  Very cool!\n",
    "\n",
    "In fact, there's nothing special about 2 or 3.  If you have 4 attributes, you can use the $k$-nearest neighbors classifier in 4 dimensions.  5 attributes?  Work in 5-dimensional space.  And no need to stop there!  This all works for arbitrarily many attributes; you just work in a very high dimensional space.  It gets wicked-impossible to visualize, but that's OK.  The computer algorithm generalizes very nicely: all you need is the ability to compute the distance, and that's not hard.  Mind-blowing stuff!\n",
    "\n",
    "For instance, let's see what happens if we try to predict whether a banknote is counterfeit or not using 3 of the measurements, instead of just 2.  Here's what you get:"
   ]
  },
  {
   "cell_type": "code",
   "execution_count": null,
   "id": "592e466e",
   "metadata": {},
   "outputs": [],
   "source": [
    "from mpl_toolkits.mplot3d import Axes3D\n",
    "ax = plt.figure(figsize=(8,8)).add_subplot(111, projection='3d')\n",
    "ax.scatter(banknotes['WaveletSkew'],\n",
    "           banknotes['WaveletVar'],\n",
    "           banknotes['WaveletCurt'],\n",
    "           c=banknotes['Color']);"
   ]
  },
  {
   "cell_type": "markdown",
   "id": "d52ce3a8",
   "metadata": {},
   "source": [
    "Awesome!  With just 2 attributes, there was some overlap between the two clusters (which means that the classifier was bound to make some mistakes for pointers in the overlap).  But when we use these 3 attributes, the two clusters have almost no overlap.  In other words, a classifier that uses these 3 attributes will be more accurate than one that only uses the 2 attributes.\n",
    "\n",
    "This is a general phenomenon in classification.  Each attribute can potentially give you new information, so more attributes sometimes helps you build a better classifier.  Of course, the cost is that now we have to gather more information to measure the value of each attribute, but this cost may be well worth it if it significantly improves the accuracy of our classifier.\n",
    "\n",
    "To sum up: you now know how to use $k$-nearest neighbor classification to predict the answer to a yes/no question, based on the values of some attributes, assuming you have a training set with examples where the correct prediction is known.  The general roadmap is this:\n",
    "\n",
    "1. identify some attributes that you think might help you predict the answer to the question.\n",
    "2. Gather a training set of examples where you know the values of the attributes as well as the correct prediction.\n",
    "3. To make predictions in the future, measure the value of the attributes and then use $k$-nearest neighbor classification to predict the answer to the question."
   ]
  },
  {
   "cell_type": "markdown",
   "id": "9747ac53",
   "metadata": {},
   "source": [
    "## Distance in Multiple Dimensions\n",
    "\n",
    "We know how to compute distance in 2-dimensional space. If we have a point at coordinates $(x_0,y_0)$ and another at $(x_1,y_1)$, the distance between them is\n",
    "\n",
    "$$D = \\sqrt{(x_0-x_1)^2 + (y_0-y_1)^2}.$$\n",
    "\n",
    "In 3-dimensional space, the points are $(x_0, y_0, z_0)$ and $(x_1, y_1, z_1)$, and the formula for the distance between them is\n",
    "\n",
    "$$\n",
    "D = \\sqrt{(x_0-x_1)^2 + (y_0-y_1)^2 + (z_0-z_1)^2}\n",
    "$$\n",
    "\n",
    "In $n$-dimensional space, things are a bit harder to visualize, but I think you can see how the formula generalized: we sum up the squares of the differences between each individual coordinate, and then take the square root of that."
   ]
  },
  {
   "cell_type": "markdown",
   "id": "73d920d5",
   "metadata": {},
   "source": [
    "In the last section, we defined the function `distance` which returned the distance between two points. We used it in two-dimensions, but the great news is that the function doesn't care how many dimensions there are! It just subtracts the two arrays of coordinates (no matter how long the arrays are), squares the differences and adds up, and then takes the square root. To work in multiple dimensions, we don't have to change the code at all."
   ]
  },
  {
   "cell_type": "code",
   "execution_count": null,
   "id": "7bff27b3",
   "metadata": {},
   "outputs": [],
   "source": [
    "def distance(point1, point2):\n",
    "    \"\"\"Returns the distance between point1 and point2\n",
    "    where each argument is an array\n",
    "    consisting of the coordinates of the point\"\"\"\n",
    "    return np.sqrt(np.sum((point1 - point2)**2))"
   ]
  },
  {
   "cell_type": "markdown",
   "id": "d92537f7",
   "metadata": {},
   "source": [
    "Let's use this on a [new dataset](https://archive.ics.uci.edu/ml/datasets/Wine). The table `wine` contains the chemical composition of 178 different Italian wines. The classes are the grape species, called cultivars. There are three classes but let's just see whether we can tell Class 1 apart from the other two.\n",
    "\n",
    "You can download the file from\n",
    "{download}`wine.csv <data/wine.csv>`."
   ]
  },
  {
   "cell_type": "code",
   "execution_count": null,
   "id": "85d5c326",
   "metadata": {},
   "outputs": [],
   "source": [
    "wine = pd.read_csv('data/wine.csv')\n",
    "wine.head()"
   ]
  },
  {
   "cell_type": "markdown",
   "id": "9b56f5cb",
   "metadata": {},
   "source": [
    "The dataset classifies the wine into three classes:"
   ]
  },
  {
   "cell_type": "code",
   "execution_count": null,
   "id": "555275e4",
   "metadata": {},
   "outputs": [],
   "source": [
    "wine['Class'].value_counts()"
   ]
  },
  {
   "cell_type": "markdown",
   "id": "ff40a368",
   "metadata": {},
   "source": [
    "For the moment, we'll pool classes 2 and 3 into one class, `0`:"
   ]
  },
  {
   "cell_type": "code",
   "execution_count": null,
   "id": "6ffbeb32",
   "metadata": {},
   "outputs": [],
   "source": [
    "wine.loc[wine['Class'] != 1, 'Class'] = 0\n",
    "wine.head()"
   ]
  },
  {
   "cell_type": "markdown",
   "id": "1a10b66a",
   "metadata": {},
   "source": [
    "The first two wines are both in Class 1. To find the distance between them, we first need a table of just the attributes:"
   ]
  },
  {
   "cell_type": "code",
   "execution_count": null,
   "id": "202ae82a",
   "metadata": {},
   "outputs": [],
   "source": [
    "wine_attributes = wine.drop(columns='Class')\n",
    "wine_attributes.head()"
   ]
  },
  {
   "cell_type": "code",
   "execution_count": null,
   "id": "6b3dbcf7",
   "metadata": {},
   "outputs": [],
   "source": [
    "distance(np.array(wine_attributes.iloc[0]),\n",
    "         np.array(wine_attributes.iloc[1]))"
   ]
  },
  {
   "cell_type": "markdown",
   "id": "c453913d",
   "metadata": {},
   "source": [
    "The last wine in the table is of Class 0. Its distance from the first wine is:"
   ]
  },
  {
   "cell_type": "code",
   "execution_count": null,
   "id": "2f9d1b8d",
   "metadata": {},
   "outputs": [],
   "source": [
    "distance(np.array(wine_attributes.iloc[0]),\n",
    "         np.array(wine_attributes.iloc[177]))"
   ]
  },
  {
   "cell_type": "markdown",
   "id": "cf82250a",
   "metadata": {},
   "source": [
    "That's quite a bit bigger! Let's do some visualization to see if Class 1 really looks different from Class 0."
   ]
  },
  {
   "cell_type": "code",
   "execution_count": null,
   "id": "7e9487d8",
   "metadata": {},
   "outputs": [],
   "source": [
    "wine_with_colors = wine.copy()\n",
    "wine_with_colors['Color'] = 'darkblue'\n",
    "wine_with_colors.loc[wine['Class'] == 0, 'Color'] = 'gold'"
   ]
  },
  {
   "cell_type": "code",
   "execution_count": null,
   "id": "d520fa7f",
   "metadata": {},
   "outputs": [],
   "source": [
    "wine_with_colors.plot.scatter('Flavanoids', 'Alcohol',\n",
    "                              c=wine_with_colors['Color']);"
   ]
  },
  {
   "cell_type": "markdown",
   "id": "623e4635",
   "metadata": {},
   "source": [
    "The blue points (Class 1) are almost entirely separate from the gold ones. That is one indication of why the distance between two Class 1 wines would be smaller than the distance between wines of two different classes. We can see a similar phenomenon with a different pair of attributes too:"
   ]
  },
  {
   "cell_type": "code",
   "execution_count": null,
   "id": "b391e297",
   "metadata": {},
   "outputs": [],
   "source": [
    "wine_with_colors.plot.scatter('Alcalinity of Ash', 'Ash',\n",
    "                              c=wine_with_colors['Color']);"
   ]
  },
  {
   "cell_type": "markdown",
   "id": "0cb89c17",
   "metadata": {},
   "source": [
    "But for some pairs the picture is more murky."
   ]
  },
  {
   "cell_type": "code",
   "execution_count": null,
   "id": "6d3762c8",
   "metadata": {},
   "outputs": [],
   "source": [
    "wine_with_colors.plot.scatter('Magnesium', 'Total Phenols',\n",
    "                              c=wine_with_colors['Color']);"
   ]
  },
  {
   "cell_type": "markdown",
   "id": "cebb5b85",
   "metadata": {},
   "source": [
    "Let's see if we can implement a classifier based on all of the attributes. After that, we'll see how accurate it is."
   ]
  },
  {
   "cell_type": "markdown",
   "id": "67ae46dd",
   "metadata": {},
   "source": [
    "## A Plan for the Implementation\n",
    "\n",
    "It's time to write some code to implement the classifier.  The input is a `point` that we want to classify.  The classifier works by finding the $k$ nearest neighbors of `point` from the training set.  So, our approach will go like this:\n",
    "\n",
    "1. Find the closest $k$ neighbors of `point`, i.e., the $k$ wines from the training set that are most similar to `point`.\n",
    "\n",
    "2. Look at the classes of those $k$ neighbors, and take the majority vote to find the most-common class of wine.  Use that as our predicted class for `point`.\n",
    "\n",
    "So that will guide the structure of our Python code."
   ]
  },
  {
   "cell_type": "code",
   "execution_count": null,
   "id": "40a0bd58",
   "metadata": {},
   "outputs": [],
   "source": [
    "def closest(training, p, k):\n",
    "    \"\"\" Find the closest k neighbors of p \"\"\"\n",
    "\n",
    "def majority(topkclasses):\n",
    "    \"\"\" Return majority vote from top k classes \"\"\"\n",
    "\n",
    "def classify(training, p, k):\n",
    "    kclosest = closest(training, p, k)\n",
    "    kclosest.classes = kclosest.select('Class')\n",
    "    return majority(kclosest)"
   ]
  },
  {
   "cell_type": "markdown",
   "id": "4c622afa",
   "metadata": {},
   "source": [
    "## Implementation Step 1\n",
    "\n",
    "To implement the first step for the kidney disease data, we had to compute the distance from each patient in the training set to `point`, sort them by distance, and take the $k$ closest patients in the training set.\n",
    "\n",
    "That's what we did in the previous section with the point corresponding to Alice. Let's generalize that code. We'll redefine `distance` here, just for convenience."
   ]
  },
  {
   "cell_type": "code",
   "execution_count": null,
   "id": "88152fd2",
   "metadata": {},
   "outputs": [],
   "source": [
    "def distance(point1, point2):\n",
    "    \"\"\"Returns the distance between point1 and point2\n",
    "    where each argument is an array\n",
    "    consisting of the coordinates of the point\"\"\"\n",
    "    return np.sqrt(np.sum((point1 - point2)**2))\n",
    "\n",
    "def all_distances(training, new_point):\n",
    "    \"\"\"Returns an array of distances\n",
    "    between each point in the training set\n",
    "    and the new point (which is a row of attributes)\"\"\"\n",
    "    attributes = training.drop(columns='Class')\n",
    "    def distance_from_point(row):\n",
    "        return distance(np.array(new_point), np.array(row))\n",
    "    return attributes.apply(distance_from_point, axis=1)\n",
    "\n",
    "def table_with_distances(training, new_point):\n",
    "    \"\"\"Augments the training table\n",
    "    with a column of distances from new_point\"\"\"\n",
    "    out = training.copy()\n",
    "    out['Distance'] = all_distances(training, new_point)\n",
    "    return out\n",
    "\n",
    "def closest(training, new_point, k):\n",
    "    \"\"\"Returns a table of the k rows of the augmented table\n",
    "    corresponding to the k smallest distances\"\"\"\n",
    "    with_dists = table_with_distances(training, new_point)\n",
    "    sorted_by_distance = with_dists.sort_values('Distance')\n",
    "    topk = sorted_by_distance.iloc[:k]\n",
    "    return topk"
   ]
  },
  {
   "cell_type": "markdown",
   "id": "a343557d",
   "metadata": {},
   "source": [
    "Let's see how this works on our `wine` data. We'll just take the first wine and find its five nearest neighbors among all the wines. Remember that since this wine is part of the dataset, it is its own nearest neighbor. So we should expect to see it at the top of the list, followed by four others.\n",
    "\n",
    "First let's extract its attributes:"
   ]
  },
  {
   "cell_type": "code",
   "execution_count": null,
   "id": "eecba516",
   "metadata": {},
   "outputs": [],
   "source": [
    "special_wine = wine.drop(columns='Class').iloc[0]"
   ]
  },
  {
   "cell_type": "markdown",
   "id": "e84aa696",
   "metadata": {},
   "source": [
    "And now let's find its 5 nearest neighbors."
   ]
  },
  {
   "cell_type": "code",
   "execution_count": null,
   "id": "3a30ee0e",
   "metadata": {},
   "outputs": [],
   "source": [
    "closest(wine, special_wine, 5)"
   ]
  },
  {
   "cell_type": "markdown",
   "id": "9543f895",
   "metadata": {},
   "source": [
    "Bingo! The first row is the nearest neighbor, which is itself – there's a 0 in the `Distance` column as expected. All five nearest neighbors are of Class 1, which is consistent with our earlier observation that Class 1 wines appear to be clumped together in some dimensions."
   ]
  },
  {
   "cell_type": "markdown",
   "id": "e675fc38",
   "metadata": {},
   "source": [
    "## Implementation Steps 2 and 3\n",
    "\n",
    "Next we need to take a \"majority vote\" of the nearest neighbors and assign our point the same class as the majority."
   ]
  },
  {
   "cell_type": "code",
   "execution_count": null,
   "id": "f16fa565",
   "metadata": {},
   "outputs": [],
   "source": [
    "def majority(topkclasses):\n",
    "    ones = np.count_nonzero(topkclasses == 1)\n",
    "    zeros = np.count_nonzero(topkclasses == 0)\n",
    "    if ones > zeros:\n",
    "        return 1\n",
    "    else:\n",
    "        return 0\n",
    "\n",
    "def classify(training, new_point, k):\n",
    "    closestk = closest(training, new_point, k)\n",
    "    return majority(closestk['Class'])"
   ]
  },
  {
   "cell_type": "code",
   "execution_count": null,
   "id": "85bedcd1",
   "metadata": {},
   "outputs": [],
   "source": [
    "classify(wine, special_wine, 5)"
   ]
  },
  {
   "cell_type": "markdown",
   "id": "b0785b72",
   "metadata": {},
   "source": [
    "If we change `special_wine` to be the last one in the dataset, is our classifier able to tell that it's in Class 0?"
   ]
  },
  {
   "cell_type": "code",
   "execution_count": null,
   "id": "0810457a",
   "metadata": {},
   "outputs": [],
   "source": [
    "special_wine = wine.drop(columns='Class').iloc[177]\n",
    "classify(wine, special_wine, 5)"
   ]
  },
  {
   "cell_type": "markdown",
   "id": "d2302c1b",
   "metadata": {},
   "source": [
    "Yes! The classifier gets this one right too.\n",
    "\n",
    "But we don't yet know how it does with all the other wines, and in any case we know that testing on wines that are already part of the training set might be over-optimistic. In the final section of this chapter, we will separate the wines into a training and test set and then measure the accuracy of our classifier on the test set."
   ]
  },
  {
   "cell_type": "markdown",
   "id": "9e5f8300",
   "metadata": {},
   "source": [
    "{ucb-page}`Implementing_the_Classifier`"
   ]
  }
 ],
 "metadata": {
  "anaconda-cloud": {},
  "jupytext": {
   "notebook_metadata_filter": "all,-language_info"
  },
  "kernelspec": {
   "display_name": "Python (Pyodide)",
   "name": "python"
  }
 },
 "nbformat": 4,
 "nbformat_minor": 5
}
