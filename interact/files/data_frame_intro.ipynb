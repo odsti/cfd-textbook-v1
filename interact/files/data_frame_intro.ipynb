{
 "cells": [
  {
   "cell_type": "markdown",
   "id": "22178c0b",
   "metadata": {},
   "source": [
    "# Introduction to data frames"
   ]
  },
  {
   "cell_type": "markdown",
   "id": "fa89d866",
   "metadata": {},
   "source": [
    "[Pandas](https://pandas.pydata.org) is a Python package that implements *data\n",
    "frames*, and functions that operate on data frames."
   ]
  },
  {
   "cell_type": "code",
   "execution_count": null,
   "id": "cadea813",
   "metadata": {},
   "outputs": [],
   "source": [
    "# Load the Pandas data science library, call it 'pd'\n",
    "import pandas as pd\n",
    "# Turn on a setting to use Pandas more safely.\n",
    "# We will discuss this setting later.\n",
    "pd.set_option('mode.copy_on_write', True)"
   ]
  },
  {
   "cell_type": "markdown",
   "id": "c53db376",
   "metadata": {},
   "source": [
    "We will also use the usual Numpy array library:"
   ]
  },
  {
   "cell_type": "code",
   "execution_count": null,
   "id": "55be759d",
   "metadata": {},
   "outputs": [],
   "source": [
    "# Load the Numpy array library, call it 'np'\n",
    "import numpy as np"
   ]
  },
  {
   "cell_type": "markdown",
   "id": "f4b6927b",
   "metadata": {},
   "source": [
    "## Loading a data frame from a file\n",
    "\n",
    "We start by loading data from a Comma Separated Value file (CSV\n",
    "file).  If you are running on your laptop, you should download\n",
    "the {download}`gender_stats_min.csv <data/gender_stats_min.csv>`\n",
    "file to the same directory as this notebook.\n",
    "\n",
    "See the [gender statistics description page](data/gender_stats) for more\n",
    "detail on the dataset."
   ]
  },
  {
   "cell_type": "code",
   "execution_count": null,
   "id": "07f0e04e",
   "metadata": {},
   "outputs": [],
   "source": [
    "# Load the data file\n",
    "gender_data = pd.read_csv('data/gender_stats_min.csv')"
   ]
  },
  {
   "cell_type": "markdown",
   "id": "494d31ae",
   "metadata": {},
   "source": [
    "This is our usual assignment statement. The Left Hand Side (LHS) is\n",
    "`gender_data`, the variable name.  The RHS is an expression, that returns a\n",
    "value.\n",
    "\n",
    "What type of value does it return?"
   ]
  },
  {
   "cell_type": "code",
   "execution_count": null,
   "id": "50649a68",
   "metadata": {},
   "outputs": [],
   "source": [
    "type(gender_data)"
   ]
  },
  {
   "cell_type": "markdown",
   "id": "3aa58d4c",
   "metadata": {},
   "source": [
    "This tells us that the `gender_data` value (or object) is of type `DataFrame`.\n",
    "We can also see that that type is something that belongs to (is defined by) the\n",
    "Pandas library.\n",
    "\n",
    "As you can see, the DataFrame is a thing that contains a *table* of data.  The\n",
    "table has rows and columns.\n",
    "\n",
    "Pandas integrates with the Notebook, so, if you display a data frame in the\n",
    "notebook, it does a nice display:"
   ]
  },
  {
   "cell_type": "code",
   "execution_count": null,
   "id": "979fb770",
   "metadata": {},
   "outputs": [],
   "source": [
    "gender_data"
   ]
  },
  {
   "cell_type": "markdown",
   "id": "9078fa21",
   "metadata": {},
   "source": [
    "This default display for the DataFrame shows you the first five rows, then a\n",
    "row of `...` and then the last five rows.  The row of `...` shows you that\n",
    "there are more rows the display does not show between the first five and the\n",
    "last five."
   ]
  },
  {
   "cell_type": "markdown",
   "id": "4c963823",
   "metadata": {},
   "source": [
    "## What does the data mean?\n",
    "\n",
    "In order to interpret these data, you need more information about what these\n",
    "column names refer to.  This information is sometimes called the *data\n",
    "dictionary*.  Here are the longer descriptions from the original data source\n",
    "(link above):\n",
    "\n",
    "* `gdp_us_billion`: GDP (in current US \\$ billions).\n",
    "* `mat_mort_ratio`: Maternal mortality ratio (modeled estimate, per 100,000\n",
    "  live births).\n",
    "* `population`: Population, total (millions).\n"
   ]
  },
  {
   "cell_type": "markdown",
   "id": "4d0e59ca",
   "metadata": {},
   "source": [
    "## Missing values\n",
    "\n",
    "Notice the `NaN` at the top of the GDP column.  This is a *missing value*.  We\n",
    "will come to these in [missing values](missing_values).\n",
    "\n",
    "For the moment, we will do something quick and dirty, which is to drop all the\n",
    "missing values from the data frame.   *Be careful* - this is rarely the right\n",
    "thing to do, without a lot of investigation as to why the values are missing."
   ]
  },
  {
   "cell_type": "code",
   "execution_count": null,
   "id": "6fbe953e",
   "metadata": {},
   "outputs": [],
   "source": [
    "# Drop all missing values.  Be careful, this is rarely the right thing to do.\n",
    "gender_data_no_na = gender_data.dropna()\n",
    "gender_data_no_na"
   ]
  },
  {
   "cell_type": "markdown",
   "id": "04a46132",
   "metadata": {},
   "source": [
    "## Attributes\n",
    "\n",
    "Like other Python objects (values), the DataFrame has *attributes*.\n",
    "\n",
    "An *attribute* is some named *value* attached to another value.  You can think\n",
    "of it as a *variable* attached to a value.  You can fetch the attached value\n",
    "using the `<value>.<attribute_name>` syntax.  For example, one attribute of the\n",
    "data frame, is the `shape`.  The `<value>` in our case is `gender_data_no_na`,\n",
    "and the `<attribute_name>` is `shape`."
   ]
  },
  {
   "cell_type": "code",
   "execution_count": null,
   "id": "6450d665",
   "metadata": {},
   "outputs": [],
   "source": [
    "gender_data_no_na.shape"
   ]
  },
  {
   "cell_type": "markdown",
   "id": "5be81422",
   "metadata": {},
   "source": [
    "Notice that the `.shape` attribute is a sequence of two values.  The first is\n",
    "the number of *rows* and the second is the number of *columns*."
   ]
  },
  {
   "cell_type": "markdown",
   "id": "a5c0e085",
   "metadata": {},
   "source": [
    "## Columns\n",
    "\n",
    "As you would expect for a table, the DataFrame has columns, and the columns\n",
    "have *labels*.   You can see the column labels in the display above, but you\n",
    "can also get the column labels using the `.columns` attribute of the DataFrame."
   ]
  },
  {
   "cell_type": "code",
   "execution_count": null,
   "id": "991e47d8",
   "metadata": {},
   "outputs": [],
   "source": [
    "gender_data_no_na.columns"
   ]
  },
  {
   "cell_type": "markdown",
   "id": "a9d4b8a1",
   "metadata": {},
   "source": [
    "Notice from the display above, that Pandas wraps up the column names in their\n",
    "own value, of type `Index`."
   ]
  },
  {
   "cell_type": "code",
   "execution_count": null,
   "id": "c6047be3",
   "metadata": {},
   "outputs": [],
   "source": [
    "type(gender_data_no_na.columns)"
   ]
  },
  {
   "cell_type": "markdown",
   "id": "0554a1ea",
   "metadata": {},
   "source": [
    "The `Index` type is Pandas way of storing a sequence of labels — in this case\n",
    "column labels.\n",
    "\n",
    "You can get the column labels (names) as strings by using `list` on the\n",
    "`.columns`, like this:"
   ]
  },
  {
   "cell_type": "code",
   "execution_count": null,
   "id": "68a62aa1",
   "metadata": {},
   "outputs": [],
   "source": [
    "# Get column names from .columns attribute.\n",
    "list(gender_data_no_na.columns)"
   ]
  },
  {
   "cell_type": "markdown",
   "id": "f9c58ef3",
   "metadata": {},
   "source": [
    "In fact, there is a short-cut for doing that, which is to apply `list` to the\n",
    "DataFrame itself.  In that case, the DataFrame interprets you to be asking for\n",
    "the column names:"
   ]
  },
  {
   "cell_type": "code",
   "execution_count": null,
   "id": "6d1015a3",
   "metadata": {},
   "outputs": [],
   "source": [
    "# Get column names from DataFrame directly.\n",
    "list(gender_data_no_na)"
   ]
  }
 ],
 "metadata": {
  "jupyterbook": {
   "show_stderr": true
  },
  "jupytext": {
   "formats": "",
   "notebook_metadata_filter": "jupyterbook",
   "split_at_heading": true
  },
  "kernelspec": {
   "display_name": "Python (Pyodide)",
   "name": "python"
  }
 },
 "nbformat": 4,
 "nbformat_minor": 5
}
