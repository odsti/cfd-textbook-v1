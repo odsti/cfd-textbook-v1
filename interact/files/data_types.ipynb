{
 "cells": [
  {
   "cell_type": "markdown",
   "id": "fc9d4db9",
   "metadata": {},
   "source": [
    "# Types of things"
   ]
  },
  {
   "cell_type": "markdown",
   "id": "d6e95d6c",
   "metadata": {},
   "source": [
    "Every value in Python, has a type.\n",
    "\n",
    "We can show what type of thing something is, by calling `type`, like this:"
   ]
  },
  {
   "cell_type": "code",
   "execution_count": null,
   "id": "2da4a35b",
   "metadata": {},
   "outputs": [],
   "source": [
    "type(1)"
   ]
  },
  {
   "cell_type": "code",
   "execution_count": null,
   "id": "2cf08c35",
   "metadata": {},
   "outputs": [],
   "source": [
    "a = 1\n",
    "type(a)"
   ]
  },
  {
   "cell_type": "markdown",
   "id": "c6ddbbda",
   "metadata": {},
   "source": [
    "If you get stuck in some code, it is often useful to check what the type of your values are."
   ]
  },
  {
   "cell_type": "markdown",
   "id": "791f1bac",
   "metadata": {},
   "source": [
    "We will use multiple types when analyzing data.  We cover some of the common ones, in this chapter."
   ]
  }
 ],
 "metadata": {
  "jupytext": {
   "notebook_metadata_filter": "language_info"
  },
  "kernelspec": {
   "display_name": "Python (Pyodide)",
   "name": "python"
  },
  "language_info": {
   "codemirror_mode": {
    "name": "ipython",
    "version": 3
   },
   "file_extension": ".py",
   "mimetype": "text/x-python",
   "name": "python",
   "nbconvert_exporter": "python",
   "pygments_lexer": "ipython3",
   "version": "3.6.5"
  }
 },
 "nbformat": 4,
 "nbformat_minor": 5
}
