{
 "cells": [
  {
   "cell_type": "markdown",
   "id": "bbe750c5",
   "metadata": {},
   "source": [
    "# Types of things"
   ]
  },
  {
   "cell_type": "markdown",
   "id": "bab2e09f",
   "metadata": {},
   "source": [
    "Every value in Python, has a type.\n",
    "\n",
    "We can show what type of thing something is, by calling `type`, like this:"
   ]
  },
  {
   "cell_type": "code",
   "execution_count": null,
   "id": "1a562a96",
   "metadata": {},
   "outputs": [],
   "source": [
    "type(1)"
   ]
  },
  {
   "cell_type": "code",
   "execution_count": null,
   "id": "51de647f",
   "metadata": {},
   "outputs": [],
   "source": [
    "a = 1\n",
    "type(a)"
   ]
  },
  {
   "cell_type": "markdown",
   "id": "61c9a36a",
   "metadata": {},
   "source": [
    "If you get stuck in some code, it is often useful to check what the type of your values are."
   ]
  },
  {
   "cell_type": "markdown",
   "id": "66c4afc8",
   "metadata": {},
   "source": [
    "We will use multiple types when analyzing data.  We cover some of the common ones, in this chapter."
   ]
  }
 ],
 "metadata": {
  "jupytext": {
   "notebook_metadata_filter": "language_info"
  },
  "kernelspec": {
   "display_name": "Python (Pyodide)",
   "name": "python"
  },
  "language_info": {
   "codemirror_mode": {
    "name": "ipython",
    "version": 3
   },
   "file_extension": ".py",
   "mimetype": "text/x-python",
   "name": "python",
   "nbconvert_exporter": "python",
   "pygments_lexer": "ipython3",
   "version": "3.6.5"
  }
 },
 "nbformat": 4,
 "nbformat_minor": 5
}
