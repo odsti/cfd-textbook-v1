{
 "cells": [
  {
   "cell_type": "markdown",
   "id": "c465cf21",
   "metadata": {},
   "source": [
    "# Kind-of True\n",
    "\n",
    "See: [truthiness in\n",
    "Python](https://www.humaneer.org/python3/truthiness-in-python/)\n",
    "and Python [truth value\n",
    "testing](https://docs.python.org/3/library/stdtypes.html#truth).\n",
    "\n",
    "There are several places where you will find Python applying a\n",
    "test of True that is more general than simply `val == True`.\n",
    "\n",
    "One example is in `if` statements:"
   ]
  },
  {
   "cell_type": "code",
   "execution_count": null,
   "id": "90734b69",
   "metadata": {},
   "outputs": [],
   "source": [
    "val = 'a string'  # A not-empty string is True for truth testing\n",
    "if val:\n",
    "     print('Truth testing of \"val\" returned True')"
   ]
  },
  {
   "cell_type": "markdown",
   "id": "35740971",
   "metadata": {},
   "source": [
    "Here the `if val:` clause applies Python [truth value testing]\n",
    "to `'a string'`, and returns True. This is because the truth\n",
    "value testing algorithm returns True from an not-empty string,\n",
    "and False from an empty string:"
   ]
  },
  {
   "cell_type": "code",
   "execution_count": null,
   "id": "25a8b178",
   "metadata": {},
   "outputs": [],
   "source": [
    "another_val = ''\n",
    "if another_val:\n",
    "    print('No need for a message, we will not get here')"
   ]
  },
  {
   "cell_type": "markdown",
   "id": "1358f113",
   "metadata": {},
   "source": [
    "You can see the results of truth value testing using `bool()`\n",
    "in Python. For example:"
   ]
  },
  {
   "cell_type": "code",
   "execution_count": null,
   "id": "5652a862",
   "metadata": {},
   "outputs": [],
   "source": [
    "print('Bool on True', bool(True))\n",
    "print('Bool on False', bool(False))\n",
    "print('Bool on not-empty list', bool(['some', 'elements']))\n",
    "print('Bool on empty list', bool([]))\n",
    "# Bool on any number other than zero evaluates as True\n",
    "print('Bool on 10', bool(10))\n",
    "print('Bool on -1', bool(-1))\n",
    "print('Bool on 0', bool(0))\n",
    "# None tests as False\n",
    "print('Bool on None', bool(None))"
   ]
  },
  {
   "cell_type": "markdown",
   "id": "83c7c7a1",
   "metadata": {},
   "source": [
    "Examples of situations in which Python uses truth value testing\n",
    "are `if` statements; `while statements` and {doc}`assert\n",
    "statements <assert>`."
   ]
  }
 ],
 "metadata": {
  "jupytext": {
   "main_language": "python"
  },
  "kernelspec": {
   "display_name": "Python (Pyodide)",
   "name": "python"
  },
  "orphan": true
 },
 "nbformat": 4,
 "nbformat_minor": 5
}
