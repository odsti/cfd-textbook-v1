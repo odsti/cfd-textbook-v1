{
 "cells": [
  {
   "cell_type": "markdown",
   "id": "dbb78928",
   "metadata": {},
   "source": [
    "# Lists and arrays\n",
    "\n",
    "The data structures that we use most often in data science are:\n",
    "\n",
    "* arrays, from `numpy`;\n",
    "* data frames, from `pandas`.\n",
    "\n",
    "You have already seen that Python has a basic container for a sequence of values — the [list](lists).\n",
    "\n",
    "As you have already seen, you can make a list like this:"
   ]
  },
  {
   "cell_type": "code",
   "execution_count": null,
   "id": "614955c6",
   "metadata": {},
   "outputs": [],
   "source": [
    "my_list = [1, 2, 3]\n",
    "my_list"
   ]
  },
  {
   "cell_type": "markdown",
   "id": "af866c34",
   "metadata": {},
   "source": [
    "`[1, 2, 3]` is a *list expression*, with a open square bracket\n",
    "`[`, followed by zero or more expressions defining the list\n",
    "elements, separated by commas, and ending with the close square bracket `]`.\n",
    "\n",
    "A list is of type `list`:"
   ]
  },
  {
   "cell_type": "code",
   "execution_count": null,
   "id": "5db12281",
   "metadata": {},
   "outputs": [],
   "source": [
    "type(my_list)"
   ]
  },
  {
   "cell_type": "markdown",
   "id": "b25696fa",
   "metadata": {},
   "source": [
    "## Lists and arrays\n",
    "\n",
    "Now we need the Numpy library for the examples:"
   ]
  },
  {
   "cell_type": "code",
   "execution_count": null,
   "id": "fb623110",
   "metadata": {},
   "outputs": [],
   "source": [
    "import numpy as np\n",
    "# Make random number generator.\n",
    "rng = np.random.default_rng()"
   ]
  },
  {
   "cell_type": "markdown",
   "id": "05a89c9f",
   "metadata": {},
   "source": [
    "A list is a container, like an array.  Like an array, it contains an\n",
    "ordered sequence of values.  Like an array, it can be empty, or it can\n",
    "contain any number of values.\n",
    "\n",
    "You can *convert a list into an array*, like this"
   ]
  },
  {
   "cell_type": "code",
   "execution_count": null,
   "id": "f933e4d7",
   "metadata": {},
   "outputs": [],
   "source": [
    "my_list = [4, 5, 6]\n",
    "my_list"
   ]
  },
  {
   "cell_type": "code",
   "execution_count": null,
   "id": "f68cc596",
   "metadata": {},
   "outputs": [],
   "source": [
    "my_array = np.array(my_list)\n",
    "my_array"
   ]
  },
  {
   "cell_type": "markdown",
   "id": "2f59d459",
   "metadata": {},
   "source": [
    "In fact, you have already seen us do this, as a convenient way to\n",
    "create a new array - for example:"
   ]
  },
  {
   "cell_type": "code",
   "execution_count": null,
   "id": "659fdd39",
   "metadata": {},
   "outputs": [],
   "source": [
    "# Define a list and immediately convert to an array\n",
    "another_array = np.array([10, 20, 30])\n",
    "another_array"
   ]
  },
  {
   "cell_type": "markdown",
   "id": "d5a509bf",
   "metadata": {},
   "source": [
    "You can also *convert an array into a list*, using the `list` function:"
   ]
  },
  {
   "cell_type": "code",
   "execution_count": null,
   "id": "d477ff04",
   "metadata": {},
   "outputs": [],
   "source": [
    "list(another_array)"
   ]
  },
  {
   "cell_type": "markdown",
   "id": "a3d679b9",
   "metadata": {},
   "source": [
    "Like arrays, you can *index* into a list, to get the individual values.  Consider this list:"
   ]
  },
  {
   "cell_type": "code",
   "execution_count": null,
   "id": "80b9d608",
   "metadata": {},
   "outputs": [],
   "source": [
    "my_list = [4, 5, 6]"
   ]
  },
  {
   "cell_type": "markdown",
   "id": "31ef1e2c",
   "metadata": {},
   "source": [
    "Like arrays (and every other kind of sequence in Python), the first element is at index (offset) 0:"
   ]
  },
  {
   "cell_type": "code",
   "execution_count": null,
   "id": "959a52ba",
   "metadata": {},
   "outputs": [],
   "source": [
    "# Get the first value\n",
    "my_list[0]"
   ]
  },
  {
   "cell_type": "markdown",
   "id": "481a04cf",
   "metadata": {},
   "source": [
    "Accordingly, the third element is at index (offset) 2:"
   ]
  },
  {
   "cell_type": "code",
   "execution_count": null,
   "id": "e5fe215d",
   "metadata": {},
   "outputs": [],
   "source": [
    "# Get the third value\n",
    "my_list[2]"
   ]
  },
  {
   "cell_type": "markdown",
   "id": "58ced678",
   "metadata": {},
   "source": [
    "## Differences between lists and arrays\n",
    "\n",
    "### A list can contain a mix of types\n",
    "\n",
    "The elements in a list can be of any type, and there can be many different types in a list.  For example, here is a list that mixes integers, floating point values, and strings."
   ]
  },
  {
   "cell_type": "code",
   "execution_count": null,
   "id": "42935f0c",
   "metadata": {},
   "outputs": [],
   "source": [
    "mixed_list = [1, 1.1, 'Ho ho ho']\n",
    "mixed_list"
   ]
  },
  {
   "cell_type": "markdown",
   "id": "9b07511b",
   "metadata": {},
   "source": [
    "The elements in an array must all be of the same type \\- say \\- all\n",
    "numbers, or all strings.  If we now create an array from this list, Numpy will try and find a type that works for all the elements, and will convert the elements to that type:"
   ]
  },
  {
   "cell_type": "code",
   "execution_count": null,
   "id": "e05b3ac2",
   "metadata": {},
   "outputs": [],
   "source": [
    "unmixed_array = np.array(mixed_list)\n",
    "unmixed_array"
   ]
  },
  {
   "cell_type": "markdown",
   "id": "cf1413a7",
   "metadata": {},
   "source": [
    "Notice that Numpy has converted all the elements to strings, as you can see from the quotes around the values.\n",
    "\n",
    "## A list is always one-dimensional\n",
    "\n",
    "You have already seen that an array can have two (or more) dimensions.  Here is a two-dimensional array of random numbers:"
   ]
  },
  {
   "cell_type": "code",
   "execution_count": null,
   "id": "f6479094",
   "metadata": {},
   "outputs": [],
   "source": [
    "two_d_array = rng.uniform(size=[5, 3])\n",
    "two_d_array"
   ]
  },
  {
   "cell_type": "markdown",
   "id": "52e6a6e2",
   "metadata": {},
   "source": [
    "Lists only have one dimension.\n",
    "\n",
    "### Lists can contain lists\n",
    "\n",
    "You may be able to see a way of making a list that is rather like an\n",
    "array with two dimensions.  Remember that a list can contain elements\n",
    "of *any type*.  That means that a list can contain elements of type\n",
    "`list`. Here is a list where the first element is also a list:"
   ]
  },
  {
   "cell_type": "code",
   "execution_count": null,
   "id": "0720ebe3",
   "metadata": {},
   "outputs": [],
   "source": [
    "small_list = [21, 22, 23]\n",
    "funky_list = [small_list, 1, 1.1]\n",
    "funky_list"
   ]
  },
  {
   "cell_type": "markdown",
   "id": "873a8215",
   "metadata": {},
   "source": [
    "As usual, I can get the first element of `funky_list` by indexing:"
   ]
  },
  {
   "cell_type": "code",
   "execution_count": null,
   "id": "7b625db5",
   "metadata": {},
   "outputs": [],
   "source": [
    "element_at_0 = funky_list[0]\n",
    "element_at_0"
   ]
  },
  {
   "cell_type": "markdown",
   "id": "31e8bb74",
   "metadata": {},
   "source": [
    "That first element is a list.  As usual, I can index in that first element too.  Here I ask for the second element from `element_at_0`:"
   ]
  },
  {
   "cell_type": "code",
   "execution_count": null,
   "id": "5b9577a7",
   "metadata": {},
   "outputs": [],
   "source": [
    "element_at_0[1]"
   ]
  },
  {
   "cell_type": "markdown",
   "id": "d4a2ae70",
   "metadata": {},
   "source": [
    "Putting that all together in one line, I can get the second element of the first element with:"
   ]
  },
  {
   "cell_type": "code",
   "execution_count": null,
   "id": "6f3c023c",
   "metadata": {},
   "outputs": [],
   "source": [
    "funky_list[0][1]"
   ]
  },
  {
   "cell_type": "markdown",
   "id": "eac53313",
   "metadata": {},
   "source": [
    "Read this carefully from left to right.  `funky_list` is the initial\n",
    "list.  The `[0]` after `funky_list` gives me the first element of that\n",
    "list. The `[1]` after that, gives me the second element from the result\n",
    "of the previous expressions. `funky_list[0][1]` puts several\n",
    "expressions together in sequence; this is a very common pattern that\n",
    "you will see often in Python programs. Learning to read them carefully\n",
    "is one of the skills you will pick up, as you learn Python, and data\n",
    "science.\n",
    "\n",
    "## Appending to a list\n",
    "\n",
    "You have already seen *methods*.  These are functions attached to\n",
    "values.  For example, you have seen that a data frame, has a `count`\n",
    "method, that, when called, gives the number of rows in the data frame.\n",
    "\n",
    "Lists have several very useful methods.  One of the most useful is `append`.   Use it to append values to a list."
   ]
  },
  {
   "cell_type": "code",
   "execution_count": null,
   "id": "28db5a33",
   "metadata": {},
   "outputs": [],
   "source": [
    "# An empty list\n",
    "my_list = []\n",
    "my_list"
   ]
  },
  {
   "cell_type": "markdown",
   "id": "21f3e8ed",
   "metadata": {},
   "source": [
    "Append a value to the empty list:"
   ]
  },
  {
   "cell_type": "code",
   "execution_count": null,
   "id": "420c7254",
   "metadata": {},
   "outputs": [],
   "source": [
    "my_list.append(1)\n",
    "my_list"
   ]
  },
  {
   "cell_type": "markdown",
   "id": "0cc8ae25",
   "metadata": {},
   "source": [
    "Append another value:"
   ]
  },
  {
   "cell_type": "code",
   "execution_count": null,
   "id": "164adf3b",
   "metadata": {},
   "outputs": [],
   "source": [
    "my_list.append(1.1)\n",
    "my_list"
   ]
  },
  {
   "cell_type": "markdown",
   "id": "baf2c8d9",
   "metadata": {},
   "source": [
    "And another:"
   ]
  },
  {
   "cell_type": "code",
   "execution_count": null,
   "id": "b225f5b0",
   "metadata": {},
   "outputs": [],
   "source": [
    "my_list.append('Ho ho ho')\n",
    "my_list"
   ]
  },
  {
   "cell_type": "markdown",
   "id": "cf827010",
   "metadata": {},
   "source": [
    "For some more operations with lists, see [More on\n",
    "lists](more_on_lists).\n",
    "\n",
    "## What do these square brackets mean?\n",
    "\n",
    "You have seen two uses of square brackets on this page.\n",
    "\n",
    "The first use, is where the opening square bracket is the start of an expression for a new list, like this:"
   ]
  },
  {
   "cell_type": "code",
   "execution_count": null,
   "id": "bd9462b8",
   "metadata": {},
   "outputs": [],
   "source": [
    "a_new_list = [1, 2, 3]"
   ]
  },
  {
   "cell_type": "markdown",
   "id": "37f778d3",
   "metadata": {},
   "source": [
    "The `[` is the start of the expression, because the line above is an\n",
    "assignment statement, with a variable name, followed by `=` followed by an expression.  The expression is `[1, 2, 3]`, and the `[` is the first character in the expression.\n",
    "\n",
    "The second use, is to ask Python to get a value from another value.\n",
    "Technically, this use is called *indexing*. For example, we do this\n",
    "when we index into a list:"
   ]
  },
  {
   "cell_type": "code",
   "execution_count": null,
   "id": "63441799",
   "metadata": {},
   "outputs": [],
   "source": [
    "first_value = a_new_list[0]"
   ]
  },
  {
   "cell_type": "markdown",
   "id": "841d995c",
   "metadata": {},
   "source": [
    "Here the `[` refers back to `a_new_list`.  It tells Python \"please get\n",
    "a value from `a_new_list`\".  Between the `[` and the `]` is the\n",
    "information that Python must use to get the value.\n",
    "\n",
    "Here is another example of square brackets in use:"
   ]
  },
  {
   "cell_type": "code",
   "execution_count": null,
   "id": "2e81ec72",
   "metadata": {},
   "outputs": [],
   "source": [
    "my_array = np.array([1, 2, 3])"
   ]
  },
  {
   "cell_type": "markdown",
   "id": "d4334005",
   "metadata": {},
   "source": [
    "Which use of square brackets is that?  List creation, or indexing?\n",
    "Why?\n",
    "\n",
    "How about:"
   ]
  },
  {
   "cell_type": "code",
   "execution_count": null,
   "id": "a11a58a2",
   "metadata": {},
   "outputs": [],
   "source": [
    "a_new_list[0] = 99"
   ]
  },
  {
   "cell_type": "markdown",
   "id": "28a39acf",
   "metadata": {},
   "source": [
    "? Why?  Or:"
   ]
  },
  {
   "cell_type": "code",
   "execution_count": null,
   "id": "54253d34",
   "metadata": {},
   "outputs": [],
   "source": [
    "a_new_list.append([101, 'one oh one'])"
   ]
  },
  {
   "cell_type": "markdown",
   "id": "88b9961f",
   "metadata": {},
   "source": [
    "?\n",
    "\n",
    "Remember the [data frame introduction](data_frame_intro)?  In\n",
    "that you saw\n",
    "\n",
    "```\n",
    "gdp = gender_data['gdp']\n",
    "```\n",
    "\n",
    "Which use of square brackets was that?\n",
    "\n",
    "Look through the [data frame introduction](data_frame_intro)\n",
    "page.  There are several other examples of the use of square brackets.  Which use are they?\n",
    "\n",
    "Now look at [More on arrays](More_on_Arrays).   Which uses do you see there?"
   ]
  }
 ],
 "metadata": {
  "jupytext": {
   "notebook_metadata_filter": "language_info"
  },
  "kernelspec": {
   "display_name": "Python (Pyodide)",
   "name": "python"
  },
  "language_info": {
   "codemirror_mode": {
    "name": "ipython",
    "version": 3
   },
   "file_extension": ".py",
   "mimetype": "text/x-python",
   "name": "python",
   "nbconvert_exporter": "python",
   "pygments_lexer": "ipython3",
   "version": "3.7.1"
  },
  "orphan": true
 },
 "nbformat": 4,
 "nbformat_minor": 5
}
