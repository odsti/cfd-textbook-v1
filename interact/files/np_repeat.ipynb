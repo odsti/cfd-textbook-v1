{
 "cells": [
  {
   "cell_type": "markdown",
   "id": "6b765d42",
   "metadata": {},
   "source": [
    "# Numpy repeat\n",
    "\n",
    "Numpy has a very useful `repeat` function that has the effect of repeating elements to build up arrays."
   ]
  },
  {
   "cell_type": "code",
   "execution_count": null,
   "id": "a4df3a9a",
   "metadata": {},
   "outputs": [],
   "source": [
    "import numpy as np"
   ]
  },
  {
   "cell_type": "markdown",
   "id": "ebfb044d",
   "metadata": {},
   "source": [
    "In the simplest case, you can repeat a single element $n$ times.   For example, to make a new array that repeats the number 3 five times:"
   ]
  },
  {
   "cell_type": "code",
   "execution_count": null,
   "id": "f2dd73a0",
   "metadata": {},
   "outputs": [],
   "source": [
    "np.repeat(3, 5)"
   ]
  },
  {
   "cell_type": "markdown",
   "id": "37b1d823",
   "metadata": {},
   "source": [
    "Of course there are other ways to do that particular task, such as:"
   ]
  },
  {
   "cell_type": "code",
   "execution_count": null,
   "id": "6287b455",
   "metadata": {},
   "outputs": [],
   "source": [
    "np.zeros(5) + 3"
   ]
  },
  {
   "cell_type": "markdown",
   "id": "4cb2a528",
   "metadata": {},
   "source": [
    "However, `np.repeat` starts becoming more useful in slightly more complicated cases.  For example, to make an array that contains four repeats of the string `'yes'`:"
   ]
  },
  {
   "cell_type": "code",
   "execution_count": null,
   "id": "f60aa0f7",
   "metadata": {},
   "outputs": [],
   "source": [
    "np.repeat('yes', 4)"
   ]
  },
  {
   "cell_type": "markdown",
   "id": "6e45b5b6",
   "metadata": {},
   "source": [
    "`np.repeat` really starts coming into its own when you want to repeat more than one element.   For example, let us say that, for some reason, you wanted an array that repeated 3 five times followed by 2 five times.  In that case you send the two elements you want to be repeated as the first argument, and the number of repeats as the second:"
   ]
  },
  {
   "cell_type": "code",
   "execution_count": null,
   "id": "6cb62be7",
   "metadata": {},
   "outputs": [],
   "source": [
    "np.repeat([3, 2], 5)"
   ]
  },
  {
   "cell_type": "markdown",
   "id": "55b303d0",
   "metadata": {},
   "source": [
    "You can also specify the number of repeats *for each element*.  For example, say you wanted 10 five times and 20 eight times:"
   ]
  },
  {
   "cell_type": "code",
   "execution_count": null,
   "id": "1ea1c644",
   "metadata": {},
   "outputs": [],
   "source": [
    "# 10 repeated 5 times followed by 20 repeated 8 times.\n",
    "np.repeat([10, 20], [5, 8])"
   ]
  },
  {
   "cell_type": "markdown",
   "id": "3b0fa82a",
   "metadata": {},
   "source": [
    "Or `'yes'` repeated four times followed by `'no'` repeated six times:"
   ]
  },
  {
   "cell_type": "code",
   "execution_count": null,
   "id": "6a6f7bce",
   "metadata": {},
   "outputs": [],
   "source": [
    "# 'yes' repeated 4 times followed by 'no' repeated 6 times.\n",
    "np.repeat(['yes', 'no'], [4, 6])"
   ]
  },
  {
   "cell_type": "markdown",
   "id": "4614635e",
   "metadata": {},
   "source": [
    "You can specify more than two elements, and give numbers of repeats to each element:"
   ]
  },
  {
   "cell_type": "code",
   "execution_count": null,
   "id": "996f14e1",
   "metadata": {},
   "outputs": [],
   "source": [
    "# 'yes' repeated 2 times followed by 'no' repeated 3 times,\n",
    "# followed by 'maybe' repeated 4 times.\n",
    "np.repeat(['yes', 'no', 'maybe'], [2, 3, 4])"
   ]
  }
 ],
 "metadata": {
  "jupytext": {
   "notebook_metadata_filter": "all,-language_info",
   "split_at_heading": true
  },
  "kernelspec": {
   "display_name": "Python (Pyodide)",
   "name": "python"
  },
  "orphan": true
 },
 "nbformat": 4,
 "nbformat_minor": 5
}
