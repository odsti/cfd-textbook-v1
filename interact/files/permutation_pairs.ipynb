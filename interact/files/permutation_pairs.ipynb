{
 "cells": [
  {
   "cell_type": "markdown",
   "id": "b9339a16",
   "metadata": {},
   "source": [
    "# Permutations and pairs\n",
    "\n",
    "Sometimes the difference we are interested in is a difference between pairs of values.\n",
    "\n",
    "In the [idea of permutation](permutation_idea) page, we introduced data from an\n",
    "experiment on effect of drinking beer on mosquitoes.   These data are a good example of a situation where we want to look at differences between pairs of values.\n",
    "\n",
    "You may remember that the experiment involved two groups of participants.\n",
    "A group of 24 participants drank beer for the experiment, and another group of\n",
    "18 subjects drank water.   The experimenters took a measure of how attractive\n",
    "each person was to mosquitoes.   Specifically they put each person in a tent,\n",
    "from which there was an air tube leading to a closed box of 50 mosquitoes.\n",
    "The experimenters then opened the box and counted how many mosquitoes flew down\n",
    "the tube towards the tent containing the person.  This count is the \"activated\"\n",
    "column in the dataset.\n",
    "\n",
    "In fact, they did this procedure *twice* for each volunteer, once *before* they\n",
    "drank their allocated drink, and once *after*.  The difference between before\n",
    "and after is a measure of the difference to the mosquitoes after the subject\n",
    "had had their drink.\n",
    "\n",
    "Without further ado, let us load the data.\n",
    "\n",
    "If you want to run this notebook on your own computer, Download the data from\n",
    "{download}`mosquito_beer.csv <data/mosquito_beer.csv>`.\n",
    "\n",
    "See [this\n",
    "page](https://github.com/matthew-brett/datasets/tree/master/mosquito_beer) for\n",
    "more details on the dataset, and [the data license page](data/LICENSE).\n"
   ]
  },
  {
   "cell_type": "code",
   "execution_count": null,
   "id": "35622026",
   "metadata": {},
   "outputs": [],
   "source": [
    "# Import Numpy library, rename as \"np\"\n",
    "import numpy as np\n",
    "# Make random number generator.\n",
    "rng = np.random.default_rng()\n",
    "# Import Pandas library, rename as \"pd\"\n",
    "import pandas as pd\n",
    "# Safe setting for Pandas.\n",
    "pd.set_option('mode.copy_on_write', True)\n",
    "\n",
    "# Set up plotting\n",
    "import matplotlib.pyplot as plt\n",
    "plt.style.use('fivethirtyeight')"
   ]
  },
  {
   "cell_type": "code",
   "execution_count": null,
   "id": "844e8118",
   "metadata": {},
   "outputs": [],
   "source": [
    "mosquitoes = pd.read_csv('data/mosquito_beer.csv')\n",
    "mosquitoes.head()"
   ]
  },
  {
   "cell_type": "markdown",
   "id": "d342378d",
   "metadata": {},
   "source": [
    "As you saw above, the experimental procedure left us with two mosquito counts\n",
    "for each volunteer, one count taken *before* they had had their drink, and\n",
    "another count *after*.\n",
    "\n",
    "Here we collect those *before* and *after* values for each beer-drinking\n",
    "volunteer.  Please ignore the code below, we will cover this kind of data\n",
    "selection and organization later in the course."
   ]
  },
  {
   "cell_type": "code",
   "execution_count": null,
   "id": "88e02906",
   "metadata": {},
   "outputs": [],
   "source": [
    "# Make new DataFrame with before and after for each volunteer.\n",
    "# Run this cell for now.  We will cover this code later in the course.\n",
    "# Just the beer drinkers.\n",
    "beer = mosquitoes[mosquitoes['group'] == 'beer']\n",
    "before = beer[beer['test'] == 'before']\n",
    "after = beer[beer['test'] == 'after']\n",
    "# Merge before and after rows for matching volunteers.\n",
    "both = before.merge(after, on=['volunteer', 'group'],\n",
    "                    suffixes=['_before', '_after'])\n",
    "# Select the columns we're interested in.\n",
    "before_after = both[['group', 'activated_before', 'activated_after']]\n",
    "before_after"
   ]
  },
  {
   "cell_type": "markdown",
   "id": "ae943451",
   "metadata": {},
   "source": [
    "Here is our planned subtraction of the control `before` numbers from the\n",
    "experimental `after` numbers."
   ]
  },
  {
   "cell_type": "code",
   "execution_count": null,
   "id": "af09c205",
   "metadata": {},
   "outputs": [],
   "source": [
    "# Transfer to arrays for simplicity.\n",
    "befores = np.array(before_after['activated_before'])\n",
    "afters = np.array(before_after['activated_after'])"
   ]
  },
  {
   "cell_type": "code",
   "execution_count": null,
   "id": "28796860",
   "metadata": {},
   "outputs": [],
   "source": [
    "actual_diffs = afters - befores\n",
    "actual_diffs"
   ]
  },
  {
   "cell_type": "markdown",
   "id": "86e395ca",
   "metadata": {},
   "source": [
    "Here we show the result using Pandas, of which more soon in the course:"
   ]
  },
  {
   "cell_type": "code",
   "execution_count": null,
   "id": "e6451311",
   "metadata": {},
   "outputs": [],
   "source": [
    "before_after['after_minus_before'] = actual_diffs\n",
    "before_after"
   ]
  },
  {
   "cell_type": "markdown",
   "id": "92f178ea",
   "metadata": {},
   "source": [
    "If our hypothesis is correct, we expect this difference (after minus before\n",
    "counts) to be positive, on average.  Let's see what this average difference was\n",
    "for our sample:"
   ]
  },
  {
   "cell_type": "code",
   "execution_count": null,
   "id": "1fab401e",
   "metadata": {},
   "outputs": [],
   "source": [
    "actual_mean_diff = np.mean(actual_diffs)\n",
    "actual_mean_diff"
   ]
  },
  {
   "cell_type": "markdown",
   "id": "5d9b0ef9",
   "metadata": {},
   "source": [
    "## Using permutation for pairs\n",
    "\n",
    "We find that the difference is positive *for our sample*.   Our question of\n",
    "course is whether this positive mean difference is compatible with sampling\n",
    "variation — the differences we will expect to see given we have taken a sample\n",
    "of beer-drinking people.\n",
    "\n",
    "We now have to think about what our null world would be for such a mean\n",
    "difference.\n",
    "\n",
    "In the null world, there is 0 (not-any) average difference between the control\n",
    "`before` scores and the corresponding `after` scores.  That is, the average\n",
    "difference between these two scores will be 0.\n",
    "\n",
    "How can we simulate such a world, where we expect the average difference\n",
    "between this *pair* of scores to be 0?\n",
    "\n",
    "If the null world it true, and the average difference is 0, then we can just do\n",
    "a random swap of the before and after scores in the pair, and we'll still have\n",
    "an observation that is valid in the null world.\n",
    "\n",
    "That is, to make a new dataset that could occur in the null world, we could go\n",
    "through row by row and, at random, swap the `before` and `after` scores.  Then\n",
    "we would recalculate the mean difference, and this mean difference would be\n",
    "a mean difference we might see in the null world, where there is no difference\n",
    "on average between the two values in the pair.  Then we would do this same\n",
    "procedure thousands of times to build up the *sampling distribution* of the\n",
    "mean difference, and then we would compare our observed mean difference the\n",
    "sampling distribution, to see if it was rare in the null world.\n",
    "\n",
    "We could do this operation, of going through each row, and randomly flipping\n",
    "the `before` and `after` values, but we can also simplify our task with a tiny\n",
    "bit of algebra.\n",
    "\n",
    "Let's say we have the subtraction between any two values $x$ and $y$: $x - y$, and we want the subtraction the other way round: $y - x$.  We can get the value for $y - x$ by multiplying $x - y$ by -1.\n",
    "\n",
    "$$\n",
    "-1 * (x - y) = -x + y = y - x\n",
    "$$\n",
    "\n",
    "We were thinking to randomly swap the two elements of the pair, and then\n",
    "subtract the results, but we can get the same result by taking the differences\n",
    "between the original pairs, and randomly choosing whether to multiply each\n",
    "difference by -1.\n",
    "\n",
    "Here we choose 1 or -1 at random for each row in our data frame."
   ]
  },
  {
   "cell_type": "code",
   "execution_count": null,
   "id": "00cdfb62",
   "metadata": {},
   "outputs": [],
   "source": [
    "n = len(before_after)\n",
    "# Choose 1 or -1 at random, n times.\n",
    "rand_signs = rng.choice([-1, 1], size=n)\n",
    "rand_signs"
   ]
  },
  {
   "cell_type": "markdown",
   "id": "8787563b",
   "metadata": {},
   "source": [
    "The values of -1 represent rows for which we are flipping the pairs, and values\n",
    "of 1 correspond to pairs we have left in the original order.\n",
    "\n",
    "We recalculate the differences, as we did above:"
   ]
  },
  {
   "cell_type": "code",
   "execution_count": null,
   "id": "913c8f33",
   "metadata": {},
   "outputs": [],
   "source": [
    "actual_diffs = afters - befores\n",
    "actual_diffs"
   ]
  },
  {
   "cell_type": "markdown",
   "id": "4441257f",
   "metadata": {},
   "source": [
    "This is the mean of the actual differences that we saw above."
   ]
  },
  {
   "cell_type": "code",
   "execution_count": null,
   "id": "4a8454f4",
   "metadata": {},
   "outputs": [],
   "source": [
    "actual_mean_diff = np.mean(actual_diffs)\n",
    "actual_mean_diff"
   ]
  },
  {
   "cell_type": "markdown",
   "id": "919a7ab8",
   "metadata": {},
   "source": [
    "Make a new set of difference corresponding to the flips encoded in the `signs` array:"
   ]
  },
  {
   "cell_type": "code",
   "execution_count": null,
   "id": "cea32a5f",
   "metadata": {},
   "outputs": [],
   "source": [
    "# Generate result of flipping pairs randomly\n",
    "fake_diffs = rand_signs * actual_diffs\n",
    "fake_diffs"
   ]
  },
  {
   "cell_type": "markdown",
   "id": "7e3b4bef",
   "metadata": {},
   "source": [
    "Now we have a mean difference in the null world:"
   ]
  },
  {
   "cell_type": "code",
   "execution_count": null,
   "id": "9215308a",
   "metadata": {},
   "outputs": [],
   "source": [
    "fake_mean_diff = np.mean(fake_diffs)\n",
    "fake_mean_diff"
   ]
  },
  {
   "cell_type": "markdown",
   "id": "201e5672",
   "metadata": {},
   "source": [
    "Here then is the procedure for one trial in the null world:"
   ]
  },
  {
   "cell_type": "code",
   "execution_count": null,
   "id": "4e023f8b",
   "metadata": {},
   "outputs": [],
   "source": [
    "# One trial in the null world.\n",
    "rand_signs = rng.choice([-1, 1], size=n)\n",
    "fake_diffs = rand_signs * actual_diffs\n",
    "fake_mean_diff = np.mean(fake_diffs)\n",
    "fake_mean_diff"
   ]
  },
  {
   "cell_type": "markdown",
   "id": "c31f8159",
   "metadata": {},
   "source": [
    "Run this procedure a few times to get a feel for how much these numbers vary from trial to trial.\n",
    "\n",
    "We repeat this procedure thousands of times to build up the sampling\n",
    "distribution in the null world."
   ]
  },
  {
   "cell_type": "code",
   "execution_count": null,
   "id": "854c23c7",
   "metadata": {},
   "outputs": [],
   "source": [
    "results = np.zeros(10000)\n",
    "for i in np.arange(10000):\n",
    "    # Do the single trial procedure.\n",
    "    rand_signs = rng.choice([-1, 1], size=n)\n",
    "    fake_diffs = rand_signs * actual_diffs\n",
    "    fake_mean_diff = np.mean(fake_diffs)\n",
    "    # Store the result\n",
    "    results[i] = fake_mean_diff\n",
    "\n",
    "# Show the first 10 values\n",
    "results[:10]"
   ]
  },
  {
   "cell_type": "code",
   "execution_count": null,
   "id": "5b503200",
   "metadata": {},
   "outputs": [],
   "source": [
    "plt.hist(results, bins=50)\n",
    "plt.title('Sampling distribution of mean of differences')\n",
    "# Show the position of the actual value on the x-axis.\n",
    "plt.axvline(actual_mean_diff, color='red', label='Actual value')\n",
    "# Label the actual value line.\n",
    "plt.legend();"
   ]
  },
  {
   "cell_type": "markdown",
   "id": "62af7c17",
   "metadata": {},
   "source": [
    "Finally we ask how unusual the actual value is in the sampling distribution from the null world:"
   ]
  },
  {
   "cell_type": "code",
   "execution_count": null,
   "id": "add279b0",
   "metadata": {},
   "outputs": [],
   "source": [
    "p = np.count_nonzero(results >= actual_mean_diff) / 10000\n",
    "p"
   ]
  },
  {
   "cell_type": "markdown",
   "id": "f689b7d3",
   "metadata": {},
   "source": [
    "We have found that there is less than a 0.1% chance we would see the actual value, or greater, in the null world.  The actual value is surprising in the null world, and we have reason to continue to investigate causes of this value, including the presumed cause, that mosquitoes are, in fact, attracted to people who drink beer."
   ]
  }
 ],
 "metadata": {
  "jupytext": {
   "notebook_metadata_filter": "all,-language_info",
   "split_at_heading": true
  },
  "kernelspec": {
   "display_name": "Python (Pyodide)",
   "name": "python"
  }
 },
 "nbformat": 4,
 "nbformat_minor": 5
}
