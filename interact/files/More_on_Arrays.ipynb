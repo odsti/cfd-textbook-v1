{
 "cells": [
  {
   "cell_type": "markdown",
   "id": "284b121e",
   "metadata": {},
   "source": [
    "# More on Arrays\n",
    "\n",
    "It's often necessary to compute something that involves data from more than one\n",
    "array. If two arrays are of the same size, Python makes it easy to do\n",
    "calculations involving both arrays.\n",
    "\n",
    "For our first example, we return once more to the temperature data.  This time,\n",
    "we create arrays of average daily\n",
    "[high](http://berkeleyearth.lbl.gov/auto/Regional/TMAX/Text/global-land-TMAX-Trend.txt)\n",
    "and\n",
    "[low](http://berkeleyearth.lbl.gov/auto/Regional/TMIN/Text/global-land-TMIN-Trend.txt)\n",
    "temperatures for the decades surrounding 1850, 1900, 1950, and 2000.\n",
    "\n",
    "First we get Numpy, renamed as `np`:"
   ]
  },
  {
   "cell_type": "code",
   "execution_count": null,
   "id": "e3ef8866",
   "metadata": {},
   "outputs": [],
   "source": [
    "import numpy as np"
   ]
  },
  {
   "cell_type": "markdown",
   "id": "5ab357bf",
   "metadata": {},
   "source": [
    "Next we create the array:"
   ]
  },
  {
   "cell_type": "code",
   "execution_count": null,
   "id": "7202a5e9",
   "metadata": {},
   "outputs": [],
   "source": [
    "highs = np.array([13.6, 14.387, 14.585, 15.164])\n",
    "highs"
   ]
  },
  {
   "cell_type": "code",
   "execution_count": null,
   "id": "87911d40",
   "metadata": {},
   "outputs": [],
   "source": [
    "lows = np.array([2.128, 2.371, 2.874, 3.728])\n",
    "lows"
   ]
  },
  {
   "cell_type": "markdown",
   "id": "7953b5c0",
   "metadata": {},
   "source": [
    "Suppose we'd like to compute the average daily *range* of temperatures for\n",
    "each decade.  That is, we want to subtract the average daily high in the 1850s\n",
    "from the average daily low in the 1850s, and the same for each other decade.\n",
    "\n",
    "We could write this laboriously using `.item`:"
   ]
  },
  {
   "cell_type": "code",
   "execution_count": null,
   "id": "0f5bd53c",
   "metadata": {},
   "outputs": [],
   "source": [
    "np.array([\n",
    "    highs.item(0) - lows.item(0),\n",
    "    highs.item(1) - lows.item(1),\n",
    "    highs.item(2) - lows.item(2),\n",
    "    highs.item(3) - lows.item(3)\n",
    "])"
   ]
  },
  {
   "cell_type": "markdown",
   "id": "3809fcd6",
   "metadata": {},
   "source": [
    "As when we converted an array of temperatures from Celsius to Fahrenheit,\n",
    "Python provides a much cleaner way to write this:"
   ]
  },
  {
   "cell_type": "code",
   "execution_count": null,
   "id": "1fa9f33d",
   "metadata": {},
   "outputs": [],
   "source": [
    "highs - lows"
   ]
  },
  {
   "cell_type": "markdown",
   "id": "5bcb5709",
   "metadata": {},
   "source": [
    "![](images/array_subtraction.png)"
   ]
  },
  {
   "cell_type": "markdown",
   "id": "ae05582f",
   "metadata": {},
   "source": [
    "What we've seen in these examples are special cases of a general feature of arrays."
   ]
  },
  {
   "cell_type": "markdown",
   "id": "184b225e",
   "metadata": {},
   "source": [
    "## Elementwise arithmetic on pairs of numerical arrays\n",
    "\n",
    "If an arithmetic operator acts on two arrays of the same size, then the\n",
    "operation is performed on each corresponding pair of elements in the two\n",
    "arrays. The final result is an array.\n",
    "\n",
    "For example, if `array1` and `array2` have the same number of elements, then\n",
    "the value of `array1 * array2` is an array. Its first element is the first\n",
    "element of `array` times the first element of `array2`, its second element is\n",
    "the second element of `array1` times the second element of `array2`, and so\n",
    "on.\n",
    "\n",
    "{ucb-page}`More_on_Arrays`"
   ]
  }
 ],
 "metadata": {
  "anaconda-cloud": {},
  "jupytext": {
   "notebook_metadata_filter": "anaconda-cloud,language_info"
  },
  "kernelspec": {
   "display_name": "Python (Pyodide)",
   "name": "python"
  },
  "language_info": {
   "codemirror_mode": {
    "name": "ipython",
    "version": 3
   },
   "file_extension": ".py",
   "mimetype": "text/x-python",
   "name": "python",
   "nbconvert_exporter": "python",
   "pygments_lexer": "ipython3",
   "version": "3.5.2"
  }
 },
 "nbformat": 4,
 "nbformat_minor": 5
}
