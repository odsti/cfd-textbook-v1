{
 "cells": [
  {
   "cell_type": "markdown",
   "id": "011182cf",
   "metadata": {},
   "source": [
    "# A simpler problem\n",
    "\n",
    "Imagine a family with four children.\n",
    "\n",
    "What is the probability that the family will have exactly three girls?\n",
    "\n",
    "There are various ways to answer this question.  One way, is to use\n",
    "*simulation*.\n",
    "\n",
    "Simulation makes a *model* of the problem.  We use the model to generate\n",
    "*simulated* data.  If the model is a good one, the simulated data should look\n",
    "like the real data.\n",
    "\n",
    "First we need to simulate a family of four children.\n",
    "\n",
    "Then we need to count the number of girls.\n",
    "\n",
    "We do this many many times, and see how often we get a count of 3.\n",
    "\n",
    "In our model, the chances of any one child being a boy or a girl is 0.5, or\n",
    "50%.  To do our simulation, we need something random, like the toss of a coin,\n",
    "to decide if the next child is a boy or a girl.\n",
    "\n",
    "Tossing a coin is a bit time-consuming, and your computer is well designed to\n",
    "solve this task in a more efficient way.  It can generate random numbers.\n",
    "\n",
    "To make random numbers, and do other random things, we need a Numpy *Random\n",
    "Number Generator*.  We make one like this:"
   ]
  },
  {
   "cell_type": "code",
   "execution_count": null,
   "id": "9bb9b343",
   "metadata": {},
   "outputs": [],
   "source": [
    "# Get the Numpy library\n",
    "import numpy as np"
   ]
  },
  {
   "cell_type": "code",
   "execution_count": null,
   "id": "c6657e3d",
   "metadata": {},
   "outputs": [],
   "source": [
    "# Make a random number generator\n",
    "rng = np.random.default_rng()\n",
    "# Show the result\n",
    "rng"
   ]
  },
  {
   "cell_type": "markdown",
   "id": "b4cf4ba3",
   "metadata": {},
   "source": [
    "This allows us to do things like generate random numbers.  Here is an example;\n",
    "we generate a random whole number anywhere between 0 and 1:"
   ]
  },
  {
   "cell_type": "code",
   "execution_count": null,
   "id": "b4419e58",
   "metadata": {},
   "outputs": [],
   "source": [
    "rng.uniform(0, 1)"
   ]
  },
  {
   "cell_type": "markdown",
   "id": "94eb6bfc",
   "metadata": {},
   "source": [
    "We can also ask our `rng` to generate random *whole numbers* using the\n",
    "`integers` function (well, actually, it's a *method*, but that's a distinction\n",
    "we won't worry about for now).\n",
    "\n",
    "For example, to generate a random whole number from 0 through 9, we could do\n",
    "this:"
   ]
  },
  {
   "cell_type": "code",
   "execution_count": null,
   "id": "6f0904c1",
   "metadata": {},
   "outputs": [],
   "source": [
    "# Get a random number from 0 through 9, store in \"a\"\n",
    "a = rng.integers(0, 10)\n",
    "# Show the result.\n",
    "a"
   ]
  },
  {
   "cell_type": "markdown",
   "id": "bc32dc30",
   "metadata": {},
   "source": [
    "Run the cell above a few times by clicking inside the cell, and pressing\n",
    "Cmd-Enter a few times.  You should see random numbers from 0 through 9.\n",
    "\n",
    "Notice that we write `rng.integers(0, 10)` and *not* `rng.integers(0, 9)`. The\n",
    "second number, 10, is one *above* the largest integer we will allow. Read this\n",
    "as *a random integer from 0 up to but not including 10*.\n",
    "\n",
    "Now we have the `integers` function, we can run the following cell 4 times, to\n",
    "get 4 random numbers between 0 and 1.\n",
    "\n",
    "Call 0 a boy, and 1 a girl.  If we run this four times, then we have one\n",
    "simulated family.  We can count how many 1s (girls) we got in the four runs,\n",
    "and that is the simulated number of girls, for this family."
   ]
  },
  {
   "cell_type": "code",
   "execution_count": null,
   "id": "d400f2d7",
   "metadata": {},
   "outputs": [],
   "source": [
    "# Return a random number that is either 0 or 1.\n",
    "# Read this as:\n",
    "# Return a whole number from 0 up to, but not including 2.\n",
    "rng.integers(0, 2)"
   ]
  },
  {
   "cell_type": "markdown",
   "id": "89aa7659",
   "metadata": {},
   "source": [
    "`rng.integers` is a *function* (well, a method, but whatever).\n",
    "\n",
    "`rng.integers(0, 2)` *calls* the function, and returns a random number, that is\n",
    "either 0 and 1."
   ]
  },
  {
   "cell_type": "markdown",
   "id": "f61fca8b",
   "metadata": {},
   "source": [
    "It's inconvenient to have to run this cell many times.   We really need some\n",
    "machinery to make the computer do that for us.  We need *variables*,\n",
    "*functions*, *comparisons* and *arrays*.  We will deal with those next."
   ]
  }
 ],
 "metadata": {
  "jupytext": {
   "formats": "Rmd,ipynb",
   "notebook_metadata_filter": "language_info",
   "split_at_heading": true
  },
  "kernelspec": {
   "display_name": "Python (Pyodide)",
   "name": "python"
  },
  "language_info": {
   "codemirror_mode": {
    "name": "ipython",
    "version": 3
   },
   "file_extension": ".py",
   "mimetype": "text/x-python",
   "name": "python",
   "nbconvert_exporter": "python",
   "pygments_lexer": "ipython3",
   "version": "3.9.13"
  }
 },
 "nbformat": 4,
 "nbformat_minor": 5
}
