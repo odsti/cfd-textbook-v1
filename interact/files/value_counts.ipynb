{
 "cells": [
  {
   "cell_type": "markdown",
   "id": "a6636281",
   "metadata": {},
   "source": [
    "# Value counts\n",
    "\n",
    "Pandas [Series](series_like_arrays) have a useful method to count the number of each unique value in that Series."
   ]
  },
  {
   "cell_type": "code",
   "execution_count": null,
   "id": "2b4ff4c8",
   "metadata": {},
   "outputs": [],
   "source": [
    "# Load the Numpy array library, call it 'np'\n",
    "import numpy as np\n",
    "# Load the Pandas data science library, call it 'pd'\n",
    "import pandas as pd\n",
    "# Turn on a setting to use Pandas more safely.\n",
    "# We will discuss this setting later.\n",
    "pd.set_option('mode.copy_on_write', True)"
   ]
  },
  {
   "cell_type": "markdown",
   "id": "abffe049",
   "metadata": {},
   "source": [
    "Here we load a dataset with information on the passengers and crew on the [RMS\n",
    "Titanic](https://en.wikipedia.org/wiki/Titanic)."
   ]
  },
  {
   "cell_type": "code",
   "execution_count": null,
   "id": "0d59bf1c",
   "metadata": {},
   "outputs": [],
   "source": [
    "titanic = pd.read_csv('data/titanic_stlearn.csv')\n",
    "titanic.head()"
   ]
  },
  {
   "cell_type": "markdown",
   "id": "0a961385",
   "metadata": {},
   "source": [
    "Each row represents one person who was on the Titanic when she sank on 15th\n",
    "April 1912.  Each column has a particular piece of data for those people.  For\n",
    "example, the `embarked` column has the port at which each passenger or crew\n",
    "member joined the ship.   The Titanic was built and launched in Belfast.  She\n",
    "sailed from [Belfast to\n",
    "Southampton](https://www.encyclopedia-titanica.org/titanic-voyage-belfast-southampton-april-2nd.html)\n",
    "on the 2nd April, where she picked up many passengers, and the rest of her\n",
    "crew.  On 10th April, she started her maiden and only voyage, from Southampton\n",
    "to Cherbourg, and then Queenstown, in the south of Ireland, to pick up more\n",
    "passengers.  She set off from Queenstown for New York on the 11th April.\n",
    "\n",
    "Here is the Series representing the `embarked` column of the DataFrame:"
   ]
  },
  {
   "cell_type": "code",
   "execution_count": null,
   "id": "b44e768a",
   "metadata": {},
   "outputs": [],
   "source": [
    "embarked = titanic['embarked']\n",
    "embarked"
   ]
  },
  {
   "cell_type": "markdown",
   "id": "f79d2cc0",
   "metadata": {},
   "source": [
    "## Indexing Series with Boolean Series\n",
    "\n",
    "We might want to know how many people boarded at each of these ports.  For\n",
    "example, we might want to know how many people joined the Titanic at Belfast.\n",
    "We could do this with a Boolean Series, like this:\n",
    "\n",
    "* Make a Boolean Series with True where `embarked` == `'Belfast`\n",
    "* Use the `.sum` method of the Boolean Series to count how many True values\n",
    "  there were."
   ]
  },
  {
   "cell_type": "code",
   "execution_count": null,
   "id": "2863327f",
   "metadata": {},
   "outputs": [],
   "source": [
    "# Make a Boolean Series with True for Belfast.\n",
    "is_belfast = embarked == 'Belfast'\n",
    "is_belfast"
   ]
  },
  {
   "cell_type": "markdown",
   "id": "c8b94978",
   "metadata": {},
   "source": [
    "Series have a `sum` method that sums up the values in the Series.  As you may remember from `np.sum` and arrays, True counts as 1 and False counts as 0, so the sum of the Series values is the same as the number of True values in the Series:"
   ]
  },
  {
   "cell_type": "code",
   "execution_count": null,
   "id": "8e511957",
   "metadata": {},
   "outputs": [],
   "source": [
    "# How many Belfast values are there?\n",
    "is_belfast.sum()"
   ]
  },
  {
   "cell_type": "markdown",
   "id": "fd088dec",
   "metadata": {},
   "source": [
    "## Value counts\n",
    "\n",
    "The approach above works for Belfast, and of course we could apply the same\n",
    "procedure for each port — Southampton, Cherbourg, Queenstown — but that starts to get verbose.\n",
    "\n",
    "Luckily, the `value_counts` method of a Series does this job for us.  It:\n",
    "\n",
    "* Identifies all the unique values in the Series, and then\n",
    "* Counts how many of each of these values exist in the Series."
   ]
  },
  {
   "cell_type": "code",
   "execution_count": null,
   "id": "3686557d",
   "metadata": {},
   "outputs": [],
   "source": [
    "emb_counts = embarked.value_counts()\n",
    "emb_counts"
   ]
  },
  {
   "cell_type": "markdown",
   "id": "2d43741f",
   "metadata": {},
   "source": [
    "In our case, `value_counts` has:\n",
    "\n",
    "* Found all the unique ports in `embarked` and\n",
    "* Counted how many values there are for each port.\n",
    "\n",
    "Notice that it sorts the unique values by the counts, highest count first."
   ]
  },
  {
   "cell_type": "markdown",
   "id": "28ca0244",
   "metadata": {},
   "source": [
    "## The result of `value_counts` is a new Series\n",
    "\n",
    "Notice that the result that comes back from `value_counts` is itself a Series:"
   ]
  },
  {
   "cell_type": "code",
   "execution_count": null,
   "id": "b499a30e",
   "metadata": {},
   "outputs": [],
   "source": [
    "type(emb_counts)"
   ]
  },
  {
   "cell_type": "markdown",
   "id": "b6c19939",
   "metadata": {},
   "source": [
    "As for any Series, it has values and labels (the \"index\"):"
   ]
  },
  {
   "cell_type": "code",
   "execution_count": null,
   "id": "8398f4ca",
   "metadata": {},
   "outputs": [],
   "source": [
    "# The values\n",
    "emb_counts.values"
   ]
  },
  {
   "cell_type": "code",
   "execution_count": null,
   "id": "742abfb3",
   "metadata": {},
   "outputs": [],
   "source": [
    "# The labels\n",
    "emb_counts.index"
   ]
  },
  {
   "cell_type": "markdown",
   "id": "072b7c9b",
   "metadata": {},
   "source": [
    "Like all Series, the result of `value_counts` has a `sum` method that gives the sum of the values:"
   ]
  },
  {
   "cell_type": "code",
   "execution_count": null,
   "id": "cdf7097f",
   "metadata": {},
   "outputs": [],
   "source": [
    "emb_counts.sum()"
   ]
  },
  {
   "cell_type": "markdown",
   "id": "869b8187",
   "metadata": {},
   "source": [
    "In our case, because each person does have a recorded (not-missing) embarkation port, the sum of the counts is same as the number of people (values) in the original `embarked` Series:"
   ]
  },
  {
   "cell_type": "code",
   "execution_count": null,
   "id": "e2b7dc8e",
   "metadata": {},
   "outputs": [],
   "source": [
    "len(embarked)"
   ]
  },
  {
   "cell_type": "markdown",
   "id": "3be4c190",
   "metadata": {},
   "source": [
    "However, this is not always true — sometimes there are missing values, and in that case, the `sum` of the value counts will not add up to the number of values in the series.\n",
    "\n",
    "For example, consider the column giving the nationality of each person:"
   ]
  },
  {
   "cell_type": "code",
   "execution_count": null,
   "id": "0b2765fd",
   "metadata": {},
   "outputs": [],
   "source": [
    "countries = titanic['country']\n",
    "countries"
   ]
  },
  {
   "cell_type": "markdown",
   "id": "a6589e25",
   "metadata": {},
   "source": [
    "Here we count how many people there were of each nationality:"
   ]
  },
  {
   "cell_type": "code",
   "execution_count": null,
   "id": "9a6fa917",
   "metadata": {},
   "outputs": [],
   "source": [
    "c_counts = countries.value_counts()\n",
    "c_counts"
   ]
  },
  {
   "cell_type": "markdown",
   "id": "6e477b99",
   "metadata": {},
   "source": [
    "In this case — there were some people for whom we do not know their nationality — they have missing values for `country`.   For that reason, the `sum` of the value counts is less than the number of values."
   ]
  },
  {
   "cell_type": "code",
   "execution_count": null,
   "id": "cb60087d",
   "metadata": {},
   "outputs": [],
   "source": [
    "c_count_sum = c_counts.sum()\n",
    "c_count_sum"
   ]
  },
  {
   "cell_type": "markdown",
   "id": "a647a784",
   "metadata": {},
   "source": [
    "That means that there were a few missing values:"
   ]
  },
  {
   "cell_type": "code",
   "execution_count": null,
   "id": "9cc295e5",
   "metadata": {},
   "outputs": [],
   "source": [
    "n_missing = len(countries) - c_count_sum\n",
    "n_missing"
   ]
  },
  {
   "cell_type": "markdown",
   "id": "6901c6d0",
   "metadata": {},
   "source": [
    "## `count` counts the number of not-missing values\n",
    "\n",
    "The `count` method of a series does this count directly.  That is, it counts the number of values that are not missing"
   ]
  },
  {
   "cell_type": "code",
   "execution_count": null,
   "id": "e01ecd06",
   "metadata": {},
   "outputs": [],
   "source": [
    "countries.count()"
   ]
  },
  {
   "cell_type": "code",
   "execution_count": null,
   "id": "37362ca4",
   "metadata": {},
   "outputs": [],
   "source": [
    "countries.count() == c_count_sum"
   ]
  }
 ],
 "metadata": {
  "jupyterbook": {
   "show_stderr": true
  },
  "jupytext": {
   "formats": "",
   "notebook_metadata_filter": "all,-language_info",
   "split_at_heading": true
  },
  "kernelspec": {
   "display_name": "Python (Pyodide)",
   "name": "python"
  }
 },
 "nbformat": 4,
 "nbformat_minor": 5
}
