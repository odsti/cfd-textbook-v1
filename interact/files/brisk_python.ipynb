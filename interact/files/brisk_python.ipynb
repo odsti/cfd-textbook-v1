{
 "cells": [
  {
   "cell_type": "markdown",
   "id": "aea2e0b5",
   "metadata": {},
   "source": [
    "# Brisk introduction to Python\n",
    "\n",
    "This is an introduction designed for those of us who already know a [dynamic\n",
    "programming\n",
    "language](https://en.wikipedia.org/wiki/Dynamic_programming_language) fairly\n",
    "well. MATLAB and the R language are [examples of dynamic programming\n",
    "languages](https://en.wikipedia.org/wiki/Dynamic_programming_language#Examples_of_Dynamic_Programming_Languages).\n",
    "\n",
    "For an alternative introduction at a slightly slower pace, see [Introducing\n",
    "Python](./introducing_python.Rmd)."
   ]
  },
  {
   "cell_type": "markdown",
   "id": "325f0b7d",
   "metadata": {},
   "source": [
    "## Numbers\n",
    "\n",
    "There are two types of numbers in Python: integer and floating point.\n",
    "\n",
    "You may remember that an integer is a whole number - a number without anything\n",
    "after the decimal point.  The *counting numbers* are integers — e.g. 0, 1, 2,\n",
    "3, ....  But integers also include negative whole numbers — e.g. -1, -2, -3\n",
    "...\n",
    "\n",
    "In Python, an integer is an *object* of type `int`, and a float is an object\n",
    "of type `float`."
   ]
  },
  {
   "cell_type": "code",
   "execution_count": null,
   "id": "80a1b19d",
   "metadata": {},
   "outputs": [],
   "source": [
    "a = 99\n",
    "type(a)"
   ]
  },
  {
   "cell_type": "code",
   "execution_count": null,
   "id": "fd35342f",
   "metadata": {},
   "outputs": [],
   "source": [
    "b = 99.0\n",
    "type(b)"
   ]
  },
  {
   "cell_type": "markdown",
   "id": "a34d9ade",
   "metadata": {},
   "source": [
    "You can create ints and floats by using `int` and `float` like this:"
   ]
  },
  {
   "cell_type": "code",
   "execution_count": null,
   "id": "4cd67d03",
   "metadata": {},
   "outputs": [],
   "source": [
    "float('1')"
   ]
  },
  {
   "cell_type": "code",
   "execution_count": null,
   "id": "ff9a627e",
   "metadata": {},
   "outputs": [],
   "source": [
    "float(1)"
   ]
  },
  {
   "cell_type": "code",
   "execution_count": null,
   "id": "7e9b9145",
   "metadata": {},
   "outputs": [],
   "source": [
    "int('1')"
   ]
  },
  {
   "cell_type": "code",
   "execution_count": null,
   "id": "7b8a6b9e",
   "metadata": {},
   "outputs": [],
   "source": [
    "int(1)"
   ]
  },
  {
   "cell_type": "markdown",
   "id": "20459476",
   "metadata": {},
   "source": [
    "`+`,  `-`, `\\*` or `/` on a mix of floats and ints, give floats:"
   ]
  },
  {
   "cell_type": "code",
   "execution_count": null,
   "id": "164ae6b0",
   "metadata": {},
   "outputs": [],
   "source": [
    "a + b\n",
    "a * b"
   ]
  },
  {
   "cell_type": "markdown",
   "id": "cebb047f",
   "metadata": {},
   "source": [
    "Dividing an int by an int also gives a float:"
   ]
  },
  {
   "cell_type": "code",
   "execution_count": null,
   "id": "11a730be",
   "metadata": {},
   "outputs": [],
   "source": [
    "1 / 2"
   ]
  },
  {
   "cell_type": "markdown",
   "id": "5ee7d7b8",
   "metadata": {},
   "source": [
    "If you only want the integer part of the division, use `//`"
   ]
  },
  {
   "cell_type": "code",
   "execution_count": null,
   "id": "dabca541",
   "metadata": {},
   "outputs": [],
   "source": [
    "1 // 2"
   ]
  },
  {
   "cell_type": "code",
   "execution_count": null,
   "id": "b052ea1c",
   "metadata": {},
   "outputs": [],
   "source": [
    "1.0 // 2.0"
   ]
  },
  {
   "cell_type": "markdown",
   "id": "d9a5137d",
   "metadata": {},
   "source": [
    "Python has built-in function called `round`:"
   ]
  },
  {
   "cell_type": "code",
   "execution_count": null,
   "id": "ca1d7d95",
   "metadata": {},
   "outputs": [],
   "source": [
    "round(5.0 / 2.0)"
   ]
  },
  {
   "cell_type": "markdown",
   "id": "4acc7844",
   "metadata": {},
   "source": [
    "Built-in means it is always available in Python, without you having to load an\n",
    "optional module (library).  You will see modules soon.\n",
    "\n",
    "The `%` operator on numbers gives you the remainder of integer division (also\n",
    "known as the modulus):"
   ]
  },
  {
   "cell_type": "code",
   "execution_count": null,
   "id": "00a178eb",
   "metadata": {},
   "outputs": [],
   "source": [
    "5 % 2"
   ]
  },
  {
   "cell_type": "code",
   "execution_count": null,
   "id": "93f7ca3d",
   "metadata": {},
   "outputs": [],
   "source": [
    "5.0 % 2.0"
   ]
  },
  {
   "cell_type": "markdown",
   "id": "81b15b93",
   "metadata": {},
   "source": [
    "(true-and-false)="
   ]
  },
  {
   "cell_type": "markdown",
   "id": "677ae227",
   "metadata": {},
   "source": [
    "## True and False\n",
    "\n",
    "`True` and `False` are special objects in Python.  They are of type `bool`\n",
    "(for Boolean)."
   ]
  },
  {
   "cell_type": "code",
   "execution_count": null,
   "id": "c24a50ee",
   "metadata": {},
   "outputs": [],
   "source": [
    "type(True)"
   ]
  },
  {
   "cell_type": "code",
   "execution_count": null,
   "id": "6204a347",
   "metadata": {},
   "outputs": [],
   "source": [
    "type(False)"
   ]
  },
  {
   "cell_type": "markdown",
   "id": "427aac17",
   "metadata": {},
   "source": [
    "To show several results from one cell, we can use the `print` function, that\n",
    "displays the value.  As you will soon see, we use a function by giving its\n",
    "name (here: `print`) followed by round brackets (parentheses) that contain the\n",
    "thing or things we want the function to work on.  For example, to display the\n",
    "value `False` I can write:"
   ]
  },
  {
   "cell_type": "code",
   "execution_count": null,
   "id": "af56482d",
   "metadata": {},
   "outputs": [],
   "source": [
    "print(False)"
   ]
  },
  {
   "cell_type": "markdown",
   "id": "fff4bee4",
   "metadata": {},
   "source": [
    "This is similar to what I would get by just putting `False` on the last line of\n",
    "the cell, in the way we have been doing up to now, to show values.  One\n",
    "advantage of `print` is that I can display multiple values from one cell:"
   ]
  },
  {
   "cell_type": "code",
   "execution_count": null,
   "id": "8923ff98",
   "metadata": {},
   "outputs": [],
   "source": [
    "print(True == False)\n",
    "print(True == True)\n",
    "print(False == False)"
   ]
  },
  {
   "cell_type": "markdown",
   "id": "d1ef33ea",
   "metadata": {},
   "source": [
    "## None\n",
    "\n",
    "`None` is also a special object in Python.  By convention, Python often uses\n",
    "`None` to mean that no valid value resulted from an operation, or to signal\n",
    "that we don’t have a value for a parameter."
   ]
  },
  {
   "cell_type": "code",
   "execution_count": null,
   "id": "5c02e7c7",
   "metadata": {},
   "outputs": [],
   "source": [
    "type(None)"
   ]
  },
  {
   "cell_type": "markdown",
   "id": "ce9cc7c1",
   "metadata": {},
   "source": [
    "Unlike most other values in Python, the default display output from None, is\n",
    "nothing:"
   ]
  },
  {
   "cell_type": "code",
   "execution_count": null,
   "id": "16e939c7",
   "metadata": {},
   "outputs": [],
   "source": [
    "None"
   ]
  },
  {
   "cell_type": "markdown",
   "id": "8e0d85b3",
   "metadata": {},
   "source": [
    "## Equals\n",
    "\n",
    "As for MATLAB and R, `=` is for assignment, `==` is for testing equality."
   ]
  },
  {
   "cell_type": "code",
   "execution_count": null,
   "id": "ff425004",
   "metadata": {},
   "outputs": [],
   "source": [
    "# a gets the value 1.  Notice the single =\n",
    "a = 1\n",
    "a"
   ]
  },
  {
   "cell_type": "markdown",
   "id": "0453420e",
   "metadata": {},
   "source": [
    "`==` is a test to ask if the left hand side value is equal to the right hand side value:"
   ]
  },
  {
   "cell_type": "code",
   "execution_count": null,
   "id": "f09782fe",
   "metadata": {},
   "outputs": [],
   "source": [
    "a == 1"
   ]
  },
  {
   "cell_type": "markdown",
   "id": "7a702764",
   "metadata": {},
   "source": [
    "Notice that Python returns True in this case because `a` is equal to 1.  On the other hand:"
   ]
  },
  {
   "cell_type": "code",
   "execution_count": null,
   "id": "0370be81",
   "metadata": {},
   "outputs": [],
   "source": [
    "a == 2"
   ]
  },
  {
   "cell_type": "markdown",
   "id": "b2095ab8",
   "metadata": {},
   "source": [
    "Like R, Python uses `!=` for testing that objects are *not* equal. This is\n",
    "different from MATLAB, which uses `~=`:"
   ]
  },
  {
   "cell_type": "code",
   "execution_count": null,
   "id": "2165b036",
   "metadata": {},
   "outputs": [],
   "source": [
    "a != 1"
   ]
  },
  {
   "cell_type": "markdown",
   "id": "48019c92",
   "metadata": {},
   "source": [
    "(comparison-operators)="
   ]
  },
  {
   "cell_type": "markdown",
   "id": "0182df95",
   "metadata": {},
   "source": [
    "## Comparison operators\n",
    "\n",
    "You have just seen the `==` *operator* in action, as well as the `!=`\n",
    "operator.\n",
    "\n",
    "These are *operators* because they operate on values.  Here they operate on the\n",
    "values to their left and right.\n",
    "\n",
    "`+` and `-` and so on, are also operators.  You can read this:"
   ]
  },
  {
   "cell_type": "code",
   "execution_count": null,
   "id": "76469d18",
   "metadata": {},
   "outputs": [],
   "source": [
    "3 + 4"
   ]
  },
  {
   "cell_type": "markdown",
   "id": "3adbe350",
   "metadata": {},
   "source": [
    "as \"Apply the addition operator to 3 and 4, returning the result (here, 7).\n",
    "\n",
    "Similarly, you can read:"
   ]
  },
  {
   "cell_type": "code",
   "execution_count": null,
   "id": "ac1a490d",
   "metadata": {},
   "outputs": [],
   "source": [
    "a == 2"
   ]
  },
  {
   "cell_type": "markdown",
   "id": "ad5eff73",
   "metadata": {},
   "source": [
    "as \"Apply the equality operator to the value in `a` and 2, returning the\n",
    "result (here, `True`).\n",
    "\n",
    "The equality operator `==` and the inequality operator `!=` are examples of\n",
    "*comparison* operators.  These are operators that apply a *comparison*\n",
    "question to the values to their left and right.  They always return True or False.\n",
    "\n",
    "Here are Python's comparison operators:\n",
    "\n",
    "| Operator | Name | Example | Result for example |\n",
    "| --- | --- | --- | --- |\n",
    "| `==` | equal to | `3 == 2` | `False` |\n",
    "| `!=` | not equal to | `3 != 2` | `False` |\n",
    "| `<` | less than | `2 < 3` | `True` |\n",
    "| `>` | greater than | `2 > 3` | `False` |\n",
    "| `<=` | less than or equal to | `2 <= 2` | `True` |\n",
    "| `>=` | greater than or equal to | `2 >= 2` | `True` |\n",
    "\n",
    "Here are the examples:"
   ]
  },
  {
   "cell_type": "code",
   "execution_count": null,
   "id": "558fb67f",
   "metadata": {},
   "outputs": [],
   "source": [
    "print('3 == 2 gives', 3 == 2)\n",
    "print('3 != 2 gives', 3 != 2)\n",
    "print('2 < 3 gives', 2 < 3)\n",
    "print('2 > 3 gives', 2 > 3)\n",
    "print('2 <= 2 gives', 2 <= 2)\n",
    "print('2 >= 2 gives', 2 >= 2)"
   ]
  },
  {
   "cell_type": "markdown",
   "id": "caf0fda1",
   "metadata": {},
   "source": [
    "## Logical operators\n",
    "\n",
    "Logical operators are like comparison operators, but they ask *logical* questions.\n",
    "\n",
    "For example, in logic, by definition, the *and* operator asks the question:\n",
    "*Are both the left and right values True?* — like this:"
   ]
  },
  {
   "cell_type": "code",
   "execution_count": null,
   "id": "d1511968",
   "metadata": {},
   "outputs": [],
   "source": [
    "print('True and True:', True and True)\n",
    "print('True and False:', True and False)\n",
    "print('False and True:', False and True)\n",
    "print('False and False:', False and False)"
   ]
  },
  {
   "cell_type": "markdown",
   "id": "cd8aeaa9",
   "metadata": {},
   "source": [
    "Similarly, the logical operator *or* asks the question: \"Is either of the left or the right values True?\".  The answer is True to the question if either the left value is True, or the right, or both:"
   ]
  },
  {
   "cell_type": "code",
   "execution_count": null,
   "id": "71400b13",
   "metadata": {},
   "outputs": [],
   "source": [
    "print('True or True:', True or True)\n",
    "print('True or False:', True or False)\n",
    "print('False or True:', False or True)\n",
    "print('False or False:', False or False)"
   ]
  },
  {
   "cell_type": "markdown",
   "id": "3bcd5a1d",
   "metadata": {},
   "source": [
    "The operator *not* only works on the value to its left, and it flips a True\n",
    "value to False, or a False value to True."
   ]
  },
  {
   "cell_type": "code",
   "execution_count": null,
   "id": "34e56b84",
   "metadata": {},
   "outputs": [],
   "source": [
    "print('not True:', not True)\n",
    "print('not False:', not False)"
   ]
  },
  {
   "cell_type": "markdown",
   "id": "7056452f",
   "metadata": {},
   "source": [
    "In fact, the logical operators will first force their arguments to be True or\n",
    "False before they give their answer.  So, in the case of `and` or `or`, they\n",
    "force their left and right arguments to be `bool` values, before they\n",
    "calculate the answer.  So, in fact, you can use things other than exact True\n",
    "and False on either side of the `and` or `or`, as long as applying\n",
    "`bool(value)` to the thing to the left and right will produce a True or False\n",
    "value.  See {doc}`truthiness` for more detail."
   ]
  },
  {
   "cell_type": "markdown",
   "id": "334c2608",
   "metadata": {},
   "source": [
    "## “If” statements, blocks and indentation\n",
    "\n",
    "A conditional statement in Python looks like this:"
   ]
  },
  {
   "cell_type": "code",
   "execution_count": null,
   "id": "96cf4983",
   "metadata": {},
   "outputs": [],
   "source": [
    "my_var = 10\n",
    "if my_var == 10:\n",
    "    print(\"The conditional is True!\")\n",
    "    print(\"my_var does equal 10\")"
   ]
  },
  {
   "cell_type": "markdown",
   "id": "bc974578",
   "metadata": {},
   "source": [
    "The first line of the conditional statement, that contains the conditional\n",
    "test, ends in a colon.  Call this the *if test*.  There follow some lines\n",
    "*indented* relative to the `if` test.  Call these indented lines the *if\n",
    "block*.  Python executes the statements in the `if` block only when the\n",
    "`if` test evaluates to True.  For example, in this case, the `if` test\n",
    "evaluates to False, and the block does not execute:"
   ]
  },
  {
   "cell_type": "code",
   "execution_count": null,
   "id": "fb1da8d5",
   "metadata": {},
   "outputs": [],
   "source": [
    "my_var = 11\n",
    "# This time the conditional evaluates to False\n",
    "if my_var == 10:  # the \"if test\"\n",
    "    # The indented lines are the \"if block\"\n",
    "    print(\"The conditional is True!\")\n",
    "    print(\"my_var does equal 10\")"
   ]
  },
  {
   "cell_type": "markdown",
   "id": "298cf64a",
   "metadata": {},
   "source": [
    "The first line that returns to the same level of indentation as the `if`\n",
    "test line, closes the `if` block.\n",
    "\n",
    "Unless the `if` block has a further indented block (for example, another\n",
    "`if` block), then all the lines in the block must have the same indentation.\n",
    "\n",
    "See note  for equivalent `if` statements in R\n",
    "and MATLAB.\n",
    "\n",
    "The `if` block may be followed by another block where the conditional is\n",
    "`else:`. This block will only run if the initial conditional test evaluates\n",
    "to False."
   ]
  },
  {
   "cell_type": "code",
   "execution_count": null,
   "id": "1925be8e",
   "metadata": {},
   "outputs": [],
   "source": [
    "my_var = 11\n",
    "if my_var == 10:\n",
    "    print(\"The conditional is True!\")\n",
    "    print(\"my_var does equal 10\")\n",
    "else:\n",
    "    print(\"The conditional is False!\")\n",
    "    print(\"my_var does not equal 10\")"
   ]
  },
  {
   "cell_type": "markdown",
   "id": "a68231ca",
   "metadata": {},
   "source": [
    "There may be other conditional tests, with associated conditional blocks.\n",
    "These tests use the contraction `elif conditional_test`, where `elif` is a\n",
    "contraction for `else if`:"
   ]
  },
  {
   "cell_type": "code",
   "execution_count": null,
   "id": "42506049",
   "metadata": {},
   "outputs": [],
   "source": [
    "my_var = 12\n",
    "if my_var == 10:\n",
    "    print(\"The conditional is True!\")\n",
    "    print(\"my_var does equal 10\")\n",
    "elif my_var == 11:\n",
    "    print(\"The second conditional is True!\")\n",
    "    print(\"my_var does equal 11\")\n",
    "elif my_var == 12:\n",
    "    print(\"The third conditional is True!\")\n",
    "    print(\"my_var does equal 12\")\n",
    "else:\n",
    "    print(\"All conditionals are False!\")\n",
    "    print(\"my_var does not equal 10, 11 or 12\")"
   ]
  },
  {
   "cell_type": "markdown",
   "id": "d7dcde46",
   "metadata": {},
   "source": [
    "## “While” statements\n",
    "\n",
    "`while` statements are another example with an initial test followed by an\n",
    "indented block.   Here’s an example where we find the largest [Fibonacci\n",
    "number](https://en.wikipedia.org/wiki/Fibonacci_number) less than 1000:"
   ]
  },
  {
   "cell_type": "code",
   "execution_count": null,
   "id": "6c56e16c",
   "metadata": {},
   "outputs": [],
   "source": [
    "last_but_1 = 0\n",
    "fibonacci = 1\n",
    "while fibonacci < 1000:\n",
    "    last_but_2 = last_but_1\n",
    "    last_but_1 = fibonacci\n",
    "    fibonacci = last_but_2 + last_but_1\n",
    "\n",
    "print(\"Largest Fibonacci < 1000 is\", last_but_1)"
   ]
  },
  {
   "cell_type": "markdown",
   "id": "3fd23800",
   "metadata": {},
   "source": [
    "Notice the initial *while test*: `while fibonacci < 1000:`, followed by the\n",
    "indented *while block*.  Unlike the `if` statement, Python will continue to\n",
    "run the statements in the `while` block until the conditional in the\n",
    "`while` test evaluates to False."
   ]
  },
  {
   "cell_type": "markdown",
   "id": "445aa783",
   "metadata": {},
   "source": [
    "## Lists\n",
    "\n",
    "Make a list like this:"
   ]
  },
  {
   "cell_type": "code",
   "execution_count": null,
   "id": "53080975",
   "metadata": {},
   "outputs": [],
   "source": [
    "my_list = [9, 4, 7, 0, 8]\n",
    "my_list"
   ]
  },
  {
   "cell_type": "code",
   "execution_count": null,
   "id": "608e03c4",
   "metadata": {},
   "outputs": [],
   "source": [
    "type(my_list)"
   ]
  },
  {
   "cell_type": "markdown",
   "id": "17706d6a",
   "metadata": {},
   "source": [
    "A list element can be any type of object, including another list:"
   ]
  },
  {
   "cell_type": "code",
   "execution_count": null,
   "id": "f5709011",
   "metadata": {},
   "outputs": [],
   "source": [
    "mixed_list = [9, 3.0, True, my_list]\n",
    "mixed_list"
   ]
  },
  {
   "cell_type": "code",
   "execution_count": null,
   "id": "bfb71899",
   "metadata": {},
   "outputs": [],
   "source": [
    "type(mixed_list)"
   ]
  },
  {
   "cell_type": "markdown",
   "id": "4cd883d5",
   "metadata": {},
   "source": [
    "A Python list is like a cell array in MATLAB, or a `list` in R."
   ]
  },
  {
   "cell_type": "markdown",
   "id": "4d961a6f",
   "metadata": {},
   "source": [
    "## “for” loops and iteration\n",
    "\n",
    "We can *iterate* over a list.  To iterate, means to fetch one element after\n",
    "another from some container, such as a list.  We can use a `for` loop to\n",
    "iterate over a list:"
   ]
  },
  {
   "cell_type": "code",
   "execution_count": null,
   "id": "0ef3fc30",
   "metadata": {},
   "outputs": [],
   "source": [
    "for e in my_list:\n",
    "    print(e)"
   ]
  },
  {
   "cell_type": "markdown",
   "id": "c0171c1a",
   "metadata": {},
   "source": [
    "The `for` loop has the same form as `if` statements and `while` loops,\n",
    "with a first line ending in a colon, followed by an indented block.\n",
    "\n",
    "The first line in the `for` loop is of form: `for loop_variable in\n",
    "container:`.  The *container* is the container from which we will fetch the\n",
    "elements.  At each iteration of the `for` loop, Python gets a new element\n",
    "from the container to put into the *loop variable*.  For each element in the\n",
    "container, Python executes the *for block*.\n",
    "\n",
    "Note  shows equivalent `for` loops in Python, R and\n",
    "MATLAB.\n",
    "\n",
    "See [`range`](https://docs.python.org/3/library/functions.html#func-range) for\n",
    "a common way of writing a `for` loop that iterates over a sequence of integers."
   ]
  },
  {
   "cell_type": "markdown",
   "id": "d0f4834f",
   "metadata": {},
   "source": [
    "## Lists are sequences\n",
    "\n",
    "A\n",
    "[sequence](https://docs.python.org/3/library/stdtypes.html#sequence-types-list-tuple-range)\n",
    "is a category of Python objects that have a defined element order, have a\n",
    "length, are iterable, can be indexed with integers, and *sliced* (see below).\n",
    "If object `s` is a sequence, then:\n",
    "\n",
    "* `s` has a length that can be found with `len(s)`;\n",
    "\n",
    "* we can iterate over the elements in `s` with `for element in s: # do\n",
    "  something with element`;\n",
    "\n",
    "* we can return the element at position `n` with `s[n]`;\n",
    "\n",
    "* we can get another sequence by *slicing* `s`.  For example, `s[0:n]`\n",
    "  will give a new sequence containing the first `n` elements of `s`."
   ]
  },
  {
   "cell_type": "code",
   "execution_count": null,
   "id": "d289a764",
   "metadata": {},
   "outputs": [],
   "source": [
    "# Has a length\n",
    "len(my_list)"
   ]
  },
  {
   "cell_type": "code",
   "execution_count": null,
   "id": "a4462556",
   "metadata": {},
   "outputs": [],
   "source": [
    "# Is iterable\n",
    "for e in my_list:\n",
    "    print(e)"
   ]
  },
  {
   "cell_type": "code",
   "execution_count": null,
   "id": "4d9c16dc",
   "metadata": {},
   "outputs": [],
   "source": [
    "# Can be indexed\n",
    "my_list[1]"
   ]
  },
  {
   "cell_type": "code",
   "execution_count": null,
   "id": "aa0977b3",
   "metadata": {},
   "outputs": [],
   "source": [
    "# Can be sliced\n",
    "my_list[0:2]"
   ]
  },
  {
   "cell_type": "markdown",
   "id": "e0c376a7",
   "metadata": {},
   "source": [
    "## Python indices are 0-based\n",
    "\n",
    "Indices for Python sequences start at 0.  For Python, the first element is at\n",
    "index 0, the second element is at index 1, and so on:"
   ]
  },
  {
   "cell_type": "code",
   "execution_count": null,
   "id": "a6d4cdc4",
   "metadata": {},
   "outputs": [],
   "source": [
    "# the first element\n",
    "my_list[0]"
   ]
  },
  {
   "cell_type": "code",
   "execution_count": null,
   "id": "4818846a",
   "metadata": {},
   "outputs": [],
   "source": [
    "# the second element\n",
    "my_list[1]"
   ]
  },
  {
   "cell_type": "markdown",
   "id": "a7d3780c",
   "metadata": {},
   "source": [
    "## Negative indices\n",
    "\n",
    "Negative numbers as indices count back from the end of the list. For\n",
    "example, use index `-1` to return the last element in the list:"
   ]
  },
  {
   "cell_type": "code",
   "execution_count": null,
   "id": "c2c55111",
   "metadata": {},
   "outputs": [],
   "source": [
    "print(my_list)\n",
    "\n",
    "# the last element\n",
    "my_list[-1]"
   ]
  },
  {
   "cell_type": "markdown",
   "id": "d93fc93b",
   "metadata": {},
   "source": [
    "This is the third from last element:"
   ]
  },
  {
   "cell_type": "code",
   "execution_count": null,
   "id": "e2a75777",
   "metadata": {},
   "outputs": [],
   "source": [
    "my_list[-3]"
   ]
  },
  {
   "cell_type": "markdown",
   "id": "e318960a",
   "metadata": {},
   "source": [
    "## Lists are mutable\n",
    "\n",
    "A list is a *mutable* object. Mutable means, that we can change the elements\n",
    "in the list, without creating a new list."
   ]
  },
  {
   "cell_type": "code",
   "execution_count": null,
   "id": "ef406cf5",
   "metadata": {},
   "outputs": [],
   "source": [
    "my_list[1] = 99\n",
    "my_list"
   ]
  },
  {
   "cell_type": "markdown",
   "id": "1add1dfa",
   "metadata": {},
   "source": [
    "In Python, variable names point to an object.\n",
    "\n",
    "When you do `another_variable = a_variable`, you are telling the name\n",
    "`another_variable` to point to the same object as the name\n",
    "`a_variable`. When objects are mutable, this can be confusing:"
   ]
  },
  {
   "cell_type": "code",
   "execution_count": null,
   "id": "c6ee2299",
   "metadata": {},
   "outputs": [],
   "source": [
    "another_list = my_list\n",
    "another_list"
   ]
  },
  {
   "cell_type": "markdown",
   "id": "8f24a34e",
   "metadata": {},
   "source": [
    "`my_list` points to a list object in memory. When you do\n",
    "`another_list = my_list`, it tells Python that `another_list` points\n",
    "to *the same object*. So, if we modify the list, pointed to by\n",
    "`my_list`, we also modify the value of `another_list`, because `my_list`\n",
    "and `another_list` point at the same list."
   ]
  },
  {
   "cell_type": "code",
   "execution_count": null,
   "id": "df1d02af",
   "metadata": {},
   "outputs": [],
   "source": [
    "my_list[1] = 101\n",
    "another_list"
   ]
  },
  {
   "cell_type": "markdown",
   "id": "8f58f96c",
   "metadata": {},
   "source": [
    "## Adding lists\n",
    "\n",
    "Adding two lists with `+` returns a new list that is the concatenation of\n",
    "the two lists:"
   ]
  },
  {
   "cell_type": "code",
   "execution_count": null,
   "id": "2628b6dd",
   "metadata": {},
   "outputs": [],
   "source": [
    "new_list = my_list + [False, 1, 2]\n",
    "new_list"
   ]
  },
  {
   "cell_type": "markdown",
   "id": "249d2b9d",
   "metadata": {},
   "source": [
    "## Appending and removing elements\n",
    "\n",
    "You can append elements with the `append` method.\n",
    "\n",
    "A method is a function attached to the object.  See Functions for more\n",
    "on functions in Python.\n",
    "\n",
    "We can see that `append` is a method by displaying the value of\n",
    "`my_list.append`:"
   ]
  },
  {
   "cell_type": "code",
   "execution_count": null,
   "id": "3cfadce0",
   "metadata": {},
   "outputs": [],
   "source": [
    "my_list.append"
   ]
  },
  {
   "cell_type": "markdown",
   "id": "83f83f3e",
   "metadata": {},
   "source": [
    "To call the method, we add parentheses, surrounding any arguments we want to\n",
    "pass into the method.  In this case we want to pass in the element to append:"
   ]
  },
  {
   "cell_type": "code",
   "execution_count": null,
   "id": "a408aa95",
   "metadata": {},
   "outputs": [],
   "source": [
    "my_list.append(20)\n",
    "my_list"
   ]
  },
  {
   "cell_type": "markdown",
   "id": "98a254dc",
   "metadata": {},
   "source": [
    "Note that the `append` method does *not* return the list, it just changes\n",
    "the list in-place. Python returns `None` from the `append` method:"
   ]
  },
  {
   "cell_type": "code",
   "execution_count": null,
   "id": "4ad0bbb3",
   "metadata": {},
   "outputs": [],
   "source": [
    "result = my_list.append(42)\n",
    "result == None"
   ]
  },
  {
   "cell_type": "markdown",
   "id": "d7007479",
   "metadata": {},
   "source": [
    "This is also true for some other methods that modify the list in-place, such\n",
    "as the `sort` method:"
   ]
  },
  {
   "cell_type": "code",
   "execution_count": null,
   "id": "95cd29af",
   "metadata": {},
   "outputs": [],
   "source": [
    "new_list = [10, 1, 3]\n",
    "result = new_list.sort()\n",
    "# Return value is None\n",
    "result == None\n",
    "# But the original list now in ascending order from sort\n",
    "new_list"
   ]
  },
  {
   "cell_type": "markdown",
   "id": "08783084",
   "metadata": {},
   "source": [
    "You can remove elements from the list with the `pop` method:"
   ]
  },
  {
   "cell_type": "code",
   "execution_count": null,
   "id": "d233bd8e",
   "metadata": {},
   "outputs": [],
   "source": [
    "# Remove and return the last element of the list\n",
    "my_list.pop()\n",
    "my_list"
   ]
  },
  {
   "cell_type": "code",
   "execution_count": null,
   "id": "bfec6346",
   "metadata": {},
   "outputs": [],
   "source": [
    "# Remove and return the third element of the list\n",
    "my_list.pop(2)\n",
    "my_list"
   ]
  },
  {
   "cell_type": "markdown",
   "id": "216805fc",
   "metadata": {},
   "source": [
    "## Slicing\n",
    "\n",
    "You can return slices from any sequence, including lists, by putting a slice\n",
    "specifier in square brackets. For example, this returns the first 3 elements\n",
    "of the list:"
   ]
  },
  {
   "cell_type": "code",
   "execution_count": null,
   "id": "10349294",
   "metadata": {},
   "outputs": [],
   "source": [
    "my_list[0:3]"
   ]
  },
  {
   "cell_type": "markdown",
   "id": "dbeb9090",
   "metadata": {},
   "source": [
    "The first number after the square bracket and before the colon is the *start*\n",
    "index. In this case we start at the first element (element at index 0). The\n",
    "second number, after the colon, is the *stop* index. This is the end index\n",
    "*plus one*.  So we return elements at index 0, 1 and 2. That is, elements *up\n",
    "to, but not including* 3.\n",
    "\n",
    "If you omit the first number (the start index) Python assumes 0:"
   ]
  },
  {
   "cell_type": "code",
   "execution_count": null,
   "id": "3c0954d9",
   "metadata": {},
   "outputs": [],
   "source": [
    "my_list[:3]"
   ]
  },
  {
   "cell_type": "markdown",
   "id": "084d30fe",
   "metadata": {},
   "source": [
    "If you omit the second number, Python assumes the length of the list as\n",
    "the stop index."
   ]
  },
  {
   "cell_type": "code",
   "execution_count": null,
   "id": "d79fe14d",
   "metadata": {},
   "outputs": [],
   "source": [
    "my_list[2:]"
   ]
  },
  {
   "cell_type": "code",
   "execution_count": null,
   "id": "2c5f2d92",
   "metadata": {},
   "outputs": [],
   "source": [
    "my_list[2:len(my_list)]"
   ]
  },
  {
   "cell_type": "markdown",
   "id": "c409b1e4",
   "metadata": {},
   "source": [
    "You can omit both numbers, in which case you return all the elements of the\n",
    "list. This can be useful if you want to make a new list that contains the same\n",
    "elements as the first:"
   ]
  },
  {
   "cell_type": "code",
   "execution_count": null,
   "id": "91a67c87",
   "metadata": {},
   "outputs": [],
   "source": [
    "another_list = my_list[:]\n",
    "another_list"
   ]
  },
  {
   "cell_type": "markdown",
   "id": "4fe08639",
   "metadata": {},
   "source": [
    "Because this is a new list object, you can change the original list without\n",
    "changing the new list:"
   ]
  },
  {
   "cell_type": "code",
   "execution_count": null,
   "id": "6d8351fd",
   "metadata": {},
   "outputs": [],
   "source": [
    "my_list[1] = 999\n",
    "another_list"
   ]
  },
  {
   "cell_type": "markdown",
   "id": "875ae751",
   "metadata": {},
   "source": [
    "You can also specify a second colon, and a third number. This third\n",
    "number is the *step size*. For example, to get every second element of\n",
    "the list:"
   ]
  },
  {
   "cell_type": "code",
   "execution_count": null,
   "id": "ee3095b2",
   "metadata": {},
   "outputs": [],
   "source": [
    "my_list[0:len(my_list):2]"
   ]
  },
  {
   "cell_type": "code",
   "execution_count": null,
   "id": "b7d1618f",
   "metadata": {},
   "outputs": [],
   "source": [
    "# Length of list assumed as stop index if omitted\n",
    "my_list[0::2]"
   ]
  },
  {
   "cell_type": "markdown",
   "id": "9ca741c8",
   "metadata": {},
   "source": [
    "You can use negative numbers for the `start` and `stop` indices. As for\n",
    "indexing, negative `start` and `stop` values count back from the end of\n",
    "the list:"
   ]
  },
  {
   "cell_type": "code",
   "execution_count": null,
   "id": "c3e64287",
   "metadata": {},
   "outputs": [],
   "source": [
    "print(my_list)\n",
    "my_list[-4:-2]"
   ]
  },
  {
   "cell_type": "markdown",
   "id": "00191795",
   "metadata": {},
   "source": [
    "Negative numbers for the `step` count backwards from the `start` to the\n",
    "`stop` index:"
   ]
  },
  {
   "cell_type": "code",
   "execution_count": null,
   "id": "a2d76d96",
   "metadata": {},
   "outputs": [],
   "source": [
    "my_list[4:1:-1]"
   ]
  },
  {
   "cell_type": "markdown",
   "id": "6d5a2563",
   "metadata": {},
   "source": [
    "If you have a negative step size, and you don’t specify the start index, then\n",
    "the start index defaults to the last element in the list. If you don’t specify\n",
    "the stop index, it defaults to one prior to index 0:"
   ]
  },
  {
   "cell_type": "code",
   "execution_count": null,
   "id": "a07ab827",
   "metadata": {},
   "outputs": [],
   "source": [
    "print(my_list)\n",
    "my_list[-1:1:-1]"
   ]
  },
  {
   "cell_type": "code",
   "execution_count": null,
   "id": "10e84ade",
   "metadata": {},
   "outputs": [],
   "source": [
    "my_list[:1:-1]"
   ]
  },
  {
   "cell_type": "code",
   "execution_count": null,
   "id": "71a0fa3f",
   "metadata": {},
   "outputs": [],
   "source": [
    "my_list[-2::-1]"
   ]
  },
  {
   "cell_type": "markdown",
   "id": "78b28af8",
   "metadata": {},
   "source": [
    "One consequence that is worth remembering is that the following idiom gives\n",
    "you a reversed copy of the list:"
   ]
  },
  {
   "cell_type": "code",
   "execution_count": null,
   "id": "4ed10122",
   "metadata": {},
   "outputs": [],
   "source": [
    "my_list[::-1]"
   ]
  },
  {
   "cell_type": "markdown",
   "id": "45ff93b8",
   "metadata": {},
   "source": [
    "(tuples)="
   ]
  },
  {
   "cell_type": "markdown",
   "id": "b07ae516",
   "metadata": {},
   "source": [
    "## Tuples\n",
    "\n",
    "Tuples are almost the same as lists, except they are not mutable. That\n",
    "is, you cannot change the elements of a tuple, or change the number of\n",
    "elements."
   ]
  },
  {
   "cell_type": "code",
   "execution_count": null,
   "id": "6b5f4917",
   "metadata": {},
   "outputs": [],
   "source": [
    "my_tuple = (9, 4, 7, 0, 8)\n",
    "my_tuple"
   ]
  },
  {
   "cell_type": "code",
   "execution_count": null,
   "id": "27389557",
   "metadata": {
    "tags": [
     "raises-exception"
    ]
   },
   "outputs": [],
   "source": [
    "# This raises a TypeError\n",
    "my_tuple[1] = 99"
   ]
  },
  {
   "cell_type": "code",
   "execution_count": null,
   "id": "2ba0ddf2",
   "metadata": {
    "tags": [
     "raises-exception"
    ]
   },
   "outputs": [],
   "source": [
    "# This raises an AttributeError, because tuples have no append method\n",
    "my_tuple.append(20)"
   ]
  },
  {
   "cell_type": "markdown",
   "id": "5ee1412e",
   "metadata": {},
   "source": [
    "Here’s an empty tuple:"
   ]
  },
  {
   "cell_type": "code",
   "execution_count": null,
   "id": "c929a68d",
   "metadata": {},
   "outputs": [],
   "source": [
    "empty_tuple = ()\n",
    "empty_tuple"
   ]
  },
  {
   "cell_type": "markdown",
   "id": "40f93274",
   "metadata": {},
   "source": [
    "A tuple with two elements:"
   ]
  },
  {
   "cell_type": "code",
   "execution_count": null,
   "id": "97a8deaf",
   "metadata": {},
   "outputs": [],
   "source": [
    "two_tuple = (1, 5)\n",
    "two_tuple"
   ]
  },
  {
   "cell_type": "markdown",
   "id": "7470f3fb",
   "metadata": {},
   "source": [
    "As with lists, you can add tuples, forming the concatenation of the tuples:"
   ]
  },
  {
   "cell_type": "code",
   "execution_count": null,
   "id": "0f33a431",
   "metadata": {},
   "outputs": [],
   "source": [
    "(1, 2) + (5, 6)"
   ]
  },
  {
   "cell_type": "markdown",
   "id": "f5ee265e",
   "metadata": {},
   "source": [
    "There is a little complication when making a tuple with one element:"
   ]
  },
  {
   "cell_type": "code",
   "execution_count": null,
   "id": "2bc46e4b",
   "metadata": {},
   "outputs": [],
   "source": [
    "not_a_tuple = (1)\n",
    "not_a_tuple"
   ]
  },
  {
   "cell_type": "markdown",
   "id": "67427069",
   "metadata": {},
   "source": [
    "This is because Python can’t tell that you meant this to be a tuple, rather\n",
    "than an expression with parentheses round it.  See {doc}`length_one_tuples` for\n",
    "an explanation.\n",
    "\n",
    "To tell Python that you mean this to be a length-one tuple, add a comma after\n",
    "the element, and before the closing parenthesis:"
   ]
  },
  {
   "cell_type": "code",
   "execution_count": null,
   "id": "0fd1ac82",
   "metadata": {},
   "outputs": [],
   "source": [
    "length_one_tuple = (1,)\n",
    "length_one_tuple"
   ]
  },
  {
   "cell_type": "markdown",
   "id": "7465cb20",
   "metadata": {},
   "source": [
    "## Strings\n",
    "\n",
    "Make a string like this:"
   ]
  },
  {
   "cell_type": "code",
   "execution_count": null,
   "id": "3fcfa6fb",
   "metadata": {},
   "outputs": [],
   "source": [
    "my_string = 'interesting text'\n",
    "my_string"
   ]
  },
  {
   "cell_type": "markdown",
   "id": "05df073b",
   "metadata": {},
   "source": [
    "You can use single quotes or double quotes for your string, the two strings\n",
    "are the same:"
   ]
  },
  {
   "cell_type": "code",
   "execution_count": null,
   "id": "81e9e7b0",
   "metadata": {},
   "outputs": [],
   "source": [
    "another_string = \"interesting text\"\n",
    "another_string\n",
    "my_string == another_string"
   ]
  },
  {
   "cell_type": "markdown",
   "id": "5beaa2b8",
   "metadata": {},
   "source": [
    "Convert other objects to strings using `str`:"
   ]
  },
  {
   "cell_type": "code",
   "execution_count": null,
   "id": "18b628de",
   "metadata": {},
   "outputs": [],
   "source": [
    "# Convert integer to string\n",
    "str(9)"
   ]
  },
  {
   "cell_type": "code",
   "execution_count": null,
   "id": "44291c5f",
   "metadata": {},
   "outputs": [],
   "source": [
    "# Convert floating point value to string\n",
    "str(1.2)"
   ]
  },
  {
   "cell_type": "markdown",
   "id": "aa6a7ce7",
   "metadata": {},
   "source": [
    "## Strings are sequences\n",
    "\n",
    "Like lists, strings are sequences (have length, can be iterated, can index,\n",
    "can slice)."
   ]
  },
  {
   "cell_type": "code",
   "execution_count": null,
   "id": "88b5820b",
   "metadata": {},
   "outputs": [],
   "source": [
    "# Length\n",
    "len(my_string)"
   ]
  },
  {
   "cell_type": "code",
   "execution_count": null,
   "id": "a7a843ce",
   "metadata": {},
   "outputs": [],
   "source": [
    "# Iterable\n",
    "for c in my_string:\n",
    "    print(c)"
   ]
  },
  {
   "cell_type": "code",
   "execution_count": null,
   "id": "89030e7e",
   "metadata": {},
   "outputs": [],
   "source": [
    "# Can index\n",
    "my_string[1]"
   ]
  },
  {
   "cell_type": "code",
   "execution_count": null,
   "id": "ad60fd0c",
   "metadata": {},
   "outputs": [],
   "source": [
    "# Can slice\n",
    "my_string[1:5]"
   ]
  },
  {
   "cell_type": "code",
   "execution_count": null,
   "id": "aff3e18b",
   "metadata": {},
   "outputs": [],
   "source": [
    "# Can slice\n",
    "my_string[::-1]"
   ]
  },
  {
   "cell_type": "markdown",
   "id": "f7a4c7a3",
   "metadata": {},
   "source": [
    "## Strings are immutable\n",
    "\n",
    "Unlike lists, strings are immutable. You cannot change the characters within a\n",
    "string:"
   ]
  },
  {
   "cell_type": "code",
   "execution_count": null,
   "id": "447a8cc6",
   "metadata": {
    "tags": [
     "raises-exception"
    ]
   },
   "outputs": [],
   "source": [
    "# Raises a TypeError\n",
    "my_string[1] = 'N'"
   ]
  },
  {
   "cell_type": "markdown",
   "id": "21e67245",
   "metadata": {},
   "source": [
    "## Adding strings"
   ]
  },
  {
   "cell_type": "code",
   "execution_count": null,
   "id": "56424bf1",
   "metadata": {},
   "outputs": [],
   "source": [
    "my_string + ' with added insight'"
   ]
  },
  {
   "cell_type": "markdown",
   "id": "96174bfd",
   "metadata": {},
   "source": [
    "## String methods\n",
    "\n",
    "Strings have lots of interesting methods. In IPython, try tab-complete on a\n",
    "string variable name, followed by a period – e.g. type `my_string.`,\n",
    "followed by the tab key.  See also the [list of string methods in the Python\n",
    "docs](http://docs.python.org/library/stdtypes.html#string-methods).\n",
    "\n",
    "One interesting method is `replace`. It returns a new string that is a copy\n",
    "of the input, but replacing instances of one string with another:"
   ]
  },
  {
   "cell_type": "code",
   "execution_count": null,
   "id": "dc67a3d6",
   "metadata": {},
   "outputs": [],
   "source": [
    "another_string = my_string.replace('interesting', 'extraordinary')\n",
    "another_string"
   ]
  },
  {
   "cell_type": "markdown",
   "id": "916fc14d",
   "metadata": {},
   "source": [
    "Notice that the original string has not changed (it’s immutable):"
   ]
  },
  {
   "cell_type": "code",
   "execution_count": null,
   "id": "32db341e",
   "metadata": {},
   "outputs": [],
   "source": [
    "my_string"
   ]
  },
  {
   "cell_type": "markdown",
   "id": "a2fc38a1",
   "metadata": {},
   "source": [
    "Use the `split` method to break a string into a list of strings.  By\n",
    "default, `split` will split the string at any white space (spaces, tab\n",
    "characters or line breaks):"
   ]
  },
  {
   "cell_type": "code",
   "execution_count": null,
   "id": "962ee9cc",
   "metadata": {},
   "outputs": [],
   "source": [
    "my_string.split()"
   ]
  },
  {
   "cell_type": "markdown",
   "id": "c5fd7e73",
   "metadata": {},
   "source": [
    "Pass a character to `split` to split the string at that character:"
   ]
  },
  {
   "cell_type": "code",
   "execution_count": null,
   "id": "2f32da9b",
   "metadata": {},
   "outputs": [],
   "source": [
    "another_example = 'one:two:three'\n",
    "another_example.split(\":\")"
   ]
  },
  {
   "cell_type": "markdown",
   "id": "f2019a89",
   "metadata": {},
   "source": [
    "The `strip` method returns a new string with spaces, tabs and end of line\n",
    "characters removed from the beginning and end of the string:"
   ]
  },
  {
   "cell_type": "code",
   "execution_count": null,
   "id": "bde8e18f",
   "metadata": {},
   "outputs": [],
   "source": [
    "# A string with a newline character at the end\n",
    "my_string = ' a string\\n'\n",
    "my_string\n",
    "my_string.strip()"
   ]
  },
  {
   "cell_type": "markdown",
   "id": "817746eb",
   "metadata": {},
   "source": [
    "## Inserting values into strings\n",
    "\n",
    "We often want to insert values into strings.  This is called *string interpolation*.\n",
    "\n",
    "For example, let us say we are running a shepherding business.  The shepherds rotate, some days Mary is on, sometimes Joseph, sometimes their son James.\n",
    "\n",
    "Today, Mary is on."
   ]
  },
  {
   "cell_type": "code",
   "execution_count": null,
   "id": "25b85c3b",
   "metadata": {},
   "outputs": [],
   "source": [
    "shepherd_name = \"Mary\""
   ]
  },
  {
   "cell_type": "markdown",
   "id": "813c0381",
   "metadata": {},
   "source": [
    "She is herding 92 sheep."
   ]
  },
  {
   "cell_type": "code",
   "execution_count": null,
   "id": "356e8c4f",
   "metadata": {},
   "outputs": [],
   "source": [
    "flock_size = 92"
   ]
  },
  {
   "cell_type": "markdown",
   "id": "7cf68815",
   "metadata": {},
   "source": [
    "We may want to send out an announcement, say to the LED message board in front\n",
    "of our shepherding business, that tells people which shepherd is on duty, and how many sheep they have.\n",
    "\n",
    "So, if the number of sheep is 92, the message could be any of these three:\n",
    "\n",
    "* \"Shepherd Mary is on duty with 92 sheep.\" or\n",
    "* \"Shepherd Joseph is on duty with 92 sheep.\" or\n",
    "* \"Shepherd James is on duty with 92 sheep.\"\n",
    "\n",
    "depending on the value in the `shepherd_name` variable.  And, of course, the `flock_size` could be almost any number.  So there are a huge number of potential sentences, that depend on the `shepherd_name` variable, and the `flock_size` variable.\n",
    "\n",
    "Usually the best way to do this is using something called\n",
    "[f-strings](https://datagy.io/python-f-strings).  These are strings with an `f` before the opening quote.  The `f` tells Python you may want to insert a variable into the string.  You specify variables to insert by putting them inside curly braces (`{}`) in the string, like this:"
   ]
  },
  {
   "cell_type": "code",
   "execution_count": null,
   "id": "b6b2cbff",
   "metadata": {},
   "outputs": [],
   "source": [
    "# Notice the f before the first quote to tell Python there may\n",
    "# be variables inside this string.\n",
    "f\"Shepherd {shepherd_name} is on duty with {flock_size} sheep.\""
   ]
  },
  {
   "cell_type": "markdown",
   "id": "9940d950",
   "metadata": {},
   "source": [
    "There are many ways you can tell Python how to format the values you insert, and there are other, less common and useful ways to do this string interpolation.\n",
    "\n",
    "For more details and more options, see: [Inserting values into strings](./string_formatting.Rmd)."
   ]
  },
  {
   "cell_type": "markdown",
   "id": "94ed937e",
   "metadata": {},
   "source": [
    "## Range\n",
    "\n",
    "`range` returns a *range object*.  It is a sequence, and so it is rather like\n",
    "a list .  When you use `range` with one argument, the argument value is the\n",
    "`stop` index.  For example, to make a `range` object generating the numbers\n",
    "from 0 up to *but not including* 5:"
   ]
  },
  {
   "cell_type": "code",
   "execution_count": null,
   "id": "78aaba39",
   "metadata": {},
   "outputs": [],
   "source": [
    "my_range = range(5)\n",
    "my_range"
   ]
  },
  {
   "cell_type": "markdown",
   "id": "4fcfabac",
   "metadata": {},
   "source": [
    "You can make a range object into a list by using `list`:"
   ]
  },
  {
   "cell_type": "code",
   "execution_count": null,
   "id": "53c7824b",
   "metadata": {},
   "outputs": [],
   "source": [
    "list(range(5))"
   ]
  },
  {
   "cell_type": "markdown",
   "id": "0cf70155",
   "metadata": {},
   "source": [
    "A `range` object is a sequence:"
   ]
  },
  {
   "cell_type": "code",
   "execution_count": null,
   "id": "0c9d2a56",
   "metadata": {},
   "outputs": [],
   "source": [
    "# Has a length\n",
    "print('Length', len(my_range))\n",
    "# Is iterable\n",
    "for e in my_range:\n",
    "    print('Value', e)\n",
    "# Can be indexed\n",
    "print('Value at position 1', my_range[1])\n",
    "# Can be sliced\n",
    "print('Slice 0:2', my_range[0:2])"
   ]
  },
  {
   "cell_type": "markdown",
   "id": "eed5c4af",
   "metadata": {},
   "source": [
    "Set the start element for `range` by passing two arguments:"
   ]
  },
  {
   "cell_type": "code",
   "execution_count": null,
   "id": "2f122067",
   "metadata": {},
   "outputs": [],
   "source": [
    "my_range = range(1, 7)\n",
    "print(my_range)\n",
    "print(list(my_range))"
   ]
  },
  {
   "cell_type": "markdown",
   "id": "08126554",
   "metadata": {},
   "source": [
    "Set the step size with a third argument:"
   ]
  },
  {
   "cell_type": "code",
   "execution_count": null,
   "id": "14e1c594",
   "metadata": {},
   "outputs": [],
   "source": [
    "my_range = range(1, 7, 2)\n",
    "list(my_range)"
   ]
  },
  {
   "cell_type": "markdown",
   "id": "28768b16",
   "metadata": {},
   "source": [
    "One common use of `range` is to iterate over a sequence of numbers in a `for`\n",
    "loop:"
   ]
  },
  {
   "cell_type": "code",
   "execution_count": null,
   "id": "340b48e9",
   "metadata": {},
   "outputs": [],
   "source": [
    "for i in range(5):\n",
    "    print(i)"
   ]
  },
  {
   "cell_type": "markdown",
   "id": "7025d780",
   "metadata": {},
   "source": [
    "## Sets\n",
    "\n",
    "Sets are collections of unique elements, with no defined order.  Python\n",
    "reserves the right to order set elements in any way it chooses:"
   ]
  },
  {
   "cell_type": "code",
   "execution_count": null,
   "id": "6e3ae718",
   "metadata": {},
   "outputs": [],
   "source": [
    "# Only unique elements collected in the set\n",
    "my_set = set((5, 3, 1, 3))\n",
    "my_set"
   ]
  },
  {
   "cell_type": "markdown",
   "id": "6dec00d9",
   "metadata": {},
   "source": [
    "Because there is no defined order, you cannot index into a set:"
   ]
  },
  {
   "cell_type": "code",
   "execution_count": null,
   "id": "a146e7bf",
   "metadata": {
    "tags": [
     "raises-exception"
    ]
   },
   "outputs": [],
   "source": [
    "my_set[1]"
   ]
  },
  {
   "cell_type": "markdown",
   "id": "ece8658f",
   "metadata": {},
   "source": [
    "You can add elements to a set with the `add` method:"
   ]
  },
  {
   "cell_type": "code",
   "execution_count": null,
   "id": "dc2b7be9",
   "metadata": {},
   "outputs": [],
   "source": [
    "my_set.add(10)\n",
    "my_set"
   ]
  },
  {
   "cell_type": "markdown",
   "id": "9dfff465",
   "metadata": {},
   "source": [
    "Because set elements must be unique, if you add an element already in the set,\n",
    "this does not change the set:"
   ]
  },
  {
   "cell_type": "code",
   "execution_count": null,
   "id": "c29207dd",
   "metadata": {},
   "outputs": [],
   "source": [
    "my_set.add(5)\n",
    "my_set"
   ]
  },
  {
   "cell_type": "markdown",
   "id": "12162ca7",
   "metadata": {},
   "source": [
    "You can iterate over a set, but the order of elements is arbitrary.  You\n",
    "cannot rely on the same order in any two runs of your program:"
   ]
  },
  {
   "cell_type": "code",
   "execution_count": null,
   "id": "238dd5a0",
   "metadata": {},
   "outputs": [],
   "source": [
    "# The order of elements is arbitrary\n",
    "for element in my_set:\n",
    "    print(element)"
   ]
  },
  {
   "cell_type": "markdown",
   "id": "106e8595",
   "metadata": {},
   "source": [
    "Look at the [methods of the set\n",
    "object](https://docs.python.org/3/library/stdtypes.html#set-types-set-frozenset)\n",
    "for interesting operations such as `difference`, `union`, `intersection` etc."
   ]
  },
  {
   "cell_type": "markdown",
   "id": "e85ec9dc",
   "metadata": {},
   "source": [
    "## Sets, lists and tuples are containers\n",
    "\n",
    "A *container* is a Python object for which you can test an element for\n",
    "membership.  So, if an object `c` is a container then we can test if an\n",
    "element is in the container with `true_or_false = element in c`.\n",
    "\n",
    "Be careful – the word `in` has different meanings in `for element in\n",
    "c:` and `true_or_false = element in c`.  With  `for element in c:`,\n",
    "`in` is a part of the `for` loop syntax.  With `true_or_false = element\n",
    "in c`, `in` triggers a test of membership, returning True or False."
   ]
  },
  {
   "cell_type": "code",
   "execution_count": null,
   "id": "3f53db09",
   "metadata": {},
   "outputs": [],
   "source": [
    "5 in my_set"
   ]
  },
  {
   "cell_type": "code",
   "execution_count": null,
   "id": "b7ab632d",
   "metadata": {},
   "outputs": [],
   "source": [
    "11 in my_set"
   ]
  },
  {
   "cell_type": "markdown",
   "id": "34e4abb1",
   "metadata": {},
   "source": [
    "You can use `not in` to test if an element is not in a container:"
   ]
  },
  {
   "cell_type": "code",
   "execution_count": null,
   "id": "7e95ed98",
   "metadata": {},
   "outputs": [],
   "source": [
    "11 not in my_set"
   ]
  },
  {
   "cell_type": "markdown",
   "id": "6673839e",
   "metadata": {},
   "source": [
    "Lists and tuples are also containers:"
   ]
  },
  {
   "cell_type": "code",
   "execution_count": null,
   "id": "ea61c95f",
   "metadata": {},
   "outputs": [],
   "source": [
    "9 in [9, 4, 7, 0, 8]"
   ]
  },
  {
   "cell_type": "code",
   "execution_count": null,
   "id": "2d876fb4",
   "metadata": {},
   "outputs": [],
   "source": [
    "3 in (1, 3, 5)"
   ]
  },
  {
   "cell_type": "markdown",
   "id": "828a668e",
   "metadata": {},
   "source": [
    "## Dictionaries\n",
    "\n",
    "A dictionary is collection of key / value pairs. The *key* is something that\n",
    "identifies the element, and the *value* is the value corresponding to the\n",
    "particular key.\n",
    "\n",
    "For nearly all the dictionaries you will use in practice, the keys will be strings, but when you get more advanced, you will find that many things can be used as keys."
   ]
  },
  {
   "cell_type": "code",
   "execution_count": null,
   "id": "0696c13f",
   "metadata": {},
   "outputs": [],
   "source": [
    "# This is an empty dictionary\n",
    "software = {}"
   ]
  },
  {
   "cell_type": "markdown",
   "id": "17098b27",
   "metadata": {},
   "source": [
    "Here we insert a new key / value mapping into the dictionary. The key is a\n",
    "string — `'Python'` — and the corresponding value is an integer 50:"
   ]
  },
  {
   "cell_type": "code",
   "execution_count": null,
   "id": "274f82d6",
   "metadata": {},
   "outputs": [],
   "source": [
    "software['Python'] = 100\n",
    "software"
   ]
  },
  {
   "cell_type": "markdown",
   "id": "60d88b96",
   "metadata": {},
   "source": [
    "Now we insert another key / value mapping:"
   ]
  },
  {
   "cell_type": "code",
   "execution_count": null,
   "id": "0246c02a",
   "metadata": {},
   "outputs": [],
   "source": [
    "software['MATLAB'] = 50\n",
    "software"
   ]
  },
  {
   "cell_type": "markdown",
   "id": "a21a624d",
   "metadata": {},
   "source": [
    "Get the value corresponding to a key by indexing the dictionary with the key:"
   ]
  },
  {
   "cell_type": "code",
   "execution_count": null,
   "id": "4cc1738f",
   "metadata": {},
   "outputs": [],
   "source": [
    "software['Python']"
   ]
  },
  {
   "cell_type": "markdown",
   "id": "d14ba83f",
   "metadata": {},
   "source": [
    "We can iterate over the keys in the dictionary, but the order of the\n",
    "keys depends on the order you put the keys into the dictionary — and it easy\n",
    "to lose track of that order. As as result, we generally find we don't rely much on the particular order of the keys, when we iterate over them.\n",
    "\n",
    "For example, here you see that the first key is 'Python' (the key for the first key/value pair we put in), even though 'Python' is after 'MATLAB' in an alphabetical sort, for example."
   ]
  },
  {
   "cell_type": "code",
   "execution_count": null,
   "id": "0a1b2dc0",
   "metadata": {},
   "outputs": [],
   "source": [
    "for key in software.keys():\n",
    "    print(key)"
   ]
  },
  {
   "cell_type": "markdown",
   "id": "02260687",
   "metadata": {},
   "source": [
    "We can also iterate over the values, with the same constraint, that the order\n",
    "depends on the order we put in the values:"
   ]
  },
  {
   "cell_type": "code",
   "execution_count": null,
   "id": "347a7c7e",
   "metadata": {},
   "outputs": [],
   "source": [
    "for value in software.values():\n",
    "    print(value)"
   ]
  },
  {
   "cell_type": "markdown",
   "id": "5c446ba6",
   "metadata": {},
   "source": [
    "We can use the `items` method to iterate over the key / value pairs. In this\n",
    "case each element is a tuple of length two, where the first element is the key\n",
    "and the second element is the value:"
   ]
  },
  {
   "cell_type": "code",
   "execution_count": null,
   "id": "e4fd0010",
   "metadata": {},
   "outputs": [],
   "source": [
    "for key_value in software.items():\n",
    "    print(key_value)"
   ]
  },
  {
   "cell_type": "markdown",
   "id": "4a7dd99c",
   "metadata": {},
   "source": [
    "One way to construct a dictionary is with curly brackets, using colons to\n",
    "separate the key and value, and commas to separate the pairs:"
   ]
  },
  {
   "cell_type": "code",
   "execution_count": null,
   "id": "726c34e9",
   "metadata": {},
   "outputs": [],
   "source": [
    "software = {'MATLAB': 50, 'Python': 100}\n",
    "software"
   ]
  },
  {
   "cell_type": "markdown",
   "id": "0a1f855d",
   "metadata": {},
   "source": [
    "Keys must be unique. A later key / value pair will overwrite an earlier key /\n",
    "value pair that had the same key:"
   ]
  },
  {
   "cell_type": "code",
   "execution_count": null,
   "id": "b9baac16",
   "metadata": {},
   "outputs": [],
   "source": [
    "software = {'MATLAB': 50, 'Python': 100, 'MATLAB': 45}\n",
    "software"
   ]
  },
  {
   "cell_type": "markdown",
   "id": "f846fa07",
   "metadata": {},
   "source": [
    "## Dictionaries are containers\n",
    "\n",
    "Dictionaries are also containers.  Python takes the elements in the container\n",
    "to be the dictionary keys.  This is a convenient way to test if you already\n",
    "have a key in a dictionary:"
   ]
  },
  {
   "cell_type": "code",
   "execution_count": null,
   "id": "1095f93a",
   "metadata": {},
   "outputs": [],
   "source": [
    "'MATLAB' in software"
   ]
  },
  {
   "cell_type": "code",
   "execution_count": null,
   "id": "ac90ff26",
   "metadata": {},
   "outputs": [],
   "source": [
    "'happiness' in software"
   ]
  },
  {
   "cell_type": "markdown",
   "id": "28c5db41",
   "metadata": {},
   "source": [
    "## “for”, “while”, “continue” and “break”\n",
    "\n",
    "`for` statements and `while` statement are *loops*, because Python keeps\n",
    "executing the `for` or `while` block until the `for` runs out of\n",
    "elements or the `while` condition is False.  You can break out of a loop\n",
    "using the `break` statement:"
   ]
  },
  {
   "cell_type": "code",
   "execution_count": null,
   "id": "15b3c965",
   "metadata": {},
   "outputs": [],
   "source": [
    "for i in range(10):\n",
    "    if i == 6:\n",
    "        break\n",
    "    print(i)"
   ]
  },
  {
   "cell_type": "markdown",
   "id": "fab5fa05",
   "metadata": {},
   "source": [
    "The `continue` statement short-circuits execution of the current iteration\n",
    "of the `for` or `while` block, to continue with the next iteration:"
   ]
  },
  {
   "cell_type": "code",
   "execution_count": null,
   "id": "a23bd160",
   "metadata": {},
   "outputs": [],
   "source": [
    "for i in range(10):\n",
    "    if i == 6:\n",
    "        continue\n",
    "    print(i)"
   ]
  },
  {
   "cell_type": "markdown",
   "id": "7186dc20",
   "metadata": {},
   "source": [
    "See “for” and “while”, “break” and “else:” for more on loops and `break`."
   ]
  },
  {
   "cell_type": "markdown",
   "id": "f9616321",
   "metadata": {},
   "source": [
    "## Functions\n",
    "\n",
    "Here we define our first function in Python:"
   ]
  },
  {
   "cell_type": "code",
   "execution_count": null,
   "id": "b833267c",
   "metadata": {},
   "outputs": [],
   "source": [
    "def my_function(an_argument):\n",
    "    return an_argument + 1"
   ]
  },
  {
   "cell_type": "markdown",
   "id": "b2588b63",
   "metadata": {},
   "source": [
    "The function definition begins with the `def` keyword followed by a space.\n",
    "There follows the name of the function `my_function`. Next we have an open\n",
    "parenthesis, followed by a specification of the arguments that the function\n",
    "expects to be passed to it. In this case, the function expects a single\n",
    "argument. In our case, the value of the input argument will be attached to the\n",
    "name `an_argument` when the function starts to execute.  Last, we have an\n",
    "indented block, with code that will run when the function is called. We can\n",
    "return a value from the function using the `return` statement."
   ]
  },
  {
   "cell_type": "code",
   "execution_count": null,
   "id": "1fb2c152",
   "metadata": {},
   "outputs": [],
   "source": [
    "my_function(10)"
   ]
  },
  {
   "cell_type": "markdown",
   "id": "36cf245a",
   "metadata": {},
   "source": [
    "We called `my_function` by appending the opening parenthesis, and the\n",
    "arguments, followed by the closing parenthesis. The function began to execute\n",
    "with the variable `an_argument` set to 10. It returned 10 + 1 = 11.\n",
    "\n",
    "A function need not accept any arguments:"
   ]
  },
  {
   "cell_type": "code",
   "execution_count": null,
   "id": "7dd0230a",
   "metadata": {},
   "outputs": [],
   "source": [
    "def my_second_function():\n",
    "    return 42\n",
    "\n",
    "my_second_function()"
   ]
  },
  {
   "cell_type": "markdown",
   "id": "36cb5258",
   "metadata": {},
   "source": [
    "A function does not need to have a `return` statement.  If there is no\n",
    "return statement, the function returns `None`:"
   ]
  },
  {
   "cell_type": "code",
   "execution_count": null,
   "id": "a5616a9e",
   "metadata": {},
   "outputs": [],
   "source": [
    "def function_with_no_return():\n",
    "    # Function with no return statement\n",
    "    a = 1\n",
    "\n",
    "function_with_no_return() == None"
   ]
  },
  {
   "cell_type": "markdown",
   "id": "528f544e",
   "metadata": {},
   "source": [
    "A function can have more than one argument:"
   ]
  },
  {
   "cell_type": "code",
   "execution_count": null,
   "id": "c12daffd",
   "metadata": {},
   "outputs": [],
   "source": [
    "def my_third_function(first_argument, second_argument):\n",
    "    return first_argument + second_argument\n",
    "\n",
    "my_third_function(10, 42)"
   ]
  },
  {
   "cell_type": "markdown",
   "id": "bdd7c06f",
   "metadata": {},
   "source": [
    "## Default values for function arguments\n",
    "\n",
    "The function definition can give a default value for a function argument:"
   ]
  },
  {
   "cell_type": "code",
   "execution_count": null,
   "id": "a9180f45",
   "metadata": {},
   "outputs": [],
   "source": [
    "def my_fourth_function(first_argument, extra_argument=101):\n",
    "    return first_argument + extra_argument"
   ]
  },
  {
   "cell_type": "markdown",
   "id": "95b279c7",
   "metadata": {},
   "source": [
    "This function, like `my_third_function`, has two arguments, and we can call\n",
    "it the same way that we call `my_third_function`:"
   ]
  },
  {
   "cell_type": "code",
   "execution_count": null,
   "id": "4c34e38a",
   "metadata": {},
   "outputs": [],
   "source": [
    "my_fourth_function(10, 42)"
   ]
  },
  {
   "cell_type": "markdown",
   "id": "be3582ec",
   "metadata": {},
   "source": [
    "But, we can also omit the second argument, because it has a default value.  In\n",
    "that case the argument will get its default value:"
   ]
  },
  {
   "cell_type": "code",
   "execution_count": null,
   "id": "1b525a55",
   "metadata": {},
   "outputs": [],
   "source": [
    "my_fourth_function(10)  # Pass one argument, get default for second"
   ]
  },
  {
   "cell_type": "markdown",
   "id": "9532db27",
   "metadata": {},
   "source": [
    "So far we have passed in arguments by position, the first argument in our call\n",
    "becoming the first argument in the function, and so on.  We can also pass in\n",
    "arguments by name.  For example, we could pass in `extra_argument` by giving\n",
    "the parameter name and value, like this:"
   ]
  },
  {
   "cell_type": "code",
   "execution_count": null,
   "id": "c77bfad9",
   "metadata": {},
   "outputs": [],
   "source": [
    "my_fourth_function(10, extra_argument=202)"
   ]
  },
  {
   "cell_type": "markdown",
   "id": "7cea9b95",
   "metadata": {},
   "source": [
    "Passing arguments this way can make the code easier to read, because the name\n",
    "of the argument often gives a good clue as to its purpose in the function.  It\n",
    "can also be useful with functions having many parameters with default values;\n",
    "in that case using the argument name makes it easier to pass in one or few\n",
    "values that are different from the defaults."
   ]
  },
  {
   "cell_type": "markdown",
   "id": "c6c2e4c3",
   "metadata": {},
   "source": [
    "## Functions are objects too\n",
    "\n",
    "Remember that everything in Python is an object. The function is itself an\n",
    "object, where the name of the function is a variable, that refers to the\n",
    "function:"
   ]
  },
  {
   "cell_type": "code",
   "execution_count": null,
   "id": "1a79895c",
   "metadata": {},
   "outputs": [],
   "source": [
    "my_fourth_function"
   ]
  },
  {
   "cell_type": "code",
   "execution_count": null,
   "id": "d5370a4c",
   "metadata": {},
   "outputs": [],
   "source": [
    "type(my_fourth_function)"
   ]
  },
  {
   "cell_type": "markdown",
   "id": "5a3fb8d6",
   "metadata": {},
   "source": [
    "We call the function by adding the open parenthesis followed by the arguments\n",
    "and the close parenthesis:"
   ]
  },
  {
   "cell_type": "code",
   "execution_count": null,
   "id": "1eb86974",
   "metadata": {},
   "outputs": [],
   "source": [
    "my_fourth_function(10)"
   ]
  },
  {
   "cell_type": "markdown",
   "id": "ba306cc2",
   "metadata": {},
   "source": [
    "We can make a new name to point to this same function as easily as we can\n",
    "could with any other Python variable:"
   ]
  },
  {
   "cell_type": "code",
   "execution_count": null,
   "id": "6bf14069",
   "metadata": {},
   "outputs": [],
   "source": [
    "another_reference_to_func4 = my_fourth_function\n",
    "print('Type of new variable', type(another_reference_to_func4))\n",
    "# We call this function using the new name\n",
    "another_reference_to_func4(10)"
   ]
  },
  {
   "cell_type": "markdown",
   "id": "0f5d4e34",
   "metadata": {},
   "source": [
    "## Sorting\n",
    "\n",
    "The Python function `sorted` returns a sorted list from something that\n",
    "Python can iterate over:"
   ]
  },
  {
   "cell_type": "code",
   "execution_count": null,
   "id": "d01b7946",
   "metadata": {},
   "outputs": [],
   "source": [
    "sorted('adcea')"
   ]
  },
  {
   "cell_type": "code",
   "execution_count": null,
   "id": "5bb39522",
   "metadata": {},
   "outputs": [],
   "source": [
    "sorted((1, 5, 3, 2))"
   ]
  },
  {
   "cell_type": "markdown",
   "id": "fb164e56",
   "metadata": {},
   "source": [
    "In order to do the sorting, Python compares the elements with\n",
    "`one_element < another_element`. For example, to do the sort above,\n",
    "Python needed results like:"
   ]
  },
  {
   "cell_type": "code",
   "execution_count": null,
   "id": "7dd0d5c4",
   "metadata": {},
   "outputs": [],
   "source": [
    "3 < 5"
   ]
  },
  {
   "cell_type": "markdown",
   "id": "e7117772",
   "metadata": {},
   "source": [
    "Sometimes you want to order the objects in some other way than simply\n",
    "comparing the elements. If so, then you can define a *sort function*.  A sort\n",
    "function is a function that accepts an element as its argument, and returns a\n",
    "*sort value* for that element. Python does the sorting, not on the elements\n",
    "themselves, but on the returned sort value for each element.\n",
    "\n",
    "For example, let’s say we have first and last names stored as tuples:"
   ]
  },
  {
   "cell_type": "code",
   "execution_count": null,
   "id": "20afb262",
   "metadata": {},
   "outputs": [],
   "source": [
    "people = [('JB', 'Poline'), ('Matthew', 'Brett'), ('Mark', 'DEsposito')]"
   ]
  },
  {
   "cell_type": "markdown",
   "id": "07a99157",
   "metadata": {},
   "source": [
    "By default, Python compares tuples by comparing the first value first, then\n",
    "the second value, and so on. This means for our case that we are sorting on\n",
    "the first name:"
   ]
  },
  {
   "cell_type": "code",
   "execution_count": null,
   "id": "ae40e621",
   "metadata": {},
   "outputs": [],
   "source": [
    "('Matthew', 'Brett') > ('Mark', 'DEsposito')"
   ]
  },
  {
   "cell_type": "code",
   "execution_count": null,
   "id": "697f8b36",
   "metadata": {},
   "outputs": [],
   "source": [
    "sorted(people)"
   ]
  },
  {
   "cell_type": "markdown",
   "id": "1dd0ae60",
   "metadata": {},
   "source": [
    "That may not be what you want.  You might want to sort by the last name, which\n",
    "is the second value in the tuple.  In that case you can make a sort function,\n",
    "that accepts the element as an input (the tuple in this case), and returns a\n",
    "value:"
   ]
  },
  {
   "cell_type": "code",
   "execution_count": null,
   "id": "aee0454b",
   "metadata": {},
   "outputs": [],
   "source": [
    "def get_last_name(person):\n",
    "    return person[1]  # The last name"
   ]
  },
  {
   "cell_type": "markdown",
   "id": "2a782d0d",
   "metadata": {},
   "source": [
    "Remember everything in Python is an object. The function we have just defined\n",
    "is also an object, with name `get_last_name`:"
   ]
  },
  {
   "cell_type": "code",
   "execution_count": null,
   "id": "a8af1c40",
   "metadata": {},
   "outputs": [],
   "source": [
    "get_last_name"
   ]
  },
  {
   "cell_type": "markdown",
   "id": "2bd3fa7a",
   "metadata": {},
   "source": [
    "We can pass this value to the `sorted` function as a sort function.  We will\n",
    "pass this in using the sort function parameter name, which is `key`:"
   ]
  },
  {
   "cell_type": "code",
   "execution_count": null,
   "id": "fec8dfe1",
   "metadata": {},
   "outputs": [],
   "source": [
    "sorted(people, key=get_last_name)"
   ]
  },
  {
   "cell_type": "markdown",
   "id": "0837d2b9",
   "metadata": {},
   "source": [
    "## Files\n",
    "\n",
    "**Note**: The section below covers Python's most basic interface to writing and\n",
    "reading files.  See the [pathlib module](./pathlib.Rmd) for a more concise\n",
    "interface to files and their data.\n",
    "\n",
    "You can open a file in several different *modes*.  The mode specifies whether\n",
    "you want to read or write the file, and whether the data in the file is, or\n",
    "will be, text data (string) or binary data (bytes).  For example, here we open\n",
    "a file for Writing Text (`wt`):"
   ]
  },
  {
   "cell_type": "code",
   "execution_count": null,
   "id": "f5319fb7",
   "metadata": {},
   "outputs": [],
   "source": [
    "my_file = open(\"a_text_file.txt\", \"wt\")"
   ]
  },
  {
   "cell_type": "markdown",
   "id": "67c202d3",
   "metadata": {},
   "source": [
    "If we had wanted to write binary (byte) data, we would have used `wb` for\n",
    "the mode (Write Binary).\n",
    "\n",
    "As usual, you can explore this new file object in IPython by appending the\n",
    "object name with a period, and pressing the tab key to get a list of\n",
    "attributes and methods – e.g. `myfile.` followed by tab.\n",
    "\n",
    "To write to a file, use the `write` method."
   ]
  },
  {
   "cell_type": "code",
   "execution_count": null,
   "id": "23afa7a2",
   "metadata": {},
   "outputs": [],
   "source": [
    "# Write a line of text with a newline character at the end\n",
    "# The method returns the number of characters written\n",
    "my_file.write(\"MATLAB is good for matrices\\n\")\n",
    "# Another line\n",
    "my_file.write(\"Python is good for coding\\n\")"
   ]
  },
  {
   "cell_type": "markdown",
   "id": "83c65f2a",
   "metadata": {},
   "source": [
    "You should close the file when you’ve finished with it:"
   ]
  },
  {
   "cell_type": "code",
   "execution_count": null,
   "id": "af26c769",
   "metadata": {},
   "outputs": [],
   "source": [
    "my_file.close()"
   ]
  },
  {
   "cell_type": "markdown",
   "id": "e2d361e8",
   "metadata": {},
   "source": [
    "To read a file, open the file in read mode:"
   ]
  },
  {
   "cell_type": "code",
   "execution_count": null,
   "id": "ecf3e6bb",
   "metadata": {},
   "outputs": [],
   "source": [
    "# Open file in Read Text mode\n",
    "my_file2 = open(\"a_text_file.txt\", \"rt\")"
   ]
  },
  {
   "cell_type": "markdown",
   "id": "40bca872",
   "metadata": {},
   "source": [
    "You can read all the contents in one shot by calling the `read` method\n",
    "without arguments:"
   ]
  },
  {
   "cell_type": "code",
   "execution_count": null,
   "id": "545467ca",
   "metadata": {},
   "outputs": [],
   "source": [
    "contents = my_file2.read()\n",
    "print(contents)"
   ]
  },
  {
   "cell_type": "markdown",
   "id": "173a8e74",
   "metadata": {},
   "source": [
    "Remember to close the file afterwards:"
   ]
  },
  {
   "cell_type": "code",
   "execution_count": null,
   "id": "f33d6233",
   "metadata": {},
   "outputs": [],
   "source": [
    "my_file2.close()"
   ]
  },
  {
   "cell_type": "markdown",
   "id": "fa469caf",
   "metadata": {},
   "source": [
    "An open text file object is also *iterable*, meaning, that you can ask the\n",
    "file object to return its contents line by line, in a `for` loop. Let’s open\n",
    "the file again to show this in action:"
   ]
  },
  {
   "cell_type": "code",
   "execution_count": null,
   "id": "190e35d1",
   "metadata": {},
   "outputs": [],
   "source": [
    "my_file2 = open(\"a_text_file.txt\", \"rt\")\n",
    "for line in my_file2:  # iterating over the file object\n",
    "    print(\"Line is:\", line)\n",
    "\n",
    "my_file2.close()"
   ]
  },
  {
   "cell_type": "markdown",
   "id": "16441da2",
   "metadata": {},
   "source": [
    "We can delete files by using routines from various *modules*."
   ]
  },
  {
   "cell_type": "markdown",
   "id": "42fc6f12",
   "metadata": {},
   "source": [
    "## Modules\n",
    "\n",
    "Modules are libraries of data and functions.  Many of these come pre-installed with Python.\n",
    "\n",
    "One common module is the `os` module, where `os` is short for [operating system](https://en.wikipedia.org/wiki/Operating_system).  The module has various functions that allow us to look at the system, and work with files.\n",
    "\n",
    "In order to use the functions and data in modules, we have to *import* the module.  For example, imagine I forgot that fact, and tried to use the `unlink` function from the `os` module:"
   ]
  },
  {
   "cell_type": "code",
   "execution_count": null,
   "id": "26cb7c95",
   "metadata": {
    "tags": [
     "raises-exception"
    ]
   },
   "outputs": [],
   "source": [
    "# Try to delete the file.\n",
    "# Oops - I haven't imported 'os' yet!\n",
    "os.unlink('a_text_file.txt')"
   ]
  },
  {
   "cell_type": "markdown",
   "id": "6db70821",
   "metadata": {},
   "source": [
    "This reminds me I need to *import* the module so I can use it:"
   ]
  },
  {
   "cell_type": "code",
   "execution_count": null,
   "id": "9d1419be",
   "metadata": {},
   "outputs": [],
   "source": [
    "# Get the module ready to use.\n",
    "import os"
   ]
  },
  {
   "cell_type": "markdown",
   "id": "d65a1857",
   "metadata": {},
   "source": [
    "Now I can use the function as I intended:"
   ]
  },
  {
   "cell_type": "code",
   "execution_count": null,
   "id": "5e824d2b",
   "metadata": {
    "tags": [
     "raises-exception"
    ]
   },
   "outputs": [],
   "source": [
    "# Actually delete the file.\n",
    "os.unlink('a_text_file.txt')"
   ]
  }
 ],
 "metadata": {
  "jupytext": {
   "notebook_metadata_filter": "all,-language_info",
   "split_at_heading": true
  },
  "kernelspec": {
   "display_name": "Python (Pyodide)",
   "name": "python"
  }
 },
 "nbformat": 4,
 "nbformat_minor": 5
}
