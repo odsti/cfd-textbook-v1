{
 "cells": [
  {
   "cell_type": "markdown",
   "id": "d6eb93b3",
   "metadata": {},
   "source": [
    "# Leaping ahead\n",
    "\n",
    "We are still building up to a solution for the [three girls\n",
    "problem](three_girls).\n",
    "\n",
    "We have more of the building blocks we need."
   ]
  },
  {
   "cell_type": "code",
   "execution_count": null,
   "id": "72de9024",
   "metadata": {},
   "outputs": [],
   "source": [
    "# Load the Numpy package, and rename to \"np\"\n",
    "import numpy as np\n",
    "# Make random number generator.\n",
    "rng = np.random.default_rng()"
   ]
  },
  {
   "cell_type": "markdown",
   "id": "e74189db",
   "metadata": {},
   "source": [
    "We are going to simulate 10000 families, each with four children.\n",
    "\n",
    "Call one family *one trial*.  Each *trial* involves the simulation of four\n",
    "children.\n",
    "\n",
    "Here we put together what we have up until now.  We are creating a Numpy array that has 10000 values, each of which is 0"
   ]
  },
  {
   "cell_type": "code",
   "execution_count": null,
   "id": "f901473c",
   "metadata": {},
   "outputs": [],
   "source": [
    "# Make an array of zeros to store the counts for each of the 10000 families.\n",
    "counts = np.zeros(10000)\n",
    "counts"
   ]
  },
  {
   "cell_type": "markdown",
   "id": "51990b81",
   "metadata": {},
   "source": [
    "`counts` has 10000 elements. When we have finished, each of these 10000 values\n",
    "will be the number of girls in one simulated family.\n",
    "\n",
    "From [boolean arrays](boolean_arrays), here is how we make an array that\n",
    "simulates a family of four children, and count the number of girls."
   ]
  },
  {
   "cell_type": "code",
   "execution_count": null,
   "id": "fa185f90",
   "metadata": {},
   "outputs": [],
   "source": [
    "# Make an array of four random choices from 0 or 1.\n",
    "# 1 means a girl.\n",
    "children = rng.choice([0, 1], size=4)\n",
    "# Add up the integers to count the number of girls.\n",
    "count = np.sum(children)\n",
    "count"
   ]
  },
  {
   "cell_type": "markdown",
   "id": "466717ae",
   "metadata": {},
   "source": [
    "We can store this count at the beginning of our 10000 counts:"
   ]
  },
  {
   "cell_type": "code",
   "execution_count": null,
   "id": "4f917582",
   "metadata": {},
   "outputs": [],
   "source": [
    "# Store the count as the first value in the counts array.\n",
    "counts[0] = count\n",
    "# Show the first 10 values\n",
    "counts[:10]"
   ]
  },
  {
   "cell_type": "markdown",
   "id": "4c2fd2b1",
   "metadata": {},
   "source": [
    "Here that is again, in a single cell:"
   ]
  },
  {
   "cell_type": "code",
   "execution_count": null,
   "id": "c818167f",
   "metadata": {},
   "outputs": [],
   "source": [
    "# Our first simulated family\n",
    "children = rng.choice([0, 1], size=4)\n",
    "counts[0] = np.sum(children)\n",
    "counts[:10]"
   ]
  },
  {
   "cell_type": "markdown",
   "id": "5adef15f",
   "metadata": {},
   "source": [
    "To add another family, we just repeat the same, but storing the result as the\n",
    "*second* value in the `counts` array:"
   ]
  },
  {
   "cell_type": "code",
   "execution_count": null,
   "id": "51d90b5a",
   "metadata": {},
   "outputs": [],
   "source": [
    "# Our second simulated family\n",
    "children = rng.choice([0, 1], size=4)\n",
    "counts[1] = np.sum(children)\n",
    "counts[:10]"
   ]
  },
  {
   "cell_type": "markdown",
   "id": "a6da3f46",
   "metadata": {},
   "source": [
    "Notice that the only thing that changed is that we stored the value at position (offset) 1 instead of position (offset) 0.\n",
    "\n",
    "Obviously this is getting a bit boring and repetitive. Surely we can do\n",
    "better.\n",
    "\n",
    "Yes indeed, we can use a *for loop*.  We will see much more of for loops [very\n",
    "soon](iteration).  You will recognize nearly all the code below, from the single trials we did above.  The new thing is the *for* loop, that tells Python to repeat the indented steps 10000 times."
   ]
  },
  {
   "cell_type": "code",
   "execution_count": null,
   "id": "910310f3",
   "metadata": {},
   "outputs": [],
   "source": [
    "# Reset the counts array to 10000 zeros.\n",
    "counts = np.zeros(10000)\n",
    "\n",
    "# Repeat the indented stuff 10000 times.\n",
    "for i in np.arange(10000):\n",
    "    # The procedure for one family.\n",
    "    children = rng.choice([0, 1], size=4)\n",
    "    count = np.sum(children)\n",
    "    # Store the count at position i in the counts array.\n",
    "    counts[i] = count\n",
    "# Show the first 10 counts\n",
    "counts[:10]"
   ]
  },
  {
   "cell_type": "markdown",
   "id": "6d28a703",
   "metadata": {},
   "source": [
    "Now we have a count of the number of girls, from 10000 simulated families:"
   ]
  },
  {
   "cell_type": "code",
   "execution_count": null,
   "id": "dac442d9",
   "metadata": {},
   "outputs": [],
   "source": [
    "len(counts)"
   ]
  },
  {
   "cell_type": "markdown",
   "id": "2acc589d",
   "metadata": {},
   "source": [
    "We use [Boolean arrays](boolean_arrays) to make an array of 10000 elements, where each element is True if the corresponding element in `counts` was equal to 3, and False otherwise."
   ]
  },
  {
   "cell_type": "code",
   "execution_count": null,
   "id": "3b6f75aa",
   "metadata": {},
   "outputs": [],
   "source": [
    "# The Boolean array\n",
    "has_3_girls = counts == 3"
   ]
  },
  {
   "cell_type": "markdown",
   "id": "3ef7cd29",
   "metadata": {},
   "source": [
    "`np.count_nonzero` counts the number of True values (and therefore, the number of `counts` equal to 3)."
   ]
  },
  {
   "cell_type": "code",
   "execution_count": null,
   "id": "addab83a",
   "metadata": {},
   "outputs": [],
   "source": [
    "# Number of counts values equal to 3.\n",
    "n_3_girls = np.count_nonzero(has_3_girls)\n",
    "n_3_girls"
   ]
  },
  {
   "cell_type": "markdown",
   "id": "985bd6e5",
   "metadata": {},
   "source": [
    "Finally we estimate the probability by dividing the number of times we saw 3 by\n",
    "the number of trials:"
   ]
  },
  {
   "cell_type": "code",
   "execution_count": null,
   "id": "eaf519d6",
   "metadata": {},
   "outputs": [],
   "source": [
    "# Estimate probability of 3 girls.\n",
    "n_3_girls / 10000"
   ]
  },
  {
   "cell_type": "markdown",
   "id": "a1b95629",
   "metadata": {},
   "source": [
    "## The whole thing\n",
    "\n",
    "Here then is the whole solution to three girl problem.\n",
    "\n",
    "It is made from the combination of the code in the cells above."
   ]
  },
  {
   "cell_type": "code",
   "execution_count": null,
   "id": "c94073a3",
   "metadata": {},
   "outputs": [],
   "source": [
    "# Reset the counts array to 10000 zeros.\n",
    "counts = np.zeros(10000)\n",
    "\n",
    "# Repeat the indented stuff 10000 times.\n",
    "for i in np.arange(10000):\n",
    "    # The procedure for one family.\n",
    "    children = rng.choice([0, 1], size=4)\n",
    "    count = np.sum(children)\n",
    "    # Store the count at position i in the counts array.\n",
    "    counts[i] = count\n",
    "\n",
    "# True where counts has the value 3, False otherwise.\n",
    "has_3_girls = counts == 3\n",
    "\n",
    "# Number of counts values equal to 3.\n",
    "n_3_girls = np.count_nonzero(has_3_girls)\n",
    "\n",
    "# Estimate and show probability of 3 girls.\n",
    "n_3_girls / 10000"
   ]
  },
  {
   "cell_type": "markdown",
   "id": "2b0b39ef",
   "metadata": {},
   "source": [
    "## For loops.\n",
    "\n",
    "The new part of this story is the *for loop*.  On to [iteration with for\n",
    "loops](iteration)."
   ]
  }
 ],
 "metadata": {
  "jupytext": {
   "split_at_heading": true
  },
  "kernelspec": {
   "display_name": "Python (Pyodide)",
   "name": "python"
  }
 },
 "nbformat": 4,
 "nbformat_minor": 5
}
