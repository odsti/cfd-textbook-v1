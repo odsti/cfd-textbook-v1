{
 "cells": [
  {
   "cell_type": "markdown",
   "id": "7bdc8815",
   "metadata": {},
   "source": [
    "# Selecting values from an array"
   ]
  },
  {
   "cell_type": "code",
   "execution_count": null,
   "id": "88a3ec94",
   "metadata": {},
   "outputs": [],
   "source": [
    "import numpy as np"
   ]
  },
  {
   "cell_type": "markdown",
   "id": "8da04c55",
   "metadata": {},
   "source": [
    "We use arrays all the time, in data science."
   ]
  },
  {
   "cell_type": "code",
   "execution_count": null,
   "id": "b4d4247f",
   "metadata": {},
   "outputs": [],
   "source": [
    "my_array = np.array([10, 11, 12])"
   ]
  },
  {
   "cell_type": "markdown",
   "id": "3df0eb10",
   "metadata": {},
   "source": [
    "One of the most common tasks we have to do on arrays, is to select values.\n",
    "\n",
    "We do this with *array slicing*.\n",
    "\n",
    "We do array slicing when we follow the **array variable name** with `[` (open\n",
    "square brackets), followed by **something to specify which elements we want**,\n",
    "followed by `]` (close square brackets).\n",
    "\n",
    "For example:"
   ]
  },
  {
   "cell_type": "code",
   "execution_count": null,
   "id": "4b82ec36",
   "metadata": {},
   "outputs": [],
   "source": [
    "my_array[0]"
   ]
  },
  {
   "cell_type": "markdown",
   "id": "acbfb7da",
   "metadata": {},
   "source": [
    "The example is an example of the simplest case is when we want a single element\n",
    "from a one-dimensional array.  In that case the thing between the `[` and the\n",
    "`]` is the *index* of the value that we want.\n",
    "\n",
    "The *index* of the first value is 0, the index of the second value is 2, and so\n",
    "on."
   ]
  },
  {
   "cell_type": "code",
   "execution_count": null,
   "id": "8cec21f7",
   "metadata": {},
   "outputs": [],
   "source": [
    "my_array[0]"
   ]
  },
  {
   "cell_type": "markdown",
   "id": "8932a72f",
   "metadata": {},
   "source": [
    "We start by loading data from a Comma Separated Value file (CSV file).\n",
    "\n",
    "This is summary data that [Andrew Rosen](https://asrosen.com) downloaded from\n",
    "<https://www.ratemyprofessors.com> for an analysis he reported in [a 2018\n",
    "paper](https://asrosen.com/wp-content/uploads/2018/07/postprint_rmp-1.pdf). The\n",
    "data file here is from the [supplementary\n",
    "material](https://www.tandfonline.com/doi/suppl/10.1080/02602938.2016.1276155);\n",
    "it has the average rating across academic discipline for all professors in a\n",
    "particular discipline who have more than 20 ratings.\n",
    "\n",
    "See [the dataset page](data/rate_my_professors) for more\n",
    "detail.\n",
    "\n",
    "If you are running on your laptop, you should download the\n",
    "{download}`rate_my_course.csv <data/rate_my_course.csv>` file to the same\n",
    "directory as this notebook.\n",
    "\n",
    "Don't worry about the code next cell.  It loads the data we need from a data\n",
    "file. We will come on the machinery to do this very soon."
   ]
  },
  {
   "cell_type": "code",
   "execution_count": null,
   "id": "27abfc58",
   "metadata": {},
   "outputs": [],
   "source": [
    "# This code we have not covered yet.  We will cover it soon.\n",
    "# It loads the data file, and makes some arrays.\n",
    "\n",
    "# Load the library for reading data files.\n",
    "import pandas as pd\n",
    "# Safe setting for Pandas.  Needs Pandas version >= 1.5.\n",
    "# We'll come on to this setting later.\n",
    "pd.set_option('mode.copy_on_write', True)\n",
    "# Read the file.\n",
    "courses = pd.read_csv('data/rate_my_course.csv')\n",
    "# Sort the courses by number of rated teachers, most first.\n",
    "courses_by_n = courses.sort_values(\n",
    "    'Number of Professors', ascending=False)\n",
    "# Select the top eight easiest courses.\n",
    "big_courses = courses_by_n.head(8)\n",
    "big_courses"
   ]
  },
  {
   "cell_type": "code",
   "execution_count": null,
   "id": "bdadff2d",
   "metadata": {},
   "outputs": [],
   "source": [
    "# Again - don't worry about this code - we will cover it later.\n",
    "# Put the columns into arrays\n",
    "disciplines = np.array(big_courses['Discipline'])\n",
    "easiness = np.array(big_courses['Easiness'])\n",
    "quality = np.array(big_courses['Overall Quality'])"
   ]
  },
  {
   "cell_type": "markdown",
   "id": "9ed39f72",
   "metadata": {},
   "source": [
    "We now have the names of the disciplines with the largest number of professors."
   ]
  },
  {
   "cell_type": "code",
   "execution_count": null,
   "id": "4b2574ec",
   "metadata": {},
   "outputs": [],
   "source": [
    "disciplines"
   ]
  },
  {
   "cell_type": "markdown",
   "id": "197b29a1",
   "metadata": {},
   "source": [
    "Here we get the first value.  This value is at index 0."
   ]
  },
  {
   "cell_type": "code",
   "execution_count": null,
   "id": "dd92b410",
   "metadata": {},
   "outputs": [],
   "source": [
    "# Get the first value (at index position 0)\n",
    "disciplines[0]"
   ]
  },
  {
   "cell_type": "markdown",
   "id": "b1e08e6c",
   "metadata": {},
   "source": [
    "Notice that this is another way of writing:"
   ]
  },
  {
   "cell_type": "code",
   "execution_count": null,
   "id": "c98d933a",
   "metadata": {},
   "outputs": [],
   "source": [
    "disciplines.item(0)"
   ]
  },
  {
   "cell_type": "code",
   "execution_count": null,
   "id": "45d6a21a",
   "metadata": {},
   "outputs": [],
   "source": [
    "# Get the second value (at index position 1)\n",
    "disciplines[1]"
   ]
  },
  {
   "cell_type": "code",
   "execution_count": null,
   "id": "09b1360a",
   "metadata": {},
   "outputs": [],
   "source": [
    "# Get the third value (at index position 2)\n",
    "disciplines[2]"
   ]
  },
  {
   "cell_type": "markdown",
   "id": "3f651463",
   "metadata": {},
   "source": [
    "At first this will take some time to get used to, that the first value is at\n",
    "index position 0.  There are good reasons for this, and many programming\n",
    "languages have this convention, but it does a while to get this habit of mind."
   ]
  },
  {
   "cell_type": "markdown",
   "id": "7bf538fd",
   "metadata": {},
   "source": [
    "## Square brackets and indexing\n",
    "\n",
    "Notice too that we use square brackets for indexing.\n",
    "\n",
    "We have seen square brackets before, when we create lists.  For example, we can\n",
    "create a list with `my_list = [1, 2, 3]`. (We usually then create an array with\n",
    "something like `my_array = np.array(my_list)`.  This is *a different use of\n",
    "square brackets*. When we create a list, the square brackets tell Python that\n",
    "the elements between the brackets should be the elements of the list.  This use\n",
    "is called a *list literal* expression.  The square brackets follow an equal\n",
    "sign, or some other operator, or start the line.\n",
    "\n",
    "When we use square brackets for indexing, the square brackets always follow an expression that returns an array.  For example, consider this line:"
   ]
  },
  {
   "cell_type": "code",
   "execution_count": null,
   "id": "19733794",
   "metadata": {},
   "outputs": [],
   "source": [
    "disciplines[2]"
   ]
  },
  {
   "cell_type": "markdown",
   "id": "e0137195",
   "metadata": {},
   "source": [
    "`disciplines` is an expression that returns an array.  Therefore the open square brackets follows this expression, and therefore, Python can tell that this use of square brackets means *select an element or elements from the array*.\n",
    "\n",
    "So we have seen different uses of square brackets:\n",
    "\n",
    "* Creating a list (a *list literal*); (often uses in making arrays).\n",
    "* Indexing into an array.\n",
    "\n",
    "Python can tell which of these two we mean, from the context.\n"
   ]
  },
  {
   "cell_type": "markdown",
   "id": "7c616dc6",
   "metadata": {},
   "source": [
    "## Indexing with negative numbers\n",
    "\n",
    "If we know how many elements the array has, then we can get the last element by using the number of elements, minus one (why?).\n",
    "\n",
    "Here the number of elements is:"
   ]
  },
  {
   "cell_type": "code",
   "execution_count": null,
   "id": "f24722b9",
   "metadata": {},
   "outputs": [],
   "source": [
    "len(disciplines)"
   ]
  },
  {
   "cell_type": "markdown",
   "id": "1133e1e5",
   "metadata": {},
   "source": [
    "So, the last element of the array is at index position 7:"
   ]
  },
  {
   "cell_type": "code",
   "execution_count": null,
   "id": "39dc8965",
   "metadata": {},
   "outputs": [],
   "source": [
    "disciplines[7]"
   ]
  },
  {
   "cell_type": "markdown",
   "id": "8336017a",
   "metadata": {},
   "source": [
    "In fact, there is a short cut for getting elements at the end of the array, and\n",
    "that is to use an offset with a minus in front.  The number is then the offset\n",
    "from one past the last item.  For example, here is another way to get the last\n",
    "element:"
   ]
  },
  {
   "cell_type": "code",
   "execution_count": null,
   "id": "909df85e",
   "metadata": {},
   "outputs": [],
   "source": [
    "disciplines[-1]"
   ]
  },
  {
   "cell_type": "markdown",
   "id": "b1745534",
   "metadata": {},
   "source": [
    "The last but one element:"
   ]
  },
  {
   "cell_type": "code",
   "execution_count": null,
   "id": "f194f922",
   "metadata": {},
   "outputs": [],
   "source": [
    "disciplines[-2]"
   ]
  },
  {
   "cell_type": "markdown",
   "id": "3fc76a8a",
   "metadata": {},
   "source": [
    "## Index with slices\n",
    "\n",
    "Sometimes we want more than one element from the array.  For example, we might want the first 4 elements from the array.  We can get these using an array *slice*.  It looks like this:"
   ]
  },
  {
   "cell_type": "code",
   "execution_count": null,
   "id": "19dcc1f8",
   "metadata": {},
   "outputs": [],
   "source": [
    "# All the elements from offset zero up to (not including) 4\n",
    "disciplines[0:4]"
   ]
  },
  {
   "cell_type": "code",
   "execution_count": null,
   "id": "42129d74",
   "metadata": {},
   "outputs": [],
   "source": [
    "# All the elements from offset 4 up to (not including) 8\n",
    "disciplines[5:11]"
   ]
  },
  {
   "cell_type": "markdown",
   "id": "b704f51b",
   "metadata": {},
   "source": [
    "You can omit the first number, if you mean to start at offset 0:"
   ]
  },
  {
   "cell_type": "code",
   "execution_count": null,
   "id": "10913591",
   "metadata": {},
   "outputs": [],
   "source": [
    "disciplines[:4]"
   ]
  },
  {
   "cell_type": "markdown",
   "id": "3a794b4a",
   "metadata": {},
   "source": [
    "You can omit the last number if you mean to end at the last element of the array:"
   ]
  },
  {
   "cell_type": "code",
   "execution_count": null,
   "id": "7dd36a2e",
   "metadata": {},
   "outputs": [],
   "source": [
    "disciplines[4:]"
   ]
  },
  {
   "cell_type": "markdown",
   "id": "b9d8e3bc",
   "metadata": {},
   "source": [
    "## Another way of indexing into arrays\n",
    "\n",
    "The methods of indexing above work just as well for\n",
    "[lists](lists.Rmd) as they do for arrays.\n",
    "\n",
    "There are other, particularly useful forms of indexing that only work for\n",
    "arrays.  We will cover these later - but the most important of these is the\n",
    "ability to [index arrays with Boolean arrays](boolean_arrays.Rmd)."
   ]
  }
 ],
 "metadata": {
  "jupytext": {
   "notebook_metadata_filter": "all,-language_info",
   "split_at_heading": true
  },
  "kernelspec": {
   "display_name": "Python (Pyodide)",
   "name": "python"
  }
 },
 "nbformat": 4,
 "nbformat_minor": 5
}
