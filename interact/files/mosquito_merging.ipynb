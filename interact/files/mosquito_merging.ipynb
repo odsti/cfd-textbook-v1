{
 "cells": [
  {
   "cell_type": "markdown",
   "id": "214ea22f",
   "metadata": {},
   "source": [
    "# Mosquitoes, beer, before, after\n",
    "\n",
    "This is an example of merging in the familiar [mosquito\n",
    "beer](https://github.com/matthew-brett/datasets/tree/master/mosquito_beer)\n",
    "dataset.  Please also look at the [the data license page](data/LICENSE).\n",
    "\n",
    "If you want to run this notebook on your own computer, Download the data from\n",
    "{download}`mosquito_beer.csv <data/mosquito_beer.csv>`."
   ]
  },
  {
   "cell_type": "code",
   "execution_count": null,
   "id": "f069abfa",
   "metadata": {},
   "outputs": [],
   "source": [
    "# Import Numpy library, rename as \"np\"\n",
    "import numpy as np\n",
    "# Make random number generator.\n",
    "rng = np.random.default_rng()\n",
    "# Import Pandas library, rename as \"pd\"\n",
    "import pandas as pd\n",
    "# Safe setting for Pandas.\n",
    "pd.set_option('mode.copy_on_write', True)\n",
    "\n",
    "# Set up plotting\n",
    "import matplotlib.pyplot as plt\n",
    "plt.style.use('fivethirtyeight')"
   ]
  },
  {
   "cell_type": "markdown",
   "id": "13cf4836",
   "metadata": {},
   "source": [
    "As you may remember, the setup for the experiment was the following:\n",
    "\n",
    "* There were 43 volunteers who took part in the experiment.\n",
    "* The authors allocated 25 volunteers to the \"beer\" group, and 18\n",
    "  to the \"water\" group.\n",
    "* Each volunteer had two trails, a \"before\" trial, and an \"after\"\n",
    "  trial.\n",
    "* The \"before\" trial was a trial before they drank their\n",
    "  allocated drink of beer or water.\n",
    "* The \"after\" trial was after they drank their allocated drink of\n",
    "  beer or water.\n",
    "* In a trial the volunteers sat in tent.  There was a plastic\n",
    "  tube connecting the tent to a closed box containing 50\n",
    "  mosquitoes.  The trial started when the experimenters opened\n",
    "  the box of mosquitoes, allowing them to fly down the tube\n",
    "  towards the smell of person in the tent.\n",
    "* The \"activated\" number is the number, out of 50, of mosquitoes\n",
    "  that flew out of the box into the plastic tube."
   ]
  },
  {
   "cell_type": "code",
   "execution_count": null,
   "id": "8296291e",
   "metadata": {},
   "outputs": [],
   "source": [
    "mosquitoes = pd.read_csv('data/mosquito_beer.csv')\n",
    "mosquitoes.head()"
   ]
  },
  {
   "cell_type": "markdown",
   "id": "b9ce5509",
   "metadata": {},
   "source": [
    "We have two \"activated\" numbers per volunteer, one \"before\" and\n",
    "one \"after\".   If we subtract \"before\" from \"after\" we get a\n",
    "measure of the *difference* caused by the drink.\n",
    "\n",
    "We might want to do this because we speculate that different\n",
    "people may differ in how attractive they are mosquitoes.  If we\n",
    "just look, for example, at the \"after\" numbers, there will be\n",
    "some number of mosquitoes that can be explained by the person's\n",
    "own odor, regardless of drink, and some number of mosquitoes explained by the change in odor caused by the drink.\n",
    "\n",
    "By subtracting \"before\" from \"after\" we have a measure of the difference due to\n",
    "the drink, and we've subtracted away any difference due to the person.\n",
    "\n",
    "In order to do this subtraction, we have to define the values to subtract.\n",
    "\n",
    "We get the rows corresponding to the \"before\" and \"after\" phases of the\n",
    "experiment.  There is one \"before\" row per subject (`volunteer`) and one\n",
    "\"after\" row.  We need the `activated` numbers from those rows."
   ]
  },
  {
   "cell_type": "code",
   "execution_count": null,
   "id": "32b4134f",
   "metadata": {},
   "outputs": [],
   "source": [
    "before_activated = mosquitoes.loc[mosquitoes['test'] == 'before',\n",
    "                                 ['volunteer', 'group', 'activated']]\n",
    "before_activated.head()"
   ]
  },
  {
   "cell_type": "code",
   "execution_count": null,
   "id": "f7a8df1b",
   "metadata": {},
   "outputs": [],
   "source": [
    "after_activated = mosquitoes.loc[mosquitoes['test'] == 'after',\n",
    "                                 ['volunteer', 'group', 'activated']]\n",
    "after_activated.head()"
   ]
  },
  {
   "cell_type": "markdown",
   "id": "22d17567",
   "metadata": {},
   "source": [
    "We would like to merge the before and after DataFrames, so we can match up the before and after `activated` values, before subtracting.\n",
    "\n",
    "We could `merge` on `volunteer`, to do this:"
   ]
  },
  {
   "cell_type": "code",
   "execution_count": null,
   "id": "f941f1b7",
   "metadata": {},
   "outputs": [],
   "source": [
    "before_activated.merge(after_activated, on='volunteer')"
   ]
  },
  {
   "cell_type": "markdown",
   "id": "1a17f757",
   "metadata": {},
   "source": [
    "Notice the rather ugly column labels Pandas generates because the two\n",
    "DataFrames have the same column names, and Pandas needs to distinguish between\n",
    "them.\n",
    "\n",
    "We can make better suffixes for the column names, to give the merged columns\n",
    "nicer names:"
   ]
  },
  {
   "cell_type": "code",
   "execution_count": null,
   "id": "447ceace",
   "metadata": {},
   "outputs": [],
   "source": [
    "both = before_activated.merge(after_activated, on='volunteer',\n",
    "                              suffixes=['_before', '_after'])\n",
    "both.head()"
   ]
  },
  {
   "cell_type": "markdown",
   "id": "0b481da7",
   "metadata": {},
   "source": [
    "Now we have matched up the \"before\" and \"after\" rows, we can do the\n",
    "subtraction:"
   ]
  },
  {
   "cell_type": "code",
   "execution_count": null,
   "id": "de3e7699",
   "metadata": {},
   "outputs": [],
   "source": [
    "both['active_diff'] = both['activated_after'] - both['activated_before']\n",
    "both.head()"
   ]
  },
  {
   "cell_type": "markdown",
   "id": "0608bb6e",
   "metadata": {},
   "source": [
    "We are expecting the `group` to be the same for the \"before\" and \"after\" rows, because each `volunteer` only belonged to one group:"
   ]
  },
  {
   "cell_type": "code",
   "execution_count": null,
   "id": "32445bef",
   "metadata": {},
   "outputs": [],
   "source": [
    "# Raise an error if the group_before and group_after values differ in any row.\n",
    "# We expect no error.\n",
    "assert np.all(both['group_before'] == both['group_after'])"
   ]
  },
  {
   "cell_type": "markdown",
   "id": "cb68691c",
   "metadata": {},
   "source": [
    "To make the DataFrame easier to read, we rename the `group_before` to just\n",
    "`group` and drop the `group_before`, `group_after` columns."
   ]
  },
  {
   "cell_type": "code",
   "execution_count": null,
   "id": "35aa7501",
   "metadata": {},
   "outputs": [],
   "source": [
    "both['group'] = both['group_before']\n",
    "both = both.drop(columns=['group_before', 'group_after'])\n",
    "both.head()"
   ]
  },
  {
   "cell_type": "markdown",
   "id": "cdd20635",
   "metadata": {},
   "source": [
    "We can then get the means of the `active_diff` subtracted values per group, and calculated the difference in means.  This is our *observed statistic*."
   ]
  },
  {
   "cell_type": "code",
   "execution_count": null,
   "id": "35f4cdad",
   "metadata": {},
   "outputs": [],
   "source": [
    "means = both.groupby('group')['active_diff'].mean()\n",
    "observed_stat = means.loc['beer'] - means.loc['water']\n",
    "observed_stat"
   ]
  },
  {
   "cell_type": "markdown",
   "id": "3f36e0ea",
   "metadata": {},
   "source": [
    "Now we get ready to simulate in the null-world, using the same method as we did\n",
    "in [mosquitoes and labels](mosquito_labels.Rmd):\n"
   ]
  },
  {
   "cell_type": "code",
   "execution_count": null,
   "id": "a640cf10",
   "metadata": {},
   "outputs": [],
   "source": [
    "# The labels column we will permute.\n",
    "observed_groups = both['group']\n",
    "# The null-world DataFrame.\n",
    "fake_df = both.copy()"
   ]
  },
  {
   "cell_type": "markdown",
   "id": "1f26500a",
   "metadata": {},
   "source": [
    "The procedure for one trial (simulation):"
   ]
  },
  {
   "cell_type": "code",
   "execution_count": null,
   "id": "68411fc3",
   "metadata": {},
   "outputs": [],
   "source": [
    "fake_df['group'] = rng.permutation(observed_groups)\n",
    "fake_means = fake_df.groupby('group')['active_diff'].mean()\n",
    "fake_stat = fake_means['beer'] - fake_means['water']\n",
    "fake_stat"
   ]
  },
  {
   "cell_type": "markdown",
   "id": "b0d0797b",
   "metadata": {},
   "source": [
    "Building up the sampling distribution with many simulations:"
   ]
  },
  {
   "cell_type": "code",
   "execution_count": null,
   "id": "ed2b6bb3",
   "metadata": {},
   "outputs": [],
   "source": [
    "n_iters = 10000\n",
    "fake_stats = np.zeros(n_iters)\n",
    "for i in np.arange(n_iters):\n",
    "    fake_df['group'] = rng.permutation(observed_groups)\n",
    "    fake_means = fake_df.groupby('group')['active_diff'].mean()\n",
    "    fake_stats[i] = fake_means['beer'] - fake_means['water']\n",
    "fake_stats[:10]"
   ]
  },
  {
   "cell_type": "code",
   "execution_count": null,
   "id": "e3492211",
   "metadata": {},
   "outputs": [],
   "source": [
    "plt.hist(fake_stats, bins=50);\n",
    "plt.plot(observed_stat, 10, 'ro')\n",
    "plt.title(\"Sampling distribution of mean difference\");"
   ]
  },
  {
   "cell_type": "markdown",
   "id": "8326ba9c",
   "metadata": {},
   "source": [
    "The chance of seeing the observed statistic, or larger, in the sampling\n",
    "distribution, is small — we do have reason to doubt the null-model."
   ]
  },
  {
   "cell_type": "code",
   "execution_count": null,
   "id": "d8f9b683",
   "metadata": {},
   "outputs": [],
   "source": [
    "p = np.count_nonzero(fake_stats >= observed_stat) / n_iters\n",
    "p"
   ]
  }
 ],
 "metadata": {
  "jupytext": {
   "notebook_metadata_filter": "all,-language_info",
   "split_at_heading": true
  },
  "kernelspec": {
   "display_name": "Python (Pyodide)",
   "name": "python"
  },
  "orphan": true
 },
 "nbformat": 4,
 "nbformat_minor": 5
}
