{
 "cells": [
  {
   "cell_type": "markdown",
   "id": "6c856033",
   "metadata": {},
   "source": [
    "# Data frames, Series and arrays\n",
    "\n",
    "We have now come across three important structures that Python uses to store and access data:\n",
    "\n",
    "* arrays\n",
    "* data frames\n",
    "* series\n",
    "\n",
    "Here we stop to go back over the differences between these structures, and how to convert between them."
   ]
  },
  {
   "cell_type": "markdown",
   "id": "dfcfb80f",
   "metadata": {},
   "source": [
    "## Data frames"
   ]
  },
  {
   "cell_type": "markdown",
   "id": "754c0911",
   "metadata": {},
   "source": [
    "We start by loading a data frame from a Comma Separated Value file (CSV\n",
    "file).\n",
    "\n",
    "The data file we will load is a table with average\n",
    "<https://ratemyprofessors.com> scores across all professors teaching\n",
    "a particular academic discipline.\n",
    "\n",
    "See the [array indexing page](array_indexing) for more\n",
    "detail.\n",
    "\n",
    "Each row in this table corresponds to one *discipline*.  Each column corresponds to a different *rating*.\n",
    "\n",
    "If you are running on your laptop, you should download\n",
    "the {download}`rate_my_course.csv <data/rate_my_course.csv>`\n",
    "file to the same directory as this notebook."
   ]
  },
  {
   "cell_type": "code",
   "execution_count": null,
   "id": "97b3aedb",
   "metadata": {},
   "outputs": [],
   "source": [
    "# Load the Numpy library, rename to \"np\"\n",
    "import numpy as np\n",
    "\n",
    "# Load the Pandas data science library, rename to \"pd\"\n",
    "import pandas as pd\n",
    "# Turn on a setting to use Pandas more safely.\n",
    "# We will discuss this setting later.\n",
    "pd.set_option('mode.copy_on_write', True)"
   ]
  },
  {
   "cell_type": "code",
   "execution_count": null,
   "id": "230dc7d9",
   "metadata": {},
   "outputs": [],
   "source": [
    "# Read the file as a data frame.\n",
    "courses = pd.read_csv('data/rate_my_course.csv')"
   ]
  },
  {
   "cell_type": "code",
   "execution_count": null,
   "id": "221225ad",
   "metadata": {},
   "outputs": [],
   "source": [
    "# Show the first five rows.\n",
    "courses.head()"
   ]
  },
  {
   "cell_type": "markdown",
   "id": "e15f12ae",
   "metadata": {},
   "source": [
    "The `pd.read_csv` function returned this table in a structure called a *data frame*."
   ]
  },
  {
   "cell_type": "code",
   "execution_count": null,
   "id": "50021cd7",
   "metadata": {},
   "outputs": [],
   "source": [
    "type(courses)"
   ]
  },
  {
   "cell_type": "markdown",
   "id": "7de8c064",
   "metadata": {},
   "source": [
    "The data frame is a two-dimensional structure. It has rows, and columns.   We can see the number of rows and columns with:"
   ]
  },
  {
   "cell_type": "code",
   "execution_count": null,
   "id": "73d30636",
   "metadata": {},
   "outputs": [],
   "source": [
    "courses.shape"
   ]
  },
  {
   "cell_type": "markdown",
   "id": "d8f907e6",
   "metadata": {},
   "source": [
    "This means there are 75 rows.  In this case, each row corresponds to one\n",
    "discipline.\n",
    "\n",
    "There are 6 columns.  In this case, each column corresponds to a different student rating."
   ]
  },
  {
   "cell_type": "markdown",
   "id": "1870f34f",
   "metadata": {},
   "source": [
    "Passing the data frame to the Python `len` function shows us the number of rows:"
   ]
  },
  {
   "cell_type": "code",
   "execution_count": null,
   "id": "f84c8c1a",
   "metadata": {},
   "outputs": [],
   "source": [
    "len(courses)"
   ]
  },
  {
   "cell_type": "markdown",
   "id": "c53bf9e3",
   "metadata": {},
   "source": [
    "### Indexing into data frames"
   ]
  },
  {
   "cell_type": "markdown",
   "id": "fbcccad3",
   "metadata": {},
   "source": [
    "There are two simple ways of indexing into data frames.\n",
    "\n",
    "We index into a data frame to get a subset of of the data.\n",
    "\n",
    "To index into anything, we can give the name of thing - in this case `courses` - followed by an opening square bracket `[`, followed by something to specify which subset of the data we want, followed by a closing square bracket `]`.\n",
    "\n",
    "The two simple ways of indexing into a data frame are:\n",
    "\n",
    "* Indexing with a string to get a column.\n",
    "* Indexing with a Boolean sequence to get a subset of the rows."
   ]
  },
  {
   "cell_type": "markdown",
   "id": "18779249",
   "metadata": {},
   "source": [
    "When we index with a string, the string should be a column name:"
   ]
  },
  {
   "cell_type": "code",
   "execution_count": null,
   "id": "8e851c7c",
   "metadata": {},
   "outputs": [],
   "source": [
    "easiness = courses['Easiness']"
   ]
  },
  {
   "cell_type": "markdown",
   "id": "63db138c",
   "metadata": {},
   "source": [
    "The result is a *series*:"
   ]
  },
  {
   "cell_type": "code",
   "execution_count": null,
   "id": "87435068",
   "metadata": {},
   "outputs": [],
   "source": [
    "type(easiness)"
   ]
  },
  {
   "cell_type": "markdown",
   "id": "54fbbbc2",
   "metadata": {},
   "source": [
    "The Series is a structure that holds the data for a single column."
   ]
  },
  {
   "cell_type": "code",
   "execution_count": null,
   "id": "33dda254",
   "metadata": {},
   "outputs": [],
   "source": [
    "easiness"
   ]
  },
  {
   "cell_type": "markdown",
   "id": "fda69901",
   "metadata": {},
   "source": [
    "We will come back to the Series soon.\n",
    "\n",
    "Notice that, if your string specifying the column name does not match a column name exactly, you will get a long error.   This gives you some practice in reading long error messages - skip to the end first, you will often see the most helpful information there."
   ]
  },
  {
   "cell_type": "code",
   "execution_count": null,
   "id": "ca59d9a1",
   "metadata": {
    "tags": [
     "raises-exception"
    ]
   },
   "outputs": [],
   "source": [
    "# The exact column name starts with capital E\n",
    "courses['easiness']"
   ]
  },
  {
   "cell_type": "markdown",
   "id": "404422b4",
   "metadata": {},
   "source": [
    "You have just seen indexing into the data frame with a string to get the data for one column.\n",
    "\n",
    "The other simple way of indexing into a data frame is with a Boolean sequence.\n",
    "\n",
    "A Boolean sequence is a sequence of values, all of which are either True or False.  Examples of sequences are series and arrays."
   ]
  },
  {
   "cell_type": "markdown",
   "id": "dd05256d",
   "metadata": {},
   "source": [
    "For example, imagine we only wanted to look at courses with an easiness rating of greater than 3.25.\n",
    "\n",
    "We first make the Boolean sequence, by asking the question `> 3.25` of the values in the \"Easiness\" column, like this:"
   ]
  },
  {
   "cell_type": "code",
   "execution_count": null,
   "id": "47d104a9",
   "metadata": {},
   "outputs": [],
   "source": [
    "is_easy = easiness > 3.25"
   ]
  },
  {
   "cell_type": "markdown",
   "id": "fac7ce40",
   "metadata": {},
   "source": [
    "This is a series that has True and False values:"
   ]
  },
  {
   "cell_type": "code",
   "execution_count": null,
   "id": "00e01ef3",
   "metadata": {},
   "outputs": [],
   "source": [
    "type(is_easy)"
   ]
  },
  {
   "cell_type": "code",
   "execution_count": null,
   "id": "03b4aefe",
   "metadata": {},
   "outputs": [],
   "source": [
    "is_easy"
   ]
  },
  {
   "cell_type": "markdown",
   "id": "90c43acb",
   "metadata": {},
   "source": [
    "It has True values where the corresponding row had an \"Easiness\" score greater than 3.25, and False values where the corresponding row had an \"Easiness\" score of less than or equal to 3.25."
   ]
  },
  {
   "cell_type": "markdown",
   "id": "a09c80df",
   "metadata": {},
   "source": [
    "We can index into the data frame with this Boolean series.\n",
    "\n",
    "When we do this, we ask the data frame to give us a new version of itself, that only has the rows where there was a True value in the Boolean series:"
   ]
  },
  {
   "cell_type": "code",
   "execution_count": null,
   "id": "c19dcc47",
   "metadata": {},
   "outputs": [],
   "source": [
    "easy_courses = courses[is_easy]"
   ]
  },
  {
   "cell_type": "markdown",
   "id": "4118b392",
   "metadata": {},
   "source": [
    "The result is a data frame:"
   ]
  },
  {
   "cell_type": "code",
   "execution_count": null,
   "id": "9df8fff2",
   "metadata": {},
   "outputs": [],
   "source": [
    "type(easy_courses)"
   ]
  },
  {
   "cell_type": "markdown",
   "id": "0a13d32b",
   "metadata": {},
   "source": [
    "The data frame contains only the rows where the \"Easiness\" score is greater than 3.25:"
   ]
  },
  {
   "cell_type": "code",
   "execution_count": null,
   "id": "3dc2fb87",
   "metadata": {},
   "outputs": [],
   "source": [
    "easy_courses"
   ]
  },
  {
   "cell_type": "markdown",
   "id": "9ff70551",
   "metadata": {},
   "source": [
    "The way this works can be easier to see when we use a smaller data frame.\n",
    "\n",
    "Here we take the first eight rows from the data frame, by using the `head` method.\n",
    "\n",
    "The `head` method can take an argument, which is the number of rows we want."
   ]
  },
  {
   "cell_type": "code",
   "execution_count": null,
   "id": "ee64ca5d",
   "metadata": {},
   "outputs": [],
   "source": [
    "first_8 = courses.head(8)"
   ]
  },
  {
   "cell_type": "markdown",
   "id": "9bce0445",
   "metadata": {},
   "source": [
    "The result is a new data frame:"
   ]
  },
  {
   "cell_type": "code",
   "execution_count": null,
   "id": "067bf4da",
   "metadata": {},
   "outputs": [],
   "source": [
    "type(first_8)"
   ]
  },
  {
   "cell_type": "code",
   "execution_count": null,
   "id": "a8cc8d2d",
   "metadata": {},
   "outputs": [],
   "source": [
    "first_8"
   ]
  },
  {
   "cell_type": "markdown",
   "id": "1797a394",
   "metadata": {},
   "source": [
    "We index into the new data frame with a string, to get the \"Easiness\" column:"
   ]
  },
  {
   "cell_type": "code",
   "execution_count": null,
   "id": "203f21bf",
   "metadata": {},
   "outputs": [],
   "source": [
    "easiness_first_8 = first_8[\"Easiness\"]\n",
    "easiness_first_8"
   ]
  },
  {
   "cell_type": "markdown",
   "id": "2f75a9eb",
   "metadata": {},
   "source": [
    "This Boolean series has True where the \"Easiness\" score is greater than 3.25, and False otherwise:"
   ]
  },
  {
   "cell_type": "code",
   "execution_count": null,
   "id": "5c3f659f",
   "metadata": {},
   "outputs": [],
   "source": [
    "is_easy_first_8 = easiness_first_8 > 3.25\n",
    "is_easy_first_8"
   ]
  },
  {
   "cell_type": "markdown",
   "id": "b466ca62",
   "metadata": {},
   "source": [
    "We index into the `first_8` data frame with this Boolean series, to select the rows where `is_easy_first_8` has True, and throw away the rows where it has False."
   ]
  },
  {
   "cell_type": "code",
   "execution_count": null,
   "id": "78675e1a",
   "metadata": {},
   "outputs": [],
   "source": [
    "easy_first_8 = first_8[is_easy_first_8]\n",
    "easy_first_8"
   ]
  },
  {
   "cell_type": "markdown",
   "id": "a098b2e6",
   "metadata": {},
   "source": [
    "Oh dear, Psychology looks pretty easy."
   ]
  },
  {
   "cell_type": "markdown",
   "id": "aad6138c",
   "metadata": {},
   "source": [
    "## Series and array"
   ]
  },
  {
   "cell_type": "markdown",
   "id": "c80eff73",
   "metadata": {},
   "source": [
    "The series, as you have seen, is the structure that Pandas uses to store the data from a column:"
   ]
  },
  {
   "cell_type": "code",
   "execution_count": null,
   "id": "6b2993c7",
   "metadata": {},
   "outputs": [],
   "source": [
    "first_8"
   ]
  },
  {
   "cell_type": "code",
   "execution_count": null,
   "id": "10566a9c",
   "metadata": {},
   "outputs": [],
   "source": [
    "easiness_first_8 = first_8[\"Easiness\"]\n",
    "easiness_first_8"
   ]
  },
  {
   "cell_type": "markdown",
   "id": "9e1597ea",
   "metadata": {},
   "source": [
    "You can index into a series, but this indexing is powerful and sophisticated, so we will not use that for now.\n",
    "\n",
    "For now, you can convert the series to an array, like this:"
   ]
  },
  {
   "cell_type": "code",
   "execution_count": null,
   "id": "0c1a3c13",
   "metadata": {},
   "outputs": [],
   "source": [
    "easi_8 = np.array(easiness_first_8)\n",
    "easi_8"
   ]
  },
  {
   "cell_type": "markdown",
   "id": "2296855f",
   "metadata": {},
   "source": [
    "Then you can use the usual [array indexing](array_indexing) to get\n",
    "the values you want:"
   ]
  },
  {
   "cell_type": "code",
   "execution_count": null,
   "id": "fd1bf2b8",
   "metadata": {},
   "outputs": [],
   "source": [
    "# The first value\n",
    "easi_8[0]"
   ]
  },
  {
   "cell_type": "code",
   "execution_count": null,
   "id": "ed7472f0",
   "metadata": {},
   "outputs": [],
   "source": [
    "# The first five values\n",
    "easi_8[:5]"
   ]
  },
  {
   "cell_type": "markdown",
   "id": "5a18fc34",
   "metadata": {},
   "source": [
    "You can think of a data frame as sequence of columns, where each column is series.\n",
    "\n",
    "Here I take two columns from the data frame, as series:"
   ]
  },
  {
   "cell_type": "code",
   "execution_count": null,
   "id": "72397b2d",
   "metadata": {},
   "outputs": [],
   "source": [
    "disciplines = first_8['Discipline']\n",
    "disciplines"
   ]
  },
  {
   "cell_type": "code",
   "execution_count": null,
   "id": "b3579e01",
   "metadata": {},
   "outputs": [],
   "source": [
    "clarity = first_8['Clarity']\n",
    "clarity"
   ]
  },
  {
   "cell_type": "markdown",
   "id": "6928ed50",
   "metadata": {},
   "source": [
    "I can make a new data frame by inserting these two columns:"
   ]
  },
  {
   "cell_type": "code",
   "execution_count": null,
   "id": "da37120c",
   "metadata": {},
   "outputs": [],
   "source": [
    "# A new data frame\n",
    "thinner_courses = pd.DataFrame()\n",
    "# We will come to the need for the `copy` later.\n",
    "thinner_courses['Discipline'] = disciplines\n",
    "thinner_courses['Clarity'] = clarity\n",
    "thinner_courses"
   ]
  }
 ],
 "metadata": {
  "jupytext": {
   "split_at_heading": true
  },
  "kernelspec": {
   "display_name": "Python (Pyodide)",
   "name": "python"
  },
  "orphan": true
 },
 "nbformat": 4,
 "nbformat_minor": 5
}
