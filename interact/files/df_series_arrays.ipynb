{
 "cells": [
  {
   "cell_type": "markdown",
   "id": "54a40384",
   "metadata": {},
   "source": [
    "# Data frames, Series and arrays\n",
    "\n",
    "We have now come across three important structures that Python uses to store and access data:\n",
    "\n",
    "* arrays\n",
    "* data frames\n",
    "* series\n",
    "\n",
    "Here we stop to go back over the differences between these structures, and how to convert between them."
   ]
  },
  {
   "cell_type": "markdown",
   "id": "df2a3616",
   "metadata": {},
   "source": [
    "## Data frames"
   ]
  },
  {
   "cell_type": "markdown",
   "id": "ac5180cd",
   "metadata": {},
   "source": [
    "We start by loading a data frame from a Comma Separated Value file (CSV\n",
    "file).\n",
    "\n",
    "The data file we will load is a table with average\n",
    "<https://ratemyprofessors.com> scores across all professors teaching\n",
    "a particular academic discipline.\n",
    "\n",
    "See the [array indexing page](array_indexing) for more\n",
    "detail.\n",
    "\n",
    "Each row in this table corresponds to one *discipline*.  Each column corresponds to a different *rating*.\n",
    "\n",
    "If you are running on your laptop, you should download\n",
    "the {download}`rate_my_course.csv <data/rate_my_course.csv>`\n",
    "file to the same directory as this notebook."
   ]
  },
  {
   "cell_type": "code",
   "execution_count": null,
   "id": "1d851bad",
   "metadata": {},
   "outputs": [],
   "source": [
    "# Load the Numpy library, rename to \"np\"\n",
    "import numpy as np\n",
    "\n",
    "# Load the Pandas data science library, rename to \"pd\"\n",
    "import pandas as pd\n",
    "# Turn on a setting to use Pandas more safely.\n",
    "# We will discuss this setting later.\n",
    "pd.set_option('mode.copy_on_write', True)"
   ]
  },
  {
   "cell_type": "code",
   "execution_count": null,
   "id": "7f477397",
   "metadata": {},
   "outputs": [],
   "source": [
    "# Read the file as a data frame.\n",
    "courses = pd.read_csv('data/rate_my_course.csv')"
   ]
  },
  {
   "cell_type": "code",
   "execution_count": null,
   "id": "05195e53",
   "metadata": {},
   "outputs": [],
   "source": [
    "# Show the first five rows.\n",
    "courses.head()"
   ]
  },
  {
   "cell_type": "markdown",
   "id": "0d06aa75",
   "metadata": {},
   "source": [
    "The `pd.read_csv` function returned this table in a structure called a *data frame*."
   ]
  },
  {
   "cell_type": "code",
   "execution_count": null,
   "id": "f2d846d3",
   "metadata": {},
   "outputs": [],
   "source": [
    "type(courses)"
   ]
  },
  {
   "cell_type": "markdown",
   "id": "3bb3dac6",
   "metadata": {},
   "source": [
    "The data frame is a two-dimensional structure. It has rows, and columns.   We can see the number of rows and columns with:"
   ]
  },
  {
   "cell_type": "code",
   "execution_count": null,
   "id": "a679bef2",
   "metadata": {},
   "outputs": [],
   "source": [
    "courses.shape"
   ]
  },
  {
   "cell_type": "markdown",
   "id": "768c91da",
   "metadata": {},
   "source": [
    "This means there are 75 rows.  In this case, each row corresponds to one\n",
    "discipline.\n",
    "\n",
    "There are 6 columns.  In this case, each column corresponds to a different student rating."
   ]
  },
  {
   "cell_type": "markdown",
   "id": "42b5b1b9",
   "metadata": {},
   "source": [
    "Passing the data frame to the Python `len` function shows us the number of rows:"
   ]
  },
  {
   "cell_type": "code",
   "execution_count": null,
   "id": "68ed37aa",
   "metadata": {},
   "outputs": [],
   "source": [
    "len(courses)"
   ]
  },
  {
   "cell_type": "markdown",
   "id": "7de9aa89",
   "metadata": {},
   "source": [
    "### Indexing into data frames"
   ]
  },
  {
   "cell_type": "markdown",
   "id": "482b9457",
   "metadata": {},
   "source": [
    "There are two simple ways of indexing into data frames.\n",
    "\n",
    "We index into a data frame to get a subset of of the data.\n",
    "\n",
    "To index into anything, we can give the name of thing - in this case `courses` - followed by an opening square bracket `[`, followed by something to specify which subset of the data we want, followed by a closing square bracket `]`.\n",
    "\n",
    "The two simple ways of indexing into a data frame are:\n",
    "\n",
    "* Indexing with a string to get a column.\n",
    "* Indexing with a Boolean sequence to get a subset of the rows."
   ]
  },
  {
   "cell_type": "markdown",
   "id": "cdbe5950",
   "metadata": {},
   "source": [
    "When we index with a string, the string should be a column name:"
   ]
  },
  {
   "cell_type": "code",
   "execution_count": null,
   "id": "a754464d",
   "metadata": {},
   "outputs": [],
   "source": [
    "easiness = courses['Easiness']"
   ]
  },
  {
   "cell_type": "markdown",
   "id": "c192525b",
   "metadata": {},
   "source": [
    "The result is a *series*:"
   ]
  },
  {
   "cell_type": "code",
   "execution_count": null,
   "id": "4f53bf36",
   "metadata": {},
   "outputs": [],
   "source": [
    "type(easiness)"
   ]
  },
  {
   "cell_type": "markdown",
   "id": "c0819fa2",
   "metadata": {},
   "source": [
    "The Series is a structure that holds the data for a single column."
   ]
  },
  {
   "cell_type": "code",
   "execution_count": null,
   "id": "23870c8f",
   "metadata": {},
   "outputs": [],
   "source": [
    "easiness"
   ]
  },
  {
   "cell_type": "markdown",
   "id": "c7129c38",
   "metadata": {},
   "source": [
    "We will come back to the Series soon.\n",
    "\n",
    "Notice that, if your string specifying the column name does not match a column name exactly, you will get a long error.   This gives you some practice in reading long error messages - skip to the end first, you will often see the most helpful information there."
   ]
  },
  {
   "cell_type": "code",
   "execution_count": null,
   "id": "48f853fb",
   "metadata": {
    "tags": [
     "raises-exception"
    ]
   },
   "outputs": [],
   "source": [
    "# The exact column name starts with capital E\n",
    "courses['easiness']"
   ]
  },
  {
   "cell_type": "markdown",
   "id": "a0172c76",
   "metadata": {},
   "source": [
    "You have just seen indexing into the data frame with a string to get the data for one column.\n",
    "\n",
    "The other simple way of indexing into a data frame is with a Boolean sequence.\n",
    "\n",
    "A Boolean sequence is a sequence of values, all of which are either True or False.  Examples of sequences are series and arrays."
   ]
  },
  {
   "cell_type": "markdown",
   "id": "b401ca66",
   "metadata": {},
   "source": [
    "For example, imagine we only wanted to look at courses with an easiness rating of greater than 3.25.\n",
    "\n",
    "We first make the Boolean sequence, by asking the question `> 3.25` of the values in the \"Easiness\" column, like this:"
   ]
  },
  {
   "cell_type": "code",
   "execution_count": null,
   "id": "35d7a9f7",
   "metadata": {},
   "outputs": [],
   "source": [
    "is_easy = easiness > 3.25"
   ]
  },
  {
   "cell_type": "markdown",
   "id": "ba3a0ea5",
   "metadata": {},
   "source": [
    "This is a series that has True and False values:"
   ]
  },
  {
   "cell_type": "code",
   "execution_count": null,
   "id": "13459a98",
   "metadata": {},
   "outputs": [],
   "source": [
    "type(is_easy)"
   ]
  },
  {
   "cell_type": "code",
   "execution_count": null,
   "id": "97978c82",
   "metadata": {},
   "outputs": [],
   "source": [
    "is_easy"
   ]
  },
  {
   "cell_type": "markdown",
   "id": "8f5a2f8e",
   "metadata": {},
   "source": [
    "It has True values where the corresponding row had an \"Easiness\" score greater than 3.25, and False values where the corresponding row had an \"Easiness\" score of less than or equal to 3.25."
   ]
  },
  {
   "cell_type": "markdown",
   "id": "c628b4d1",
   "metadata": {},
   "source": [
    "We can index into the data frame with this Boolean series.\n",
    "\n",
    "When we do this, we ask the data frame to give us a new version of itself, that only has the rows where there was a True value in the Boolean series:"
   ]
  },
  {
   "cell_type": "code",
   "execution_count": null,
   "id": "3da02688",
   "metadata": {},
   "outputs": [],
   "source": [
    "easy_courses = courses[is_easy]"
   ]
  },
  {
   "cell_type": "markdown",
   "id": "edf799f6",
   "metadata": {},
   "source": [
    "The result is a data frame:"
   ]
  },
  {
   "cell_type": "code",
   "execution_count": null,
   "id": "a3a97fb3",
   "metadata": {},
   "outputs": [],
   "source": [
    "type(easy_courses)"
   ]
  },
  {
   "cell_type": "markdown",
   "id": "da6e0577",
   "metadata": {},
   "source": [
    "The data frame contains only the rows where the \"Easiness\" score is greater than 3.25:"
   ]
  },
  {
   "cell_type": "code",
   "execution_count": null,
   "id": "d7cbe6da",
   "metadata": {},
   "outputs": [],
   "source": [
    "easy_courses"
   ]
  },
  {
   "cell_type": "markdown",
   "id": "93e80f49",
   "metadata": {},
   "source": [
    "The way this works can be easier to see when we use a smaller data frame.\n",
    "\n",
    "Here we take the first eight rows from the data frame, by using the `head` method.\n",
    "\n",
    "The `head` method can take an argument, which is the number of rows we want."
   ]
  },
  {
   "cell_type": "code",
   "execution_count": null,
   "id": "f4803dd0",
   "metadata": {},
   "outputs": [],
   "source": [
    "first_8 = courses.head(8)"
   ]
  },
  {
   "cell_type": "markdown",
   "id": "73a06ca5",
   "metadata": {},
   "source": [
    "The result is a new data frame:"
   ]
  },
  {
   "cell_type": "code",
   "execution_count": null,
   "id": "b16660cf",
   "metadata": {},
   "outputs": [],
   "source": [
    "type(first_8)"
   ]
  },
  {
   "cell_type": "code",
   "execution_count": null,
   "id": "68f77974",
   "metadata": {},
   "outputs": [],
   "source": [
    "first_8"
   ]
  },
  {
   "cell_type": "markdown",
   "id": "5460c9ff",
   "metadata": {},
   "source": [
    "We index into the new data frame with a string, to get the \"Easiness\" column:"
   ]
  },
  {
   "cell_type": "code",
   "execution_count": null,
   "id": "8a811ffb",
   "metadata": {},
   "outputs": [],
   "source": [
    "easiness_first_8 = first_8[\"Easiness\"]\n",
    "easiness_first_8"
   ]
  },
  {
   "cell_type": "markdown",
   "id": "f7aa6723",
   "metadata": {},
   "source": [
    "This Boolean series has True where the \"Easiness\" score is greater than 3.25, and False otherwise:"
   ]
  },
  {
   "cell_type": "code",
   "execution_count": null,
   "id": "10abb6ca",
   "metadata": {},
   "outputs": [],
   "source": [
    "is_easy_first_8 = easiness_first_8 > 3.25\n",
    "is_easy_first_8"
   ]
  },
  {
   "cell_type": "markdown",
   "id": "7014806d",
   "metadata": {},
   "source": [
    "We index into the `first_8` data frame with this Boolean series, to select the rows where `is_easy_first_8` has True, and throw away the rows where it has False."
   ]
  },
  {
   "cell_type": "code",
   "execution_count": null,
   "id": "8129f116",
   "metadata": {},
   "outputs": [],
   "source": [
    "easy_first_8 = first_8[is_easy_first_8]\n",
    "easy_first_8"
   ]
  },
  {
   "cell_type": "markdown",
   "id": "7153cf17",
   "metadata": {},
   "source": [
    "Oh dear, Psychology looks pretty easy."
   ]
  },
  {
   "cell_type": "markdown",
   "id": "803a33e8",
   "metadata": {},
   "source": [
    "## Series and array"
   ]
  },
  {
   "cell_type": "markdown",
   "id": "742543f6",
   "metadata": {},
   "source": [
    "The series, as you have seen, is the structure that Pandas uses to store the data from a column:"
   ]
  },
  {
   "cell_type": "code",
   "execution_count": null,
   "id": "98d0247f",
   "metadata": {},
   "outputs": [],
   "source": [
    "first_8"
   ]
  },
  {
   "cell_type": "code",
   "execution_count": null,
   "id": "03e4ec12",
   "metadata": {},
   "outputs": [],
   "source": [
    "easiness_first_8 = first_8[\"Easiness\"]\n",
    "easiness_first_8"
   ]
  },
  {
   "cell_type": "markdown",
   "id": "8c3f8653",
   "metadata": {},
   "source": [
    "You can index into a series, but this indexing is powerful and sophisticated, so we will not use that for now.\n",
    "\n",
    "For now, you can convert the series to an array, like this:"
   ]
  },
  {
   "cell_type": "code",
   "execution_count": null,
   "id": "9969b739",
   "metadata": {},
   "outputs": [],
   "source": [
    "easi_8 = np.array(easiness_first_8)\n",
    "easi_8"
   ]
  },
  {
   "cell_type": "markdown",
   "id": "4689e0fd",
   "metadata": {},
   "source": [
    "Then you can use the usual [array indexing](array_indexing) to get\n",
    "the values you want:"
   ]
  },
  {
   "cell_type": "code",
   "execution_count": null,
   "id": "d026a754",
   "metadata": {},
   "outputs": [],
   "source": [
    "# The first value\n",
    "easi_8[0]"
   ]
  },
  {
   "cell_type": "code",
   "execution_count": null,
   "id": "4d831d0d",
   "metadata": {},
   "outputs": [],
   "source": [
    "# The first five values\n",
    "easi_8[:5]"
   ]
  },
  {
   "cell_type": "markdown",
   "id": "65be172b",
   "metadata": {},
   "source": [
    "You can think of a data frame as sequence of columns, where each column is series.\n",
    "\n",
    "Here I take two columns from the data frame, as series:"
   ]
  },
  {
   "cell_type": "code",
   "execution_count": null,
   "id": "fd51463e",
   "metadata": {},
   "outputs": [],
   "source": [
    "disciplines = first_8['Discipline']\n",
    "disciplines"
   ]
  },
  {
   "cell_type": "code",
   "execution_count": null,
   "id": "3b4008b8",
   "metadata": {},
   "outputs": [],
   "source": [
    "clarity = first_8['Clarity']\n",
    "clarity"
   ]
  },
  {
   "cell_type": "markdown",
   "id": "1d379c19",
   "metadata": {},
   "source": [
    "I can make a new data frame by inserting these two columns:"
   ]
  },
  {
   "cell_type": "code",
   "execution_count": null,
   "id": "a664fadf",
   "metadata": {},
   "outputs": [],
   "source": [
    "# A new data frame\n",
    "thinner_courses = pd.DataFrame()\n",
    "# We will come to the need for the `copy` later.\n",
    "thinner_courses['Discipline'] = disciplines\n",
    "thinner_courses['Clarity'] = clarity\n",
    "thinner_courses"
   ]
  }
 ],
 "metadata": {
  "jupytext": {
   "split_at_heading": true
  },
  "kernelspec": {
   "display_name": "Python (Pyodide)",
   "name": "python"
  },
  "orphan": true
 },
 "nbformat": 4,
 "nbformat_minor": 5
}
