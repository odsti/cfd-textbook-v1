{
 "cells": [
  {
   "cell_type": "markdown",
   "id": "68805369",
   "metadata": {},
   "source": [
    "# Missing values\n",
    "\n",
    "<!---\n",
    "Expand here.\n",
    "-->"
   ]
  },
  {
   "cell_type": "code",
   "execution_count": null,
   "id": "2ff6e812",
   "metadata": {},
   "outputs": [],
   "source": [
    "# Load the Numpy array library, call it 'np'\n",
    "import numpy as np\n",
    "# Load the Pandas data science library, call it 'pd'\n",
    "import pandas as pd\n",
    "# Turn on a setting to use Pandas more safely.\n",
    "pd.set_option('mode.copy_on_write', True)"
   ]
  },
  {
   "cell_type": "markdown",
   "id": "d775038e",
   "metadata": {},
   "source": [
    "If you are running on your laptop, you should download the\n",
    "{download}`gender_stats_min.csv <data/gender_stats_min.csv>` file to the same\n",
    "directory as this notebook.\n",
    "\n",
    "See the [gender statistics description page](data/gender_stats) for more detail on the dataset."
   ]
  },
  {
   "cell_type": "code",
   "execution_count": null,
   "id": "1e1fc40a",
   "metadata": {},
   "outputs": [],
   "source": [
    "# Load the data file\n",
    "gender_data = pd.read_csv('data/gender_stats_min.csv')\n",
    "gender_data.head()"
   ]
  },
  {
   "cell_type": "code",
   "execution_count": null,
   "id": "a869f70e",
   "metadata": {},
   "outputs": [],
   "source": [
    "# Get the GDP values as a Pandas Series\n",
    "gdp = gender_data['gdp_us_billion']\n",
    "gdp.head()"
   ]
  },
  {
   "cell_type": "markdown",
   "id": "cef5db67",
   "metadata": {},
   "source": [
    "## Missing values and `NaN`\n",
    "\n",
    "Looking at the values of `gdp` (and therefore, the values of the\n",
    "`gdp_us_billion` column of `gender_data`, we see that some of the values are\n",
    "`NaN`, which means Not a Number.  Pandas uses this marker to indicate values\n",
    "that are not available, or *missing data*.\n",
    "\n",
    "Numpy does not like to calculate with `NaN` values.  Here is Numpy trying to\n",
    "calculate the median of the `gdp` values."
   ]
  },
  {
   "cell_type": "code",
   "execution_count": null,
   "id": "d70439a9",
   "metadata": {},
   "outputs": [],
   "source": [
    "np.median(gdp)"
   ]
  },
  {
   "cell_type": "markdown",
   "id": "52962b7c",
   "metadata": {},
   "source": [
    "Notice the warning about an invalid value.\n",
    "\n",
    "Numpy recognizes that one or more values are `NaN` and refuses to guess what to do, when calculating the median."
   ]
  },
  {
   "cell_type": "markdown",
   "id": "f10cc929",
   "metadata": {},
   "source": [
    "You saw from the shape above that `gender_data` has 216 rows.  We can use the\n",
    "general Python `len` function, to see how many elements there are in `gdp`."
   ]
  },
  {
   "cell_type": "code",
   "execution_count": null,
   "id": "adc1e517",
   "metadata": {},
   "outputs": [],
   "source": [
    "len(gdp)"
   ]
  },
  {
   "cell_type": "markdown",
   "id": "efc485ba",
   "metadata": {},
   "source": [
    "As expected, it has the same number of elements as there are rows in `gender_data`.\n",
    "\n",
    "The `count` method of the series gives the number of values that are *not\n",
    "missing* - that is - not `NaN`."
   ]
  },
  {
   "cell_type": "code",
   "execution_count": null,
   "id": "2065ab65",
   "metadata": {},
   "outputs": [],
   "source": [
    "gdp.count()"
   ]
  }
 ],
 "metadata": {
  "jupyterbook": {
   "show_stderr": true
  },
  "jupytext": {
   "formats": "",
   "notebook_metadata_filter": "jupyterbook",
   "split_at_heading": true
  },
  "kernelspec": {
   "display_name": "Python (Pyodide)",
   "name": "python"
  }
 },
 "nbformat": 4,
 "nbformat_minor": 5
}
