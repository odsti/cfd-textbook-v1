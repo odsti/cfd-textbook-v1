{
 "cells": [
  {
   "cell_type": "markdown",
   "id": "09e295e9",
   "metadata": {},
   "source": [
    "# Strings, variables and expressions\n",
    "\n",
    "You remember that the following line of code is an *expression* - a recipe that returns a value:"
   ]
  },
  {
   "cell_type": "code",
   "execution_count": null,
   "id": "02517b87",
   "metadata": {},
   "outputs": [],
   "source": [
    "10.50"
   ]
  },
  {
   "cell_type": "markdown",
   "id": "25ff49d8",
   "metadata": {},
   "source": [
    "We can see that this is an expression, because Jupyter displayed a text\n",
    "representation of the value that results: `10.5`.\n",
    "\n",
    "In fact the expression `10.50` is called a *float literal*.\n",
    "\n",
    "Now consider this expression:"
   ]
  },
  {
   "cell_type": "code",
   "execution_count": null,
   "id": "91364506",
   "metadata": {},
   "outputs": [],
   "source": [
    "\"Magneto\""
   ]
  },
  {
   "cell_type": "markdown",
   "id": "f97f5149",
   "metadata": {},
   "source": [
    "It is a recipe that returns a value.  In this case the value is Python's\n",
    "internal representation of the fragment of text \"Magneto\".\n",
    "\n",
    "We can store the result of the expression in a variable, using an *assignment\n",
    "statement*.\n",
    "\n",
    "An assignment statement has a *variable name* on the left hand side, then an equals sign\n",
    "`=`, followed by an expression on the right hand side."
   ]
  },
  {
   "cell_type": "code",
   "execution_count": null,
   "id": "a80bf212",
   "metadata": {},
   "outputs": [],
   "source": [
    "villain = \"Magneto\"\n",
    "# Show the value\n",
    "villain"
   ]
  },
  {
   "cell_type": "markdown",
   "id": "81af2afb",
   "metadata": {},
   "source": [
    "Notice the distinction between a *variable name* (no quotes) and the *string\n",
    "literal* (surrounded by quotes).   A variable name is a name that refers to a\n",
    "value.  It has to follow the rules of variable names.  A string literal is an\n",
    "expression, that evaluates to Python's representation of text.\n",
    "\n",
    "Recall that an assignment is a name on the left hand side, an `=`, and an\n",
    "expression on the right hand side.  So, what is wrong with this assignment\n",
    "statement (in fact, there are two things wrong)?  Think how you would explain\n",
    "what is wrong.  Then make a new cell (Cell menu item, Add Cell Below), copy the\n",
    "code into the cell, and see what Python says.  Is that what you expected?\n",
    "\n",
    "```python\n",
    "\"goodie\" = Professor X\n",
    "```\n",
    "\n",
    "Now fix the cell above so the variable `goodie` gets the value of the text\n",
    "fragment \"Professor X\"."
   ]
  }
 ],
 "metadata": {
  "jupytext": {
   "notebook_metadata_filter": "language_info"
  },
  "kernelspec": {
   "display_name": "Python (Pyodide)",
   "name": "python"
  },
  "language_info": {
   "codemirror_mode": {
    "name": "ipython",
    "version": 3
   },
   "file_extension": ".py",
   "mimetype": "text/x-python",
   "name": "python",
   "nbconvert_exporter": "python",
   "pygments_lexer": "ipython3",
   "version": "3.6.5"
  }
 },
 "nbformat": 4,
 "nbformat_minor": 5
}
