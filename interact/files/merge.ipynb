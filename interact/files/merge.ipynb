{
 "cells": [
  {
   "cell_type": "markdown",
   "id": "97687d6a",
   "metadata": {},
   "source": [
    "# Merging"
   ]
  },
  {
   "cell_type": "code",
   "execution_count": null,
   "id": "bb15353a",
   "metadata": {
    "tags": [
     "hide-cell"
    ]
   },
   "outputs": [],
   "source": [
    "# Don't change this cell; just run it.\n",
    "import numpy as np\n",
    "import pandas as pd\n",
    "# Safe setting for Pandas.  Needs Pandas version >= 1.5.\n",
    "pd.set_option('mode.copy_on_write', True)\n",
    "import matplotlib.pyplot as plt\n",
    "# Make the plots look more fancy.\n",
    "plt.style.use('fivethirtyeight')"
   ]
  },
  {
   "cell_type": "markdown",
   "id": "64018760",
   "metadata": {},
   "source": [
    "{ucb-page}`Joining_Tables_by_Columns`\n",
    "\n",
    "Often, data about the same individuals is maintained in more than one table.\n",
    "For example, one university office might have data about each student's time\n",
    "to completion of degree, while another has data about the student's tuition\n",
    "and financial aid.\n",
    "\n",
    "To understand the students' experience, it may be helpful to put the two\n",
    "datasets together. If the data are in two tables, each with one row per\n",
    "student, then we would want to put the columns together, making sure to match\n",
    "the rows so that each student's information remains on a single row.\n",
    "\n",
    "Let us do this in the context of a simple example, and then use the method\n",
    "with a larger dataset."
   ]
  },
  {
   "cell_type": "markdown",
   "id": "fb339648",
   "metadata": {},
   "source": [
    "Suppose we have a data frame for different flavors of ice cream.  Each flavor\n",
    "of ice cream comes with a rating that is in a separate table."
   ]
  },
  {
   "cell_type": "code",
   "execution_count": null,
   "id": "099a52bd",
   "metadata": {},
   "outputs": [],
   "source": [
    "cones = pd.DataFrame()\n",
    "cones['Flavor'] = ['strawberry', 'vanilla', 'chocolate', 'strawberry',\n",
    "                   'chocolate']\n",
    "cones['Price'] = [3.55, 4.75, 6.55, 5.25, 5.75]\n",
    "cones"
   ]
  },
  {
   "cell_type": "code",
   "execution_count": null,
   "id": "37050293",
   "metadata": {},
   "outputs": [],
   "source": [
    "ratings = pd.DataFrame()\n",
    "ratings['Flavor'] = ['strawberry', 'chocolate', 'vanilla']\n",
    "ratings['Stars'] = [2.5, 3.5, 4]\n",
    "ratings"
   ]
  },
  {
   "cell_type": "markdown",
   "id": "71534463",
   "metadata": {},
   "source": [
    "Each of the tables has a column that contains ice cream flavors. In both\n",
    "cases, the column has the name `Flavor`. The entries in these columns can be\n",
    "used to link the two tables.\n",
    "\n",
    "The method `merge` creates a new table in which each cone in the `cones` table\n",
    "is augmented with the Stars information in the `ratings` table.  For each cone\n",
    "in `cones`, `merge` finds a row in `ratings` whose `Flavor` matches the cone's\n",
    "`Flavor`. We have to tell `merge` to use the `Flavor` column for matching,\n",
    "using the `on` keyword argument."
   ]
  },
  {
   "cell_type": "code",
   "execution_count": null,
   "id": "4aa46215",
   "metadata": {},
   "outputs": [],
   "source": [
    "rated = cones.merge(ratings, on='Flavor')\n",
    "rated"
   ]
  },
  {
   "cell_type": "markdown",
   "id": "b436d569",
   "metadata": {},
   "source": [
    "Each cone now has not only its price but also the rating of its flavor.\n",
    "\n",
    "In general, a call to `merge` that augments a table (say `table1`) with\n",
    "information from another table (say `table2`) looks like this:\n",
    "\n",
    "```python\n",
    "table1.merge(table2, on=column_for_merging)\n",
    "```\n",
    "\n",
    "In the case above, the matching columns have the name column name: `Flavor`.\n",
    "\n",
    "This need not be so.   For example, let us rename the `Flavor` column in `ratings` to `Kind`:"
   ]
  },
  {
   "cell_type": "code",
   "execution_count": null,
   "id": "155c3d26",
   "metadata": {},
   "outputs": [],
   "source": [
    "# Rename the 'Flavor' column to 'Kind'\n",
    "ratings_renamed = ratings\n",
    "ratings_renamed.columns = ['Kind', 'Stars']\n",
    "ratings_renamed"
   ]
  },
  {
   "cell_type": "markdown",
   "id": "0c6cbb23",
   "metadata": {},
   "source": [
    "Now we have to tell `merge` the name of the column to merge on, for each data frame.  The first data frame (`cones` in our case) is called the *left* data frame.  The second (`ratings` in our case) is called the *right* data frame.  Now the columns have different names in the left and right data frame, we have to use the `left_on` and `right_on` keywords."
   ]
  },
  {
   "cell_type": "code",
   "execution_count": null,
   "id": "77098ce6",
   "metadata": {},
   "outputs": [],
   "source": [
    "rated_again = cones.merge(ratings_renamed, left_on='Flavor', right_on='Kind')\n",
    "rated_again"
   ]
  },
  {
   "cell_type": "markdown",
   "id": "9990896e",
   "metadata": {},
   "source": [
    "Here is a more general skeleton of a `merge` between `table1` and `table2`, where the corresponding columns may have different names:\n",
    "\n",
    "    table1.merge(table2, left_on=table1_column, right_on=table2_column)\n",
    "\n",
    "\n",
    "Now that we have done the merge, the new table `rated` (or `rated_again`)\n",
    "allows us to work out the price per star, which you can think of as an\n",
    "informal measure of value. Low values are good – they mean that you are paying\n",
    "less for each rating star."
   ]
  },
  {
   "cell_type": "code",
   "execution_count": null,
   "id": "52111436",
   "metadata": {},
   "outputs": [],
   "source": [
    "rated['$/Star'] = rated['Price'] / rated['Stars']\n",
    "rated.sort_values('$/Star').head(3)"
   ]
  },
  {
   "cell_type": "markdown",
   "id": "a4f7ecd2",
   "metadata": {},
   "source": [
    "Though strawberry has the lowest rating among the three flavors, the less\n",
    "expensive strawberry cone does well on this measure because it doesn't cost a\n",
    "lot per star."
   ]
  },
  {
   "cell_type": "markdown",
   "id": "6042ff32",
   "metadata": {},
   "source": [
    "Suppose there is a table of professional reviews of some ice cream cones, and\n",
    "we have found the average review for each flavor."
   ]
  },
  {
   "cell_type": "code",
   "execution_count": null,
   "id": "8852e00a",
   "metadata": {},
   "outputs": [],
   "source": [
    "reviews = pd.DataFrame()\n",
    "reviews['Flavor'] = ['vanilla', 'chocolate', 'vanilla', 'chocolate']\n",
    "reviews['ProfStars'] = [5, 3, 5, 4]\n",
    "reviews"
   ]
  },
  {
   "cell_type": "markdown",
   "id": "09bf1b80",
   "metadata": {},
   "source": [
    "Remember [group by](groupby):"
   ]
  },
  {
   "cell_type": "code",
   "execution_count": null,
   "id": "bfe8c03c",
   "metadata": {},
   "outputs": [],
   "source": [
    "average_review = reviews.groupby('Flavor').mean()\n",
    "average_review"
   ]
  },
  {
   "cell_type": "markdown",
   "id": "820c1626",
   "metadata": {},
   "source": [
    "Notice that the column that we grouped by — `Flavor` — has become the Index (row labels).\n",
    "\n",
    "We can merge `cones` and `average_review` by providing the labels of the\n",
    "columns by which to merge.  As you will see, Pandas treats the data frame Index\n",
    "as being a column, for this purpose.\n",
    "\n",
    "First we remind ourselves of the contents of `cones`:"
   ]
  },
  {
   "cell_type": "code",
   "execution_count": null,
   "id": "0b137886",
   "metadata": {},
   "outputs": [],
   "source": [
    "cones"
   ]
  },
  {
   "cell_type": "markdown",
   "id": "6b18ac26",
   "metadata": {},
   "source": [
    "Here is the result of the merge:"
   ]
  },
  {
   "cell_type": "code",
   "execution_count": null,
   "id": "84defacc",
   "metadata": {},
   "outputs": [],
   "source": [
    "cones.merge(average_review, left_on='Flavor', right_on='Flavor')"
   ]
  },
  {
   "cell_type": "markdown",
   "id": "637b92f2",
   "metadata": {},
   "source": [
    "Of course in this case the \"columns\" have the same name, and we can do the same\n",
    "thing with:"
   ]
  },
  {
   "cell_type": "code",
   "execution_count": null,
   "id": "cdb4c89b",
   "metadata": {},
   "outputs": [],
   "source": [
    "cones.merge(average_review, on='Flavor')"
   ]
  },
  {
   "cell_type": "markdown",
   "id": "5f8778da",
   "metadata": {},
   "source": [
    "Notice that `Flavor` is the Index (row labels) for `average_review`, but Pandas\n",
    "allows this, because it sees the Index name is `Flavor`, and treats it as a\n",
    "column.\n",
    "\n",
    "For this reason, merge can also merge with a Series, because the Series can\n",
    "have a name.  At the moment `average_review` is a Dataframe with one column:\n",
    "`ProfStars`.  We can pull out this column as a Series.  You may remember that\n",
    "the Series also gets the Index, and a name, from the column name:"
   ]
  },
  {
   "cell_type": "code",
   "execution_count": null,
   "id": "7f7024d5",
   "metadata": {},
   "outputs": [],
   "source": [
    "avg_rev_as_series = average_review['ProfStars']\n",
    "avg_rev_as_series"
   ]
  },
  {
   "cell_type": "markdown",
   "id": "8eb24225",
   "metadata": {},
   "source": [
    "Because this Series has a name: `Flavor`, and that is the name of its Index, we can do the same merge with this Series as we did with the Dataframe above:"
   ]
  },
  {
   "cell_type": "code",
   "execution_count": null,
   "id": "70102470",
   "metadata": {
    "lines_to_next_cell": 2
   },
   "outputs": [],
   "source": [
    "cones.merge(avg_rev_as_series, on='Flavor')"
   ]
  },
  {
   "cell_type": "markdown",
   "id": "dd9d2ed0",
   "metadata": {},
   "source": [
    "## What remains?\n",
    "\n",
    "Notice that, after our merge, the strawberry cones have disappeared. Merge is\n",
    "pursuing a particular strategy here, and that is to look for labels that match\n",
    "in the matching columns. None of the reviews are for strawberry cones, so there\n",
    "is nothing to which the `strawberry` rows can be merged. This might be what you\n",
    "want, or it might not be — that depends on the analysis we are trying to\n",
    "perform with the merged table.  If it is not what you want, you may want to ask\n",
    "merge to use a different strategy.\n"
   ]
  },
  {
   "cell_type": "markdown",
   "id": "64066d23",
   "metadata": {},
   "source": [
    "## Merge strategies\n",
    "\n",
    "Let us reflect further on the choice that merge made above, when it dropped the\n",
    "row for strawberry cones.  As you saw above, by default, `merge` looks for\n",
    "labels that are present in *both* of the matching columns.  This is the default\n",
    "merge strategy, called an *inner* merge.  We could also call this an\n",
    "*intersection* merge strategy.\n",
    "\n",
    "For this default *inner* merge strategy, `merge` first found all the flavor\n",
    "labels in `cones['Flavor']`:"
   ]
  },
  {
   "cell_type": "code",
   "execution_count": null,
   "id": "6314b4a9",
   "metadata": {},
   "outputs": [],
   "source": [
    "# Different values in cones['Flavor']\n",
    "cone_flavors = cones['Flavor'].unique()\n",
    "cone_flavors"
   ]
  },
  {
   "cell_type": "markdown",
   "id": "081e1b2d",
   "metadata": {},
   "source": [
    "Then it found all the flavors in `average_review` `'Flavor'` \"column\" (in this case it found the index):"
   ]
  },
  {
   "cell_type": "code",
   "execution_count": null,
   "id": "7dc32cad",
   "metadata": {},
   "outputs": [],
   "source": [
    "# Different values in average_reviews 'Flavor' - here, the Index\n",
    "review_flavors = average_review.index.unique()\n",
    "review_flavors"
   ]
  },
  {
   "cell_type": "markdown",
   "id": "0698e86a",
   "metadata": {},
   "source": [
    "Next `merge` found all the `Flavor` values that are present in *both* data frames.  We can call this the *intersection* of the two sets of values.  Python has a `set` type to work out intersections and other set operations."
   ]
  },
  {
   "cell_type": "code",
   "execution_count": null,
   "id": "2d6ed6b0",
   "metadata": {},
   "outputs": [],
   "source": [
    "flavors_in_both = set(cone_flavors).intersection(review_flavors)\n",
    "flavors_in_both"
   ]
  },
  {
   "cell_type": "markdown",
   "id": "074e065b",
   "metadata": {},
   "source": [
    "Merge then throws away any rows in either table that don't have one of these\n",
    "intersection values in the matching columns.  This is how we lost the `strawberry` row from the `cones` table.\n",
    "\n",
    "This *inner* or *intersection* strategy is often useful — that is why it is the\n",
    "default.  But we may want to do something different.  For example, we may want to keep flavors that don't have reviews in our merge result, but get a missing value for the review score.  One way of doing that is the *left* merge strategy.  Here merge keeps all rows from from the left data frame, but, for each row where there is no corresponding label in the right data frame, it fills the row values from the right data frame with missing values."
   ]
  },
  {
   "cell_type": "code",
   "execution_count": null,
   "id": "62cd9380",
   "metadata": {},
   "outputs": [],
   "source": [
    "# A merge using the \"left\" strategy\n",
    "cones.merge(average_review, on='Flavor', how='left')"
   ]
  },
  {
   "cell_type": "markdown",
   "id": "70cc4458",
   "metadata": {},
   "source": [
    "## Merging and column names\n",
    "\n",
    "Sometimes we find ourselves merging two data frames that have column names in common.\n",
    "\n",
    "For example, imagine we had some user reviews from China:"
   ]
  },
  {
   "cell_type": "code",
   "execution_count": null,
   "id": "4491dd67",
   "metadata": {},
   "outputs": [],
   "source": [
    "chinese_reviews = pd.DataFrame()\n",
    "chinese_reviews['Flavor'] = ['vanilla', 'chocolate', 'chocolate']\n",
    "chinese_reviews['Stars'] = [4.5, 3.5, 4]\n",
    "chinese_reviews"
   ]
  },
  {
   "cell_type": "markdown",
   "id": "a128d6a0",
   "metadata": {},
   "source": [
    "Now imagine we want to merge this data frame into the `rated` data frame.  Here's the `rated` data frame:"
   ]
  },
  {
   "cell_type": "code",
   "execution_count": null,
   "id": "7a5eaf16",
   "metadata": {},
   "outputs": [],
   "source": [
    "rated"
   ]
  },
  {
   "cell_type": "markdown",
   "id": "1052fe8c",
   "metadata": {},
   "source": [
    "Notice that `rated` has a `Stars` column, and `chinese_reviews` has a `Stars` column.  Let us see what `merge` does in this situation:"
   ]
  },
  {
   "cell_type": "code",
   "execution_count": null,
   "id": "fd330ad9",
   "metadata": {},
   "outputs": [],
   "source": [
    "china_rated = rated.merge(chinese_reviews, on='Flavor')\n",
    "china_rated"
   ]
  },
  {
   "cell_type": "markdown",
   "id": "a5b1fafd",
   "metadata": {},
   "source": [
    "Pandas detected that both data frames had a column called `Stars` and has renamed them accordingly.  The column from the left data frame (`rated`) has an `_x` suffix, to give `Stars_x`.  The corresponding column from the right data frame has a `_y` suffix: `Stars_y`.\n",
    "\n",
    "You can change these suffixes with the `suffixes` keyword argument:"
   ]
  },
  {
   "cell_type": "code",
   "execution_count": null,
   "id": "c40d36c2",
   "metadata": {},
   "outputs": [],
   "source": [
    "rated.merge(chinese_reviews, on='Flavor', suffixes=['_left', '_right'])"
   ]
  },
  {
   "cell_type": "markdown",
   "id": "951d0e79",
   "metadata": {},
   "source": [
    "## And more\n",
    "\n",
    "There is much more information about merging in the [Python Data Science\n",
    "Handbook merge section](https://jakevdp.github.io/PythonDataScienceHandbook/03.07-merge-and-join.html).\n",
    "\n",
    "{ucb-page}`Joining_Tables_by_Columns`"
   ]
  }
 ],
 "metadata": {
  "anaconda-cloud": {},
  "jupytext": {
   "notebook_metadata_filter": "all,-language_info",
   "split_at_heading": true
  },
  "kernelspec": {
   "display_name": "Python (Pyodide)",
   "name": "python"
  }
 },
 "nbformat": 4,
 "nbformat_minor": 5
}
