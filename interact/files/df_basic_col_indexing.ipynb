{
 "cells": [
  {
   "cell_type": "markdown",
   "id": "0c4a151d",
   "metadata": {},
   "source": [
    "# Selecting columns from DataFrames"
   ]
  },
  {
   "cell_type": "code",
   "execution_count": null,
   "id": "e1acc04a",
   "metadata": {},
   "outputs": [],
   "source": [
    "# Load the Pandas data science library, call it 'pd'\n",
    "import pandas as pd\n",
    "# Turn on a setting to use Pandas more safely.\n",
    "# We will discuss this setting later.\n",
    "pd.set_option('mode.copy_on_write', True)\n",
    "\n",
    "# Load the library for plotting, name it 'plt'\n",
    "import matplotlib.pyplot as plt\n",
    "# Make plots look a little more fancy\n",
    "plt.style.use('fivethirtyeight')"
   ]
  },
  {
   "cell_type": "markdown",
   "id": "ce2926d3",
   "metadata": {},
   "source": [
    "Let us return to the DataFrame we had at the end of the previous notebook [The\n",
    "data frame index](df_index.Rmd)."
   ]
  },
  {
   "cell_type": "code",
   "execution_count": null,
   "id": "da5e16da",
   "metadata": {},
   "outputs": [],
   "source": [
    "# Original data frame before dropping missing values.\n",
    "gender_data = pd.read_csv('data/gender_stats_min.csv')\n",
    "gender_data_no_na = gender_data.dropna()\n",
    "labeled_gdata = gender_data_no_na.set_index('country_code')\n",
    "# Show the result\n",
    "labeled_gdata"
   ]
  },
  {
   "cell_type": "markdown",
   "id": "21e8899b",
   "metadata": {},
   "source": [
    "## Selecting columns\n",
    "\n",
    "You have seen array indexing (in [Selecting with\n",
    "arrays](array_indexing).  You remember that array indexing uses\n",
    "square brackets.  *Indexing* is the technical term for getting data from a\n",
    "value using square brackets.  Data frames also allow indexing.  For example, we\n",
    "often want to get all the data for a single column of the data frame.  To do\n",
    "this, we use the same square bracket notation as we use for array indexing,\n",
    "with the name of the column inside the square brackets."
   ]
  },
  {
   "cell_type": "code",
   "execution_count": null,
   "id": "b310c70a",
   "metadata": {},
   "outputs": [],
   "source": [
    "gdp = labeled_gdata['gdp_us_billion']"
   ]
  },
  {
   "cell_type": "markdown",
   "id": "fbdb0174",
   "metadata": {},
   "source": [
    "Call this *column label indexing*.\n",
    "\n",
    "We all also call this *direct indexing with column labels* or DICL.\n",
    "\n",
    "By *direct indexing* we mean indexing a DataFrame using square brackets after\n",
    "the DataFrame value — the kind of indexing you will be familiar with from\n",
    "arrays. Later we will come across another form of indexing, called *indirect*\n",
    "indexing, but that is for another time.\n",
    "\n",
    "What `type` of value came back from this *direct indexing with column labels*?"
   ]
  },
  {
   "cell_type": "code",
   "execution_count": null,
   "id": "9a6aa5b2",
   "metadata": {},
   "outputs": [],
   "source": [
    "type(gdp)"
   ]
  },
  {
   "cell_type": "markdown",
   "id": "4260e0a7",
   "metadata": {},
   "source": [
    "Pandas sent back a Series value from our selection of the column.  The Series\n",
    "is a Pandas' way of representing a column of data.  Here is the default display\n",
    "for the `gdp` Series:"
   ]
  },
  {
   "cell_type": "code",
   "execution_count": null,
   "id": "0db92708",
   "metadata": {},
   "outputs": [],
   "source": [
    "gdp"
   ]
  },
  {
   "cell_type": "markdown",
   "id": "d4c30240",
   "metadata": {},
   "source": [
    "The display shows the *values* from the column, that you saw previously in the\n",
    "DataFrame `gdp_us_billion` column. You see the values printed on the right.\n",
    "Notice too that the Series has kept the *row labels* from the DataFrame, so\n",
    "each value now has it's corresponding row label.  The index values are on the\n",
    "left.\n",
    "\n",
    "Notice that, if your string specifying the column name does not match a column\n",
    "name exactly, you will get a long error.   This gives you some practice in\n",
    "reading long error messages - skip to the end first, you will often see the\n",
    "most helpful information there."
   ]
  },
  {
   "cell_type": "code",
   "execution_count": null,
   "id": "1106535e",
   "metadata": {
    "lines_to_next_cell": 2,
    "tags": [
     "raises-exception"
    ]
   },
   "outputs": [],
   "source": [
    "# The correct column name is in lower case.\n",
    "labeled_gdata['GDP_US_BILLION']"
   ]
  },
  {
   "cell_type": "markdown",
   "id": "6b5cd582",
   "metadata": {},
   "source": [
    "## GDP and Maternal Mortality Rate"
   ]
  },
  {
   "cell_type": "markdown",
   "id": "eb2aa6f5",
   "metadata": {},
   "source": [
    "There are two ways of getting plots from data in data frames.   Here we use\n",
    "the most basic method, that you have already seen.   Soon, we will get onto [a\n",
    "more elegant plotting method](df_plotting).\n",
    "\n",
    "The `gdp` variable is a sequence of values, so we can do a histogram on these\n",
    "values, as we have done histograms on arrays."
   ]
  },
  {
   "cell_type": "code",
   "execution_count": null,
   "id": "94804acf",
   "metadata": {},
   "outputs": [],
   "source": [
    "plt.hist(gdp)\n",
    "plt.title('Gross Domestic Product (US billion)');"
   ]
  },
  {
   "cell_type": "markdown",
   "id": "f454544b",
   "metadata": {},
   "source": [
    "Now we have had a look at the GDP values, we will look at the values for the\n",
    "Maternal Mortality Rate (MMR).  The MMR is the number of women who die in\n",
    "childbirth for every 100,000 births.  These are the numbers in the\n",
    "`mat_mort_ratio` column."
   ]
  },
  {
   "cell_type": "code",
   "execution_count": null,
   "id": "93ea7535",
   "metadata": {},
   "outputs": [],
   "source": [
    "mmr = labeled_gdata['mat_mort_ratio']\n",
    "mmr"
   ]
  },
  {
   "cell_type": "markdown",
   "id": "8c290ae1",
   "metadata": {},
   "source": [
    "Notice the row labels on the left, and the values from the `mat_mort_ratio`\n",
    "column on the right."
   ]
  },
  {
   "cell_type": "code",
   "execution_count": null,
   "id": "b5645cec",
   "metadata": {},
   "outputs": [],
   "source": [
    "plt.hist(mmr)\n",
    "plt.title('Maternal Mortality Rate');"
   ]
  },
  {
   "cell_type": "markdown",
   "id": "cf6e2c4a",
   "metadata": {},
   "source": [
    "## Selecting more than one column\n",
    "\n",
    "Let us say that we would like to avoid distraction by restricting our data\n",
    "frame to the columns we are interested in.\n",
    "\n",
    "There are our columns labels:"
   ]
  },
  {
   "cell_type": "code",
   "execution_count": null,
   "id": "1b60b3b1",
   "metadata": {},
   "outputs": [],
   "source": [
    "col_labels = list(labeled_gdata)\n",
    "col_labels"
   ]
  },
  {
   "cell_type": "markdown",
   "id": "9c303849",
   "metadata": {},
   "source": [
    "Let us say that, for now, we only want the first three columns.  We can do that\n",
    "with *direct indexing with column labels* (DICL) too.  To do that, we put a\n",
    "*list* of strings between the square brackets, instead of the string with the\n",
    "column name.\n",
    "\n",
    "Here are the column labels we want:"
   ]
  },
  {
   "cell_type": "code",
   "execution_count": null,
   "id": "390452b2",
   "metadata": {},
   "outputs": [],
   "source": [
    "# Select all labels but the last.\n",
    "col_labels_we_want = col_labels[:-1]\n",
    "col_labels_we_want"
   ]
  },
  {
   "cell_type": "markdown",
   "id": "90598fe6",
   "metadata": {},
   "source": [
    "We can select only these columns using direct indexing:"
   ]
  },
  {
   "cell_type": "code",
   "execution_count": null,
   "id": "c3097723",
   "metadata": {},
   "outputs": [],
   "source": [
    "# Direct indexing with a list of column labels\n",
    "thinner_gdata = labeled_gdata[col_labels_we_want]\n",
    "thinner_gdata"
   ]
  },
  {
   "cell_type": "markdown",
   "id": "e61215d6",
   "metadata": {},
   "source": [
    "## Dropping columns\n",
    "\n",
    "We have just used DICL to select the columns we want.  In the case above, we\n",
    "selected three out of the four column labels, and our DICL operation had the\n",
    "effect of dropping the last column.\n",
    "\n",
    "Another way of dropping a column is to use the DataFrame `.drop` method.\n",
    "\n",
    "In fact the `.drop` method allows us to drop *columns and rows*.  To tell `.drop` we want to drop *columns* rather than rows, we use the `column=` keyword argument to `.drop`, like this:"
   ]
  },
  {
   "cell_type": "code",
   "execution_count": null,
   "id": "2da080a8",
   "metadata": {
    "lines_to_next_cell": 2
   },
   "outputs": [],
   "source": [
    "# Drop the population column.\n",
    "thinner_again = labeled_gdata.drop(columns=['population'])\n",
    "thinner_again"
   ]
  },
  {
   "cell_type": "markdown",
   "id": "ae60d287",
   "metadata": {},
   "source": [
    "## Back to GDP and MMR\n",
    "\n",
    "We are interested in the relationship of `gpp` and `mmr`.  Maybe richer\n",
    "countries have better health care, and fewer maternal deaths.\n",
    "\n",
    "Here is a plot, using the standard Matplotlib `scatter`\n",
    "function."
   ]
  },
  {
   "cell_type": "code",
   "execution_count": null,
   "id": "60b9b8dd",
   "metadata": {},
   "outputs": [],
   "source": [
    "plt.scatter(gdp, mmr);\n",
    "plt.title('Maternal Mortality Rate as a function of GDP');"
   ]
  },
  {
   "cell_type": "markdown",
   "id": "33627b32",
   "metadata": {},
   "source": [
    "The scatterplot is not convincing in showing a relationship between GDP and the\n",
    "MMR.  That is puzzling, given the assumption that higher GDP tends to be\n",
    "associated with better healthcare.\n",
    "\n",
    "We need to explore some more.  For example, could it be that, beyond a certain\n",
    "level of GDP, healthcare is good enough to prevent most maternal deaths?  In\n",
    "that case, we might still expect a relationship between GDP and MMR in\n",
    "lower-income countries, but a much weaker relationship for lower-income\n",
    "countries.\n",
    "\n",
    "To go further, we will see what we can do by sorting the DataFrame, and looking\n",
    "at the first and last rows."
   ]
  }
 ],
 "metadata": {
  "jupyterbook": {
   "show_stderr": true
  },
  "jupytext": {
   "formats": "",
   "notebook_metadata_filter": "all,-language_info",
   "split_at_heading": true
  },
  "kernelspec": {
   "display_name": "Python (Pyodide)",
   "name": "python"
  }
 },
 "nbformat": 4,
 "nbformat_minor": 5
}
