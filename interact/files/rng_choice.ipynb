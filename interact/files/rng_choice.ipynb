{
 "cells": [
  {
   "cell_type": "markdown",
   "id": "6ebfcf77",
   "metadata": {},
   "source": [
    "# Random choice"
   ]
  },
  {
   "cell_type": "code",
   "execution_count": null,
   "id": "f70e5712",
   "metadata": {},
   "outputs": [],
   "source": [
    "# Import the array library\n",
    "import numpy as np\n",
    "# Make random number generator.\n",
    "rng = np.random.default_rng()"
   ]
  },
  {
   "cell_type": "markdown",
   "id": "381e8fd9",
   "metadata": {},
   "source": [
    "We are building up to an answer to the [three girls\n",
    "problem](three_girls).  At the end of the [lists\n",
    "page](lists), we found a way to simulate one family, and get a\n",
    "count.\n",
    "\n",
    "Up until now, we have simulated each child in the family by randomly choosing\n",
    "an integer from 0 up to, but not including 2.  Therefore, we are randomly\n",
    "choosing between 0 and 1, like this."
   ]
  },
  {
   "cell_type": "code",
   "execution_count": null,
   "id": "8c3c3ff1",
   "metadata": {},
   "outputs": [],
   "source": [
    "one_child = rng.integers(0, 2)\n",
    "one_child"
   ]
  },
  {
   "cell_type": "markdown",
   "id": "d0022fec",
   "metadata": {},
   "source": [
    "Now we know about function arguments, lists and arrays, we can use a nicer\n",
    "alternative to do the same thing — `rng.choice`.\n",
    "\n",
    "The `choice` method of the Numpy random generator object asks Numpy to choose\n",
    "from the choices you sent it, at random.\n",
    "\n",
    "For example, say we want the `rng` to choose randomly between 0 and 1, we could\n",
    "do this:"
   ]
  },
  {
   "cell_type": "code",
   "execution_count": null,
   "id": "fa0bc7af",
   "metadata": {},
   "outputs": [],
   "source": [
    "# Choose randomly between 0 and 1.\n",
    "alternatives = [0, 1]\n",
    "rng.choice(alternatives)"
   ]
  },
  {
   "cell_type": "markdown",
   "id": "8b5d03a2",
   "metadata": {},
   "source": [
    "## `p` for choices with probabilities"
   ]
  },
  {
   "cell_type": "markdown",
   "id": "ce6b230b",
   "metadata": {},
   "source": [
    "By default, the `choice` method chooses at random from the choice you give,\n",
    "return each choice with the same probability.   In our case, it is returning 0\n",
    "with probability 0.5 and 1 with probability 0.5.\n",
    "\n",
    "However, you can use the `p` keyword argument to tell the function the probabilities to use for each choice.\n",
    "\n",
    "For example, let us return to the [supreme court jury\n",
    "problem](sampling_problem).  Remember, we wanted to simulate\n",
    "a jury of 12 people, where each juror has a 26% chance of being Black.\n",
    "\n",
    "We use 1 to mean Black, and 0 to mean White."
   ]
  },
  {
   "cell_type": "code",
   "execution_count": null,
   "id": "09e78904",
   "metadata": {},
   "outputs": [],
   "source": [
    "# 1 means Black, 0 means White.\n",
    "colors = [1, 0]"
   ]
  },
  {
   "cell_type": "markdown",
   "id": "820074d0",
   "metadata": {},
   "source": [
    "Now we want to select 1 (Black) with probability 0.26 (26%) and 0 (White) with\n",
    "probability 1 - 0.26 = 0.74.  The `p` keyword argument to `choice` allows us to\n",
    "do that:\n"
   ]
  },
  {
   "cell_type": "code",
   "execution_count": null,
   "id": "99f3ca6e",
   "metadata": {},
   "outputs": [],
   "source": [
    "# Select Black with probability 0.26, White with probability 0.74.\n",
    "rng.choice(colors, p=[0.26, 0.74])"
   ]
  },
  {
   "cell_type": "markdown",
   "id": "45379b6c",
   "metadata": {},
   "source": [
    "Run the cell above a few times to persuade yourself that you see 1 about\n",
    "quarter of the time, and 0 otherwise."
   ]
  },
  {
   "cell_type": "markdown",
   "id": "72a6ca50",
   "metadata": {},
   "source": [
    "## Multiple choices with `size`\n",
    "\n",
    "The `choice` method has another useful keyword argument, `size`.  We can use\n",
    "this to ask `choice` to make multiple choices at the same time.  `choice`\n",
    "returns the choices as an array.  For example, say we wanted to choose 12\n",
    "jurors, each with a probability of 0.26 of being 1 (Black).  We could do this:"
   ]
  },
  {
   "cell_type": "code",
   "execution_count": null,
   "id": "996d609e",
   "metadata": {},
   "outputs": [],
   "source": [
    "# Select 12 jurors in one go.\n",
    "rng.choice(colors, p=[0.26, 0.74], size=12)"
   ]
  },
  {
   "cell_type": "markdown",
   "id": "00f12a6f",
   "metadata": {},
   "source": [
    "Now consider the problem of choosing 4 children, each with a probability of 0.5\n",
    "of being a Girl.  Let's do the same as we did before, and use 0 for a boy, and\n",
    "1 for girl."
   ]
  },
  {
   "cell_type": "code",
   "execution_count": null,
   "id": "31187f0f",
   "metadata": {},
   "outputs": [],
   "source": [
    "sexes = [0, 1]\n",
    "children = rng.choice(sexes, p=[0.5, 0.5], size=4)\n",
    "children"
   ]
  },
  {
   "cell_type": "markdown",
   "id": "480d434b",
   "metadata": {},
   "source": [
    "Notice that the default is for `choice` to give equal probability the given\n",
    "choices, so, in this case, we can simply miss out the `p=[0.5, 0.5]` argument\n",
    "and get the same outcome:"
   ]
  },
  {
   "cell_type": "code",
   "execution_count": null,
   "id": "4033cb62",
   "metadata": {
    "lines_to_next_cell": 2
   },
   "outputs": [],
   "source": [
    "# choice selects each option with the same probability unless told otherwise.\n",
    "children = rng.choice(sexes, size=4)\n",
    "children"
   ]
  },
  {
   "cell_type": "markdown",
   "id": "090d2e0a",
   "metadata": {},
   "source": [
    "## `replace` to choose with and without replacement\n",
    "\n",
    "When you take choices from options, you do this in one of two ways:\n",
    "\n",
    "* *With* replacement.\n",
    "* *Without* replacement.\n",
    "\n",
    "So far you have seen the *with* replacement option.  This is the default for `rng.choice`.\n",
    "\n",
    "For example, let's say we want to build a lottery to play with your fellow\n",
    "students.  We want the kind of lottery where you have 10 balls, numbered 0\n",
    "through 9.  You put the balls into a bucket, close your eyes, shake the bucket,\n",
    "then draw one ball, and call out the number.\n",
    "\n",
    "*Then you put that ball back* and repeat the procedure two more times.\n",
    "\n",
    "Each student writes down three numbers from 0 through 9, such as '382' or '919'.\n",
    "\n",
    "The winner is the student who got the exact three numbers that you drew from\n",
    "the bucket.\n",
    "\n",
    "We can simulate the lottery process like this:"
   ]
  },
  {
   "cell_type": "code",
   "execution_count": null,
   "id": "e3f9a41e",
   "metadata": {},
   "outputs": [],
   "source": [
    "balls = np.arange(10)\n",
    "balls"
   ]
  },
  {
   "cell_type": "code",
   "execution_count": null,
   "id": "72b20d4a",
   "metadata": {},
   "outputs": [],
   "source": [
    "drawn = rng.choice(balls, size=3)\n",
    "drawn"
   ]
  },
  {
   "cell_type": "markdown",
   "id": "e1da1470",
   "metadata": {},
   "source": [
    "**For reflection** - if there are 100 students playing, what is the chance that\n",
    "at least one of the 25 will get the exact number?.\n",
    "\n",
    "That is one way to do the lottery process, where we *put the ball back* before\n",
    "drawing the next ball.  In that case, for each digit, you have the same chance\n",
    "of getting each of the numbers 0 through 9.  The is *sampling with\n",
    "replacement*, when we draw the ball and put it back, before doing the next\n",
    "draw.\n",
    "\n",
    "Another option is *sampling without replacement*.  This is where we don't put\n",
    "the drawn ball back, but put it aside.\n",
    "\n",
    "If we do that, that changes the probabilities of the following numbers.\n",
    "Specifically, let us say we draw a 9 first, and put it aside, that means we\n",
    "*cannot* get a 9 for the second and third draws.  For that case, it doesn't\n",
    "make sense to guess '929' as the three numbers, because this cannot happen. And\n",
    "in general, the digits cannot repeat in this case.\n",
    "\n",
    "We can simulate that situation using the `replace=False` option to the\n",
    "`rng.choice` function, like this:"
   ]
  },
  {
   "cell_type": "code",
   "execution_count": null,
   "id": "a98f6868",
   "metadata": {},
   "outputs": [],
   "source": [
    "drawn_without_replacement = rng.choice(balls, size=3, replace=False)\n",
    "drawn_without_replacement"
   ]
  },
  {
   "cell_type": "markdown",
   "id": "01d9fc69",
   "metadata": {},
   "source": [
    "If you run this cell a few times, you will see that you never get repeated\n",
    "digits.\n",
    "\n",
    "Notice that `replace=True` is the default, so these two cells both do sampling\n",
    "*with replacement*, selecting 10 balls at random from the 10 available."
   ]
  },
  {
   "cell_type": "code",
   "execution_count": null,
   "id": "4c9b95c0",
   "metadata": {},
   "outputs": [],
   "source": [
    "# With replacement is the default.\n",
    "rng.choice(balls, size=10)"
   ]
  },
  {
   "cell_type": "code",
   "execution_count": null,
   "id": "6d70d825",
   "metadata": {},
   "outputs": [],
   "source": [
    "# You can also specify replace=True explicitly, for clarity.\n",
    "rng.choice(balls, size=10, replace=True)"
   ]
  },
  {
   "cell_type": "markdown",
   "id": "2cf86f8a",
   "metadata": {},
   "source": [
    "**For reflection** - if there are 100 students playing, what is the chance that\n",
    "at least one of the 25 will get the exact number, if we are sampling without\n",
    "replacement?.\n",
    "\n",
    "One obvious place where we use sampling without replacement, is dealing a\n",
    "deck of cards.  Once we have dealt a particular card, such as the ace of\n",
    "spades, that card cannot be dealt again — it is no longer in the pack from\n",
    "which we are dealing.\n",
    "\n",
    "Sampling without replacement means that we can exhaust our choices.  For\n",
    "example, if we try to draw 11 balls from the 10 available, we will get an\n",
    "error:"
   ]
  },
  {
   "cell_type": "code",
   "execution_count": null,
   "id": "2ac4ce86",
   "metadata": {
    "tags": [
     "raises-exception"
    ]
   },
   "outputs": [],
   "source": [
    "# Exhausting our options.\n",
    "rng.choice(balls, size=11, replace=False)"
   ]
  },
  {
   "cell_type": "markdown",
   "id": "b268f927",
   "metadata": {},
   "source": [
    "If we are drawing *with replacement* we can draw as many balls as we like:"
   ]
  },
  {
   "cell_type": "code",
   "execution_count": null,
   "id": "c4610fd1",
   "metadata": {
    "tags": [
     "raises-exception"
    ]
   },
   "outputs": [],
   "source": [
    "# We can't exhaust our options.\n",
    "rng.choice(balls, size=100, replace=True)"
   ]
  }
 ],
 "metadata": {
  "jupytext": {
   "notebook_metadata_filter": "language_info"
  },
  "kernelspec": {
   "display_name": "Python (Pyodide)",
   "name": "python"
  },
  "language_info": {
   "codemirror_mode": {
    "name": "ipython",
    "version": 3
   },
   "file_extension": ".py",
   "mimetype": "text/x-python",
   "name": "python",
   "nbconvert_exporter": "python",
   "pygments_lexer": "ipython3",
   "version": "3.10.9"
  }
 },
 "nbformat": 4,
 "nbformat_minor": 5
}
