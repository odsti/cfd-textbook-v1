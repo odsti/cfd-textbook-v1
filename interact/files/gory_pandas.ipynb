{
 "cells": [
  {
   "cell_type": "markdown",
   "id": "ef2303a4",
   "metadata": {},
   "source": [
    "# Gory Pandas\n",
    "\n",
    "This notebook is about the difficult, painful, maybe even bloody subject of\n",
    "views and copies when using Pandas.\n",
    "\n",
    "As you will see in the [Pandas safe handling guide](safe_pandas), you can more\n",
    "or less completely avoid this subject if you have a recent Pandas version, and\n",
    "specifically, if you have Pandas version 1.5 or above, by remembering to set\n",
    "the `mode.copy_on_write` option each time you use Pandas.\n",
    "\n",
    "But — if you can't use that option, or you want to understand how Pandas works\n",
    "in more depth, you may find this page useful.\n",
    "\n",
    "The official discussion for these topics are in the [Pandas indexing\n",
    "documentation](https://pandas.pydata.org/pandas-docs/stable/user_guide/indexing.html#returning-a-view-versus-a-copy).\n",
    "If you really want to go deep into the Pandas bowels, you could even try [this\n",
    "StackOverflow answer](https://stackoverflow.com/a/23296545), but be warned,\n",
    "it's dark down there."
   ]
  },
  {
   "cell_type": "code",
   "execution_count": null,
   "id": "8efa2b5e",
   "metadata": {},
   "outputs": [],
   "source": [
    "import numpy as np\n",
    "import pandas as pd\n",
    "# Deliberately not using safe settings for Pandas.\n",
    "# We would normally use the line below (uncommented):\n",
    "# pd.set_option('mode.copy_on_write', True)"
   ]
  },
  {
   "cell_type": "markdown",
   "id": "99fc2d15",
   "metadata": {},
   "source": [
    "This is the course ratings dataset, where the rows are course subjects and the\n",
    "columns include average ratings for all University professors / lecturers\n",
    "teaching that subject. See [the dataset page](data/rate_my_professors) for more detail."
   ]
  },
  {
   "cell_type": "code",
   "execution_count": null,
   "id": "ceefa54a",
   "metadata": {},
   "outputs": [],
   "source": [
    "ratings = pd.read_csv('data/rate_my_course.csv')\n",
    "ratings.head()"
   ]
  },
  {
   "cell_type": "markdown",
   "id": "933284d6",
   "metadata": {},
   "source": [
    "We make a smaller data frame to play with, using `.iloc`."
   ]
  },
  {
   "cell_type": "code",
   "execution_count": null,
   "id": "8e9b0a63",
   "metadata": {},
   "outputs": [],
   "source": [
    "# First three rows, first three columns\n",
    "first_33 = ratings.iloc[:3, :3]\n",
    "first_33"
   ]
  },
  {
   "cell_type": "markdown",
   "id": "214db74b",
   "metadata": {},
   "source": [
    "First consider the following.  `discipline` is a Series that is a *view* of the\n",
    "values in `first_33`."
   ]
  },
  {
   "cell_type": "code",
   "execution_count": null,
   "id": "28f3b0ff",
   "metadata": {},
   "outputs": [],
   "source": [
    "discipline = first_33['Discipline']\n",
    "discipline"
   ]
  },
  {
   "cell_type": "markdown",
   "id": "a9a7d4e2",
   "metadata": {},
   "source": [
    "We can't tell it's a view yet, but this becomes clear when we change the values\n",
    "in `discipline`.  First we change the first value in the Series, and we get\n",
    "a big warning.  See the [Pandas safe handling guide](safe_pandas) for more on this warning."
   ]
  },
  {
   "cell_type": "code",
   "execution_count": null,
   "id": "04e95f13",
   "metadata": {},
   "outputs": [],
   "source": [
    "discipline.iloc[0] = 'Spanglish'"
   ]
  },
  {
   "cell_type": "markdown",
   "id": "e8eb5d04",
   "metadata": {},
   "source": [
    "As expected, the value in `discipline` has changed:"
   ]
  },
  {
   "cell_type": "code",
   "execution_count": null,
   "id": "535e0677",
   "metadata": {},
   "outputs": [],
   "source": [
    "discipline"
   ]
  },
  {
   "cell_type": "markdown",
   "id": "fe5e38f2",
   "metadata": {},
   "source": [
    "Our question now is --- what happened to the values in `first_33` --- the data\n",
    "frame from which we fetched `discipline`.  It turns out that  `discipline` was\n",
    "a *view*. That means that the `discipline` values are the same memory as the\n",
    "`first_33` values, and so we see the changes in `first_33` as well:"
   ]
  },
  {
   "cell_type": "code",
   "execution_count": null,
   "id": "7e85dc2a",
   "metadata": {},
   "outputs": [],
   "source": [
    "first_33"
   ]
  },
  {
   "cell_type": "markdown",
   "id": "04743108",
   "metadata": {},
   "source": [
    "Unfortunately, it can be very difficult to work out whether you have a view or\n",
    "a *copy*.  A copy has *duplicates* of the values, that are in different memory\n",
    "from the original data frame.  In that case, modifying the copy modifies the\n",
    "duplicates, *but not* the original data frame.\n",
    "\n",
    "For example, consider this.  Is this a view or a copy?"
   ]
  },
  {
   "cell_type": "code",
   "execution_count": null,
   "id": "28a98d46",
   "metadata": {},
   "outputs": [],
   "source": [
    "first_row = first_33.iloc[0]\n",
    "first_row"
   ]
  },
  {
   "cell_type": "markdown",
   "id": "3d635916",
   "metadata": {},
   "source": [
    "To test whether it is a view or a copy, we set the first value:"
   ]
  },
  {
   "cell_type": "code",
   "execution_count": null,
   "id": "5925a540",
   "metadata": {},
   "outputs": [],
   "source": [
    "first_row.iloc[0] = 'Franglais'\n",
    "first_row"
   ]
  },
  {
   "cell_type": "markdown",
   "id": "7348c981",
   "metadata": {},
   "source": [
    "Now we look at the data frame from which `first_row` came.   If it was a view,\n",
    "then the original data frame will have changed in the same way as `first_row`.\n",
    "If it was a copy, the original data frame will not change."
   ]
  },
  {
   "cell_type": "code",
   "execution_count": null,
   "id": "99f40e08",
   "metadata": {},
   "outputs": [],
   "source": [
    "first_33"
   ]
  },
  {
   "cell_type": "markdown",
   "id": "77e3f7b2",
   "metadata": {},
   "source": [
    "`first_row` was a copy --- because changing `first_row` did *not* change the\n",
    "original data frame.\n",
    "\n",
    "Maybe you are thinking that you are getting the hang of this, but tarry awhile\n",
    "— there are many ways in which this can be confusing.\n",
    "\n",
    "Look at this bit of code.   Do you think that `first_33` will change?"
   ]
  },
  {
   "cell_type": "code",
   "execution_count": null,
   "id": "d8a3cfae",
   "metadata": {},
   "outputs": [],
   "source": [
    "# Will first_33 change?\n",
    "first_33.iloc[0].iloc[0] = 'Franglais'"
   ]
  },
  {
   "cell_type": "markdown",
   "id": "47d1bbc6",
   "metadata": {},
   "source": [
    "First guess whether `first_33` will change.  Now have a look whether the top\n",
    "left value has changed to 'Franglais'."
   ]
  },
  {
   "cell_type": "code",
   "execution_count": null,
   "id": "2adab786",
   "metadata": {},
   "outputs": [],
   "source": [
    "first_33"
   ]
  },
  {
   "cell_type": "markdown",
   "id": "e38b2389",
   "metadata": {},
   "source": [
    "In fact the code above: `first_33.iloc[0].iloc[0] = 'Franglais'` is exactly\n",
    "equivalent to the code we have already seen above:"
   ]
  },
  {
   "cell_type": "code",
   "execution_count": null,
   "id": "77850e5e",
   "metadata": {},
   "outputs": [],
   "source": [
    "first_row = first_33.iloc[0]\n",
    "first_row.iloc[0] = 'Franglais'"
   ]
  },
  {
   "cell_type": "markdown",
   "id": "a3686aee",
   "metadata": {},
   "source": [
    "Because it is exactly equivalent - it has the same result - it does not change the underlying data frame, even though it looks as if it should."
   ]
  },
  {
   "cell_type": "code",
   "execution_count": null,
   "id": "7375726d",
   "metadata": {},
   "outputs": [],
   "source": [
    "first_33"
   ]
  },
  {
   "cell_type": "markdown",
   "id": "8c54827c",
   "metadata": {},
   "source": [
    "The two versions are equivalent.  You can see that from the following:"
   ]
  },
  {
   "cell_type": "code",
   "execution_count": null,
   "id": "899e40aa",
   "metadata": {},
   "outputs": [],
   "source": [
    "first_33.iloc[0].iloc[0] = 'Franglais'"
   ]
  },
  {
   "cell_type": "markdown",
   "id": "8186c25f",
   "metadata": {},
   "source": [
    "This first causes `first_33.iloc[0]` to make a copy, and after that, the\n",
    "`.iloc[0] = 'Franglais'` works on that copy, but we don't see the result,\n",
    "because we aren't saving the copy anywhere, and it disappears into obscurity\n",
    "when we have run the code.\n",
    "\n",
    "The [Pandas indexing\n",
    "documentation](https://pandas.pydata.org/pandas-docs/stable/user_guide/indexing.html#returning-a-view-versus-a-copy)\n",
    "refers to this as *chained assignment*, in the sense that we first do\n",
    "`first_33.iloc[0]` and then, in a subsequent (chained) assignment, we do\n",
    "`.iloc[0] = 'Franglais'` on the result.  Put another way we are assigning a\n",
    "right-hand-side value to *chain* on the left hand side.\n",
    "\n",
    "The chaining is fairly obvious in the both-at-the-same-time version above, but\n",
    "it can be a harder to spot when the assignments are separated, even by a line,\n",
    "as in:"
   ]
  },
  {
   "cell_type": "code",
   "execution_count": null,
   "id": "2fcbc7eb",
   "metadata": {},
   "outputs": [],
   "source": [
    "first_row = first_33.iloc[0]\n",
    "first_row.iloc[0] = 'Franglais'"
   ]
  },
  {
   "cell_type": "markdown",
   "id": "46bb789f",
   "metadata": {},
   "source": [
    "This version over two lines is exactly equivalent, so is also chained\n",
    "assignment.  It can be even more difficult to spot when the lines are a bit separated:\n",
    "\n",
    "```python\n",
    "first_row = first_33.iloc[0]\n",
    "# Do something\n",
    "# Do something else\n",
    "# And something else again.\n",
    "# And then - the chained assignment!\n",
    "first_row.iloc[0] = 'Franglais'\n",
    "```\n",
    "\n",
    "If you are already feeling confused, the confusion can get worse.  Consider\n",
    "this slight variation on our original `first_33` data frame:"
   ]
  },
  {
   "cell_type": "code",
   "execution_count": null,
   "id": "2951a6c1",
   "metadata": {},
   "outputs": [],
   "source": [
    "# First 3 rows, last three columns.\n",
    "first_3_end_3 = ratings.iloc[:3, 3:]\n",
    "first_3_end_3"
   ]
  },
  {
   "cell_type": "markdown",
   "id": "02d282fc",
   "metadata": {},
   "source": [
    "Knowing what you know now - does the following give a view on the row, or a copy of the row?"
   ]
  },
  {
   "cell_type": "code",
   "execution_count": null,
   "id": "639ede58",
   "metadata": {},
   "outputs": [],
   "source": [
    "first_row_f3e3 = first_3_end_3.iloc[0]\n",
    "first_row_f3e3"
   ]
  },
  {
   "cell_type": "markdown",
   "id": "fa42c9b4",
   "metadata": {},
   "source": [
    "We can check by setting a value on the row."
   ]
  },
  {
   "cell_type": "code",
   "execution_count": null,
   "id": "ebc7ac27",
   "metadata": {},
   "outputs": [],
   "source": [
    "first_row_f3e3.iloc[0] = 99\n",
    "first_row_f3e3"
   ]
  },
  {
   "cell_type": "markdown",
   "id": "452907c1",
   "metadata": {},
   "source": [
    "Now you have guessed, have a look at the output of the cell below.  If\n",
    "`first_row_f3e3` was a view, then the first value in the first column of the\n",
    "underlying data frame --- `first_3_end_3` --- will have changed to 99.  If it\n",
    "was a copy, it will have the value it had before - 3.821866."
   ]
  },
  {
   "cell_type": "code",
   "execution_count": null,
   "id": "e18b997b",
   "metadata": {},
   "outputs": [],
   "source": [
    "first_3_end_3"
   ]
  },
  {
   "cell_type": "markdown",
   "id": "736967fc",
   "metadata": {},
   "source": [
    "Was `first_row_f3e3` a view or a copy?  Did you guess right?\n",
    "\n",
    "The point of all this is to say that - when you take stuff out of a Pandas data\n",
    "frame with indexing, it can be very difficult to predict whether you have\n",
    "a view or a copy, and it can depend what data you have in your date frame.\n",
    "\n",
    "For example, above, we found that if all the data in the data frame are floats,\n",
    "then I get a view, but in our previous data frame -- `first_33` --- that has\n",
    "a mixture of column types, including strings and numbers, I got a copy.\n",
    "\n",
    "The way out of this steaming set of tubes into hell, is to use [safe handling\n",
    "of Pandas](safe_pandas)."
   ]
  }
 ],
 "metadata": {
  "jupytext": {
   "split_at_heading": true
  },
  "kernelspec": {
   "display_name": "Python (Pyodide)",
   "name": "python"
  },
  "orphan": true
 },
 "nbformat": 4,
 "nbformat_minor": 5
}
