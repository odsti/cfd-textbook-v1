{
 "cells": [
  {
   "cell_type": "markdown",
   "id": "8dbba0ce",
   "metadata": {},
   "source": [
    "# What's wrong with root mean squared error for logistic regression?"
   ]
  },
  {
   "cell_type": "code",
   "execution_count": null,
   "id": "1cf229a5",
   "metadata": {
    "tags": [
     "hide-cell"
    ]
   },
   "outputs": [],
   "source": [
    "import numpy as np\n",
    "import pandas as pd\n",
    "# Safe setting for Pandas.  Needs Pandas version >= 1.5.\n",
    "pd.set_option('mode.copy_on_write', True)\n",
    "import matplotlib.pyplot as plt\n",
    "# Make the plots look more fancy.\n",
    "plt.style.use('fivethirtyeight')\n",
    "# Optimization function\n",
    "from scipy.optimize import minimize"
   ]
  },
  {
   "cell_type": "markdown",
   "id": "b7f1c001",
   "metadata": {},
   "source": [
    "This page gives some extra explanation for the\n",
    "[logistic_regression](logistic_regression) page.\n",
    "\n",
    "Here we say more about why we might prefer the Maximum Likelihood Estimate way\n",
    "of scoring potential fits to the data, to our more usual least squared error.\n",
    "If you want the gory details on this choice, see [this answer on\n",
    "StackOverflow](https://stats.stackexchange.com/a/254067). Here we look at\n",
    "whether this the root mean squared error works well with `minimize`.  The\n",
    "discussion in this page corresponds to the \"computational efficiency\" section\n",
    "of the answer linked above."
   ]
  },
  {
   "cell_type": "markdown",
   "id": "fa813ed7",
   "metadata": {},
   "source": [
    "## The background, the data\n",
    "\n",
    "In that page we were trying to looking at the [chronic kidney disease\n",
    "dataset](data/chronic_kidney_disease), to see if we good predict whether a\n",
    "patient had \"good\" appetite (as opposed to \"poor\" appetite) given that\n",
    "patient's blood hemoglobin concentration."
   ]
  },
  {
   "cell_type": "code",
   "execution_count": null,
   "id": "ca2cf346",
   "metadata": {
    "tags": [
     "hide-cell"
    ]
   },
   "outputs": [],
   "source": [
    "df = pd.read_csv('data/ckd_clean.csv')\n",
    "# Our columns of interest.\n",
    "hgb_app = df.loc[:, ['Hemoglobin', 'Appetite']]\n",
    "# Dummy value column containing 0 for \"poor\" Appetite, 1 for \"good\".\n",
    "hgb_app['appetite_dummy'] = hgb_app['Appetite'].replace(\n",
    "    ['poor', 'good'],\n",
    "    [0, 1])\n",
    "hgb_app.head()"
   ]
  },
  {
   "cell_type": "markdown",
   "id": "8d536b81",
   "metadata": {},
   "source": [
    "We take out the columns we are interested in for our further use:"
   ]
  },
  {
   "cell_type": "code",
   "execution_count": null,
   "id": "d6e76489",
   "metadata": {},
   "outputs": [],
   "source": [
    "# The x (predictor) and y (to-be-predicted) variables.\n",
    "hemoglobin = hgb_app['Hemoglobin']\n",
    "appetite_d = hgb_app['appetite_dummy']"
   ]
  },
  {
   "cell_type": "markdown",
   "id": "c9e23688",
   "metadata": {},
   "source": [
    "Here is a plot of the 0 / 1 appetite values"
   ]
  },
  {
   "cell_type": "code",
   "execution_count": null,
   "id": "e2569975",
   "metadata": {
    "tags": [
     "hide-cell"
    ]
   },
   "outputs": [],
   "source": [
    "def plot_hgb_app():\n",
    "    # Build plot, add custom label.\n",
    "    colors = hgb_app['Appetite'].replace(['poor', 'good'], ['red', 'blue'])\n",
    "    hgb_app.plot.scatter('Hemoglobin', 'appetite_dummy', c=colors)\n",
    "    plt.ylabel('Appetite\\n0 = poor, 1 = good')\n",
    "    plt.yticks([0,1]);  # Just label 0 and 1 on the y axis.\n",
    "    # Put a custom legend on the plot.  This code is a little obscure.\n",
    "    plt.scatter([], [], c='blue', label='good')\n",
    "    plt.scatter([], [], c='red', label='poor')\n",
    "\n",
    "plot_hgb_app()\n",
    "plt.legend();"
   ]
  },
  {
   "cell_type": "markdown",
   "id": "f364db68",
   "metadata": {},
   "source": [
    "## Linear regression - the crude approach\n",
    "\n",
    "The crude and brutal approach to predicting these values is to use simple\n",
    "least-squares regression.   We can do this in the usual way by using\n",
    "`scipy.optimize.minimize` with a function that returns the root mean squared\n",
    "error between the straight line predictions and the 0 / 1 labels.  Here's the\n",
    "function from the [Using minimize page](using_minimize.Rmd)."
   ]
  },
  {
   "cell_type": "code",
   "execution_count": null,
   "id": "91c2c4fd",
   "metadata": {},
   "outputs": [],
   "source": [
    "def rmse_any_line(c_s, x_values, y_values):\n",
    "    # c_s is a list containing two elements, an intercept and a slope.\n",
    "    intercept, slope = c_s\n",
    "    # Values predicted from these x_values, using this intercept and slope.\n",
    "    predicted = intercept + x_values * slope\n",
    "    # Difference of prediction from the actual y values.\n",
    "    error = y_values - predicted\n",
    "    # Root mean squared error.\n",
    "    return np.sqrt(np.mean(error ** 2))"
   ]
  },
  {
   "cell_type": "markdown",
   "id": "e4898753",
   "metadata": {},
   "source": [
    "Start with a guess of intercept -0.5, slope 0.1:"
   ]
  },
  {
   "cell_type": "code",
   "execution_count": null,
   "id": "16aa322c",
   "metadata": {},
   "outputs": [],
   "source": [
    "# Use cost function with minimize.\n",
    "mr_ss = minimize(rmse_any_line, [-0.5, 0.1], args=(hemoglobin, appetite_d))\n",
    "mr_ss"
   ]
  },
  {
   "cell_type": "markdown",
   "id": "53b74712",
   "metadata": {},
   "source": [
    "Store the slope and intercept, predict the values directly from the straight line:"
   ]
  },
  {
   "cell_type": "code",
   "execution_count": null,
   "id": "138dd645",
   "metadata": {},
   "outputs": [],
   "source": [
    "inter_ss, slope_ss = mr_ss.x\n",
    "predicted_ss = inter_ss + slope_ss * hemoglobin"
   ]
  },
  {
   "cell_type": "markdown",
   "id": "53eabee7",
   "metadata": {},
   "source": [
    "Show the results:"
   ]
  },
  {
   "cell_type": "code",
   "execution_count": null,
   "id": "29b00319",
   "metadata": {
    "tags": [
     "hide-cell"
    ]
   },
   "outputs": [],
   "source": [
    "# Do the base plot of the hemoglobin and appetite_d.\n",
    "plot_hgb_app()\n",
    "\n",
    "# A new plot on top of the old.\n",
    "plt.scatter(hemoglobin, predicted_ss,\n",
    "            label='LR prediction',\n",
    "            color='orange')\n",
    "plt.title(\"Linear regression with root mean squares\")\n",
    "# Show the legend.\n",
    "plt.legend();"
   ]
  },
  {
   "cell_type": "markdown",
   "id": "efd038d8",
   "metadata": {},
   "source": [
    "Let us remind ourselves of how the root mean squared error values change as we\n",
    "change the slope and the intercept.  First we hold the slope constant at a\n",
    "fairly bad guess of 0.1, and try different intercepts.  For each intercept we\n",
    "calculate the root mean squared error:"
   ]
  },
  {
   "cell_type": "code",
   "execution_count": null,
   "id": "96a936d7",
   "metadata": {},
   "outputs": [],
   "source": [
    "# Some intercepts to try.\n",
    "intercepts = np.linspace(-2, 1, 1000)\n",
    "n_inters = len(intercepts)\n",
    "rmse_errors = np.zeros(n_inters)\n",
    "for i in np.arange(n_inters):\n",
    "    rmse_errors[i] = rmse_any_line([intercepts[i], 0.1], hemoglobin, appetite_d)\n",
    "plt.scatter(intercepts, rmse_errors)\n",
    "plt.xlabel('intercept')\n",
    "plt.ylabel('Linear SS error')\n",
    "plt.title(\"Errors for different intercepts, slope 0.1\")"
   ]
  },
  {
   "cell_type": "markdown",
   "id": "882dd294",
   "metadata": {},
   "source": [
    "Notice the very simple shape of this curve.  It is a V-shape, turning into a\n",
    "parabola at the bottom. The curve descends steeply for values far from the\n",
    "minimum, and more slowly when it gets closer. This is a curve that `minimize`\n",
    "finds it very easy to work with, because every time it tries an intercept (in\n",
    "this case), the direction (up, down) of the curve tells `minimize` what\n",
    "direction to go next.  If the curve is going down at this point, it should try\n",
    "a larger (more positive) intercept value; if the curve is going up, it should\n",
    "try a smaller (more negative) intercept. The up/down-ness of the curve tells\n",
    "`minimize` the right way to go, and this direction is always correct.  You may\n",
    "also have noticed that this V-shape / parabola form is always the same for\n",
    "these simple least squares-related functions, like `rmse_any_line`.\n",
    "\n",
    "Just to illustrate again, here we try holding the intercept constant at a\n",
    "fairly bad guess of 0.5, and vary the slopes.  Notice we get the same helpful V\n",
    "/ parabola shape:"
   ]
  },
  {
   "cell_type": "code",
   "execution_count": null,
   "id": "3e1a1943",
   "metadata": {},
   "outputs": [],
   "source": [
    "# Slopes to try.\n",
    "slopes = np.linspace(-0.25, 0.25, 1000)\n",
    "n_slopes = len(slopes)\n",
    "rmse_errors = np.zeros(n_slopes)\n",
    "for i in np.arange(n_slopes):\n",
    "    rmse_errors[i] = rmse_any_line([0.5, slopes[i]], hemoglobin, appetite_d)\n",
    "plt.scatter(slopes, rmse_errors)\n",
    "plt.xlabel('slope')\n",
    "plt.ylabel('Linear SS error')\n",
    "plt.title(\"Errors for different slopes, intercept 0.5\");"
   ]
  },
  {
   "cell_type": "markdown",
   "id": "4919ea88",
   "metadata": {},
   "source": [
    "These are plots of how the value of the *cost function* changes as we change\n",
    "the parameters.  The curves we see above are examples of curves that are\n",
    "[convex](https://en.wikipedia.org/wiki/Convex_function); convex curves like\n",
    "parabolas are particularly easy and quick for `minimize` to work with.\n",
    "\n",
    "We will see that using root mean squared error with our preferred sigmoid\n",
    "prediction generates cost function curves that are a lot more complicated,\n",
    "making it more difficult for `minimize` to find the best parameters.  If we\n",
    "give `minimize` a bad initial guess, it can get the answer badly wrong. Put\n",
    "technically, this is because the cost function curves are not convex.\n"
   ]
  },
  {
   "cell_type": "markdown",
   "id": "752c93a2",
   "metadata": {},
   "source": [
    "## Sigmoid prediction with root mean squares error\n",
    "\n",
    "For the reasons you saw in the [logistic regression page](logistic\n",
    "regression), we recoil from the very simple straight line fit above, and prefer\n",
    "to use a sigmoid curve to fit the 0 / 1 labels.\n",
    "\n",
    "In that page we defined the functions to convert the straight line predictions\n",
    "that we want to use with `minimize` and the sigmoid predictions:"
   ]
  },
  {
   "cell_type": "code",
   "execution_count": null,
   "id": "7b7dd0a6",
   "metadata": {},
   "outputs": [],
   "source": [
    "def inv_logit(y):\n",
    "    \"\"\" Reverse logit transformation\n",
    "    \"\"\"\n",
    "    odds_ratios = np.exp(y)  # Reverse the log operation.\n",
    "    return odds_ratios / (odds_ratios + 1)  # Reverse odds ratios operation.\n",
    "\n",
    "\n",
    "def params2pps(intercept, slope, x):\n",
    "    \"\"\" Calculate predicted probabilities of 1 for each observation.\n",
    "    \"\"\"\n",
    "    # Predicted log odds of being in class 1.\n",
    "    predicted_log_odds = intercept + slope * x\n",
    "    return inv_logit(predicted_log_odds)"
   ]
  },
  {
   "cell_type": "markdown",
   "id": "ece6bd2e",
   "metadata": {},
   "source": [
    "This allowed us to build our root mean square logit cost function.  This\n",
    "function calculates the root mean square difference from the sigmoid\n",
    "predictions and the actual 0 / 1 labels."
   ]
  },
  {
   "cell_type": "code",
   "execution_count": null,
   "id": "b50239a6",
   "metadata": {},
   "outputs": [],
   "source": [
    "def rmse_logit_cost(c_s, x_values, y_values):\n",
    "    # Unpack intercept and slope into values.\n",
    "    intercept, slope = c_s\n",
    "    # Predicted p values on sigmoid\n",
    "    pps = params2pps(intercept, slope, x_values)\n",
    "    # Prediction errors.\n",
    "    sigmoid_error = y_values - pps\n",
    "    # Root mean squared error.\n",
    "    return np.sqrt(np.mean(sigmoid_error ** 2))"
   ]
  },
  {
   "cell_type": "markdown",
   "id": "2da215b7",
   "metadata": {},
   "source": [
    "Then we found our root mean squares best straight line (that corresponds to a\n",
    "sigmoid after transformation).  Notice that we have started `minimize` with a\n",
    "guessed intercept of -7 and a guessed slope of 0.8."
   ]
  },
  {
   "cell_type": "code",
   "execution_count": null,
   "id": "273a643a",
   "metadata": {},
   "outputs": [],
   "source": [
    "mr_rmse_logit = minimize(rmse_logit_cost, [-7, 0.8], args=(hemoglobin, appetite_d))\n",
    "mr_rmse_logit"
   ]
  },
  {
   "cell_type": "markdown",
   "id": "114d1c9a",
   "metadata": {},
   "source": [
    "We can calculate the predicted 0 / 1 labels, and plot them."
   ]
  },
  {
   "cell_type": "code",
   "execution_count": null,
   "id": "d0dc2069",
   "metadata": {},
   "outputs": [],
   "source": [
    "inter_rmse_logit, slope_rmse_logit = mr_rmse_logit.x\n",
    "predicted_rmse_logit = params2pps(inter_rmse_logit, slope_rmse_logit, hemoglobin)"
   ]
  },
  {
   "cell_type": "code",
   "execution_count": null,
   "id": "402e3d92",
   "metadata": {
    "tags": [
     "hide-cell"
    ]
   },
   "outputs": [],
   "source": [
    "plot_hgb_app()\n",
    "# A new plot on top of the old.\n",
    "plt.scatter(hemoglobin, predicted_rmse_logit,\n",
    "            label='Logit ss solution',\n",
    "            color='gold')\n",
    "# Show the legend.\n",
    "plt.legend();"
   ]
  },
  {
   "cell_type": "markdown",
   "id": "b260fe93",
   "metadata": {},
   "source": [
    "Let us have a look at what the cost function curves look like for the\n",
    "`ss_logit_cost` cost function.  For now, let us look at what happens to the\n",
    "cost function curves as we change the intercept, holding the slope the same.\n",
    "\n",
    "Because we will do this several times, with various intercepts and constant\n",
    "slopes, we make a function, so we don't repeat ourselves:"
   ]
  },
  {
   "cell_type": "code",
   "execution_count": null,
   "id": "2571d190",
   "metadata": {},
   "outputs": [],
   "source": [
    "def plot_some_intercepts(cost_function, intercepts, slope):\n",
    "    \"\"\" Plot values of `cost_function` for given `intercepts` and `slope`\n",
    "\n",
    "    Parameters\n",
    "    ----------\n",
    "    cost_function : function\n",
    "        Function to call to get cost function value, given an intercept and a slope.\n",
    "    intercepts : array\n",
    "        Array of intercepts for which to calculate cost function.\n",
    "    slope : number\n",
    "        Slope (held constant for each intercept).\n",
    "    \"\"\"\n",
    "    n = len(intercepts)\n",
    "    ss_errors = np.zeros(n)\n",
    "    for i in np.arange(n):\n",
    "        # Calculate and store cost function value for intercept, slope.\n",
    "        ss_errors[i] = cost_function([intercepts[i], slope],\n",
    "                                     hemoglobin, appetite_d)\n",
    "    plt.plot(intercepts, ss_errors, linewidth=1)\n",
    "    plt.xlabel('intercept')\n",
    "    plt.ylabel('Cost function value');\n",
    "    plt.title('Errors for slope = %.2f' % slope)"
   ]
  },
  {
   "cell_type": "markdown",
   "id": "e16ddef9",
   "metadata": {},
   "source": [
    "Remember the attractive parabolas for the cost function curves in the crude\n",
    "case above, where we were doing simple regression.\n",
    "\n",
    "In the next cell, we set the slope to the best slope that `minimize`\n",
    "found, and show the effect on our `ss_logit_cost` function, when varying the intercept."
   ]
  },
  {
   "cell_type": "code",
   "execution_count": null,
   "id": "1ad218aa",
   "metadata": {},
   "outputs": [],
   "source": [
    "# Cost function curve varying intercept between -20 and 5, for best slope.\n",
    "plot_some_intercepts(rmse_logit_cost, np.linspace(-20, 5, 1000), slope_rmse_logit)"
   ]
  },
  {
   "cell_type": "markdown",
   "id": "9578901b",
   "metadata": {},
   "source": [
    "There is a clear minimum at around -5.2, as we expect from the results above,\n",
    "but we have lost the nice parabola shape.  For intercepts greater than about\n",
    "3, the graph is very flat.  This could spell trouble for `minimize`, if it\n",
    "gets stuck trying a series of intercepts more than 3.  For example, the cost\n",
    "function will stay almost the same as `minimize` tries values around 5, so\n",
    "`minimize` may not discover that it needs to track back to the real minimum,\n",
    "near -5.\n",
    "\n",
    "It can get even worse when trying slopes that are further away from the\n",
    "optimum.  In the next plot, we set the slope badly wrong, at 3, and try different intercepts."
   ]
  },
  {
   "cell_type": "code",
   "execution_count": null,
   "id": "d748b80a",
   "metadata": {},
   "outputs": [],
   "source": [
    "plot_some_intercepts(rmse_logit_cost, np.linspace(-30, 25, 1000), 3)"
   ]
  },
  {
   "cell_type": "markdown",
   "id": "d90c58c7",
   "metadata": {},
   "source": [
    "The plot is a strange shape. Again we see a nasty plateau with intercepts\n",
    "above 0.  If `minimize` is trying intercepts above 0, the cost function may\n",
    "not vary much, and `minimize` may get stuck on this plateau, for example\n",
    "concluding the intercept of 6 is as good as any nearby.\n",
    "\n",
    "An in fact, this does happen if we set very bad starting estimates for\n",
    "`minimize`.  Here we set the starting intercept to be 6, and the starting\n",
    "slope to be 2.5."
   ]
  },
  {
   "cell_type": "code",
   "execution_count": null,
   "id": "fe0a481c",
   "metadata": {},
   "outputs": [],
   "source": [
    "bad_mr_rmse_logit = minimize(rmse_logit_cost, [6, 2.5],\n",
    "                             args=(hemoglobin, appetite_d))\n",
    "bad_mr_rmse_logit"
   ]
  },
  {
   "cell_type": "markdown",
   "id": "c20976c8",
   "metadata": {},
   "source": [
    "You can see that `minimize` has got stuck on the plateau we saw above and has\n",
    "given up, simply returning the terrible intercept and slope we sent it.\n",
    "\n",
    "You can also see that `minimize` did not detect any problems, and returned the\n",
    "message \"Optimization terminated successfully\".\n",
    "\n",
    "We have this problem because of the irregular shape of the cost-function curve\n",
    "for our cost function, that calculates root mean squared error for the sigmoid\n",
    "predictions."
   ]
  },
  {
   "cell_type": "markdown",
   "id": "375c404b",
   "metadata": {},
   "source": [
    "## Back to maximum likelihood\n",
    "\n",
    "The [logistic_regression](logistic_regression) page proposed an alternative\n",
    "cost function for the sigmoid predictions - maximum likelihood.  See that page\n",
    "for details, but here is somewhat cleaned up version the maximum likelihood\n",
    "cost function from the page above."
   ]
  },
  {
   "cell_type": "code",
   "execution_count": null,
   "id": "0001a173",
   "metadata": {},
   "outputs": [],
   "source": [
    "def ml_logit_cost(intercept_and_slope, x, y):\n",
    "    \"\"\" Cost function for maximum likelihood\n",
    "    \"\"\"\n",
    "    intercept, slope = intercept_and_slope\n",
    "    pp1 = params2pps(intercept, slope, x)\n",
    "    p_of_y = y * pp1 + (1 - y) * (1 - pp1)\n",
    "    log_likelihood = np.sum(np.log(p_of_y))\n",
    "    return -log_likelihood"
   ]
  },
  {
   "cell_type": "markdown",
   "id": "0e0e2024",
   "metadata": {},
   "source": [
    "We find the best intercept and slope using the maximum likelihood (ML).  While\n",
    "we are at it, we send in the same terrible estimate for the intercept and\n",
    "slope:"
   ]
  },
  {
   "cell_type": "code",
   "execution_count": null,
   "id": "219f90f9",
   "metadata": {},
   "outputs": [],
   "source": [
    "mr_ML = minimize(ml_logit_cost, [6, 2.5], args=(hemoglobin, appetite_d))\n",
    "mr_ML"
   ]
  },
  {
   "cell_type": "markdown",
   "id": "c27c0765",
   "metadata": {},
   "source": [
    "The fit is reasonable:"
   ]
  },
  {
   "cell_type": "code",
   "execution_count": null,
   "id": "113cfa51",
   "metadata": {},
   "outputs": [],
   "source": [
    "inter_ML, slope_ML = mr_ML.x\n",
    "predicted_ML = inv_logit(inter_ML + slope_ML * hemoglobin)"
   ]
  },
  {
   "cell_type": "code",
   "execution_count": null,
   "id": "420b7bb8",
   "metadata": {
    "tags": [
     "hide-cell"
    ]
   },
   "outputs": [],
   "source": [
    "plot_hgb_app()\n",
    "plt.scatter(hemoglobin, predicted_ML, c='gold', label='ML prediction')\n",
    "plt.legend();"
   ]
  },
  {
   "cell_type": "markdown",
   "id": "24198a60",
   "metadata": {},
   "source": [
    "The ML search by `minimize` is more reliable than the sum-of-squares case\n",
    "above; it is less dependent on us choosing some reasonable starting values.\n",
    "This is because the ML cost function is *convex*. Here is the cost-function\n",
    "curve for the ML cost function, as we vary the intercept for a fixed slope. We\n",
    "see that we have a much more predictable curve, that slopes smoothly downwards\n",
    "to a minimum and smoothly upwards after that."
   ]
  },
  {
   "cell_type": "code",
   "execution_count": null,
   "id": "0070923e",
   "metadata": {},
   "outputs": [],
   "source": [
    "plot_some_intercepts(ml_logit_cost, np.linspace(-30, 25, 1000), slope_rmse_logit)"
   ]
  },
  {
   "cell_type": "markdown",
   "id": "90daea0c",
   "metadata": {},
   "source": [
    "However, this does not mean the ML cost function is infallible.  We can push it\n",
    "to a state where the calculation errors start to overwhelm the values.\n",
    "However, ML still has the advantage, because, unlike the root mean square, we\n",
    "do get a warning:"
   ]
  },
  {
   "cell_type": "code",
   "execution_count": null,
   "id": "6ef7d06c",
   "metadata": {},
   "outputs": [],
   "source": [
    "# Starting estimates too far off.\n",
    "minimize(ml_logit_cost, [6, 3], args=(hemoglobin, appetite_d))"
   ]
  },
  {
   "cell_type": "markdown",
   "id": "a8d32652",
   "metadata": {},
   "source": [
    "## Another example\n",
    "\n",
    "You will find another demonstration of the difference between root mean square\n",
    "and maximum likelihood in [this page on logistic cost\n",
    "functions](logistic_flails)."
   ]
  }
 ],
 "metadata": {
  "jupytext": {
   "notebook_metadata_filter": "all,-language_info",
   "split_at_heading": true
  },
  "kernelspec": {
   "display_name": "Python (Pyodide)",
   "name": "python"
  },
  "orphan": true
 },
 "nbformat": 4,
 "nbformat_minor": 5
}
