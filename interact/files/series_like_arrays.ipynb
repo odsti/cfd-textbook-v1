{
 "cells": [
  {
   "cell_type": "markdown",
   "id": "517fd932",
   "metadata": {},
   "source": [
    "# Series are like arrays\n",
    "\n",
    "In this page, we look at Pandas' Series.  Series are the Pandas type that\n",
    "represents a column of data."
   ]
  },
  {
   "cell_type": "code",
   "execution_count": null,
   "id": "d28842bf",
   "metadata": {},
   "outputs": [],
   "source": [
    "# Load the Numpy array library, call it 'np'\n",
    "import numpy as np\n",
    "# Load the Pandas data science library, call it 'pd'\n",
    "import pandas as pd\n",
    "# Turn on a setting to use Pandas more safely.\n",
    "# We will discuss this setting later.\n",
    "pd.set_option('mode.copy_on_write', True)\n",
    "\n",
    "# Load the library for plotting, name it 'plt'\n",
    "import matplotlib.pyplot as plt\n",
    "# Make plots look a little more fancy\n",
    "plt.style.use('fivethirtyeight')"
   ]
  },
  {
   "cell_type": "markdown",
   "id": "b4a9465a",
   "metadata": {},
   "source": [
    "We return to our original data frame, with the missing values dropped, and the rows labels with the country codes:"
   ]
  },
  {
   "cell_type": "code",
   "execution_count": null,
   "id": "7fb35c86",
   "metadata": {},
   "outputs": [],
   "source": [
    "# Original data frame before dropping missing values.\n",
    "gender_data = pd.read_csv('data/gender_stats_min.csv')\n",
    "gender_data_no_na = gender_data.dropna()\n",
    "labeled_gdata = gender_data_no_na.set_index('country_code')\n",
    "labeled_gdata.head()"
   ]
  },
  {
   "cell_type": "markdown",
   "id": "b6b4ccf2",
   "metadata": {},
   "source": [
    "We found that there was a rather unconvincing relationship between the GDP values, and the Maternal Mortality Rate (MMR) values.\n",
    "\n",
    "First we fetch those values from their corresponding DataFrame columns, using *direct indexing with column labels*:"
   ]
  },
  {
   "cell_type": "code",
   "execution_count": null,
   "id": "66eb71fe",
   "metadata": {},
   "outputs": [],
   "source": [
    "gdp = labeled_gdata['gdp_us_billion']\n",
    "gdp"
   ]
  },
  {
   "cell_type": "code",
   "execution_count": null,
   "id": "2fc954a0",
   "metadata": {},
   "outputs": [],
   "source": [
    "mmr = labeled_gdata['mat_mort_ratio']\n",
    "mmr"
   ]
  },
  {
   "cell_type": "markdown",
   "id": "6e74fe74",
   "metadata": {},
   "source": [
    "We plot the two Series against each other to remind ourselves of the relationship."
   ]
  },
  {
   "cell_type": "code",
   "execution_count": null,
   "id": "93e09c7d",
   "metadata": {},
   "outputs": [],
   "source": [
    "plt.scatter(gdp, mmr)\n",
    "plt.title('Maternal mortality ratio as a function of GDP')"
   ]
  },
  {
   "cell_type": "markdown",
   "id": "41e178b2",
   "metadata": {},
   "source": [
    "Our question was whether the GDP might be a misleading measure, because it will\n",
    "depend, in part, on the population.  More people can earn more money.  We were interested to calculate a GDP value adjusted for the population.\n",
    "\n",
    "But first, let us investigate Series a little more.\n"
   ]
  },
  {
   "cell_type": "markdown",
   "id": "40f40644",
   "metadata": {},
   "source": [
    "## Series have some of the same methods as DataFrames\n",
    "\n",
    "`gdp` is a Series:"
   ]
  },
  {
   "cell_type": "code",
   "execution_count": null,
   "id": "07e1daeb",
   "metadata": {},
   "outputs": [],
   "source": [
    "type(gdp)"
   ]
  },
  {
   "cell_type": "markdown",
   "id": "730dd61d",
   "metadata": {},
   "source": [
    "As the DdataFrame has `.head` and `.tail` methods to show the first 5 and last 5 rows (by default), so the Series has `.head` and `.tail`:"
   ]
  },
  {
   "cell_type": "code",
   "execution_count": null,
   "id": "71459b37",
   "metadata": {},
   "outputs": [],
   "source": [
    "gdp.head()"
   ]
  },
  {
   "cell_type": "code",
   "execution_count": null,
   "id": "fca17b3c",
   "metadata": {},
   "outputs": [],
   "source": [
    "gdp.head(10)"
   ]
  },
  {
   "cell_type": "code",
   "execution_count": null,
   "id": "851ea21b",
   "metadata": {},
   "outputs": [],
   "source": [
    "gdp.tail()"
   ]
  },
  {
   "cell_type": "markdown",
   "id": "175b3975",
   "metadata": {},
   "source": [
    "As you remember we can sort a DataFrame using the `.sort_values` method:"
   ]
  },
  {
   "cell_type": "code",
   "execution_count": null,
   "id": "65b00837",
   "metadata": {},
   "outputs": [],
   "source": [
    "labeled_gdata.sort_values('gdp_us_billion')"
   ]
  },
  {
   "cell_type": "markdown",
   "id": "322fd1ee",
   "metadata": {},
   "source": [
    "This is also true of a Series:"
   ]
  },
  {
   "cell_type": "code",
   "execution_count": null,
   "id": "b34f7785",
   "metadata": {},
   "outputs": [],
   "source": [
    "gdp.sort_values()"
   ]
  },
  {
   "cell_type": "markdown",
   "id": "678e9f4c",
   "metadata": {},
   "source": [
    "Notice that, for the Series, we don't have to give `.sort_values` the column\n",
    "name, because the Series is already the column we want to sort.\n"
   ]
  },
  {
   "cell_type": "markdown",
   "id": "da3b0fc1",
   "metadata": {},
   "source": [
    "## A Series has values and labels\n",
    "\n",
    "A Series is like an array, in that it contains a sequence of values.  In fact, the Series holds that sequence of values in an array.   You can get the sequence of values from the Series with the `np.array` function:"
   ]
  },
  {
   "cell_type": "code",
   "execution_count": null,
   "id": "3402bf39",
   "metadata": {},
   "outputs": [],
   "source": [
    "# The values from a Series as an array\n",
    "np.array(gdp)"
   ]
  },
  {
   "cell_type": "markdown",
   "id": "8a46c6f7",
   "metadata": {},
   "source": [
    "Notice that, by making the Series into an array, we have thrown away to the row\n",
    "labels.\n",
    "\n",
    "The Series also has labels.  These labels correspond to the row labels for the\n",
    "DataFrame, and, like them, you can find the Series labels in the Series\n",
    "`.index` attribute:"
   ]
  },
  {
   "cell_type": "code",
   "execution_count": null,
   "id": "ed1231ec",
   "metadata": {},
   "outputs": [],
   "source": [
    "gdp.index"
   ]
  },
  {
   "cell_type": "markdown",
   "id": "5565c092",
   "metadata": {},
   "source": [
    "Think of the Series as the association of the values (`np.array(gdp)`) and the corresponding labels (`gdp.index`).\n"
   ]
  },
  {
   "cell_type": "markdown",
   "id": "82cb79d0",
   "metadata": {},
   "source": [
    "## Calculations on Series work like calculation on arrays\n",
    "\n",
    "As you remember, calculations on arrays work *elementwise*. For example, if you\n",
    "multiply an array by a number, that has the effect of making a new array, where\n",
    "the result is each element of the original array multiplied by the number.\n",
    "\n",
    "The same is true of calculations on Series.  For example, we might want to calculate the GDP in US *million* dollars instead of its current values in US billion:"
   ]
  },
  {
   "cell_type": "code",
   "execution_count": null,
   "id": "495b83df",
   "metadata": {},
   "outputs": [],
   "source": [
    "# GDP in US million\n",
    "gdp * 1000"
   ]
  },
  {
   "cell_type": "markdown",
   "id": "717d161c",
   "metadata": {},
   "source": [
    "The elementwise calculations also apply to operations on two Series.  In fact, that is the key to solving our problem of getting the GDP values divided by the population.  We make the population DataFrame column into a Series."
   ]
  },
  {
   "cell_type": "code",
   "execution_count": null,
   "id": "45179377",
   "metadata": {},
   "outputs": [],
   "source": [
    "# Population is in millions.\n",
    "pop = labeled_gdata['population']\n",
    "pop"
   ]
  },
  {
   "cell_type": "markdown",
   "id": "1a99ad9d",
   "metadata": {},
   "source": [
    "Then we can use elementwise calculation to divide the values in the two series, elementwise, like this:"
   ]
  },
  {
   "cell_type": "code",
   "execution_count": null,
   "id": "d8261641",
   "metadata": {},
   "outputs": [],
   "source": [
    "# GDP per million people.\n",
    "gdp_per_mcap = gdp / pop\n",
    "gdp_per_mcap"
   ]
  },
  {
   "cell_type": "markdown",
   "id": "0b0fae7d",
   "metadata": {},
   "source": [
    "This is what we wanted, the GDP divided by the population.  Let's see if there\n",
    "is a more convincing relationship between the GDP per million and the MMR:"
   ]
  },
  {
   "cell_type": "code",
   "execution_count": null,
   "id": "8fd83f56",
   "metadata": {},
   "outputs": [],
   "source": [
    "plt.scatter(gdp_per_mcap, mmr)\n",
    "plt.title('MMR as a function of GDP per million people')"
   ]
  },
  {
   "cell_type": "markdown",
   "id": "98d5b007",
   "metadata": {},
   "source": [
    "## You can insert Series as columns into DataFrames\n",
    "\n",
    "Just as you can make a Series by indexing into a DataFrame, you can insert a\n",
    "Series into a DataFrame as a column, by using indexing."
   ]
  },
  {
   "cell_type": "code",
   "execution_count": null,
   "id": "069f32a2",
   "metadata": {},
   "outputs": [],
   "source": [
    "# Insert new column into DataFrame\n",
    "labeled_gdata['gdp_per_mcap'] = gdp_per_mcap\n",
    "labeled_gdata.head()"
   ]
  },
  {
   "cell_type": "markdown",
   "id": "766510d7",
   "metadata": {},
   "source": [
    "Scroll across the DataFrame display to see the new column at the end.\n",
    "\n",
    "Here we inserted the Series into the `labeled_gdata` DataFrame as new column,\n",
    "by using *direct indexing with column label* on the Right Hand Side.  Read the\n",
    "assignment above as \"make a column called 'gdp_per_mcap' in `labeled_gdata` and\n",
    "fill it with the values from the `gdp_per_mcap` Series\".\n",
    "\n",
    "With the Series data in the DataFrame, we can sort the DataFrame by the new GDP per million values:"
   ]
  },
  {
   "cell_type": "code",
   "execution_count": null,
   "id": "7e09abf9",
   "metadata": {},
   "outputs": [],
   "source": [
    "gdata_by_gdp_mcap = labeled_gdata.sort_values('gdp_per_mcap')\n",
    "gdata_by_gdp_mcap.head()"
   ]
  },
  {
   "cell_type": "markdown",
   "id": "a648b888",
   "metadata": {},
   "source": [
    "Let us look to see if sorting this way gives a clearer picture of the relationship of income to MMR.  Get the richest 25 countries in terms of GDP per million:"
   ]
  },
  {
   "cell_type": "code",
   "execution_count": null,
   "id": "5b5f442f",
   "metadata": {},
   "outputs": [],
   "source": [
    "richest_per_mcap_25 = gdata_by_gdp_mcap.tail(25)\n",
    "richest_per_mcap_25"
   ]
  },
  {
   "cell_type": "markdown",
   "id": "0a1cdac9",
   "metadata": {},
   "source": [
    "Plot the relationship of GDP per million and MMR:"
   ]
  },
  {
   "cell_type": "code",
   "execution_count": null,
   "id": "c7ef2d43",
   "metadata": {},
   "outputs": [],
   "source": [
    "plt.scatter(richest_per_mcap_25['gdp_per_mcap'], richest_per_mcap_25['mat_mort_ratio'])\n",
    "plt.title('MMR as function of GDP per million, richest 25')"
   ]
  },
  {
   "cell_type": "markdown",
   "id": "4e1857c9",
   "metadata": {},
   "source": [
    "We might be interested in looking at the richest countries in terms of the MMR, by sorting.  The countries doing best at reducing MMR are first, those doing worst are last."
   ]
  },
  {
   "cell_type": "code",
   "execution_count": null,
   "id": "e1dffc96",
   "metadata": {},
   "outputs": [],
   "source": [
    "richest_per_mcap_25.sort_values('mat_mort_ratio')"
   ]
  },
  {
   "cell_type": "markdown",
   "id": "d614ba1b",
   "metadata": {},
   "source": [
    "Conversely, we might want to take the poorest 75 by GDP per million, and look at the best and worst by MMR:"
   ]
  },
  {
   "cell_type": "code",
   "execution_count": null,
   "id": "fde8f4d3",
   "metadata": {},
   "outputs": [],
   "source": [
    "poorest_by_mcap_75 = gdata_by_gdp_mcap.head(75)\n",
    "poorest_by_mcap_75.sort_values('mat_mort_ratio')"
   ]
  }
 ],
 "metadata": {
  "jupyterbook": {
   "show_stderr": true
  },
  "jupytext": {
   "formats": "",
   "notebook_metadata_filter": "all,-language_info",
   "split_at_heading": true
  },
  "kernelspec": {
   "display_name": "Python (Pyodide)",
   "name": "python"
  }
 },
 "nbformat": 4,
 "nbformat_minor": 5
}
